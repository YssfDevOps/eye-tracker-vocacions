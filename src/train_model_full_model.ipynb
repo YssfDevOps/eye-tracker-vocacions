{
 "cells": [
  {
   "cell_type": "markdown",
   "metadata": {},
   "source": [
    "# Training Predictive Model - Full Model Edition"
   ]
  },
  {
   "cell_type": "markdown",
   "metadata": {},
   "source": [
    "### Import libraries"
   ]
  },
  {
   "cell_type": "code",
   "execution_count": null,
   "metadata": {
    "ExecuteTime": {
     "end_time": "2025-04-06T18:02:55.994945Z",
     "start_time": "2025-04-06T18:02:48.440201Z"
    }
   },
   "outputs": [],
   "source": [
    "import datetime, json, random, IPython, pandas as pd, numpy as np, matplotlib.pyplot as plt\n",
    "from pathlib import Path\n",
    "from PIL import Image\n",
    "from mpl_toolkits.axes_grid1 import ImageGrid\n",
    "import matplotlib.image as mpimg\n",
    "import torch, pytorch_lightning as pl\n",
    "from ray import tune\n",
    "from pytorch_lightning.loggers import TensorBoardLogger\n",
    "\n",
    "from models import GazeDataModule, SingleModel, EyesModel, FullModel\n",
    "from utils  import (\n",
    "    get_config,\n",
    "    tune_asha,\n",
    "    get_best_results,\n",
    "    save_model,\n",
    "    plot_asha_param_grid,\n",
    "    plot_parallel_param_loss,\n",
    "    latest_tune_dir,\n",
    "    _build_datamodule,\n",
    "    _build_model,\n",
    "    predict_screen_errors,\n",
    ")\n",
    "\n",
    "# project settings\n",
    "SETTINGS, COLOURS, EYETRACKER, TF = get_config(\"config.ini\")\n",
    "\n",
    "%load_ext autoreload\n",
    "%autoreload 2\n"
   ]
  },
  {
   "cell_type": "markdown",
   "metadata": {},
   "source": [
    "To fix the \"Import 'mpimg' could not be resolved\" error, you need to install the `matplotlib` library, as `mpimg` is part of `matplotlib.image`. Use the `%pip install` magic command in Jupyter Notebook to install the required package.\n",
    "\n",
    "\n",
    "\n",
    "Made changes."
   ]
  },
  {
   "cell_type": "markdown",
   "metadata": {},
   "source": [
    "To fix the \"Import 'mpimg' could not be resolved\" error, you need to install the `matplotlib` library, as `mpimg` is part of `matplotlib.image`. Use the `%pip install` magic command in Jupyter Notebook to install the required package.\n",
    "\n",
    "\n",
    "\n",
    "Made changes."
   ]
  },
  {
   "cell_type": "markdown",
   "metadata": {},
   "source": [
    "### Dataset information"
   ]
  },
  {
   "cell_type": "code",
   "execution_count": 2,
   "metadata": {
    "ExecuteTime": {
     "end_time": "2025-04-06T18:02:56.009076Z",
     "start_time": "2025-04-06T18:02:56.000947Z"
    }
   },
   "outputs": [
    {
     "name": "stdout",
     "output_type": "stream",
     "text": [
      "# of samples: 20077\n",
      "Coverage: 61.84% of screen surface\n",
      "Crop size: 64 x 64 px\n"
     ]
    }
   ],
   "source": [
    "df = pd.read_csv(\"data/positions.csv\")\n",
    "region_map = np.load(\"data/region_map.npy\").T\n",
    "\n",
    "print(f\"# of samples: {len(df)}\")\n",
    "coverage = np.count_nonzero(region_map > 0) / region_map.size * 100\n",
    "print(f\"Coverage: {coverage:.2f}% of screen surface\")\n",
    "print(f\"Crop size: {SETTINGS['image_size']} x {SETTINGS['image_size']} px\")"
   ]
  },
  {
   "cell_type": "markdown",
   "metadata": {},
   "source": [
    "### Fine Tuning"
   ]
  },
  {
   "cell_type": "code",
   "execution_count": null,
   "metadata": {},
   "outputs": [
    {
     "name": "stderr",
     "output_type": "stream",
     "text": [
      "2025-05-14 23:10:23,479\tINFO worker.py:1852 -- Started a local Ray instance.\n",
      "2025-05-14 23:10:26,712\tINFO tune.py:253 -- Initializing Ray automatically. For cluster usage or custom Ray initialization, call `ray.init(...)` before `tune.run(...)`.\n",
      "2025-05-14 23:10:26,712\tINFO tune.py:616 -- [output] This uses the legacy output and progress reporter, as Jupyter notebooks are not supported by the new engine, yet. For more information, please see https://github.com/ray-project/ray/issues/36949\n"
     ]
    },
    {
     "data": {
      "text/html": [
       "<div class=\"tuneStatus\">\n",
       "  <div style=\"display: flex;flex-direction: row\">\n",
       "    <div style=\"display: flex;flex-direction: column;\">\n",
       "      <h3>Tune Status</h3>\n",
       "      <table>\n",
       "<tbody>\n",
       "<tr><td>Current time:</td><td>2025-05-15 05:25:12</td></tr>\n",
       "<tr><td>Running for: </td><td>06:14:45.76        </td></tr>\n",
       "<tr><td>Memory:      </td><td>14.3/15.3 GiB      </td></tr>\n",
       "</tbody>\n",
       "</table>\n",
       "    </div>\n",
       "    <div class=\"vDivider\"></div>\n",
       "    <div class=\"systemInfo\">\n",
       "      <h3>System Info</h3>\n",
       "      Using AsyncHyperBand: num_stopped=20<br>Bracket: Iter 8.000: -97.2253646850586 | Iter 4.000: -216.28131866455078 | Iter 2.000: -232.87855529785156 | Iter 1.000: -337.58482360839844<br>Logical resource usage: 8.0/12 CPUs, 1.0/1 GPUs (0.0/1.0 accelerator_type:G)\n",
       "    </div>\n",
       "    <div class=\"vDivider\"></div>\n",
       "<div class=\"messages\">\n",
       "  <h3>Messages</h3>\n",
       "  : ***LOW MEMORY*** less than 10% of the memory on this node is available for use. This can cause unexpected crashes. Consider reducing the memory used by your application or reducing the Ray object store size by setting `object_store_memory` when calling `ray.init`.\n",
       "  \n",
       "  \n",
       "</div>\n",
       "<style>\n",
       ".messages {\n",
       "  color: var(--jp-ui-font-color1);\n",
       "  display: flex;\n",
       "  flex-direction: column;\n",
       "  padding-left: 1em;\n",
       "  overflow-y: auto;\n",
       "}\n",
       ".messages h3 {\n",
       "  font-weight: bold;\n",
       "}\n",
       ".vDivider {\n",
       "  border-left-width: var(--jp-border-width);\n",
       "  border-left-color: var(--jp-border-color0);\n",
       "  border-left-style: solid;\n",
       "  margin: 0.5em 1em 0.5em 1em;\n",
       "}\n",
       "</style>\n",
       "\n",
       "  </div>\n",
       "  <div class=\"hDivider\"></div>\n",
       "  <div class=\"trialStatus\">\n",
       "    <h3>Trial Status</h3>\n",
       "    <table>\n",
       "<thead>\n",
       "<tr><th>Trial name               </th><th>status    </th><th>loc            </th><th style=\"text-align: right;\">  bs</th><th>eye_channels  </th><th>face_channels  </th><th>head_pos_channels  </th><th style=\"text-align: right;\">  hidden</th><th style=\"text-align: right;\">         lr</th><th style=\"text-align: right;\">  seed</th><th style=\"text-align: right;\">  iter</th><th style=\"text-align: right;\">  total time (s)</th><th style=\"text-align: right;\">    loss</th><th style=\"text-align: right;\">     mae</th></tr>\n",
       "</thead>\n",
       "<tbody>\n",
       "<tr><td>_tune_wrapper_db971_00000</td><td>TERMINATED</td><td>127.0.0.1:29144</td><td style=\"text-align: right;\"> 256</td><td>(48, 96, 192) </td><td>(48, 96, 192)  </td><td>(24, 48, 96)       </td><td style=\"text-align: right;\">     768</td><td style=\"text-align: right;\">0.000287712</td><td style=\"text-align: right;\">   801</td><td style=\"text-align: right;\">    15</td><td style=\"text-align: right;\">        1839.43 </td><td style=\"text-align: right;\">150.262 </td><td style=\"text-align: right;\">150.762 </td></tr>\n",
       "<tr><td>_tune_wrapper_db971_00001</td><td>TERMINATED</td><td>127.0.0.1:24172</td><td style=\"text-align: right;\">  64</td><td>(48, 96, 192) </td><td>(48, 96, 192)  </td><td>(16, 32, 64)       </td><td style=\"text-align: right;\">     256</td><td style=\"text-align: right;\">0.000209685</td><td style=\"text-align: right;\">  5498</td><td style=\"text-align: right;\">    15</td><td style=\"text-align: right;\">        2099.53 </td><td style=\"text-align: right;\"> 68.7466</td><td style=\"text-align: right;\"> 69.2452</td></tr>\n",
       "<tr><td>_tune_wrapper_db971_00002</td><td>TERMINATED</td><td>127.0.0.1:12652</td><td style=\"text-align: right;\"> 128</td><td>(48, 96, 192) </td><td>(32, 64, 128)  </td><td>(24, 48, 96)       </td><td style=\"text-align: right;\">     768</td><td style=\"text-align: right;\">0.000548645</td><td style=\"text-align: right;\">  8184</td><td style=\"text-align: right;\">     4</td><td style=\"text-align: right;\">         754.124</td><td style=\"text-align: right;\">234.48  </td><td style=\"text-align: right;\">234.98  </td></tr>\n",
       "<tr><td>_tune_wrapper_db971_00003</td><td>TERMINATED</td><td>127.0.0.1:21696</td><td style=\"text-align: right;\">  64</td><td>(48, 96, 192) </td><td>(48, 96, 192)  </td><td>(16, 32, 64)       </td><td style=\"text-align: right;\">     256</td><td style=\"text-align: right;\">0.000571477</td><td style=\"text-align: right;\">  5155</td><td style=\"text-align: right;\">    15</td><td style=\"text-align: right;\">        2685.44 </td><td style=\"text-align: right;\"> 63.267 </td><td style=\"text-align: right;\"> 63.7658</td></tr>\n",
       "<tr><td>_tune_wrapper_db971_00004</td><td>TERMINATED</td><td>127.0.0.1:28616</td><td style=\"text-align: right;\"> 256</td><td>(32, 64, 128) </td><td>(48, 96, 192)  </td><td>(24, 48, 96)       </td><td style=\"text-align: right;\">     768</td><td style=\"text-align: right;\">0.000477915</td><td style=\"text-align: right;\">  9451</td><td style=\"text-align: right;\">     1</td><td style=\"text-align: right;\">         281.184</td><td style=\"text-align: right;\">481.281 </td><td style=\"text-align: right;\">481.781 </td></tr>\n",
       "<tr><td>_tune_wrapper_db971_00005</td><td>TERMINATED</td><td>127.0.0.1:27148</td><td style=\"text-align: right;\"> 256</td><td>(48, 96, 192) </td><td>(32, 64, 128)  </td><td>(24, 48, 96)       </td><td style=\"text-align: right;\">     768</td><td style=\"text-align: right;\">0.00266834 </td><td style=\"text-align: right;\">  6829</td><td style=\"text-align: right;\">    15</td><td style=\"text-align: right;\">        2898.92 </td><td style=\"text-align: right;\">105.248 </td><td style=\"text-align: right;\">105.747 </td></tr>\n",
       "<tr><td>_tune_wrapper_db971_00006</td><td>TERMINATED</td><td>127.0.0.1:21456</td><td style=\"text-align: right;\">  64</td><td>(32, 64, 128) </td><td>(32, 64, 128)  </td><td>(24, 48, 96)       </td><td style=\"text-align: right;\">     256</td><td style=\"text-align: right;\">0.000591891</td><td style=\"text-align: right;\">  2442</td><td style=\"text-align: right;\">    15</td><td style=\"text-align: right;\">        2599.04 </td><td style=\"text-align: right;\">128.018 </td><td style=\"text-align: right;\">128.517 </td></tr>\n",
       "<tr><td>_tune_wrapper_db971_00007</td><td>TERMINATED</td><td>127.0.0.1:27532</td><td style=\"text-align: right;\"> 256</td><td>(48, 96, 192) </td><td>(32, 64, 128)  </td><td>(16, 32, 64)       </td><td style=\"text-align: right;\">     512</td><td style=\"text-align: right;\">0.000107588</td><td style=\"text-align: right;\">  9955</td><td style=\"text-align: right;\">     1</td><td style=\"text-align: right;\">         266.487</td><td style=\"text-align: right;\">723.105 </td><td style=\"text-align: right;\">723.604 </td></tr>\n",
       "<tr><td>_tune_wrapper_db971_00008</td><td>TERMINATED</td><td>127.0.0.1:15220</td><td style=\"text-align: right;\">  64</td><td>(32, 64, 128) </td><td>(48, 96, 192)  </td><td>(16, 32, 64)       </td><td style=\"text-align: right;\">     256</td><td style=\"text-align: right;\">0.000257103</td><td style=\"text-align: right;\">  9002</td><td style=\"text-align: right;\">     1</td><td style=\"text-align: right;\">         256.109</td><td style=\"text-align: right;\">345.445 </td><td style=\"text-align: right;\">345.945 </td></tr>\n",
       "<tr><td>_tune_wrapper_db971_00009</td><td>TERMINATED</td><td>127.0.0.1:2712 </td><td style=\"text-align: right;\"> 128</td><td>(32, 64, 128) </td><td>(32, 64, 128)  </td><td>(16, 32, 64)       </td><td style=\"text-align: right;\">     512</td><td style=\"text-align: right;\">0.000513744</td><td style=\"text-align: right;\">  5659</td><td style=\"text-align: right;\">     2</td><td style=\"text-align: right;\">         393.867</td><td style=\"text-align: right;\">255.751 </td><td style=\"text-align: right;\">256.25  </td></tr>\n",
       "<tr><td>_tune_wrapper_db971_00010</td><td>TERMINATED</td><td>127.0.0.1:26052</td><td style=\"text-align: right;\"> 256</td><td>(48, 96, 192) </td><td>(32, 64, 128)  </td><td>(16, 32, 64)       </td><td style=\"text-align: right;\">     512</td><td style=\"text-align: right;\">0.000195055</td><td style=\"text-align: right;\">  1055</td><td style=\"text-align: right;\">     1</td><td style=\"text-align: right;\">         268.594</td><td style=\"text-align: right;\">692.527 </td><td style=\"text-align: right;\">693.026 </td></tr>\n",
       "<tr><td>_tune_wrapper_db971_00011</td><td>TERMINATED</td><td>127.0.0.1:22692</td><td style=\"text-align: right;\"> 128</td><td>(32, 64, 128) </td><td>(48, 96, 192)  </td><td>(16, 32, 64)       </td><td style=\"text-align: right;\">     256</td><td style=\"text-align: right;\">0.00122486 </td><td style=\"text-align: right;\">  8039</td><td style=\"text-align: right;\">     4</td><td style=\"text-align: right;\">         720.211</td><td style=\"text-align: right;\">234.371 </td><td style=\"text-align: right;\">234.871 </td></tr>\n",
       "<tr><td>_tune_wrapper_db971_00012</td><td>TERMINATED</td><td>127.0.0.1:23320</td><td style=\"text-align: right;\"> 128</td><td>(48, 96, 192) </td><td>(32, 64, 128)  </td><td>(24, 48, 96)       </td><td style=\"text-align: right;\">     768</td><td style=\"text-align: right;\">0.000321224</td><td style=\"text-align: right;\">  6621</td><td style=\"text-align: right;\">    15</td><td style=\"text-align: right;\">        2880.03 </td><td style=\"text-align: right;\"> 65.319 </td><td style=\"text-align: right;\"> 65.8173</td></tr>\n",
       "<tr><td>_tune_wrapper_db971_00013</td><td>TERMINATED</td><td>127.0.0.1:23188</td><td style=\"text-align: right;\"> 256</td><td>(32, 64, 128) </td><td>(32, 64, 128)  </td><td>(24, 48, 96)       </td><td style=\"text-align: right;\">     512</td><td style=\"text-align: right;\">0.000826961</td><td style=\"text-align: right;\">  2879</td><td style=\"text-align: right;\">     1</td><td style=\"text-align: right;\">         269.901</td><td style=\"text-align: right;\">387.058 </td><td style=\"text-align: right;\">387.558 </td></tr>\n",
       "<tr><td>_tune_wrapper_db971_00014</td><td>TERMINATED</td><td>127.0.0.1:15576</td><td style=\"text-align: right;\"> 128</td><td>(48, 96, 192) </td><td>(48, 96, 192)  </td><td>(16, 32, 64)       </td><td style=\"text-align: right;\">     768</td><td style=\"text-align: right;\">0.00248095 </td><td style=\"text-align: right;\">  6304</td><td style=\"text-align: right;\">     8</td><td style=\"text-align: right;\">        1482.64 </td><td style=\"text-align: right;\">100.513 </td><td style=\"text-align: right;\">101.011 </td></tr>\n",
       "<tr><td>_tune_wrapper_db971_00015</td><td>TERMINATED</td><td>127.0.0.1:8580 </td><td style=\"text-align: right;\"> 128</td><td>(32, 64, 128) </td><td>(48, 96, 192)  </td><td>(16, 32, 64)       </td><td style=\"text-align: right;\">     768</td><td style=\"text-align: right;\">0.000408482</td><td style=\"text-align: right;\">  7617</td><td style=\"text-align: right;\">     1</td><td style=\"text-align: right;\">         256.766</td><td style=\"text-align: right;\">329.779 </td><td style=\"text-align: right;\">330.279 </td></tr>\n",
       "<tr><td>_tune_wrapper_db971_00016</td><td>TERMINATED</td><td>127.0.0.1:4600 </td><td style=\"text-align: right;\"> 128</td><td>(32, 64, 128) </td><td>(32, 64, 128)  </td><td>(24, 48, 96)       </td><td style=\"text-align: right;\">     256</td><td style=\"text-align: right;\">0.000150619</td><td style=\"text-align: right;\">  2836</td><td style=\"text-align: right;\">     1</td><td style=\"text-align: right;\">         269.701</td><td style=\"text-align: right;\">680.076 </td><td style=\"text-align: right;\">680.576 </td></tr>\n",
       "<tr><td>_tune_wrapper_db971_00017</td><td>TERMINATED</td><td>127.0.0.1:25088</td><td style=\"text-align: right;\">  64</td><td>(48, 96, 192) </td><td>(48, 96, 192)  </td><td>(16, 32, 64)       </td><td style=\"text-align: right;\">     256</td><td style=\"text-align: right;\">0.000273606</td><td style=\"text-align: right;\">  5366</td><td style=\"text-align: right;\">     8</td><td style=\"text-align: right;\">        1480.23 </td><td style=\"text-align: right;\">180.767 </td><td style=\"text-align: right;\">181.266 </td></tr>\n",
       "<tr><td>_tune_wrapper_db971_00018</td><td>TERMINATED</td><td>127.0.0.1:14328</td><td style=\"text-align: right;\"> 128</td><td>(32, 64, 128) </td><td>(48, 96, 192)  </td><td>(24, 48, 96)       </td><td style=\"text-align: right;\">     768</td><td style=\"text-align: right;\">0.00018946 </td><td style=\"text-align: right;\">  2586</td><td style=\"text-align: right;\">     1</td><td style=\"text-align: right;\">         276.45 </td><td style=\"text-align: right;\">516.464 </td><td style=\"text-align: right;\">516.964 </td></tr>\n",
       "<tr><td>_tune_wrapper_db971_00019</td><td>TERMINATED</td><td>127.0.0.1:23488</td><td style=\"text-align: right;\"> 256</td><td>(48, 96, 192) </td><td>(48, 96, 192)  </td><td>(16, 32, 64)       </td><td style=\"text-align: right;\">     512</td><td style=\"text-align: right;\">0.000838968</td><td style=\"text-align: right;\">  4108</td><td style=\"text-align: right;\">     1</td><td style=\"text-align: right;\">         278.018</td><td style=\"text-align: right;\">345.39  </td><td style=\"text-align: right;\">345.89  </td></tr>\n",
       "</tbody>\n",
       "</table>\n",
       "  </div>\n",
       "</div>\n",
       "<style>\n",
       ".tuneStatus {\n",
       "  color: var(--jp-ui-font-color1);\n",
       "}\n",
       ".tuneStatus .systemInfo {\n",
       "  display: flex;\n",
       "  flex-direction: column;\n",
       "}\n",
       ".tuneStatus td {\n",
       "  white-space: nowrap;\n",
       "}\n",
       ".tuneStatus .trialStatus {\n",
       "  display: flex;\n",
       "  flex-direction: column;\n",
       "}\n",
       ".tuneStatus h3 {\n",
       "  font-weight: bold;\n",
       "}\n",
       ".tuneStatus .hDivider {\n",
       "  border-bottom-width: var(--jp-border-width);\n",
       "  border-bottom-color: var(--jp-border-color0);\n",
       "  border-bottom-style: solid;\n",
       "}\n",
       ".tuneStatus .vDivider {\n",
       "  border-left-width: var(--jp-border-width);\n",
       "  border-left-color: var(--jp-border-color0);\n",
       "  border-left-style: solid;\n",
       "  margin: 0.5em 1em 0.5em 1em;\n",
       "}\n",
       "</style>\n"
      ],
      "text/plain": [
       "<IPython.core.display.HTML object>"
      ]
     },
     "metadata": {},
     "output_type": "display_data"
    },
    {
     "name": "stderr",
     "output_type": "stream",
     "text": [
      "\u001b[36m(_tune_wrapper pid=29144)\u001b[0m Seed set to 801\n",
      "\u001b[36m(_tune_wrapper pid=29144)\u001b[0m Using bfloat16 Automatic Mixed Precision (AMP)\n",
      "\u001b[36m(_tune_wrapper pid=29144)\u001b[0m GPU available: True (cuda), used: True\n",
      "\u001b[36m(_tune_wrapper pid=29144)\u001b[0m TPU available: False, using: 0 TPU cores\n",
      "\u001b[36m(_tune_wrapper pid=29144)\u001b[0m HPU available: False, using: 0 HPUs\n",
      "\u001b[36m(_tune_wrapper pid=29144)\u001b[0m LOCAL_RANK: 0 - CUDA_VISIBLE_DEVICES: [0]\n",
      "\u001b[36m(_tune_wrapper pid=29144)\u001b[0m \n",
      "\u001b[36m(_tune_wrapper pid=29144)\u001b[0m   | Name       | Type              | Params | Mode  | In sizes       | Out sizes     \n",
      "\u001b[36m(_tune_wrapper pid=29144)\u001b[0m -------------------------------------------------------------------------------------------\n",
      "\u001b[36m(_tune_wrapper pid=29144)\u001b[0m 0 | criterion  | SmoothL1Loss      | 0      | train | ?              | ?             \n",
      "\u001b[36m(_tune_wrapper pid=29144)\u001b[0m 1 | mae        | MeanAbsoluteError | 0      | train | ?              | ?             \n",
      "\u001b[36m(_tune_wrapper pid=29144)\u001b[0m 2 | mse        | MeanSquaredError  | 0      | train | ?              | ?             \n",
      "\u001b[36m(_tune_wrapper pid=29144)\u001b[0m 3 | rmse       | MeanSquaredError  | 0      | train | ?              | ?             \n",
      "\u001b[36m(_tune_wrapper pid=29144)\u001b[0m 4 | face_stack | ConvStack         | 209 K  | train | [1, 3, 64, 64] | [1, 192, 1, 1]\n",
      "\u001b[36m(_tune_wrapper pid=29144)\u001b[0m 5 | l_stack    | ConvStack         | 209 K  | train | [1, 3, 64, 64] | [1, 192, 1, 1]\n",
      "\u001b[36m(_tune_wrapper pid=29144)\u001b[0m 6 | r_stack    | ConvStack         | 209 K  | train | [1, 3, 64, 64] | [1, 192, 1, 1]\n",
      "\u001b[36m(_tune_wrapper pid=29144)\u001b[0m 7 | head_stack | ConvStack         | 52.4 K | train | [1, 1, 64, 64] | [1, 96, 1, 1] \n",
      "\u001b[36m(_tune_wrapper pid=29144)\u001b[0m 8 | regressor  | Sequential        | 519 K  | train | [1, 673]       | [1, 2]        \n",
      "\u001b[36m(_tune_wrapper pid=29144)\u001b[0m -------------------------------------------------------------------------------------------\n",
      "\u001b[36m(_tune_wrapper pid=29144)\u001b[0m 1.2 M     Trainable params\n",
      "\u001b[36m(_tune_wrapper pid=29144)\u001b[0m 0         Non-trainable params\n",
      "\u001b[36m(_tune_wrapper pid=29144)\u001b[0m 1.2 M     Total params\n",
      "\u001b[36m(_tune_wrapper pid=29144)\u001b[0m 4.798     Total estimated model params size (MB)\n",
      "\u001b[36m(_tune_wrapper pid=29144)\u001b[0m 76        Modules in train mode\n",
      "\u001b[36m(_tune_wrapper pid=29144)\u001b[0m 0         Modules in eval mode\n"
     ]
    },
    {
     "data": {
      "text/html": [
       "<div class=\"trialProgress\">\n",
       "  <h3>Trial Progress</h3>\n",
       "  <table>\n",
       "<thead>\n",
       "<tr><th>Trial name               </th><th>checkpoint_dir_name  </th><th>date               </th><th>done  </th><th>hostname       </th><th style=\"text-align: right;\">  iterations_since_restore</th><th style=\"text-align: right;\">    loss</th><th style=\"text-align: right;\">     mae</th><th>node_ip  </th><th style=\"text-align: right;\">  pid</th><th>should_checkpoint  </th><th style=\"text-align: right;\">  time_since_restore</th><th style=\"text-align: right;\">  time_this_iter_s</th><th style=\"text-align: right;\">  time_total_s</th><th style=\"text-align: right;\">  timestamp</th><th style=\"text-align: right;\">  training_iteration</th><th>trial_id   </th></tr>\n",
       "</thead>\n",
       "<tbody>\n",
       "<tr><td>_tune_wrapper_db971_00000</td><td>checkpoint_000014    </td><td>2025-05-14_23-41-15</td><td>True  </td><td>DESKTOP-B40NR52</td><td style=\"text-align: right;\">                        15</td><td style=\"text-align: right;\">150.262 </td><td style=\"text-align: right;\">150.762 </td><td>127.0.0.1</td><td style=\"text-align: right;\">29144</td><td>True               </td><td style=\"text-align: right;\">            1839.43 </td><td style=\"text-align: right;\">          200.514 </td><td style=\"text-align: right;\">      1839.43 </td><td style=\"text-align: right;\"> 1747258875</td><td style=\"text-align: right;\">                  15</td><td>db971_00000</td></tr>\n",
       "<tr><td>_tune_wrapper_db971_00001</td><td>checkpoint_000014    </td><td>2025-05-15_00-16-27</td><td>True  </td><td>DESKTOP-B40NR52</td><td style=\"text-align: right;\">                        15</td><td style=\"text-align: right;\"> 68.7466</td><td style=\"text-align: right;\"> 69.2452</td><td>127.0.0.1</td><td style=\"text-align: right;\">24172</td><td>True               </td><td style=\"text-align: right;\">            2099.53 </td><td style=\"text-align: right;\">           84.4342</td><td style=\"text-align: right;\">      2099.53 </td><td style=\"text-align: right;\"> 1747260987</td><td style=\"text-align: right;\">                  15</td><td>db971_00001</td></tr>\n",
       "<tr><td>_tune_wrapper_db971_00002</td><td>checkpoint_000003    </td><td>2025-05-15_00-29-12</td><td>True  </td><td>DESKTOP-B40NR52</td><td style=\"text-align: right;\">                         4</td><td style=\"text-align: right;\">234.48  </td><td style=\"text-align: right;\">234.98  </td><td>127.0.0.1</td><td style=\"text-align: right;\">12652</td><td>True               </td><td style=\"text-align: right;\">             754.124</td><td style=\"text-align: right;\">          184.763 </td><td style=\"text-align: right;\">       754.124</td><td style=\"text-align: right;\"> 1747261752</td><td style=\"text-align: right;\">                   4</td><td>db971_00002</td></tr>\n",
       "<tr><td>_tune_wrapper_db971_00003</td><td>checkpoint_000014    </td><td>2025-05-15_01-14-12</td><td>True  </td><td>DESKTOP-B40NR52</td><td style=\"text-align: right;\">                        15</td><td style=\"text-align: right;\"> 63.267 </td><td style=\"text-align: right;\"> 63.7658</td><td>127.0.0.1</td><td style=\"text-align: right;\">21696</td><td>True               </td><td style=\"text-align: right;\">            2685.44 </td><td style=\"text-align: right;\">          172.297 </td><td style=\"text-align: right;\">      2685.44 </td><td style=\"text-align: right;\"> 1747264452</td><td style=\"text-align: right;\">                  15</td><td>db971_00003</td></tr>\n",
       "<tr><td>_tune_wrapper_db971_00004</td><td>checkpoint_000000    </td><td>2025-05-15_01-19-03</td><td>True  </td><td>DESKTOP-B40NR52</td><td style=\"text-align: right;\">                         1</td><td style=\"text-align: right;\">481.281 </td><td style=\"text-align: right;\">481.781 </td><td>127.0.0.1</td><td style=\"text-align: right;\">28616</td><td>True               </td><td style=\"text-align: right;\">             281.184</td><td style=\"text-align: right;\">          281.184 </td><td style=\"text-align: right;\">       281.184</td><td style=\"text-align: right;\"> 1747264743</td><td style=\"text-align: right;\">                   1</td><td>db971_00004</td></tr>\n",
       "<tr><td>_tune_wrapper_db971_00005</td><td>checkpoint_000014    </td><td>2025-05-15_02-07-32</td><td>True  </td><td>DESKTOP-B40NR52</td><td style=\"text-align: right;\">                        15</td><td style=\"text-align: right;\">105.248 </td><td style=\"text-align: right;\">105.747 </td><td>127.0.0.1</td><td style=\"text-align: right;\">27148</td><td>True               </td><td style=\"text-align: right;\">            2898.92 </td><td style=\"text-align: right;\">          186.131 </td><td style=\"text-align: right;\">      2898.92 </td><td style=\"text-align: right;\"> 1747267652</td><td style=\"text-align: right;\">                  15</td><td>db971_00005</td></tr>\n",
       "<tr><td>_tune_wrapper_db971_00006</td><td>checkpoint_000014    </td><td>2025-05-15_02-51-02</td><td>True  </td><td>DESKTOP-B40NR52</td><td style=\"text-align: right;\">                        15</td><td style=\"text-align: right;\">128.018 </td><td style=\"text-align: right;\">128.517 </td><td>127.0.0.1</td><td style=\"text-align: right;\">21456</td><td>True               </td><td style=\"text-align: right;\">            2599.04 </td><td style=\"text-align: right;\">          166.424 </td><td style=\"text-align: right;\">      2599.04 </td><td style=\"text-align: right;\"> 1747270262</td><td style=\"text-align: right;\">                  15</td><td>db971_00006</td></tr>\n",
       "<tr><td>_tune_wrapper_db971_00007</td><td>checkpoint_000000    </td><td>2025-05-15_02-55-39</td><td>True  </td><td>DESKTOP-B40NR52</td><td style=\"text-align: right;\">                         1</td><td style=\"text-align: right;\">723.105 </td><td style=\"text-align: right;\">723.604 </td><td>127.0.0.1</td><td style=\"text-align: right;\">27532</td><td>True               </td><td style=\"text-align: right;\">             266.487</td><td style=\"text-align: right;\">          266.487 </td><td style=\"text-align: right;\">       266.487</td><td style=\"text-align: right;\"> 1747270539</td><td style=\"text-align: right;\">                   1</td><td>db971_00007</td></tr>\n",
       "<tr><td>_tune_wrapper_db971_00008</td><td>checkpoint_000000    </td><td>2025-05-15_03-00-07</td><td>True  </td><td>DESKTOP-B40NR52</td><td style=\"text-align: right;\">                         1</td><td style=\"text-align: right;\">345.445 </td><td style=\"text-align: right;\">345.945 </td><td>127.0.0.1</td><td style=\"text-align: right;\">15220</td><td>True               </td><td style=\"text-align: right;\">             256.109</td><td style=\"text-align: right;\">          256.109 </td><td style=\"text-align: right;\">       256.109</td><td style=\"text-align: right;\"> 1747270807</td><td style=\"text-align: right;\">                   1</td><td>db971_00008</td></tr>\n",
       "<tr><td>_tune_wrapper_db971_00009</td><td>checkpoint_000001    </td><td>2025-05-15_03-06-52</td><td>True  </td><td>DESKTOP-B40NR52</td><td style=\"text-align: right;\">                         2</td><td style=\"text-align: right;\">255.751 </td><td style=\"text-align: right;\">256.25  </td><td>127.0.0.1</td><td style=\"text-align: right;\"> 2712</td><td>True               </td><td style=\"text-align: right;\">             393.867</td><td style=\"text-align: right;\">          145.332 </td><td style=\"text-align: right;\">       393.867</td><td style=\"text-align: right;\"> 1747271212</td><td style=\"text-align: right;\">                   2</td><td>db971_00009</td></tr>\n",
       "<tr><td>_tune_wrapper_db971_00010</td><td>checkpoint_000000    </td><td>2025-05-15_03-11-31</td><td>True  </td><td>DESKTOP-B40NR52</td><td style=\"text-align: right;\">                         1</td><td style=\"text-align: right;\">692.527 </td><td style=\"text-align: right;\">693.026 </td><td>127.0.0.1</td><td style=\"text-align: right;\">26052</td><td>True               </td><td style=\"text-align: right;\">             268.594</td><td style=\"text-align: right;\">          268.594 </td><td style=\"text-align: right;\">       268.594</td><td style=\"text-align: right;\"> 1747271491</td><td style=\"text-align: right;\">                   1</td><td>db971_00010</td></tr>\n",
       "<tr><td>_tune_wrapper_db971_00011</td><td>checkpoint_000003    </td><td>2025-05-15_03-23-43</td><td>True  </td><td>DESKTOP-B40NR52</td><td style=\"text-align: right;\">                         4</td><td style=\"text-align: right;\">234.371 </td><td style=\"text-align: right;\">234.871 </td><td>127.0.0.1</td><td style=\"text-align: right;\">22692</td><td>True               </td><td style=\"text-align: right;\">             720.211</td><td style=\"text-align: right;\">          154.365 </td><td style=\"text-align: right;\">       720.211</td><td style=\"text-align: right;\"> 1747272223</td><td style=\"text-align: right;\">                   4</td><td>db971_00011</td></tr>\n",
       "<tr><td>_tune_wrapper_db971_00012</td><td>checkpoint_000014    </td><td>2025-05-15_04-11-53</td><td>True  </td><td>DESKTOP-B40NR52</td><td style=\"text-align: right;\">                        15</td><td style=\"text-align: right;\"> 65.319 </td><td style=\"text-align: right;\"> 65.8173</td><td>127.0.0.1</td><td style=\"text-align: right;\">23320</td><td>True               </td><td style=\"text-align: right;\">            2880.03 </td><td style=\"text-align: right;\">          185.243 </td><td style=\"text-align: right;\">      2880.03 </td><td style=\"text-align: right;\"> 1747275113</td><td style=\"text-align: right;\">                  15</td><td>db971_00012</td></tr>\n",
       "<tr><td>_tune_wrapper_db971_00013</td><td>checkpoint_000000    </td><td>2025-05-15_04-16-34</td><td>True  </td><td>DESKTOP-B40NR52</td><td style=\"text-align: right;\">                         1</td><td style=\"text-align: right;\">387.058 </td><td style=\"text-align: right;\">387.558 </td><td>127.0.0.1</td><td style=\"text-align: right;\">23188</td><td>True               </td><td style=\"text-align: right;\">             269.901</td><td style=\"text-align: right;\">          269.901 </td><td style=\"text-align: right;\">       269.901</td><td style=\"text-align: right;\"> 1747275394</td><td style=\"text-align: right;\">                   1</td><td>db971_00013</td></tr>\n",
       "<tr><td>_tune_wrapper_db971_00014</td><td>checkpoint_000007    </td><td>2025-05-15_04-41-28</td><td>True  </td><td>DESKTOP-B40NR52</td><td style=\"text-align: right;\">                         8</td><td style=\"text-align: right;\">100.513 </td><td style=\"text-align: right;\">101.011 </td><td>127.0.0.1</td><td style=\"text-align: right;\">15576</td><td>True               </td><td style=\"text-align: right;\">            1482.64 </td><td style=\"text-align: right;\">          172.569 </td><td style=\"text-align: right;\">      1482.64 </td><td style=\"text-align: right;\"> 1747276888</td><td style=\"text-align: right;\">                   8</td><td>db971_00014</td></tr>\n",
       "<tr><td>_tune_wrapper_db971_00015</td><td>checkpoint_000000    </td><td>2025-05-15_04-45-56</td><td>True  </td><td>DESKTOP-B40NR52</td><td style=\"text-align: right;\">                         1</td><td style=\"text-align: right;\">329.779 </td><td style=\"text-align: right;\">330.279 </td><td>127.0.0.1</td><td style=\"text-align: right;\"> 8580</td><td>True               </td><td style=\"text-align: right;\">             256.766</td><td style=\"text-align: right;\">          256.766 </td><td style=\"text-align: right;\">       256.766</td><td style=\"text-align: right;\"> 1747277156</td><td style=\"text-align: right;\">                   1</td><td>db971_00015</td></tr>\n",
       "<tr><td>_tune_wrapper_db971_00016</td><td>checkpoint_000000    </td><td>2025-05-15_04-50-36</td><td>True  </td><td>DESKTOP-B40NR52</td><td style=\"text-align: right;\">                         1</td><td style=\"text-align: right;\">680.076 </td><td style=\"text-align: right;\">680.576 </td><td>127.0.0.1</td><td style=\"text-align: right;\"> 4600</td><td>True               </td><td style=\"text-align: right;\">             269.701</td><td style=\"text-align: right;\">          269.701 </td><td style=\"text-align: right;\">       269.701</td><td style=\"text-align: right;\"> 1747277436</td><td style=\"text-align: right;\">                   1</td><td>db971_00016</td></tr>\n",
       "<tr><td>_tune_wrapper_db971_00017</td><td>checkpoint_000007    </td><td>2025-05-15_05-15-26</td><td>True  </td><td>DESKTOP-B40NR52</td><td style=\"text-align: right;\">                         8</td><td style=\"text-align: right;\">180.767 </td><td style=\"text-align: right;\">181.266 </td><td>127.0.0.1</td><td style=\"text-align: right;\">25088</td><td>True               </td><td style=\"text-align: right;\">            1480.23 </td><td style=\"text-align: right;\">          172.331 </td><td style=\"text-align: right;\">      1480.23 </td><td style=\"text-align: right;\"> 1747278926</td><td style=\"text-align: right;\">                   8</td><td>db971_00017</td></tr>\n",
       "<tr><td>_tune_wrapper_db971_00018</td><td>checkpoint_000000    </td><td>2025-05-15_05-20-24</td><td>True  </td><td>DESKTOP-B40NR52</td><td style=\"text-align: right;\">                         1</td><td style=\"text-align: right;\">516.464 </td><td style=\"text-align: right;\">516.964 </td><td>127.0.0.1</td><td style=\"text-align: right;\">14328</td><td>True               </td><td style=\"text-align: right;\">             276.45 </td><td style=\"text-align: right;\">          276.45  </td><td style=\"text-align: right;\">       276.45 </td><td style=\"text-align: right;\"> 1747279224</td><td style=\"text-align: right;\">                   1</td><td>db971_00018</td></tr>\n",
       "<tr><td>_tune_wrapper_db971_00019</td><td>checkpoint_000000    </td><td>2025-05-15_05-25-12</td><td>True  </td><td>DESKTOP-B40NR52</td><td style=\"text-align: right;\">                         1</td><td style=\"text-align: right;\">345.39  </td><td style=\"text-align: right;\">345.89  </td><td>127.0.0.1</td><td style=\"text-align: right;\">23488</td><td>True               </td><td style=\"text-align: right;\">             278.018</td><td style=\"text-align: right;\">          278.018 </td><td style=\"text-align: right;\">       278.018</td><td style=\"text-align: right;\"> 1747279512</td><td style=\"text-align: right;\">                   1</td><td>db971_00019</td></tr>\n",
       "</tbody>\n",
       "</table>\n",
       "</div>\n",
       "<style>\n",
       ".trialProgress {\n",
       "  display: flex;\n",
       "  flex-direction: column;\n",
       "  color: var(--jp-ui-font-color1);\n",
       "}\n",
       ".trialProgress h3 {\n",
       "  font-weight: bold;\n",
       "}\n",
       ".trialProgress td {\n",
       "  white-space: nowrap;\n",
       "}\n",
       "</style>\n"
      ],
      "text/plain": [
       "<IPython.core.display.HTML object>"
      ]
     },
     "metadata": {},
     "output_type": "display_data"
    },
    {
     "name": "stderr",
     "output_type": "stream",
     "text": [
      "\u001b[36m(_tune_wrapper pid=29144)\u001b[0m Checkpoint successfully created at: Checkpoint(filesystem=local, path=c:/Users/Youssef/Desktop/TFG/eye-tracker-vocacions/src/logs/full/tune_20250514-231020/db971_00000/checkpoint_000000)\n",
      "\u001b[36m(_tune_wrapper pid=29144)\u001b[0m Checkpoint successfully created at: Checkpoint(filesystem=local, path=c:/Users/Youssef/Desktop/TFG/eye-tracker-vocacions/src/logs/full/tune_20250514-231020/db971_00000/checkpoint_000001)\n",
      "\u001b[36m(_tune_wrapper pid=29144)\u001b[0m Checkpoint successfully created at: Checkpoint(filesystem=local, path=c:/Users/Youssef/Desktop/TFG/eye-tracker-vocacions/src/logs/full/tune_20250514-231020/db971_00000/checkpoint_000002)\n",
      "\u001b[36m(_tune_wrapper pid=29144)\u001b[0m Checkpoint successfully created at: Checkpoint(filesystem=local, path=c:/Users/Youssef/Desktop/TFG/eye-tracker-vocacions/src/logs/full/tune_20250514-231020/db971_00000/checkpoint_000003)\n",
      "\u001b[36m(_tune_wrapper pid=29144)\u001b[0m Checkpoint successfully created at: Checkpoint(filesystem=local, path=c:/Users/Youssef/Desktop/TFG/eye-tracker-vocacions/src/logs/full/tune_20250514-231020/db971_00000/checkpoint_000004)\n",
      "\u001b[36m(_tune_wrapper pid=29144)\u001b[0m Checkpoint successfully created at: Checkpoint(filesystem=local, path=c:/Users/Youssef/Desktop/TFG/eye-tracker-vocacions/src/logs/full/tune_20250514-231020/db971_00000/checkpoint_000005)\n",
      "\u001b[36m(_tune_wrapper pid=29144)\u001b[0m Checkpoint successfully created at: Checkpoint(filesystem=local, path=c:/Users/Youssef/Desktop/TFG/eye-tracker-vocacions/src/logs/full/tune_20250514-231020/db971_00000/checkpoint_000006)\n",
      "\u001b[36m(_tune_wrapper pid=29144)\u001b[0m Checkpoint successfully created at: Checkpoint(filesystem=local, path=c:/Users/Youssef/Desktop/TFG/eye-tracker-vocacions/src/logs/full/tune_20250514-231020/db971_00000/checkpoint_000007)\n",
      "\u001b[36m(_tune_wrapper pid=29144)\u001b[0m Checkpoint successfully created at: Checkpoint(filesystem=local, path=c:/Users/Youssef/Desktop/TFG/eye-tracker-vocacions/src/logs/full/tune_20250514-231020/db971_00000/checkpoint_000008)\n",
      "\u001b[36m(_tune_wrapper pid=29144)\u001b[0m Checkpoint successfully created at: Checkpoint(filesystem=local, path=c:/Users/Youssef/Desktop/TFG/eye-tracker-vocacions/src/logs/full/tune_20250514-231020/db971_00000/checkpoint_000009)\n",
      "\u001b[36m(_tune_wrapper pid=29144)\u001b[0m Checkpoint successfully created at: Checkpoint(filesystem=local, path=c:/Users/Youssef/Desktop/TFG/eye-tracker-vocacions/src/logs/full/tune_20250514-231020/db971_00000/checkpoint_000010)\n",
      "\u001b[36m(_tune_wrapper pid=29144)\u001b[0m Checkpoint successfully created at: Checkpoint(filesystem=local, path=c:/Users/Youssef/Desktop/TFG/eye-tracker-vocacions/src/logs/full/tune_20250514-231020/db971_00000/checkpoint_000011)\n",
      "\u001b[36m(_tune_wrapper pid=29144)\u001b[0m Checkpoint successfully created at: Checkpoint(filesystem=local, path=c:/Users/Youssef/Desktop/TFG/eye-tracker-vocacions/src/logs/full/tune_20250514-231020/db971_00000/checkpoint_000012)\n",
      "\u001b[36m(_tune_wrapper pid=29144)\u001b[0m Checkpoint successfully created at: Checkpoint(filesystem=local, path=c:/Users/Youssef/Desktop/TFG/eye-tracker-vocacions/src/logs/full/tune_20250514-231020/db971_00000/checkpoint_000013)\n",
      "2025-05-14 23:41:15,057\tINFO tensorboardx.py:308 -- Removed the following hyperparameter values when logging to tensorboard: {'face_channels': (48, 96, 192), 'eye_channels': (48, 96, 192), 'head_pos_channels': (24, 48, 96)}\n",
      "\u001b[36m(_tune_wrapper pid=29144)\u001b[0m Checkpoint successfully created at: Checkpoint(filesystem=local, path=c:/Users/Youssef/Desktop/TFG/eye-tracker-vocacions/src/logs/full/tune_20250514-231020/db971_00000/checkpoint_000014)\n",
      "\u001b[36m(_tune_wrapper pid=24172)\u001b[0m Seed set to 5498\n",
      "\u001b[36m(_tune_wrapper pid=24172)\u001b[0m Using bfloat16 Automatic Mixed Precision (AMP)\n",
      "\u001b[36m(_tune_wrapper pid=24172)\u001b[0m GPU available: True (cuda), used: True\n",
      "\u001b[36m(_tune_wrapper pid=24172)\u001b[0m TPU available: False, using: 0 TPU cores\n",
      "\u001b[36m(_tune_wrapper pid=24172)\u001b[0m HPU available: False, using: 0 HPUs\n",
      "\u001b[36m(_tune_wrapper pid=24172)\u001b[0m LOCAL_RANK: 0 - CUDA_VISIBLE_DEVICES: [0]\n",
      "\u001b[36m(_tune_wrapper pid=24172)\u001b[0m \n",
      "\u001b[36m(_tune_wrapper pid=24172)\u001b[0m   | Name       | Type              | Params | Mode  | In sizes       | Out sizes     \n",
      "\u001b[36m(_tune_wrapper pid=24172)\u001b[0m -------------------------------------------------------------------------------------------\n",
      "\u001b[36m(_tune_wrapper pid=24172)\u001b[0m 0 | criterion  | SmoothL1Loss      | 0      | train | ?              | ?             \n",
      "\u001b[36m(_tune_wrapper pid=24172)\u001b[0m 1 | mae        | MeanAbsoluteError | 0      | train | ?              | ?             \n",
      "\u001b[36m(_tune_wrapper pid=24172)\u001b[0m 2 | mse        | MeanSquaredError  | 0      | train | ?              | ?             \n",
      "\u001b[36m(_tune_wrapper pid=24172)\u001b[0m 3 | rmse       | MeanSquaredError  | 0      | train | ?              | ?             \n",
      "\u001b[36m(_tune_wrapper pid=24172)\u001b[0m 4 | face_stack | ConvStack         | 209 K  | train | [1, 3, 64, 64] | [1, 192, 1, 1]\n",
      "\u001b[36m(_tune_wrapper pid=24172)\u001b[0m 5 | l_stack    | ConvStack         | 209 K  | train | [1, 3, 64, 64] | [1, 192, 1, 1]\n",
      "\u001b[36m(_tune_wrapper pid=24172)\u001b[0m 6 | r_stack    | ConvStack         | 209 K  | train | [1, 3, 64, 64] | [1, 192, 1, 1]\n",
      "\u001b[36m(_tune_wrapper pid=24172)\u001b[0m 7 | head_stack | ConvStack         | 23.4 K | train | [1, 1, 64, 64] | [1, 64, 1, 1] \n",
      "\u001b[36m(_tune_wrapper pid=24172)\u001b[0m 8 | regressor  | Sequential        | 164 K  | train | [1, 641]       | [1, 2]        \n",
      "\u001b[36m(_tune_wrapper pid=24172)\u001b[0m -------------------------------------------------------------------------------------------\n",
      "\u001b[36m(_tune_wrapper pid=24172)\u001b[0m 816 K     Trainable params\n",
      "\u001b[36m(_tune_wrapper pid=24172)\u001b[0m 0         Non-trainable params\n",
      "\u001b[36m(_tune_wrapper pid=24172)\u001b[0m 816 K     Total params\n",
      "\u001b[36m(_tune_wrapper pid=24172)\u001b[0m 3.265     Total estimated model params size (MB)\n",
      "\u001b[36m(_tune_wrapper pid=24172)\u001b[0m 76        Modules in train mode\n",
      "\u001b[36m(_tune_wrapper pid=24172)\u001b[0m 0         Modules in eval mode\n",
      "\u001b[36m(_tune_wrapper pid=24172)\u001b[0m Checkpoint successfully created at: Checkpoint(filesystem=local, path=c:/Users/Youssef/Desktop/TFG/eye-tracker-vocacions/src/logs/full/tune_20250514-231020/db971_00001/checkpoint_000000)\n",
      "\u001b[36m(_tune_wrapper pid=24172)\u001b[0m Checkpoint successfully created at: Checkpoint(filesystem=local, path=c:/Users/Youssef/Desktop/TFG/eye-tracker-vocacions/src/logs/full/tune_20250514-231020/db971_00001/checkpoint_000001)\n",
      "\u001b[36m(_tune_wrapper pid=24172)\u001b[0m Checkpoint successfully created at: Checkpoint(filesystem=local, path=c:/Users/Youssef/Desktop/TFG/eye-tracker-vocacions/src/logs/full/tune_20250514-231020/db971_00001/checkpoint_000002)\n",
      "\u001b[36m(_tune_wrapper pid=24172)\u001b[0m Checkpoint successfully created at: Checkpoint(filesystem=local, path=c:/Users/Youssef/Desktop/TFG/eye-tracker-vocacions/src/logs/full/tune_20250514-231020/db971_00001/checkpoint_000003)\n",
      "\u001b[36m(_tune_wrapper pid=24172)\u001b[0m Checkpoint successfully created at: Checkpoint(filesystem=local, path=c:/Users/Youssef/Desktop/TFG/eye-tracker-vocacions/src/logs/full/tune_20250514-231020/db971_00001/checkpoint_000004)\n",
      "\u001b[36m(_tune_wrapper pid=24172)\u001b[0m Checkpoint successfully created at: Checkpoint(filesystem=local, path=c:/Users/Youssef/Desktop/TFG/eye-tracker-vocacions/src/logs/full/tune_20250514-231020/db971_00001/checkpoint_000005)\n",
      "\u001b[36m(_tune_wrapper pid=24172)\u001b[0m Checkpoint successfully created at: Checkpoint(filesystem=local, path=c:/Users/Youssef/Desktop/TFG/eye-tracker-vocacions/src/logs/full/tune_20250514-231020/db971_00001/checkpoint_000006)\n",
      "\u001b[36m(_tune_wrapper pid=24172)\u001b[0m Checkpoint successfully created at: Checkpoint(filesystem=local, path=c:/Users/Youssef/Desktop/TFG/eye-tracker-vocacions/src/logs/full/tune_20250514-231020/db971_00001/checkpoint_000007)\n",
      "\u001b[36m(_tune_wrapper pid=24172)\u001b[0m Checkpoint successfully created at: Checkpoint(filesystem=local, path=c:/Users/Youssef/Desktop/TFG/eye-tracker-vocacions/src/logs/full/tune_20250514-231020/db971_00001/checkpoint_000008)\n",
      "\u001b[36m(_tune_wrapper pid=24172)\u001b[0m Checkpoint successfully created at: Checkpoint(filesystem=local, path=c:/Users/Youssef/Desktop/TFG/eye-tracker-vocacions/src/logs/full/tune_20250514-231020/db971_00001/checkpoint_000009)\n",
      "\u001b[36m(_tune_wrapper pid=24172)\u001b[0m Checkpoint successfully created at: Checkpoint(filesystem=local, path=c:/Users/Youssef/Desktop/TFG/eye-tracker-vocacions/src/logs/full/tune_20250514-231020/db971_00001/checkpoint_000010)\n",
      "\u001b[36m(_tune_wrapper pid=24172)\u001b[0m Checkpoint successfully created at: Checkpoint(filesystem=local, path=c:/Users/Youssef/Desktop/TFG/eye-tracker-vocacions/src/logs/full/tune_20250514-231020/db971_00001/checkpoint_000011)\n",
      "\u001b[36m(_tune_wrapper pid=24172)\u001b[0m Checkpoint successfully created at: Checkpoint(filesystem=local, path=c:/Users/Youssef/Desktop/TFG/eye-tracker-vocacions/src/logs/full/tune_20250514-231020/db971_00001/checkpoint_000012)\n",
      "\u001b[36m(_tune_wrapper pid=24172)\u001b[0m Checkpoint successfully created at: Checkpoint(filesystem=local, path=c:/Users/Youssef/Desktop/TFG/eye-tracker-vocacions/src/logs/full/tune_20250514-231020/db971_00001/checkpoint_000013)\n",
      "2025-05-15 00:16:27,937\tINFO tensorboardx.py:308 -- Removed the following hyperparameter values when logging to tensorboard: {'face_channels': (48, 96, 192), 'eye_channels': (48, 96, 192), 'head_pos_channels': (16, 32, 64)}\n",
      "\u001b[36m(_tune_wrapper pid=24172)\u001b[0m Checkpoint successfully created at: Checkpoint(filesystem=local, path=c:/Users/Youssef/Desktop/TFG/eye-tracker-vocacions/src/logs/full/tune_20250514-231020/db971_00001/checkpoint_000014)\n",
      "\u001b[36m(_tune_wrapper pid=12652)\u001b[0m Seed set to 8184\n",
      "\u001b[36m(_tune_wrapper pid=12652)\u001b[0m Using bfloat16 Automatic Mixed Precision (AMP)\n",
      "\u001b[36m(_tune_wrapper pid=12652)\u001b[0m GPU available: True (cuda), used: True\n",
      "\u001b[36m(_tune_wrapper pid=12652)\u001b[0m TPU available: False, using: 0 TPU cores\n",
      "\u001b[36m(_tune_wrapper pid=12652)\u001b[0m HPU available: False, using: 0 HPUs\n",
      "\u001b[36m(_tune_wrapper pid=12652)\u001b[0m LOCAL_RANK: 0 - CUDA_VISIBLE_DEVICES: [0]\n",
      "\u001b[36m(_tune_wrapper pid=12652)\u001b[0m \n",
      "\u001b[36m(_tune_wrapper pid=12652)\u001b[0m   | Name       | Type              | Params | Mode  | In sizes       | Out sizes     \n",
      "\u001b[36m(_tune_wrapper pid=12652)\u001b[0m -------------------------------------------------------------------------------------------\n",
      "\u001b[36m(_tune_wrapper pid=12652)\u001b[0m 0 | criterion  | SmoothL1Loss      | 0      | train | ?              | ?             \n",
      "\u001b[36m(_tune_wrapper pid=12652)\u001b[0m 1 | mae        | MeanAbsoluteError | 0      | train | ?              | ?             \n",
      "\u001b[36m(_tune_wrapper pid=12652)\u001b[0m 2 | mse        | MeanSquaredError  | 0      | train | ?              | ?             \n",
      "\u001b[36m(_tune_wrapper pid=12652)\u001b[0m 3 | rmse       | MeanSquaredError  | 0      | train | ?              | ?             \n",
      "\u001b[36m(_tune_wrapper pid=12652)\u001b[0m 4 | face_stack | ConvStack         | 93.5 K | train | [1, 3, 64, 64] | [1, 128, 1, 1]\n",
      "\u001b[36m(_tune_wrapper pid=12652)\u001b[0m 5 | l_stack    | ConvStack         | 209 K  | train | [1, 3, 64, 64] | [1, 192, 1, 1]\n",
      "\u001b[36m(_tune_wrapper pid=12652)\u001b[0m 6 | r_stack    | ConvStack         | 209 K  | train | [1, 3, 64, 64] | [1, 192, 1, 1]\n",
      "\u001b[36m(_tune_wrapper pid=12652)\u001b[0m 7 | head_stack | ConvStack         | 52.4 K | train | [1, 1, 64, 64] | [1, 96, 1, 1] \n",
      "\u001b[36m(_tune_wrapper pid=12652)\u001b[0m 8 | regressor  | Sequential        | 470 K  | train | [1, 609]       | [1, 2]        \n",
      "\u001b[36m(_tune_wrapper pid=12652)\u001b[0m -------------------------------------------------------------------------------------------\n",
      "\u001b[36m(_tune_wrapper pid=12652)\u001b[0m 1.0 M     Trainable params\n",
      "\u001b[36m(_tune_wrapper pid=12652)\u001b[0m 0         Non-trainable params\n",
      "\u001b[36m(_tune_wrapper pid=12652)\u001b[0m 1.0 M     Total params\n",
      "\u001b[36m(_tune_wrapper pid=12652)\u001b[0m 4.138     Total estimated model params size (MB)\n",
      "\u001b[36m(_tune_wrapper pid=12652)\u001b[0m 76        Modules in train mode\n",
      "\u001b[36m(_tune_wrapper pid=12652)\u001b[0m 0         Modules in eval mode\n",
      "\u001b[36m(_tune_wrapper pid=12652)\u001b[0m Checkpoint successfully created at: Checkpoint(filesystem=local, path=c:/Users/Youssef/Desktop/TFG/eye-tracker-vocacions/src/logs/full/tune_20250514-231020/db971_00002/checkpoint_000000)\n",
      "\u001b[36m(_tune_wrapper pid=12652)\u001b[0m Checkpoint successfully created at: Checkpoint(filesystem=local, path=c:/Users/Youssef/Desktop/TFG/eye-tracker-vocacions/src/logs/full/tune_20250514-231020/db971_00002/checkpoint_000001)\n",
      "\u001b[36m(_tune_wrapper pid=12652)\u001b[0m Checkpoint successfully created at: Checkpoint(filesystem=local, path=c:/Users/Youssef/Desktop/TFG/eye-tracker-vocacions/src/logs/full/tune_20250514-231020/db971_00002/checkpoint_000002)\n",
      "2025-05-15 00:29:12,968\tINFO tensorboardx.py:308 -- Removed the following hyperparameter values when logging to tensorboard: {'face_channels': (32, 64, 128), 'eye_channels': (48, 96, 192), 'head_pos_channels': (24, 48, 96)}\n",
      "\u001b[36m(_tune_wrapper pid=12652)\u001b[0m Checkpoint successfully created at: Checkpoint(filesystem=local, path=c:/Users/Youssef/Desktop/TFG/eye-tracker-vocacions/src/logs/full/tune_20250514-231020/db971_00002/checkpoint_000003)\n",
      "\u001b[36m(_tune_wrapper pid=21696)\u001b[0m Seed set to 5155\n",
      "\u001b[36m(_tune_wrapper pid=21696)\u001b[0m Using bfloat16 Automatic Mixed Precision (AMP)\n",
      "\u001b[36m(_tune_wrapper pid=21696)\u001b[0m GPU available: True (cuda), used: True\n",
      "\u001b[36m(_tune_wrapper pid=21696)\u001b[0m TPU available: False, using: 0 TPU cores\n",
      "\u001b[36m(_tune_wrapper pid=21696)\u001b[0m HPU available: False, using: 0 HPUs\n",
      "\u001b[36m(_tune_wrapper pid=21696)\u001b[0m LOCAL_RANK: 0 - CUDA_VISIBLE_DEVICES: [0]\n",
      "\u001b[36m(_tune_wrapper pid=21696)\u001b[0m \n",
      "\u001b[36m(_tune_wrapper pid=21696)\u001b[0m   | Name       | Type              | Params | Mode  | In sizes       | Out sizes     \n",
      "\u001b[36m(_tune_wrapper pid=21696)\u001b[0m -------------------------------------------------------------------------------------------\n",
      "\u001b[36m(_tune_wrapper pid=21696)\u001b[0m 0 | criterion  | SmoothL1Loss      | 0      | train | ?              | ?             \n",
      "\u001b[36m(_tune_wrapper pid=21696)\u001b[0m 1 | mae        | MeanAbsoluteError | 0      | train | ?              | ?             \n",
      "\u001b[36m(_tune_wrapper pid=21696)\u001b[0m 2 | mse        | MeanSquaredError  | 0      | train | ?              | ?             \n",
      "\u001b[36m(_tune_wrapper pid=21696)\u001b[0m 3 | rmse       | MeanSquaredError  | 0      | train | ?              | ?             \n",
      "\u001b[36m(_tune_wrapper pid=21696)\u001b[0m 4 | face_stack | ConvStack         | 209 K  | train | [1, 3, 64, 64] | [1, 192, 1, 1]\n",
      "\u001b[36m(_tune_wrapper pid=21696)\u001b[0m 5 | l_stack    | ConvStack         | 209 K  | train | [1, 3, 64, 64] | [1, 192, 1, 1]\n",
      "\u001b[36m(_tune_wrapper pid=21696)\u001b[0m 6 | r_stack    | ConvStack         | 209 K  | train | [1, 3, 64, 64] | [1, 192, 1, 1]\n",
      "\u001b[36m(_tune_wrapper pid=21696)\u001b[0m 7 | head_stack | ConvStack         | 23.4 K | train | [1, 1, 64, 64] | [1, 64, 1, 1] \n",
      "\u001b[36m(_tune_wrapper pid=21696)\u001b[0m 8 | regressor  | Sequential        | 164 K  | train | [1, 641]       | [1, 2]        \n",
      "\u001b[36m(_tune_wrapper pid=21696)\u001b[0m -------------------------------------------------------------------------------------------\n",
      "\u001b[36m(_tune_wrapper pid=21696)\u001b[0m 816 K     Trainable params\n",
      "\u001b[36m(_tune_wrapper pid=21696)\u001b[0m 0         Non-trainable params\n",
      "\u001b[36m(_tune_wrapper pid=21696)\u001b[0m 816 K     Total params\n",
      "\u001b[36m(_tune_wrapper pid=21696)\u001b[0m 3.265     Total estimated model params size (MB)\n",
      "\u001b[36m(_tune_wrapper pid=21696)\u001b[0m 76        Modules in train mode\n",
      "\u001b[36m(_tune_wrapper pid=21696)\u001b[0m 0         Modules in eval mode\n",
      "\u001b[36m(_tune_wrapper pid=21696)\u001b[0m Checkpoint successfully created at: Checkpoint(filesystem=local, path=c:/Users/Youssef/Desktop/TFG/eye-tracker-vocacions/src/logs/full/tune_20250514-231020/db971_00003/checkpoint_000000)\n",
      "\u001b[36m(_tune_wrapper pid=21696)\u001b[0m Checkpoint successfully created at: Checkpoint(filesystem=local, path=c:/Users/Youssef/Desktop/TFG/eye-tracker-vocacions/src/logs/full/tune_20250514-231020/db971_00003/checkpoint_000001)\n",
      "\u001b[36m(_tune_wrapper pid=21696)\u001b[0m Checkpoint successfully created at: Checkpoint(filesystem=local, path=c:/Users/Youssef/Desktop/TFG/eye-tracker-vocacions/src/logs/full/tune_20250514-231020/db971_00003/checkpoint_000002)\n",
      "\u001b[36m(_tune_wrapper pid=21696)\u001b[0m Checkpoint successfully created at: Checkpoint(filesystem=local, path=c:/Users/Youssef/Desktop/TFG/eye-tracker-vocacions/src/logs/full/tune_20250514-231020/db971_00003/checkpoint_000003)\n",
      "\u001b[36m(_tune_wrapper pid=21696)\u001b[0m Checkpoint successfully created at: Checkpoint(filesystem=local, path=c:/Users/Youssef/Desktop/TFG/eye-tracker-vocacions/src/logs/full/tune_20250514-231020/db971_00003/checkpoint_000004)\n",
      "\u001b[36m(_tune_wrapper pid=21696)\u001b[0m Checkpoint successfully created at: Checkpoint(filesystem=local, path=c:/Users/Youssef/Desktop/TFG/eye-tracker-vocacions/src/logs/full/tune_20250514-231020/db971_00003/checkpoint_000005)\n",
      "\u001b[36m(_tune_wrapper pid=21696)\u001b[0m Checkpoint successfully created at: Checkpoint(filesystem=local, path=c:/Users/Youssef/Desktop/TFG/eye-tracker-vocacions/src/logs/full/tune_20250514-231020/db971_00003/checkpoint_000006)\n",
      "\u001b[36m(_tune_wrapper pid=21696)\u001b[0m Checkpoint successfully created at: Checkpoint(filesystem=local, path=c:/Users/Youssef/Desktop/TFG/eye-tracker-vocacions/src/logs/full/tune_20250514-231020/db971_00003/checkpoint_000007)\n",
      "\u001b[36m(_tune_wrapper pid=21696)\u001b[0m Checkpoint successfully created at: Checkpoint(filesystem=local, path=c:/Users/Youssef/Desktop/TFG/eye-tracker-vocacions/src/logs/full/tune_20250514-231020/db971_00003/checkpoint_000008)\n",
      "\u001b[36m(_tune_wrapper pid=21696)\u001b[0m Checkpoint successfully created at: Checkpoint(filesystem=local, path=c:/Users/Youssef/Desktop/TFG/eye-tracker-vocacions/src/logs/full/tune_20250514-231020/db971_00003/checkpoint_000009)\n",
      "\u001b[36m(_tune_wrapper pid=21696)\u001b[0m Checkpoint successfully created at: Checkpoint(filesystem=local, path=c:/Users/Youssef/Desktop/TFG/eye-tracker-vocacions/src/logs/full/tune_20250514-231020/db971_00003/checkpoint_000010)\n",
      "\u001b[36m(_tune_wrapper pid=21696)\u001b[0m Checkpoint successfully created at: Checkpoint(filesystem=local, path=c:/Users/Youssef/Desktop/TFG/eye-tracker-vocacions/src/logs/full/tune_20250514-231020/db971_00003/checkpoint_000011)\n",
      "\u001b[36m(_tune_wrapper pid=21696)\u001b[0m Checkpoint successfully created at: Checkpoint(filesystem=local, path=c:/Users/Youssef/Desktop/TFG/eye-tracker-vocacions/src/logs/full/tune_20250514-231020/db971_00003/checkpoint_000012)\n",
      "\u001b[36m(_tune_wrapper pid=21696)\u001b[0m Checkpoint successfully created at: Checkpoint(filesystem=local, path=c:/Users/Youssef/Desktop/TFG/eye-tracker-vocacions/src/logs/full/tune_20250514-231020/db971_00003/checkpoint_000013)\n",
      "\u001b[36m(_tune_wrapper pid=21696)\u001b[0m Checkpoint successfully created at: Checkpoint(filesystem=local, path=c:/Users/Youssef/Desktop/TFG/eye-tracker-vocacions/src/logs/full/tune_20250514-231020/db971_00003/checkpoint_000014)\n",
      "2025-05-15 01:14:12,421\tINFO tensorboardx.py:308 -- Removed the following hyperparameter values when logging to tensorboard: {'face_channels': (48, 96, 192), 'eye_channels': (48, 96, 192), 'head_pos_channels': (16, 32, 64)}\n",
      "\u001b[36m(_tune_wrapper pid=28616)\u001b[0m Seed set to 9451\n",
      "\u001b[36m(_tune_wrapper pid=28616)\u001b[0m Using bfloat16 Automatic Mixed Precision (AMP)\n",
      "\u001b[36m(_tune_wrapper pid=28616)\u001b[0m GPU available: True (cuda), used: True\n",
      "\u001b[36m(_tune_wrapper pid=28616)\u001b[0m TPU available: False, using: 0 TPU cores\n",
      "\u001b[36m(_tune_wrapper pid=28616)\u001b[0m HPU available: False, using: 0 HPUs\n",
      "\u001b[36m(_tune_wrapper pid=28616)\u001b[0m LOCAL_RANK: 0 - CUDA_VISIBLE_DEVICES: [0]\n",
      "\u001b[36m(_tune_wrapper pid=28616)\u001b[0m \n",
      "\u001b[36m(_tune_wrapper pid=28616)\u001b[0m   | Name       | Type              | Params | Mode  | In sizes       | Out sizes     \n",
      "\u001b[36m(_tune_wrapper pid=28616)\u001b[0m -------------------------------------------------------------------------------------------\n",
      "\u001b[36m(_tune_wrapper pid=28616)\u001b[0m 0 | criterion  | SmoothL1Loss      | 0      | train | ?              | ?             \n",
      "\u001b[36m(_tune_wrapper pid=28616)\u001b[0m 1 | mae        | MeanAbsoluteError | 0      | train | ?              | ?             \n",
      "\u001b[36m(_tune_wrapper pid=28616)\u001b[0m 2 | mse        | MeanSquaredError  | 0      | train | ?              | ?             \n",
      "\u001b[36m(_tune_wrapper pid=28616)\u001b[0m 3 | rmse       | MeanSquaredError  | 0      | train | ?              | ?             \n",
      "\u001b[36m(_tune_wrapper pid=28616)\u001b[0m 4 | face_stack | ConvStack         | 209 K  | train | [1, 3, 64, 64] | [1, 192, 1, 1]\n",
      "\u001b[36m(_tune_wrapper pid=28616)\u001b[0m 5 | l_stack    | ConvStack         | 93.5 K | train | [1, 3, 64, 64] | [1, 128, 1, 1]\n",
      "\u001b[36m(_tune_wrapper pid=28616)\u001b[0m 6 | r_stack    | ConvStack         | 93.5 K | train | [1, 3, 64, 64] | [1, 128, 1, 1]\n",
      "\u001b[36m(_tune_wrapper pid=28616)\u001b[0m 7 | head_stack | ConvStack         | 52.4 K | train | [1, 1, 64, 64] | [1, 96, 1, 1] \n",
      "\u001b[36m(_tune_wrapper pid=28616)\u001b[0m 8 | regressor  | Sequential        | 420 K  | train | [1, 545]       | [1, 2]        \n",
      "\u001b[36m(_tune_wrapper pid=28616)\u001b[0m -------------------------------------------------------------------------------------------\n",
      "\u001b[36m(_tune_wrapper pid=28616)\u001b[0m 869 K     Trainable params\n",
      "\u001b[36m(_tune_wrapper pid=28616)\u001b[0m 0         Non-trainable params\n",
      "\u001b[36m(_tune_wrapper pid=28616)\u001b[0m 869 K     Total params\n",
      "\u001b[36m(_tune_wrapper pid=28616)\u001b[0m 3.478     Total estimated model params size (MB)\n",
      "\u001b[36m(_tune_wrapper pid=28616)\u001b[0m 76        Modules in train mode\n",
      "\u001b[36m(_tune_wrapper pid=28616)\u001b[0m 0         Modules in eval mode\n",
      "\u001b[36m(_tune_wrapper pid=28616)\u001b[0m Checkpoint successfully created at: Checkpoint(filesystem=local, path=c:/Users/Youssef/Desktop/TFG/eye-tracker-vocacions/src/logs/full/tune_20250514-231020/db971_00004/checkpoint_000000)\n",
      "2025-05-15 01:19:03,637\tINFO tensorboardx.py:308 -- Removed the following hyperparameter values when logging to tensorboard: {'face_channels': (48, 96, 192), 'eye_channels': (32, 64, 128), 'head_pos_channels': (24, 48, 96)}\n",
      "\u001b[36m(_tune_wrapper pid=27148)\u001b[0m Seed set to 6829\n",
      "\u001b[36m(_tune_wrapper pid=27148)\u001b[0m Using bfloat16 Automatic Mixed Precision (AMP)\n",
      "\u001b[36m(_tune_wrapper pid=27148)\u001b[0m GPU available: True (cuda), used: True\n",
      "\u001b[36m(_tune_wrapper pid=27148)\u001b[0m TPU available: False, using: 0 TPU cores\n",
      "\u001b[36m(_tune_wrapper pid=27148)\u001b[0m HPU available: False, using: 0 HPUs\n",
      "\u001b[36m(_tune_wrapper pid=27148)\u001b[0m LOCAL_RANK: 0 - CUDA_VISIBLE_DEVICES: [0]\n",
      "\u001b[36m(_tune_wrapper pid=27148)\u001b[0m \n",
      "\u001b[36m(_tune_wrapper pid=27148)\u001b[0m   | Name       | Type              | Params | Mode  | In sizes       | Out sizes     \n",
      "\u001b[36m(_tune_wrapper pid=27148)\u001b[0m -------------------------------------------------------------------------------------------\n",
      "\u001b[36m(_tune_wrapper pid=27148)\u001b[0m 0 | criterion  | SmoothL1Loss      | 0      | train | ?              | ?             \n",
      "\u001b[36m(_tune_wrapper pid=27148)\u001b[0m 1 | mae        | MeanAbsoluteError | 0      | train | ?              | ?             \n",
      "\u001b[36m(_tune_wrapper pid=27148)\u001b[0m 2 | mse        | MeanSquaredError  | 0      | train | ?              | ?             \n",
      "\u001b[36m(_tune_wrapper pid=27148)\u001b[0m 3 | rmse       | MeanSquaredError  | 0      | train | ?              | ?             \n",
      "\u001b[36m(_tune_wrapper pid=27148)\u001b[0m 4 | face_stack | ConvStack         | 93.5 K | train | [1, 3, 64, 64] | [1, 128, 1, 1]\n",
      "\u001b[36m(_tune_wrapper pid=27148)\u001b[0m 5 | l_stack    | ConvStack         | 209 K  | train | [1, 3, 64, 64] | [1, 192, 1, 1]\n",
      "\u001b[36m(_tune_wrapper pid=27148)\u001b[0m 6 | r_stack    | ConvStack         | 209 K  | train | [1, 3, 64, 64] | [1, 192, 1, 1]\n",
      "\u001b[36m(_tune_wrapper pid=27148)\u001b[0m 7 | head_stack | ConvStack         | 52.4 K | train | [1, 1, 64, 64] | [1, 96, 1, 1] \n",
      "\u001b[36m(_tune_wrapper pid=27148)\u001b[0m 8 | regressor  | Sequential        | 470 K  | train | [1, 609]       | [1, 2]        \n",
      "\u001b[36m(_tune_wrapper pid=27148)\u001b[0m -------------------------------------------------------------------------------------------\n",
      "\u001b[36m(_tune_wrapper pid=27148)\u001b[0m 1.0 M     Trainable params\n",
      "\u001b[36m(_tune_wrapper pid=27148)\u001b[0m 0         Non-trainable params\n",
      "\u001b[36m(_tune_wrapper pid=27148)\u001b[0m 1.0 M     Total params\n",
      "\u001b[36m(_tune_wrapper pid=27148)\u001b[0m 4.138     Total estimated model params size (MB)\n",
      "\u001b[36m(_tune_wrapper pid=27148)\u001b[0m 76        Modules in train mode\n",
      "\u001b[36m(_tune_wrapper pid=27148)\u001b[0m 0         Modules in eval mode\n",
      "\u001b[36m(_tune_wrapper pid=27148)\u001b[0m Checkpoint successfully created at: Checkpoint(filesystem=local, path=c:/Users/Youssef/Desktop/TFG/eye-tracker-vocacions/src/logs/full/tune_20250514-231020/db971_00005/checkpoint_000000)\n",
      "\u001b[36m(_tune_wrapper pid=27148)\u001b[0m Checkpoint successfully created at: Checkpoint(filesystem=local, path=c:/Users/Youssef/Desktop/TFG/eye-tracker-vocacions/src/logs/full/tune_20250514-231020/db971_00005/checkpoint_000001)\n",
      "\u001b[36m(_tune_wrapper pid=27148)\u001b[0m Checkpoint successfully created at: Checkpoint(filesystem=local, path=c:/Users/Youssef/Desktop/TFG/eye-tracker-vocacions/src/logs/full/tune_20250514-231020/db971_00005/checkpoint_000002)\n",
      "\u001b[36m(_tune_wrapper pid=27148)\u001b[0m Checkpoint successfully created at: Checkpoint(filesystem=local, path=c:/Users/Youssef/Desktop/TFG/eye-tracker-vocacions/src/logs/full/tune_20250514-231020/db971_00005/checkpoint_000003)\n",
      "\u001b[36m(_tune_wrapper pid=27148)\u001b[0m Checkpoint successfully created at: Checkpoint(filesystem=local, path=c:/Users/Youssef/Desktop/TFG/eye-tracker-vocacions/src/logs/full/tune_20250514-231020/db971_00005/checkpoint_000004)\n",
      "\u001b[36m(_tune_wrapper pid=27148)\u001b[0m Checkpoint successfully created at: Checkpoint(filesystem=local, path=c:/Users/Youssef/Desktop/TFG/eye-tracker-vocacions/src/logs/full/tune_20250514-231020/db971_00005/checkpoint_000005)\n",
      "\u001b[36m(_tune_wrapper pid=27148)\u001b[0m Checkpoint successfully created at: Checkpoint(filesystem=local, path=c:/Users/Youssef/Desktop/TFG/eye-tracker-vocacions/src/logs/full/tune_20250514-231020/db971_00005/checkpoint_000006)\n",
      "\u001b[36m(_tune_wrapper pid=27148)\u001b[0m Checkpoint successfully created at: Checkpoint(filesystem=local, path=c:/Users/Youssef/Desktop/TFG/eye-tracker-vocacions/src/logs/full/tune_20250514-231020/db971_00005/checkpoint_000007)\n",
      "\u001b[36m(_tune_wrapper pid=27148)\u001b[0m Checkpoint successfully created at: Checkpoint(filesystem=local, path=c:/Users/Youssef/Desktop/TFG/eye-tracker-vocacions/src/logs/full/tune_20250514-231020/db971_00005/checkpoint_000008)\n",
      "\u001b[36m(_tune_wrapper pid=27148)\u001b[0m Checkpoint successfully created at: Checkpoint(filesystem=local, path=c:/Users/Youssef/Desktop/TFG/eye-tracker-vocacions/src/logs/full/tune_20250514-231020/db971_00005/checkpoint_000009)\n",
      "\u001b[36m(_tune_wrapper pid=27148)\u001b[0m Checkpoint successfully created at: Checkpoint(filesystem=local, path=c:/Users/Youssef/Desktop/TFG/eye-tracker-vocacions/src/logs/full/tune_20250514-231020/db971_00005/checkpoint_000010)\n",
      "\u001b[36m(_tune_wrapper pid=27148)\u001b[0m Checkpoint successfully created at: Checkpoint(filesystem=local, path=c:/Users/Youssef/Desktop/TFG/eye-tracker-vocacions/src/logs/full/tune_20250514-231020/db971_00005/checkpoint_000011)\n",
      "\u001b[36m(_tune_wrapper pid=27148)\u001b[0m Checkpoint successfully created at: Checkpoint(filesystem=local, path=c:/Users/Youssef/Desktop/TFG/eye-tracker-vocacions/src/logs/full/tune_20250514-231020/db971_00005/checkpoint_000012)\n",
      "\u001b[36m(_tune_wrapper pid=27148)\u001b[0m Checkpoint successfully created at: Checkpoint(filesystem=local, path=c:/Users/Youssef/Desktop/TFG/eye-tracker-vocacions/src/logs/full/tune_20250514-231020/db971_00005/checkpoint_000013)\n",
      "2025-05-15 02:07:32,729\tINFO tensorboardx.py:308 -- Removed the following hyperparameter values when logging to tensorboard: {'face_channels': (32, 64, 128), 'eye_channels': (48, 96, 192), 'head_pos_channels': (24, 48, 96)}\n",
      "\u001b[36m(_tune_wrapper pid=27148)\u001b[0m Checkpoint successfully created at: Checkpoint(filesystem=local, path=c:/Users/Youssef/Desktop/TFG/eye-tracker-vocacions/src/logs/full/tune_20250514-231020/db971_00005/checkpoint_000014)\n",
      "\u001b[36m(_tune_wrapper pid=21456)\u001b[0m Seed set to 2442\n",
      "\u001b[36m(_tune_wrapper pid=21456)\u001b[0m Using bfloat16 Automatic Mixed Precision (AMP)\n",
      "\u001b[36m(_tune_wrapper pid=21456)\u001b[0m GPU available: True (cuda), used: True\n",
      "\u001b[36m(_tune_wrapper pid=21456)\u001b[0m TPU available: False, using: 0 TPU cores\n",
      "\u001b[36m(_tune_wrapper pid=21456)\u001b[0m HPU available: False, using: 0 HPUs\n",
      "\u001b[36m(_tune_wrapper pid=21456)\u001b[0m LOCAL_RANK: 0 - CUDA_VISIBLE_DEVICES: [0]\n",
      "\u001b[36m(_tune_wrapper pid=21456)\u001b[0m \n",
      "\u001b[36m(_tune_wrapper pid=21456)\u001b[0m   | Name       | Type              | Params | Mode  | In sizes       | Out sizes     \n",
      "\u001b[36m(_tune_wrapper pid=21456)\u001b[0m -------------------------------------------------------------------------------------------\n",
      "\u001b[36m(_tune_wrapper pid=21456)\u001b[0m 0 | criterion  | SmoothL1Loss      | 0      | train | ?              | ?             \n",
      "\u001b[36m(_tune_wrapper pid=21456)\u001b[0m 1 | mae        | MeanAbsoluteError | 0      | train | ?              | ?             \n",
      "\u001b[36m(_tune_wrapper pid=21456)\u001b[0m 2 | mse        | MeanSquaredError  | 0      | train | ?              | ?             \n",
      "\u001b[36m(_tune_wrapper pid=21456)\u001b[0m 3 | rmse       | MeanSquaredError  | 0      | train | ?              | ?             \n",
      "\u001b[36m(_tune_wrapper pid=21456)\u001b[0m 4 | face_stack | ConvStack         | 93.5 K | train | [1, 3, 64, 64] | [1, 128, 1, 1]\n",
      "\u001b[36m(_tune_wrapper pid=21456)\u001b[0m 5 | l_stack    | ConvStack         | 93.5 K | train | [1, 3, 64, 64] | [1, 128, 1, 1]\n",
      "\u001b[36m(_tune_wrapper pid=21456)\u001b[0m 6 | r_stack    | ConvStack         | 93.5 K | train | [1, 3, 64, 64] | [1, 128, 1, 1]\n",
      "\u001b[36m(_tune_wrapper pid=21456)\u001b[0m 7 | head_stack | ConvStack         | 52.4 K | train | [1, 1, 64, 64] | [1, 96, 1, 1] \n",
      "\u001b[36m(_tune_wrapper pid=21456)\u001b[0m 8 | regressor  | Sequential        | 123 K  | train | [1, 481]       | [1, 2]        \n",
      "\u001b[36m(_tune_wrapper pid=21456)\u001b[0m -------------------------------------------------------------------------------------------\n",
      "\u001b[36m(_tune_wrapper pid=21456)\u001b[0m 456 K     Trainable params\n",
      "\u001b[36m(_tune_wrapper pid=21456)\u001b[0m 0         Non-trainable params\n",
      "\u001b[36m(_tune_wrapper pid=21456)\u001b[0m 456 K     Total params\n",
      "\u001b[36m(_tune_wrapper pid=21456)\u001b[0m 1.827     Total estimated model params size (MB)\n",
      "\u001b[36m(_tune_wrapper pid=21456)\u001b[0m 76        Modules in train mode\n",
      "\u001b[36m(_tune_wrapper pid=21456)\u001b[0m 0         Modules in eval mode\n",
      "\u001b[36m(_tune_wrapper pid=21456)\u001b[0m Checkpoint successfully created at: Checkpoint(filesystem=local, path=c:/Users/Youssef/Desktop/TFG/eye-tracker-vocacions/src/logs/full/tune_20250514-231020/db971_00006/checkpoint_000000)\n",
      "\u001b[36m(_tune_wrapper pid=21456)\u001b[0m Checkpoint successfully created at: Checkpoint(filesystem=local, path=c:/Users/Youssef/Desktop/TFG/eye-tracker-vocacions/src/logs/full/tune_20250514-231020/db971_00006/checkpoint_000001)\n",
      "\u001b[36m(_tune_wrapper pid=21456)\u001b[0m Checkpoint successfully created at: Checkpoint(filesystem=local, path=c:/Users/Youssef/Desktop/TFG/eye-tracker-vocacions/src/logs/full/tune_20250514-231020/db971_00006/checkpoint_000002)\n",
      "\u001b[36m(_tune_wrapper pid=21456)\u001b[0m Checkpoint successfully created at: Checkpoint(filesystem=local, path=c:/Users/Youssef/Desktop/TFG/eye-tracker-vocacions/src/logs/full/tune_20250514-231020/db971_00006/checkpoint_000003)\n",
      "\u001b[36m(_tune_wrapper pid=21456)\u001b[0m Checkpoint successfully created at: Checkpoint(filesystem=local, path=c:/Users/Youssef/Desktop/TFG/eye-tracker-vocacions/src/logs/full/tune_20250514-231020/db971_00006/checkpoint_000004)\n",
      "\u001b[36m(_tune_wrapper pid=21456)\u001b[0m Checkpoint successfully created at: Checkpoint(filesystem=local, path=c:/Users/Youssef/Desktop/TFG/eye-tracker-vocacions/src/logs/full/tune_20250514-231020/db971_00006/checkpoint_000005)\n",
      "\u001b[36m(_tune_wrapper pid=21456)\u001b[0m Checkpoint successfully created at: Checkpoint(filesystem=local, path=c:/Users/Youssef/Desktop/TFG/eye-tracker-vocacions/src/logs/full/tune_20250514-231020/db971_00006/checkpoint_000006)\n",
      "\u001b[36m(_tune_wrapper pid=21456)\u001b[0m Checkpoint successfully created at: Checkpoint(filesystem=local, path=c:/Users/Youssef/Desktop/TFG/eye-tracker-vocacions/src/logs/full/tune_20250514-231020/db971_00006/checkpoint_000007)\n",
      "\u001b[36m(_tune_wrapper pid=21456)\u001b[0m Checkpoint successfully created at: Checkpoint(filesystem=local, path=c:/Users/Youssef/Desktop/TFG/eye-tracker-vocacions/src/logs/full/tune_20250514-231020/db971_00006/checkpoint_000008)\n",
      "\u001b[36m(_tune_wrapper pid=21456)\u001b[0m Checkpoint successfully created at: Checkpoint(filesystem=local, path=c:/Users/Youssef/Desktop/TFG/eye-tracker-vocacions/src/logs/full/tune_20250514-231020/db971_00006/checkpoint_000009)\n",
      "\u001b[36m(_tune_wrapper pid=21456)\u001b[0m Checkpoint successfully created at: Checkpoint(filesystem=local, path=c:/Users/Youssef/Desktop/TFG/eye-tracker-vocacions/src/logs/full/tune_20250514-231020/db971_00006/checkpoint_000010)\n",
      "\u001b[36m(_tune_wrapper pid=21456)\u001b[0m Checkpoint successfully created at: Checkpoint(filesystem=local, path=c:/Users/Youssef/Desktop/TFG/eye-tracker-vocacions/src/logs/full/tune_20250514-231020/db971_00006/checkpoint_000011)\n",
      "\u001b[36m(_tune_wrapper pid=21456)\u001b[0m Checkpoint successfully created at: Checkpoint(filesystem=local, path=c:/Users/Youssef/Desktop/TFG/eye-tracker-vocacions/src/logs/full/tune_20250514-231020/db971_00006/checkpoint_000012)\n",
      "\u001b[36m(_tune_wrapper pid=21456)\u001b[0m Checkpoint successfully created at: Checkpoint(filesystem=local, path=c:/Users/Youssef/Desktop/TFG/eye-tracker-vocacions/src/logs/full/tune_20250514-231020/db971_00006/checkpoint_000013)\n",
      "2025-05-15 02:51:02,651\tINFO tensorboardx.py:308 -- Removed the following hyperparameter values when logging to tensorboard: {'face_channels': (32, 64, 128), 'eye_channels': (32, 64, 128), 'head_pos_channels': (24, 48, 96)}\n",
      "\u001b[36m(_tune_wrapper pid=21456)\u001b[0m Checkpoint successfully created at: Checkpoint(filesystem=local, path=c:/Users/Youssef/Desktop/TFG/eye-tracker-vocacions/src/logs/full/tune_20250514-231020/db971_00006/checkpoint_000014)\n",
      "\u001b[36m(_tune_wrapper pid=27532)\u001b[0m Seed set to 9955\n",
      "\u001b[36m(_tune_wrapper pid=27532)\u001b[0m Using bfloat16 Automatic Mixed Precision (AMP)\n",
      "\u001b[36m(_tune_wrapper pid=27532)\u001b[0m GPU available: True (cuda), used: True\n",
      "\u001b[36m(_tune_wrapper pid=27532)\u001b[0m TPU available: False, using: 0 TPU cores\n",
      "\u001b[36m(_tune_wrapper pid=27532)\u001b[0m HPU available: False, using: 0 HPUs\n",
      "\u001b[36m(_tune_wrapper pid=27532)\u001b[0m LOCAL_RANK: 0 - CUDA_VISIBLE_DEVICES: [0]\n",
      "\u001b[36m(_tune_wrapper pid=27532)\u001b[0m \n",
      "\u001b[36m(_tune_wrapper pid=27532)\u001b[0m   | Name       | Type              | Params | Mode  | In sizes       | Out sizes     \n",
      "\u001b[36m(_tune_wrapper pid=27532)\u001b[0m -------------------------------------------------------------------------------------------\n",
      "\u001b[36m(_tune_wrapper pid=27532)\u001b[0m 0 | criterion  | SmoothL1Loss      | 0      | train | ?              | ?             \n",
      "\u001b[36m(_tune_wrapper pid=27532)\u001b[0m 1 | mae        | MeanAbsoluteError | 0      | train | ?              | ?             \n",
      "\u001b[36m(_tune_wrapper pid=27532)\u001b[0m 2 | mse        | MeanSquaredError  | 0      | train | ?              | ?             \n",
      "\u001b[36m(_tune_wrapper pid=27532)\u001b[0m 3 | rmse       | MeanSquaredError  | 0      | train | ?              | ?             \n",
      "\u001b[36m(_tune_wrapper pid=27532)\u001b[0m 4 | face_stack | ConvStack         | 93.5 K | train | [1, 3, 64, 64] | [1, 128, 1, 1]\n",
      "\u001b[36m(_tune_wrapper pid=27532)\u001b[0m 5 | l_stack    | ConvStack         | 209 K  | train | [1, 3, 64, 64] | [1, 192, 1, 1]\n",
      "\u001b[36m(_tune_wrapper pid=27532)\u001b[0m 6 | r_stack    | ConvStack         | 209 K  | train | [1, 3, 64, 64] | [1, 192, 1, 1]\n",
      "\u001b[36m(_tune_wrapper pid=27532)\u001b[0m 7 | head_stack | ConvStack         | 23.4 K | train | [1, 1, 64, 64] | [1, 64, 1, 1] \n",
      "\u001b[36m(_tune_wrapper pid=27532)\u001b[0m 8 | regressor  | Sequential        | 296 K  | train | [1, 577]       | [1, 2]        \n",
      "\u001b[36m(_tune_wrapper pid=27532)\u001b[0m -------------------------------------------------------------------------------------------\n",
      "\u001b[36m(_tune_wrapper pid=27532)\u001b[0m 832 K     Trainable params\n",
      "\u001b[36m(_tune_wrapper pid=27532)\u001b[0m 0         Non-trainable params\n",
      "\u001b[36m(_tune_wrapper pid=27532)\u001b[0m 832 K     Total params\n",
      "\u001b[36m(_tune_wrapper pid=27532)\u001b[0m 3.330     Total estimated model params size (MB)\n",
      "\u001b[36m(_tune_wrapper pid=27532)\u001b[0m 76        Modules in train mode\n",
      "\u001b[36m(_tune_wrapper pid=27532)\u001b[0m 0         Modules in eval mode\n",
      "2025-05-15 02:55:39,786\tINFO tensorboardx.py:308 -- Removed the following hyperparameter values when logging to tensorboard: {'face_channels': (32, 64, 128), 'eye_channels': (48, 96, 192), 'head_pos_channels': (16, 32, 64)}\n",
      "\u001b[36m(_tune_wrapper pid=27532)\u001b[0m Checkpoint successfully created at: Checkpoint(filesystem=local, path=c:/Users/Youssef/Desktop/TFG/eye-tracker-vocacions/src/logs/full/tune_20250514-231020/db971_00007/checkpoint_000000)\n",
      "\u001b[36m(_tune_wrapper pid=15220)\u001b[0m Seed set to 9002\n",
      "\u001b[36m(_tune_wrapper pid=15220)\u001b[0m Using bfloat16 Automatic Mixed Precision (AMP)\n",
      "\u001b[36m(_tune_wrapper pid=15220)\u001b[0m GPU available: True (cuda), used: True\n",
      "\u001b[36m(_tune_wrapper pid=15220)\u001b[0m TPU available: False, using: 0 TPU cores\n",
      "\u001b[36m(_tune_wrapper pid=15220)\u001b[0m HPU available: False, using: 0 HPUs\n",
      "\u001b[36m(_tune_wrapper pid=15220)\u001b[0m LOCAL_RANK: 0 - CUDA_VISIBLE_DEVICES: [0]\n",
      "\u001b[36m(_tune_wrapper pid=15220)\u001b[0m \n",
      "\u001b[36m(_tune_wrapper pid=15220)\u001b[0m   | Name       | Type              | Params | Mode  | In sizes       | Out sizes     \n",
      "\u001b[36m(_tune_wrapper pid=15220)\u001b[0m -------------------------------------------------------------------------------------------\n",
      "\u001b[36m(_tune_wrapper pid=15220)\u001b[0m 0 | criterion  | SmoothL1Loss      | 0      | train | ?              | ?             \n",
      "\u001b[36m(_tune_wrapper pid=15220)\u001b[0m 1 | mae        | MeanAbsoluteError | 0      | train | ?              | ?             \n",
      "\u001b[36m(_tune_wrapper pid=15220)\u001b[0m 2 | mse        | MeanSquaredError  | 0      | train | ?              | ?             \n",
      "\u001b[36m(_tune_wrapper pid=15220)\u001b[0m 3 | rmse       | MeanSquaredError  | 0      | train | ?              | ?             \n",
      "\u001b[36m(_tune_wrapper pid=15220)\u001b[0m 4 | face_stack | ConvStack         | 209 K  | train | [1, 3, 64, 64] | [1, 192, 1, 1]\n",
      "\u001b[36m(_tune_wrapper pid=15220)\u001b[0m 5 | l_stack    | ConvStack         | 93.5 K | train | [1, 3, 64, 64] | [1, 128, 1, 1]\n",
      "\u001b[36m(_tune_wrapper pid=15220)\u001b[0m 6 | r_stack    | ConvStack         | 93.5 K | train | [1, 3, 64, 64] | [1, 128, 1, 1]\n",
      "\u001b[36m(_tune_wrapper pid=15220)\u001b[0m 7 | head_stack | ConvStack         | 23.4 K | train | [1, 1, 64, 64] | [1, 64, 1, 1] \n",
      "\u001b[36m(_tune_wrapper pid=15220)\u001b[0m 8 | regressor  | Sequential        | 132 K  | train | [1, 513]       | [1, 2]        \n",
      "\u001b[36m(_tune_wrapper pid=15220)\u001b[0m -------------------------------------------------------------------------------------------\n",
      "\u001b[36m(_tune_wrapper pid=15220)\u001b[0m 551 K     Trainable params\n",
      "\u001b[36m(_tune_wrapper pid=15220)\u001b[0m 0         Non-trainable params\n",
      "\u001b[36m(_tune_wrapper pid=15220)\u001b[0m 551 K     Total params\n",
      "\u001b[36m(_tune_wrapper pid=15220)\u001b[0m 2.207     Total estimated model params size (MB)\n",
      "\u001b[36m(_tune_wrapper pid=15220)\u001b[0m 76        Modules in train mode\n",
      "\u001b[36m(_tune_wrapper pid=15220)\u001b[0m 0         Modules in eval mode\n",
      "2025-05-15 03:00:07,634\tINFO tensorboardx.py:308 -- Removed the following hyperparameter values when logging to tensorboard: {'face_channels': (48, 96, 192), 'eye_channels': (32, 64, 128), 'head_pos_channels': (16, 32, 64)}\n",
      "\u001b[36m(_tune_wrapper pid=15220)\u001b[0m Checkpoint successfully created at: Checkpoint(filesystem=local, path=c:/Users/Youssef/Desktop/TFG/eye-tracker-vocacions/src/logs/full/tune_20250514-231020/db971_00008/checkpoint_000000)\n",
      "\u001b[36m(_tune_wrapper pid=2712)\u001b[0m Seed set to 5659\n",
      "\u001b[36m(_tune_wrapper pid=2712)\u001b[0m Using bfloat16 Automatic Mixed Precision (AMP)\n",
      "\u001b[36m(_tune_wrapper pid=2712)\u001b[0m GPU available: True (cuda), used: True\n",
      "\u001b[36m(_tune_wrapper pid=2712)\u001b[0m TPU available: False, using: 0 TPU cores\n",
      "\u001b[36m(_tune_wrapper pid=2712)\u001b[0m HPU available: False, using: 0 HPUs\n",
      "\u001b[36m(_tune_wrapper pid=2712)\u001b[0m LOCAL_RANK: 0 - CUDA_VISIBLE_DEVICES: [0]\n",
      "\u001b[36m(_tune_wrapper pid=2712)\u001b[0m \n",
      "\u001b[36m(_tune_wrapper pid=2712)\u001b[0m   | Name       | Type              | Params | Mode  | In sizes       | Out sizes     \n",
      "\u001b[36m(_tune_wrapper pid=2712)\u001b[0m -------------------------------------------------------------------------------------------\n",
      "\u001b[36m(_tune_wrapper pid=2712)\u001b[0m 0 | criterion  | SmoothL1Loss      | 0      | train | ?              | ?             \n",
      "\u001b[36m(_tune_wrapper pid=2712)\u001b[0m 1 | mae        | MeanAbsoluteError | 0      | train | ?              | ?             \n",
      "\u001b[36m(_tune_wrapper pid=2712)\u001b[0m 2 | mse        | MeanSquaredError  | 0      | train | ?              | ?             \n",
      "\u001b[36m(_tune_wrapper pid=2712)\u001b[0m 3 | rmse       | MeanSquaredError  | 0      | train | ?              | ?             \n",
      "\u001b[36m(_tune_wrapper pid=2712)\u001b[0m 4 | face_stack | ConvStack         | 93.5 K | train | [1, 3, 64, 64] | [1, 128, 1, 1]\n",
      "\u001b[36m(_tune_wrapper pid=2712)\u001b[0m 5 | l_stack    | ConvStack         | 93.5 K | train | [1, 3, 64, 64] | [1, 128, 1, 1]\n",
      "\u001b[36m(_tune_wrapper pid=2712)\u001b[0m 6 | r_stack    | ConvStack         | 93.5 K | train | [1, 3, 64, 64] | [1, 128, 1, 1]\n",
      "\u001b[36m(_tune_wrapper pid=2712)\u001b[0m 7 | head_stack | ConvStack         | 23.4 K | train | [1, 1, 64, 64] | [1, 64, 1, 1] \n",
      "\u001b[36m(_tune_wrapper pid=2712)\u001b[0m 8 | regressor  | Sequential        | 231 K  | train | [1, 449]       | [1, 2]        \n",
      "\u001b[36m(_tune_wrapper pid=2712)\u001b[0m -------------------------------------------------------------------------------------------\n",
      "\u001b[36m(_tune_wrapper pid=2712)\u001b[0m 535 K     Trainable params\n",
      "\u001b[36m(_tune_wrapper pid=2712)\u001b[0m 0         Non-trainable params\n",
      "\u001b[36m(_tune_wrapper pid=2712)\u001b[0m 535 K     Total params\n",
      "\u001b[36m(_tune_wrapper pid=2712)\u001b[0m 2.141     Total estimated model params size (MB)\n",
      "\u001b[36m(_tune_wrapper pid=2712)\u001b[0m 76        Modules in train mode\n",
      "\u001b[36m(_tune_wrapper pid=2712)\u001b[0m 0         Modules in eval mode\n",
      "\u001b[36m(_tune_wrapper pid=2712)\u001b[0m Checkpoint successfully created at: Checkpoint(filesystem=local, path=c:/Users/Youssef/Desktop/TFG/eye-tracker-vocacions/src/logs/full/tune_20250514-231020/db971_00009/checkpoint_000000)\n",
      "2025-05-15 03:06:52,094\tINFO tensorboardx.py:308 -- Removed the following hyperparameter values when logging to tensorboard: {'face_channels': (32, 64, 128), 'eye_channels': (32, 64, 128), 'head_pos_channels': (16, 32, 64)}\n",
      "\u001b[36m(_tune_wrapper pid=2712)\u001b[0m Checkpoint successfully created at: Checkpoint(filesystem=local, path=c:/Users/Youssef/Desktop/TFG/eye-tracker-vocacions/src/logs/full/tune_20250514-231020/db971_00009/checkpoint_000001)\n",
      "\u001b[36m(_tune_wrapper pid=26052)\u001b[0m Seed set to 1055\n",
      "\u001b[36m(_tune_wrapper pid=26052)\u001b[0m Using bfloat16 Automatic Mixed Precision (AMP)\n",
      "\u001b[36m(_tune_wrapper pid=26052)\u001b[0m GPU available: True (cuda), used: True\n",
      "\u001b[36m(_tune_wrapper pid=26052)\u001b[0m TPU available: False, using: 0 TPU cores\n",
      "\u001b[36m(_tune_wrapper pid=26052)\u001b[0m HPU available: False, using: 0 HPUs\n",
      "\u001b[36m(_tune_wrapper pid=26052)\u001b[0m LOCAL_RANK: 0 - CUDA_VISIBLE_DEVICES: [0]\n",
      "\u001b[36m(_tune_wrapper pid=26052)\u001b[0m \n",
      "\u001b[36m(_tune_wrapper pid=26052)\u001b[0m   | Name       | Type              | Params | Mode  | In sizes       | Out sizes     \n",
      "\u001b[36m(_tune_wrapper pid=26052)\u001b[0m -------------------------------------------------------------------------------------------\n",
      "\u001b[36m(_tune_wrapper pid=26052)\u001b[0m 0 | criterion  | SmoothL1Loss      | 0      | train | ?              | ?             \n",
      "\u001b[36m(_tune_wrapper pid=26052)\u001b[0m 1 | mae        | MeanAbsoluteError | 0      | train | ?              | ?             \n",
      "\u001b[36m(_tune_wrapper pid=26052)\u001b[0m 2 | mse        | MeanSquaredError  | 0      | train | ?              | ?             \n",
      "\u001b[36m(_tune_wrapper pid=26052)\u001b[0m 3 | rmse       | MeanSquaredError  | 0      | train | ?              | ?             \n",
      "\u001b[36m(_tune_wrapper pid=26052)\u001b[0m 4 | face_stack | ConvStack         | 93.5 K | train | [1, 3, 64, 64] | [1, 128, 1, 1]\n",
      "\u001b[36m(_tune_wrapper pid=26052)\u001b[0m 5 | l_stack    | ConvStack         | 209 K  | train | [1, 3, 64, 64] | [1, 192, 1, 1]\n",
      "\u001b[36m(_tune_wrapper pid=26052)\u001b[0m 6 | r_stack    | ConvStack         | 209 K  | train | [1, 3, 64, 64] | [1, 192, 1, 1]\n",
      "\u001b[36m(_tune_wrapper pid=26052)\u001b[0m 7 | head_stack | ConvStack         | 23.4 K | train | [1, 1, 64, 64] | [1, 64, 1, 1] \n",
      "\u001b[36m(_tune_wrapper pid=26052)\u001b[0m 8 | regressor  | Sequential        | 296 K  | train | [1, 577]       | [1, 2]        \n",
      "\u001b[36m(_tune_wrapper pid=26052)\u001b[0m -------------------------------------------------------------------------------------------\n",
      "\u001b[36m(_tune_wrapper pid=26052)\u001b[0m 832 K     Trainable params\n",
      "\u001b[36m(_tune_wrapper pid=26052)\u001b[0m 0         Non-trainable params\n",
      "\u001b[36m(_tune_wrapper pid=26052)\u001b[0m 832 K     Total params\n",
      "\u001b[36m(_tune_wrapper pid=26052)\u001b[0m 3.330     Total estimated model params size (MB)\n",
      "\u001b[36m(_tune_wrapper pid=26052)\u001b[0m 76        Modules in train mode\n",
      "\u001b[36m(_tune_wrapper pid=26052)\u001b[0m 0         Modules in eval mode\n",
      "2025-05-15 03:11:31,320\tINFO tensorboardx.py:308 -- Removed the following hyperparameter values when logging to tensorboard: {'face_channels': (32, 64, 128), 'eye_channels': (48, 96, 192), 'head_pos_channels': (16, 32, 64)}\n",
      "\u001b[36m(_tune_wrapper pid=26052)\u001b[0m Checkpoint successfully created at: Checkpoint(filesystem=local, path=c:/Users/Youssef/Desktop/TFG/eye-tracker-vocacions/src/logs/full/tune_20250514-231020/db971_00010/checkpoint_000000)\n",
      "\u001b[36m(_tune_wrapper pid=22692)\u001b[0m Seed set to 8039\n",
      "\u001b[36m(_tune_wrapper pid=22692)\u001b[0m Using bfloat16 Automatic Mixed Precision (AMP)\n",
      "\u001b[36m(_tune_wrapper pid=22692)\u001b[0m GPU available: True (cuda), used: True\n",
      "\u001b[36m(_tune_wrapper pid=22692)\u001b[0m TPU available: False, using: 0 TPU cores\n",
      "\u001b[36m(_tune_wrapper pid=22692)\u001b[0m HPU available: False, using: 0 HPUs\n",
      "\u001b[36m(_tune_wrapper pid=22692)\u001b[0m LOCAL_RANK: 0 - CUDA_VISIBLE_DEVICES: [0]\n",
      "\u001b[36m(_tune_wrapper pid=22692)\u001b[0m \n",
      "\u001b[36m(_tune_wrapper pid=22692)\u001b[0m   | Name       | Type              | Params | Mode  | In sizes       | Out sizes     \n",
      "\u001b[36m(_tune_wrapper pid=22692)\u001b[0m -------------------------------------------------------------------------------------------\n",
      "\u001b[36m(_tune_wrapper pid=22692)\u001b[0m 0 | criterion  | SmoothL1Loss      | 0      | train | ?              | ?             \n",
      "\u001b[36m(_tune_wrapper pid=22692)\u001b[0m 1 | mae        | MeanAbsoluteError | 0      | train | ?              | ?             \n",
      "\u001b[36m(_tune_wrapper pid=22692)\u001b[0m 2 | mse        | MeanSquaredError  | 0      | train | ?              | ?             \n",
      "\u001b[36m(_tune_wrapper pid=22692)\u001b[0m 3 | rmse       | MeanSquaredError  | 0      | train | ?              | ?             \n",
      "\u001b[36m(_tune_wrapper pid=22692)\u001b[0m 4 | face_stack | ConvStack         | 209 K  | train | [1, 3, 64, 64] | [1, 192, 1, 1]\n",
      "\u001b[36m(_tune_wrapper pid=22692)\u001b[0m 5 | l_stack    | ConvStack         | 93.5 K | train | [1, 3, 64, 64] | [1, 128, 1, 1]\n",
      "\u001b[36m(_tune_wrapper pid=22692)\u001b[0m 6 | r_stack    | ConvStack         | 93.5 K | train | [1, 3, 64, 64] | [1, 128, 1, 1]\n",
      "\u001b[36m(_tune_wrapper pid=22692)\u001b[0m 7 | head_stack | ConvStack         | 23.4 K | train | [1, 1, 64, 64] | [1, 64, 1, 1] \n",
      "\u001b[36m(_tune_wrapper pid=22692)\u001b[0m 8 | regressor  | Sequential        | 132 K  | train | [1, 513]       | [1, 2]        \n",
      "\u001b[36m(_tune_wrapper pid=22692)\u001b[0m -------------------------------------------------------------------------------------------\n",
      "\u001b[36m(_tune_wrapper pid=22692)\u001b[0m 551 K     Trainable params\n",
      "\u001b[36m(_tune_wrapper pid=22692)\u001b[0m 0         Non-trainable params\n",
      "\u001b[36m(_tune_wrapper pid=22692)\u001b[0m 551 K     Total params\n",
      "\u001b[36m(_tune_wrapper pid=22692)\u001b[0m 2.207     Total estimated model params size (MB)\n",
      "\u001b[36m(_tune_wrapper pid=22692)\u001b[0m 76        Modules in train mode\n",
      "\u001b[36m(_tune_wrapper pid=22692)\u001b[0m 0         Modules in eval mode\n",
      "\u001b[36m(_tune_wrapper pid=22692)\u001b[0m Checkpoint successfully created at: Checkpoint(filesystem=local, path=c:/Users/Youssef/Desktop/TFG/eye-tracker-vocacions/src/logs/full/tune_20250514-231020/db971_00011/checkpoint_000000)\n",
      "\u001b[36m(_tune_wrapper pid=22692)\u001b[0m Checkpoint successfully created at: Checkpoint(filesystem=local, path=c:/Users/Youssef/Desktop/TFG/eye-tracker-vocacions/src/logs/full/tune_20250514-231020/db971_00011/checkpoint_000001)\n",
      "\u001b[36m(_tune_wrapper pid=22692)\u001b[0m Checkpoint successfully created at: Checkpoint(filesystem=local, path=c:/Users/Youssef/Desktop/TFG/eye-tracker-vocacions/src/logs/full/tune_20250514-231020/db971_00011/checkpoint_000002)\n",
      "2025-05-15 03:23:43,218\tINFO tensorboardx.py:308 -- Removed the following hyperparameter values when logging to tensorboard: {'face_channels': (48, 96, 192), 'eye_channels': (32, 64, 128), 'head_pos_channels': (16, 32, 64)}\n",
      "\u001b[36m(_tune_wrapper pid=22692)\u001b[0m Checkpoint successfully created at: Checkpoint(filesystem=local, path=c:/Users/Youssef/Desktop/TFG/eye-tracker-vocacions/src/logs/full/tune_20250514-231020/db971_00011/checkpoint_000003)\n",
      "\u001b[36m(_tune_wrapper pid=23320)\u001b[0m Seed set to 6621\n",
      "\u001b[36m(_tune_wrapper pid=23320)\u001b[0m Using bfloat16 Automatic Mixed Precision (AMP)\n",
      "\u001b[36m(_tune_wrapper pid=23320)\u001b[0m GPU available: True (cuda), used: True\n",
      "\u001b[36m(_tune_wrapper pid=23320)\u001b[0m TPU available: False, using: 0 TPU cores\n",
      "\u001b[36m(_tune_wrapper pid=23320)\u001b[0m HPU available: False, using: 0 HPUs\n",
      "\u001b[36m(_tune_wrapper pid=23320)\u001b[0m LOCAL_RANK: 0 - CUDA_VISIBLE_DEVICES: [0]\n",
      "\u001b[36m(_tune_wrapper pid=23320)\u001b[0m \n",
      "\u001b[36m(_tune_wrapper pid=23320)\u001b[0m   | Name       | Type              | Params | Mode  | In sizes       | Out sizes     \n",
      "\u001b[36m(_tune_wrapper pid=23320)\u001b[0m -------------------------------------------------------------------------------------------\n",
      "\u001b[36m(_tune_wrapper pid=23320)\u001b[0m 0 | criterion  | SmoothL1Loss      | 0      | train | ?              | ?             \n",
      "\u001b[36m(_tune_wrapper pid=23320)\u001b[0m 1 | mae        | MeanAbsoluteError | 0      | train | ?              | ?             \n",
      "\u001b[36m(_tune_wrapper pid=23320)\u001b[0m 2 | mse        | MeanSquaredError  | 0      | train | ?              | ?             \n",
      "\u001b[36m(_tune_wrapper pid=23320)\u001b[0m 3 | rmse       | MeanSquaredError  | 0      | train | ?              | ?             \n",
      "\u001b[36m(_tune_wrapper pid=23320)\u001b[0m 4 | face_stack | ConvStack         | 93.5 K | train | [1, 3, 64, 64] | [1, 128, 1, 1]\n",
      "\u001b[36m(_tune_wrapper pid=23320)\u001b[0m 5 | l_stack    | ConvStack         | 209 K  | train | [1, 3, 64, 64] | [1, 192, 1, 1]\n",
      "\u001b[36m(_tune_wrapper pid=23320)\u001b[0m 6 | r_stack    | ConvStack         | 209 K  | train | [1, 3, 64, 64] | [1, 192, 1, 1]\n",
      "\u001b[36m(_tune_wrapper pid=23320)\u001b[0m 7 | head_stack | ConvStack         | 52.4 K | train | [1, 1, 64, 64] | [1, 96, 1, 1] \n",
      "\u001b[36m(_tune_wrapper pid=23320)\u001b[0m 8 | regressor  | Sequential        | 470 K  | train | [1, 609]       | [1, 2]        \n",
      "\u001b[36m(_tune_wrapper pid=23320)\u001b[0m -------------------------------------------------------------------------------------------\n",
      "\u001b[36m(_tune_wrapper pid=23320)\u001b[0m 1.0 M     Trainable params\n",
      "\u001b[36m(_tune_wrapper pid=23320)\u001b[0m 0         Non-trainable params\n",
      "\u001b[36m(_tune_wrapper pid=23320)\u001b[0m 1.0 M     Total params\n",
      "\u001b[36m(_tune_wrapper pid=23320)\u001b[0m 4.138     Total estimated model params size (MB)\n",
      "\u001b[36m(_tune_wrapper pid=23320)\u001b[0m 76        Modules in train mode\n",
      "\u001b[36m(_tune_wrapper pid=23320)\u001b[0m 0         Modules in eval mode\n",
      "\u001b[36m(_tune_wrapper pid=23320)\u001b[0m Checkpoint successfully created at: Checkpoint(filesystem=local, path=c:/Users/Youssef/Desktop/TFG/eye-tracker-vocacions/src/logs/full/tune_20250514-231020/db971_00012/checkpoint_000000)\n",
      "\u001b[36m(_tune_wrapper pid=23320)\u001b[0m Checkpoint successfully created at: Checkpoint(filesystem=local, path=c:/Users/Youssef/Desktop/TFG/eye-tracker-vocacions/src/logs/full/tune_20250514-231020/db971_00012/checkpoint_000001)\n",
      "\u001b[36m(_tune_wrapper pid=23320)\u001b[0m Checkpoint successfully created at: Checkpoint(filesystem=local, path=c:/Users/Youssef/Desktop/TFG/eye-tracker-vocacions/src/logs/full/tune_20250514-231020/db971_00012/checkpoint_000002)\n",
      "\u001b[36m(_tune_wrapper pid=23320)\u001b[0m Checkpoint successfully created at: Checkpoint(filesystem=local, path=c:/Users/Youssef/Desktop/TFG/eye-tracker-vocacions/src/logs/full/tune_20250514-231020/db971_00012/checkpoint_000003)\n",
      "\u001b[36m(_tune_wrapper pid=23320)\u001b[0m Checkpoint successfully created at: Checkpoint(filesystem=local, path=c:/Users/Youssef/Desktop/TFG/eye-tracker-vocacions/src/logs/full/tune_20250514-231020/db971_00012/checkpoint_000004)\n",
      "\u001b[36m(_tune_wrapper pid=23320)\u001b[0m Checkpoint successfully created at: Checkpoint(filesystem=local, path=c:/Users/Youssef/Desktop/TFG/eye-tracker-vocacions/src/logs/full/tune_20250514-231020/db971_00012/checkpoint_000005)\n",
      "\u001b[36m(_tune_wrapper pid=23320)\u001b[0m Checkpoint successfully created at: Checkpoint(filesystem=local, path=c:/Users/Youssef/Desktop/TFG/eye-tracker-vocacions/src/logs/full/tune_20250514-231020/db971_00012/checkpoint_000006)\n",
      "\u001b[36m(_tune_wrapper pid=23320)\u001b[0m Checkpoint successfully created at: Checkpoint(filesystem=local, path=c:/Users/Youssef/Desktop/TFG/eye-tracker-vocacions/src/logs/full/tune_20250514-231020/db971_00012/checkpoint_000007)\n",
      "\u001b[36m(_tune_wrapper pid=23320)\u001b[0m Checkpoint successfully created at: Checkpoint(filesystem=local, path=c:/Users/Youssef/Desktop/TFG/eye-tracker-vocacions/src/logs/full/tune_20250514-231020/db971_00012/checkpoint_000008)\n",
      "\u001b[36m(_tune_wrapper pid=23320)\u001b[0m Checkpoint successfully created at: Checkpoint(filesystem=local, path=c:/Users/Youssef/Desktop/TFG/eye-tracker-vocacions/src/logs/full/tune_20250514-231020/db971_00012/checkpoint_000009)\n",
      "\u001b[36m(_tune_wrapper pid=23320)\u001b[0m Checkpoint successfully created at: Checkpoint(filesystem=local, path=c:/Users/Youssef/Desktop/TFG/eye-tracker-vocacions/src/logs/full/tune_20250514-231020/db971_00012/checkpoint_000010)\n",
      "\u001b[36m(_tune_wrapper pid=23320)\u001b[0m Checkpoint successfully created at: Checkpoint(filesystem=local, path=c:/Users/Youssef/Desktop/TFG/eye-tracker-vocacions/src/logs/full/tune_20250514-231020/db971_00012/checkpoint_000011)\n",
      "\u001b[36m(_tune_wrapper pid=23320)\u001b[0m Checkpoint successfully created at: Checkpoint(filesystem=local, path=c:/Users/Youssef/Desktop/TFG/eye-tracker-vocacions/src/logs/full/tune_20250514-231020/db971_00012/checkpoint_000012)\n",
      "\u001b[36m(_tune_wrapper pid=23320)\u001b[0m Checkpoint successfully created at: Checkpoint(filesystem=local, path=c:/Users/Youssef/Desktop/TFG/eye-tracker-vocacions/src/logs/full/tune_20250514-231020/db971_00012/checkpoint_000013)\n",
      "2025-05-15 04:11:53,530\tINFO tensorboardx.py:308 -- Removed the following hyperparameter values when logging to tensorboard: {'face_channels': (32, 64, 128), 'eye_channels': (48, 96, 192), 'head_pos_channels': (24, 48, 96)}\n",
      "\u001b[36m(_tune_wrapper pid=23320)\u001b[0m Checkpoint successfully created at: Checkpoint(filesystem=local, path=c:/Users/Youssef/Desktop/TFG/eye-tracker-vocacions/src/logs/full/tune_20250514-231020/db971_00012/checkpoint_000014)\n",
      "\u001b[36m(_tune_wrapper pid=23188)\u001b[0m Seed set to 2879\n",
      "\u001b[36m(_tune_wrapper pid=23188)\u001b[0m Using bfloat16 Automatic Mixed Precision (AMP)\n",
      "\u001b[36m(_tune_wrapper pid=23188)\u001b[0m GPU available: True (cuda), used: True\n",
      "\u001b[36m(_tune_wrapper pid=23188)\u001b[0m TPU available: False, using: 0 TPU cores\n",
      "\u001b[36m(_tune_wrapper pid=23188)\u001b[0m HPU available: False, using: 0 HPUs\n",
      "\u001b[36m(_tune_wrapper pid=23188)\u001b[0m LOCAL_RANK: 0 - CUDA_VISIBLE_DEVICES: [0]\n",
      "\u001b[36m(_tune_wrapper pid=23188)\u001b[0m \n",
      "\u001b[36m(_tune_wrapper pid=23188)\u001b[0m   | Name       | Type              | Params | Mode  | In sizes       | Out sizes     \n",
      "\u001b[36m(_tune_wrapper pid=23188)\u001b[0m -------------------------------------------------------------------------------------------\n",
      "\u001b[36m(_tune_wrapper pid=23188)\u001b[0m 0 | criterion  | SmoothL1Loss      | 0      | train | ?              | ?             \n",
      "\u001b[36m(_tune_wrapper pid=23188)\u001b[0m 1 | mae        | MeanAbsoluteError | 0      | train | ?              | ?             \n",
      "\u001b[36m(_tune_wrapper pid=23188)\u001b[0m 2 | mse        | MeanSquaredError  | 0      | train | ?              | ?             \n",
      "\u001b[36m(_tune_wrapper pid=23188)\u001b[0m 3 | rmse       | MeanSquaredError  | 0      | train | ?              | ?             \n",
      "\u001b[36m(_tune_wrapper pid=23188)\u001b[0m 4 | face_stack | ConvStack         | 93.5 K | train | [1, 3, 64, 64] | [1, 128, 1, 1]\n",
      "\u001b[36m(_tune_wrapper pid=23188)\u001b[0m 5 | l_stack    | ConvStack         | 93.5 K | train | [1, 3, 64, 64] | [1, 128, 1, 1]\n",
      "\u001b[36m(_tune_wrapper pid=23188)\u001b[0m 6 | r_stack    | ConvStack         | 93.5 K | train | [1, 3, 64, 64] | [1, 128, 1, 1]\n",
      "\u001b[36m(_tune_wrapper pid=23188)\u001b[0m 7 | head_stack | ConvStack         | 52.4 K | train | [1, 1, 64, 64] | [1, 96, 1, 1] \n",
      "\u001b[36m(_tune_wrapper pid=23188)\u001b[0m 8 | regressor  | Sequential        | 247 K  | train | [1, 481]       | [1, 2]        \n",
      "\u001b[36m(_tune_wrapper pid=23188)\u001b[0m -------------------------------------------------------------------------------------------\n",
      "\u001b[36m(_tune_wrapper pid=23188)\u001b[0m 580 K     Trainable params\n",
      "\u001b[36m(_tune_wrapper pid=23188)\u001b[0m 0         Non-trainable params\n",
      "\u001b[36m(_tune_wrapper pid=23188)\u001b[0m 580 K     Total params\n",
      "\u001b[36m(_tune_wrapper pid=23188)\u001b[0m 2.322     Total estimated model params size (MB)\n",
      "\u001b[36m(_tune_wrapper pid=23188)\u001b[0m 76        Modules in train mode\n",
      "\u001b[36m(_tune_wrapper pid=23188)\u001b[0m 0         Modules in eval mode\n",
      "2025-05-15 04:16:34,609\tINFO tensorboardx.py:308 -- Removed the following hyperparameter values when logging to tensorboard: {'face_channels': (32, 64, 128), 'eye_channels': (32, 64, 128), 'head_pos_channels': (24, 48, 96)}\n",
      "\u001b[36m(_tune_wrapper pid=23188)\u001b[0m Checkpoint successfully created at: Checkpoint(filesystem=local, path=c:/Users/Youssef/Desktop/TFG/eye-tracker-vocacions/src/logs/full/tune_20250514-231020/db971_00013/checkpoint_000000)\n",
      "\u001b[36m(_tune_wrapper pid=15576)\u001b[0m Seed set to 6304\n",
      "\u001b[36m(_tune_wrapper pid=15576)\u001b[0m Using bfloat16 Automatic Mixed Precision (AMP)\n",
      "\u001b[36m(_tune_wrapper pid=15576)\u001b[0m GPU available: True (cuda), used: True\n",
      "\u001b[36m(_tune_wrapper pid=15576)\u001b[0m TPU available: False, using: 0 TPU cores\n",
      "\u001b[36m(_tune_wrapper pid=15576)\u001b[0m HPU available: False, using: 0 HPUs\n",
      "\u001b[36m(_tune_wrapper pid=15576)\u001b[0m LOCAL_RANK: 0 - CUDA_VISIBLE_DEVICES: [0]\n",
      "\u001b[36m(_tune_wrapper pid=15576)\u001b[0m \n",
      "\u001b[36m(_tune_wrapper pid=15576)\u001b[0m   | Name       | Type              | Params | Mode  | In sizes       | Out sizes     \n",
      "\u001b[36m(_tune_wrapper pid=15576)\u001b[0m -------------------------------------------------------------------------------------------\n",
      "\u001b[36m(_tune_wrapper pid=15576)\u001b[0m 0 | criterion  | SmoothL1Loss      | 0      | train | ?              | ?             \n",
      "\u001b[36m(_tune_wrapper pid=15576)\u001b[0m 1 | mae        | MeanAbsoluteError | 0      | train | ?              | ?             \n",
      "\u001b[36m(_tune_wrapper pid=15576)\u001b[0m 2 | mse        | MeanSquaredError  | 0      | train | ?              | ?             \n",
      "\u001b[36m(_tune_wrapper pid=15576)\u001b[0m 3 | rmse       | MeanSquaredError  | 0      | train | ?              | ?             \n",
      "\u001b[36m(_tune_wrapper pid=15576)\u001b[0m 4 | face_stack | ConvStack         | 209 K  | train | [1, 3, 64, 64] | [1, 192, 1, 1]\n",
      "\u001b[36m(_tune_wrapper pid=15576)\u001b[0m 5 | l_stack    | ConvStack         | 209 K  | train | [1, 3, 64, 64] | [1, 192, 1, 1]\n",
      "\u001b[36m(_tune_wrapper pid=15576)\u001b[0m 6 | r_stack    | ConvStack         | 209 K  | train | [1, 3, 64, 64] | [1, 192, 1, 1]\n",
      "\u001b[36m(_tune_wrapper pid=15576)\u001b[0m 7 | head_stack | ConvStack         | 23.4 K | train | [1, 1, 64, 64] | [1, 64, 1, 1] \n",
      "\u001b[36m(_tune_wrapper pid=15576)\u001b[0m 8 | regressor  | Sequential        | 494 K  | train | [1, 641]       | [1, 2]        \n",
      "\u001b[36m(_tune_wrapper pid=15576)\u001b[0m -------------------------------------------------------------------------------------------\n",
      "\u001b[36m(_tune_wrapper pid=15576)\u001b[0m 1.1 M     Trainable params\n",
      "\u001b[36m(_tune_wrapper pid=15576)\u001b[0m 0         Non-trainable params\n",
      "\u001b[36m(_tune_wrapper pid=15576)\u001b[0m 1.1 M     Total params\n",
      "\u001b[36m(_tune_wrapper pid=15576)\u001b[0m 4.584     Total estimated model params size (MB)\n",
      "\u001b[36m(_tune_wrapper pid=15576)\u001b[0m 76        Modules in train mode\n",
      "\u001b[36m(_tune_wrapper pid=15576)\u001b[0m 0         Modules in eval mode\n",
      "\u001b[36m(_tune_wrapper pid=15576)\u001b[0m Checkpoint successfully created at: Checkpoint(filesystem=local, path=c:/Users/Youssef/Desktop/TFG/eye-tracker-vocacions/src/logs/full/tune_20250514-231020/db971_00014/checkpoint_000000)\n",
      "\u001b[36m(_tune_wrapper pid=15576)\u001b[0m Checkpoint successfully created at: Checkpoint(filesystem=local, path=c:/Users/Youssef/Desktop/TFG/eye-tracker-vocacions/src/logs/full/tune_20250514-231020/db971_00014/checkpoint_000001)\n",
      "\u001b[36m(_tune_wrapper pid=15576)\u001b[0m Checkpoint successfully created at: Checkpoint(filesystem=local, path=c:/Users/Youssef/Desktop/TFG/eye-tracker-vocacions/src/logs/full/tune_20250514-231020/db971_00014/checkpoint_000002)\n",
      "\u001b[36m(_tune_wrapper pid=15576)\u001b[0m Checkpoint successfully created at: Checkpoint(filesystem=local, path=c:/Users/Youssef/Desktop/TFG/eye-tracker-vocacions/src/logs/full/tune_20250514-231020/db971_00014/checkpoint_000003)\n",
      "\u001b[36m(_tune_wrapper pid=15576)\u001b[0m Checkpoint successfully created at: Checkpoint(filesystem=local, path=c:/Users/Youssef/Desktop/TFG/eye-tracker-vocacions/src/logs/full/tune_20250514-231020/db971_00014/checkpoint_000004)\n",
      "\u001b[36m(_tune_wrapper pid=15576)\u001b[0m Checkpoint successfully created at: Checkpoint(filesystem=local, path=c:/Users/Youssef/Desktop/TFG/eye-tracker-vocacions/src/logs/full/tune_20250514-231020/db971_00014/checkpoint_000005)\n",
      "\u001b[36m(_tune_wrapper pid=15576)\u001b[0m Checkpoint successfully created at: Checkpoint(filesystem=local, path=c:/Users/Youssef/Desktop/TFG/eye-tracker-vocacions/src/logs/full/tune_20250514-231020/db971_00014/checkpoint_000006)\n",
      "2025-05-15 04:41:28,570\tINFO tensorboardx.py:308 -- Removed the following hyperparameter values when logging to tensorboard: {'face_channels': (48, 96, 192), 'eye_channels': (48, 96, 192), 'head_pos_channels': (16, 32, 64)}\n",
      "\u001b[36m(_tune_wrapper pid=15576)\u001b[0m Checkpoint successfully created at: Checkpoint(filesystem=local, path=c:/Users/Youssef/Desktop/TFG/eye-tracker-vocacions/src/logs/full/tune_20250514-231020/db971_00014/checkpoint_000007)\n",
      "\u001b[36m(_tune_wrapper pid=8580)\u001b[0m Seed set to 7617\n",
      "\u001b[36m(_tune_wrapper pid=8580)\u001b[0m Using bfloat16 Automatic Mixed Precision (AMP)\n",
      "\u001b[36m(_tune_wrapper pid=8580)\u001b[0m GPU available: True (cuda), used: True\n",
      "\u001b[36m(_tune_wrapper pid=8580)\u001b[0m TPU available: False, using: 0 TPU cores\n",
      "\u001b[36m(_tune_wrapper pid=8580)\u001b[0m HPU available: False, using: 0 HPUs\n",
      "\u001b[36m(_tune_wrapper pid=8580)\u001b[0m LOCAL_RANK: 0 - CUDA_VISIBLE_DEVICES: [0]\n",
      "\u001b[36m(_tune_wrapper pid=8580)\u001b[0m \n",
      "\u001b[36m(_tune_wrapper pid=8580)\u001b[0m   | Name       | Type              | Params | Mode  | In sizes       | Out sizes     \n",
      "\u001b[36m(_tune_wrapper pid=8580)\u001b[0m -------------------------------------------------------------------------------------------\n",
      "\u001b[36m(_tune_wrapper pid=8580)\u001b[0m 0 | criterion  | SmoothL1Loss      | 0      | train | ?              | ?             \n",
      "\u001b[36m(_tune_wrapper pid=8580)\u001b[0m 1 | mae        | MeanAbsoluteError | 0      | train | ?              | ?             \n",
      "\u001b[36m(_tune_wrapper pid=8580)\u001b[0m 2 | mse        | MeanSquaredError  | 0      | train | ?              | ?             \n",
      "\u001b[36m(_tune_wrapper pid=8580)\u001b[0m 3 | rmse       | MeanSquaredError  | 0      | train | ?              | ?             \n",
      "\u001b[36m(_tune_wrapper pid=8580)\u001b[0m 4 | face_stack | ConvStack         | 209 K  | train | [1, 3, 64, 64] | [1, 192, 1, 1]\n",
      "\u001b[36m(_tune_wrapper pid=8580)\u001b[0m 5 | l_stack    | ConvStack         | 93.5 K | train | [1, 3, 64, 64] | [1, 128, 1, 1]\n",
      "\u001b[36m(_tune_wrapper pid=8580)\u001b[0m 6 | r_stack    | ConvStack         | 93.5 K | train | [1, 3, 64, 64] | [1, 128, 1, 1]\n",
      "\u001b[36m(_tune_wrapper pid=8580)\u001b[0m 7 | head_stack | ConvStack         | 23.4 K | train | [1, 1, 64, 64] | [1, 64, 1, 1] \n",
      "\u001b[36m(_tune_wrapper pid=8580)\u001b[0m 8 | regressor  | Sequential        | 396 K  | train | [1, 513]       | [1, 2]        \n",
      "\u001b[36m(_tune_wrapper pid=8580)\u001b[0m -------------------------------------------------------------------------------------------\n",
      "\u001b[36m(_tune_wrapper pid=8580)\u001b[0m 815 K     Trainable params\n",
      "\u001b[36m(_tune_wrapper pid=8580)\u001b[0m 0         Non-trainable params\n",
      "\u001b[36m(_tune_wrapper pid=8580)\u001b[0m 815 K     Total params\n",
      "\u001b[36m(_tune_wrapper pid=8580)\u001b[0m 3.264     Total estimated model params size (MB)\n",
      "\u001b[36m(_tune_wrapper pid=8580)\u001b[0m 76        Modules in train mode\n",
      "\u001b[36m(_tune_wrapper pid=8580)\u001b[0m 0         Modules in eval mode\n",
      "2025-05-15 04:45:56,057\tINFO tensorboardx.py:308 -- Removed the following hyperparameter values when logging to tensorboard: {'face_channels': (48, 96, 192), 'eye_channels': (32, 64, 128), 'head_pos_channels': (16, 32, 64)}\n",
      "\u001b[36m(_tune_wrapper pid=8580)\u001b[0m Checkpoint successfully created at: Checkpoint(filesystem=local, path=c:/Users/Youssef/Desktop/TFG/eye-tracker-vocacions/src/logs/full/tune_20250514-231020/db971_00015/checkpoint_000000)\n",
      "\u001b[36m(_tune_wrapper pid=4600)\u001b[0m Seed set to 2836\n",
      "\u001b[36m(_tune_wrapper pid=4600)\u001b[0m Using bfloat16 Automatic Mixed Precision (AMP)\n",
      "\u001b[36m(_tune_wrapper pid=4600)\u001b[0m GPU available: True (cuda), used: True\n",
      "\u001b[36m(_tune_wrapper pid=4600)\u001b[0m TPU available: False, using: 0 TPU cores\n",
      "\u001b[36m(_tune_wrapper pid=4600)\u001b[0m HPU available: False, using: 0 HPUs\n",
      "\u001b[36m(_tune_wrapper pid=4600)\u001b[0m LOCAL_RANK: 0 - CUDA_VISIBLE_DEVICES: [0]\n",
      "\u001b[36m(_tune_wrapper pid=4600)\u001b[0m \n",
      "\u001b[36m(_tune_wrapper pid=4600)\u001b[0m   | Name       | Type              | Params | Mode  | In sizes       | Out sizes     \n",
      "\u001b[36m(_tune_wrapper pid=4600)\u001b[0m -------------------------------------------------------------------------------------------\n",
      "\u001b[36m(_tune_wrapper pid=4600)\u001b[0m 0 | criterion  | SmoothL1Loss      | 0      | train | ?              | ?             \n",
      "\u001b[36m(_tune_wrapper pid=4600)\u001b[0m 1 | mae        | MeanAbsoluteError | 0      | train | ?              | ?             \n",
      "\u001b[36m(_tune_wrapper pid=4600)\u001b[0m 2 | mse        | MeanSquaredError  | 0      | train | ?              | ?             \n",
      "\u001b[36m(_tune_wrapper pid=4600)\u001b[0m 3 | rmse       | MeanSquaredError  | 0      | train | ?              | ?             \n",
      "\u001b[36m(_tune_wrapper pid=4600)\u001b[0m 4 | face_stack | ConvStack         | 93.5 K | train | [1, 3, 64, 64] | [1, 128, 1, 1]\n",
      "\u001b[36m(_tune_wrapper pid=4600)\u001b[0m 5 | l_stack    | ConvStack         | 93.5 K | train | [1, 3, 64, 64] | [1, 128, 1, 1]\n",
      "\u001b[36m(_tune_wrapper pid=4600)\u001b[0m 6 | r_stack    | ConvStack         | 93.5 K | train | [1, 3, 64, 64] | [1, 128, 1, 1]\n",
      "\u001b[36m(_tune_wrapper pid=4600)\u001b[0m 7 | head_stack | ConvStack         | 52.4 K | train | [1, 1, 64, 64] | [1, 96, 1, 1] \n",
      "\u001b[36m(_tune_wrapper pid=4600)\u001b[0m 8 | regressor  | Sequential        | 123 K  | train | [1, 481]       | [1, 2]        \n",
      "\u001b[36m(_tune_wrapper pid=4600)\u001b[0m -------------------------------------------------------------------------------------------\n",
      "\u001b[36m(_tune_wrapper pid=4600)\u001b[0m 456 K     Trainable params\n",
      "\u001b[36m(_tune_wrapper pid=4600)\u001b[0m 0         Non-trainable params\n",
      "\u001b[36m(_tune_wrapper pid=4600)\u001b[0m 456 K     Total params\n",
      "\u001b[36m(_tune_wrapper pid=4600)\u001b[0m 1.827     Total estimated model params size (MB)\n",
      "\u001b[36m(_tune_wrapper pid=4600)\u001b[0m 76        Modules in train mode\n",
      "\u001b[36m(_tune_wrapper pid=4600)\u001b[0m 0         Modules in eval mode\n",
      "2025-05-15 04:50:36,015\tINFO tensorboardx.py:308 -- Removed the following hyperparameter values when logging to tensorboard: {'face_channels': (32, 64, 128), 'eye_channels': (32, 64, 128), 'head_pos_channels': (24, 48, 96)}\n",
      "\u001b[36m(_tune_wrapper pid=4600)\u001b[0m Checkpoint successfully created at: Checkpoint(filesystem=local, path=c:/Users/Youssef/Desktop/TFG/eye-tracker-vocacions/src/logs/full/tune_20250514-231020/db971_00016/checkpoint_000000)\n",
      "\u001b[36m(_tune_wrapper pid=25088)\u001b[0m Seed set to 5366\n",
      "\u001b[36m(_tune_wrapper pid=25088)\u001b[0m Using bfloat16 Automatic Mixed Precision (AMP)\n",
      "\u001b[36m(_tune_wrapper pid=25088)\u001b[0m GPU available: True (cuda), used: True\n",
      "\u001b[36m(_tune_wrapper pid=25088)\u001b[0m TPU available: False, using: 0 TPU cores\n",
      "\u001b[36m(_tune_wrapper pid=25088)\u001b[0m HPU available: False, using: 0 HPUs\n",
      "\u001b[36m(_tune_wrapper pid=25088)\u001b[0m LOCAL_RANK: 0 - CUDA_VISIBLE_DEVICES: [0]\n",
      "\u001b[36m(_tune_wrapper pid=25088)\u001b[0m \n",
      "\u001b[36m(_tune_wrapper pid=25088)\u001b[0m   | Name       | Type              | Params | Mode  | In sizes       | Out sizes     \n",
      "\u001b[36m(_tune_wrapper pid=25088)\u001b[0m -------------------------------------------------------------------------------------------\n",
      "\u001b[36m(_tune_wrapper pid=25088)\u001b[0m 0 | criterion  | SmoothL1Loss      | 0      | train | ?              | ?             \n",
      "\u001b[36m(_tune_wrapper pid=25088)\u001b[0m 1 | mae        | MeanAbsoluteError | 0      | train | ?              | ?             \n",
      "\u001b[36m(_tune_wrapper pid=25088)\u001b[0m 2 | mse        | MeanSquaredError  | 0      | train | ?              | ?             \n",
      "\u001b[36m(_tune_wrapper pid=25088)\u001b[0m 3 | rmse       | MeanSquaredError  | 0      | train | ?              | ?             \n",
      "\u001b[36m(_tune_wrapper pid=25088)\u001b[0m 4 | face_stack | ConvStack         | 209 K  | train | [1, 3, 64, 64] | [1, 192, 1, 1]\n",
      "\u001b[36m(_tune_wrapper pid=25088)\u001b[0m 5 | l_stack    | ConvStack         | 209 K  | train | [1, 3, 64, 64] | [1, 192, 1, 1]\n",
      "\u001b[36m(_tune_wrapper pid=25088)\u001b[0m 6 | r_stack    | ConvStack         | 209 K  | train | [1, 3, 64, 64] | [1, 192, 1, 1]\n",
      "\u001b[36m(_tune_wrapper pid=25088)\u001b[0m 7 | head_stack | ConvStack         | 23.4 K | train | [1, 1, 64, 64] | [1, 64, 1, 1] \n",
      "\u001b[36m(_tune_wrapper pid=25088)\u001b[0m 8 | regressor  | Sequential        | 164 K  | train | [1, 641]       | [1, 2]        \n",
      "\u001b[36m(_tune_wrapper pid=25088)\u001b[0m -------------------------------------------------------------------------------------------\n",
      "\u001b[36m(_tune_wrapper pid=25088)\u001b[0m 816 K     Trainable params\n",
      "\u001b[36m(_tune_wrapper pid=25088)\u001b[0m 0         Non-trainable params\n",
      "\u001b[36m(_tune_wrapper pid=25088)\u001b[0m 816 K     Total params\n",
      "\u001b[36m(_tune_wrapper pid=25088)\u001b[0m 3.265     Total estimated model params size (MB)\n",
      "\u001b[36m(_tune_wrapper pid=25088)\u001b[0m 76        Modules in train mode\n",
      "\u001b[36m(_tune_wrapper pid=25088)\u001b[0m 0         Modules in eval mode\n",
      "\u001b[36m(_tune_wrapper pid=25088)\u001b[0m Checkpoint successfully created at: Checkpoint(filesystem=local, path=c:/Users/Youssef/Desktop/TFG/eye-tracker-vocacions/src/logs/full/tune_20250514-231020/db971_00017/checkpoint_000000)\n",
      "\u001b[36m(_tune_wrapper pid=25088)\u001b[0m Checkpoint successfully created at: Checkpoint(filesystem=local, path=c:/Users/Youssef/Desktop/TFG/eye-tracker-vocacions/src/logs/full/tune_20250514-231020/db971_00017/checkpoint_000001)\n",
      "\u001b[36m(_tune_wrapper pid=25088)\u001b[0m Checkpoint successfully created at: Checkpoint(filesystem=local, path=c:/Users/Youssef/Desktop/TFG/eye-tracker-vocacions/src/logs/full/tune_20250514-231020/db971_00017/checkpoint_000002)\n",
      "\u001b[36m(_tune_wrapper pid=25088)\u001b[0m Checkpoint successfully created at: Checkpoint(filesystem=local, path=c:/Users/Youssef/Desktop/TFG/eye-tracker-vocacions/src/logs/full/tune_20250514-231020/db971_00017/checkpoint_000003)\n",
      "\u001b[36m(_tune_wrapper pid=25088)\u001b[0m Checkpoint successfully created at: Checkpoint(filesystem=local, path=c:/Users/Youssef/Desktop/TFG/eye-tracker-vocacions/src/logs/full/tune_20250514-231020/db971_00017/checkpoint_000004)\n",
      "\u001b[36m(_tune_wrapper pid=25088)\u001b[0m Checkpoint successfully created at: Checkpoint(filesystem=local, path=c:/Users/Youssef/Desktop/TFG/eye-tracker-vocacions/src/logs/full/tune_20250514-231020/db971_00017/checkpoint_000005)\n",
      "\u001b[36m(_tune_wrapper pid=25088)\u001b[0m Checkpoint successfully created at: Checkpoint(filesystem=local, path=c:/Users/Youssef/Desktop/TFG/eye-tracker-vocacions/src/logs/full/tune_20250514-231020/db971_00017/checkpoint_000006)\n",
      "2025-05-15 05:15:26,935\tINFO tensorboardx.py:308 -- Removed the following hyperparameter values when logging to tensorboard: {'face_channels': (48, 96, 192), 'eye_channels': (48, 96, 192), 'head_pos_channels': (16, 32, 64)}\n",
      "\u001b[36m(_tune_wrapper pid=25088)\u001b[0m Checkpoint successfully created at: Checkpoint(filesystem=local, path=c:/Users/Youssef/Desktop/TFG/eye-tracker-vocacions/src/logs/full/tune_20250514-231020/db971_00017/checkpoint_000007)\n",
      "\u001b[36m(_tune_wrapper pid=14328)\u001b[0m Seed set to 2586\n",
      "\u001b[36m(_tune_wrapper pid=14328)\u001b[0m Using bfloat16 Automatic Mixed Precision (AMP)\n",
      "\u001b[36m(_tune_wrapper pid=14328)\u001b[0m GPU available: True (cuda), used: True\n",
      "\u001b[36m(_tune_wrapper pid=14328)\u001b[0m TPU available: False, using: 0 TPU cores\n",
      "\u001b[36m(_tune_wrapper pid=14328)\u001b[0m HPU available: False, using: 0 HPUs\n",
      "\u001b[36m(_tune_wrapper pid=14328)\u001b[0m LOCAL_RANK: 0 - CUDA_VISIBLE_DEVICES: [0]\n",
      "\u001b[36m(_tune_wrapper pid=14328)\u001b[0m \n",
      "\u001b[36m(_tune_wrapper pid=14328)\u001b[0m   | Name       | Type              | Params | Mode  | In sizes       | Out sizes     \n",
      "\u001b[36m(_tune_wrapper pid=14328)\u001b[0m -------------------------------------------------------------------------------------------\n",
      "\u001b[36m(_tune_wrapper pid=14328)\u001b[0m 0 | criterion  | SmoothL1Loss      | 0      | train | ?              | ?             \n",
      "\u001b[36m(_tune_wrapper pid=14328)\u001b[0m 1 | mae        | MeanAbsoluteError | 0      | train | ?              | ?             \n",
      "\u001b[36m(_tune_wrapper pid=14328)\u001b[0m 2 | mse        | MeanSquaredError  | 0      | train | ?              | ?             \n",
      "\u001b[36m(_tune_wrapper pid=14328)\u001b[0m 3 | rmse       | MeanSquaredError  | 0      | train | ?              | ?             \n",
      "\u001b[36m(_tune_wrapper pid=14328)\u001b[0m 4 | face_stack | ConvStack         | 209 K  | train | [1, 3, 64, 64] | [1, 192, 1, 1]\n",
      "\u001b[36m(_tune_wrapper pid=14328)\u001b[0m 5 | l_stack    | ConvStack         | 93.5 K | train | [1, 3, 64, 64] | [1, 128, 1, 1]\n",
      "\u001b[36m(_tune_wrapper pid=14328)\u001b[0m 6 | r_stack    | ConvStack         | 93.5 K | train | [1, 3, 64, 64] | [1, 128, 1, 1]\n",
      "\u001b[36m(_tune_wrapper pid=14328)\u001b[0m 7 | head_stack | ConvStack         | 52.4 K | train | [1, 1, 64, 64] | [1, 96, 1, 1] \n",
      "\u001b[36m(_tune_wrapper pid=14328)\u001b[0m 8 | regressor  | Sequential        | 420 K  | train | [1, 545]       | [1, 2]        \n",
      "\u001b[36m(_tune_wrapper pid=14328)\u001b[0m -------------------------------------------------------------------------------------------\n",
      "\u001b[36m(_tune_wrapper pid=14328)\u001b[0m 869 K     Trainable params\n",
      "\u001b[36m(_tune_wrapper pid=14328)\u001b[0m 0         Non-trainable params\n",
      "\u001b[36m(_tune_wrapper pid=14328)\u001b[0m 869 K     Total params\n",
      "\u001b[36m(_tune_wrapper pid=14328)\u001b[0m 3.478     Total estimated model params size (MB)\n",
      "\u001b[36m(_tune_wrapper pid=14328)\u001b[0m 76        Modules in train mode\n",
      "\u001b[36m(_tune_wrapper pid=14328)\u001b[0m 0         Modules in eval mode\n",
      "2025-05-15 05:20:24,126\tINFO tensorboardx.py:308 -- Removed the following hyperparameter values when logging to tensorboard: {'face_channels': (48, 96, 192), 'eye_channels': (32, 64, 128), 'head_pos_channels': (24, 48, 96)}\n",
      "\u001b[36m(_tune_wrapper pid=14328)\u001b[0m Checkpoint successfully created at: Checkpoint(filesystem=local, path=c:/Users/Youssef/Desktop/TFG/eye-tracker-vocacions/src/logs/full/tune_20250514-231020/db971_00018/checkpoint_000000)\n",
      "\u001b[36m(_tune_wrapper pid=23488)\u001b[0m Seed set to 4108\n",
      "\u001b[36m(_tune_wrapper pid=23488)\u001b[0m Using bfloat16 Automatic Mixed Precision (AMP)\n",
      "\u001b[36m(_tune_wrapper pid=23488)\u001b[0m GPU available: True (cuda), used: True\n",
      "\u001b[36m(_tune_wrapper pid=23488)\u001b[0m TPU available: False, using: 0 TPU cores\n",
      "\u001b[36m(_tune_wrapper pid=23488)\u001b[0m HPU available: False, using: 0 HPUs\n",
      "\u001b[36m(_tune_wrapper pid=23488)\u001b[0m LOCAL_RANK: 0 - CUDA_VISIBLE_DEVICES: [0]\n",
      "\u001b[36m(_tune_wrapper pid=23488)\u001b[0m \n",
      "\u001b[36m(_tune_wrapper pid=23488)\u001b[0m   | Name       | Type              | Params | Mode  | In sizes       | Out sizes     \n",
      "\u001b[36m(_tune_wrapper pid=23488)\u001b[0m -------------------------------------------------------------------------------------------\n",
      "\u001b[36m(_tune_wrapper pid=23488)\u001b[0m 0 | criterion  | SmoothL1Loss      | 0      | train | ?              | ?             \n",
      "\u001b[36m(_tune_wrapper pid=23488)\u001b[0m 1 | mae        | MeanAbsoluteError | 0      | train | ?              | ?             \n",
      "\u001b[36m(_tune_wrapper pid=23488)\u001b[0m 2 | mse        | MeanSquaredError  | 0      | train | ?              | ?             \n",
      "\u001b[36m(_tune_wrapper pid=23488)\u001b[0m 3 | rmse       | MeanSquaredError  | 0      | train | ?              | ?             \n",
      "\u001b[36m(_tune_wrapper pid=23488)\u001b[0m 4 | face_stack | ConvStack         | 209 K  | train | [1, 3, 64, 64] | [1, 192, 1, 1]\n",
      "\u001b[36m(_tune_wrapper pid=23488)\u001b[0m 5 | l_stack    | ConvStack         | 209 K  | train | [1, 3, 64, 64] | [1, 192, 1, 1]\n",
      "\u001b[36m(_tune_wrapper pid=23488)\u001b[0m 6 | r_stack    | ConvStack         | 209 K  | train | [1, 3, 64, 64] | [1, 192, 1, 1]\n",
      "\u001b[36m(_tune_wrapper pid=23488)\u001b[0m 7 | head_stack | ConvStack         | 23.4 K | train | [1, 1, 64, 64] | [1, 64, 1, 1] \n",
      "\u001b[36m(_tune_wrapper pid=23488)\u001b[0m 8 | regressor  | Sequential        | 329 K  | train | [1, 641]       | [1, 2]        \n",
      "\u001b[36m(_tune_wrapper pid=23488)\u001b[0m -------------------------------------------------------------------------------------------\n",
      "\u001b[36m(_tune_wrapper pid=23488)\u001b[0m 981 K     Trainable params\n",
      "\u001b[36m(_tune_wrapper pid=23488)\u001b[0m 0         Non-trainable params\n",
      "\u001b[36m(_tune_wrapper pid=23488)\u001b[0m 981 K     Total params\n",
      "\u001b[36m(_tune_wrapper pid=23488)\u001b[0m 3.924     Total estimated model params size (MB)\n",
      "\u001b[36m(_tune_wrapper pid=23488)\u001b[0m 76        Modules in train mode\n",
      "\u001b[36m(_tune_wrapper pid=23488)\u001b[0m 0         Modules in eval mode\n",
      "2025-05-15 05:25:12,475\tINFO tensorboardx.py:308 -- Removed the following hyperparameter values when logging to tensorboard: {'face_channels': (48, 96, 192), 'eye_channels': (48, 96, 192), 'head_pos_channels': (16, 32, 64)}\n",
      "2025-05-15 05:25:12,517\tINFO tune.py:1009 -- Wrote the latest version of all result files and experiment state to 'c:/Users/Youssef/Desktop/TFG/eye-tracker-vocacions/src/logs/full/tune_20250514-231020' in 0.0428s.\n",
      "2025-05-15 05:25:12,545\tINFO tune.py:1041 -- Total run time: 22485.83 seconds (22485.71 seconds for the tuning loop).\n",
      "\u001b[36m(_tune_wrapper pid=23488)\u001b[0m Checkpoint successfully created at: Checkpoint(filesystem=local, path=c:/Users/Youssef/Desktop/TFG/eye-tracker-vocacions/src/logs/full/tune_20250514-231020/db971_00019/checkpoint_000000)\n"
     ]
    },
    {
     "name": "stdout",
     "output_type": "stream",
     "text": [
      "Best hyperparameters:  {'seed': 5155, 'bs': 64, 'lr': 0.0005714766204981336, 'face_channels': (48, 96, 192), 'eye_channels': (48, 96, 192), 'head_pos_channels': (16, 32, 64), 'hidden': 256}\n"
     ]
    }
   ],
   "source": [
    "search_space = {\n",
    "    \"seed\":  tune.randint(0, 10000),\n",
    "    \"bs\":    tune.choice([64, 128, 256]),\n",
    "    \"lr\":    tune.loguniform(1e-4, 3e-3),\n",
    "    \"face_channels\"     : tune.choice([(32, 64, 128), (48, 96, 192)]),\n",
    "    \"eye_channels\"      : tune.choice([(32, 64, 128), (48, 96, 192)]),\n",
    "    \"head_pos_channels\" : tune.choice([(16, 32, 64),  (24, 48, 96)]),\n",
    "    \"hidden\": tune.choice([256, 512, 768]),\n",
    "}\n",
    "\n",
    "analysis = tune_asha(\n",
    "    search_space   = search_space,\n",
    "    train_func     = \"full\",\n",
    "    name           = \"full/tune\",\n",
    "    img_types    = [\"face_aligned\", \"l_eye\", \"r_eye\", \"head_pos\", \"head_angle\"],\n",
    "    num_samples    = 20,\n",
    "    num_epochs     = 15,\n",
    "    data_dir     = Path.cwd() / \"data\",\n",
    "    seed           = 87,\n",
    ")"
   ]
  },
  {
   "cell_type": "markdown",
   "metadata": {},
   "source": [
    "### Training"
   ]
  },
  {
   "cell_type": "code",
   "execution_count": null,
   "metadata": {},
   "outputs": [
    {
     "name": "stderr",
     "output_type": "stream",
     "text": [
      "Seed set to 5155\n",
      "Using bfloat16 Automatic Mixed Precision (AMP)\n"
     ]
    },
    {
     "name": "stdout",
     "output_type": "stream",
     "text": [
      "\n",
      "--- Best of 'c:\\Users\\Youssef\\Desktop\\TFG\\eye-tracker-vocacions\\src\\logs\\full\\tune_20250514-231020' ---\n",
      "\n",
      "Directory: db971_00003\n",
      "Loss: 63.27\n",
      "Pixel error: 7.95\n",
      "Hyperparameters...\n",
      "- seed: 5155\n",
      "- bs: 64\n",
      "- lr: 0.0005714766204981336\n",
      "- face_channels: [48, 96, 192]\n",
      "- eye_channels: [48, 96, 192]\n",
      "- head_pos_channels: [16, 32, 64]\n",
      "- hidden: 256\n"
     ]
    },
    {
     "name": "stderr",
     "output_type": "stream",
     "text": [
      "GPU available: True (cuda), used: True\n",
      "TPU available: False, using: 0 TPU cores\n",
      "HPU available: False, using: 0 HPUs\n",
      "LOCAL_RANK: 0 - CUDA_VISIBLE_DEVICES: [0]\n",
      "\n",
      "  | Name       | Type              | Params | Mode  | In sizes       | Out sizes     \n",
      "-------------------------------------------------------------------------------------------\n",
      "0 | criterion  | SmoothL1Loss      | 0      | train | ?              | ?             \n",
      "1 | mae        | MeanAbsoluteError | 0      | train | ?              | ?             \n",
      "2 | mse        | MeanSquaredError  | 0      | train | ?              | ?             \n",
      "3 | rmse       | MeanSquaredError  | 0      | train | ?              | ?             \n",
      "4 | face_stack | ConvStack         | 209 K  | train | [1, 3, 64, 64] | [1, 192, 1, 1]\n",
      "5 | l_stack    | ConvStack         | 209 K  | train | [1, 3, 64, 64] | [1, 192, 1, 1]\n",
      "6 | r_stack    | ConvStack         | 209 K  | train | [1, 3, 64, 64] | [1, 192, 1, 1]\n",
      "7 | head_stack | ConvStack         | 23.4 K | train | [1, 1, 64, 64] | [1, 64, 1, 1] \n",
      "8 | regressor  | Sequential        | 164 K  | train | [1, 641]       | [1, 2]        \n",
      "-------------------------------------------------------------------------------------------\n",
      "816 K     Trainable params\n",
      "0         Non-trainable params\n",
      "816 K     Total params\n",
      "3.265     Total estimated model params size (MB)\n",
      "76        Modules in train mode\n",
      "0         Modules in eval mode\n",
      "c:\\Users\\Youssef\\Desktop\\TFG\\eye-tracker-vocacions\\.venv\\Lib\\site-packages\\pytorch_lightning\\loggers\\tensorboard.py:200: Could not log computational graph to TensorBoard: The `input_array` or `model.example_input_array` has type <class 'list'> which can't be traced by TensorBoard. Make the input array a tuple representing the positional arguments to the model's `forward()` implementation.\n"
     ]
    },
    {
     "data": {
      "application/vnd.jupyter.widget-view+json": {
       "model_id": "96a10070275e400d9bb434f9873cbeb3",
       "version_major": 2,
       "version_minor": 0
      },
      "text/plain": [
       "Sanity Checking: |          | 0/? [00:00<?, ?it/s]"
      ]
     },
     "metadata": {},
     "output_type": "display_data"
    },
    {
     "data": {
      "application/vnd.jupyter.widget-view+json": {
       "model_id": "219faea9946742859d66050a6fb9b213",
       "version_major": 2,
       "version_minor": 0
      },
      "text/plain": [
       "Training: |          | 0/? [00:00<?, ?it/s]"
      ]
     },
     "metadata": {},
     "output_type": "display_data"
    },
    {
     "data": {
      "application/vnd.jupyter.widget-view+json": {
       "model_id": "2a4f8878dc1a426b855a34770daad776",
       "version_major": 2,
       "version_minor": 0
      },
      "text/plain": [
       "Validation: |          | 0/? [00:00<?, ?it/s]"
      ]
     },
     "metadata": {},
     "output_type": "display_data"
    },
    {
     "data": {
      "application/vnd.jupyter.widget-view+json": {
       "model_id": "173097f7fa7047c78fa875209d969d9c",
       "version_major": 2,
       "version_minor": 0
      },
      "text/plain": [
       "Validation: |          | 0/? [00:00<?, ?it/s]"
      ]
     },
     "metadata": {},
     "output_type": "display_data"
    },
    {
     "data": {
      "application/vnd.jupyter.widget-view+json": {
       "model_id": "b9b479fb058443408fd78e295a5991a2",
       "version_major": 2,
       "version_minor": 0
      },
      "text/plain": [
       "Validation: |          | 0/? [00:00<?, ?it/s]"
      ]
     },
     "metadata": {},
     "output_type": "display_data"
    },
    {
     "data": {
      "application/vnd.jupyter.widget-view+json": {
       "model_id": "969fbf8c757e49eca8ee8d7896f3f4cf",
       "version_major": 2,
       "version_minor": 0
      },
      "text/plain": [
       "Validation: |          | 0/? [00:00<?, ?it/s]"
      ]
     },
     "metadata": {},
     "output_type": "display_data"
    },
    {
     "data": {
      "application/vnd.jupyter.widget-view+json": {
       "model_id": "642461c8cdbc414ea3e2a9ddb2b2c13f",
       "version_major": 2,
       "version_minor": 0
      },
      "text/plain": [
       "Validation: |          | 0/? [00:00<?, ?it/s]"
      ]
     },
     "metadata": {},
     "output_type": "display_data"
    },
    {
     "data": {
      "application/vnd.jupyter.widget-view+json": {
       "model_id": "a8b8ec7bb58d4e4fb2bfb287f8682305",
       "version_major": 2,
       "version_minor": 0
      },
      "text/plain": [
       "Validation: |          | 0/? [00:00<?, ?it/s]"
      ]
     },
     "metadata": {},
     "output_type": "display_data"
    },
    {
     "data": {
      "application/vnd.jupyter.widget-view+json": {
       "model_id": "289d5f5d43e349d0861ca9bf38ce6056",
       "version_major": 2,
       "version_minor": 0
      },
      "text/plain": [
       "Validation: |          | 0/? [00:00<?, ?it/s]"
      ]
     },
     "metadata": {},
     "output_type": "display_data"
    },
    {
     "data": {
      "application/vnd.jupyter.widget-view+json": {
       "model_id": "47c9003171654592b9a4a17bf3b57a68",
       "version_major": 2,
       "version_minor": 0
      },
      "text/plain": [
       "Validation: |          | 0/? [00:00<?, ?it/s]"
      ]
     },
     "metadata": {},
     "output_type": "display_data"
    },
    {
     "data": {
      "application/vnd.jupyter.widget-view+json": {
       "model_id": "6f83f2028c944e9e8e9f49cfd1351d85",
       "version_major": 2,
       "version_minor": 0
      },
      "text/plain": [
       "Validation: |          | 0/? [00:00<?, ?it/s]"
      ]
     },
     "metadata": {},
     "output_type": "display_data"
    },
    {
     "data": {
      "application/vnd.jupyter.widget-view+json": {
       "model_id": "d647553936e94b829977b80cd4d9a5bd",
       "version_major": 2,
       "version_minor": 0
      },
      "text/plain": [
       "Validation: |          | 0/? [00:00<?, ?it/s]"
      ]
     },
     "metadata": {},
     "output_type": "display_data"
    },
    {
     "data": {
      "application/vnd.jupyter.widget-view+json": {
       "model_id": "2aec2b8d492449319f3e027e4e7261ef",
       "version_major": 2,
       "version_minor": 0
      },
      "text/plain": [
       "Validation: |          | 0/? [00:00<?, ?it/s]"
      ]
     },
     "metadata": {},
     "output_type": "display_data"
    },
    {
     "data": {
      "application/vnd.jupyter.widget-view+json": {
       "model_id": "d6c9cda02598447bb643fe2551bdc775",
       "version_major": 2,
       "version_minor": 0
      },
      "text/plain": [
       "Validation: |          | 0/? [00:00<?, ?it/s]"
      ]
     },
     "metadata": {},
     "output_type": "display_data"
    },
    {
     "data": {
      "application/vnd.jupyter.widget-view+json": {
       "model_id": "6e85e8c57a3042439c2e86fd7624a9bc",
       "version_major": 2,
       "version_minor": 0
      },
      "text/plain": [
       "Validation: |          | 0/? [00:00<?, ?it/s]"
      ]
     },
     "metadata": {},
     "output_type": "display_data"
    },
    {
     "data": {
      "application/vnd.jupyter.widget-view+json": {
       "model_id": "2b495f7b2da649b584c5fb79e5bbf168",
       "version_major": 2,
       "version_minor": 0
      },
      "text/plain": [
       "Validation: |          | 0/? [00:00<?, ?it/s]"
      ]
     },
     "metadata": {},
     "output_type": "display_data"
    },
    {
     "data": {
      "application/vnd.jupyter.widget-view+json": {
       "model_id": "8b9fa8d85e834dc49e1b8628c63a19f8",
       "version_major": 2,
       "version_minor": 0
      },
      "text/plain": [
       "Validation: |          | 0/? [00:00<?, ?it/s]"
      ]
     },
     "metadata": {},
     "output_type": "display_data"
    },
    {
     "data": {
      "application/vnd.jupyter.widget-view+json": {
       "model_id": "6e16c43261744f82af7767dee6d9d71b",
       "version_major": 2,
       "version_minor": 0
      },
      "text/plain": [
       "Validation: |          | 0/? [00:00<?, ?it/s]"
      ]
     },
     "metadata": {},
     "output_type": "display_data"
    },
    {
     "data": {
      "application/vnd.jupyter.widget-view+json": {
       "model_id": "fe8d293cf68d475991fe86aa07c539f9",
       "version_major": 2,
       "version_minor": 0
      },
      "text/plain": [
       "Validation: |          | 0/? [00:00<?, ?it/s]"
      ]
     },
     "metadata": {},
     "output_type": "display_data"
    },
    {
     "data": {
      "application/vnd.jupyter.widget-view+json": {
       "model_id": "aef23267186b472890a0ff5531f9cd4c",
       "version_major": 2,
       "version_minor": 0
      },
      "text/plain": [
       "Validation: |          | 0/? [00:00<?, ?it/s]"
      ]
     },
     "metadata": {},
     "output_type": "display_data"
    },
    {
     "data": {
      "application/vnd.jupyter.widget-view+json": {
       "model_id": "7cb4587c313348578f335a2dde4219b0",
       "version_major": 2,
       "version_minor": 0
      },
      "text/plain": [
       "Validation: |          | 0/? [00:00<?, ?it/s]"
      ]
     },
     "metadata": {},
     "output_type": "display_data"
    },
    {
     "data": {
      "application/vnd.jupyter.widget-view+json": {
       "model_id": "f3d397c0228d4628b78d5f087994414e",
       "version_major": 2,
       "version_minor": 0
      },
      "text/plain": [
       "Validation: |          | 0/? [00:00<?, ?it/s]"
      ]
     },
     "metadata": {},
     "output_type": "display_data"
    },
    {
     "data": {
      "application/vnd.jupyter.widget-view+json": {
       "model_id": "4eb35a6aaffa4b609b6ba2d597cf63e8",
       "version_major": 2,
       "version_minor": 0
      },
      "text/plain": [
       "Validation: |          | 0/? [00:00<?, ?it/s]"
      ]
     },
     "metadata": {},
     "output_type": "display_data"
    },
    {
     "data": {
      "application/vnd.jupyter.widget-view+json": {
       "model_id": "16ac0c01e3d548b5a06c9f7b8a1ea700",
       "version_major": 2,
       "version_minor": 0
      },
      "text/plain": [
       "Validation: |          | 0/? [00:00<?, ?it/s]"
      ]
     },
     "metadata": {},
     "output_type": "display_data"
    },
    {
     "data": {
      "application/vnd.jupyter.widget-view+json": {
       "model_id": "ea546dbdfca94a10a3dfc9548d4e5bd9",
       "version_major": 2,
       "version_minor": 0
      },
      "text/plain": [
       "Validation: |          | 0/? [00:00<?, ?it/s]"
      ]
     },
     "metadata": {},
     "output_type": "display_data"
    },
    {
     "data": {
      "application/vnd.jupyter.widget-view+json": {
       "model_id": "fab33d8018ab476ba411834aa9fe95f4",
       "version_major": 2,
       "version_minor": 0
      },
      "text/plain": [
       "Validation: |          | 0/? [00:00<?, ?it/s]"
      ]
     },
     "metadata": {},
     "output_type": "display_data"
    },
    {
     "data": {
      "application/vnd.jupyter.widget-view+json": {
       "model_id": "b5ba4991ffdd48f8980ecdcc0e2537ae",
       "version_major": 2,
       "version_minor": 0
      },
      "text/plain": [
       "Validation: |          | 0/? [00:00<?, ?it/s]"
      ]
     },
     "metadata": {},
     "output_type": "display_data"
    },
    {
     "data": {
      "application/vnd.jupyter.widget-view+json": {
       "model_id": "be190877fb6547989fc4341d6292bd95",
       "version_major": 2,
       "version_minor": 0
      },
      "text/plain": [
       "Validation: |          | 0/? [00:00<?, ?it/s]"
      ]
     },
     "metadata": {},
     "output_type": "display_data"
    },
    {
     "data": {
      "application/vnd.jupyter.widget-view+json": {
       "model_id": "937af95775e640c5853284fd82565f02",
       "version_major": 2,
       "version_minor": 0
      },
      "text/plain": [
       "Validation: |          | 0/? [00:00<?, ?it/s]"
      ]
     },
     "metadata": {},
     "output_type": "display_data"
    },
    {
     "data": {
      "application/vnd.jupyter.widget-view+json": {
       "model_id": "2d41688df64b4da6a7d6cc4b18abd784",
       "version_major": 2,
       "version_minor": 0
      },
      "text/plain": [
       "Validation: |          | 0/? [00:00<?, ?it/s]"
      ]
     },
     "metadata": {},
     "output_type": "display_data"
    },
    {
     "data": {
      "application/vnd.jupyter.widget-view+json": {
       "model_id": "d3ec78b65efe4a0eb0b05c2fc81d34e9",
       "version_major": 2,
       "version_minor": 0
      },
      "text/plain": [
       "Validation: |          | 0/? [00:00<?, ?it/s]"
      ]
     },
     "metadata": {},
     "output_type": "display_data"
    },
    {
     "data": {
      "application/vnd.jupyter.widget-view+json": {
       "model_id": "3e411de318b14370bb770d1c1ac89ace",
       "version_major": 2,
       "version_minor": 0
      },
      "text/plain": [
       "Validation: |          | 0/? [00:00<?, ?it/s]"
      ]
     },
     "metadata": {},
     "output_type": "display_data"
    },
    {
     "data": {
      "application/vnd.jupyter.widget-view+json": {
       "model_id": "3093e5a8b5004e22a4fdf58e1bf0a2b0",
       "version_major": 2,
       "version_minor": 0
      },
      "text/plain": [
       "Validation: |          | 0/? [00:00<?, ?it/s]"
      ]
     },
     "metadata": {},
     "output_type": "display_data"
    },
    {
     "data": {
      "application/vnd.jupyter.widget-view+json": {
       "model_id": "1e948439fc4e4a5e9597a5ab07ffdc6b",
       "version_major": 2,
       "version_minor": 0
      },
      "text/plain": [
       "Validation: |          | 0/? [00:00<?, ?it/s]"
      ]
     },
     "metadata": {},
     "output_type": "display_data"
    },
    {
     "data": {
      "application/vnd.jupyter.widget-view+json": {
       "model_id": "550ccb87a7b148be8ca29f620b7d9716",
       "version_major": 2,
       "version_minor": 0
      },
      "text/plain": [
       "Validation: |          | 0/? [00:00<?, ?it/s]"
      ]
     },
     "metadata": {},
     "output_type": "display_data"
    },
    {
     "data": {
      "application/vnd.jupyter.widget-view+json": {
       "model_id": "906ab515f4d147a0ae4bba3c73206651",
       "version_major": 2,
       "version_minor": 0
      },
      "text/plain": [
       "Validation: |          | 0/? [00:00<?, ?it/s]"
      ]
     },
     "metadata": {},
     "output_type": "display_data"
    },
    {
     "data": {
      "application/vnd.jupyter.widget-view+json": {
       "model_id": "dda8e86e7dc24f649f5fd181f966b18c",
       "version_major": 2,
       "version_minor": 0
      },
      "text/plain": [
       "Validation: |          | 0/? [00:00<?, ?it/s]"
      ]
     },
     "metadata": {},
     "output_type": "display_data"
    },
    {
     "data": {
      "application/vnd.jupyter.widget-view+json": {
       "model_id": "d6d7b97234204d03b6491b4908089164",
       "version_major": 2,
       "version_minor": 0
      },
      "text/plain": [
       "Validation: |          | 0/? [00:00<?, ?it/s]"
      ]
     },
     "metadata": {},
     "output_type": "display_data"
    },
    {
     "data": {
      "application/vnd.jupyter.widget-view+json": {
       "model_id": "a462fbd4f5ca432f82badea2ba363f2a",
       "version_major": 2,
       "version_minor": 0
      },
      "text/plain": [
       "Validation: |          | 0/? [00:00<?, ?it/s]"
      ]
     },
     "metadata": {},
     "output_type": "display_data"
    },
    {
     "data": {
      "application/vnd.jupyter.widget-view+json": {
       "model_id": "aaeb4add560046faab63b4345ffbe190",
       "version_major": 2,
       "version_minor": 0
      },
      "text/plain": [
       "Validation: |          | 0/? [00:00<?, ?it/s]"
      ]
     },
     "metadata": {},
     "output_type": "display_data"
    },
    {
     "data": {
      "application/vnd.jupyter.widget-view+json": {
       "model_id": "16124531e27b4631a11d5e0bbb4e6300",
       "version_major": 2,
       "version_minor": 0
      },
      "text/plain": [
       "Validation: |          | 0/? [00:00<?, ?it/s]"
      ]
     },
     "metadata": {},
     "output_type": "display_data"
    },
    {
     "data": {
      "application/vnd.jupyter.widget-view+json": {
       "model_id": "5534bb7ef9ed450cb060e15692ef46d4",
       "version_major": 2,
       "version_minor": 0
      },
      "text/plain": [
       "Validation: |          | 0/? [00:00<?, ?it/s]"
      ]
     },
     "metadata": {},
     "output_type": "display_data"
    },
    {
     "data": {
      "application/vnd.jupyter.widget-view+json": {
       "model_id": "40cdaf355d344d4daa828da03999060d",
       "version_major": 2,
       "version_minor": 0
      },
      "text/plain": [
       "Validation: |          | 0/? [00:00<?, ?it/s]"
      ]
     },
     "metadata": {},
     "output_type": "display_data"
    },
    {
     "data": {
      "application/vnd.jupyter.widget-view+json": {
       "model_id": "77e8126031914f52918f63993973f738",
       "version_major": 2,
       "version_minor": 0
      },
      "text/plain": [
       "Validation: |          | 0/? [00:00<?, ?it/s]"
      ]
     },
     "metadata": {},
     "output_type": "display_data"
    },
    {
     "data": {
      "application/vnd.jupyter.widget-view+json": {
       "model_id": "b98cc758b5694e7389c5292c15907f9e",
       "version_major": 2,
       "version_minor": 0
      },
      "text/plain": [
       "Validation: |          | 0/? [00:00<?, ?it/s]"
      ]
     },
     "metadata": {},
     "output_type": "display_data"
    },
    {
     "data": {
      "application/vnd.jupyter.widget-view+json": {
       "model_id": "1dcaded60447424baf1f1b4cbb4d8b8a",
       "version_major": 2,
       "version_minor": 0
      },
      "text/plain": [
       "Validation: |          | 0/? [00:00<?, ?it/s]"
      ]
     },
     "metadata": {},
     "output_type": "display_data"
    },
    {
     "data": {
      "application/vnd.jupyter.widget-view+json": {
       "model_id": "e0eaca08cd9946d49ab56cef142ef2be",
       "version_major": 2,
       "version_minor": 0
      },
      "text/plain": [
       "Validation: |          | 0/? [00:00<?, ?it/s]"
      ]
     },
     "metadata": {},
     "output_type": "display_data"
    },
    {
     "data": {
      "application/vnd.jupyter.widget-view+json": {
       "model_id": "00a2e9d72ade4ac68585b96ba07839f4",
       "version_major": 2,
       "version_minor": 0
      },
      "text/plain": [
       "Validation: |          | 0/? [00:00<?, ?it/s]"
      ]
     },
     "metadata": {},
     "output_type": "display_data"
    },
    {
     "data": {
      "application/vnd.jupyter.widget-view+json": {
       "model_id": "53ad6b2a40d7471bb475b620c42d87b7",
       "version_major": 2,
       "version_minor": 0
      },
      "text/plain": [
       "Validation: |          | 0/? [00:00<?, ?it/s]"
      ]
     },
     "metadata": {},
     "output_type": "display_data"
    },
    {
     "data": {
      "application/vnd.jupyter.widget-view+json": {
       "model_id": "68a50a6a803d4bdb8a94f3255819c791",
       "version_major": 2,
       "version_minor": 0
      },
      "text/plain": [
       "Validation: |          | 0/? [00:00<?, ?it/s]"
      ]
     },
     "metadata": {},
     "output_type": "display_data"
    },
    {
     "data": {
      "application/vnd.jupyter.widget-view+json": {
       "model_id": "f33a35d973cf434ea9e2b69097c5589e",
       "version_major": 2,
       "version_minor": 0
      },
      "text/plain": [
       "Validation: |          | 0/? [00:00<?, ?it/s]"
      ]
     },
     "metadata": {},
     "output_type": "display_data"
    },
    {
     "data": {
      "application/vnd.jupyter.widget-view+json": {
       "model_id": "46961c970d69473ab848884aed6739be",
       "version_major": 2,
       "version_minor": 0
      },
      "text/plain": [
       "Validation: |          | 0/? [00:00<?, ?it/s]"
      ]
     },
     "metadata": {},
     "output_type": "display_data"
    },
    {
     "data": {
      "application/vnd.jupyter.widget-view+json": {
       "model_id": "6c190f8f6c2a4bf8b97667fac39ee949",
       "version_major": 2,
       "version_minor": 0
      },
      "text/plain": [
       "Validation: |          | 0/? [00:00<?, ?it/s]"
      ]
     },
     "metadata": {},
     "output_type": "display_data"
    },
    {
     "data": {
      "application/vnd.jupyter.widget-view+json": {
       "model_id": "daea0540eaaa4d48acac0eab5dd779f4",
       "version_major": 2,
       "version_minor": 0
      },
      "text/plain": [
       "Validation: |          | 0/? [00:00<?, ?it/s]"
      ]
     },
     "metadata": {},
     "output_type": "display_data"
    },
    {
     "data": {
      "application/vnd.jupyter.widget-view+json": {
       "model_id": "781b14c0fb6c44b7bac70ef777b28cd3",
       "version_major": 2,
       "version_minor": 0
      },
      "text/plain": [
       "Validation: |          | 0/? [00:00<?, ?it/s]"
      ]
     },
     "metadata": {},
     "output_type": "display_data"
    },
    {
     "data": {
      "application/vnd.jupyter.widget-view+json": {
       "model_id": "9b363e96c4554ef9bfde5be3d8f653a7",
       "version_major": 2,
       "version_minor": 0
      },
      "text/plain": [
       "Validation: |          | 0/? [00:00<?, ?it/s]"
      ]
     },
     "metadata": {},
     "output_type": "display_data"
    },
    {
     "data": {
      "application/vnd.jupyter.widget-view+json": {
       "model_id": "ba65bd40458d48e5b6411361afa051e0",
       "version_major": 2,
       "version_minor": 0
      },
      "text/plain": [
       "Validation: |          | 0/? [00:00<?, ?it/s]"
      ]
     },
     "metadata": {},
     "output_type": "display_data"
    },
    {
     "data": {
      "application/vnd.jupyter.widget-view+json": {
       "model_id": "3b869bedfba74c11831da8f29bac1436",
       "version_major": 2,
       "version_minor": 0
      },
      "text/plain": [
       "Validation: |          | 0/? [00:00<?, ?it/s]"
      ]
     },
     "metadata": {},
     "output_type": "display_data"
    },
    {
     "data": {
      "application/vnd.jupyter.widget-view+json": {
       "model_id": "fdaa98d97a794aee9ae9498eee93500d",
       "version_major": 2,
       "version_minor": 0
      },
      "text/plain": [
       "Validation: |          | 0/? [00:00<?, ?it/s]"
      ]
     },
     "metadata": {},
     "output_type": "display_data"
    },
    {
     "data": {
      "application/vnd.jupyter.widget-view+json": {
       "model_id": "0f097fcad73d4f9caad3172c368884d4",
       "version_major": 2,
       "version_minor": 0
      },
      "text/plain": [
       "Validation: |          | 0/? [00:00<?, ?it/s]"
      ]
     },
     "metadata": {},
     "output_type": "display_data"
    },
    {
     "data": {
      "application/vnd.jupyter.widget-view+json": {
       "model_id": "2d0fa813898c476086011cdb1b910b25",
       "version_major": 2,
       "version_minor": 0
      },
      "text/plain": [
       "Validation: |          | 0/? [00:00<?, ?it/s]"
      ]
     },
     "metadata": {},
     "output_type": "display_data"
    },
    {
     "data": {
      "application/vnd.jupyter.widget-view+json": {
       "model_id": "cac64066c7c34608b92f031f765fdfdc",
       "version_major": 2,
       "version_minor": 0
      },
      "text/plain": [
       "Validation: |          | 0/? [00:00<?, ?it/s]"
      ]
     },
     "metadata": {},
     "output_type": "display_data"
    },
    {
     "data": {
      "application/vnd.jupyter.widget-view+json": {
       "model_id": "58d007e4f3ee4996982e13a0e07e1662",
       "version_major": 2,
       "version_minor": 0
      },
      "text/plain": [
       "Validation: |          | 0/? [00:00<?, ?it/s]"
      ]
     },
     "metadata": {},
     "output_type": "display_data"
    },
    {
     "data": {
      "application/vnd.jupyter.widget-view+json": {
       "model_id": "71eb3e71f6d54f08ad9b3c7822f8e3d1",
       "version_major": 2,
       "version_minor": 0
      },
      "text/plain": [
       "Validation: |          | 0/? [00:00<?, ?it/s]"
      ]
     },
     "metadata": {},
     "output_type": "display_data"
    },
    {
     "data": {
      "application/vnd.jupyter.widget-view+json": {
       "model_id": "5eae2c83858d4907bd45efc93bf2c865",
       "version_major": 2,
       "version_minor": 0
      },
      "text/plain": [
       "Validation: |          | 0/? [00:00<?, ?it/s]"
      ]
     },
     "metadata": {},
     "output_type": "display_data"
    },
    {
     "data": {
      "application/vnd.jupyter.widget-view+json": {
       "model_id": "d3b30d6769e94305829ead7f128d9dfc",
       "version_major": 2,
       "version_minor": 0
      },
      "text/plain": [
       "Validation: |          | 0/? [00:00<?, ?it/s]"
      ]
     },
     "metadata": {},
     "output_type": "display_data"
    },
    {
     "data": {
      "application/vnd.jupyter.widget-view+json": {
       "model_id": "ad6533f7a8e54142805d483119e049b0",
       "version_major": 2,
       "version_minor": 0
      },
      "text/plain": [
       "Validation: |          | 0/? [00:00<?, ?it/s]"
      ]
     },
     "metadata": {},
     "output_type": "display_data"
    },
    {
     "data": {
      "application/vnd.jupyter.widget-view+json": {
       "model_id": "22db19390a28458eb9664dce3b0da61d",
       "version_major": 2,
       "version_minor": 0
      },
      "text/plain": [
       "Validation: |          | 0/? [00:00<?, ?it/s]"
      ]
     },
     "metadata": {},
     "output_type": "display_data"
    },
    {
     "data": {
      "application/vnd.jupyter.widget-view+json": {
       "model_id": "48796050ec0e438b91fc2e7a5cfbc2ab",
       "version_major": 2,
       "version_minor": 0
      },
      "text/plain": [
       "Validation: |          | 0/? [00:00<?, ?it/s]"
      ]
     },
     "metadata": {},
     "output_type": "display_data"
    },
    {
     "data": {
      "application/vnd.jupyter.widget-view+json": {
       "model_id": "fbdef59d4b6642d1b2a8ca83f2051a1d",
       "version_major": 2,
       "version_minor": 0
      },
      "text/plain": [
       "Validation: |          | 0/? [00:00<?, ?it/s]"
      ]
     },
     "metadata": {},
     "output_type": "display_data"
    },
    {
     "data": {
      "application/vnd.jupyter.widget-view+json": {
       "model_id": "d366c67fba67495faa0c214f11a95369",
       "version_major": 2,
       "version_minor": 0
      },
      "text/plain": [
       "Validation: |          | 0/? [00:00<?, ?it/s]"
      ]
     },
     "metadata": {},
     "output_type": "display_data"
    },
    {
     "data": {
      "application/vnd.jupyter.widget-view+json": {
       "model_id": "f63f2ba0608e4fe79ffa6de9292bb704",
       "version_major": 2,
       "version_minor": 0
      },
      "text/plain": [
       "Validation: |          | 0/? [00:00<?, ?it/s]"
      ]
     },
     "metadata": {},
     "output_type": "display_data"
    },
    {
     "data": {
      "application/vnd.jupyter.widget-view+json": {
       "model_id": "e0c6e9c8dbc7441f91abe3eb4a622672",
       "version_major": 2,
       "version_minor": 0
      },
      "text/plain": [
       "Validation: |          | 0/? [00:00<?, ?it/s]"
      ]
     },
     "metadata": {},
     "output_type": "display_data"
    },
    {
     "data": {
      "application/vnd.jupyter.widget-view+json": {
       "model_id": "744836fee0f04179a06f912ba7305c94",
       "version_major": 2,
       "version_minor": 0
      },
      "text/plain": [
       "Validation: |          | 0/? [00:00<?, ?it/s]"
      ]
     },
     "metadata": {},
     "output_type": "display_data"
    },
    {
     "data": {
      "application/vnd.jupyter.widget-view+json": {
       "model_id": "9ced7f61b7a64e8c943d23cfe91a03af",
       "version_major": 2,
       "version_minor": 0
      },
      "text/plain": [
       "Validation: |          | 0/? [00:00<?, ?it/s]"
      ]
     },
     "metadata": {},
     "output_type": "display_data"
    },
    {
     "data": {
      "application/vnd.jupyter.widget-view+json": {
       "model_id": "f54290db434d491a84e0287076ee854c",
       "version_major": 2,
       "version_minor": 0
      },
      "text/plain": [
       "Validation: |          | 0/? [00:00<?, ?it/s]"
      ]
     },
     "metadata": {},
     "output_type": "display_data"
    },
    {
     "data": {
      "application/vnd.jupyter.widget-view+json": {
       "model_id": "7cba46c715114743829da47bc16ced97",
       "version_major": 2,
       "version_minor": 0
      },
      "text/plain": [
       "Validation: |          | 0/? [00:00<?, ?it/s]"
      ]
     },
     "metadata": {},
     "output_type": "display_data"
    },
    {
     "data": {
      "application/vnd.jupyter.widget-view+json": {
       "model_id": "5c6de22981304520b60324e29d92c562",
       "version_major": 2,
       "version_minor": 0
      },
      "text/plain": [
       "Validation: |          | 0/? [00:00<?, ?it/s]"
      ]
     },
     "metadata": {},
     "output_type": "display_data"
    },
    {
     "data": {
      "application/vnd.jupyter.widget-view+json": {
       "model_id": "910c35d0aa49487a9224f35ebe8c09e8",
       "version_major": 2,
       "version_minor": 0
      },
      "text/plain": [
       "Validation: |          | 0/? [00:00<?, ?it/s]"
      ]
     },
     "metadata": {},
     "output_type": "display_data"
    },
    {
     "data": {
      "application/vnd.jupyter.widget-view+json": {
       "model_id": "5da86c7985fa4f0bb427a28ee2202010",
       "version_major": 2,
       "version_minor": 0
      },
      "text/plain": [
       "Validation: |          | 0/? [00:00<?, ?it/s]"
      ]
     },
     "metadata": {},
     "output_type": "display_data"
    },
    {
     "data": {
      "application/vnd.jupyter.widget-view+json": {
       "model_id": "d5839962d0ab4573be2ef6211b252e95",
       "version_major": 2,
       "version_minor": 0
      },
      "text/plain": [
       "Validation: |          | 0/? [00:00<?, ?it/s]"
      ]
     },
     "metadata": {},
     "output_type": "display_data"
    },
    {
     "data": {
      "application/vnd.jupyter.widget-view+json": {
       "model_id": "17d2db24077c490d8c0ccc0ec7ce01dd",
       "version_major": 2,
       "version_minor": 0
      },
      "text/plain": [
       "Validation: |          | 0/? [00:00<?, ?it/s]"
      ]
     },
     "metadata": {},
     "output_type": "display_data"
    },
    {
     "data": {
      "application/vnd.jupyter.widget-view+json": {
       "model_id": "c4511aed7248449282b4e0c3d7f69e66",
       "version_major": 2,
       "version_minor": 0
      },
      "text/plain": [
       "Validation: |          | 0/? [00:00<?, ?it/s]"
      ]
     },
     "metadata": {},
     "output_type": "display_data"
    },
    {
     "data": {
      "application/vnd.jupyter.widget-view+json": {
       "model_id": "1ae1c0168de445c4b02d487e73c61f9d",
       "version_major": 2,
       "version_minor": 0
      },
      "text/plain": [
       "Validation: |          | 0/? [00:00<?, ?it/s]"
      ]
     },
     "metadata": {},
     "output_type": "display_data"
    },
    {
     "data": {
      "application/vnd.jupyter.widget-view+json": {
       "model_id": "24b12d6c76de4cf6a192c67bb7ccd521",
       "version_major": 2,
       "version_minor": 0
      },
      "text/plain": [
       "Validation: |          | 0/? [00:00<?, ?it/s]"
      ]
     },
     "metadata": {},
     "output_type": "display_data"
    },
    {
     "data": {
      "application/vnd.jupyter.widget-view+json": {
       "model_id": "1e272f7cfc164c42a7de144bbcb13d4e",
       "version_major": 2,
       "version_minor": 0
      },
      "text/plain": [
       "Validation: |          | 0/? [00:00<?, ?it/s]"
      ]
     },
     "metadata": {},
     "output_type": "display_data"
    },
    {
     "data": {
      "application/vnd.jupyter.widget-view+json": {
       "model_id": "2a1ba760f8864422a8f8a3ec12ec5500",
       "version_major": 2,
       "version_minor": 0
      },
      "text/plain": [
       "Validation: |          | 0/? [00:00<?, ?it/s]"
      ]
     },
     "metadata": {},
     "output_type": "display_data"
    },
    {
     "data": {
      "application/vnd.jupyter.widget-view+json": {
       "model_id": "69c8e12c61db475ea44bd8ca489531e1",
       "version_major": 2,
       "version_minor": 0
      },
      "text/plain": [
       "Validation: |          | 0/? [00:00<?, ?it/s]"
      ]
     },
     "metadata": {},
     "output_type": "display_data"
    },
    {
     "data": {
      "application/vnd.jupyter.widget-view+json": {
       "model_id": "7f55d819a10f45e7991c36fc1c31c930",
       "version_major": 2,
       "version_minor": 0
      },
      "text/plain": [
       "Validation: |          | 0/? [00:00<?, ?it/s]"
      ]
     },
     "metadata": {},
     "output_type": "display_data"
    },
    {
     "data": {
      "application/vnd.jupyter.widget-view+json": {
       "model_id": "1ea8e692d71447569280ebb630639a5c",
       "version_major": 2,
       "version_minor": 0
      },
      "text/plain": [
       "Validation: |          | 0/? [00:00<?, ?it/s]"
      ]
     },
     "metadata": {},
     "output_type": "display_data"
    },
    {
     "data": {
      "application/vnd.jupyter.widget-view+json": {
       "model_id": "2cb4fb5a9d434e4a8996164699fd2eeb",
       "version_major": 2,
       "version_minor": 0
      },
      "text/plain": [
       "Validation: |          | 0/? [00:00<?, ?it/s]"
      ]
     },
     "metadata": {},
     "output_type": "display_data"
    },
    {
     "data": {
      "application/vnd.jupyter.widget-view+json": {
       "model_id": "c28b809d7ff54f9fb36ae9195f624305",
       "version_major": 2,
       "version_minor": 0
      },
      "text/plain": [
       "Validation: |          | 0/? [00:00<?, ?it/s]"
      ]
     },
     "metadata": {},
     "output_type": "display_data"
    },
    {
     "data": {
      "application/vnd.jupyter.widget-view+json": {
       "model_id": "c959140eff1649eb9501efd022f3d853",
       "version_major": 2,
       "version_minor": 0
      },
      "text/plain": [
       "Validation: |          | 0/? [00:00<?, ?it/s]"
      ]
     },
     "metadata": {},
     "output_type": "display_data"
    },
    {
     "data": {
      "application/vnd.jupyter.widget-view+json": {
       "model_id": "e7f375518be844719d7415f80cbecbab",
       "version_major": 2,
       "version_minor": 0
      },
      "text/plain": [
       "Validation: |          | 0/? [00:00<?, ?it/s]"
      ]
     },
     "metadata": {},
     "output_type": "display_data"
    },
    {
     "data": {
      "application/vnd.jupyter.widget-view+json": {
       "model_id": "13eac1724aa747888faab1dd6b4ea259",
       "version_major": 2,
       "version_minor": 0
      },
      "text/plain": [
       "Validation: |          | 0/? [00:00<?, ?it/s]"
      ]
     },
     "metadata": {},
     "output_type": "display_data"
    },
    {
     "data": {
      "application/vnd.jupyter.widget-view+json": {
       "model_id": "5d3c6b059ed94c149dc1d1f7a9813e53",
       "version_major": 2,
       "version_minor": 0
      },
      "text/plain": [
       "Validation: |          | 0/? [00:00<?, ?it/s]"
      ]
     },
     "metadata": {},
     "output_type": "display_data"
    },
    {
     "data": {
      "application/vnd.jupyter.widget-view+json": {
       "model_id": "f8849426bc79431b87accc0668fdb9a1",
       "version_major": 2,
       "version_minor": 0
      },
      "text/plain": [
       "Validation: |          | 0/? [00:00<?, ?it/s]"
      ]
     },
     "metadata": {},
     "output_type": "display_data"
    },
    {
     "data": {
      "application/vnd.jupyter.widget-view+json": {
       "model_id": "af5c8126b30f4647abc14098db169f47",
       "version_major": 2,
       "version_minor": 0
      },
      "text/plain": [
       "Validation: |          | 0/? [00:00<?, ?it/s]"
      ]
     },
     "metadata": {},
     "output_type": "display_data"
    },
    {
     "data": {
      "application/vnd.jupyter.widget-view+json": {
       "model_id": "b6f9bb9ade2241a38fffa69f0a3f3309",
       "version_major": 2,
       "version_minor": 0
      },
      "text/plain": [
       "Validation: |          | 0/? [00:00<?, ?it/s]"
      ]
     },
     "metadata": {},
     "output_type": "display_data"
    },
    {
     "data": {
      "application/vnd.jupyter.widget-view+json": {
       "model_id": "a7a3c0c5ab7f4c318ea5590191b116d1",
       "version_major": 2,
       "version_minor": 0
      },
      "text/plain": [
       "Validation: |          | 0/? [00:00<?, ?it/s]"
      ]
     },
     "metadata": {},
     "output_type": "display_data"
    },
    {
     "data": {
      "application/vnd.jupyter.widget-view+json": {
       "model_id": "a24e0ce57463440bac36df9bfb6b7808",
       "version_major": 2,
       "version_minor": 0
      },
      "text/plain": [
       "Validation: |          | 0/? [00:00<?, ?it/s]"
      ]
     },
     "metadata": {},
     "output_type": "display_data"
    },
    {
     "data": {
      "application/vnd.jupyter.widget-view+json": {
       "model_id": "e25b937668584a8a8bfccbc360a84269",
       "version_major": 2,
       "version_minor": 0
      },
      "text/plain": [
       "Validation: |          | 0/? [00:00<?, ?it/s]"
      ]
     },
     "metadata": {},
     "output_type": "display_data"
    },
    {
     "name": "stderr",
     "output_type": "stream",
     "text": [
      "`Trainer.fit` stopped: `max_epochs=100` reached.\n"
     ]
    }
   ],
   "source": [
    "start_time = datetime.datetime.now().strftime(\"%Y-%b-%d %H-%M-%S\")\n",
    "\n",
    "tune_dir = Path.cwd() / \"logs\" / \"full\"\n",
    "best_cfg = get_best_results(latest_tune_dir(tune_dir))\n",
    "pl.seed_everything(best_cfg[\"seed\"])\n",
    "\n",
    "dm = GazeDataModule(\n",
    "    data_dir = Path.cwd() / \"data\",\n",
    "    batch_size = best_cfg[\"bs\"],\n",
    "    img_types = [\"face_aligned\", \"l_eye\", \"r_eye\", \"head_pos\", \"head_angle\"],\n",
    "    seed = best_cfg[\"seed\"],\n",
    ")\n",
    "\n",
    "model = _build_model(best_cfg, [\n",
    "    \"face_aligned\", \"l_eye\", \"r_eye\", \"head_pos\", \"head_angle\"\n",
    "])\n",
    "\n",
    "trainer = pl.Trainer(\n",
    "    max_epochs = 100,\n",
    "    accelerator = \"auto\",\n",
    "    devices = \"auto\",\n",
    "    precision = \"bf16-mixed\",\n",
    "    logger = TensorBoardLogger(\n",
    "        save_dir = Path.cwd() / \"logs\",\n",
    "        name     = f\"full/final/{start_time}\",\n",
    "        log_graph = True,\n",
    "    ),\n",
    "    callbacks = [\n",
    "        pl.callbacks.ModelCheckpoint(\n",
    "            filename = \"best\",\n",
    "            monitor  = \"val_loss\",\n",
    "            mode     = \"min\",\n",
    "            save_last = True,\n",
    "            save_top_k = 1,\n",
    "        )\n",
    "    ],\n",
    ")\n",
    "\n",
    "trainer.fit(model, datamodule=dm)\n",
    "best_path = trainer.checkpoint_callback.best_model_path\n",
    "state = torch.load(best_path, map_location=\"cpu\", weights_only=False)\n",
    "model.load_state_dict(state[\"state_dict\"])\n",
    "\n",
    "out_dir = Path.cwd() / \"logs\" / \"full\" / \"final\" / start_time\n",
    "out_dir.mkdir(parents=True, exist_ok=True)\n",
    "\n",
    "save_model(\n",
    "    model.cpu(),\n",
    "    best_cfg,\n",
    "    out_dir / \"eyetracking_model.pt\",\n",
    "    out_dir / \"eyetracking_config.json\",\n",
    ")"
   ]
  },
  {
   "cell_type": "markdown",
   "metadata": {},
   "source": [
    "### Model Evaluation"
   ]
  },
  {
   "cell_type": "code",
   "execution_count": 5,
   "metadata": {},
   "outputs": [
    {
     "name": "stderr",
     "output_type": "stream",
     "text": [
      "Restoring states from the checkpoint path at c:\\Users\\Youssef\\Desktop\\TFG\\eye-tracker-vocacions\\src\\logs\\full/final/2025-May-15 05-25-13\\version_0\\checkpoints\\best.ckpt\n",
      "LOCAL_RANK: 0 - CUDA_VISIBLE_DEVICES: [0]\n",
      "c:\\Users\\Youssef\\Desktop\\TFG\\eye-tracker-vocacions\\.venv\\Lib\\site-packages\\pytorch_lightning\\loggers\\tensorboard.py:200: Could not log computational graph to TensorBoard: The `input_array` or `model.example_input_array` has type <class 'list'> which can't be traced by TensorBoard. Make the input array a tuple representing the positional arguments to the model's `forward()` implementation.\n",
      "Loaded model weights from the checkpoint at c:\\Users\\Youssef\\Desktop\\TFG\\eye-tracker-vocacions\\src\\logs\\full/final/2025-May-15 05-25-13\\version_0\\checkpoints\\best.ckpt\n"
     ]
    },
    {
     "data": {
      "application/vnd.jupyter.widget-view+json": {
       "model_id": "7f833ffcef12493cbdd79fab1cecac54",
       "version_major": 2,
       "version_minor": 0
      },
      "text/plain": [
       "Testing: |          | 0/? [00:00<?, ?it/s]"
      ]
     },
     "metadata": {},
     "output_type": "display_data"
    },
    {
     "name": "stdout",
     "output_type": "stream",
     "text": [
      "────────────────────────────────────────────────────────────────────────────────────────────────────────────────────────\n",
      "       Test metric             DataLoader 0\n",
      "────────────────────────────────────────────────────────────────────────────────────────────────────────────────────────\n",
      "     test_loss_epoch         32.37348175048828\n",
      "     test_mae_epoch          32.8699836730957\n",
      "        test_mse             2083.63623046875\n",
      "        test_rmse            44.94496536254883\n",
      "────────────────────────────────────────────────────────────────────────────────────────────────────────────────────────\n",
      "────────  Test set  ────────\n",
      "MSE   :  2083.64  px²\n",
      "RMSE  :    44.94  px\n",
      "MAE   :    32.87  px\n",
      "Loss  :    32.37  (Smooth-L1)\n"
     ]
    }
   ],
   "source": [
    "test_results = trainer.test(ckpt_path=\"best\", datamodule=dm)[0]\n",
    "\n",
    "loss = test_results[\"test_loss_epoch\"]\n",
    "mae  = test_results[\"test_mae_epoch\"]\n",
    "\n",
    "mse  = test_results.get(\"test_mse_epoch\",  test_results.get(\"test_mse\"))\n",
    "rmse = test_results.get(\"test_rmse_epoch\", test_results.get(\"test_rmse\"))\n",
    "\n",
    "print(\"────────  Test set  ────────\")\n",
    "print(f\"MSE   : {mse:8.2f}  px²\")\n",
    "print(f\"RMSE  : {rmse:8.2f}  px\")\n",
    "print(f\"MAE   : {mae:8.2f}  px\")\n",
    "print(f\"Loss  : {loss:8.2f}  (Smooth-L1)\")"
   ]
  },
  {
   "cell_type": "code",
   "execution_count": 6,
   "metadata": {},
   "outputs": [
    {
     "data": {
      "image/png": "[encoded data removed]",
      "text/plain": [
       "<Figure size 1560x300 with 2 Axes>"
      ]
     },
     "metadata": {},
     "output_type": "display_data"
    },
    {
     "data": {
      "text/plain": [
       "WindowsPath('media/images/1_full_explore_parallel.png')"
      ]
     },
     "execution_count": 6,
     "metadata": {},
     "output_type": "execute_result"
    }
   ],
   "source": [
    "plot_parallel_param_loss(\n",
    "    analysis,\n",
    "    cols=(\"bs\", \"lr\",\n",
    "          \"face_channels\", \"eye_channels\", \"head_pos_channels\",\n",
    "          \"hidden\"),\n",
    "    save_path=\"media/images/1_full_explore_parallel.png\",\n",
    ")"
   ]
  },
  {
   "cell_type": "code",
   "execution_count": 7,
   "metadata": {},
   "outputs": [
    {
     "data": {
      "image/png": "[encoded data removed]",
      "text/plain": [
       "<Figure size 1260x350 with 6 Axes>"
      ]
     },
     "metadata": {},
     "output_type": "display_data"
    },
    {
     "data": {
      "text/plain": [
       "WindowsPath('media/images/1_full_explore_scatter.png')"
      ]
     },
     "execution_count": 7,
     "metadata": {},
     "output_type": "execute_result"
    }
   ],
   "source": [
    "plot_asha_param_grid(\n",
    "    analysis,\n",
    "    params=(\"bs\", \"lr\",\n",
    "            \"face_channels\", \"eye_channels\", \"head_pos_channels\",\n",
    "            \"hidden\"),\n",
    "    save_path=\"media/images/1_full_explore_scatter.png\",\n",
    ")"
   ]
  },
  {
   "cell_type": "code",
   "execution_count": 8,
   "metadata": {},
   "outputs": [
    {
     "data": {
      "application/vnd.jupyter.widget-view+json": {
       "model_id": "1136b60937ba441ca040a5cb7edb6fc1",
       "version_major": 2,
       "version_minor": 0
      },
      "text/plain": [
       "  0%|          | 0/20077 [00:00<?, ?it/s]"
      ]
     },
     "metadata": {},
     "output_type": "display_data"
    },
    {
     "name": "stdout",
     "output_type": "stream",
     "text": [
      "Average error: 42.97px over 2008 samples\n"
     ]
    },
    {
     "data": {
      "image/png": "[encoded data removed]",
      "text/plain": [
       "<Figure size 640x480 with 2 Axes>"
      ]
     },
     "metadata": {},
     "output_type": "display_data"
    },
    {
     "data": {
      "image/png": "[encoded data removed]",
      "text/plain": [
       "<Figure size 640x480 with 1 Axes>"
      ]
     },
     "metadata": {},
     "output_type": "display_data"
    }
   ],
   "source": [
    "predict_screen_errors(\n",
    "    \"face_aligned\", \"l_eye\", \"r_eye\", \"head_pos\", \"head_angle\",\n",
    "    path_model  = out_dir/\"eyetracking_model.pt\",\n",
    "    path_config = out_dir/\"eyetracking_config.json\",\n",
    "    path_plot   = out_dir/\"error_heatmap_full.png\",\n",
    "    path_errors = out_dir/\"errors.npy\",\n",
    "    steps       = 10,\n",
    ")"
   ]
  }
 ],
 "metadata": {
  "kernelspec": {
   "display_name": ".venv",
   "language": "python",
   "name": "python3"
  },
  "language_info": {
   "codemirror_mode": {
    "name": "ipython",
    "version": 3
   },
   "file_extension": ".py",
   "mimetype": "text/x-python",
   "name": "python",
   "nbconvert_exporter": "python",
   "pygments_lexer": "ipython3",
   "version": "3.12.6"
  }
 },
 "nbformat": 4,
 "nbformat_minor": 2
}
