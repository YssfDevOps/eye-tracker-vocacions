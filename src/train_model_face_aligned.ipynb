{
 "cells": [
  {
   "cell_type": "markdown",
   "metadata": {},
   "source": [
    "# Training Predictive Model"
   ]
  },
  {
   "cell_type": "markdown",
   "metadata": {},
   "source": [
    "### Import libraries"
   ]
  },
  {
   "cell_type": "code",
   "execution_count": 1,
   "metadata": {
    "ExecuteTime": {
     "end_time": "2025-04-06T18:02:55.994945Z",
     "start_time": "2025-04-06T18:02:48.440201Z"
    }
   },
   "outputs": [],
   "source": [
    "import datetime, json, random, IPython, pandas as pd, numpy as np, matplotlib.pyplot as plt\n",
    "from pathlib import Path\n",
    "from PIL import Image\n",
    "from mpl_toolkits.axes_grid1 import ImageGrid\n",
    "import matplotlib.image as mpimg\n",
    "import torch, pytorch_lightning as pl\n",
    "from ray import tune\n",
    "from pytorch_lightning.loggers import TensorBoardLogger\n",
    "\n",
    "# ⚡ NEW: modern API\n",
    "from models import GazeDataModule, SingleModel, EyesModel, FullModel\n",
    "from utils  import (\n",
    "    get_config,\n",
    "    tune_asha,\n",
    "    get_best_results,\n",
    "    save_model,\n",
    "    plot_asha_param_grid,\n",
    "    plot_parallel_param_loss,\n",
    "    latest_tune_dir,\n",
    "    _build_datamodule,\n",
    "    _build_model,\n",
    "    predict_screen_errors,\n",
    ")\n",
    "\n",
    "# project settings\n",
    "SETTINGS, COLOURS, EYETRACKER, TF = get_config(\"config.ini\")\n",
    "\n",
    "%load_ext autoreload\n",
    "%autoreload 2"
   ]
  },
  {
   "cell_type": "markdown",
   "metadata": {},
   "source": [
    "### Dataset information"
   ]
  },
  {
   "cell_type": "code",
   "execution_count": 2,
   "metadata": {
    "ExecuteTime": {
     "end_time": "2025-04-06T18:02:56.009076Z",
     "start_time": "2025-04-06T18:02:56.000947Z"
    }
   },
   "outputs": [
    {
     "name": "stdout",
     "output_type": "stream",
     "text": [
      "# of samples: 20077\n",
      "Coverage: 61.84% of screen surface\n",
      "Crop size: 64 x 64 px\n"
     ]
    }
   ],
   "source": [
    "df = pd.read_csv(\"data/positions.csv\")\n",
    "region_map = np.load(\"data/region_map.npy\").T\n",
    "\n",
    "print(f\"# of samples: {len(df)}\")\n",
    "coverage = np.count_nonzero(region_map > 0) / region_map.size * 100\n",
    "print(f\"Coverage: {coverage:.2f}% of screen surface\")\n",
    "print(f\"Crop size: {SETTINGS['image_size']} x {SETTINGS['image_size']} px\")"
   ]
  },
  {
   "cell_type": "code",
   "execution_count": 3,
   "metadata": {},
   "outputs": [
    {
     "name": "stderr",
     "output_type": "stream",
     "text": [
      "2025-05-15 14:13:33,204\tINFO worker.py:1852 -- Started a local Ray instance.\n",
      "2025-05-15 14:13:37,067\tINFO tune.py:253 -- Initializing Ray automatically. For cluster usage or custom Ray initialization, call `ray.init(...)` before `tune.run(...)`.\n",
      "2025-05-15 14:13:37,071\tINFO tune.py:616 -- [output] This uses the legacy output and progress reporter, as Jupyter notebooks are not supported by the new engine, yet. For more information, please see https://github.com/ray-project/ray/issues/36949\n"
     ]
    },
    {
     "data": {
      "text/html": [
       "<div class=\"tuneStatus\">\n",
       "  <div style=\"display: flex;flex-direction: row\">\n",
       "    <div style=\"display: flex;flex-direction: column;\">\n",
       "      <h3>Tune Status</h3>\n",
       "      <table>\n",
       "<tbody>\n",
       "<tr><td>Current time:</td><td>2025-05-15 16:13:49</td></tr>\n",
       "<tr><td>Running for: </td><td>02:00:11.88        </td></tr>\n",
       "<tr><td>Memory:      </td><td>14.2/15.3 GiB      </td></tr>\n",
       "</tbody>\n",
       "</table>\n",
       "    </div>\n",
       "    <div class=\"vDivider\"></div>\n",
       "    <div class=\"systemInfo\">\n",
       "      <h3>System Info</h3>\n",
       "      Using AsyncHyperBand: num_stopped=20<br>Bracket: Iter 8.000: -237.30845642089844 | Iter 4.000: -240.33255004882812 | Iter 2.000: -464.7389373779297 | Iter 1.000: -739.0813293457031<br>Logical resource usage: 8.0/12 CPUs, 1.0/1 GPUs (0.0/1.0 accelerator_type:G)\n",
       "    </div>\n",
       "    <div class=\"vDivider\"></div>\n",
       "<div class=\"messages\">\n",
       "  <h3>Messages</h3>\n",
       "  : ***LOW MEMORY*** less than 10% of the memory on this node is available for use. This can cause unexpected crashes. Consider reducing the memory used by your application or reducing the Ray object store size by setting `object_store_memory` when calling `ray.init`.\n",
       "  \n",
       "  \n",
       "</div>\n",
       "<style>\n",
       ".messages {\n",
       "  color: var(--jp-ui-font-color1);\n",
       "  display: flex;\n",
       "  flex-direction: column;\n",
       "  padding-left: 1em;\n",
       "  overflow-y: auto;\n",
       "}\n",
       ".messages h3 {\n",
       "  font-weight: bold;\n",
       "}\n",
       ".vDivider {\n",
       "  border-left-width: var(--jp-border-width);\n",
       "  border-left-color: var(--jp-border-color0);\n",
       "  border-left-style: solid;\n",
       "  margin: 0.5em 1em 0.5em 1em;\n",
       "}\n",
       "</style>\n",
       "\n",
       "  </div>\n",
       "  <div class=\"hDivider\"></div>\n",
       "  <div class=\"trialStatus\">\n",
       "    <h3>Trial Status</h3>\n",
       "    <table>\n",
       "<thead>\n",
       "<tr><th>Trial name               </th><th>status    </th><th>loc            </th><th style=\"text-align: right;\">  bs</th><th>channels      </th><th style=\"text-align: right;\">  hidden</th><th style=\"text-align: right;\">         lr</th><th style=\"text-align: right;\">  seed</th><th style=\"text-align: right;\">  iter</th><th style=\"text-align: right;\">  total time (s)</th><th style=\"text-align: right;\">   loss</th><th style=\"text-align: right;\">    mae</th></tr>\n",
       "</thead>\n",
       "<tbody>\n",
       "<tr><td>_tune_wrapper_07906_00000</td><td>TERMINATED</td><td>127.0.0.1:31488</td><td style=\"text-align: right;\"> 256</td><td>(32, 64, 128) </td><td style=\"text-align: right;\">     128</td><td style=\"text-align: right;\">0.000665728</td><td style=\"text-align: right;\">  9532</td><td style=\"text-align: right;\">    15</td><td style=\"text-align: right;\">         760.339</td><td style=\"text-align: right;\">204.871</td><td style=\"text-align: right;\">205.371</td></tr>\n",
       "<tr><td>_tune_wrapper_07906_00001</td><td>TERMINATED</td><td>127.0.0.1:26508</td><td style=\"text-align: right;\"> 256</td><td>(48, 96, 192) </td><td style=\"text-align: right;\">     128</td><td style=\"text-align: right;\">0.00119371 </td><td style=\"text-align: right;\">  8464</td><td style=\"text-align: right;\">     8</td><td style=\"text-align: right;\">         521.435</td><td style=\"text-align: right;\">381.159</td><td style=\"text-align: right;\">381.659</td></tr>\n",
       "<tr><td>_tune_wrapper_07906_00002</td><td>TERMINATED</td><td>127.0.0.1:3160 </td><td style=\"text-align: right;\"> 512</td><td>(32, 64, 128) </td><td style=\"text-align: right;\">     128</td><td style=\"text-align: right;\">0.00104703 </td><td style=\"text-align: right;\">  8018</td><td style=\"text-align: right;\">     1</td><td style=\"text-align: right;\">         152.368</td><td style=\"text-align: right;\">738.238</td><td style=\"text-align: right;\">738.737</td></tr>\n",
       "<tr><td>_tune_wrapper_07906_00003</td><td>TERMINATED</td><td>127.0.0.1:24172</td><td style=\"text-align: right;\"> 512</td><td>(64, 128, 256)</td><td style=\"text-align: right;\">     512</td><td style=\"text-align: right;\">0.00193936 </td><td style=\"text-align: right;\">  4345</td><td style=\"text-align: right;\">    15</td><td style=\"text-align: right;\">        1162.63 </td><td style=\"text-align: right;\">190.841</td><td style=\"text-align: right;\">191.341</td></tr>\n",
       "<tr><td>_tune_wrapper_07906_00004</td><td>TERMINATED</td><td>127.0.0.1:28976</td><td style=\"text-align: right;\"> 512</td><td>(48, 96, 192) </td><td style=\"text-align: right;\">     128</td><td style=\"text-align: right;\">0.00014591 </td><td style=\"text-align: right;\">  3850</td><td style=\"text-align: right;\">     1</td><td style=\"text-align: right;\">         163.724</td><td style=\"text-align: right;\">756.002</td><td style=\"text-align: right;\">756.502</td></tr>\n",
       "<tr><td>_tune_wrapper_07906_00005</td><td>TERMINATED</td><td>127.0.0.1:3416 </td><td style=\"text-align: right;\">1024</td><td>(64, 128, 256)</td><td style=\"text-align: right;\">     128</td><td style=\"text-align: right;\">0.00142737 </td><td style=\"text-align: right;\">  6023</td><td style=\"text-align: right;\">     1</td><td style=\"text-align: right;\">         199.623</td><td style=\"text-align: right;\">740.518</td><td style=\"text-align: right;\">741.018</td></tr>\n",
       "<tr><td>_tune_wrapper_07906_00006</td><td>TERMINATED</td><td>127.0.0.1:2660 </td><td style=\"text-align: right;\"> 512</td><td>(64, 128, 256)</td><td style=\"text-align: right;\">     256</td><td style=\"text-align: right;\">0.000511363</td><td style=\"text-align: right;\">  9021</td><td style=\"text-align: right;\">     1</td><td style=\"text-align: right;\">         180.282</td><td style=\"text-align: right;\">741.5  </td><td style=\"text-align: right;\">742    </td></tr>\n",
       "<tr><td>_tune_wrapper_07906_00007</td><td>TERMINATED</td><td>127.0.0.1:27000</td><td style=\"text-align: right;\"> 256</td><td>(32, 64, 128) </td><td style=\"text-align: right;\">     128</td><td style=\"text-align: right;\">0.000258255</td><td style=\"text-align: right;\">  2352</td><td style=\"text-align: right;\">     1</td><td style=\"text-align: right;\">         151.627</td><td style=\"text-align: right;\">750.876</td><td style=\"text-align: right;\">751.376</td></tr>\n",
       "<tr><td>_tune_wrapper_07906_00008</td><td>TERMINATED</td><td>127.0.0.1:31344</td><td style=\"text-align: right;\">1024</td><td>(48, 96, 192) </td><td style=\"text-align: right;\">     128</td><td style=\"text-align: right;\">0.000260042</td><td style=\"text-align: right;\">  6917</td><td style=\"text-align: right;\">     1</td><td style=\"text-align: right;\">         166.022</td><td style=\"text-align: right;\">755.745</td><td style=\"text-align: right;\">756.245</td></tr>\n",
       "<tr><td>_tune_wrapper_07906_00009</td><td>TERMINATED</td><td>127.0.0.1:16832</td><td style=\"text-align: right;\">1024</td><td>(48, 96, 192) </td><td style=\"text-align: right;\">     128</td><td style=\"text-align: right;\">0.00220306 </td><td style=\"text-align: right;\">  3170</td><td style=\"text-align: right;\">     2</td><td style=\"text-align: right;\">         222.564</td><td style=\"text-align: right;\">698.119</td><td style=\"text-align: right;\">698.619</td></tr>\n",
       "<tr><td>_tune_wrapper_07906_00010</td><td>TERMINATED</td><td>127.0.0.1:28156</td><td style=\"text-align: right;\">1024</td><td>(32, 64, 128) </td><td style=\"text-align: right;\">     512</td><td style=\"text-align: right;\">0.000129888</td><td style=\"text-align: right;\">  2071</td><td style=\"text-align: right;\">     1</td><td style=\"text-align: right;\">         156.583</td><td style=\"text-align: right;\">741.032</td><td style=\"text-align: right;\">741.532</td></tr>\n",
       "<tr><td>_tune_wrapper_07906_00011</td><td>TERMINATED</td><td>127.0.0.1:23744</td><td style=\"text-align: right;\"> 512</td><td>(48, 96, 192) </td><td style=\"text-align: right;\">     128</td><td style=\"text-align: right;\">0.000238539</td><td style=\"text-align: right;\">   716</td><td style=\"text-align: right;\">     2</td><td style=\"text-align: right;\">         221.12 </td><td style=\"text-align: right;\">730.82 </td><td style=\"text-align: right;\">731.32 </td></tr>\n",
       "<tr><td>_tune_wrapper_07906_00012</td><td>TERMINATED</td><td>127.0.0.1:22728</td><td style=\"text-align: right;\"> 512</td><td>(32, 64, 128) </td><td style=\"text-align: right;\">     256</td><td style=\"text-align: right;\">0.000312387</td><td style=\"text-align: right;\">  1669</td><td style=\"text-align: right;\">     1</td><td style=\"text-align: right;\">         156.304</td><td style=\"text-align: right;\">755.693</td><td style=\"text-align: right;\">756.193</td></tr>\n",
       "<tr><td>_tune_wrapper_07906_00013</td><td>TERMINATED</td><td>127.0.0.1:20324</td><td style=\"text-align: right;\"> 512</td><td>(48, 96, 192) </td><td style=\"text-align: right;\">     256</td><td style=\"text-align: right;\">0.000215428</td><td style=\"text-align: right;\">  2198</td><td style=\"text-align: right;\">     1</td><td style=\"text-align: right;\">         164.87 </td><td style=\"text-align: right;\">744.005</td><td style=\"text-align: right;\">744.505</td></tr>\n",
       "<tr><td>_tune_wrapper_07906_00014</td><td>TERMINATED</td><td>127.0.0.1:30520</td><td style=\"text-align: right;\"> 256</td><td>(48, 96, 192) </td><td style=\"text-align: right;\">     128</td><td style=\"text-align: right;\">0.0014935  </td><td style=\"text-align: right;\">  6172</td><td style=\"text-align: right;\">    15</td><td style=\"text-align: right;\">         963.027</td><td style=\"text-align: right;\">240.953</td><td style=\"text-align: right;\">241.452</td></tr>\n",
       "<tr><td>_tune_wrapper_07906_00015</td><td>TERMINATED</td><td>127.0.0.1:29568</td><td style=\"text-align: right;\"> 512</td><td>(48, 96, 192) </td><td style=\"text-align: right;\">     256</td><td style=\"text-align: right;\">0.0017043  </td><td style=\"text-align: right;\">  7488</td><td style=\"text-align: right;\">     8</td><td style=\"text-align: right;\">         590.578</td><td style=\"text-align: right;\">342.075</td><td style=\"text-align: right;\">342.574</td></tr>\n",
       "<tr><td>_tune_wrapper_07906_00016</td><td>TERMINATED</td><td>127.0.0.1:29268</td><td style=\"text-align: right;\">1024</td><td>(64, 128, 256)</td><td style=\"text-align: right;\">     128</td><td style=\"text-align: right;\">0.000193097</td><td style=\"text-align: right;\">  6790</td><td style=\"text-align: right;\">     2</td><td style=\"text-align: right;\">         284.509</td><td style=\"text-align: right;\">735.511</td><td style=\"text-align: right;\">736.011</td></tr>\n",
       "<tr><td>_tune_wrapper_07906_00017</td><td>TERMINATED</td><td>127.0.0.1:27600</td><td style=\"text-align: right;\">1024</td><td>(32, 64, 128) </td><td style=\"text-align: right;\">     256</td><td style=\"text-align: right;\">0.000100645</td><td style=\"text-align: right;\">  7964</td><td style=\"text-align: right;\">     1</td><td style=\"text-align: right;\">         165.917</td><td style=\"text-align: right;\">745.445</td><td style=\"text-align: right;\">745.945</td></tr>\n",
       "<tr><td>_tune_wrapper_07906_00018</td><td>TERMINATED</td><td>127.0.0.1:5236 </td><td style=\"text-align: right;\"> 512</td><td>(32, 64, 128) </td><td style=\"text-align: right;\">     256</td><td style=\"text-align: right;\">0.00227089 </td><td style=\"text-align: right;\">  3134</td><td style=\"text-align: right;\">     4</td><td style=\"text-align: right;\">         317.306</td><td style=\"text-align: right;\">269.623</td><td style=\"text-align: right;\">270.123</td></tr>\n",
       "<tr><td>_tune_wrapper_07906_00019</td><td>TERMINATED</td><td>127.0.0.1:5284 </td><td style=\"text-align: right;\"> 256</td><td>(64, 128, 256)</td><td style=\"text-align: right;\">     512</td><td style=\"text-align: right;\">0.000133298</td><td style=\"text-align: right;\">  4059</td><td style=\"text-align: right;\">     2</td><td style=\"text-align: right;\">         273.508</td><td style=\"text-align: right;\">680.276</td><td style=\"text-align: right;\">680.776</td></tr>\n",
       "</tbody>\n",
       "</table>\n",
       "  </div>\n",
       "</div>\n",
       "<style>\n",
       ".tuneStatus {\n",
       "  color: var(--jp-ui-font-color1);\n",
       "}\n",
       ".tuneStatus .systemInfo {\n",
       "  display: flex;\n",
       "  flex-direction: column;\n",
       "}\n",
       ".tuneStatus td {\n",
       "  white-space: nowrap;\n",
       "}\n",
       ".tuneStatus .trialStatus {\n",
       "  display: flex;\n",
       "  flex-direction: column;\n",
       "}\n",
       ".tuneStatus h3 {\n",
       "  font-weight: bold;\n",
       "}\n",
       ".tuneStatus .hDivider {\n",
       "  border-bottom-width: var(--jp-border-width);\n",
       "  border-bottom-color: var(--jp-border-color0);\n",
       "  border-bottom-style: solid;\n",
       "}\n",
       ".tuneStatus .vDivider {\n",
       "  border-left-width: var(--jp-border-width);\n",
       "  border-left-color: var(--jp-border-color0);\n",
       "  border-left-style: solid;\n",
       "  margin: 0.5em 1em 0.5em 1em;\n",
       "}\n",
       "</style>\n"
      ],
      "text/plain": [
       "<IPython.core.display.HTML object>"
      ]
     },
     "metadata": {},
     "output_type": "display_data"
    },
    {
     "name": "stderr",
     "output_type": "stream",
     "text": [
      "\u001b[36m(_tune_wrapper pid=31488)\u001b[0m Seed set to 9532\n",
      "\u001b[36m(_tune_wrapper pid=31488)\u001b[0m Using bfloat16 Automatic Mixed Precision (AMP)\n",
      "\u001b[36m(_tune_wrapper pid=31488)\u001b[0m GPU available: True (cuda), used: True\n",
      "\u001b[36m(_tune_wrapper pid=31488)\u001b[0m TPU available: False, using: 0 TPU cores\n",
      "\u001b[36m(_tune_wrapper pid=31488)\u001b[0m HPU available: False, using: 0 HPUs\n",
      "\u001b[36m(_tune_wrapper pid=31488)\u001b[0m LOCAL_RANK: 0 - CUDA_VISIBLE_DEVICES: [0]\n",
      "\u001b[36m(_tune_wrapper pid=31488)\u001b[0m \n",
      "\u001b[36m(_tune_wrapper pid=31488)\u001b[0m   | Name      | Type              | Params | Mode  | In sizes       | Out sizes     \n",
      "\u001b[36m(_tune_wrapper pid=31488)\u001b[0m ------------------------------------------------------------------------------------------\n",
      "\u001b[36m(_tune_wrapper pid=31488)\u001b[0m 0 | criterion | SmoothL1Loss      | 0      | train | ?              | ?             \n",
      "\u001b[36m(_tune_wrapper pid=31488)\u001b[0m 1 | mae       | MeanAbsoluteError | 0      | train | ?              | ?             \n",
      "\u001b[36m(_tune_wrapper pid=31488)\u001b[0m 2 | mse       | MeanSquaredError  | 0      | train | ?              | ?             \n",
      "\u001b[36m(_tune_wrapper pid=31488)\u001b[0m 3 | rmse      | MeanSquaredError  | 0      | train | ?              | ?             \n",
      "\u001b[36m(_tune_wrapper pid=31488)\u001b[0m 4 | backbone  | ConvStack         | 93.5 K | train | [1, 3, 64, 64] | [1, 128, 1, 1]\n",
      "\u001b[36m(_tune_wrapper pid=31488)\u001b[0m 5 | regressor | Sequential        | 16.8 K | train | [1, 128, 1, 1] | [1, 2]        \n",
      "\u001b[36m(_tune_wrapper pid=31488)\u001b[0m ------------------------------------------------------------------------------------------\n",
      "\u001b[36m(_tune_wrapper pid=31488)\u001b[0m 110 K     Trainable params\n",
      "\u001b[36m(_tune_wrapper pid=31488)\u001b[0m 0         Non-trainable params\n",
      "\u001b[36m(_tune_wrapper pid=31488)\u001b[0m 110 K     Total params\n",
      "\u001b[36m(_tune_wrapper pid=31488)\u001b[0m 0.441     Total estimated model params size (MB)\n",
      "\u001b[36m(_tune_wrapper pid=31488)\u001b[0m 26        Modules in train mode\n",
      "\u001b[36m(_tune_wrapper pid=31488)\u001b[0m 0         Modules in eval mode\n"
     ]
    },
    {
     "data": {
      "text/html": [
       "<div class=\"trialProgress\">\n",
       "  <h3>Trial Progress</h3>\n",
       "  <table>\n",
       "<thead>\n",
       "<tr><th>Trial name               </th><th>checkpoint_dir_name  </th><th>date               </th><th>done  </th><th>hostname       </th><th style=\"text-align: right;\">  iterations_since_restore</th><th style=\"text-align: right;\">   loss</th><th style=\"text-align: right;\">    mae</th><th>node_ip  </th><th style=\"text-align: right;\">  pid</th><th>should_checkpoint  </th><th style=\"text-align: right;\">  time_since_restore</th><th style=\"text-align: right;\">  time_this_iter_s</th><th style=\"text-align: right;\">  time_total_s</th><th style=\"text-align: right;\">  timestamp</th><th style=\"text-align: right;\">  training_iteration</th><th style=\"text-align: right;\">   trial_id</th></tr>\n",
       "</thead>\n",
       "<tbody>\n",
       "<tr><td>_tune_wrapper_07906_00000</td><td>checkpoint_000014    </td><td>2025-05-15_14-26-27</td><td>True  </td><td>DESKTOP-B40NR52</td><td style=\"text-align: right;\">                        15</td><td style=\"text-align: right;\">204.871</td><td style=\"text-align: right;\">205.371</td><td>127.0.0.1</td><td style=\"text-align: right;\">31488</td><td>True               </td><td style=\"text-align: right;\">             760.339</td><td style=\"text-align: right;\">           42.7435</td><td style=\"text-align: right;\">       760.339</td><td style=\"text-align: right;\"> 1747311987</td><td style=\"text-align: right;\">                  15</td><td style=\"text-align: right;\">07906_00000</td></tr>\n",
       "<tr><td>_tune_wrapper_07906_00001</td><td>checkpoint_000007    </td><td>2025-05-15_14-35-20</td><td>True  </td><td>DESKTOP-B40NR52</td><td style=\"text-align: right;\">                         8</td><td style=\"text-align: right;\">381.159</td><td style=\"text-align: right;\">381.659</td><td>127.0.0.1</td><td style=\"text-align: right;\">26508</td><td>True               </td><td style=\"text-align: right;\">             521.435</td><td style=\"text-align: right;\">           52.0344</td><td style=\"text-align: right;\">       521.435</td><td style=\"text-align: right;\"> 1747312520</td><td style=\"text-align: right;\">                   8</td><td style=\"text-align: right;\">07906_00001</td></tr>\n",
       "<tr><td>_tune_wrapper_07906_00002</td><td>checkpoint_000000    </td><td>2025-05-15_14-38-03</td><td>True  </td><td>DESKTOP-B40NR52</td><td style=\"text-align: right;\">                         1</td><td style=\"text-align: right;\">738.238</td><td style=\"text-align: right;\">738.737</td><td>127.0.0.1</td><td style=\"text-align: right;\"> 3160</td><td>True               </td><td style=\"text-align: right;\">             152.368</td><td style=\"text-align: right;\">          152.368 </td><td style=\"text-align: right;\">       152.368</td><td style=\"text-align: right;\"> 1747312683</td><td style=\"text-align: right;\">                   1</td><td style=\"text-align: right;\">07906_00002</td></tr>\n",
       "<tr><td>_tune_wrapper_07906_00003</td><td>checkpoint_000014    </td><td>2025-05-15_14-57-39</td><td>True  </td><td>DESKTOP-B40NR52</td><td style=\"text-align: right;\">                        15</td><td style=\"text-align: right;\">190.841</td><td style=\"text-align: right;\">191.341</td><td>127.0.0.1</td><td style=\"text-align: right;\">24172</td><td>True               </td><td style=\"text-align: right;\">            1162.63 </td><td style=\"text-align: right;\">           70.2115</td><td style=\"text-align: right;\">      1162.63 </td><td style=\"text-align: right;\"> 1747313859</td><td style=\"text-align: right;\">                  15</td><td style=\"text-align: right;\">07906_00003</td></tr>\n",
       "<tr><td>_tune_wrapper_07906_00004</td><td>checkpoint_000000    </td><td>2025-05-15_15-00-36</td><td>True  </td><td>DESKTOP-B40NR52</td><td style=\"text-align: right;\">                         1</td><td style=\"text-align: right;\">756.002</td><td style=\"text-align: right;\">756.502</td><td>127.0.0.1</td><td style=\"text-align: right;\">28976</td><td>True               </td><td style=\"text-align: right;\">             163.724</td><td style=\"text-align: right;\">          163.724 </td><td style=\"text-align: right;\">       163.724</td><td style=\"text-align: right;\"> 1747314036</td><td style=\"text-align: right;\">                   1</td><td style=\"text-align: right;\">07906_00004</td></tr>\n",
       "<tr><td>_tune_wrapper_07906_00005</td><td>checkpoint_000000    </td><td>2025-05-15_15-04-07</td><td>True  </td><td>DESKTOP-B40NR52</td><td style=\"text-align: right;\">                         1</td><td style=\"text-align: right;\">740.518</td><td style=\"text-align: right;\">741.018</td><td>127.0.0.1</td><td style=\"text-align: right;\"> 3416</td><td>True               </td><td style=\"text-align: right;\">             199.623</td><td style=\"text-align: right;\">          199.623 </td><td style=\"text-align: right;\">       199.623</td><td style=\"text-align: right;\"> 1747314247</td><td style=\"text-align: right;\">                   1</td><td style=\"text-align: right;\">07906_00005</td></tr>\n",
       "<tr><td>_tune_wrapper_07906_00006</td><td>checkpoint_000000    </td><td>2025-05-15_15-07-22</td><td>True  </td><td>DESKTOP-B40NR52</td><td style=\"text-align: right;\">                         1</td><td style=\"text-align: right;\">741.5  </td><td style=\"text-align: right;\">742    </td><td>127.0.0.1</td><td style=\"text-align: right;\"> 2660</td><td>True               </td><td style=\"text-align: right;\">             180.282</td><td style=\"text-align: right;\">          180.282 </td><td style=\"text-align: right;\">       180.282</td><td style=\"text-align: right;\"> 1747314442</td><td style=\"text-align: right;\">                   1</td><td style=\"text-align: right;\">07906_00006</td></tr>\n",
       "<tr><td>_tune_wrapper_07906_00007</td><td>checkpoint_000000    </td><td>2025-05-15_15-10-05</td><td>True  </td><td>DESKTOP-B40NR52</td><td style=\"text-align: right;\">                         1</td><td style=\"text-align: right;\">750.876</td><td style=\"text-align: right;\">751.376</td><td>127.0.0.1</td><td style=\"text-align: right;\">27000</td><td>True               </td><td style=\"text-align: right;\">             151.627</td><td style=\"text-align: right;\">          151.627 </td><td style=\"text-align: right;\">       151.627</td><td style=\"text-align: right;\"> 1747314605</td><td style=\"text-align: right;\">                   1</td><td style=\"text-align: right;\">07906_00007</td></tr>\n",
       "<tr><td>_tune_wrapper_07906_00008</td><td>checkpoint_000000    </td><td>2025-05-15_15-13-01</td><td>True  </td><td>DESKTOP-B40NR52</td><td style=\"text-align: right;\">                         1</td><td style=\"text-align: right;\">755.745</td><td style=\"text-align: right;\">756.245</td><td>127.0.0.1</td><td style=\"text-align: right;\">31344</td><td>True               </td><td style=\"text-align: right;\">             166.022</td><td style=\"text-align: right;\">          166.022 </td><td style=\"text-align: right;\">       166.022</td><td style=\"text-align: right;\"> 1747314781</td><td style=\"text-align: right;\">                   1</td><td style=\"text-align: right;\">07906_00008</td></tr>\n",
       "<tr><td>_tune_wrapper_07906_00009</td><td>checkpoint_000001    </td><td>2025-05-15_15-16-55</td><td>True  </td><td>DESKTOP-B40NR52</td><td style=\"text-align: right;\">                         2</td><td style=\"text-align: right;\">698.119</td><td style=\"text-align: right;\">698.619</td><td>127.0.0.1</td><td style=\"text-align: right;\">16832</td><td>True               </td><td style=\"text-align: right;\">             222.564</td><td style=\"text-align: right;\">           56.825 </td><td style=\"text-align: right;\">       222.564</td><td style=\"text-align: right;\"> 1747315015</td><td style=\"text-align: right;\">                   2</td><td style=\"text-align: right;\">07906_00009</td></tr>\n",
       "<tr><td>_tune_wrapper_07906_00010</td><td>checkpoint_000000    </td><td>2025-05-15_15-19-43</td><td>True  </td><td>DESKTOP-B40NR52</td><td style=\"text-align: right;\">                         1</td><td style=\"text-align: right;\">741.032</td><td style=\"text-align: right;\">741.532</td><td>127.0.0.1</td><td style=\"text-align: right;\">28156</td><td>True               </td><td style=\"text-align: right;\">             156.583</td><td style=\"text-align: right;\">          156.583 </td><td style=\"text-align: right;\">       156.583</td><td style=\"text-align: right;\"> 1747315183</td><td style=\"text-align: right;\">                   1</td><td style=\"text-align: right;\">07906_00010</td></tr>\n",
       "<tr><td>_tune_wrapper_07906_00011</td><td>checkpoint_000001    </td><td>2025-05-15_15-23-35</td><td>True  </td><td>DESKTOP-B40NR52</td><td style=\"text-align: right;\">                         2</td><td style=\"text-align: right;\">730.82 </td><td style=\"text-align: right;\">731.32 </td><td>127.0.0.1</td><td style=\"text-align: right;\">23744</td><td>True               </td><td style=\"text-align: right;\">             221.12 </td><td style=\"text-align: right;\">           56.7832</td><td style=\"text-align: right;\">       221.12 </td><td style=\"text-align: right;\"> 1747315415</td><td style=\"text-align: right;\">                   2</td><td style=\"text-align: right;\">07906_00011</td></tr>\n",
       "<tr><td>_tune_wrapper_07906_00012</td><td>checkpoint_000000    </td><td>2025-05-15_15-26-23</td><td>True  </td><td>DESKTOP-B40NR52</td><td style=\"text-align: right;\">                         1</td><td style=\"text-align: right;\">755.693</td><td style=\"text-align: right;\">756.193</td><td>127.0.0.1</td><td style=\"text-align: right;\">22728</td><td>True               </td><td style=\"text-align: right;\">             156.304</td><td style=\"text-align: right;\">          156.304 </td><td style=\"text-align: right;\">       156.304</td><td style=\"text-align: right;\"> 1747315583</td><td style=\"text-align: right;\">                   1</td><td style=\"text-align: right;\">07906_00012</td></tr>\n",
       "<tr><td>_tune_wrapper_07906_00013</td><td>checkpoint_000000    </td><td>2025-05-15_15-29-19</td><td>True  </td><td>DESKTOP-B40NR52</td><td style=\"text-align: right;\">                         1</td><td style=\"text-align: right;\">744.005</td><td style=\"text-align: right;\">744.505</td><td>127.0.0.1</td><td style=\"text-align: right;\">20324</td><td>True               </td><td style=\"text-align: right;\">             164.87 </td><td style=\"text-align: right;\">          164.87  </td><td style=\"text-align: right;\">       164.87 </td><td style=\"text-align: right;\"> 1747315759</td><td style=\"text-align: right;\">                   1</td><td style=\"text-align: right;\">07906_00013</td></tr>\n",
       "<tr><td>_tune_wrapper_07906_00014</td><td>checkpoint_000014    </td><td>2025-05-15_15-45-33</td><td>True  </td><td>DESKTOP-B40NR52</td><td style=\"text-align: right;\">                        15</td><td style=\"text-align: right;\">240.953</td><td style=\"text-align: right;\">241.452</td><td>127.0.0.1</td><td style=\"text-align: right;\">30520</td><td>True               </td><td style=\"text-align: right;\">             963.027</td><td style=\"text-align: right;\">           54.5631</td><td style=\"text-align: right;\">       963.027</td><td style=\"text-align: right;\"> 1747316733</td><td style=\"text-align: right;\">                  15</td><td style=\"text-align: right;\">07906_00014</td></tr>\n",
       "<tr><td>_tune_wrapper_07906_00015</td><td>checkpoint_000007    </td><td>2025-05-15_15-55-37</td><td>True  </td><td>DESKTOP-B40NR52</td><td style=\"text-align: right;\">                         8</td><td style=\"text-align: right;\">342.075</td><td style=\"text-align: right;\">342.574</td><td>127.0.0.1</td><td style=\"text-align: right;\">29568</td><td>True               </td><td style=\"text-align: right;\">             590.578</td><td style=\"text-align: right;\">           59.7533</td><td style=\"text-align: right;\">       590.578</td><td style=\"text-align: right;\"> 1747317337</td><td style=\"text-align: right;\">                   8</td><td style=\"text-align: right;\">07906_00015</td></tr>\n",
       "<tr><td>_tune_wrapper_07906_00016</td><td>checkpoint_000001    </td><td>2025-05-15_16-00-35</td><td>True  </td><td>DESKTOP-B40NR52</td><td style=\"text-align: right;\">                         2</td><td style=\"text-align: right;\">735.511</td><td style=\"text-align: right;\">736.011</td><td>127.0.0.1</td><td style=\"text-align: right;\">29268</td><td>True               </td><td style=\"text-align: right;\">             284.509</td><td style=\"text-align: right;\">           86.4092</td><td style=\"text-align: right;\">       284.509</td><td style=\"text-align: right;\"> 1747317635</td><td style=\"text-align: right;\">                   2</td><td style=\"text-align: right;\">07906_00016</td></tr>\n",
       "<tr><td>_tune_wrapper_07906_00017</td><td>checkpoint_000000    </td><td>2025-05-15_16-03-34</td><td>True  </td><td>DESKTOP-B40NR52</td><td style=\"text-align: right;\">                         1</td><td style=\"text-align: right;\">745.445</td><td style=\"text-align: right;\">745.945</td><td>127.0.0.1</td><td style=\"text-align: right;\">27600</td><td>True               </td><td style=\"text-align: right;\">             165.917</td><td style=\"text-align: right;\">          165.917 </td><td style=\"text-align: right;\">       165.917</td><td style=\"text-align: right;\"> 1747317814</td><td style=\"text-align: right;\">                   1</td><td style=\"text-align: right;\">07906_00017</td></tr>\n",
       "<tr><td>_tune_wrapper_07906_00018</td><td>checkpoint_000003    </td><td>2025-05-15_16-09-03</td><td>True  </td><td>DESKTOP-B40NR52</td><td style=\"text-align: right;\">                         4</td><td style=\"text-align: right;\">269.623</td><td style=\"text-align: right;\">270.123</td><td>127.0.0.1</td><td style=\"text-align: right;\"> 5236</td><td>True               </td><td style=\"text-align: right;\">             317.306</td><td style=\"text-align: right;\">           56.5549</td><td style=\"text-align: right;\">       317.306</td><td style=\"text-align: right;\"> 1747318143</td><td style=\"text-align: right;\">                   4</td><td style=\"text-align: right;\">07906_00018</td></tr>\n",
       "<tr><td>_tune_wrapper_07906_00019</td><td>checkpoint_000001    </td><td>2025-05-15_16-13-48</td><td>True  </td><td>DESKTOP-B40NR52</td><td style=\"text-align: right;\">                         2</td><td style=\"text-align: right;\">680.276</td><td style=\"text-align: right;\">680.776</td><td>127.0.0.1</td><td style=\"text-align: right;\"> 5284</td><td>True               </td><td style=\"text-align: right;\">             273.508</td><td style=\"text-align: right;\">           74.129 </td><td style=\"text-align: right;\">       273.508</td><td style=\"text-align: right;\"> 1747318428</td><td style=\"text-align: right;\">                   2</td><td style=\"text-align: right;\">07906_00019</td></tr>\n",
       "</tbody>\n",
       "</table>\n",
       "</div>\n",
       "<style>\n",
       ".trialProgress {\n",
       "  display: flex;\n",
       "  flex-direction: column;\n",
       "  color: var(--jp-ui-font-color1);\n",
       "}\n",
       ".trialProgress h3 {\n",
       "  font-weight: bold;\n",
       "}\n",
       ".trialProgress td {\n",
       "  white-space: nowrap;\n",
       "}\n",
       "</style>\n"
      ],
      "text/plain": [
       "<IPython.core.display.HTML object>"
      ]
     },
     "metadata": {},
     "output_type": "display_data"
    },
    {
     "name": "stderr",
     "output_type": "stream",
     "text": [
      "\u001b[36m(_tune_wrapper pid=31488)\u001b[0m Checkpoint successfully created at: Checkpoint(filesystem=local, path=c:/Users/Youssef/Desktop/TFG/eye-tracker-vocacions/src/logs/face_aligned/tune_20250515-141328/07906_00000/checkpoint_000000)\n",
      "\u001b[36m(_tune_wrapper pid=31488)\u001b[0m Checkpoint successfully created at: Checkpoint(filesystem=local, path=c:/Users/Youssef/Desktop/TFG/eye-tracker-vocacions/src/logs/face_aligned/tune_20250515-141328/07906_00000/checkpoint_000001)\n",
      "\u001b[36m(_tune_wrapper pid=31488)\u001b[0m Checkpoint successfully created at: Checkpoint(filesystem=local, path=c:/Users/Youssef/Desktop/TFG/eye-tracker-vocacions/src/logs/face_aligned/tune_20250515-141328/07906_00000/checkpoint_000002)\n",
      "\u001b[36m(_tune_wrapper pid=31488)\u001b[0m Checkpoint successfully created at: Checkpoint(filesystem=local, path=c:/Users/Youssef/Desktop/TFG/eye-tracker-vocacions/src/logs/face_aligned/tune_20250515-141328/07906_00000/checkpoint_000003)\n",
      "\u001b[36m(_tune_wrapper pid=31488)\u001b[0m Checkpoint successfully created at: Checkpoint(filesystem=local, path=c:/Users/Youssef/Desktop/TFG/eye-tracker-vocacions/src/logs/face_aligned/tune_20250515-141328/07906_00000/checkpoint_000004)\n",
      "\u001b[36m(_tune_wrapper pid=31488)\u001b[0m Checkpoint successfully created at: Checkpoint(filesystem=local, path=c:/Users/Youssef/Desktop/TFG/eye-tracker-vocacions/src/logs/face_aligned/tune_20250515-141328/07906_00000/checkpoint_000005)\n",
      "\u001b[36m(_tune_wrapper pid=31488)\u001b[0m Checkpoint successfully created at: Checkpoint(filesystem=local, path=c:/Users/Youssef/Desktop/TFG/eye-tracker-vocacions/src/logs/face_aligned/tune_20250515-141328/07906_00000/checkpoint_000006)\n",
      "\u001b[36m(_tune_wrapper pid=31488)\u001b[0m Checkpoint successfully created at: Checkpoint(filesystem=local, path=c:/Users/Youssef/Desktop/TFG/eye-tracker-vocacions/src/logs/face_aligned/tune_20250515-141328/07906_00000/checkpoint_000007)\n",
      "\u001b[36m(_tune_wrapper pid=31488)\u001b[0m Checkpoint successfully created at: Checkpoint(filesystem=local, path=c:/Users/Youssef/Desktop/TFG/eye-tracker-vocacions/src/logs/face_aligned/tune_20250515-141328/07906_00000/checkpoint_000008)\n",
      "\u001b[36m(_tune_wrapper pid=31488)\u001b[0m Checkpoint successfully created at: Checkpoint(filesystem=local, path=c:/Users/Youssef/Desktop/TFG/eye-tracker-vocacions/src/logs/face_aligned/tune_20250515-141328/07906_00000/checkpoint_000009)\n",
      "\u001b[36m(_tune_wrapper pid=31488)\u001b[0m Checkpoint successfully created at: Checkpoint(filesystem=local, path=c:/Users/Youssef/Desktop/TFG/eye-tracker-vocacions/src/logs/face_aligned/tune_20250515-141328/07906_00000/checkpoint_000010)\n",
      "\u001b[36m(_tune_wrapper pid=31488)\u001b[0m Checkpoint successfully created at: Checkpoint(filesystem=local, path=c:/Users/Youssef/Desktop/TFG/eye-tracker-vocacions/src/logs/face_aligned/tune_20250515-141328/07906_00000/checkpoint_000011)\n",
      "\u001b[36m(_tune_wrapper pid=31488)\u001b[0m Checkpoint successfully created at: Checkpoint(filesystem=local, path=c:/Users/Youssef/Desktop/TFG/eye-tracker-vocacions/src/logs/face_aligned/tune_20250515-141328/07906_00000/checkpoint_000012)\n",
      "\u001b[36m(_tune_wrapper pid=31488)\u001b[0m Checkpoint successfully created at: Checkpoint(filesystem=local, path=c:/Users/Youssef/Desktop/TFG/eye-tracker-vocacions/src/logs/face_aligned/tune_20250515-141328/07906_00000/checkpoint_000013)\n",
      "2025-05-15 14:26:27,041\tINFO tensorboardx.py:308 -- Removed the following hyperparameter values when logging to tensorboard: {'channels': (32, 64, 128)}\n",
      "\u001b[36m(_tune_wrapper pid=31488)\u001b[0m Checkpoint successfully created at: Checkpoint(filesystem=local, path=c:/Users/Youssef/Desktop/TFG/eye-tracker-vocacions/src/logs/face_aligned/tune_20250515-141328/07906_00000/checkpoint_000014)\n",
      "\u001b[36m(_tune_wrapper pid=26508)\u001b[0m Seed set to 8464\n",
      "\u001b[36m(_tune_wrapper pid=26508)\u001b[0m Using bfloat16 Automatic Mixed Precision (AMP)\n",
      "\u001b[36m(_tune_wrapper pid=26508)\u001b[0m GPU available: True (cuda), used: True\n",
      "\u001b[36m(_tune_wrapper pid=26508)\u001b[0m TPU available: False, using: 0 TPU cores\n",
      "\u001b[36m(_tune_wrapper pid=26508)\u001b[0m HPU available: False, using: 0 HPUs\n",
      "\u001b[36m(_tune_wrapper pid=26508)\u001b[0m LOCAL_RANK: 0 - CUDA_VISIBLE_DEVICES: [0]\n",
      "\u001b[36m(_tune_wrapper pid=26508)\u001b[0m \n",
      "\u001b[36m(_tune_wrapper pid=26508)\u001b[0m   | Name      | Type              | Params | Mode  | In sizes       | Out sizes     \n",
      "\u001b[36m(_tune_wrapper pid=26508)\u001b[0m ------------------------------------------------------------------------------------------\n",
      "\u001b[36m(_tune_wrapper pid=26508)\u001b[0m 0 | criterion | SmoothL1Loss      | 0      | train | ?              | ?             \n",
      "\u001b[36m(_tune_wrapper pid=26508)\u001b[0m 1 | mae       | MeanAbsoluteError | 0      | train | ?              | ?             \n",
      "\u001b[36m(_tune_wrapper pid=26508)\u001b[0m 2 | mse       | MeanSquaredError  | 0      | train | ?              | ?             \n",
      "\u001b[36m(_tune_wrapper pid=26508)\u001b[0m 3 | rmse      | MeanSquaredError  | 0      | train | ?              | ?             \n",
      "\u001b[36m(_tune_wrapper pid=26508)\u001b[0m 4 | backbone  | ConvStack         | 209 K  | train | [1, 3, 64, 64] | [1, 192, 1, 1]\n",
      "\u001b[36m(_tune_wrapper pid=26508)\u001b[0m 5 | regressor | Sequential        | 25.0 K | train | [1, 192, 1, 1] | [1, 2]        \n",
      "\u001b[36m(_tune_wrapper pid=26508)\u001b[0m ------------------------------------------------------------------------------------------\n",
      "\u001b[36m(_tune_wrapper pid=26508)\u001b[0m 234 K     Trainable params\n",
      "\u001b[36m(_tune_wrapper pid=26508)\u001b[0m 0         Non-trainable params\n",
      "\u001b[36m(_tune_wrapper pid=26508)\u001b[0m 234 K     Total params\n",
      "\u001b[36m(_tune_wrapper pid=26508)\u001b[0m 0.937     Total estimated model params size (MB)\n",
      "\u001b[36m(_tune_wrapper pid=26508)\u001b[0m 26        Modules in train mode\n",
      "\u001b[36m(_tune_wrapper pid=26508)\u001b[0m 0         Modules in eval mode\n",
      "\u001b[36m(_tune_wrapper pid=26508)\u001b[0m Checkpoint successfully created at: Checkpoint(filesystem=local, path=c:/Users/Youssef/Desktop/TFG/eye-tracker-vocacions/src/logs/face_aligned/tune_20250515-141328/07906_00001/checkpoint_000000)\n",
      "\u001b[36m(_tune_wrapper pid=26508)\u001b[0m Checkpoint successfully created at: Checkpoint(filesystem=local, path=c:/Users/Youssef/Desktop/TFG/eye-tracker-vocacions/src/logs/face_aligned/tune_20250515-141328/07906_00001/checkpoint_000001)\n",
      "\u001b[36m(_tune_wrapper pid=26508)\u001b[0m Checkpoint successfully created at: Checkpoint(filesystem=local, path=c:/Users/Youssef/Desktop/TFG/eye-tracker-vocacions/src/logs/face_aligned/tune_20250515-141328/07906_00001/checkpoint_000002)\n",
      "\u001b[36m(_tune_wrapper pid=26508)\u001b[0m Checkpoint successfully created at: Checkpoint(filesystem=local, path=c:/Users/Youssef/Desktop/TFG/eye-tracker-vocacions/src/logs/face_aligned/tune_20250515-141328/07906_00001/checkpoint_000003)\n",
      "\u001b[36m(_tune_wrapper pid=26508)\u001b[0m Checkpoint successfully created at: Checkpoint(filesystem=local, path=c:/Users/Youssef/Desktop/TFG/eye-tracker-vocacions/src/logs/face_aligned/tune_20250515-141328/07906_00001/checkpoint_000004)\n",
      "\u001b[36m(_tune_wrapper pid=26508)\u001b[0m Checkpoint successfully created at: Checkpoint(filesystem=local, path=c:/Users/Youssef/Desktop/TFG/eye-tracker-vocacions/src/logs/face_aligned/tune_20250515-141328/07906_00001/checkpoint_000005)\n",
      "\u001b[36m(_tune_wrapper pid=26508)\u001b[0m Checkpoint successfully created at: Checkpoint(filesystem=local, path=c:/Users/Youssef/Desktop/TFG/eye-tracker-vocacions/src/logs/face_aligned/tune_20250515-141328/07906_00001/checkpoint_000006)\n",
      "2025-05-15 14:35:20,690\tINFO tensorboardx.py:308 -- Removed the following hyperparameter values when logging to tensorboard: {'channels': (48, 96, 192)}\n",
      "\u001b[36m(_tune_wrapper pid=26508)\u001b[0m Checkpoint successfully created at: Checkpoint(filesystem=local, path=c:/Users/Youssef/Desktop/TFG/eye-tracker-vocacions/src/logs/face_aligned/tune_20250515-141328/07906_00001/checkpoint_000007)\n",
      "\u001b[36m(_tune_wrapper pid=3160)\u001b[0m Seed set to 8018\n",
      "\u001b[36m(_tune_wrapper pid=3160)\u001b[0m Using bfloat16 Automatic Mixed Precision (AMP)\n",
      "\u001b[36m(_tune_wrapper pid=3160)\u001b[0m GPU available: True (cuda), used: True\n",
      "\u001b[36m(_tune_wrapper pid=3160)\u001b[0m TPU available: False, using: 0 TPU cores\n",
      "\u001b[36m(_tune_wrapper pid=3160)\u001b[0m HPU available: False, using: 0 HPUs\n",
      "\u001b[36m(_tune_wrapper pid=3160)\u001b[0m LOCAL_RANK: 0 - CUDA_VISIBLE_DEVICES: [0]\n",
      "\u001b[36m(_tune_wrapper pid=3160)\u001b[0m \n",
      "\u001b[36m(_tune_wrapper pid=3160)\u001b[0m   | Name      | Type              | Params | Mode  | In sizes       | Out sizes     \n",
      "\u001b[36m(_tune_wrapper pid=3160)\u001b[0m ------------------------------------------------------------------------------------------\n",
      "\u001b[36m(_tune_wrapper pid=3160)\u001b[0m 0 | criterion | SmoothL1Loss      | 0      | train | ?              | ?             \n",
      "\u001b[36m(_tune_wrapper pid=3160)\u001b[0m 1 | mae       | MeanAbsoluteError | 0      | train | ?              | ?             \n",
      "\u001b[36m(_tune_wrapper pid=3160)\u001b[0m 2 | mse       | MeanSquaredError  | 0      | train | ?              | ?             \n",
      "\u001b[36m(_tune_wrapper pid=3160)\u001b[0m 3 | rmse      | MeanSquaredError  | 0      | train | ?              | ?             \n",
      "\u001b[36m(_tune_wrapper pid=3160)\u001b[0m 4 | backbone  | ConvStack         | 93.5 K | train | [1, 3, 64, 64] | [1, 128, 1, 1]\n",
      "\u001b[36m(_tune_wrapper pid=3160)\u001b[0m 5 | regressor | Sequential        | 16.8 K | train | [1, 128, 1, 1] | [1, 2]        \n",
      "\u001b[36m(_tune_wrapper pid=3160)\u001b[0m ------------------------------------------------------------------------------------------\n",
      "\u001b[36m(_tune_wrapper pid=3160)\u001b[0m 110 K     Trainable params\n",
      "\u001b[36m(_tune_wrapper pid=3160)\u001b[0m 0         Non-trainable params\n",
      "\u001b[36m(_tune_wrapper pid=3160)\u001b[0m 110 K     Total params\n",
      "\u001b[36m(_tune_wrapper pid=3160)\u001b[0m 0.441     Total estimated model params size (MB)\n",
      "\u001b[36m(_tune_wrapper pid=3160)\u001b[0m 26        Modules in train mode\n",
      "\u001b[36m(_tune_wrapper pid=3160)\u001b[0m 0         Modules in eval mode\n",
      "2025-05-15 14:38:03,470\tINFO tensorboardx.py:308 -- Removed the following hyperparameter values when logging to tensorboard: {'channels': (32, 64, 128)}\n",
      "\u001b[36m(_tune_wrapper pid=3160)\u001b[0m Checkpoint successfully created at: Checkpoint(filesystem=local, path=c:/Users/Youssef/Desktop/TFG/eye-tracker-vocacions/src/logs/face_aligned/tune_20250515-141328/07906_00002/checkpoint_000000)\n",
      "\u001b[36m(_tune_wrapper pid=24172)\u001b[0m Seed set to 4345\n",
      "\u001b[36m(_tune_wrapper pid=24172)\u001b[0m Using bfloat16 Automatic Mixed Precision (AMP)\n",
      "\u001b[36m(_tune_wrapper pid=24172)\u001b[0m GPU available: True (cuda), used: True\n",
      "\u001b[36m(_tune_wrapper pid=24172)\u001b[0m TPU available: False, using: 0 TPU cores\n",
      "\u001b[36m(_tune_wrapper pid=24172)\u001b[0m HPU available: False, using: 0 HPUs\n",
      "\u001b[36m(_tune_wrapper pid=24172)\u001b[0m LOCAL_RANK: 0 - CUDA_VISIBLE_DEVICES: [0]\n",
      "\u001b[36m(_tune_wrapper pid=24172)\u001b[0m \n",
      "\u001b[36m(_tune_wrapper pid=24172)\u001b[0m   | Name      | Type              | Params | Mode  | In sizes       | Out sizes     \n",
      "\u001b[36m(_tune_wrapper pid=24172)\u001b[0m ------------------------------------------------------------------------------------------\n",
      "\u001b[36m(_tune_wrapper pid=24172)\u001b[0m 0 | criterion | SmoothL1Loss      | 0      | train | ?              | ?             \n",
      "\u001b[36m(_tune_wrapper pid=24172)\u001b[0m 1 | mae       | MeanAbsoluteError | 0      | train | ?              | ?             \n",
      "\u001b[36m(_tune_wrapper pid=24172)\u001b[0m 2 | mse       | MeanSquaredError  | 0      | train | ?              | ?             \n",
      "\u001b[36m(_tune_wrapper pid=24172)\u001b[0m 3 | rmse      | MeanSquaredError  | 0      | train | ?              | ?             \n",
      "\u001b[36m(_tune_wrapper pid=24172)\u001b[0m 4 | backbone  | ConvStack         | 371 K  | train | [1, 3, 64, 64] | [1, 256, 1, 1]\n",
      "\u001b[36m(_tune_wrapper pid=24172)\u001b[0m 5 | regressor | Sequential        | 132 K  | train | [1, 256, 1, 1] | [1, 2]        \n",
      "\u001b[36m(_tune_wrapper pid=24172)\u001b[0m ------------------------------------------------------------------------------------------\n",
      "\u001b[36m(_tune_wrapper pid=24172)\u001b[0m 503 K     Trainable params\n",
      "\u001b[36m(_tune_wrapper pid=24172)\u001b[0m 0         Non-trainable params\n",
      "\u001b[36m(_tune_wrapper pid=24172)\u001b[0m 503 K     Total params\n",
      "\u001b[36m(_tune_wrapper pid=24172)\u001b[0m 2.015     Total estimated model params size (MB)\n",
      "\u001b[36m(_tune_wrapper pid=24172)\u001b[0m 26        Modules in train mode\n",
      "\u001b[36m(_tune_wrapper pid=24172)\u001b[0m 0         Modules in eval mode\n",
      "\u001b[36m(_tune_wrapper pid=24172)\u001b[0m Checkpoint successfully created at: Checkpoint(filesystem=local, path=c:/Users/Youssef/Desktop/TFG/eye-tracker-vocacions/src/logs/face_aligned/tune_20250515-141328/07906_00003/checkpoint_000000)\n",
      "\u001b[36m(_tune_wrapper pid=24172)\u001b[0m Checkpoint successfully created at: Checkpoint(filesystem=local, path=c:/Users/Youssef/Desktop/TFG/eye-tracker-vocacions/src/logs/face_aligned/tune_20250515-141328/07906_00003/checkpoint_000001)\n",
      "\u001b[36m(_tune_wrapper pid=24172)\u001b[0m Checkpoint successfully created at: Checkpoint(filesystem=local, path=c:/Users/Youssef/Desktop/TFG/eye-tracker-vocacions/src/logs/face_aligned/tune_20250515-141328/07906_00003/checkpoint_000002)\n",
      "\u001b[36m(_tune_wrapper pid=24172)\u001b[0m Checkpoint successfully created at: Checkpoint(filesystem=local, path=c:/Users/Youssef/Desktop/TFG/eye-tracker-vocacions/src/logs/face_aligned/tune_20250515-141328/07906_00003/checkpoint_000003)\n",
      "\u001b[36m(_tune_wrapper pid=24172)\u001b[0m Checkpoint successfully created at: Checkpoint(filesystem=local, path=c:/Users/Youssef/Desktop/TFG/eye-tracker-vocacions/src/logs/face_aligned/tune_20250515-141328/07906_00003/checkpoint_000004)\n",
      "\u001b[36m(_tune_wrapper pid=24172)\u001b[0m Checkpoint successfully created at: Checkpoint(filesystem=local, path=c:/Users/Youssef/Desktop/TFG/eye-tracker-vocacions/src/logs/face_aligned/tune_20250515-141328/07906_00003/checkpoint_000005)\n",
      "\u001b[36m(_tune_wrapper pid=24172)\u001b[0m Checkpoint successfully created at: Checkpoint(filesystem=local, path=c:/Users/Youssef/Desktop/TFG/eye-tracker-vocacions/src/logs/face_aligned/tune_20250515-141328/07906_00003/checkpoint_000006)\n",
      "\u001b[36m(_tune_wrapper pid=24172)\u001b[0m Checkpoint successfully created at: Checkpoint(filesystem=local, path=c:/Users/Youssef/Desktop/TFG/eye-tracker-vocacions/src/logs/face_aligned/tune_20250515-141328/07906_00003/checkpoint_000007)\n",
      "\u001b[36m(_tune_wrapper pid=24172)\u001b[0m Checkpoint successfully created at: Checkpoint(filesystem=local, path=c:/Users/Youssef/Desktop/TFG/eye-tracker-vocacions/src/logs/face_aligned/tune_20250515-141328/07906_00003/checkpoint_000008)\n",
      "\u001b[36m(_tune_wrapper pid=24172)\u001b[0m Checkpoint successfully created at: Checkpoint(filesystem=local, path=c:/Users/Youssef/Desktop/TFG/eye-tracker-vocacions/src/logs/face_aligned/tune_20250515-141328/07906_00003/checkpoint_000009)\n",
      "\u001b[36m(_tune_wrapper pid=24172)\u001b[0m Checkpoint successfully created at: Checkpoint(filesystem=local, path=c:/Users/Youssef/Desktop/TFG/eye-tracker-vocacions/src/logs/face_aligned/tune_20250515-141328/07906_00003/checkpoint_000010)\n",
      "\u001b[36m(_tune_wrapper pid=24172)\u001b[0m Checkpoint successfully created at: Checkpoint(filesystem=local, path=c:/Users/Youssef/Desktop/TFG/eye-tracker-vocacions/src/logs/face_aligned/tune_20250515-141328/07906_00003/checkpoint_000011)\n",
      "\u001b[36m(_tune_wrapper pid=24172)\u001b[0m Checkpoint successfully created at: Checkpoint(filesystem=local, path=c:/Users/Youssef/Desktop/TFG/eye-tracker-vocacions/src/logs/face_aligned/tune_20250515-141328/07906_00003/checkpoint_000012)\n",
      "\u001b[36m(_tune_wrapper pid=24172)\u001b[0m Checkpoint successfully created at: Checkpoint(filesystem=local, path=c:/Users/Youssef/Desktop/TFG/eye-tracker-vocacions/src/logs/face_aligned/tune_20250515-141328/07906_00003/checkpoint_000013)\n",
      "2025-05-15 14:57:39,841\tINFO tensorboardx.py:308 -- Removed the following hyperparameter values when logging to tensorboard: {'channels': (64, 128, 256)}\n",
      "\u001b[36m(_tune_wrapper pid=24172)\u001b[0m Checkpoint successfully created at: Checkpoint(filesystem=local, path=c:/Users/Youssef/Desktop/TFG/eye-tracker-vocacions/src/logs/face_aligned/tune_20250515-141328/07906_00003/checkpoint_000014)\n",
      "\u001b[36m(_tune_wrapper pid=28976)\u001b[0m Seed set to 3850\n",
      "\u001b[36m(_tune_wrapper pid=28976)\u001b[0m Using bfloat16 Automatic Mixed Precision (AMP)\n",
      "\u001b[36m(_tune_wrapper pid=28976)\u001b[0m GPU available: True (cuda), used: True\n",
      "\u001b[36m(_tune_wrapper pid=28976)\u001b[0m TPU available: False, using: 0 TPU cores\n",
      "\u001b[36m(_tune_wrapper pid=28976)\u001b[0m HPU available: False, using: 0 HPUs\n",
      "\u001b[36m(_tune_wrapper pid=28976)\u001b[0m LOCAL_RANK: 0 - CUDA_VISIBLE_DEVICES: [0]\n",
      "\u001b[36m(_tune_wrapper pid=28976)\u001b[0m \n",
      "\u001b[36m(_tune_wrapper pid=28976)\u001b[0m   | Name      | Type              | Params | Mode  | In sizes       | Out sizes     \n",
      "\u001b[36m(_tune_wrapper pid=28976)\u001b[0m ------------------------------------------------------------------------------------------\n",
      "\u001b[36m(_tune_wrapper pid=28976)\u001b[0m 0 | criterion | SmoothL1Loss      | 0      | train | ?              | ?             \n",
      "\u001b[36m(_tune_wrapper pid=28976)\u001b[0m 1 | mae       | MeanAbsoluteError | 0      | train | ?              | ?             \n",
      "\u001b[36m(_tune_wrapper pid=28976)\u001b[0m 2 | mse       | MeanSquaredError  | 0      | train | ?              | ?             \n",
      "\u001b[36m(_tune_wrapper pid=28976)\u001b[0m 3 | rmse      | MeanSquaredError  | 0      | train | ?              | ?             \n",
      "\u001b[36m(_tune_wrapper pid=28976)\u001b[0m 4 | backbone  | ConvStack         | 209 K  | train | [1, 3, 64, 64] | [1, 192, 1, 1]\n",
      "\u001b[36m(_tune_wrapper pid=28976)\u001b[0m 5 | regressor | Sequential        | 25.0 K | train | [1, 192, 1, 1] | [1, 2]        \n",
      "\u001b[36m(_tune_wrapper pid=28976)\u001b[0m ------------------------------------------------------------------------------------------\n",
      "\u001b[36m(_tune_wrapper pid=28976)\u001b[0m 234 K     Trainable params\n",
      "\u001b[36m(_tune_wrapper pid=28976)\u001b[0m 0         Non-trainable params\n",
      "\u001b[36m(_tune_wrapper pid=28976)\u001b[0m 234 K     Total params\n",
      "\u001b[36m(_tune_wrapper pid=28976)\u001b[0m 0.937     Total estimated model params size (MB)\n",
      "\u001b[36m(_tune_wrapper pid=28976)\u001b[0m 26        Modules in train mode\n",
      "\u001b[36m(_tune_wrapper pid=28976)\u001b[0m 0         Modules in eval mode\n",
      "2025-05-15 15:00:36,465\tINFO tensorboardx.py:308 -- Removed the following hyperparameter values when logging to tensorboard: {'channels': (48, 96, 192)}\n",
      "\u001b[36m(_tune_wrapper pid=28976)\u001b[0m Checkpoint successfully created at: Checkpoint(filesystem=local, path=c:/Users/Youssef/Desktop/TFG/eye-tracker-vocacions/src/logs/face_aligned/tune_20250515-141328/07906_00004/checkpoint_000000)\n",
      "\u001b[36m(_tune_wrapper pid=3416)\u001b[0m Seed set to 6023\n",
      "\u001b[36m(_tune_wrapper pid=3416)\u001b[0m Using bfloat16 Automatic Mixed Precision (AMP)\n",
      "\u001b[36m(_tune_wrapper pid=3416)\u001b[0m GPU available: True (cuda), used: True\n",
      "\u001b[36m(_tune_wrapper pid=3416)\u001b[0m TPU available: False, using: 0 TPU cores\n",
      "\u001b[36m(_tune_wrapper pid=3416)\u001b[0m HPU available: False, using: 0 HPUs\n",
      "\u001b[36m(_tune_wrapper pid=3416)\u001b[0m LOCAL_RANK: 0 - CUDA_VISIBLE_DEVICES: [0]\n",
      "\u001b[36m(_tune_wrapper pid=3416)\u001b[0m \n",
      "\u001b[36m(_tune_wrapper pid=3416)\u001b[0m   | Name      | Type              | Params | Mode  | In sizes       | Out sizes     \n",
      "\u001b[36m(_tune_wrapper pid=3416)\u001b[0m ------------------------------------------------------------------------------------------\n",
      "\u001b[36m(_tune_wrapper pid=3416)\u001b[0m 0 | criterion | SmoothL1Loss      | 0      | train | ?              | ?             \n",
      "\u001b[36m(_tune_wrapper pid=3416)\u001b[0m 1 | mae       | MeanAbsoluteError | 0      | train | ?              | ?             \n",
      "\u001b[36m(_tune_wrapper pid=3416)\u001b[0m 2 | mse       | MeanSquaredError  | 0      | train | ?              | ?             \n",
      "\u001b[36m(_tune_wrapper pid=3416)\u001b[0m 3 | rmse      | MeanSquaredError  | 0      | train | ?              | ?             \n",
      "\u001b[36m(_tune_wrapper pid=3416)\u001b[0m 4 | backbone  | ConvStack         | 371 K  | train | [1, 3, 64, 64] | [1, 256, 1, 1]\n",
      "\u001b[36m(_tune_wrapper pid=3416)\u001b[0m 5 | regressor | Sequential        | 33.2 K | train | [1, 256, 1, 1] | [1, 2]        \n",
      "\u001b[36m(_tune_wrapper pid=3416)\u001b[0m ------------------------------------------------------------------------------------------\n",
      "\u001b[36m(_tune_wrapper pid=3416)\u001b[0m 404 K     Trainable params\n",
      "\u001b[36m(_tune_wrapper pid=3416)\u001b[0m 0         Non-trainable params\n",
      "\u001b[36m(_tune_wrapper pid=3416)\u001b[0m 404 K     Total params\n",
      "\u001b[36m(_tune_wrapper pid=3416)\u001b[0m 1.618     Total estimated model params size (MB)\n",
      "\u001b[36m(_tune_wrapper pid=3416)\u001b[0m 26        Modules in train mode\n",
      "\u001b[36m(_tune_wrapper pid=3416)\u001b[0m 0         Modules in eval mode\n",
      "2025-05-15 15:04:07,117\tINFO tensorboardx.py:308 -- Removed the following hyperparameter values when logging to tensorboard: {'channels': (64, 128, 256)}\n",
      "\u001b[36m(_tune_wrapper pid=3416)\u001b[0m Checkpoint successfully created at: Checkpoint(filesystem=local, path=c:/Users/Youssef/Desktop/TFG/eye-tracker-vocacions/src/logs/face_aligned/tune_20250515-141328/07906_00005/checkpoint_000000)\n",
      "\u001b[36m(_tune_wrapper pid=2660)\u001b[0m Seed set to 9021\n",
      "\u001b[36m(_tune_wrapper pid=2660)\u001b[0m Using bfloat16 Automatic Mixed Precision (AMP)\n",
      "\u001b[36m(_tune_wrapper pid=2660)\u001b[0m GPU available: True (cuda), used: True\n",
      "\u001b[36m(_tune_wrapper pid=2660)\u001b[0m TPU available: False, using: 0 TPU cores\n",
      "\u001b[36m(_tune_wrapper pid=2660)\u001b[0m HPU available: False, using: 0 HPUs\n",
      "\u001b[36m(_tune_wrapper pid=2660)\u001b[0m LOCAL_RANK: 0 - CUDA_VISIBLE_DEVICES: [0]\n",
      "\u001b[36m(_tune_wrapper pid=2660)\u001b[0m \n",
      "\u001b[36m(_tune_wrapper pid=2660)\u001b[0m   | Name      | Type              | Params | Mode  | In sizes       | Out sizes     \n",
      "\u001b[36m(_tune_wrapper pid=2660)\u001b[0m ------------------------------------------------------------------------------------------\n",
      "\u001b[36m(_tune_wrapper pid=2660)\u001b[0m 0 | criterion | SmoothL1Loss      | 0      | train | ?              | ?             \n",
      "\u001b[36m(_tune_wrapper pid=2660)\u001b[0m 1 | mae       | MeanAbsoluteError | 0      | train | ?              | ?             \n",
      "\u001b[36m(_tune_wrapper pid=2660)\u001b[0m 2 | mse       | MeanSquaredError  | 0      | train | ?              | ?             \n",
      "\u001b[36m(_tune_wrapper pid=2660)\u001b[0m 3 | rmse      | MeanSquaredError  | 0      | train | ?              | ?             \n",
      "\u001b[36m(_tune_wrapper pid=2660)\u001b[0m 4 | backbone  | ConvStack         | 371 K  | train | [1, 3, 64, 64] | [1, 256, 1, 1]\n",
      "\u001b[36m(_tune_wrapper pid=2660)\u001b[0m 5 | regressor | Sequential        | 66.3 K | train | [1, 256, 1, 1] | [1, 2]        \n",
      "\u001b[36m(_tune_wrapper pid=2660)\u001b[0m ------------------------------------------------------------------------------------------\n",
      "\u001b[36m(_tune_wrapper pid=2660)\u001b[0m 437 K     Trainable params\n",
      "\u001b[36m(_tune_wrapper pid=2660)\u001b[0m 0         Non-trainable params\n",
      "\u001b[36m(_tune_wrapper pid=2660)\u001b[0m 437 K     Total params\n",
      "\u001b[36m(_tune_wrapper pid=2660)\u001b[0m 1.750     Total estimated model params size (MB)\n",
      "\u001b[36m(_tune_wrapper pid=2660)\u001b[0m 26        Modules in train mode\n",
      "\u001b[36m(_tune_wrapper pid=2660)\u001b[0m 0         Modules in eval mode\n",
      "2025-05-15 15:07:22,508\tINFO tensorboardx.py:308 -- Removed the following hyperparameter values when logging to tensorboard: {'channels': (64, 128, 256)}\n",
      "\u001b[36m(_tune_wrapper pid=2660)\u001b[0m Checkpoint successfully created at: Checkpoint(filesystem=local, path=c:/Users/Youssef/Desktop/TFG/eye-tracker-vocacions/src/logs/face_aligned/tune_20250515-141328/07906_00006/checkpoint_000000)\n",
      "\u001b[36m(_tune_wrapper pid=27000)\u001b[0m Seed set to 2352\n",
      "\u001b[36m(_tune_wrapper pid=27000)\u001b[0m Using bfloat16 Automatic Mixed Precision (AMP)\n",
      "\u001b[36m(_tune_wrapper pid=27000)\u001b[0m GPU available: True (cuda), used: True\n",
      "\u001b[36m(_tune_wrapper pid=27000)\u001b[0m TPU available: False, using: 0 TPU cores\n",
      "\u001b[36m(_tune_wrapper pid=27000)\u001b[0m HPU available: False, using: 0 HPUs\n",
      "\u001b[36m(_tune_wrapper pid=27000)\u001b[0m LOCAL_RANK: 0 - CUDA_VISIBLE_DEVICES: [0]\n",
      "\u001b[36m(_tune_wrapper pid=27000)\u001b[0m \n",
      "\u001b[36m(_tune_wrapper pid=27000)\u001b[0m   | Name      | Type              | Params | Mode  | In sizes       | Out sizes     \n",
      "\u001b[36m(_tune_wrapper pid=27000)\u001b[0m ------------------------------------------------------------------------------------------\n",
      "\u001b[36m(_tune_wrapper pid=27000)\u001b[0m 0 | criterion | SmoothL1Loss      | 0      | train | ?              | ?             \n",
      "\u001b[36m(_tune_wrapper pid=27000)\u001b[0m 1 | mae       | MeanAbsoluteError | 0      | train | ?              | ?             \n",
      "\u001b[36m(_tune_wrapper pid=27000)\u001b[0m 2 | mse       | MeanSquaredError  | 0      | train | ?              | ?             \n",
      "\u001b[36m(_tune_wrapper pid=27000)\u001b[0m 3 | rmse      | MeanSquaredError  | 0      | train | ?              | ?             \n",
      "\u001b[36m(_tune_wrapper pid=27000)\u001b[0m 4 | backbone  | ConvStack         | 93.5 K | train | [1, 3, 64, 64] | [1, 128, 1, 1]\n",
      "\u001b[36m(_tune_wrapper pid=27000)\u001b[0m 5 | regressor | Sequential        | 16.8 K | train | [1, 128, 1, 1] | [1, 2]        \n",
      "\u001b[36m(_tune_wrapper pid=27000)\u001b[0m ------------------------------------------------------------------------------------------\n",
      "\u001b[36m(_tune_wrapper pid=27000)\u001b[0m 110 K     Trainable params\n",
      "\u001b[36m(_tune_wrapper pid=27000)\u001b[0m 0         Non-trainable params\n",
      "\u001b[36m(_tune_wrapper pid=27000)\u001b[0m 110 K     Total params\n",
      "\u001b[36m(_tune_wrapper pid=27000)\u001b[0m 0.441     Total estimated model params size (MB)\n",
      "\u001b[36m(_tune_wrapper pid=27000)\u001b[0m 26        Modules in train mode\n",
      "\u001b[36m(_tune_wrapper pid=27000)\u001b[0m 0         Modules in eval mode\n",
      "2025-05-15 15:10:05,447\tINFO tensorboardx.py:308 -- Removed the following hyperparameter values when logging to tensorboard: {'channels': (32, 64, 128)}\n",
      "\u001b[36m(_tune_wrapper pid=27000)\u001b[0m Checkpoint successfully created at: Checkpoint(filesystem=local, path=c:/Users/Youssef/Desktop/TFG/eye-tracker-vocacions/src/logs/face_aligned/tune_20250515-141328/07906_00007/checkpoint_000000)\n",
      "\u001b[36m(_tune_wrapper pid=31344)\u001b[0m Seed set to 6917\n",
      "\u001b[36m(_tune_wrapper pid=31344)\u001b[0m Using bfloat16 Automatic Mixed Precision (AMP)\n",
      "\u001b[36m(_tune_wrapper pid=31344)\u001b[0m GPU available: True (cuda), used: True\n",
      "\u001b[36m(_tune_wrapper pid=31344)\u001b[0m TPU available: False, using: 0 TPU cores\n",
      "\u001b[36m(_tune_wrapper pid=31344)\u001b[0m HPU available: False, using: 0 HPUs\n",
      "\u001b[36m(_tune_wrapper pid=31344)\u001b[0m LOCAL_RANK: 0 - CUDA_VISIBLE_DEVICES: [0]\n",
      "\u001b[36m(_tune_wrapper pid=31344)\u001b[0m \n",
      "\u001b[36m(_tune_wrapper pid=31344)\u001b[0m   | Name      | Type              | Params | Mode  | In sizes       | Out sizes     \n",
      "\u001b[36m(_tune_wrapper pid=31344)\u001b[0m ------------------------------------------------------------------------------------------\n",
      "\u001b[36m(_tune_wrapper pid=31344)\u001b[0m 0 | criterion | SmoothL1Loss      | 0      | train | ?              | ?             \n",
      "\u001b[36m(_tune_wrapper pid=31344)\u001b[0m 1 | mae       | MeanAbsoluteError | 0      | train | ?              | ?             \n",
      "\u001b[36m(_tune_wrapper pid=31344)\u001b[0m 2 | mse       | MeanSquaredError  | 0      | train | ?              | ?             \n",
      "\u001b[36m(_tune_wrapper pid=31344)\u001b[0m 3 | rmse      | MeanSquaredError  | 0      | train | ?              | ?             \n",
      "\u001b[36m(_tune_wrapper pid=31344)\u001b[0m 4 | backbone  | ConvStack         | 209 K  | train | [1, 3, 64, 64] | [1, 192, 1, 1]\n",
      "\u001b[36m(_tune_wrapper pid=31344)\u001b[0m 5 | regressor | Sequential        | 25.0 K | train | [1, 192, 1, 1] | [1, 2]        \n",
      "\u001b[36m(_tune_wrapper pid=31344)\u001b[0m ------------------------------------------------------------------------------------------\n",
      "\u001b[36m(_tune_wrapper pid=31344)\u001b[0m 234 K     Trainable params\n",
      "\u001b[36m(_tune_wrapper pid=31344)\u001b[0m 0         Non-trainable params\n",
      "\u001b[36m(_tune_wrapper pid=31344)\u001b[0m 234 K     Total params\n",
      "\u001b[36m(_tune_wrapper pid=31344)\u001b[0m 0.937     Total estimated model params size (MB)\n",
      "\u001b[36m(_tune_wrapper pid=31344)\u001b[0m 26        Modules in train mode\n",
      "\u001b[36m(_tune_wrapper pid=31344)\u001b[0m 0         Modules in eval mode\n",
      "2025-05-15 15:13:01,806\tINFO tensorboardx.py:308 -- Removed the following hyperparameter values when logging to tensorboard: {'channels': (48, 96, 192)}\n",
      "\u001b[36m(_tune_wrapper pid=31344)\u001b[0m Checkpoint successfully created at: Checkpoint(filesystem=local, path=c:/Users/Youssef/Desktop/TFG/eye-tracker-vocacions/src/logs/face_aligned/tune_20250515-141328/07906_00008/checkpoint_000000)\n",
      "\u001b[36m(_tune_wrapper pid=16832)\u001b[0m Seed set to 3170\n",
      "\u001b[36m(_tune_wrapper pid=16832)\u001b[0m Using bfloat16 Automatic Mixed Precision (AMP)\n",
      "\u001b[36m(_tune_wrapper pid=16832)\u001b[0m GPU available: True (cuda), used: True\n",
      "\u001b[36m(_tune_wrapper pid=16832)\u001b[0m TPU available: False, using: 0 TPU cores\n",
      "\u001b[36m(_tune_wrapper pid=16832)\u001b[0m HPU available: False, using: 0 HPUs\n",
      "\u001b[36m(_tune_wrapper pid=16832)\u001b[0m LOCAL_RANK: 0 - CUDA_VISIBLE_DEVICES: [0]\n",
      "\u001b[36m(_tune_wrapper pid=16832)\u001b[0m \n",
      "\u001b[36m(_tune_wrapper pid=16832)\u001b[0m   | Name      | Type              | Params | Mode  | In sizes       | Out sizes     \n",
      "\u001b[36m(_tune_wrapper pid=16832)\u001b[0m ------------------------------------------------------------------------------------------\n",
      "\u001b[36m(_tune_wrapper pid=16832)\u001b[0m 0 | criterion | SmoothL1Loss      | 0      | train | ?              | ?             \n",
      "\u001b[36m(_tune_wrapper pid=16832)\u001b[0m 1 | mae       | MeanAbsoluteError | 0      | train | ?              | ?             \n",
      "\u001b[36m(_tune_wrapper pid=16832)\u001b[0m 2 | mse       | MeanSquaredError  | 0      | train | ?              | ?             \n",
      "\u001b[36m(_tune_wrapper pid=16832)\u001b[0m 3 | rmse      | MeanSquaredError  | 0      | train | ?              | ?             \n",
      "\u001b[36m(_tune_wrapper pid=16832)\u001b[0m 4 | backbone  | ConvStack         | 209 K  | train | [1, 3, 64, 64] | [1, 192, 1, 1]\n",
      "\u001b[36m(_tune_wrapper pid=16832)\u001b[0m 5 | regressor | Sequential        | 25.0 K | train | [1, 192, 1, 1] | [1, 2]        \n",
      "\u001b[36m(_tune_wrapper pid=16832)\u001b[0m ------------------------------------------------------------------------------------------\n",
      "\u001b[36m(_tune_wrapper pid=16832)\u001b[0m 234 K     Trainable params\n",
      "\u001b[36m(_tune_wrapper pid=16832)\u001b[0m 0         Non-trainable params\n",
      "\u001b[36m(_tune_wrapper pid=16832)\u001b[0m 234 K     Total params\n",
      "\u001b[36m(_tune_wrapper pid=16832)\u001b[0m 0.937     Total estimated model params size (MB)\n",
      "\u001b[36m(_tune_wrapper pid=16832)\u001b[0m 26        Modules in train mode\n",
      "\u001b[36m(_tune_wrapper pid=16832)\u001b[0m 0         Modules in eval mode\n",
      "\u001b[36m(_tune_wrapper pid=16832)\u001b[0m Checkpoint successfully created at: Checkpoint(filesystem=local, path=c:/Users/Youssef/Desktop/TFG/eye-tracker-vocacions/src/logs/face_aligned/tune_20250515-141328/07906_00009/checkpoint_000000)\n",
      "2025-05-15 15:16:55,349\tINFO tensorboardx.py:308 -- Removed the following hyperparameter values when logging to tensorboard: {'channels': (48, 96, 192)}\n",
      "\u001b[36m(_tune_wrapper pid=16832)\u001b[0m Checkpoint successfully created at: Checkpoint(filesystem=local, path=c:/Users/Youssef/Desktop/TFG/eye-tracker-vocacions/src/logs/face_aligned/tune_20250515-141328/07906_00009/checkpoint_000001)\n",
      "\u001b[36m(_tune_wrapper pid=28156)\u001b[0m Seed set to 2071\n",
      "\u001b[36m(_tune_wrapper pid=28156)\u001b[0m Using bfloat16 Automatic Mixed Precision (AMP)\n",
      "\u001b[36m(_tune_wrapper pid=28156)\u001b[0m GPU available: True (cuda), used: True\n",
      "\u001b[36m(_tune_wrapper pid=28156)\u001b[0m TPU available: False, using: 0 TPU cores\n",
      "\u001b[36m(_tune_wrapper pid=28156)\u001b[0m HPU available: False, using: 0 HPUs\n",
      "\u001b[36m(_tune_wrapper pid=28156)\u001b[0m LOCAL_RANK: 0 - CUDA_VISIBLE_DEVICES: [0]\n",
      "\u001b[36m(_tune_wrapper pid=28156)\u001b[0m \n",
      "\u001b[36m(_tune_wrapper pid=28156)\u001b[0m   | Name      | Type              | Params | Mode  | In sizes       | Out sizes     \n",
      "\u001b[36m(_tune_wrapper pid=28156)\u001b[0m ------------------------------------------------------------------------------------------\n",
      "\u001b[36m(_tune_wrapper pid=28156)\u001b[0m 0 | criterion | SmoothL1Loss      | 0      | train | ?              | ?             \n",
      "\u001b[36m(_tune_wrapper pid=28156)\u001b[0m 1 | mae       | MeanAbsoluteError | 0      | train | ?              | ?             \n",
      "\u001b[36m(_tune_wrapper pid=28156)\u001b[0m 2 | mse       | MeanSquaredError  | 0      | train | ?              | ?             \n",
      "\u001b[36m(_tune_wrapper pid=28156)\u001b[0m 3 | rmse      | MeanSquaredError  | 0      | train | ?              | ?             \n",
      "\u001b[36m(_tune_wrapper pid=28156)\u001b[0m 4 | backbone  | ConvStack         | 93.5 K | train | [1, 3, 64, 64] | [1, 128, 1, 1]\n",
      "\u001b[36m(_tune_wrapper pid=28156)\u001b[0m 5 | regressor | Sequential        | 67.1 K | train | [1, 128, 1, 1] | [1, 2]        \n",
      "\u001b[36m(_tune_wrapper pid=28156)\u001b[0m ------------------------------------------------------------------------------------------\n",
      "\u001b[36m(_tune_wrapper pid=28156)\u001b[0m 160 K     Trainable params\n",
      "\u001b[36m(_tune_wrapper pid=28156)\u001b[0m 0         Non-trainable params\n",
      "\u001b[36m(_tune_wrapper pid=28156)\u001b[0m 160 K     Total params\n",
      "\u001b[36m(_tune_wrapper pid=28156)\u001b[0m 0.642     Total estimated model params size (MB)\n",
      "\u001b[36m(_tune_wrapper pid=28156)\u001b[0m 26        Modules in train mode\n",
      "\u001b[36m(_tune_wrapper pid=28156)\u001b[0m 0         Modules in eval mode\n",
      "2025-05-15 15:19:43,929\tINFO tensorboardx.py:308 -- Removed the following hyperparameter values when logging to tensorboard: {'channels': (32, 64, 128)}\n",
      "\u001b[36m(_tune_wrapper pid=28156)\u001b[0m Checkpoint successfully created at: Checkpoint(filesystem=local, path=c:/Users/Youssef/Desktop/TFG/eye-tracker-vocacions/src/logs/face_aligned/tune_20250515-141328/07906_00010/checkpoint_000000)\n",
      "\u001b[36m(_tune_wrapper pid=23744)\u001b[0m Seed set to 716\n",
      "\u001b[36m(_tune_wrapper pid=23744)\u001b[0m Using bfloat16 Automatic Mixed Precision (AMP)\n",
      "\u001b[36m(_tune_wrapper pid=23744)\u001b[0m GPU available: True (cuda), used: True\n",
      "\u001b[36m(_tune_wrapper pid=23744)\u001b[0m TPU available: False, using: 0 TPU cores\n",
      "\u001b[36m(_tune_wrapper pid=23744)\u001b[0m HPU available: False, using: 0 HPUs\n",
      "\u001b[36m(_tune_wrapper pid=23744)\u001b[0m LOCAL_RANK: 0 - CUDA_VISIBLE_DEVICES: [0]\n",
      "\u001b[36m(_tune_wrapper pid=23744)\u001b[0m \n",
      "\u001b[36m(_tune_wrapper pid=23744)\u001b[0m   | Name      | Type              | Params | Mode  | In sizes       | Out sizes     \n",
      "\u001b[36m(_tune_wrapper pid=23744)\u001b[0m ------------------------------------------------------------------------------------------\n",
      "\u001b[36m(_tune_wrapper pid=23744)\u001b[0m 0 | criterion | SmoothL1Loss      | 0      | train | ?              | ?             \n",
      "\u001b[36m(_tune_wrapper pid=23744)\u001b[0m 1 | mae       | MeanAbsoluteError | 0      | train | ?              | ?             \n",
      "\u001b[36m(_tune_wrapper pid=23744)\u001b[0m 2 | mse       | MeanSquaredError  | 0      | train | ?              | ?             \n",
      "\u001b[36m(_tune_wrapper pid=23744)\u001b[0m 3 | rmse      | MeanSquaredError  | 0      | train | ?              | ?             \n",
      "\u001b[36m(_tune_wrapper pid=23744)\u001b[0m 4 | backbone  | ConvStack         | 209 K  | train | [1, 3, 64, 64] | [1, 192, 1, 1]\n",
      "\u001b[36m(_tune_wrapper pid=23744)\u001b[0m 5 | regressor | Sequential        | 25.0 K | train | [1, 192, 1, 1] | [1, 2]        \n",
      "\u001b[36m(_tune_wrapper pid=23744)\u001b[0m ------------------------------------------------------------------------------------------\n",
      "\u001b[36m(_tune_wrapper pid=23744)\u001b[0m 234 K     Trainable params\n",
      "\u001b[36m(_tune_wrapper pid=23744)\u001b[0m 0         Non-trainable params\n",
      "\u001b[36m(_tune_wrapper pid=23744)\u001b[0m 234 K     Total params\n",
      "\u001b[36m(_tune_wrapper pid=23744)\u001b[0m 0.937     Total estimated model params size (MB)\n",
      "\u001b[36m(_tune_wrapper pid=23744)\u001b[0m 26        Modules in train mode\n",
      "\u001b[36m(_tune_wrapper pid=23744)\u001b[0m 0         Modules in eval mode\n",
      "\u001b[36m(_tune_wrapper pid=23744)\u001b[0m Checkpoint successfully created at: Checkpoint(filesystem=local, path=c:/Users/Youssef/Desktop/TFG/eye-tracker-vocacions/src/logs/face_aligned/tune_20250515-141328/07906_00011/checkpoint_000000)\n",
      "2025-05-15 15:23:35,941\tINFO tensorboardx.py:308 -- Removed the following hyperparameter values when logging to tensorboard: {'channels': (48, 96, 192)}\n",
      "\u001b[36m(_tune_wrapper pid=23744)\u001b[0m Checkpoint successfully created at: Checkpoint(filesystem=local, path=c:/Users/Youssef/Desktop/TFG/eye-tracker-vocacions/src/logs/face_aligned/tune_20250515-141328/07906_00011/checkpoint_000001)\n",
      "\u001b[36m(_tune_wrapper pid=22728)\u001b[0m Seed set to 1669\n",
      "\u001b[36m(_tune_wrapper pid=22728)\u001b[0m Using bfloat16 Automatic Mixed Precision (AMP)\n",
      "\u001b[36m(_tune_wrapper pid=22728)\u001b[0m GPU available: True (cuda), used: True\n",
      "\u001b[36m(_tune_wrapper pid=22728)\u001b[0m TPU available: False, using: 0 TPU cores\n",
      "\u001b[36m(_tune_wrapper pid=22728)\u001b[0m HPU available: False, using: 0 HPUs\n",
      "\u001b[36m(_tune_wrapper pid=22728)\u001b[0m LOCAL_RANK: 0 - CUDA_VISIBLE_DEVICES: [0]\n",
      "\u001b[36m(_tune_wrapper pid=22728)\u001b[0m \n",
      "\u001b[36m(_tune_wrapper pid=22728)\u001b[0m   | Name      | Type              | Params | Mode  | In sizes       | Out sizes     \n",
      "\u001b[36m(_tune_wrapper pid=22728)\u001b[0m ------------------------------------------------------------------------------------------\n",
      "\u001b[36m(_tune_wrapper pid=22728)\u001b[0m 0 | criterion | SmoothL1Loss      | 0      | train | ?              | ?             \n",
      "\u001b[36m(_tune_wrapper pid=22728)\u001b[0m 1 | mae       | MeanAbsoluteError | 0      | train | ?              | ?             \n",
      "\u001b[36m(_tune_wrapper pid=22728)\u001b[0m 2 | mse       | MeanSquaredError  | 0      | train | ?              | ?             \n",
      "\u001b[36m(_tune_wrapper pid=22728)\u001b[0m 3 | rmse      | MeanSquaredError  | 0      | train | ?              | ?             \n",
      "\u001b[36m(_tune_wrapper pid=22728)\u001b[0m 4 | backbone  | ConvStack         | 93.5 K | train | [1, 3, 64, 64] | [1, 128, 1, 1]\n",
      "\u001b[36m(_tune_wrapper pid=22728)\u001b[0m 5 | regressor | Sequential        | 33.5 K | train | [1, 128, 1, 1] | [1, 2]        \n",
      "\u001b[36m(_tune_wrapper pid=22728)\u001b[0m ------------------------------------------------------------------------------------------\n",
      "\u001b[36m(_tune_wrapper pid=22728)\u001b[0m 127 K     Trainable params\n",
      "\u001b[36m(_tune_wrapper pid=22728)\u001b[0m 0         Non-trainable params\n",
      "\u001b[36m(_tune_wrapper pid=22728)\u001b[0m 127 K     Total params\n",
      "\u001b[36m(_tune_wrapper pid=22728)\u001b[0m 0.508     Total estimated model params size (MB)\n",
      "\u001b[36m(_tune_wrapper pid=22728)\u001b[0m 26        Modules in train mode\n",
      "\u001b[36m(_tune_wrapper pid=22728)\u001b[0m 0         Modules in eval mode\n",
      "2025-05-15 15:26:23,499\tINFO tensorboardx.py:308 -- Removed the following hyperparameter values when logging to tensorboard: {'channels': (32, 64, 128)}\n",
      "\u001b[36m(_tune_wrapper pid=22728)\u001b[0m Checkpoint successfully created at: Checkpoint(filesystem=local, path=c:/Users/Youssef/Desktop/TFG/eye-tracker-vocacions/src/logs/face_aligned/tune_20250515-141328/07906_00012/checkpoint_000000)\n",
      "\u001b[36m(_tune_wrapper pid=20324)\u001b[0m Seed set to 2198\n",
      "\u001b[36m(_tune_wrapper pid=20324)\u001b[0m Using bfloat16 Automatic Mixed Precision (AMP)\n",
      "\u001b[36m(_tune_wrapper pid=20324)\u001b[0m GPU available: True (cuda), used: True\n",
      "\u001b[36m(_tune_wrapper pid=20324)\u001b[0m TPU available: False, using: 0 TPU cores\n",
      "\u001b[36m(_tune_wrapper pid=20324)\u001b[0m HPU available: False, using: 0 HPUs\n",
      "\u001b[36m(_tune_wrapper pid=20324)\u001b[0m LOCAL_RANK: 0 - CUDA_VISIBLE_DEVICES: [0]\n",
      "\u001b[36m(_tune_wrapper pid=20324)\u001b[0m \n",
      "\u001b[36m(_tune_wrapper pid=20324)\u001b[0m   | Name      | Type              | Params | Mode  | In sizes       | Out sizes     \n",
      "\u001b[36m(_tune_wrapper pid=20324)\u001b[0m ------------------------------------------------------------------------------------------\n",
      "\u001b[36m(_tune_wrapper pid=20324)\u001b[0m 0 | criterion | SmoothL1Loss      | 0      | train | ?              | ?             \n",
      "\u001b[36m(_tune_wrapper pid=20324)\u001b[0m 1 | mae       | MeanAbsoluteError | 0      | train | ?              | ?             \n",
      "\u001b[36m(_tune_wrapper pid=20324)\u001b[0m 2 | mse       | MeanSquaredError  | 0      | train | ?              | ?             \n",
      "\u001b[36m(_tune_wrapper pid=20324)\u001b[0m 3 | rmse      | MeanSquaredError  | 0      | train | ?              | ?             \n",
      "\u001b[36m(_tune_wrapper pid=20324)\u001b[0m 4 | backbone  | ConvStack         | 209 K  | train | [1, 3, 64, 64] | [1, 192, 1, 1]\n",
      "\u001b[36m(_tune_wrapper pid=20324)\u001b[0m 5 | regressor | Sequential        | 49.9 K | train | [1, 192, 1, 1] | [1, 2]        \n",
      "\u001b[36m(_tune_wrapper pid=20324)\u001b[0m ------------------------------------------------------------------------------------------\n",
      "\u001b[36m(_tune_wrapper pid=20324)\u001b[0m 259 K     Trainable params\n",
      "\u001b[36m(_tune_wrapper pid=20324)\u001b[0m 0         Non-trainable params\n",
      "\u001b[36m(_tune_wrapper pid=20324)\u001b[0m 259 K     Total params\n",
      "\u001b[36m(_tune_wrapper pid=20324)\u001b[0m 1.037     Total estimated model params size (MB)\n",
      "\u001b[36m(_tune_wrapper pid=20324)\u001b[0m 26        Modules in train mode\n",
      "\u001b[36m(_tune_wrapper pid=20324)\u001b[0m 0         Modules in eval mode\n",
      "\u001b[36m(_tune_wrapper pid=20324)\u001b[0m Checkpoint successfully created at: Checkpoint(filesystem=local, path=c:/Users/Youssef/Desktop/TFG/eye-tracker-vocacions/src/logs/face_aligned/tune_20250515-141328/07906_00013/checkpoint_000000)\n",
      "2025-05-15 15:29:19,598\tINFO tensorboardx.py:308 -- Removed the following hyperparameter values when logging to tensorboard: {'channels': (48, 96, 192)}\n",
      "\u001b[36m(_tune_wrapper pid=30520)\u001b[0m Seed set to 6172\n",
      "\u001b[36m(_tune_wrapper pid=30520)\u001b[0m Using bfloat16 Automatic Mixed Precision (AMP)\n",
      "\u001b[36m(_tune_wrapper pid=30520)\u001b[0m GPU available: True (cuda), used: True\n",
      "\u001b[36m(_tune_wrapper pid=30520)\u001b[0m TPU available: False, using: 0 TPU cores\n",
      "\u001b[36m(_tune_wrapper pid=30520)\u001b[0m HPU available: False, using: 0 HPUs\n",
      "\u001b[36m(_tune_wrapper pid=30520)\u001b[0m LOCAL_RANK: 0 - CUDA_VISIBLE_DEVICES: [0]\n",
      "\u001b[36m(_tune_wrapper pid=30520)\u001b[0m \n",
      "\u001b[36m(_tune_wrapper pid=30520)\u001b[0m   | Name      | Type              | Params | Mode  | In sizes       | Out sizes     \n",
      "\u001b[36m(_tune_wrapper pid=30520)\u001b[0m ------------------------------------------------------------------------------------------\n",
      "\u001b[36m(_tune_wrapper pid=30520)\u001b[0m 0 | criterion | SmoothL1Loss      | 0      | train | ?              | ?             \n",
      "\u001b[36m(_tune_wrapper pid=30520)\u001b[0m 1 | mae       | MeanAbsoluteError | 0      | train | ?              | ?             \n",
      "\u001b[36m(_tune_wrapper pid=30520)\u001b[0m 2 | mse       | MeanSquaredError  | 0      | train | ?              | ?             \n",
      "\u001b[36m(_tune_wrapper pid=30520)\u001b[0m 3 | rmse      | MeanSquaredError  | 0      | train | ?              | ?             \n",
      "\u001b[36m(_tune_wrapper pid=30520)\u001b[0m 4 | backbone  | ConvStack         | 209 K  | train | [1, 3, 64, 64] | [1, 192, 1, 1]\n",
      "\u001b[36m(_tune_wrapper pid=30520)\u001b[0m 5 | regressor | Sequential        | 25.0 K | train | [1, 192, 1, 1] | [1, 2]        \n",
      "\u001b[36m(_tune_wrapper pid=30520)\u001b[0m ------------------------------------------------------------------------------------------\n",
      "\u001b[36m(_tune_wrapper pid=30520)\u001b[0m 234 K     Trainable params\n",
      "\u001b[36m(_tune_wrapper pid=30520)\u001b[0m 0         Non-trainable params\n",
      "\u001b[36m(_tune_wrapper pid=30520)\u001b[0m 234 K     Total params\n",
      "\u001b[36m(_tune_wrapper pid=30520)\u001b[0m 0.937     Total estimated model params size (MB)\n",
      "\u001b[36m(_tune_wrapper pid=30520)\u001b[0m 26        Modules in train mode\n",
      "\u001b[36m(_tune_wrapper pid=30520)\u001b[0m 0         Modules in eval mode\n",
      "\u001b[36m(_tune_wrapper pid=30520)\u001b[0m Checkpoint successfully created at: Checkpoint(filesystem=local, path=c:/Users/Youssef/Desktop/TFG/eye-tracker-vocacions/src/logs/face_aligned/tune_20250515-141328/07906_00014/checkpoint_000000)\n",
      "\u001b[36m(_tune_wrapper pid=30520)\u001b[0m Checkpoint successfully created at: Checkpoint(filesystem=local, path=c:/Users/Youssef/Desktop/TFG/eye-tracker-vocacions/src/logs/face_aligned/tune_20250515-141328/07906_00014/checkpoint_000001)\n",
      "\u001b[36m(_tune_wrapper pid=30520)\u001b[0m Checkpoint successfully created at: Checkpoint(filesystem=local, path=c:/Users/Youssef/Desktop/TFG/eye-tracker-vocacions/src/logs/face_aligned/tune_20250515-141328/07906_00014/checkpoint_000002)\n",
      "\u001b[36m(_tune_wrapper pid=30520)\u001b[0m Checkpoint successfully created at: Checkpoint(filesystem=local, path=c:/Users/Youssef/Desktop/TFG/eye-tracker-vocacions/src/logs/face_aligned/tune_20250515-141328/07906_00014/checkpoint_000003)\n",
      "\u001b[36m(_tune_wrapper pid=30520)\u001b[0m Checkpoint successfully created at: Checkpoint(filesystem=local, path=c:/Users/Youssef/Desktop/TFG/eye-tracker-vocacions/src/logs/face_aligned/tune_20250515-141328/07906_00014/checkpoint_000004)\n",
      "\u001b[36m(_tune_wrapper pid=30520)\u001b[0m Checkpoint successfully created at: Checkpoint(filesystem=local, path=c:/Users/Youssef/Desktop/TFG/eye-tracker-vocacions/src/logs/face_aligned/tune_20250515-141328/07906_00014/checkpoint_000005)\n",
      "\u001b[36m(_tune_wrapper pid=30520)\u001b[0m Checkpoint successfully created at: Checkpoint(filesystem=local, path=c:/Users/Youssef/Desktop/TFG/eye-tracker-vocacions/src/logs/face_aligned/tune_20250515-141328/07906_00014/checkpoint_000006)\n",
      "\u001b[36m(_tune_wrapper pid=30520)\u001b[0m Checkpoint successfully created at: Checkpoint(filesystem=local, path=c:/Users/Youssef/Desktop/TFG/eye-tracker-vocacions/src/logs/face_aligned/tune_20250515-141328/07906_00014/checkpoint_000007)\n",
      "\u001b[36m(_tune_wrapper pid=30520)\u001b[0m Checkpoint successfully created at: Checkpoint(filesystem=local, path=c:/Users/Youssef/Desktop/TFG/eye-tracker-vocacions/src/logs/face_aligned/tune_20250515-141328/07906_00014/checkpoint_000008)\n",
      "\u001b[36m(_tune_wrapper pid=30520)\u001b[0m Checkpoint successfully created at: Checkpoint(filesystem=local, path=c:/Users/Youssef/Desktop/TFG/eye-tracker-vocacions/src/logs/face_aligned/tune_20250515-141328/07906_00014/checkpoint_000009)\n",
      "\u001b[36m(_tune_wrapper pid=30520)\u001b[0m Checkpoint successfully created at: Checkpoint(filesystem=local, path=c:/Users/Youssef/Desktop/TFG/eye-tracker-vocacions/src/logs/face_aligned/tune_20250515-141328/07906_00014/checkpoint_000010)\n",
      "\u001b[36m(_tune_wrapper pid=30520)\u001b[0m Checkpoint successfully created at: Checkpoint(filesystem=local, path=c:/Users/Youssef/Desktop/TFG/eye-tracker-vocacions/src/logs/face_aligned/tune_20250515-141328/07906_00014/checkpoint_000011)\n",
      "\u001b[36m(_tune_wrapper pid=30520)\u001b[0m Checkpoint successfully created at: Checkpoint(filesystem=local, path=c:/Users/Youssef/Desktop/TFG/eye-tracker-vocacions/src/logs/face_aligned/tune_20250515-141328/07906_00014/checkpoint_000012)\n",
      "\u001b[36m(_tune_wrapper pid=30520)\u001b[0m Checkpoint successfully created at: Checkpoint(filesystem=local, path=c:/Users/Youssef/Desktop/TFG/eye-tracker-vocacions/src/logs/face_aligned/tune_20250515-141328/07906_00014/checkpoint_000013)\n",
      "2025-05-15 15:45:33,603\tINFO tensorboardx.py:308 -- Removed the following hyperparameter values when logging to tensorboard: {'channels': (48, 96, 192)}\n",
      "\u001b[36m(_tune_wrapper pid=30520)\u001b[0m Checkpoint successfully created at: Checkpoint(filesystem=local, path=c:/Users/Youssef/Desktop/TFG/eye-tracker-vocacions/src/logs/face_aligned/tune_20250515-141328/07906_00014/checkpoint_000014)\n",
      "\u001b[36m(_tune_wrapper pid=29568)\u001b[0m Seed set to 7488\n",
      "\u001b[36m(_tune_wrapper pid=29568)\u001b[0m Using bfloat16 Automatic Mixed Precision (AMP)\n",
      "\u001b[36m(_tune_wrapper pid=29568)\u001b[0m GPU available: True (cuda), used: True\n",
      "\u001b[36m(_tune_wrapper pid=29568)\u001b[0m TPU available: False, using: 0 TPU cores\n",
      "\u001b[36m(_tune_wrapper pid=29568)\u001b[0m HPU available: False, using: 0 HPUs\n",
      "\u001b[36m(_tune_wrapper pid=29568)\u001b[0m LOCAL_RANK: 0 - CUDA_VISIBLE_DEVICES: [0]\n",
      "\u001b[36m(_tune_wrapper pid=29568)\u001b[0m \n",
      "\u001b[36m(_tune_wrapper pid=29568)\u001b[0m   | Name      | Type              | Params | Mode  | In sizes       | Out sizes     \n",
      "\u001b[36m(_tune_wrapper pid=29568)\u001b[0m ------------------------------------------------------------------------------------------\n",
      "\u001b[36m(_tune_wrapper pid=29568)\u001b[0m 0 | criterion | SmoothL1Loss      | 0      | train | ?              | ?             \n",
      "\u001b[36m(_tune_wrapper pid=29568)\u001b[0m 1 | mae       | MeanAbsoluteError | 0      | train | ?              | ?             \n",
      "\u001b[36m(_tune_wrapper pid=29568)\u001b[0m 2 | mse       | MeanSquaredError  | 0      | train | ?              | ?             \n",
      "\u001b[36m(_tune_wrapper pid=29568)\u001b[0m 3 | rmse      | MeanSquaredError  | 0      | train | ?              | ?             \n",
      "\u001b[36m(_tune_wrapper pid=29568)\u001b[0m 4 | backbone  | ConvStack         | 209 K  | train | [1, 3, 64, 64] | [1, 192, 1, 1]\n",
      "\u001b[36m(_tune_wrapper pid=29568)\u001b[0m 5 | regressor | Sequential        | 49.9 K | train | [1, 192, 1, 1] | [1, 2]        \n",
      "\u001b[36m(_tune_wrapper pid=29568)\u001b[0m ------------------------------------------------------------------------------------------\n",
      "\u001b[36m(_tune_wrapper pid=29568)\u001b[0m 259 K     Trainable params\n",
      "\u001b[36m(_tune_wrapper pid=29568)\u001b[0m 0         Non-trainable params\n",
      "\u001b[36m(_tune_wrapper pid=29568)\u001b[0m 259 K     Total params\n",
      "\u001b[36m(_tune_wrapper pid=29568)\u001b[0m 1.037     Total estimated model params size (MB)\n",
      "\u001b[36m(_tune_wrapper pid=29568)\u001b[0m 26        Modules in train mode\n",
      "\u001b[36m(_tune_wrapper pid=29568)\u001b[0m 0         Modules in eval mode\n",
      "\u001b[36m(_tune_wrapper pid=29568)\u001b[0m Checkpoint successfully created at: Checkpoint(filesystem=local, path=c:/Users/Youssef/Desktop/TFG/eye-tracker-vocacions/src/logs/face_aligned/tune_20250515-141328/07906_00015/checkpoint_000000)\n",
      "\u001b[36m(_tune_wrapper pid=29568)\u001b[0m Checkpoint successfully created at: Checkpoint(filesystem=local, path=c:/Users/Youssef/Desktop/TFG/eye-tracker-vocacions/src/logs/face_aligned/tune_20250515-141328/07906_00015/checkpoint_000001)\n",
      "\u001b[36m(_tune_wrapper pid=29568)\u001b[0m Checkpoint successfully created at: Checkpoint(filesystem=local, path=c:/Users/Youssef/Desktop/TFG/eye-tracker-vocacions/src/logs/face_aligned/tune_20250515-141328/07906_00015/checkpoint_000002)\n",
      "\u001b[36m(_tune_wrapper pid=29568)\u001b[0m Checkpoint successfully created at: Checkpoint(filesystem=local, path=c:/Users/Youssef/Desktop/TFG/eye-tracker-vocacions/src/logs/face_aligned/tune_20250515-141328/07906_00015/checkpoint_000003)\n",
      "\u001b[36m(_tune_wrapper pid=29568)\u001b[0m Checkpoint successfully created at: Checkpoint(filesystem=local, path=c:/Users/Youssef/Desktop/TFG/eye-tracker-vocacions/src/logs/face_aligned/tune_20250515-141328/07906_00015/checkpoint_000004)\n",
      "\u001b[36m(_tune_wrapper pid=29568)\u001b[0m Checkpoint successfully created at: Checkpoint(filesystem=local, path=c:/Users/Youssef/Desktop/TFG/eye-tracker-vocacions/src/logs/face_aligned/tune_20250515-141328/07906_00015/checkpoint_000005)\n",
      "\u001b[36m(_tune_wrapper pid=29568)\u001b[0m Checkpoint successfully created at: Checkpoint(filesystem=local, path=c:/Users/Youssef/Desktop/TFG/eye-tracker-vocacions/src/logs/face_aligned/tune_20250515-141328/07906_00015/checkpoint_000006)\n",
      "2025-05-15 15:55:37,288\tINFO tensorboardx.py:308 -- Removed the following hyperparameter values when logging to tensorboard: {'channels': (48, 96, 192)}\n",
      "\u001b[36m(_tune_wrapper pid=29568)\u001b[0m Checkpoint successfully created at: Checkpoint(filesystem=local, path=c:/Users/Youssef/Desktop/TFG/eye-tracker-vocacions/src/logs/face_aligned/tune_20250515-141328/07906_00015/checkpoint_000007)\n",
      "\u001b[36m(_tune_wrapper pid=29268)\u001b[0m Seed set to 6790\n",
      "\u001b[36m(_tune_wrapper pid=29268)\u001b[0m Using bfloat16 Automatic Mixed Precision (AMP)\n",
      "\u001b[36m(_tune_wrapper pid=29268)\u001b[0m GPU available: True (cuda), used: True\n",
      "\u001b[36m(_tune_wrapper pid=29268)\u001b[0m TPU available: False, using: 0 TPU cores\n",
      "\u001b[36m(_tune_wrapper pid=29268)\u001b[0m HPU available: False, using: 0 HPUs\n",
      "\u001b[36m(_tune_wrapper pid=29268)\u001b[0m LOCAL_RANK: 0 - CUDA_VISIBLE_DEVICES: [0]\n",
      "\u001b[36m(_tune_wrapper pid=29268)\u001b[0m \n",
      "\u001b[36m(_tune_wrapper pid=29268)\u001b[0m   | Name      | Type              | Params | Mode  | In sizes       | Out sizes     \n",
      "\u001b[36m(_tune_wrapper pid=29268)\u001b[0m ------------------------------------------------------------------------------------------\n",
      "\u001b[36m(_tune_wrapper pid=29268)\u001b[0m 0 | criterion | SmoothL1Loss      | 0      | train | ?              | ?             \n",
      "\u001b[36m(_tune_wrapper pid=29268)\u001b[0m 1 | mae       | MeanAbsoluteError | 0      | train | ?              | ?             \n",
      "\u001b[36m(_tune_wrapper pid=29268)\u001b[0m 2 | mse       | MeanSquaredError  | 0      | train | ?              | ?             \n",
      "\u001b[36m(_tune_wrapper pid=29268)\u001b[0m 3 | rmse      | MeanSquaredError  | 0      | train | ?              | ?             \n",
      "\u001b[36m(_tune_wrapper pid=29268)\u001b[0m 4 | backbone  | ConvStack         | 371 K  | train | [1, 3, 64, 64] | [1, 256, 1, 1]\n",
      "\u001b[36m(_tune_wrapper pid=29268)\u001b[0m 5 | regressor | Sequential        | 33.2 K | train | [1, 256, 1, 1] | [1, 2]        \n",
      "\u001b[36m(_tune_wrapper pid=29268)\u001b[0m ------------------------------------------------------------------------------------------\n",
      "\u001b[36m(_tune_wrapper pid=29268)\u001b[0m 404 K     Trainable params\n",
      "\u001b[36m(_tune_wrapper pid=29268)\u001b[0m 0         Non-trainable params\n",
      "\u001b[36m(_tune_wrapper pid=29268)\u001b[0m 404 K     Total params\n",
      "\u001b[36m(_tune_wrapper pid=29268)\u001b[0m 1.618     Total estimated model params size (MB)\n",
      "\u001b[36m(_tune_wrapper pid=29268)\u001b[0m 26        Modules in train mode\n",
      "\u001b[36m(_tune_wrapper pid=29268)\u001b[0m 0         Modules in eval mode\n",
      "\u001b[36m(_tune_wrapper pid=29268)\u001b[0m Checkpoint successfully created at: Checkpoint(filesystem=local, path=c:/Users/Youssef/Desktop/TFG/eye-tracker-vocacions/src/logs/face_aligned/tune_20250515-141328/07906_00016/checkpoint_000000)\n",
      "2025-05-15 16:00:35,425\tINFO tensorboardx.py:308 -- Removed the following hyperparameter values when logging to tensorboard: {'channels': (64, 128, 256)}\n",
      "\u001b[36m(_tune_wrapper pid=29268)\u001b[0m Checkpoint successfully created at: Checkpoint(filesystem=local, path=c:/Users/Youssef/Desktop/TFG/eye-tracker-vocacions/src/logs/face_aligned/tune_20250515-141328/07906_00016/checkpoint_000001)\n",
      "\u001b[36m(_tune_wrapper pid=27600)\u001b[0m Seed set to 7964\n",
      "\u001b[36m(_tune_wrapper pid=27600)\u001b[0m Using bfloat16 Automatic Mixed Precision (AMP)\n",
      "\u001b[36m(_tune_wrapper pid=27600)\u001b[0m GPU available: True (cuda), used: True\n",
      "\u001b[36m(_tune_wrapper pid=27600)\u001b[0m TPU available: False, using: 0 TPU cores\n",
      "\u001b[36m(_tune_wrapper pid=27600)\u001b[0m HPU available: False, using: 0 HPUs\n",
      "\u001b[36m(_tune_wrapper pid=27600)\u001b[0m LOCAL_RANK: 0 - CUDA_VISIBLE_DEVICES: [0]\n",
      "\u001b[36m(_tune_wrapper pid=27600)\u001b[0m \n",
      "\u001b[36m(_tune_wrapper pid=27600)\u001b[0m   | Name      | Type              | Params | Mode  | In sizes       | Out sizes     \n",
      "\u001b[36m(_tune_wrapper pid=27600)\u001b[0m ------------------------------------------------------------------------------------------\n",
      "\u001b[36m(_tune_wrapper pid=27600)\u001b[0m 0 | criterion | SmoothL1Loss      | 0      | train | ?              | ?             \n",
      "\u001b[36m(_tune_wrapper pid=27600)\u001b[0m 1 | mae       | MeanAbsoluteError | 0      | train | ?              | ?             \n",
      "\u001b[36m(_tune_wrapper pid=27600)\u001b[0m 2 | mse       | MeanSquaredError  | 0      | train | ?              | ?             \n",
      "\u001b[36m(_tune_wrapper pid=27600)\u001b[0m 3 | rmse      | MeanSquaredError  | 0      | train | ?              | ?             \n",
      "\u001b[36m(_tune_wrapper pid=27600)\u001b[0m 4 | backbone  | ConvStack         | 93.5 K | train | [1, 3, 64, 64] | [1, 128, 1, 1]\n",
      "\u001b[36m(_tune_wrapper pid=27600)\u001b[0m 5 | regressor | Sequential        | 33.5 K | train | [1, 128, 1, 1] | [1, 2]        \n",
      "\u001b[36m(_tune_wrapper pid=27600)\u001b[0m ------------------------------------------------------------------------------------------\n",
      "\u001b[36m(_tune_wrapper pid=27600)\u001b[0m 127 K     Trainable params\n",
      "\u001b[36m(_tune_wrapper pid=27600)\u001b[0m 0         Non-trainable params\n",
      "\u001b[36m(_tune_wrapper pid=27600)\u001b[0m 127 K     Total params\n",
      "\u001b[36m(_tune_wrapper pid=27600)\u001b[0m 0.508     Total estimated model params size (MB)\n",
      "\u001b[36m(_tune_wrapper pid=27600)\u001b[0m 26        Modules in train mode\n",
      "\u001b[36m(_tune_wrapper pid=27600)\u001b[0m 0         Modules in eval mode\n",
      "\u001b[36m(_tune_wrapper pid=27600)\u001b[0m Checkpoint successfully created at: Checkpoint(filesystem=local, path=c:/Users/Youssef/Desktop/TFG/eye-tracker-vocacions/src/logs/face_aligned/tune_20250515-141328/07906_00017/checkpoint_000000)\n",
      "2025-05-15 16:03:34,401\tINFO tensorboardx.py:308 -- Removed the following hyperparameter values when logging to tensorboard: {'channels': (32, 64, 128)}\n",
      "\u001b[36m(_tune_wrapper pid=5236)\u001b[0m Seed set to 3134\n",
      "\u001b[36m(_tune_wrapper pid=5236)\u001b[0m Using bfloat16 Automatic Mixed Precision (AMP)\n",
      "\u001b[36m(_tune_wrapper pid=5236)\u001b[0m GPU available: True (cuda), used: True\n",
      "\u001b[36m(_tune_wrapper pid=5236)\u001b[0m TPU available: False, using: 0 TPU cores\n",
      "\u001b[36m(_tune_wrapper pid=5236)\u001b[0m HPU available: False, using: 0 HPUs\n",
      "\u001b[36m(_tune_wrapper pid=5236)\u001b[0m LOCAL_RANK: 0 - CUDA_VISIBLE_DEVICES: [0]\n",
      "\u001b[36m(_tune_wrapper pid=5236)\u001b[0m \n",
      "\u001b[36m(_tune_wrapper pid=5236)\u001b[0m   | Name      | Type              | Params | Mode  | In sizes       | Out sizes     \n",
      "\u001b[36m(_tune_wrapper pid=5236)\u001b[0m ------------------------------------------------------------------------------------------\n",
      "\u001b[36m(_tune_wrapper pid=5236)\u001b[0m 0 | criterion | SmoothL1Loss      | 0      | train | ?              | ?             \n",
      "\u001b[36m(_tune_wrapper pid=5236)\u001b[0m 1 | mae       | MeanAbsoluteError | 0      | train | ?              | ?             \n",
      "\u001b[36m(_tune_wrapper pid=5236)\u001b[0m 2 | mse       | MeanSquaredError  | 0      | train | ?              | ?             \n",
      "\u001b[36m(_tune_wrapper pid=5236)\u001b[0m 3 | rmse      | MeanSquaredError  | 0      | train | ?              | ?             \n",
      "\u001b[36m(_tune_wrapper pid=5236)\u001b[0m 4 | backbone  | ConvStack         | 93.5 K | train | [1, 3, 64, 64] | [1, 128, 1, 1]\n",
      "\u001b[36m(_tune_wrapper pid=5236)\u001b[0m 5 | regressor | Sequential        | 33.5 K | train | [1, 128, 1, 1] | [1, 2]        \n",
      "\u001b[36m(_tune_wrapper pid=5236)\u001b[0m ------------------------------------------------------------------------------------------\n",
      "\u001b[36m(_tune_wrapper pid=5236)\u001b[0m 127 K     Trainable params\n",
      "\u001b[36m(_tune_wrapper pid=5236)\u001b[0m 0         Non-trainable params\n",
      "\u001b[36m(_tune_wrapper pid=5236)\u001b[0m 127 K     Total params\n",
      "\u001b[36m(_tune_wrapper pid=5236)\u001b[0m 0.508     Total estimated model params size (MB)\n",
      "\u001b[36m(_tune_wrapper pid=5236)\u001b[0m 26        Modules in train mode\n",
      "\u001b[36m(_tune_wrapper pid=5236)\u001b[0m 0         Modules in eval mode\n",
      "\u001b[36m(_tune_wrapper pid=5236)\u001b[0m Checkpoint successfully created at: Checkpoint(filesystem=local, path=c:/Users/Youssef/Desktop/TFG/eye-tracker-vocacions/src/logs/face_aligned/tune_20250515-141328/07906_00018/checkpoint_000000)\n",
      "\u001b[36m(_tune_wrapper pid=5236)\u001b[0m Checkpoint successfully created at: Checkpoint(filesystem=local, path=c:/Users/Youssef/Desktop/TFG/eye-tracker-vocacions/src/logs/face_aligned/tune_20250515-141328/07906_00018/checkpoint_000001)\n",
      "\u001b[36m(_tune_wrapper pid=5236)\u001b[0m Checkpoint successfully created at: Checkpoint(filesystem=local, path=c:/Users/Youssef/Desktop/TFG/eye-tracker-vocacions/src/logs/face_aligned/tune_20250515-141328/07906_00018/checkpoint_000002)\n",
      "2025-05-15 16:09:03,371\tINFO tensorboardx.py:308 -- Removed the following hyperparameter values when logging to tensorboard: {'channels': (32, 64, 128)}\n",
      "\u001b[36m(_tune_wrapper pid=5236)\u001b[0m Checkpoint successfully created at: Checkpoint(filesystem=local, path=c:/Users/Youssef/Desktop/TFG/eye-tracker-vocacions/src/logs/face_aligned/tune_20250515-141328/07906_00018/checkpoint_000003)\n",
      "\u001b[36m(_tune_wrapper pid=5284)\u001b[0m Seed set to 4059\n",
      "\u001b[36m(_tune_wrapper pid=5284)\u001b[0m Using bfloat16 Automatic Mixed Precision (AMP)\n",
      "\u001b[36m(_tune_wrapper pid=5284)\u001b[0m GPU available: True (cuda), used: True\n",
      "\u001b[36m(_tune_wrapper pid=5284)\u001b[0m TPU available: False, using: 0 TPU cores\n",
      "\u001b[36m(_tune_wrapper pid=5284)\u001b[0m HPU available: False, using: 0 HPUs\n",
      "\u001b[36m(_tune_wrapper pid=5284)\u001b[0m LOCAL_RANK: 0 - CUDA_VISIBLE_DEVICES: [0]\n",
      "\u001b[36m(_tune_wrapper pid=5284)\u001b[0m \n",
      "\u001b[36m(_tune_wrapper pid=5284)\u001b[0m   | Name      | Type              | Params | Mode  | In sizes       | Out sizes     \n",
      "\u001b[36m(_tune_wrapper pid=5284)\u001b[0m ------------------------------------------------------------------------------------------\n",
      "\u001b[36m(_tune_wrapper pid=5284)\u001b[0m 0 | criterion | SmoothL1Loss      | 0      | train | ?              | ?             \n",
      "\u001b[36m(_tune_wrapper pid=5284)\u001b[0m 1 | mae       | MeanAbsoluteError | 0      | train | ?              | ?             \n",
      "\u001b[36m(_tune_wrapper pid=5284)\u001b[0m 2 | mse       | MeanSquaredError  | 0      | train | ?              | ?             \n",
      "\u001b[36m(_tune_wrapper pid=5284)\u001b[0m 3 | rmse      | MeanSquaredError  | 0      | train | ?              | ?             \n",
      "\u001b[36m(_tune_wrapper pid=5284)\u001b[0m 4 | backbone  | ConvStack         | 371 K  | train | [1, 3, 64, 64] | [1, 256, 1, 1]\n",
      "\u001b[36m(_tune_wrapper pid=5284)\u001b[0m 5 | regressor | Sequential        | 132 K  | train | [1, 256, 1, 1] | [1, 2]        \n",
      "\u001b[36m(_tune_wrapper pid=5284)\u001b[0m ------------------------------------------------------------------------------------------\n",
      "\u001b[36m(_tune_wrapper pid=5284)\u001b[0m 503 K     Trainable params\n",
      "\u001b[36m(_tune_wrapper pid=5284)\u001b[0m 0         Non-trainable params\n",
      "\u001b[36m(_tune_wrapper pid=5284)\u001b[0m 503 K     Total params\n",
      "\u001b[36m(_tune_wrapper pid=5284)\u001b[0m 2.015     Total estimated model params size (MB)\n",
      "\u001b[36m(_tune_wrapper pid=5284)\u001b[0m 26        Modules in train mode\n",
      "\u001b[36m(_tune_wrapper pid=5284)\u001b[0m 0         Modules in eval mode\n",
      "\u001b[36m(_tune_wrapper pid=5284)\u001b[0m Checkpoint successfully created at: Checkpoint(filesystem=local, path=c:/Users/Youssef/Desktop/TFG/eye-tracker-vocacions/src/logs/face_aligned/tune_20250515-141328/07906_00019/checkpoint_000000)\n",
      "2025-05-15 16:13:48,968\tINFO tensorboardx.py:308 -- Removed the following hyperparameter values when logging to tensorboard: {'channels': (64, 128, 256)}\n",
      "2025-05-15 16:13:49,013\tINFO tune.py:1009 -- Wrote the latest version of all result files and experiment state to 'c:/Users/Youssef/Desktop/TFG/eye-tracker-vocacions/src/logs/face_aligned/tune_20250515-141328' in 0.0420s.\n",
      "2025-05-15 16:13:49,081\tINFO tune.py:1041 -- Total run time: 7212.01 seconds (7211.84 seconds for the tuning loop).\n",
      "\u001b[36m(_tune_wrapper pid=5284)\u001b[0m Checkpoint successfully created at: Checkpoint(filesystem=local, path=c:/Users/Youssef/Desktop/TFG/eye-tracker-vocacions/src/logs/face_aligned/tune_20250515-141328/07906_00019/checkpoint_000001)\n"
     ]
    },
    {
     "name": "stdout",
     "output_type": "stream",
     "text": [
      "Best hyperparameters:  {'seed': 4345, 'bs': 512, 'lr': 0.0019393593451826068, 'channels': (64, 128, 256), 'hidden': 512}\n"
     ]
    }
   ],
   "source": [
    "search_space = {\n",
    "    \"seed\":  tune.randint(0, 10000),\n",
    "    \"bs\":    tune.choice([256, 512, 1024]),\n",
    "    \"lr\":    tune.loguniform(1e-4, 3e-3),\n",
    "    \"channels\": tune.choice([(32, 64, 128), (48, 96, 192), (64, 128, 256)]),\n",
    "    \"hidden\":   tune.choice([128, 256, 512]),\n",
    "}\n",
    "\n",
    "analysis = tune_asha(\n",
    "    search_space   = search_space,\n",
    "    train_func     = \"single\",  # utils infers correct trainer wrapper\n",
    "    name           = \"face_aligned/tune\",\n",
    "    img_types      = [\"face_aligned\"],\n",
    "    num_samples    = 20,\n",
    "    num_epochs     = 15,\n",
    "    data_dir     = Path.cwd() / \"data\",\n",
    "    seed           = 87,\n",
    ")"
   ]
  },
  {
   "cell_type": "code",
   "execution_count": 4,
   "metadata": {},
   "outputs": [
    {
     "data": {
      "image/png": "[encoded data removed]",
      "text/plain": [
       "<Figure size 840x350 with 4 Axes>"
      ]
     },
     "metadata": {},
     "output_type": "display_data"
    },
    {
     "data": {
      "text/plain": [
       "WindowsPath('media/images/1_face_aligned_explore_scatter.png')"
      ]
     },
     "execution_count": 4,
     "metadata": {},
     "output_type": "execute_result"
    }
   ],
   "source": [
    "plot_asha_param_grid(analysis, save_path=\"media/images/1_face_aligned_explore_scatter.png\")"
   ]
  },
  {
   "cell_type": "code",
   "execution_count": 5,
   "metadata": {},
   "outputs": [
    {
     "data": {
      "image/png": "[encoded data removed]",
      "text/plain": [
       "<Figure size 1040x300 with 2 Axes>"
      ]
     },
     "metadata": {},
     "output_type": "display_data"
    },
    {
     "data": {
      "text/plain": [
       "WindowsPath('media/images/1_face_aligned_explore_parallel.png')"
      ]
     },
     "execution_count": 5,
     "metadata": {},
     "output_type": "execute_result"
    }
   ],
   "source": [
    "plot_parallel_param_loss(analysis, save_path=\"media/images/1_face_aligned_explore_parallel.png\")"
   ]
  },
  {
   "cell_type": "code",
   "execution_count": 6,
   "metadata": {},
   "outputs": [
    {
     "name": "stderr",
     "output_type": "stream",
     "text": [
      "Seed set to 4345\n",
      "Using bfloat16 Automatic Mixed Precision (AMP)\n",
      "GPU available: True (cuda), used: True\n",
      "TPU available: False, using: 0 TPU cores\n",
      "HPU available: False, using: 0 HPUs\n"
     ]
    },
    {
     "name": "stdout",
     "output_type": "stream",
     "text": [
      "\n",
      "--- Best of 'c:\\Users\\Youssef\\Desktop\\TFG\\eye-tracker-vocacions\\src\\logs\\face_aligned\\tune_20250515-141328' ---\n",
      "\n",
      "Directory: 07906_00003\n",
      "Loss: 190.84\n",
      "Pixel error: 13.81\n",
      "Hyperparameters...\n",
      "- seed: 4345\n",
      "- bs: 512\n",
      "- lr: 0.0019393593451826068\n",
      "- channels: [64, 128, 256]\n",
      "- hidden: 512\n"
     ]
    },
    {
     "name": "stderr",
     "output_type": "stream",
     "text": [
      "LOCAL_RANK: 0 - CUDA_VISIBLE_DEVICES: [0]\n",
      "\n",
      "  | Name      | Type              | Params | Mode  | In sizes       | Out sizes     \n",
      "------------------------------------------------------------------------------------------\n",
      "0 | criterion | SmoothL1Loss      | 0      | train | ?              | ?             \n",
      "1 | mae       | MeanAbsoluteError | 0      | train | ?              | ?             \n",
      "2 | mse       | MeanSquaredError  | 0      | train | ?              | ?             \n",
      "3 | rmse      | MeanSquaredError  | 0      | train | ?              | ?             \n",
      "4 | backbone  | ConvStack         | 371 K  | train | [1, 3, 64, 64] | [1, 256, 1, 1]\n",
      "5 | regressor | Sequential        | 132 K  | train | [1, 256, 1, 1] | [1, 2]        \n",
      "------------------------------------------------------------------------------------------\n",
      "503 K     Trainable params\n",
      "0         Non-trainable params\n",
      "503 K     Total params\n",
      "2.015     Total estimated model params size (MB)\n",
      "26        Modules in train mode\n",
      "0         Modules in eval mode\n"
     ]
    },
    {
     "data": {
      "application/vnd.jupyter.widget-view+json": {
       "model_id": "2b28b334c1fc4a61aa939bbf7b49fe6b",
       "version_major": 2,
       "version_minor": 0
      },
      "text/plain": [
       "Sanity Checking: |          | 0/? [00:00<?, ?it/s]"
      ]
     },
     "metadata": {},
     "output_type": "display_data"
    },
    {
     "name": "stderr",
     "output_type": "stream",
     "text": [
      "c:\\Users\\Youssef\\Desktop\\TFG\\eye-tracker-vocacions\\.venv\\Lib\\site-packages\\pytorch_lightning\\loops\\fit_loop.py:310: The number of training batches (32) is smaller than the logging interval Trainer(log_every_n_steps=50). Set a lower value for log_every_n_steps if you want to see logs for the training epoch.\n"
     ]
    },
    {
     "data": {
      "application/vnd.jupyter.widget-view+json": {
       "model_id": "7a80bf9edc714281a1e8382f794f2e40",
       "version_major": 2,
       "version_minor": 0
      },
      "text/plain": [
       "Training: |          | 0/? [00:00<?, ?it/s]"
      ]
     },
     "metadata": {},
     "output_type": "display_data"
    },
    {
     "data": {
      "application/vnd.jupyter.widget-view+json": {
       "model_id": "fbdf92a820b945e3a939d43d2f857218",
       "version_major": 2,
       "version_minor": 0
      },
      "text/plain": [
       "Validation: |          | 0/? [00:00<?, ?it/s]"
      ]
     },
     "metadata": {},
     "output_type": "display_data"
    },
    {
     "data": {
      "application/vnd.jupyter.widget-view+json": {
       "model_id": "dbbc545727f1475abb0fccbe055edb72",
       "version_major": 2,
       "version_minor": 0
      },
      "text/plain": [
       "Validation: |          | 0/? [00:00<?, ?it/s]"
      ]
     },
     "metadata": {},
     "output_type": "display_data"
    },
    {
     "data": {
      "application/vnd.jupyter.widget-view+json": {
       "model_id": "e91c2c2bdf2141a2b70ed69f683c402e",
       "version_major": 2,
       "version_minor": 0
      },
      "text/plain": [
       "Validation: |          | 0/? [00:00<?, ?it/s]"
      ]
     },
     "metadata": {},
     "output_type": "display_data"
    },
    {
     "data": {
      "application/vnd.jupyter.widget-view+json": {
       "model_id": "801d68e092c541dbae1b2e7cbfffbdb6",
       "version_major": 2,
       "version_minor": 0
      },
      "text/plain": [
       "Validation: |          | 0/? [00:00<?, ?it/s]"
      ]
     },
     "metadata": {},
     "output_type": "display_data"
    },
    {
     "data": {
      "application/vnd.jupyter.widget-view+json": {
       "model_id": "882ac8a804ae4bd2ae010762297140ed",
       "version_major": 2,
       "version_minor": 0
      },
      "text/plain": [
       "Validation: |          | 0/? [00:00<?, ?it/s]"
      ]
     },
     "metadata": {},
     "output_type": "display_data"
    },
    {
     "data": {
      "application/vnd.jupyter.widget-view+json": {
       "model_id": "68ccc0ca4bfa4056a68a7d82bf097507",
       "version_major": 2,
       "version_minor": 0
      },
      "text/plain": [
       "Validation: |          | 0/? [00:00<?, ?it/s]"
      ]
     },
     "metadata": {},
     "output_type": "display_data"
    },
    {
     "data": {
      "application/vnd.jupyter.widget-view+json": {
       "model_id": "15ea847cdfe94bbc871446141f5c57f3",
       "version_major": 2,
       "version_minor": 0
      },
      "text/plain": [
       "Validation: |          | 0/? [00:00<?, ?it/s]"
      ]
     },
     "metadata": {},
     "output_type": "display_data"
    },
    {
     "data": {
      "application/vnd.jupyter.widget-view+json": {
       "model_id": "df2317d405f2468eb4c852ef2a18ef80",
       "version_major": 2,
       "version_minor": 0
      },
      "text/plain": [
       "Validation: |          | 0/? [00:00<?, ?it/s]"
      ]
     },
     "metadata": {},
     "output_type": "display_data"
    },
    {
     "data": {
      "application/vnd.jupyter.widget-view+json": {
       "model_id": "93add42f8b3b4e268c168a9108721442",
       "version_major": 2,
       "version_minor": 0
      },
      "text/plain": [
       "Validation: |          | 0/? [00:00<?, ?it/s]"
      ]
     },
     "metadata": {},
     "output_type": "display_data"
    },
    {
     "data": {
      "application/vnd.jupyter.widget-view+json": {
       "model_id": "2e1e30d189824e3481c23fceb4dca524",
       "version_major": 2,
       "version_minor": 0
      },
      "text/plain": [
       "Validation: |          | 0/? [00:00<?, ?it/s]"
      ]
     },
     "metadata": {},
     "output_type": "display_data"
    },
    {
     "data": {
      "application/vnd.jupyter.widget-view+json": {
       "model_id": "325d32346a7a4b77b052ae860a8fdff1",
       "version_major": 2,
       "version_minor": 0
      },
      "text/plain": [
       "Validation: |          | 0/? [00:00<?, ?it/s]"
      ]
     },
     "metadata": {},
     "output_type": "display_data"
    },
    {
     "data": {
      "application/vnd.jupyter.widget-view+json": {
       "model_id": "37d2acc82b63409c861389cc865a2dbf",
       "version_major": 2,
       "version_minor": 0
      },
      "text/plain": [
       "Validation: |          | 0/? [00:00<?, ?it/s]"
      ]
     },
     "metadata": {},
     "output_type": "display_data"
    },
    {
     "data": {
      "application/vnd.jupyter.widget-view+json": {
       "model_id": "f7db63bd7dfd43449ace7a9a452af47a",
       "version_major": 2,
       "version_minor": 0
      },
      "text/plain": [
       "Validation: |          | 0/? [00:00<?, ?it/s]"
      ]
     },
     "metadata": {},
     "output_type": "display_data"
    },
    {
     "data": {
      "application/vnd.jupyter.widget-view+json": {
       "model_id": "bb697abfa9684050a2fd71408e823ea0",
       "version_major": 2,
       "version_minor": 0
      },
      "text/plain": [
       "Validation: |          | 0/? [00:00<?, ?it/s]"
      ]
     },
     "metadata": {},
     "output_type": "display_data"
    },
    {
     "data": {
      "application/vnd.jupyter.widget-view+json": {
       "model_id": "e16b9c6b36854c80b59a4945404ca582",
       "version_major": 2,
       "version_minor": 0
      },
      "text/plain": [
       "Validation: |          | 0/? [00:00<?, ?it/s]"
      ]
     },
     "metadata": {},
     "output_type": "display_data"
    },
    {
     "data": {
      "application/vnd.jupyter.widget-view+json": {
       "model_id": "b0d6017e973549899d3e669893d75c9e",
       "version_major": 2,
       "version_minor": 0
      },
      "text/plain": [
       "Validation: |          | 0/? [00:00<?, ?it/s]"
      ]
     },
     "metadata": {},
     "output_type": "display_data"
    },
    {
     "data": {
      "application/vnd.jupyter.widget-view+json": {
       "model_id": "8072d667ccc2487cb01655f2573b3098",
       "version_major": 2,
       "version_minor": 0
      },
      "text/plain": [
       "Validation: |          | 0/? [00:00<?, ?it/s]"
      ]
     },
     "metadata": {},
     "output_type": "display_data"
    },
    {
     "data": {
      "application/vnd.jupyter.widget-view+json": {
       "model_id": "8b1ae84c12314425948352cb9c4293c9",
       "version_major": 2,
       "version_minor": 0
      },
      "text/plain": [
       "Validation: |          | 0/? [00:00<?, ?it/s]"
      ]
     },
     "metadata": {},
     "output_type": "display_data"
    },
    {
     "data": {
      "application/vnd.jupyter.widget-view+json": {
       "model_id": "fe5812fb4753403b9999140b9d58a987",
       "version_major": 2,
       "version_minor": 0
      },
      "text/plain": [
       "Validation: |          | 0/? [00:00<?, ?it/s]"
      ]
     },
     "metadata": {},
     "output_type": "display_data"
    },
    {
     "data": {
      "application/vnd.jupyter.widget-view+json": {
       "model_id": "40787fbe8c1d4eb3b7d194dfac111785",
       "version_major": 2,
       "version_minor": 0
      },
      "text/plain": [
       "Validation: |          | 0/? [00:00<?, ?it/s]"
      ]
     },
     "metadata": {},
     "output_type": "display_data"
    },
    {
     "data": {
      "application/vnd.jupyter.widget-view+json": {
       "model_id": "3fa8e10442424785bf1f1f7884880923",
       "version_major": 2,
       "version_minor": 0
      },
      "text/plain": [
       "Validation: |          | 0/? [00:00<?, ?it/s]"
      ]
     },
     "metadata": {},
     "output_type": "display_data"
    },
    {
     "data": {
      "application/vnd.jupyter.widget-view+json": {
       "model_id": "90366c6da0ea43c38be8af4896c3c193",
       "version_major": 2,
       "version_minor": 0
      },
      "text/plain": [
       "Validation: |          | 0/? [00:00<?, ?it/s]"
      ]
     },
     "metadata": {},
     "output_type": "display_data"
    },
    {
     "data": {
      "application/vnd.jupyter.widget-view+json": {
       "model_id": "9c7e3cd7b6cc45f9945b863c74fcf8e5",
       "version_major": 2,
       "version_minor": 0
      },
      "text/plain": [
       "Validation: |          | 0/? [00:00<?, ?it/s]"
      ]
     },
     "metadata": {},
     "output_type": "display_data"
    },
    {
     "data": {
      "application/vnd.jupyter.widget-view+json": {
       "model_id": "1909880236bc472686a681ba68e66bef",
       "version_major": 2,
       "version_minor": 0
      },
      "text/plain": [
       "Validation: |          | 0/? [00:00<?, ?it/s]"
      ]
     },
     "metadata": {},
     "output_type": "display_data"
    },
    {
     "data": {
      "application/vnd.jupyter.widget-view+json": {
       "model_id": "a10933f29cc84741809aa5ca26be7081",
       "version_major": 2,
       "version_minor": 0
      },
      "text/plain": [
       "Validation: |          | 0/? [00:00<?, ?it/s]"
      ]
     },
     "metadata": {},
     "output_type": "display_data"
    },
    {
     "data": {
      "application/vnd.jupyter.widget-view+json": {
       "model_id": "86c5810f5f024d7992520c503d79ddc2",
       "version_major": 2,
       "version_minor": 0
      },
      "text/plain": [
       "Validation: |          | 0/? [00:00<?, ?it/s]"
      ]
     },
     "metadata": {},
     "output_type": "display_data"
    },
    {
     "data": {
      "application/vnd.jupyter.widget-view+json": {
       "model_id": "bf738c01b2354323ba5ed2af50afb66e",
       "version_major": 2,
       "version_minor": 0
      },
      "text/plain": [
       "Validation: |          | 0/? [00:00<?, ?it/s]"
      ]
     },
     "metadata": {},
     "output_type": "display_data"
    },
    {
     "data": {
      "application/vnd.jupyter.widget-view+json": {
       "model_id": "583e17a8f9ec40ad919fcb35db6688fb",
       "version_major": 2,
       "version_minor": 0
      },
      "text/plain": [
       "Validation: |          | 0/? [00:00<?, ?it/s]"
      ]
     },
     "metadata": {},
     "output_type": "display_data"
    },
    {
     "data": {
      "application/vnd.jupyter.widget-view+json": {
       "model_id": "6af713a162e444b38080695894a0740a",
       "version_major": 2,
       "version_minor": 0
      },
      "text/plain": [
       "Validation: |          | 0/? [00:00<?, ?it/s]"
      ]
     },
     "metadata": {},
     "output_type": "display_data"
    },
    {
     "data": {
      "application/vnd.jupyter.widget-view+json": {
       "model_id": "b6277f9b20c54f938ffe1292b493bb9b",
       "version_major": 2,
       "version_minor": 0
      },
      "text/plain": [
       "Validation: |          | 0/? [00:00<?, ?it/s]"
      ]
     },
     "metadata": {},
     "output_type": "display_data"
    },
    {
     "data": {
      "application/vnd.jupyter.widget-view+json": {
       "model_id": "b664f345a3be40bdaa9e1ce1ce3ba605",
       "version_major": 2,
       "version_minor": 0
      },
      "text/plain": [
       "Validation: |          | 0/? [00:00<?, ?it/s]"
      ]
     },
     "metadata": {},
     "output_type": "display_data"
    },
    {
     "data": {
      "application/vnd.jupyter.widget-view+json": {
       "model_id": "92b180dad60b47aab8d57ef11affb694",
       "version_major": 2,
       "version_minor": 0
      },
      "text/plain": [
       "Validation: |          | 0/? [00:00<?, ?it/s]"
      ]
     },
     "metadata": {},
     "output_type": "display_data"
    },
    {
     "data": {
      "application/vnd.jupyter.widget-view+json": {
       "model_id": "12d77a74d456482780989119417d77b7",
       "version_major": 2,
       "version_minor": 0
      },
      "text/plain": [
       "Validation: |          | 0/? [00:00<?, ?it/s]"
      ]
     },
     "metadata": {},
     "output_type": "display_data"
    },
    {
     "data": {
      "application/vnd.jupyter.widget-view+json": {
       "model_id": "a600c2e0c560404690a23cdd34a3b04f",
       "version_major": 2,
       "version_minor": 0
      },
      "text/plain": [
       "Validation: |          | 0/? [00:00<?, ?it/s]"
      ]
     },
     "metadata": {},
     "output_type": "display_data"
    },
    {
     "data": {
      "application/vnd.jupyter.widget-view+json": {
       "model_id": "705f85196a014ea8b720701921324c78",
       "version_major": 2,
       "version_minor": 0
      },
      "text/plain": [
       "Validation: |          | 0/? [00:00<?, ?it/s]"
      ]
     },
     "metadata": {},
     "output_type": "display_data"
    },
    {
     "data": {
      "application/vnd.jupyter.widget-view+json": {
       "model_id": "c13588c783114afc8311e22e0986d831",
       "version_major": 2,
       "version_minor": 0
      },
      "text/plain": [
       "Validation: |          | 0/? [00:00<?, ?it/s]"
      ]
     },
     "metadata": {},
     "output_type": "display_data"
    },
    {
     "data": {
      "application/vnd.jupyter.widget-view+json": {
       "model_id": "deb94f0e2d9f40389836be6a28580226",
       "version_major": 2,
       "version_minor": 0
      },
      "text/plain": [
       "Validation: |          | 0/? [00:00<?, ?it/s]"
      ]
     },
     "metadata": {},
     "output_type": "display_data"
    },
    {
     "data": {
      "application/vnd.jupyter.widget-view+json": {
       "model_id": "f01774c438e049f0a6472211048a259b",
       "version_major": 2,
       "version_minor": 0
      },
      "text/plain": [
       "Validation: |          | 0/? [00:00<?, ?it/s]"
      ]
     },
     "metadata": {},
     "output_type": "display_data"
    },
    {
     "data": {
      "application/vnd.jupyter.widget-view+json": {
       "model_id": "855dab0bfc9548e592a8358c80fe1be2",
       "version_major": 2,
       "version_minor": 0
      },
      "text/plain": [
       "Validation: |          | 0/? [00:00<?, ?it/s]"
      ]
     },
     "metadata": {},
     "output_type": "display_data"
    },
    {
     "data": {
      "application/vnd.jupyter.widget-view+json": {
       "model_id": "950c04bf24a54725abdea1126c725a77",
       "version_major": 2,
       "version_minor": 0
      },
      "text/plain": [
       "Validation: |          | 0/? [00:00<?, ?it/s]"
      ]
     },
     "metadata": {},
     "output_type": "display_data"
    },
    {
     "data": {
      "application/vnd.jupyter.widget-view+json": {
       "model_id": "83c094ac9c614ed897838c485164a4da",
       "version_major": 2,
       "version_minor": 0
      },
      "text/plain": [
       "Validation: |          | 0/? [00:00<?, ?it/s]"
      ]
     },
     "metadata": {},
     "output_type": "display_data"
    },
    {
     "data": {
      "application/vnd.jupyter.widget-view+json": {
       "model_id": "3faae8c6d5ff4ca5b76ddce5d78a7bd9",
       "version_major": 2,
       "version_minor": 0
      },
      "text/plain": [
       "Validation: |          | 0/? [00:00<?, ?it/s]"
      ]
     },
     "metadata": {},
     "output_type": "display_data"
    },
    {
     "data": {
      "application/vnd.jupyter.widget-view+json": {
       "model_id": "e2682a8d7596432184d787aff499bbe0",
       "version_major": 2,
       "version_minor": 0
      },
      "text/plain": [
       "Validation: |          | 0/? [00:00<?, ?it/s]"
      ]
     },
     "metadata": {},
     "output_type": "display_data"
    },
    {
     "data": {
      "application/vnd.jupyter.widget-view+json": {
       "model_id": "554c5cf56ddd462b86c38b177d6f51c0",
       "version_major": 2,
       "version_minor": 0
      },
      "text/plain": [
       "Validation: |          | 0/? [00:00<?, ?it/s]"
      ]
     },
     "metadata": {},
     "output_type": "display_data"
    },
    {
     "data": {
      "application/vnd.jupyter.widget-view+json": {
       "model_id": "aef8032c991f47ce9d09601e267bacac",
       "version_major": 2,
       "version_minor": 0
      },
      "text/plain": [
       "Validation: |          | 0/? [00:00<?, ?it/s]"
      ]
     },
     "metadata": {},
     "output_type": "display_data"
    },
    {
     "data": {
      "application/vnd.jupyter.widget-view+json": {
       "model_id": "4948c80fe79047b1ba3e16bd72476556",
       "version_major": 2,
       "version_minor": 0
      },
      "text/plain": [
       "Validation: |          | 0/? [00:00<?, ?it/s]"
      ]
     },
     "metadata": {},
     "output_type": "display_data"
    },
    {
     "data": {
      "application/vnd.jupyter.widget-view+json": {
       "model_id": "385e9289d5ca449dad272bba649e8d13",
       "version_major": 2,
       "version_minor": 0
      },
      "text/plain": [
       "Validation: |          | 0/? [00:00<?, ?it/s]"
      ]
     },
     "metadata": {},
     "output_type": "display_data"
    },
    {
     "data": {
      "application/vnd.jupyter.widget-view+json": {
       "model_id": "145c19b0f46349a3804a1749373f538a",
       "version_major": 2,
       "version_minor": 0
      },
      "text/plain": [
       "Validation: |          | 0/? [00:00<?, ?it/s]"
      ]
     },
     "metadata": {},
     "output_type": "display_data"
    },
    {
     "data": {
      "application/vnd.jupyter.widget-view+json": {
       "model_id": "add779e159064cac9f7241576ff65576",
       "version_major": 2,
       "version_minor": 0
      },
      "text/plain": [
       "Validation: |          | 0/? [00:00<?, ?it/s]"
      ]
     },
     "metadata": {},
     "output_type": "display_data"
    },
    {
     "data": {
      "application/vnd.jupyter.widget-view+json": {
       "model_id": "b8b600cc80ef46b3a28fa982588eed9b",
       "version_major": 2,
       "version_minor": 0
      },
      "text/plain": [
       "Validation: |          | 0/? [00:00<?, ?it/s]"
      ]
     },
     "metadata": {},
     "output_type": "display_data"
    },
    {
     "data": {
      "application/vnd.jupyter.widget-view+json": {
       "model_id": "b2b487bfcfa0449b86f741a406604531",
       "version_major": 2,
       "version_minor": 0
      },
      "text/plain": [
       "Validation: |          | 0/? [00:00<?, ?it/s]"
      ]
     },
     "metadata": {},
     "output_type": "display_data"
    },
    {
     "data": {
      "application/vnd.jupyter.widget-view+json": {
       "model_id": "859ccec35c8945d687102098988687a7",
       "version_major": 2,
       "version_minor": 0
      },
      "text/plain": [
       "Validation: |          | 0/? [00:00<?, ?it/s]"
      ]
     },
     "metadata": {},
     "output_type": "display_data"
    },
    {
     "data": {
      "application/vnd.jupyter.widget-view+json": {
       "model_id": "4ceab2f26f2e43e3999c3775e88b5f09",
       "version_major": 2,
       "version_minor": 0
      },
      "text/plain": [
       "Validation: |          | 0/? [00:00<?, ?it/s]"
      ]
     },
     "metadata": {},
     "output_type": "display_data"
    },
    {
     "data": {
      "application/vnd.jupyter.widget-view+json": {
       "model_id": "3296d2963b9843bb90d2a4d477c32cf2",
       "version_major": 2,
       "version_minor": 0
      },
      "text/plain": [
       "Validation: |          | 0/? [00:00<?, ?it/s]"
      ]
     },
     "metadata": {},
     "output_type": "display_data"
    },
    {
     "data": {
      "application/vnd.jupyter.widget-view+json": {
       "model_id": "3b4a18ae60c341de951acf67b0d4d1bb",
       "version_major": 2,
       "version_minor": 0
      },
      "text/plain": [
       "Validation: |          | 0/? [00:00<?, ?it/s]"
      ]
     },
     "metadata": {},
     "output_type": "display_data"
    },
    {
     "data": {
      "application/vnd.jupyter.widget-view+json": {
       "model_id": "0792dafa71ba48e28069de131e8aef7b",
       "version_major": 2,
       "version_minor": 0
      },
      "text/plain": [
       "Validation: |          | 0/? [00:00<?, ?it/s]"
      ]
     },
     "metadata": {},
     "output_type": "display_data"
    },
    {
     "data": {
      "application/vnd.jupyter.widget-view+json": {
       "model_id": "919ece17dbe947269dd1b0559f2777c7",
       "version_major": 2,
       "version_minor": 0
      },
      "text/plain": [
       "Validation: |          | 0/? [00:00<?, ?it/s]"
      ]
     },
     "metadata": {},
     "output_type": "display_data"
    },
    {
     "data": {
      "application/vnd.jupyter.widget-view+json": {
       "model_id": "a45ceb7c1f8746efaef059147e9cf720",
       "version_major": 2,
       "version_minor": 0
      },
      "text/plain": [
       "Validation: |          | 0/? [00:00<?, ?it/s]"
      ]
     },
     "metadata": {},
     "output_type": "display_data"
    },
    {
     "data": {
      "application/vnd.jupyter.widget-view+json": {
       "model_id": "b943874c06d6447f8e0ae836de0734da",
       "version_major": 2,
       "version_minor": 0
      },
      "text/plain": [
       "Validation: |          | 0/? [00:00<?, ?it/s]"
      ]
     },
     "metadata": {},
     "output_type": "display_data"
    },
    {
     "data": {
      "application/vnd.jupyter.widget-view+json": {
       "model_id": "a908731a4de94adf858b17e74271576e",
       "version_major": 2,
       "version_minor": 0
      },
      "text/plain": [
       "Validation: |          | 0/? [00:00<?, ?it/s]"
      ]
     },
     "metadata": {},
     "output_type": "display_data"
    },
    {
     "data": {
      "application/vnd.jupyter.widget-view+json": {
       "model_id": "5b284d9cde1f4cc98f4f52b3b5e6d4d7",
       "version_major": 2,
       "version_minor": 0
      },
      "text/plain": [
       "Validation: |          | 0/? [00:00<?, ?it/s]"
      ]
     },
     "metadata": {},
     "output_type": "display_data"
    },
    {
     "data": {
      "application/vnd.jupyter.widget-view+json": {
       "model_id": "c313b465511f42adbf4b29740ee6571c",
       "version_major": 2,
       "version_minor": 0
      },
      "text/plain": [
       "Validation: |          | 0/? [00:00<?, ?it/s]"
      ]
     },
     "metadata": {},
     "output_type": "display_data"
    },
    {
     "data": {
      "application/vnd.jupyter.widget-view+json": {
       "model_id": "9ccf82af5b064fd7831dbb72af791c76",
       "version_major": 2,
       "version_minor": 0
      },
      "text/plain": [
       "Validation: |          | 0/? [00:00<?, ?it/s]"
      ]
     },
     "metadata": {},
     "output_type": "display_data"
    },
    {
     "data": {
      "application/vnd.jupyter.widget-view+json": {
       "model_id": "00f6f12f3dd54c9988e78b4d12df9589",
       "version_major": 2,
       "version_minor": 0
      },
      "text/plain": [
       "Validation: |          | 0/? [00:00<?, ?it/s]"
      ]
     },
     "metadata": {},
     "output_type": "display_data"
    },
    {
     "data": {
      "application/vnd.jupyter.widget-view+json": {
       "model_id": "0af95f33d7fc4e829703b6ee28cc7cd7",
       "version_major": 2,
       "version_minor": 0
      },
      "text/plain": [
       "Validation: |          | 0/? [00:00<?, ?it/s]"
      ]
     },
     "metadata": {},
     "output_type": "display_data"
    },
    {
     "data": {
      "application/vnd.jupyter.widget-view+json": {
       "model_id": "761bd72d0a5149e3b07f9fe6b9732d99",
       "version_major": 2,
       "version_minor": 0
      },
      "text/plain": [
       "Validation: |          | 0/? [00:00<?, ?it/s]"
      ]
     },
     "metadata": {},
     "output_type": "display_data"
    },
    {
     "data": {
      "application/vnd.jupyter.widget-view+json": {
       "model_id": "0e86941a9c844e309533b030aca26d25",
       "version_major": 2,
       "version_minor": 0
      },
      "text/plain": [
       "Validation: |          | 0/? [00:00<?, ?it/s]"
      ]
     },
     "metadata": {},
     "output_type": "display_data"
    },
    {
     "data": {
      "application/vnd.jupyter.widget-view+json": {
       "model_id": "6aaf49f71aaa4cc293a68c41d1c045b3",
       "version_major": 2,
       "version_minor": 0
      },
      "text/plain": [
       "Validation: |          | 0/? [00:00<?, ?it/s]"
      ]
     },
     "metadata": {},
     "output_type": "display_data"
    },
    {
     "data": {
      "application/vnd.jupyter.widget-view+json": {
       "model_id": "3dc5a61e6c1b4bb9a30c081604769e88",
       "version_major": 2,
       "version_minor": 0
      },
      "text/plain": [
       "Validation: |          | 0/? [00:00<?, ?it/s]"
      ]
     },
     "metadata": {},
     "output_type": "display_data"
    },
    {
     "data": {
      "application/vnd.jupyter.widget-view+json": {
       "model_id": "e94a48059d514cfea4648ed2e0466660",
       "version_major": 2,
       "version_minor": 0
      },
      "text/plain": [
       "Validation: |          | 0/? [00:00<?, ?it/s]"
      ]
     },
     "metadata": {},
     "output_type": "display_data"
    },
    {
     "data": {
      "application/vnd.jupyter.widget-view+json": {
       "model_id": "cada7f3700994a1b8138656892ed5232",
       "version_major": 2,
       "version_minor": 0
      },
      "text/plain": [
       "Validation: |          | 0/? [00:00<?, ?it/s]"
      ]
     },
     "metadata": {},
     "output_type": "display_data"
    },
    {
     "data": {
      "application/vnd.jupyter.widget-view+json": {
       "model_id": "5bb31d784c384ef78d3ee3ce4e3d4b7c",
       "version_major": 2,
       "version_minor": 0
      },
      "text/plain": [
       "Validation: |          | 0/? [00:00<?, ?it/s]"
      ]
     },
     "metadata": {},
     "output_type": "display_data"
    },
    {
     "data": {
      "application/vnd.jupyter.widget-view+json": {
       "model_id": "7f7d9383f0c848c9b3aed5868c8bff24",
       "version_major": 2,
       "version_minor": 0
      },
      "text/plain": [
       "Validation: |          | 0/? [00:00<?, ?it/s]"
      ]
     },
     "metadata": {},
     "output_type": "display_data"
    },
    {
     "data": {
      "application/vnd.jupyter.widget-view+json": {
       "model_id": "16a29161c93a44e698ed888922f872fa",
       "version_major": 2,
       "version_minor": 0
      },
      "text/plain": [
       "Validation: |          | 0/? [00:00<?, ?it/s]"
      ]
     },
     "metadata": {},
     "output_type": "display_data"
    },
    {
     "data": {
      "application/vnd.jupyter.widget-view+json": {
       "model_id": "71c2bdb2af374fe79af369faedf5a471",
       "version_major": 2,
       "version_minor": 0
      },
      "text/plain": [
       "Validation: |          | 0/? [00:00<?, ?it/s]"
      ]
     },
     "metadata": {},
     "output_type": "display_data"
    },
    {
     "data": {
      "application/vnd.jupyter.widget-view+json": {
       "model_id": "2b3959303df9499eb17a20f25aeb683c",
       "version_major": 2,
       "version_minor": 0
      },
      "text/plain": [
       "Validation: |          | 0/? [00:00<?, ?it/s]"
      ]
     },
     "metadata": {},
     "output_type": "display_data"
    },
    {
     "data": {
      "application/vnd.jupyter.widget-view+json": {
       "model_id": "5158bbfdc70c4801bb11a1855a1beea4",
       "version_major": 2,
       "version_minor": 0
      },
      "text/plain": [
       "Validation: |          | 0/? [00:00<?, ?it/s]"
      ]
     },
     "metadata": {},
     "output_type": "display_data"
    },
    {
     "data": {
      "application/vnd.jupyter.widget-view+json": {
       "model_id": "b5b20ebe20b4419a9e90c136772f6196",
       "version_major": 2,
       "version_minor": 0
      },
      "text/plain": [
       "Validation: |          | 0/? [00:00<?, ?it/s]"
      ]
     },
     "metadata": {},
     "output_type": "display_data"
    },
    {
     "data": {
      "application/vnd.jupyter.widget-view+json": {
       "model_id": "7aa54748dfc743f88c138a137e23ea2e",
       "version_major": 2,
       "version_minor": 0
      },
      "text/plain": [
       "Validation: |          | 0/? [00:00<?, ?it/s]"
      ]
     },
     "metadata": {},
     "output_type": "display_data"
    },
    {
     "data": {
      "application/vnd.jupyter.widget-view+json": {
       "model_id": "b915606f93814d2aa63ad576ae17fb9b",
       "version_major": 2,
       "version_minor": 0
      },
      "text/plain": [
       "Validation: |          | 0/? [00:00<?, ?it/s]"
      ]
     },
     "metadata": {},
     "output_type": "display_data"
    },
    {
     "data": {
      "application/vnd.jupyter.widget-view+json": {
       "model_id": "e4cbeea12bdb4e72986fb856f3f07a59",
       "version_major": 2,
       "version_minor": 0
      },
      "text/plain": [
       "Validation: |          | 0/? [00:00<?, ?it/s]"
      ]
     },
     "metadata": {},
     "output_type": "display_data"
    },
    {
     "data": {
      "application/vnd.jupyter.widget-view+json": {
       "model_id": "440e497f77374ae9846e5598613a682b",
       "version_major": 2,
       "version_minor": 0
      },
      "text/plain": [
       "Validation: |          | 0/? [00:00<?, ?it/s]"
      ]
     },
     "metadata": {},
     "output_type": "display_data"
    },
    {
     "data": {
      "application/vnd.jupyter.widget-view+json": {
       "model_id": "c220d5fc231a414b890d42c47d1ccfd4",
       "version_major": 2,
       "version_minor": 0
      },
      "text/plain": [
       "Validation: |          | 0/? [00:00<?, ?it/s]"
      ]
     },
     "metadata": {},
     "output_type": "display_data"
    },
    {
     "data": {
      "application/vnd.jupyter.widget-view+json": {
       "model_id": "03a2a167de5c432eb774a43ac631cdf7",
       "version_major": 2,
       "version_minor": 0
      },
      "text/plain": [
       "Validation: |          | 0/? [00:00<?, ?it/s]"
      ]
     },
     "metadata": {},
     "output_type": "display_data"
    },
    {
     "data": {
      "application/vnd.jupyter.widget-view+json": {
       "model_id": "18686e7c14ae49558b0298c92fd40894",
       "version_major": 2,
       "version_minor": 0
      },
      "text/plain": [
       "Validation: |          | 0/? [00:00<?, ?it/s]"
      ]
     },
     "metadata": {},
     "output_type": "display_data"
    },
    {
     "data": {
      "application/vnd.jupyter.widget-view+json": {
       "model_id": "26ca589074b4417d8fa7ae93b7f23bdf",
       "version_major": 2,
       "version_minor": 0
      },
      "text/plain": [
       "Validation: |          | 0/? [00:00<?, ?it/s]"
      ]
     },
     "metadata": {},
     "output_type": "display_data"
    },
    {
     "data": {
      "application/vnd.jupyter.widget-view+json": {
       "model_id": "25e213dcdf9c487a91b6154018d1d80e",
       "version_major": 2,
       "version_minor": 0
      },
      "text/plain": [
       "Validation: |          | 0/? [00:00<?, ?it/s]"
      ]
     },
     "metadata": {},
     "output_type": "display_data"
    },
    {
     "data": {
      "application/vnd.jupyter.widget-view+json": {
       "model_id": "d9bb7b42756c4943bb263120f19aa702",
       "version_major": 2,
       "version_minor": 0
      },
      "text/plain": [
       "Validation: |          | 0/? [00:00<?, ?it/s]"
      ]
     },
     "metadata": {},
     "output_type": "display_data"
    },
    {
     "data": {
      "application/vnd.jupyter.widget-view+json": {
       "model_id": "b925a9a4a0404897850e8df4b893d5cc",
       "version_major": 2,
       "version_minor": 0
      },
      "text/plain": [
       "Validation: |          | 0/? [00:00<?, ?it/s]"
      ]
     },
     "metadata": {},
     "output_type": "display_data"
    },
    {
     "data": {
      "application/vnd.jupyter.widget-view+json": {
       "model_id": "ad0ea8687ccb4b26b24af4a15389db7f",
       "version_major": 2,
       "version_minor": 0
      },
      "text/plain": [
       "Validation: |          | 0/? [00:00<?, ?it/s]"
      ]
     },
     "metadata": {},
     "output_type": "display_data"
    },
    {
     "data": {
      "application/vnd.jupyter.widget-view+json": {
       "model_id": "42d13ccdfafc447789a6692bbf575415",
       "version_major": 2,
       "version_minor": 0
      },
      "text/plain": [
       "Validation: |          | 0/? [00:00<?, ?it/s]"
      ]
     },
     "metadata": {},
     "output_type": "display_data"
    },
    {
     "data": {
      "application/vnd.jupyter.widget-view+json": {
       "model_id": "5e30ee7d463744ea8fe30069a8121cb6",
       "version_major": 2,
       "version_minor": 0
      },
      "text/plain": [
       "Validation: |          | 0/? [00:00<?, ?it/s]"
      ]
     },
     "metadata": {},
     "output_type": "display_data"
    },
    {
     "data": {
      "application/vnd.jupyter.widget-view+json": {
       "model_id": "52209f084d9241bca7dd43a48319d4e0",
       "version_major": 2,
       "version_minor": 0
      },
      "text/plain": [
       "Validation: |          | 0/? [00:00<?, ?it/s]"
      ]
     },
     "metadata": {},
     "output_type": "display_data"
    },
    {
     "data": {
      "application/vnd.jupyter.widget-view+json": {
       "model_id": "24acfa655fef47548f4a6e906d98583f",
       "version_major": 2,
       "version_minor": 0
      },
      "text/plain": [
       "Validation: |          | 0/? [00:00<?, ?it/s]"
      ]
     },
     "metadata": {},
     "output_type": "display_data"
    },
    {
     "data": {
      "application/vnd.jupyter.widget-view+json": {
       "model_id": "b6ce21aa47464305964de55446b10f53",
       "version_major": 2,
       "version_minor": 0
      },
      "text/plain": [
       "Validation: |          | 0/? [00:00<?, ?it/s]"
      ]
     },
     "metadata": {},
     "output_type": "display_data"
    },
    {
     "data": {
      "application/vnd.jupyter.widget-view+json": {
       "model_id": "0467ac5738a2474d890de2a90714d858",
       "version_major": 2,
       "version_minor": 0
      },
      "text/plain": [
       "Validation: |          | 0/? [00:00<?, ?it/s]"
      ]
     },
     "metadata": {},
     "output_type": "display_data"
    },
    {
     "data": {
      "application/vnd.jupyter.widget-view+json": {
       "model_id": "7ec4b70ddaea4c069c45d242a17e27c5",
       "version_major": 2,
       "version_minor": 0
      },
      "text/plain": [
       "Validation: |          | 0/? [00:00<?, ?it/s]"
      ]
     },
     "metadata": {},
     "output_type": "display_data"
    },
    {
     "data": {
      "application/vnd.jupyter.widget-view+json": {
       "model_id": "d0c1ce5616fa4446ae483853b5bddb31",
       "version_major": 2,
       "version_minor": 0
      },
      "text/plain": [
       "Validation: |          | 0/? [00:00<?, ?it/s]"
      ]
     },
     "metadata": {},
     "output_type": "display_data"
    },
    {
     "data": {
      "application/vnd.jupyter.widget-view+json": {
       "model_id": "bc8c32456c35445bb198c9819fba2aff",
       "version_major": 2,
       "version_minor": 0
      },
      "text/plain": [
       "Validation: |          | 0/? [00:00<?, ?it/s]"
      ]
     },
     "metadata": {},
     "output_type": "display_data"
    },
    {
     "data": {
      "application/vnd.jupyter.widget-view+json": {
       "model_id": "c0bf159a68694aa2ae6e42ebef9c9246",
       "version_major": 2,
       "version_minor": 0
      },
      "text/plain": [
       "Validation: |          | 0/? [00:00<?, ?it/s]"
      ]
     },
     "metadata": {},
     "output_type": "display_data"
    },
    {
     "name": "stderr",
     "output_type": "stream",
     "text": [
      "`Trainer.fit` stopped: `max_epochs=100` reached.\n"
     ]
    }
   ],
   "source": [
    "start_time = datetime.datetime.now().strftime(\"%Y-%b-%d %H-%M-%S\")\n",
    "\n",
    "tune_dir = Path.cwd() / \"logs\" / \"face_aligned\"\n",
    "best_cfg = get_best_results(latest_tune_dir(tune_dir))\n",
    "pl.seed_everything(best_cfg[\"seed\"])\n",
    "\n",
    "dm = GazeDataModule(\n",
    "    data_dir = Path.cwd() / \"data\",\n",
    "    batch_size = best_cfg[\"bs\"],\n",
    "    img_types = [\"face_aligned\"],\n",
    "    seed = best_cfg[\"seed\"],\n",
    ")\n",
    "\n",
    "model = _build_model(best_cfg, [\"face_aligned\"])\n",
    "\n",
    "trainer = pl.Trainer(\n",
    "    max_epochs = 100,\n",
    "    accelerator = \"auto\",\n",
    "    devices = \"auto\",\n",
    "    precision = \"bf16-mixed\",           # or \"16-mixed\" if your GPU supports it\n",
    "    logger = TensorBoardLogger(\n",
    "        save_dir = Path.cwd() / \"logs\",\n",
    "        name     = f\"face_aligned/final/{start_time}\",\n",
    "        log_graph = True,\n",
    "    ),\n",
    "    callbacks = [\n",
    "        pl.callbacks.ModelCheckpoint(\n",
    "            filename = \"best\",\n",
    "            monitor  = \"val_loss\",\n",
    "            mode     = \"min\",\n",
    "            save_last = True,\n",
    "            save_top_k = 1,\n",
    "        )\n",
    "    ],\n",
    ")\n",
    "\n",
    "trainer.fit(model, datamodule=dm)\n",
    "best_path = trainer.checkpoint_callback.best_model_path\n",
    "state = torch.load(best_path, map_location=\"cpu\", weights_only=False)  # ←\n",
    "model.load_state_dict(state[\"state_dict\"])\n",
    "\n",
    "# save weights + config next to lightning checkpoint\n",
    "out_dir = Path.cwd() / \"logs\" / \"face_aligned\" / \"final\" / start_time\n",
    "out_dir.mkdir(parents=True, exist_ok=True)\n",
    "\n",
    "save_model(\n",
    "    model.cpu(),                   # save on CPU to shrink file size\n",
    "    best_cfg,\n",
    "    out_dir / \"eyetracking_model.pt\",\n",
    "    out_dir / \"eyetracking_config.json\",\n",
    ")"
   ]
  },
  {
   "cell_type": "code",
   "execution_count": 7,
   "metadata": {},
   "outputs": [
    {
     "name": "stderr",
     "output_type": "stream",
     "text": [
      "Restoring states from the checkpoint path at c:\\Users\\Youssef\\Desktop\\TFG\\eye-tracker-vocacions\\src\\logs\\face_aligned/final/2025-May-15 16-13-52\\version_0\\checkpoints\\best.ckpt\n",
      "LOCAL_RANK: 0 - CUDA_VISIBLE_DEVICES: [0]\n",
      "Loaded model weights from the checkpoint at c:\\Users\\Youssef\\Desktop\\TFG\\eye-tracker-vocacions\\src\\logs\\face_aligned/final/2025-May-15 16-13-52\\version_0\\checkpoints\\best.ckpt\n"
     ]
    },
    {
     "data": {
      "application/vnd.jupyter.widget-view+json": {
       "model_id": "d4f2cf224f114e3eac783f874f9280f1",
       "version_major": 2,
       "version_minor": 0
      },
      "text/plain": [
       "Testing: |          | 0/? [00:00<?, ?it/s]"
      ]
     },
     "metadata": {},
     "output_type": "display_data"
    },
    {
     "name": "stdout",
     "output_type": "stream",
     "text": [
      "────────────────────────────────────────────────────────────────────────────────────────────────────────────────────────\n",
      "       Test metric             DataLoader 0\n",
      "────────────────────────────────────────────────────────────────────────────────────────────────────────────────────────\n",
      "     test_loss_epoch         39.58333206176758\n",
      "     test_mae_epoch         40.080177307128906\n",
      "        test_mse               3552.7734375\n",
      "        test_rmse            59.18300247192383\n",
      "────────────────────────────────────────────────────────────────────────────────────────────────────────────────────────\n",
      "────────  Test set  ────────\n",
      "MSE   :  3552.77  px²\n",
      "RMSE  :    59.18  px\n",
      "MAE   :    40.08  px\n",
      "Loss  :    39.58  (Smooth-L1)\n"
     ]
    }
   ],
   "source": [
    "test_results = trainer.test(ckpt_path=\"best\", datamodule=dm)[0]\n",
    "\n",
    "loss = test_results[\"test_loss_epoch\"]\n",
    "mae  = test_results[\"test_mae_epoch\"]\n",
    "\n",
    "mse  = test_results.get(\"test_mse_epoch\",  test_results.get(\"test_mse\"))\n",
    "rmse = test_results.get(\"test_rmse_epoch\", test_results.get(\"test_rmse\"))\n",
    "\n",
    "print(\"────────  Test set  ────────\")\n",
    "print(f\"MSE   : {mse:8.2f}  px²\")\n",
    "print(f\"RMSE  : {rmse:8.2f}  px\")\n",
    "print(f\"MAE   : {mae:8.2f}  px\")\n",
    "print(f\"Loss  : {loss:8.2f}  (Smooth-L1)\")"
   ]
  },
  {
   "cell_type": "code",
   "execution_count": 8,
   "metadata": {},
   "outputs": [
    {
     "data": {
      "application/vnd.jupyter.widget-view+json": {
       "model_id": "04864dbcbf8f4a32b5ec80035897f720",
       "version_major": 2,
       "version_minor": 0
      },
      "text/plain": [
       "  0%|          | 0/20077 [00:00<?, ?it/s]"
      ]
     },
     "metadata": {},
     "output_type": "display_data"
    },
    {
     "name": "stdout",
     "output_type": "stream",
     "text": [
      "Average error: 59.16px over 2008 samples\n"
     ]
    },
    {
     "data": {
      "image/png": "[encoded data removed]",
      "text/plain": [
       "<Figure size 640x480 with 2 Axes>"
      ]
     },
     "metadata": {},
     "output_type": "display_data"
    },
    {
     "data": {
      "image/png": "[encoded data removed]",
      "text/plain": [
       "<Figure size 640x480 with 1 Axes>"
      ]
     },
     "metadata": {},
     "output_type": "display_data"
    }
   ],
   "source": [
    "predict_screen_errors(\n",
    "    \"face_aligned\",\n",
    "    path_model  = out_dir/\"eyetracking_model.pt\",\n",
    "    path_config = out_dir/\"eyetracking_config.json\",\n",
    "    path_plot   = out_dir/\"error_heatmap_face_aligned.png\",\n",
    "    path_errors = out_dir/\"errors.npy\",\n",
    "    steps       = 10,\n",
    ")"
   ]
  }
 ],
 "metadata": {
  "kernelspec": {
   "display_name": ".venv",
   "language": "python",
   "name": "python3"
  },
  "language_info": {
   "codemirror_mode": {
    "name": "ipython",
    "version": 3
   },
   "file_extension": ".py",
   "mimetype": "text/x-python",
   "name": "python",
   "nbconvert_exporter": "python",
   "pygments_lexer": "ipython3",
   "version": "3.12.6"
  }
 },
 "nbformat": 4,
 "nbformat_minor": 2
}
