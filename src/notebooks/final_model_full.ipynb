{
 "cells": [
  {
   "cell_type": "markdown",
   "metadata": {},
   "source": [
    "# Training Predictive Model - Full Model Extended Edition"
   ]
  },
  {
   "cell_type": "markdown",
   "metadata": {},
   "source": [
    "### Import libraries"
   ]
  },
  {
   "cell_type": "code",
   "execution_count": 1,
   "metadata": {
    "ExecuteTime": {
     "end_time": "2025-04-06T18:02:55.994945Z",
     "start_time": "2025-04-06T18:02:48.440201Z"
    }
   },
   "outputs": [],
   "source": [
    "import datetime, json, random, IPython, pandas as pd, numpy as np, matplotlib.pyplot as plt\n",
    "from pathlib import Path\n",
    "from PIL import Image\n",
    "from mpl_toolkits.axes_grid1 import ImageGrid\n",
    "import matplotlib.image as mpimg\n",
    "import torch, pytorch_lightning as pl\n",
    "from ray import tune\n",
    "from pytorch_lightning.loggers import TensorBoardLogger\n",
    "\n",
    "from models import GazeDataModule, SingleModel, EyesModel, FullModel\n",
    "from utils  import (\n",
    "    get_config,\n",
    "    tune_asha,\n",
    "    get_best_results,\n",
    "    save_model,\n",
    "    plot_asha_param_grid,\n",
    "    plot_parallel_param_loss,\n",
    "    latest_tune_dir,\n",
    "    _build_datamodule,\n",
    "    _build_model,\n",
    "    predict_screen_errors,\n",
    ")\n",
    "\n",
    "# project settings\n",
    "SETTINGS, COLOURS, EYETRACKER, TF = get_config(\"config.ini\")\n",
    "\n",
    "%load_ext autoreload\n",
    "%autoreload 2\n"
   ]
  },
  {
   "cell_type": "markdown",
   "metadata": {},
   "source": [
    "To fix the \"Import 'mpimg' could not be resolved\" error, you need to install the `matplotlib` library, as `mpimg` is part of `matplotlib.image`. Use the `%pip install` magic command in Jupyter Notebook to install the required package.\n",
    "\n",
    "\n",
    "\n",
    "Made changes."
   ]
  },
  {
   "cell_type": "markdown",
   "metadata": {},
   "source": [
    "To fix the \"Import 'mpimg' could not be resolved\" error, you need to install the `matplotlib` library, as `mpimg` is part of `matplotlib.image`. Use the `%pip install` magic command in Jupyter Notebook to install the required package.\n",
    "\n",
    "\n",
    "\n",
    "Made changes."
   ]
  },
  {
   "cell_type": "markdown",
   "metadata": {},
   "source": [
    "### Dataset information"
   ]
  },
  {
   "cell_type": "code",
   "execution_count": 2,
   "metadata": {
    "ExecuteTime": {
     "end_time": "2025-04-06T18:02:56.009076Z",
     "start_time": "2025-04-06T18:02:56.000947Z"
    }
   },
   "outputs": [
    {
     "name": "stdout",
     "output_type": "stream",
     "text": [
      "# of samples: 56525\n",
      "Coverage: 92.46% of screen surface\n",
      "Crop size: 64 x 64 px\n"
     ]
    }
   ],
   "source": [
    "df = pd.read_csv(\"data/positions.csv\")\n",
    "region_map = np.load(\"data/region_map.npy\").T\n",
    "\n",
    "print(f\"# of samples: {len(df)}\")\n",
    "coverage = np.count_nonzero(region_map > 0) / region_map.size * 100\n",
    "print(f\"Coverage: {coverage:.2f}% of screen surface\")\n",
    "print(f\"Crop size: {SETTINGS['image_size']} x {SETTINGS['image_size']} px\")"
   ]
  },
  {
   "cell_type": "markdown",
   "metadata": {},
   "source": [
    "### Fine tuning"
   ]
  },
  {
   "cell_type": "code",
   "execution_count": 3,
   "metadata": {},
   "outputs": [
    {
     "name": "stderr",
     "output_type": "stream",
     "text": [
      "2025-06-04 16:15:55,148\tINFO worker.py:1852 -- Started a local Ray instance.\n",
      "2025-06-04 16:15:58,687\tINFO tune.py:253 -- Initializing Ray automatically. For cluster usage or custom Ray initialization, call `ray.init(...)` before `tune.run(...)`.\n",
      "2025-06-04 16:15:58,697\tINFO tune.py:616 -- [output] This uses the legacy output and progress reporter, as Jupyter notebooks are not supported by the new engine, yet. For more information, please see https://github.com/ray-project/ray/issues/36949\n"
     ]
    },
    {
     "data": {
      "text/html": [
       "<div class=\"tuneStatus\">\n",
       "  <div style=\"display: flex;flex-direction: row\">\n",
       "    <div style=\"display: flex;flex-direction: column;\">\n",
       "      <h3>Tune Status</h3>\n",
       "      <table>\n",
       "<tbody>\n",
       "<tr><td>Current time:</td><td>2025-06-05 08:18:04</td></tr>\n",
       "<tr><td>Running for: </td><td>16:02:05.58        </td></tr>\n",
       "<tr><td>Memory:      </td><td>14.0/15.3 GiB      </td></tr>\n",
       "</tbody>\n",
       "</table>\n",
       "    </div>\n",
       "    <div class=\"vDivider\"></div>\n",
       "    <div class=\"systemInfo\">\n",
       "      <h3>System Info</h3>\n",
       "      Using AsyncHyperBand: num_stopped=36<br>Bracket: Iter 8.000: -93.51993560791016 | Iter 4.000: -93.16096115112305 | Iter 2.000: -106.41850280761719 | Iter 1.000: -220.53844451904297<br>Logical resource usage: 8.0/12 CPUs, 1.0/1 GPUs (0.0/1.0 accelerator_type:G)\n",
       "    </div>\n",
       "    <div class=\"vDivider\"></div>\n",
       "<div class=\"messages\">\n",
       "  <h3>Messages</h3>\n",
       "  : ***LOW MEMORY*** less than 10% of the memory on this node is available for use. This can cause unexpected crashes. Consider reducing the memory used by your application or reducing the Ray object store size by setting `object_store_memory` when calling `ray.init`.\n",
       "  \n",
       "  \n",
       "</div>\n",
       "<style>\n",
       ".messages {\n",
       "  color: var(--jp-ui-font-color1);\n",
       "  display: flex;\n",
       "  flex-direction: column;\n",
       "  padding-left: 1em;\n",
       "  overflow-y: auto;\n",
       "}\n",
       ".messages h3 {\n",
       "  font-weight: bold;\n",
       "}\n",
       ".vDivider {\n",
       "  border-left-width: var(--jp-border-width);\n",
       "  border-left-color: var(--jp-border-color0);\n",
       "  border-left-style: solid;\n",
       "  margin: 0.5em 1em 0.5em 1em;\n",
       "}\n",
       "</style>\n",
       "\n",
       "  </div>\n",
       "  <div class=\"hDivider\"></div>\n",
       "  <div class=\"trialStatus\">\n",
       "    <h3>Trial Status</h3>\n",
       "    <table>\n",
       "<thead>\n",
       "<tr><th>Trial name               </th><th>status    </th><th>loc            </th><th style=\"text-align: right;\">  bs</th><th>eye_channels  </th><th>face_channels  </th><th>head_pos_channels  </th><th style=\"text-align: right;\">  hidden</th><th style=\"text-align: right;\">         lr</th><th style=\"text-align: right;\">  seed</th><th style=\"text-align: right;\">  iter</th><th style=\"text-align: right;\">  total time (s)</th><th style=\"text-align: right;\">    loss</th><th style=\"text-align: right;\">     mae</th></tr>\n",
       "</thead>\n",
       "<tbody>\n",
       "<tr><td>_tune_wrapper_6fc5e_00000</td><td>TERMINATED</td><td>127.0.0.1:20316</td><td style=\"text-align: right;\">  64</td><td>(32, 64, 128) </td><td>(32, 64, 128)  </td><td>(16, 32, 64)       </td><td style=\"text-align: right;\">     256</td><td style=\"text-align: right;\">0.000975934</td><td style=\"text-align: right;\">  1891</td><td style=\"text-align: right;\">    15</td><td style=\"text-align: right;\">        2882.59 </td><td style=\"text-align: right;\"> 65.0679</td><td style=\"text-align: right;\"> 65.5662</td></tr>\n",
       "<tr><td>_tune_wrapper_6fc5e_00001</td><td>TERMINATED</td><td>127.0.0.1:1268 </td><td style=\"text-align: right;\">  64</td><td>(32, 64, 128) </td><td>(64, 128, 256) </td><td>(16, 32, 64)       </td><td style=\"text-align: right;\">     768</td><td style=\"text-align: right;\">0.000856936</td><td style=\"text-align: right;\">   202</td><td style=\"text-align: right;\">     2</td><td style=\"text-align: right;\">         502.649</td><td style=\"text-align: right;\">159.472 </td><td style=\"text-align: right;\">159.972 </td></tr>\n",
       "<tr><td>_tune_wrapper_6fc5e_00002</td><td>TERMINATED</td><td>127.0.0.1:5212 </td><td style=\"text-align: right;\"> 128</td><td>(64, 128, 256)</td><td>(32, 64, 128)  </td><td>(16, 32, 64)       </td><td style=\"text-align: right;\">     512</td><td style=\"text-align: right;\">0.000165499</td><td style=\"text-align: right;\">  7152</td><td style=\"text-align: right;\">     1</td><td style=\"text-align: right;\">         331.278</td><td style=\"text-align: right;\">235.851 </td><td style=\"text-align: right;\">236.35  </td></tr>\n",
       "<tr><td>_tune_wrapper_6fc5e_00003</td><td>TERMINATED</td><td>127.0.0.1:16056</td><td style=\"text-align: right;\"> 256</td><td>(48, 96, 192) </td><td>(48, 96, 192)  </td><td>(32, 64, 128)      </td><td style=\"text-align: right;\">     512</td><td style=\"text-align: right;\">0.002818   </td><td style=\"text-align: right;\">  6882</td><td style=\"text-align: right;\">     4</td><td style=\"text-align: right;\">        1065.57 </td><td style=\"text-align: right;\"> 74.7286</td><td style=\"text-align: right;\"> 75.2271</td></tr>\n",
       "<tr><td>_tune_wrapper_6fc5e_00004</td><td>TERMINATED</td><td>127.0.0.1:20292</td><td style=\"text-align: right;\"> 128</td><td>(64, 128, 256)</td><td>(32, 64, 128)  </td><td>(24, 48, 96)       </td><td style=\"text-align: right;\">     512</td><td style=\"text-align: right;\">0.000364929</td><td style=\"text-align: right;\">  4674</td><td style=\"text-align: right;\">     1</td><td style=\"text-align: right;\">         357.72 </td><td style=\"text-align: right;\">218.67  </td><td style=\"text-align: right;\">219.17  </td></tr>\n",
       "<tr><td>_tune_wrapper_6fc5e_00005</td><td>TERMINATED</td><td>127.0.0.1:18436</td><td style=\"text-align: right;\"> 256</td><td>(64, 128, 256)</td><td>(64, 128, 256) </td><td>(32, 64, 128)      </td><td style=\"text-align: right;\">    1024</td><td style=\"text-align: right;\">0.000105775</td><td style=\"text-align: right;\">  5848</td><td style=\"text-align: right;\">     1</td><td style=\"text-align: right;\">         396.35 </td><td style=\"text-align: right;\">416.609 </td><td style=\"text-align: right;\">417.109 </td></tr>\n",
       "<tr><td>_tune_wrapper_6fc5e_00006</td><td>TERMINATED</td><td>127.0.0.1:14472</td><td style=\"text-align: right;\">  64</td><td>(48, 96, 192) </td><td>(48, 96, 192)  </td><td>(24, 48, 96)       </td><td style=\"text-align: right;\">     768</td><td style=\"text-align: right;\">0.000685633</td><td style=\"text-align: right;\">  8068</td><td style=\"text-align: right;\">     2</td><td style=\"text-align: right;\">         564.866</td><td style=\"text-align: right;\">188.519 </td><td style=\"text-align: right;\">189.019 </td></tr>\n",
       "<tr><td>_tune_wrapper_6fc5e_00007</td><td>TERMINATED</td><td>127.0.0.1:19084</td><td style=\"text-align: right;\"> 128</td><td>(32, 64, 128) </td><td>(32, 64, 128)  </td><td>(24, 48, 96)       </td><td style=\"text-align: right;\">    1024</td><td style=\"text-align: right;\">0.000137116</td><td style=\"text-align: right;\">  8932</td><td style=\"text-align: right;\">     1</td><td style=\"text-align: right;\">         300.455</td><td style=\"text-align: right;\">263.06  </td><td style=\"text-align: right;\">263.559 </td></tr>\n",
       "<tr><td>_tune_wrapper_6fc5e_00008</td><td>TERMINATED</td><td>127.0.0.1:9296 </td><td style=\"text-align: right;\"> 256</td><td>(48, 96, 192) </td><td>(32, 64, 128)  </td><td>(16, 32, 64)       </td><td style=\"text-align: right;\">     768</td><td style=\"text-align: right;\">0.000458468</td><td style=\"text-align: right;\">  6252</td><td style=\"text-align: right;\">     1</td><td style=\"text-align: right;\">         302.225</td><td style=\"text-align: right;\">223.246 </td><td style=\"text-align: right;\">223.746 </td></tr>\n",
       "<tr><td>_tune_wrapper_6fc5e_00009</td><td>TERMINATED</td><td>127.0.0.1:4328 </td><td style=\"text-align: right;\"> 256</td><td>(64, 128, 256)</td><td>(32, 64, 128)  </td><td>(32, 64, 128)      </td><td style=\"text-align: right;\">     768</td><td style=\"text-align: right;\">0.000257006</td><td style=\"text-align: right;\">  7133</td><td style=\"text-align: right;\">     1</td><td style=\"text-align: right;\">         366.265</td><td style=\"text-align: right;\">241.66  </td><td style=\"text-align: right;\">242.16  </td></tr>\n",
       "<tr><td>_tune_wrapper_6fc5e_00010</td><td>TERMINATED</td><td>127.0.0.1:16168</td><td style=\"text-align: right;\"> 128</td><td>(64, 128, 256)</td><td>(64, 128, 256) </td><td>(24, 48, 96)       </td><td style=\"text-align: right;\">     256</td><td style=\"text-align: right;\">0.00116067 </td><td style=\"text-align: right;\">  1942</td><td style=\"text-align: right;\">     4</td><td style=\"text-align: right;\">        1240.52 </td><td style=\"text-align: right;\"> 95.8098</td><td style=\"text-align: right;\"> 96.3089</td></tr>\n",
       "<tr><td>_tune_wrapper_6fc5e_00011</td><td>TERMINATED</td><td>127.0.0.1:19560</td><td style=\"text-align: right;\"> 256</td><td>(32, 64, 128) </td><td>(64, 128, 256) </td><td>(24, 48, 96)       </td><td style=\"text-align: right;\">     256</td><td style=\"text-align: right;\">0.000178873</td><td style=\"text-align: right;\">  9286</td><td style=\"text-align: right;\">     1</td><td style=\"text-align: right;\">         332.069</td><td style=\"text-align: right;\">534.602 </td><td style=\"text-align: right;\">535.101 </td></tr>\n",
       "<tr><td>_tune_wrapper_6fc5e_00012</td><td>TERMINATED</td><td>127.0.0.1:2068 </td><td style=\"text-align: right;\"> 256</td><td>(64, 128, 256)</td><td>(64, 128, 256) </td><td>(24, 48, 96)       </td><td style=\"text-align: right;\">     768</td><td style=\"text-align: right;\">0.000460334</td><td style=\"text-align: right;\">   818</td><td style=\"text-align: right;\">     1</td><td style=\"text-align: right;\">         633.341</td><td style=\"text-align: right;\">233.336 </td><td style=\"text-align: right;\">233.836 </td></tr>\n",
       "<tr><td>_tune_wrapper_6fc5e_00013</td><td>TERMINATED</td><td>127.0.0.1:3304 </td><td style=\"text-align: right;\"> 128</td><td>(48, 96, 192) </td><td>(48, 96, 192)  </td><td>(24, 48, 96)       </td><td style=\"text-align: right;\">     512</td><td style=\"text-align: right;\">0.000114553</td><td style=\"text-align: right;\">  9452</td><td style=\"text-align: right;\">     1</td><td style=\"text-align: right;\">         666.953</td><td style=\"text-align: right;\">311.729 </td><td style=\"text-align: right;\">312.228 </td></tr>\n",
       "<tr><td>_tune_wrapper_6fc5e_00014</td><td>TERMINATED</td><td>127.0.0.1:13376</td><td style=\"text-align: right;\">  64</td><td>(48, 96, 192) </td><td>(32, 64, 128)  </td><td>(32, 64, 128)      </td><td style=\"text-align: right;\">     768</td><td style=\"text-align: right;\">0.000114597</td><td style=\"text-align: right;\">  3306</td><td style=\"text-align: right;\">     2</td><td style=\"text-align: right;\">        1192    </td><td style=\"text-align: right;\">171.18  </td><td style=\"text-align: right;\">171.679 </td></tr>\n",
       "<tr><td>_tune_wrapper_6fc5e_00015</td><td>TERMINATED</td><td>127.0.0.1:13196</td><td style=\"text-align: right;\"> 256</td><td>(48, 96, 192) </td><td>(48, 96, 192)  </td><td>(16, 32, 64)       </td><td style=\"text-align: right;\">    1024</td><td style=\"text-align: right;\">0.000377008</td><td style=\"text-align: right;\">  4108</td><td style=\"text-align: right;\">     2</td><td style=\"text-align: right;\">        1051.54 </td><td style=\"text-align: right;\">205.206 </td><td style=\"text-align: right;\">205.705 </td></tr>\n",
       "<tr><td>_tune_wrapper_6fc5e_00016</td><td>TERMINATED</td><td>127.0.0.1:6368 </td><td style=\"text-align: right;\"> 256</td><td>(48, 96, 192) </td><td>(64, 128, 256) </td><td>(16, 32, 64)       </td><td style=\"text-align: right;\">     768</td><td style=\"text-align: right;\">0.000582026</td><td style=\"text-align: right;\">   156</td><td style=\"text-align: right;\">     1</td><td style=\"text-align: right;\">         618.402</td><td style=\"text-align: right;\">222.814 </td><td style=\"text-align: right;\">223.313 </td></tr>\n",
       "<tr><td>_tune_wrapper_6fc5e_00017</td><td>TERMINATED</td><td>127.0.0.1:5736 </td><td style=\"text-align: right;\"> 128</td><td>(32, 64, 128) </td><td>(64, 128, 256) </td><td>(32, 64, 128)      </td><td style=\"text-align: right;\">     512</td><td style=\"text-align: right;\">0.000426718</td><td style=\"text-align: right;\">  6995</td><td style=\"text-align: right;\">     4</td><td style=\"text-align: right;\">        2276.23 </td><td style=\"text-align: right;\">102.999 </td><td style=\"text-align: right;\">103.498 </td></tr>\n",
       "<tr><td>_tune_wrapper_6fc5e_00018</td><td>TERMINATED</td><td>127.0.0.1:17556</td><td style=\"text-align: right;\">  64</td><td>(48, 96, 192) </td><td>(64, 128, 256) </td><td>(24, 48, 96)       </td><td style=\"text-align: right;\">     768</td><td style=\"text-align: right;\">0.000522896</td><td style=\"text-align: right;\">  3891</td><td style=\"text-align: right;\">     4</td><td style=\"text-align: right;\">        2474.5  </td><td style=\"text-align: right;\">106.158 </td><td style=\"text-align: right;\">106.657 </td></tr>\n",
       "<tr><td>_tune_wrapper_6fc5e_00019</td><td>TERMINATED</td><td>127.0.0.1:9548 </td><td style=\"text-align: right;\"> 256</td><td>(48, 96, 192) </td><td>(48, 96, 192)  </td><td>(24, 48, 96)       </td><td style=\"text-align: right;\">     768</td><td style=\"text-align: right;\">0.000784676</td><td style=\"text-align: right;\">  5459</td><td style=\"text-align: right;\">     1</td><td style=\"text-align: right;\">         805.581</td><td style=\"text-align: right;\">274.745 </td><td style=\"text-align: right;\">275.244 </td></tr>\n",
       "<tr><td>_tune_wrapper_6fc5e_00020</td><td>TERMINATED</td><td>127.0.0.1:5860 </td><td style=\"text-align: right;\"> 128</td><td>(48, 96, 192) </td><td>(32, 64, 128)  </td><td>(32, 64, 128)      </td><td style=\"text-align: right;\">     768</td><td style=\"text-align: right;\">0.00143403 </td><td style=\"text-align: right;\">  9512</td><td style=\"text-align: right;\">     4</td><td style=\"text-align: right;\">        2267.54 </td><td style=\"text-align: right;\">108.29  </td><td style=\"text-align: right;\">108.789 </td></tr>\n",
       "<tr><td>_tune_wrapper_6fc5e_00021</td><td>TERMINATED</td><td>127.0.0.1:5692 </td><td style=\"text-align: right;\">  64</td><td>(64, 128, 256)</td><td>(32, 64, 128)  </td><td>(16, 32, 64)       </td><td style=\"text-align: right;\">     768</td><td style=\"text-align: right;\">0.000140232</td><td style=\"text-align: right;\">  2744</td><td style=\"text-align: right;\">     2</td><td style=\"text-align: right;\">        1350.02 </td><td style=\"text-align: right;\">162.85  </td><td style=\"text-align: right;\">163.349 </td></tr>\n",
       "<tr><td>_tune_wrapper_6fc5e_00022</td><td>TERMINATED</td><td>127.0.0.1:7564 </td><td style=\"text-align: right;\"> 128</td><td>(32, 64, 128) </td><td>(64, 128, 256) </td><td>(16, 32, 64)       </td><td style=\"text-align: right;\">     256</td><td style=\"text-align: right;\">0.000231841</td><td style=\"text-align: right;\">  7592</td><td style=\"text-align: right;\">     1</td><td style=\"text-align: right;\">         676.219</td><td style=\"text-align: right;\">242.073 </td><td style=\"text-align: right;\">242.572 </td></tr>\n",
       "<tr><td>_tune_wrapper_6fc5e_00023</td><td>TERMINATED</td><td>127.0.0.1:9372 </td><td style=\"text-align: right;\"> 256</td><td>(64, 128, 256)</td><td>(32, 64, 128)  </td><td>(32, 64, 128)      </td><td style=\"text-align: right;\">     768</td><td style=\"text-align: right;\">0.000675403</td><td style=\"text-align: right;\">  1217</td><td style=\"text-align: right;\">     2</td><td style=\"text-align: right;\">        1513.28 </td><td style=\"text-align: right;\">164.062 </td><td style=\"text-align: right;\">164.562 </td></tr>\n",
       "<tr><td>_tune_wrapper_6fc5e_00024</td><td>TERMINATED</td><td>127.0.0.1:3108 </td><td style=\"text-align: right;\"> 256</td><td>(64, 128, 256)</td><td>(64, 128, 256) </td><td>(16, 32, 64)       </td><td style=\"text-align: right;\">    1024</td><td style=\"text-align: right;\">0.00276482 </td><td style=\"text-align: right;\">  2729</td><td style=\"text-align: right;\">     8</td><td style=\"text-align: right;\">        4915.35 </td><td style=\"text-align: right;\">108.965 </td><td style=\"text-align: right;\">109.464 </td></tr>\n",
       "<tr><td>_tune_wrapper_6fc5e_00025</td><td>TERMINATED</td><td>127.0.0.1:15104</td><td style=\"text-align: right;\">  64</td><td>(48, 96, 192) </td><td>(64, 128, 256) </td><td>(16, 32, 64)       </td><td style=\"text-align: right;\">     512</td><td style=\"text-align: right;\">0.000171691</td><td style=\"text-align: right;\">  8369</td><td style=\"text-align: right;\">     1</td><td style=\"text-align: right;\">         597.338</td><td style=\"text-align: right;\">222.76  </td><td style=\"text-align: right;\">223.259 </td></tr>\n",
       "<tr><td>_tune_wrapper_6fc5e_00026</td><td>TERMINATED</td><td>127.0.0.1:17772</td><td style=\"text-align: right;\"> 256</td><td>(32, 64, 128) </td><td>(64, 128, 256) </td><td>(24, 48, 96)       </td><td style=\"text-align: right;\">     256</td><td style=\"text-align: right;\">0.00026116 </td><td style=\"text-align: right;\">  6942</td><td style=\"text-align: right;\">     1</td><td style=\"text-align: right;\">         610.27 </td><td style=\"text-align: right;\">374.388 </td><td style=\"text-align: right;\">374.888 </td></tr>\n",
       "<tr><td>_tune_wrapper_6fc5e_00027</td><td>TERMINATED</td><td>127.0.0.1:18376</td><td style=\"text-align: right;\">  64</td><td>(64, 128, 256)</td><td>(48, 96, 192)  </td><td>(32, 64, 128)      </td><td style=\"text-align: right;\">    1024</td><td style=\"text-align: right;\">0.000884155</td><td style=\"text-align: right;\">   941</td><td style=\"text-align: right;\">    15</td><td style=\"text-align: right;\">        9079.91 </td><td style=\"text-align: right;\"> 75.3937</td><td style=\"text-align: right;\"> 75.8927</td></tr>\n",
       "<tr><td>_tune_wrapper_6fc5e_00028</td><td>TERMINATED</td><td>127.0.0.1:5224 </td><td style=\"text-align: right;\"> 256</td><td>(64, 128, 256)</td><td>(64, 128, 256) </td><td>(24, 48, 96)       </td><td style=\"text-align: right;\">     256</td><td style=\"text-align: right;\">0.00169314 </td><td style=\"text-align: right;\">  6695</td><td style=\"text-align: right;\">     8</td><td style=\"text-align: right;\">        5117.9  </td><td style=\"text-align: right;\"> 93.5199</td><td style=\"text-align: right;\"> 94.0189</td></tr>\n",
       "<tr><td>_tune_wrapper_6fc5e_00029</td><td>TERMINATED</td><td>127.0.0.1:18356</td><td style=\"text-align: right;\"> 256</td><td>(64, 128, 256)</td><td>(48, 96, 192)  </td><td>(24, 48, 96)       </td><td style=\"text-align: right;\">    1024</td><td style=\"text-align: right;\">0.000900722</td><td style=\"text-align: right;\">  5375</td><td style=\"text-align: right;\">     4</td><td style=\"text-align: right;\">        2463.13 </td><td style=\"text-align: right;\">106.1   </td><td style=\"text-align: right;\">106.599 </td></tr>\n",
       "<tr><td>_tune_wrapper_6fc5e_00030</td><td>TERMINATED</td><td>127.0.0.1:7632 </td><td style=\"text-align: right;\">  64</td><td>(64, 128, 256)</td><td>(64, 128, 256) </td><td>(32, 64, 128)      </td><td style=\"text-align: right;\">     512</td><td style=\"text-align: right;\">0.000268383</td><td style=\"text-align: right;\">  4726</td><td style=\"text-align: right;\">     4</td><td style=\"text-align: right;\">        2656.75 </td><td style=\"text-align: right;\">115.663 </td><td style=\"text-align: right;\">116.162 </td></tr>\n",
       "<tr><td>_tune_wrapper_6fc5e_00031</td><td>TERMINATED</td><td>127.0.0.1:2300 </td><td style=\"text-align: right;\">  64</td><td>(64, 128, 256)</td><td>(64, 128, 256) </td><td>(24, 48, 96)       </td><td style=\"text-align: right;\">     512</td><td style=\"text-align: right;\">0.000404504</td><td style=\"text-align: right;\">   990</td><td style=\"text-align: right;\">     8</td><td style=\"text-align: right;\">        5098.99 </td><td style=\"text-align: right;\"> 96.0067</td><td style=\"text-align: right;\"> 96.5058</td></tr>\n",
       "<tr><td>_tune_wrapper_6fc5e_00032</td><td>TERMINATED</td><td>127.0.0.1:13940</td><td style=\"text-align: right;\"> 256</td><td>(64, 128, 256)</td><td>(32, 64, 128)  </td><td>(24, 48, 96)       </td><td style=\"text-align: right;\">     768</td><td style=\"text-align: right;\">0.000498938</td><td style=\"text-align: right;\">  7221</td><td style=\"text-align: right;\">     1</td><td style=\"text-align: right;\">         672.025</td><td style=\"text-align: right;\">221.238 </td><td style=\"text-align: right;\">221.738 </td></tr>\n",
       "<tr><td>_tune_wrapper_6fc5e_00033</td><td>TERMINATED</td><td>127.0.0.1:14380</td><td style=\"text-align: right;\"> 128</td><td>(64, 128, 256)</td><td>(48, 96, 192)  </td><td>(16, 32, 64)       </td><td style=\"text-align: right;\">     768</td><td style=\"text-align: right;\">0.000131806</td><td style=\"text-align: right;\">  6740</td><td style=\"text-align: right;\">     1</td><td style=\"text-align: right;\">         635.715</td><td style=\"text-align: right;\">242.328 </td><td style=\"text-align: right;\">242.828 </td></tr>\n",
       "<tr><td>_tune_wrapper_6fc5e_00034</td><td>TERMINATED</td><td>127.0.0.1:20152</td><td style=\"text-align: right;\"> 128</td><td>(32, 64, 128) </td><td>(32, 64, 128)  </td><td>(32, 64, 128)      </td><td style=\"text-align: right;\">     256</td><td style=\"text-align: right;\">0.00062359 </td><td style=\"text-align: right;\">  1032</td><td style=\"text-align: right;\">     1</td><td style=\"text-align: right;\">         554.831</td><td style=\"text-align: right;\">225.208 </td><td style=\"text-align: right;\">225.707 </td></tr>\n",
       "<tr><td>_tune_wrapper_6fc5e_00035</td><td>TERMINATED</td><td>127.0.0.1:14164</td><td style=\"text-align: right;\">  64</td><td>(48, 96, 192) </td><td>(64, 128, 256) </td><td>(32, 64, 128)      </td><td style=\"text-align: right;\">    1024</td><td style=\"text-align: right;\">0.000160463</td><td style=\"text-align: right;\">  3610</td><td style=\"text-align: right;\">     1</td><td style=\"text-align: right;\">         665.663</td><td style=\"text-align: right;\">220.598 </td><td style=\"text-align: right;\">221.098 </td></tr>\n",
       "</tbody>\n",
       "</table>\n",
       "  </div>\n",
       "</div>\n",
       "<style>\n",
       ".tuneStatus {\n",
       "  color: var(--jp-ui-font-color1);\n",
       "}\n",
       ".tuneStatus .systemInfo {\n",
       "  display: flex;\n",
       "  flex-direction: column;\n",
       "}\n",
       ".tuneStatus td {\n",
       "  white-space: nowrap;\n",
       "}\n",
       ".tuneStatus .trialStatus {\n",
       "  display: flex;\n",
       "  flex-direction: column;\n",
       "}\n",
       ".tuneStatus h3 {\n",
       "  font-weight: bold;\n",
       "}\n",
       ".tuneStatus .hDivider {\n",
       "  border-bottom-width: var(--jp-border-width);\n",
       "  border-bottom-color: var(--jp-border-color0);\n",
       "  border-bottom-style: solid;\n",
       "}\n",
       ".tuneStatus .vDivider {\n",
       "  border-left-width: var(--jp-border-width);\n",
       "  border-left-color: var(--jp-border-color0);\n",
       "  border-left-style: solid;\n",
       "  margin: 0.5em 1em 0.5em 1em;\n",
       "}\n",
       "</style>\n"
      ],
      "text/plain": [
       "<IPython.core.display.HTML object>"
      ]
     },
     "metadata": {},
     "output_type": "display_data"
    },
    {
     "name": "stderr",
     "output_type": "stream",
     "text": [
      "\u001b[36m(_tune_wrapper pid=20316)\u001b[0m Seed set to 1891\n",
      "\u001b[36m(_tune_wrapper pid=20316)\u001b[0m Using bfloat16 Automatic Mixed Precision (AMP)\n",
      "\u001b[36m(_tune_wrapper pid=20316)\u001b[0m Using default `ModelCheckpoint`. Consider installing `litmodels` package to enable `LitModelCheckpoint` for automatic upload to the Lightning model registry.\n",
      "\u001b[36m(_tune_wrapper pid=20316)\u001b[0m GPU available: True (cuda), used: True\n",
      "\u001b[36m(_tune_wrapper pid=20316)\u001b[0m TPU available: False, using: 0 TPU cores\n",
      "\u001b[36m(_tune_wrapper pid=20316)\u001b[0m HPU available: False, using: 0 HPUs\n",
      "\u001b[36m(_tune_wrapper pid=20316)\u001b[0m LOCAL_RANK: 0 - CUDA_VISIBLE_DEVICES: [0]\n",
      "\u001b[36m(_tune_wrapper pid=20316)\u001b[0m \n",
      "\u001b[36m(_tune_wrapper pid=20316)\u001b[0m   | Name       | Type              | Params | Mode  | In sizes       | Out sizes     \n",
      "\u001b[36m(_tune_wrapper pid=20316)\u001b[0m -------------------------------------------------------------------------------------------\n",
      "\u001b[36m(_tune_wrapper pid=20316)\u001b[0m 0 | criterion  | SmoothL1Loss      | 0      | train | ?              | ?             \n",
      "\u001b[36m(_tune_wrapper pid=20316)\u001b[0m 1 | mae        | MeanAbsoluteError | 0      | train | ?              | ?             \n",
      "\u001b[36m(_tune_wrapper pid=20316)\u001b[0m 2 | mse        | MeanSquaredError  | 0      | train | ?              | ?             \n",
      "\u001b[36m(_tune_wrapper pid=20316)\u001b[0m 3 | rmse       | MeanSquaredError  | 0      | train | ?              | ?             \n",
      "\u001b[36m(_tune_wrapper pid=20316)\u001b[0m 4 | face_stack | ConvStack         | 93.5 K | train | [1, 3, 64, 64] | [1, 128, 1, 1]\n",
      "\u001b[36m(_tune_wrapper pid=20316)\u001b[0m 5 | l_stack    | ConvStack         | 93.5 K | train | [1, 3, 64, 64] | [1, 128, 1, 1]\n",
      "\u001b[36m(_tune_wrapper pid=20316)\u001b[0m 6 | r_stack    | ConvStack         | 93.5 K | train | [1, 3, 64, 64] | [1, 128, 1, 1]\n",
      "\u001b[36m(_tune_wrapper pid=20316)\u001b[0m 7 | head_stack | ConvStack         | 23.4 K | train | [1, 1, 64, 64] | [1, 64, 1, 1] \n",
      "\u001b[36m(_tune_wrapper pid=20316)\u001b[0m 8 | regressor  | Sequential        | 115 K  | train | [1, 449]       | [1, 2]        \n",
      "\u001b[36m(_tune_wrapper pid=20316)\u001b[0m -------------------------------------------------------------------------------------------\n",
      "\u001b[36m(_tune_wrapper pid=20316)\u001b[0m 419 K     Trainable params\n",
      "\u001b[36m(_tune_wrapper pid=20316)\u001b[0m 0         Non-trainable params\n",
      "\u001b[36m(_tune_wrapper pid=20316)\u001b[0m 419 K     Total params\n",
      "\u001b[36m(_tune_wrapper pid=20316)\u001b[0m 1.678     Total estimated model params size (MB)\n",
      "\u001b[36m(_tune_wrapper pid=20316)\u001b[0m 76        Modules in train mode\n",
      "\u001b[36m(_tune_wrapper pid=20316)\u001b[0m 0         Modules in eval mode\n"
     ]
    },
    {
     "data": {
      "text/html": [
       "<div class=\"trialProgress\">\n",
       "  <h3>Trial Progress</h3>\n",
       "  <table>\n",
       "<thead>\n",
       "<tr><th>Trial name               </th><th>checkpoint_dir_name  </th><th>date               </th><th>done  </th><th>hostname       </th><th style=\"text-align: right;\">  iterations_since_restore</th><th style=\"text-align: right;\">    loss</th><th style=\"text-align: right;\">     mae</th><th>node_ip  </th><th style=\"text-align: right;\">  pid</th><th>should_checkpoint  </th><th style=\"text-align: right;\">  time_since_restore</th><th style=\"text-align: right;\">  time_this_iter_s</th><th style=\"text-align: right;\">  time_total_s</th><th style=\"text-align: right;\">  timestamp</th><th style=\"text-align: right;\">  training_iteration</th><th>trial_id   </th></tr>\n",
       "</thead>\n",
       "<tbody>\n",
       "<tr><td>_tune_wrapper_6fc5e_00000</td><td>checkpoint_000014    </td><td>2025-06-04_17-04-11</td><td>True  </td><td>DESKTOP-B40NR52</td><td style=\"text-align: right;\">                        15</td><td style=\"text-align: right;\"> 65.0679</td><td style=\"text-align: right;\"> 65.5662</td><td>127.0.0.1</td><td style=\"text-align: right;\">20316</td><td>True               </td><td style=\"text-align: right;\">            2882.59 </td><td style=\"text-align: right;\">           172.545</td><td style=\"text-align: right;\">      2882.59 </td><td style=\"text-align: right;\"> 1749049451</td><td style=\"text-align: right;\">                  15</td><td>6fc5e_00000</td></tr>\n",
       "<tr><td>_tune_wrapper_6fc5e_00001</td><td>checkpoint_000001    </td><td>2025-06-04_17-12-47</td><td>True  </td><td>DESKTOP-B40NR52</td><td style=\"text-align: right;\">                         2</td><td style=\"text-align: right;\">159.472 </td><td style=\"text-align: right;\">159.972 </td><td>127.0.0.1</td><td style=\"text-align: right;\"> 1268</td><td>True               </td><td style=\"text-align: right;\">             502.649</td><td style=\"text-align: right;\">           201.19 </td><td style=\"text-align: right;\">       502.649</td><td style=\"text-align: right;\"> 1749049967</td><td style=\"text-align: right;\">                   2</td><td>6fc5e_00001</td></tr>\n",
       "<tr><td>_tune_wrapper_6fc5e_00002</td><td>checkpoint_000000    </td><td>2025-06-04_17-18-29</td><td>True  </td><td>DESKTOP-B40NR52</td><td style=\"text-align: right;\">                         1</td><td style=\"text-align: right;\">235.851 </td><td style=\"text-align: right;\">236.35  </td><td>127.0.0.1</td><td style=\"text-align: right;\"> 5212</td><td>True               </td><td style=\"text-align: right;\">             331.278</td><td style=\"text-align: right;\">           331.278</td><td style=\"text-align: right;\">       331.278</td><td style=\"text-align: right;\"> 1749050309</td><td style=\"text-align: right;\">                   1</td><td>6fc5e_00002</td></tr>\n",
       "<tr><td>_tune_wrapper_6fc5e_00003</td><td>checkpoint_000003    </td><td>2025-06-04_17-36-27</td><td>True  </td><td>DESKTOP-B40NR52</td><td style=\"text-align: right;\">                         4</td><td style=\"text-align: right;\"> 74.7286</td><td style=\"text-align: right;\"> 75.2271</td><td>127.0.0.1</td><td style=\"text-align: right;\">16056</td><td>True               </td><td style=\"text-align: right;\">            1065.57 </td><td style=\"text-align: right;\">           240.163</td><td style=\"text-align: right;\">      1065.57 </td><td style=\"text-align: right;\"> 1749051387</td><td style=\"text-align: right;\">                   4</td><td>6fc5e_00003</td></tr>\n",
       "<tr><td>_tune_wrapper_6fc5e_00004</td><td>checkpoint_000000    </td><td>2025-06-04_17-42-38</td><td>True  </td><td>DESKTOP-B40NR52</td><td style=\"text-align: right;\">                         1</td><td style=\"text-align: right;\">218.67  </td><td style=\"text-align: right;\">219.17  </td><td>127.0.0.1</td><td style=\"text-align: right;\">20292</td><td>True               </td><td style=\"text-align: right;\">             357.72 </td><td style=\"text-align: right;\">           357.72 </td><td style=\"text-align: right;\">       357.72 </td><td style=\"text-align: right;\"> 1749051758</td><td style=\"text-align: right;\">                   1</td><td>6fc5e_00004</td></tr>\n",
       "<tr><td>_tune_wrapper_6fc5e_00005</td><td>checkpoint_000000    </td><td>2025-06-04_17-49-24</td><td>True  </td><td>DESKTOP-B40NR52</td><td style=\"text-align: right;\">                         1</td><td style=\"text-align: right;\">416.609 </td><td style=\"text-align: right;\">417.109 </td><td>127.0.0.1</td><td style=\"text-align: right;\">18436</td><td>True               </td><td style=\"text-align: right;\">             396.35 </td><td style=\"text-align: right;\">           396.35 </td><td style=\"text-align: right;\">       396.35 </td><td style=\"text-align: right;\"> 1749052164</td><td style=\"text-align: right;\">                   1</td><td>6fc5e_00005</td></tr>\n",
       "<tr><td>_tune_wrapper_6fc5e_00006</td><td>checkpoint_000001    </td><td>2025-06-04_17-59-03</td><td>True  </td><td>DESKTOP-B40NR52</td><td style=\"text-align: right;\">                         2</td><td style=\"text-align: right;\">188.519 </td><td style=\"text-align: right;\">189.019 </td><td>127.0.0.1</td><td style=\"text-align: right;\">14472</td><td>True               </td><td style=\"text-align: right;\">             564.866</td><td style=\"text-align: right;\">           231.909</td><td style=\"text-align: right;\">       564.866</td><td style=\"text-align: right;\"> 1749052743</td><td style=\"text-align: right;\">                   2</td><td>6fc5e_00006</td></tr>\n",
       "<tr><td>_tune_wrapper_6fc5e_00007</td><td>checkpoint_000000    </td><td>2025-06-04_18-04-13</td><td>True  </td><td>DESKTOP-B40NR52</td><td style=\"text-align: right;\">                         1</td><td style=\"text-align: right;\">263.06  </td><td style=\"text-align: right;\">263.559 </td><td>127.0.0.1</td><td style=\"text-align: right;\">19084</td><td>True               </td><td style=\"text-align: right;\">             300.455</td><td style=\"text-align: right;\">           300.455</td><td style=\"text-align: right;\">       300.455</td><td style=\"text-align: right;\"> 1749053053</td><td style=\"text-align: right;\">                   1</td><td>6fc5e_00007</td></tr>\n",
       "<tr><td>_tune_wrapper_6fc5e_00008</td><td>checkpoint_000000    </td><td>2025-06-04_18-09-28</td><td>True  </td><td>DESKTOP-B40NR52</td><td style=\"text-align: right;\">                         1</td><td style=\"text-align: right;\">223.246 </td><td style=\"text-align: right;\">223.746 </td><td>127.0.0.1</td><td style=\"text-align: right;\"> 9296</td><td>True               </td><td style=\"text-align: right;\">             302.225</td><td style=\"text-align: right;\">           302.225</td><td style=\"text-align: right;\">       302.225</td><td style=\"text-align: right;\"> 1749053368</td><td style=\"text-align: right;\">                   1</td><td>6fc5e_00008</td></tr>\n",
       "<tr><td>_tune_wrapper_6fc5e_00009</td><td>checkpoint_000000    </td><td>2025-06-04_18-15-47</td><td>True  </td><td>DESKTOP-B40NR52</td><td style=\"text-align: right;\">                         1</td><td style=\"text-align: right;\">241.66  </td><td style=\"text-align: right;\">242.16  </td><td>127.0.0.1</td><td style=\"text-align: right;\"> 4328</td><td>True               </td><td style=\"text-align: right;\">             366.265</td><td style=\"text-align: right;\">           366.265</td><td style=\"text-align: right;\">       366.265</td><td style=\"text-align: right;\"> 1749053747</td><td style=\"text-align: right;\">                   1</td><td>6fc5e_00009</td></tr>\n",
       "<tr><td>_tune_wrapper_6fc5e_00010</td><td>checkpoint_000003    </td><td>2025-06-04_18-36-40</td><td>True  </td><td>DESKTOP-B40NR52</td><td style=\"text-align: right;\">                         4</td><td style=\"text-align: right;\"> 95.8098</td><td style=\"text-align: right;\"> 96.3089</td><td>127.0.0.1</td><td style=\"text-align: right;\">16168</td><td>True               </td><td style=\"text-align: right;\">            1240.52 </td><td style=\"text-align: right;\">           284.397</td><td style=\"text-align: right;\">      1240.52 </td><td style=\"text-align: right;\"> 1749055000</td><td style=\"text-align: right;\">                   4</td><td>6fc5e_00010</td></tr>\n",
       "<tr><td>_tune_wrapper_6fc5e_00011</td><td>checkpoint_000000    </td><td>2025-06-04_18-42-33</td><td>True  </td><td>DESKTOP-B40NR52</td><td style=\"text-align: right;\">                         1</td><td style=\"text-align: right;\">534.602 </td><td style=\"text-align: right;\">535.101 </td><td>127.0.0.1</td><td style=\"text-align: right;\">19560</td><td>True               </td><td style=\"text-align: right;\">             332.069</td><td style=\"text-align: right;\">           332.069</td><td style=\"text-align: right;\">       332.069</td><td style=\"text-align: right;\"> 1749055353</td><td style=\"text-align: right;\">                   1</td><td>6fc5e_00011</td></tr>\n",
       "<tr><td>_tune_wrapper_6fc5e_00012</td><td>checkpoint_000000    </td><td>2025-06-04_18-53-20</td><td>True  </td><td>DESKTOP-B40NR52</td><td style=\"text-align: right;\">                         1</td><td style=\"text-align: right;\">233.336 </td><td style=\"text-align: right;\">233.836 </td><td>127.0.0.1</td><td style=\"text-align: right;\"> 2068</td><td>True               </td><td style=\"text-align: right;\">             633.341</td><td style=\"text-align: right;\">           633.341</td><td style=\"text-align: right;\">       633.341</td><td style=\"text-align: right;\"> 1749056000</td><td style=\"text-align: right;\">                   1</td><td>6fc5e_00012</td></tr>\n",
       "<tr><td>_tune_wrapper_6fc5e_00013</td><td>checkpoint_000000    </td><td>2025-06-04_19-04-41</td><td>True  </td><td>DESKTOP-B40NR52</td><td style=\"text-align: right;\">                         1</td><td style=\"text-align: right;\">311.729 </td><td style=\"text-align: right;\">312.228 </td><td>127.0.0.1</td><td style=\"text-align: right;\"> 3304</td><td>True               </td><td style=\"text-align: right;\">             666.953</td><td style=\"text-align: right;\">           666.953</td><td style=\"text-align: right;\">       666.953</td><td style=\"text-align: right;\"> 1749056681</td><td style=\"text-align: right;\">                   1</td><td>6fc5e_00013</td></tr>\n",
       "<tr><td>_tune_wrapper_6fc5e_00014</td><td>checkpoint_000001    </td><td>2025-06-04_19-24-47</td><td>True  </td><td>DESKTOP-B40NR52</td><td style=\"text-align: right;\">                         2</td><td style=\"text-align: right;\">171.18  </td><td style=\"text-align: right;\">171.679 </td><td>127.0.0.1</td><td style=\"text-align: right;\">13376</td><td>True               </td><td style=\"text-align: right;\">            1192    </td><td style=\"text-align: right;\">           516.646</td><td style=\"text-align: right;\">      1192    </td><td style=\"text-align: right;\"> 1749057887</td><td style=\"text-align: right;\">                   2</td><td>6fc5e_00014</td></tr>\n",
       "<tr><td>_tune_wrapper_6fc5e_00015</td><td>checkpoint_000001    </td><td>2025-06-04_19-42-33</td><td>True  </td><td>DESKTOP-B40NR52</td><td style=\"text-align: right;\">                         2</td><td style=\"text-align: right;\">205.206 </td><td style=\"text-align: right;\">205.705 </td><td>127.0.0.1</td><td style=\"text-align: right;\">13196</td><td>True               </td><td style=\"text-align: right;\">            1051.54 </td><td style=\"text-align: right;\">           472.727</td><td style=\"text-align: right;\">      1051.54 </td><td style=\"text-align: right;\"> 1749058953</td><td style=\"text-align: right;\">                   2</td><td>6fc5e_00015</td></tr>\n",
       "<tr><td>_tune_wrapper_6fc5e_00016</td><td>checkpoint_000000    </td><td>2025-06-04_19-53-05</td><td>True  </td><td>DESKTOP-B40NR52</td><td style=\"text-align: right;\">                         1</td><td style=\"text-align: right;\">222.814 </td><td style=\"text-align: right;\">223.313 </td><td>127.0.0.1</td><td style=\"text-align: right;\"> 6368</td><td>True               </td><td style=\"text-align: right;\">             618.402</td><td style=\"text-align: right;\">           618.402</td><td style=\"text-align: right;\">       618.402</td><td style=\"text-align: right;\"> 1749059585</td><td style=\"text-align: right;\">                   1</td><td>6fc5e_00016</td></tr>\n",
       "<tr><td>_tune_wrapper_6fc5e_00017</td><td>checkpoint_000003    </td><td>2025-06-04_20-31-14</td><td>True  </td><td>DESKTOP-B40NR52</td><td style=\"text-align: right;\">                         4</td><td style=\"text-align: right;\">102.999 </td><td style=\"text-align: right;\">103.498 </td><td>127.0.0.1</td><td style=\"text-align: right;\"> 5736</td><td>True               </td><td style=\"text-align: right;\">            2276.23 </td><td style=\"text-align: right;\">           531.045</td><td style=\"text-align: right;\">      2276.23 </td><td style=\"text-align: right;\"> 1749061874</td><td style=\"text-align: right;\">                   4</td><td>6fc5e_00017</td></tr>\n",
       "<tr><td>_tune_wrapper_6fc5e_00018</td><td>checkpoint_000003    </td><td>2025-06-04_21-12-52</td><td>True  </td><td>DESKTOP-B40NR52</td><td style=\"text-align: right;\">                         4</td><td style=\"text-align: right;\">106.158 </td><td style=\"text-align: right;\">106.657 </td><td>127.0.0.1</td><td style=\"text-align: right;\">17556</td><td>True               </td><td style=\"text-align: right;\">            2474.5  </td><td style=\"text-align: right;\">           652.032</td><td style=\"text-align: right;\">      2474.5  </td><td style=\"text-align: right;\"> 1749064372</td><td style=\"text-align: right;\">                   4</td><td>6fc5e_00018</td></tr>\n",
       "<tr><td>_tune_wrapper_6fc5e_00019</td><td>checkpoint_000000    </td><td>2025-06-04_21-26-31</td><td>True  </td><td>DESKTOP-B40NR52</td><td style=\"text-align: right;\">                         1</td><td style=\"text-align: right;\">274.745 </td><td style=\"text-align: right;\">275.244 </td><td>127.0.0.1</td><td style=\"text-align: right;\"> 9548</td><td>True               </td><td style=\"text-align: right;\">             805.581</td><td style=\"text-align: right;\">           805.581</td><td style=\"text-align: right;\">       805.581</td><td style=\"text-align: right;\"> 1749065191</td><td style=\"text-align: right;\">                   1</td><td>6fc5e_00019</td></tr>\n",
       "<tr><td>_tune_wrapper_6fc5e_00020</td><td>checkpoint_000003    </td><td>2025-06-04_22-04-34</td><td>True  </td><td>DESKTOP-B40NR52</td><td style=\"text-align: right;\">                         4</td><td style=\"text-align: right;\">108.29  </td><td style=\"text-align: right;\">108.789 </td><td>127.0.0.1</td><td style=\"text-align: right;\"> 5860</td><td>True               </td><td style=\"text-align: right;\">            2267.54 </td><td style=\"text-align: right;\">           536.928</td><td style=\"text-align: right;\">      2267.54 </td><td style=\"text-align: right;\"> 1749067474</td><td style=\"text-align: right;\">                   4</td><td>6fc5e_00020</td></tr>\n",
       "<tr><td>_tune_wrapper_6fc5e_00021</td><td>checkpoint_000001    </td><td>2025-06-04_22-27-18</td><td>True  </td><td>DESKTOP-B40NR52</td><td style=\"text-align: right;\">                         2</td><td style=\"text-align: right;\">162.85  </td><td style=\"text-align: right;\">163.349 </td><td>127.0.0.1</td><td style=\"text-align: right;\"> 5692</td><td>True               </td><td style=\"text-align: right;\">            1350.02 </td><td style=\"text-align: right;\">           656.565</td><td style=\"text-align: right;\">      1350.02 </td><td style=\"text-align: right;\"> 1749068838</td><td style=\"text-align: right;\">                   2</td><td>6fc5e_00021</td></tr>\n",
       "<tr><td>_tune_wrapper_6fc5e_00022</td><td>checkpoint_000000    </td><td>2025-06-04_22-38-51</td><td>True  </td><td>DESKTOP-B40NR52</td><td style=\"text-align: right;\">                         1</td><td style=\"text-align: right;\">242.073 </td><td style=\"text-align: right;\">242.572 </td><td>127.0.0.1</td><td style=\"text-align: right;\"> 7564</td><td>True               </td><td style=\"text-align: right;\">             676.219</td><td style=\"text-align: right;\">           676.219</td><td style=\"text-align: right;\">       676.219</td><td style=\"text-align: right;\"> 1749069531</td><td style=\"text-align: right;\">                   1</td><td>6fc5e_00022</td></tr>\n",
       "<tr><td>_tune_wrapper_6fc5e_00023</td><td>checkpoint_000001    </td><td>2025-06-04_23-04-21</td><td>True  </td><td>DESKTOP-B40NR52</td><td style=\"text-align: right;\">                         2</td><td style=\"text-align: right;\">164.062 </td><td style=\"text-align: right;\">164.562 </td><td>127.0.0.1</td><td style=\"text-align: right;\"> 9372</td><td>True               </td><td style=\"text-align: right;\">            1513.28 </td><td style=\"text-align: right;\">           742.296</td><td style=\"text-align: right;\">      1513.28 </td><td style=\"text-align: right;\"> 1749071061</td><td style=\"text-align: right;\">                   2</td><td>6fc5e_00023</td></tr>\n",
       "<tr><td>_tune_wrapper_6fc5e_00024</td><td>checkpoint_000007    </td><td>2025-06-05_00-26-32</td><td>True  </td><td>DESKTOP-B40NR52</td><td style=\"text-align: right;\">                         8</td><td style=\"text-align: right;\">108.965 </td><td style=\"text-align: right;\">109.464 </td><td>127.0.0.1</td><td style=\"text-align: right;\"> 3108</td><td>True               </td><td style=\"text-align: right;\">            4915.35 </td><td style=\"text-align: right;\">           568.547</td><td style=\"text-align: right;\">      4915.35 </td><td style=\"text-align: right;\"> 1749075992</td><td style=\"text-align: right;\">                   8</td><td>6fc5e_00024</td></tr>\n",
       "<tr><td>_tune_wrapper_6fc5e_00025</td><td>checkpoint_000000    </td><td>2025-06-05_00-36-43</td><td>True  </td><td>DESKTOP-B40NR52</td><td style=\"text-align: right;\">                         1</td><td style=\"text-align: right;\">222.76  </td><td style=\"text-align: right;\">223.259 </td><td>127.0.0.1</td><td style=\"text-align: right;\">15104</td><td>True               </td><td style=\"text-align: right;\">             597.338</td><td style=\"text-align: right;\">           597.338</td><td style=\"text-align: right;\">       597.338</td><td style=\"text-align: right;\"> 1749076603</td><td style=\"text-align: right;\">                   1</td><td>6fc5e_00025</td></tr>\n",
       "<tr><td>_tune_wrapper_6fc5e_00026</td><td>checkpoint_000000    </td><td>2025-06-05_00-47-04</td><td>True  </td><td>DESKTOP-B40NR52</td><td style=\"text-align: right;\">                         1</td><td style=\"text-align: right;\">374.388 </td><td style=\"text-align: right;\">374.888 </td><td>127.0.0.1</td><td style=\"text-align: right;\">17772</td><td>True               </td><td style=\"text-align: right;\">             610.27 </td><td style=\"text-align: right;\">           610.27 </td><td style=\"text-align: right;\">       610.27 </td><td style=\"text-align: right;\"> 1749077224</td><td style=\"text-align: right;\">                   1</td><td>6fc5e_00026</td></tr>\n",
       "<tr><td>_tune_wrapper_6fc5e_00027</td><td>checkpoint_000014    </td><td>2025-06-05_03-18-37</td><td>True  </td><td>DESKTOP-B40NR52</td><td style=\"text-align: right;\">                        15</td><td style=\"text-align: right;\"> 75.3937</td><td style=\"text-align: right;\"> 75.8927</td><td>127.0.0.1</td><td style=\"text-align: right;\">18376</td><td>True               </td><td style=\"text-align: right;\">            9079.91 </td><td style=\"text-align: right;\">           598.196</td><td style=\"text-align: right;\">      9079.91 </td><td style=\"text-align: right;\"> 1749086317</td><td style=\"text-align: right;\">                  15</td><td>6fc5e_00027</td></tr>\n",
       "<tr><td>_tune_wrapper_6fc5e_00028</td><td>checkpoint_000007    </td><td>2025-06-05_04-44-09</td><td>True  </td><td>DESKTOP-B40NR52</td><td style=\"text-align: right;\">                         8</td><td style=\"text-align: right;\"> 93.5199</td><td style=\"text-align: right;\"> 94.0189</td><td>127.0.0.1</td><td style=\"text-align: right;\"> 5224</td><td>True               </td><td style=\"text-align: right;\">            5117.9  </td><td style=\"text-align: right;\">           626.178</td><td style=\"text-align: right;\">      5117.9  </td><td style=\"text-align: right;\"> 1749091449</td><td style=\"text-align: right;\">                   8</td><td>6fc5e_00028</td></tr>\n",
       "<tr><td>_tune_wrapper_6fc5e_00029</td><td>checkpoint_000003    </td><td>2025-06-05_05-25-25</td><td>True  </td><td>DESKTOP-B40NR52</td><td style=\"text-align: right;\">                         4</td><td style=\"text-align: right;\">106.1   </td><td style=\"text-align: right;\">106.599 </td><td>127.0.0.1</td><td style=\"text-align: right;\">18356</td><td>True               </td><td style=\"text-align: right;\">            2463.13 </td><td style=\"text-align: right;\">           588.535</td><td style=\"text-align: right;\">      2463.13 </td><td style=\"text-align: right;\"> 1749093925</td><td style=\"text-align: right;\">                   4</td><td>6fc5e_00029</td></tr>\n",
       "<tr><td>_tune_wrapper_6fc5e_00030</td><td>checkpoint_000003    </td><td>2025-06-05_06-09-56</td><td>True  </td><td>DESKTOP-B40NR52</td><td style=\"text-align: right;\">                         4</td><td style=\"text-align: right;\">115.663 </td><td style=\"text-align: right;\">116.162 </td><td>127.0.0.1</td><td style=\"text-align: right;\"> 7632</td><td>True               </td><td style=\"text-align: right;\">            2656.75 </td><td style=\"text-align: right;\">           637.983</td><td style=\"text-align: right;\">      2656.75 </td><td style=\"text-align: right;\"> 1749096596</td><td style=\"text-align: right;\">                   4</td><td>6fc5e_00030</td></tr>\n",
       "<tr><td>_tune_wrapper_6fc5e_00031</td><td>checkpoint_000007    </td><td>2025-06-05_07-35-06</td><td>True  </td><td>DESKTOP-B40NR52</td><td style=\"text-align: right;\">                         8</td><td style=\"text-align: right;\"> 96.0067</td><td style=\"text-align: right;\"> 96.5058</td><td>127.0.0.1</td><td style=\"text-align: right;\"> 2300</td><td>True               </td><td style=\"text-align: right;\">            5098.99 </td><td style=\"text-align: right;\">           624.316</td><td style=\"text-align: right;\">      5098.99 </td><td style=\"text-align: right;\"> 1749101706</td><td style=\"text-align: right;\">                   8</td><td>6fc5e_00031</td></tr>\n",
       "<tr><td>_tune_wrapper_6fc5e_00032</td><td>checkpoint_000000    </td><td>2025-06-05_07-46-29</td><td>True  </td><td>DESKTOP-B40NR52</td><td style=\"text-align: right;\">                         1</td><td style=\"text-align: right;\">221.238 </td><td style=\"text-align: right;\">221.738 </td><td>127.0.0.1</td><td style=\"text-align: right;\">13940</td><td>True               </td><td style=\"text-align: right;\">             672.025</td><td style=\"text-align: right;\">           672.025</td><td style=\"text-align: right;\">       672.025</td><td style=\"text-align: right;\"> 1749102389</td><td style=\"text-align: right;\">                   1</td><td>6fc5e_00032</td></tr>\n",
       "<tr><td>_tune_wrapper_6fc5e_00033</td><td>checkpoint_000000    </td><td>2025-06-05_07-57-20</td><td>True  </td><td>DESKTOP-B40NR52</td><td style=\"text-align: right;\">                         1</td><td style=\"text-align: right;\">242.328 </td><td style=\"text-align: right;\">242.828 </td><td>127.0.0.1</td><td style=\"text-align: right;\">14380</td><td>True               </td><td style=\"text-align: right;\">             635.715</td><td style=\"text-align: right;\">           635.715</td><td style=\"text-align: right;\">       635.715</td><td style=\"text-align: right;\"> 1749103040</td><td style=\"text-align: right;\">                   1</td><td>6fc5e_00033</td></tr>\n",
       "<tr><td>_tune_wrapper_6fc5e_00034</td><td>checkpoint_000000    </td><td>2025-06-05_08-06-45</td><td>True  </td><td>DESKTOP-B40NR52</td><td style=\"text-align: right;\">                         1</td><td style=\"text-align: right;\">225.208 </td><td style=\"text-align: right;\">225.707 </td><td>127.0.0.1</td><td style=\"text-align: right;\">20152</td><td>True               </td><td style=\"text-align: right;\">             554.831</td><td style=\"text-align: right;\">           554.831</td><td style=\"text-align: right;\">       554.831</td><td style=\"text-align: right;\"> 1749103605</td><td style=\"text-align: right;\">                   1</td><td>6fc5e_00034</td></tr>\n",
       "<tr><td>_tune_wrapper_6fc5e_00035</td><td>checkpoint_000000    </td><td>2025-06-05_08-18-04</td><td>True  </td><td>DESKTOP-B40NR52</td><td style=\"text-align: right;\">                         1</td><td style=\"text-align: right;\">220.598 </td><td style=\"text-align: right;\">221.098 </td><td>127.0.0.1</td><td style=\"text-align: right;\">14164</td><td>True               </td><td style=\"text-align: right;\">             665.663</td><td style=\"text-align: right;\">           665.663</td><td style=\"text-align: right;\">       665.663</td><td style=\"text-align: right;\"> 1749104284</td><td style=\"text-align: right;\">                   1</td><td>6fc5e_00035</td></tr>\n",
       "</tbody>\n",
       "</table>\n",
       "</div>\n",
       "<style>\n",
       ".trialProgress {\n",
       "  display: flex;\n",
       "  flex-direction: column;\n",
       "  color: var(--jp-ui-font-color1);\n",
       "}\n",
       ".trialProgress h3 {\n",
       "  font-weight: bold;\n",
       "}\n",
       ".trialProgress td {\n",
       "  white-space: nowrap;\n",
       "}\n",
       "</style>\n"
      ],
      "text/plain": [
       "<IPython.core.display.HTML object>"
      ]
     },
     "metadata": {},
     "output_type": "display_data"
    },
    {
     "name": "stderr",
     "output_type": "stream",
     "text": [
      "\u001b[36m(_tune_wrapper pid=20316)\u001b[0m Checkpoint successfully created at: Checkpoint(filesystem=local, path=c:/Users/Youssef/Desktop/TFG/eye-tracker-vocacions/src/logs/full/tune_20250604-161552/6fc5e_00000/checkpoint_000000)\n",
      "\u001b[36m(_tune_wrapper pid=20316)\u001b[0m Checkpoint successfully created at: Checkpoint(filesystem=local, path=c:/Users/Youssef/Desktop/TFG/eye-tracker-vocacions/src/logs/full/tune_20250604-161552/6fc5e_00000/checkpoint_000001)\n",
      "\u001b[36m(_tune_wrapper pid=20316)\u001b[0m Checkpoint successfully created at: Checkpoint(filesystem=local, path=c:/Users/Youssef/Desktop/TFG/eye-tracker-vocacions/src/logs/full/tune_20250604-161552/6fc5e_00000/checkpoint_000002)\n",
      "\u001b[36m(_tune_wrapper pid=20316)\u001b[0m Checkpoint successfully created at: Checkpoint(filesystem=local, path=c:/Users/Youssef/Desktop/TFG/eye-tracker-vocacions/src/logs/full/tune_20250604-161552/6fc5e_00000/checkpoint_000003)\n",
      "\u001b[36m(_tune_wrapper pid=20316)\u001b[0m Checkpoint successfully created at: Checkpoint(filesystem=local, path=c:/Users/Youssef/Desktop/TFG/eye-tracker-vocacions/src/logs/full/tune_20250604-161552/6fc5e_00000/checkpoint_000004)\n",
      "\u001b[36m(_tune_wrapper pid=20316)\u001b[0m Checkpoint successfully created at: Checkpoint(filesystem=local, path=c:/Users/Youssef/Desktop/TFG/eye-tracker-vocacions/src/logs/full/tune_20250604-161552/6fc5e_00000/checkpoint_000005)\n",
      "\u001b[36m(_tune_wrapper pid=20316)\u001b[0m Checkpoint successfully created at: Checkpoint(filesystem=local, path=c:/Users/Youssef/Desktop/TFG/eye-tracker-vocacions/src/logs/full/tune_20250604-161552/6fc5e_00000/checkpoint_000006)\n",
      "\u001b[36m(_tune_wrapper pid=20316)\u001b[0m Checkpoint successfully created at: Checkpoint(filesystem=local, path=c:/Users/Youssef/Desktop/TFG/eye-tracker-vocacions/src/logs/full/tune_20250604-161552/6fc5e_00000/checkpoint_000007)\n",
      "\u001b[36m(_tune_wrapper pid=20316)\u001b[0m Checkpoint successfully created at: Checkpoint(filesystem=local, path=c:/Users/Youssef/Desktop/TFG/eye-tracker-vocacions/src/logs/full/tune_20250604-161552/6fc5e_00000/checkpoint_000008)\n",
      "\u001b[36m(_tune_wrapper pid=20316)\u001b[0m Checkpoint successfully created at: Checkpoint(filesystem=local, path=c:/Users/Youssef/Desktop/TFG/eye-tracker-vocacions/src/logs/full/tune_20250604-161552/6fc5e_00000/checkpoint_000009)\n",
      "\u001b[36m(_tune_wrapper pid=20316)\u001b[0m Checkpoint successfully created at: Checkpoint(filesystem=local, path=c:/Users/Youssef/Desktop/TFG/eye-tracker-vocacions/src/logs/full/tune_20250604-161552/6fc5e_00000/checkpoint_000010)\n",
      "\u001b[36m(_tune_wrapper pid=20316)\u001b[0m Checkpoint successfully created at: Checkpoint(filesystem=local, path=c:/Users/Youssef/Desktop/TFG/eye-tracker-vocacions/src/logs/full/tune_20250604-161552/6fc5e_00000/checkpoint_000011)\n",
      "\u001b[36m(_tune_wrapper pid=20316)\u001b[0m Checkpoint successfully created at: Checkpoint(filesystem=local, path=c:/Users/Youssef/Desktop/TFG/eye-tracker-vocacions/src/logs/full/tune_20250604-161552/6fc5e_00000/checkpoint_000012)\n",
      "\u001b[36m(_tune_wrapper pid=20316)\u001b[0m Checkpoint successfully created at: Checkpoint(filesystem=local, path=c:/Users/Youssef/Desktop/TFG/eye-tracker-vocacions/src/logs/full/tune_20250604-161552/6fc5e_00000/checkpoint_000013)\n",
      "2025-06-04 17:04:11,021\tINFO tensorboardx.py:308 -- Removed the following hyperparameter values when logging to tensorboard: {'face_channels': (32, 64, 128), 'eye_channels': (32, 64, 128), 'head_pos_channels': (16, 32, 64)}\n",
      "\u001b[36m(_tune_wrapper pid=20316)\u001b[0m Checkpoint successfully created at: Checkpoint(filesystem=local, path=c:/Users/Youssef/Desktop/TFG/eye-tracker-vocacions/src/logs/full/tune_20250604-161552/6fc5e_00000/checkpoint_000014)\n",
      "\u001b[36m(_tune_wrapper pid=1268)\u001b[0m Seed set to 202\n",
      "\u001b[36m(_tune_wrapper pid=1268)\u001b[0m Using bfloat16 Automatic Mixed Precision (AMP)\n",
      "\u001b[36m(_tune_wrapper pid=1268)\u001b[0m Using default `ModelCheckpoint`. Consider installing `litmodels` package to enable `LitModelCheckpoint` for automatic upload to the Lightning model registry.\n",
      "\u001b[36m(_tune_wrapper pid=1268)\u001b[0m GPU available: True (cuda), used: True\n",
      "\u001b[36m(_tune_wrapper pid=1268)\u001b[0m TPU available: False, using: 0 TPU cores\n",
      "\u001b[36m(_tune_wrapper pid=1268)\u001b[0m HPU available: False, using: 0 HPUs\n",
      "\u001b[36m(_tune_wrapper pid=1268)\u001b[0m LOCAL_RANK: 0 - CUDA_VISIBLE_DEVICES: [0]\n",
      "\u001b[36m(_tune_wrapper pid=1268)\u001b[0m \n",
      "\u001b[36m(_tune_wrapper pid=1268)\u001b[0m   | Name       | Type              | Params | Mode  | In sizes       | Out sizes     \n",
      "\u001b[36m(_tune_wrapper pid=1268)\u001b[0m -------------------------------------------------------------------------------------------\n",
      "\u001b[36m(_tune_wrapper pid=1268)\u001b[0m 0 | criterion  | SmoothL1Loss      | 0      | train | ?              | ?             \n",
      "\u001b[36m(_tune_wrapper pid=1268)\u001b[0m 1 | mae        | MeanAbsoluteError | 0      | train | ?              | ?             \n",
      "\u001b[36m(_tune_wrapper pid=1268)\u001b[0m 2 | mse        | MeanSquaredError  | 0      | train | ?              | ?             \n",
      "\u001b[36m(_tune_wrapper pid=1268)\u001b[0m 3 | rmse       | MeanSquaredError  | 0      | train | ?              | ?             \n",
      "\u001b[36m(_tune_wrapper pid=1268)\u001b[0m 4 | face_stack | ConvStack         | 371 K  | train | [1, 3, 64, 64] | [1, 256, 1, 1]\n",
      "\u001b[36m(_tune_wrapper pid=1268)\u001b[0m 5 | l_stack    | ConvStack         | 93.5 K | train | [1, 3, 64, 64] | [1, 128, 1, 1]\n",
      "\u001b[36m(_tune_wrapper pid=1268)\u001b[0m 6 | r_stack    | ConvStack         | 93.5 K | train | [1, 3, 64, 64] | [1, 128, 1, 1]\n",
      "\u001b[36m(_tune_wrapper pid=1268)\u001b[0m 7 | head_stack | ConvStack         | 23.4 K | train | [1, 1, 64, 64] | [1, 64, 1, 1] \n",
      "\u001b[36m(_tune_wrapper pid=1268)\u001b[0m 8 | regressor  | Sequential        | 445 K  | train | [1, 577]       | [1, 2]        \n",
      "\u001b[36m(_tune_wrapper pid=1268)\u001b[0m -------------------------------------------------------------------------------------------\n",
      "\u001b[36m(_tune_wrapper pid=1268)\u001b[0m 1.0 M     Trainable params\n",
      "\u001b[36m(_tune_wrapper pid=1268)\u001b[0m 0         Non-trainable params\n",
      "\u001b[36m(_tune_wrapper pid=1268)\u001b[0m 1.0 M     Total params\n",
      "\u001b[36m(_tune_wrapper pid=1268)\u001b[0m 4.108     Total estimated model params size (MB)\n",
      "\u001b[36m(_tune_wrapper pid=1268)\u001b[0m 76        Modules in train mode\n",
      "\u001b[36m(_tune_wrapper pid=1268)\u001b[0m 0         Modules in eval mode\n",
      "\u001b[36m(_tune_wrapper pid=1268)\u001b[0m Checkpoint successfully created at: Checkpoint(filesystem=local, path=c:/Users/Youssef/Desktop/TFG/eye-tracker-vocacions/src/logs/full/tune_20250604-161552/6fc5e_00001/checkpoint_000000)\n",
      "2025-06-04 17:12:47,440\tINFO tensorboardx.py:308 -- Removed the following hyperparameter values when logging to tensorboard: {'face_channels': (64, 128, 256), 'eye_channels': (32, 64, 128), 'head_pos_channels': (16, 32, 64)}\n",
      "\u001b[36m(_tune_wrapper pid=1268)\u001b[0m Checkpoint successfully created at: Checkpoint(filesystem=local, path=c:/Users/Youssef/Desktop/TFG/eye-tracker-vocacions/src/logs/full/tune_20250604-161552/6fc5e_00001/checkpoint_000001)\n",
      "\u001b[36m(_tune_wrapper pid=5212)\u001b[0m Seed set to 7152\n",
      "\u001b[36m(_tune_wrapper pid=5212)\u001b[0m Using bfloat16 Automatic Mixed Precision (AMP)\n",
      "\u001b[36m(_tune_wrapper pid=5212)\u001b[0m Using default `ModelCheckpoint`. Consider installing `litmodels` package to enable `LitModelCheckpoint` for automatic upload to the Lightning model registry.\n",
      "\u001b[36m(_tune_wrapper pid=5212)\u001b[0m GPU available: True (cuda), used: True\n",
      "\u001b[36m(_tune_wrapper pid=5212)\u001b[0m TPU available: False, using: 0 TPU cores\n",
      "\u001b[36m(_tune_wrapper pid=5212)\u001b[0m HPU available: False, using: 0 HPUs\n",
      "\u001b[36m(_tune_wrapper pid=5212)\u001b[0m LOCAL_RANK: 0 - CUDA_VISIBLE_DEVICES: [0]\n",
      "\u001b[36m(_tune_wrapper pid=5212)\u001b[0m \n",
      "\u001b[36m(_tune_wrapper pid=5212)\u001b[0m   | Name       | Type              | Params | Mode  | In sizes       | Out sizes     \n",
      "\u001b[36m(_tune_wrapper pid=5212)\u001b[0m -------------------------------------------------------------------------------------------\n",
      "\u001b[36m(_tune_wrapper pid=5212)\u001b[0m 0 | criterion  | SmoothL1Loss      | 0      | train | ?              | ?             \n",
      "\u001b[36m(_tune_wrapper pid=5212)\u001b[0m 1 | mae        | MeanAbsoluteError | 0      | train | ?              | ?             \n",
      "\u001b[36m(_tune_wrapper pid=5212)\u001b[0m 2 | mse        | MeanSquaredError  | 0      | train | ?              | ?             \n",
      "\u001b[36m(_tune_wrapper pid=5212)\u001b[0m 3 | rmse       | MeanSquaredError  | 0      | train | ?              | ?             \n",
      "\u001b[36m(_tune_wrapper pid=5212)\u001b[0m 4 | face_stack | ConvStack         | 93.5 K | train | [1, 3, 64, 64] | [1, 128, 1, 1]\n",
      "\u001b[36m(_tune_wrapper pid=5212)\u001b[0m 5 | l_stack    | ConvStack         | 371 K  | train | [1, 3, 64, 64] | [1, 256, 1, 1]\n",
      "\u001b[36m(_tune_wrapper pid=5212)\u001b[0m 6 | r_stack    | ConvStack         | 371 K  | train | [1, 3, 64, 64] | [1, 256, 1, 1]\n",
      "\u001b[36m(_tune_wrapper pid=5212)\u001b[0m 7 | head_stack | ConvStack         | 23.4 K | train | [1, 1, 64, 64] | [1, 64, 1, 1] \n",
      "\u001b[36m(_tune_wrapper pid=5212)\u001b[0m 8 | regressor  | Sequential        | 362 K  | train | [1, 705]       | [1, 2]        \n",
      "\u001b[36m(_tune_wrapper pid=5212)\u001b[0m -------------------------------------------------------------------------------------------\n",
      "\u001b[36m(_tune_wrapper pid=5212)\u001b[0m 1.2 M     Trainable params\n",
      "\u001b[36m(_tune_wrapper pid=5212)\u001b[0m 0         Non-trainable params\n",
      "\u001b[36m(_tune_wrapper pid=5212)\u001b[0m 1.2 M     Total params\n",
      "\u001b[36m(_tune_wrapper pid=5212)\u001b[0m 4.888     Total estimated model params size (MB)\n",
      "\u001b[36m(_tune_wrapper pid=5212)\u001b[0m 76        Modules in train mode\n",
      "\u001b[36m(_tune_wrapper pid=5212)\u001b[0m 0         Modules in eval mode\n",
      "2025-06-04 17:18:29,565\tINFO tensorboardx.py:308 -- Removed the following hyperparameter values when logging to tensorboard: {'face_channels': (32, 64, 128), 'eye_channels': (64, 128, 256), 'head_pos_channels': (16, 32, 64)}\n",
      "\u001b[36m(_tune_wrapper pid=5212)\u001b[0m Checkpoint successfully created at: Checkpoint(filesystem=local, path=c:/Users/Youssef/Desktop/TFG/eye-tracker-vocacions/src/logs/full/tune_20250604-161552/6fc5e_00002/checkpoint_000000)\n",
      "\u001b[36m(_tune_wrapper pid=16056)\u001b[0m Seed set to 6882\n",
      "\u001b[36m(_tune_wrapper pid=16056)\u001b[0m Using bfloat16 Automatic Mixed Precision (AMP)\n",
      "\u001b[36m(_tune_wrapper pid=16056)\u001b[0m Using default `ModelCheckpoint`. Consider installing `litmodels` package to enable `LitModelCheckpoint` for automatic upload to the Lightning model registry.\n",
      "\u001b[36m(_tune_wrapper pid=16056)\u001b[0m GPU available: True (cuda), used: True\n",
      "\u001b[36m(_tune_wrapper pid=16056)\u001b[0m TPU available: False, using: 0 TPU cores\n",
      "\u001b[36m(_tune_wrapper pid=16056)\u001b[0m HPU available: False, using: 0 HPUs\n",
      "\u001b[36m(_tune_wrapper pid=16056)\u001b[0m LOCAL_RANK: 0 - CUDA_VISIBLE_DEVICES: [0]\n",
      "\u001b[36m(_tune_wrapper pid=16056)\u001b[0m \n",
      "\u001b[36m(_tune_wrapper pid=16056)\u001b[0m   | Name       | Type              | Params | Mode  | In sizes       | Out sizes     \n",
      "\u001b[36m(_tune_wrapper pid=16056)\u001b[0m -------------------------------------------------------------------------------------------\n",
      "\u001b[36m(_tune_wrapper pid=16056)\u001b[0m 0 | criterion  | SmoothL1Loss      | 0      | train | ?              | ?             \n",
      "\u001b[36m(_tune_wrapper pid=16056)\u001b[0m 1 | mae        | MeanAbsoluteError | 0      | train | ?              | ?             \n",
      "\u001b[36m(_tune_wrapper pid=16056)\u001b[0m 2 | mse        | MeanSquaredError  | 0      | train | ?              | ?             \n",
      "\u001b[36m(_tune_wrapper pid=16056)\u001b[0m 3 | rmse       | MeanSquaredError  | 0      | train | ?              | ?             \n",
      "\u001b[36m(_tune_wrapper pid=16056)\u001b[0m 4 | face_stack | ConvStack         | 209 K  | train | [1, 3, 64, 64] | [1, 192, 1, 1]\n",
      "\u001b[36m(_tune_wrapper pid=16056)\u001b[0m 5 | l_stack    | ConvStack         | 209 K  | train | [1, 3, 64, 64] | [1, 192, 1, 1]\n",
      "\u001b[36m(_tune_wrapper pid=16056)\u001b[0m 6 | r_stack    | ConvStack         | 209 K  | train | [1, 3, 64, 64] | [1, 192, 1, 1]\n",
      "\u001b[36m(_tune_wrapper pid=16056)\u001b[0m 7 | head_stack | ConvStack         | 92.9 K | train | [1, 1, 64, 64] | [1, 128, 1, 1]\n",
      "\u001b[36m(_tune_wrapper pid=16056)\u001b[0m 8 | regressor  | Sequential        | 362 K  | train | [1, 705]       | [1, 2]        \n",
      "\u001b[36m(_tune_wrapper pid=16056)\u001b[0m -------------------------------------------------------------------------------------------\n",
      "\u001b[36m(_tune_wrapper pid=16056)\u001b[0m 1.1 M     Trainable params\n",
      "\u001b[36m(_tune_wrapper pid=16056)\u001b[0m 0         Non-trainable params\n",
      "\u001b[36m(_tune_wrapper pid=16056)\u001b[0m 1.1 M     Total params\n",
      "\u001b[36m(_tune_wrapper pid=16056)\u001b[0m 4.334     Total estimated model params size (MB)\n",
      "\u001b[36m(_tune_wrapper pid=16056)\u001b[0m 76        Modules in train mode\n",
      "\u001b[36m(_tune_wrapper pid=16056)\u001b[0m 0         Modules in eval mode\n",
      "\u001b[36m(_tune_wrapper pid=16056)\u001b[0m Checkpoint successfully created at: Checkpoint(filesystem=local, path=c:/Users/Youssef/Desktop/TFG/eye-tracker-vocacions/src/logs/full/tune_20250604-161552/6fc5e_00003/checkpoint_000000)\n",
      "\u001b[36m(_tune_wrapper pid=16056)\u001b[0m Checkpoint successfully created at: Checkpoint(filesystem=local, path=c:/Users/Youssef/Desktop/TFG/eye-tracker-vocacions/src/logs/full/tune_20250604-161552/6fc5e_00003/checkpoint_000001)\n",
      "\u001b[36m(_tune_wrapper pid=16056)\u001b[0m Checkpoint successfully created at: Checkpoint(filesystem=local, path=c:/Users/Youssef/Desktop/TFG/eye-tracker-vocacions/src/logs/full/tune_20250604-161552/6fc5e_00003/checkpoint_000002)\n",
      "2025-06-04 17:36:27,178\tINFO tensorboardx.py:308 -- Removed the following hyperparameter values when logging to tensorboard: {'face_channels': (48, 96, 192), 'eye_channels': (48, 96, 192), 'head_pos_channels': (32, 64, 128)}\n",
      "\u001b[36m(_tune_wrapper pid=16056)\u001b[0m Checkpoint successfully created at: Checkpoint(filesystem=local, path=c:/Users/Youssef/Desktop/TFG/eye-tracker-vocacions/src/logs/full/tune_20250604-161552/6fc5e_00003/checkpoint_000003)\n",
      "\u001b[36m(_tune_wrapper pid=20292)\u001b[0m Seed set to 4674\n",
      "\u001b[36m(_tune_wrapper pid=20292)\u001b[0m Using bfloat16 Automatic Mixed Precision (AMP)\n",
      "\u001b[36m(_tune_wrapper pid=20292)\u001b[0m Using default `ModelCheckpoint`. Consider installing `litmodels` package to enable `LitModelCheckpoint` for automatic upload to the Lightning model registry.\n",
      "\u001b[36m(_tune_wrapper pid=20292)\u001b[0m GPU available: True (cuda), used: True\n",
      "\u001b[36m(_tune_wrapper pid=20292)\u001b[0m TPU available: False, using: 0 TPU cores\n",
      "\u001b[36m(_tune_wrapper pid=20292)\u001b[0m HPU available: False, using: 0 HPUs\n",
      "\u001b[36m(_tune_wrapper pid=20292)\u001b[0m LOCAL_RANK: 0 - CUDA_VISIBLE_DEVICES: [0]\n",
      "\u001b[36m(_tune_wrapper pid=20292)\u001b[0m \n",
      "\u001b[36m(_tune_wrapper pid=20292)\u001b[0m   | Name       | Type              | Params | Mode  | In sizes       | Out sizes     \n",
      "\u001b[36m(_tune_wrapper pid=20292)\u001b[0m -------------------------------------------------------------------------------------------\n",
      "\u001b[36m(_tune_wrapper pid=20292)\u001b[0m 0 | criterion  | SmoothL1Loss      | 0      | train | ?              | ?             \n",
      "\u001b[36m(_tune_wrapper pid=20292)\u001b[0m 1 | mae        | MeanAbsoluteError | 0      | train | ?              | ?             \n",
      "\u001b[36m(_tune_wrapper pid=20292)\u001b[0m 2 | mse        | MeanSquaredError  | 0      | train | ?              | ?             \n",
      "\u001b[36m(_tune_wrapper pid=20292)\u001b[0m 3 | rmse       | MeanSquaredError  | 0      | train | ?              | ?             \n",
      "\u001b[36m(_tune_wrapper pid=20292)\u001b[0m 4 | face_stack | ConvStack         | 93.5 K | train | [1, 3, 64, 64] | [1, 128, 1, 1]\n",
      "\u001b[36m(_tune_wrapper pid=20292)\u001b[0m 5 | l_stack    | ConvStack         | 371 K  | train | [1, 3, 64, 64] | [1, 256, 1, 1]\n",
      "\u001b[36m(_tune_wrapper pid=20292)\u001b[0m 6 | r_stack    | ConvStack         | 371 K  | train | [1, 3, 64, 64] | [1, 256, 1, 1]\n",
      "\u001b[36m(_tune_wrapper pid=20292)\u001b[0m 7 | head_stack | ConvStack         | 52.4 K | train | [1, 1, 64, 64] | [1, 96, 1, 1] \n",
      "\u001b[36m(_tune_wrapper pid=20292)\u001b[0m 8 | regressor  | Sequential        | 378 K  | train | [1, 737]       | [1, 2]        \n",
      "\u001b[36m(_tune_wrapper pid=20292)\u001b[0m -------------------------------------------------------------------------------------------\n",
      "\u001b[36m(_tune_wrapper pid=20292)\u001b[0m 1.3 M     Trainable params\n",
      "\u001b[36m(_tune_wrapper pid=20292)\u001b[0m 0         Non-trainable params\n",
      "\u001b[36m(_tune_wrapper pid=20292)\u001b[0m 1.3 M     Total params\n",
      "\u001b[36m(_tune_wrapper pid=20292)\u001b[0m 5.069     Total estimated model params size (MB)\n",
      "\u001b[36m(_tune_wrapper pid=20292)\u001b[0m 76        Modules in train mode\n",
      "\u001b[36m(_tune_wrapper pid=20292)\u001b[0m 0         Modules in eval mode\n",
      "2025-06-04 17:42:38,264\tINFO tensorboardx.py:308 -- Removed the following hyperparameter values when logging to tensorboard: {'face_channels': (32, 64, 128), 'eye_channels': (64, 128, 256), 'head_pos_channels': (24, 48, 96)}\n",
      "\u001b[36m(_tune_wrapper pid=20292)\u001b[0m Checkpoint successfully created at: Checkpoint(filesystem=local, path=c:/Users/Youssef/Desktop/TFG/eye-tracker-vocacions/src/logs/full/tune_20250604-161552/6fc5e_00004/checkpoint_000000)\n",
      "\u001b[36m(_tune_wrapper pid=18436)\u001b[0m Seed set to 5848\n",
      "\u001b[36m(_tune_wrapper pid=18436)\u001b[0m Using bfloat16 Automatic Mixed Precision (AMP)\n",
      "\u001b[36m(_tune_wrapper pid=18436)\u001b[0m Using default `ModelCheckpoint`. Consider installing `litmodels` package to enable `LitModelCheckpoint` for automatic upload to the Lightning model registry.\n",
      "\u001b[36m(_tune_wrapper pid=18436)\u001b[0m GPU available: True (cuda), used: True\n",
      "\u001b[36m(_tune_wrapper pid=18436)\u001b[0m TPU available: False, using: 0 TPU cores\n",
      "\u001b[36m(_tune_wrapper pid=18436)\u001b[0m HPU available: False, using: 0 HPUs\n",
      "\u001b[36m(_tune_wrapper pid=18436)\u001b[0m LOCAL_RANK: 0 - CUDA_VISIBLE_DEVICES: [0]\n",
      "\u001b[36m(_tune_wrapper pid=18436)\u001b[0m \n",
      "\u001b[36m(_tune_wrapper pid=18436)\u001b[0m   | Name       | Type              | Params | Mode  | In sizes       | Out sizes     \n",
      "\u001b[36m(_tune_wrapper pid=18436)\u001b[0m -------------------------------------------------------------------------------------------\n",
      "\u001b[36m(_tune_wrapper pid=18436)\u001b[0m 0 | criterion  | SmoothL1Loss      | 0      | train | ?              | ?             \n",
      "\u001b[36m(_tune_wrapper pid=18436)\u001b[0m 1 | mae        | MeanAbsoluteError | 0      | train | ?              | ?             \n",
      "\u001b[36m(_tune_wrapper pid=18436)\u001b[0m 2 | mse        | MeanSquaredError  | 0      | train | ?              | ?             \n",
      "\u001b[36m(_tune_wrapper pid=18436)\u001b[0m 3 | rmse       | MeanSquaredError  | 0      | train | ?              | ?             \n",
      "\u001b[36m(_tune_wrapper pid=18436)\u001b[0m 4 | face_stack | ConvStack         | 371 K  | train | [1, 3, 64, 64] | [1, 256, 1, 1]\n",
      "\u001b[36m(_tune_wrapper pid=18436)\u001b[0m 5 | l_stack    | ConvStack         | 371 K  | train | [1, 3, 64, 64] | [1, 256, 1, 1]\n",
      "\u001b[36m(_tune_wrapper pid=18436)\u001b[0m 6 | r_stack    | ConvStack         | 371 K  | train | [1, 3, 64, 64] | [1, 256, 1, 1]\n",
      "\u001b[36m(_tune_wrapper pid=18436)\u001b[0m 7 | head_stack | ConvStack         | 92.9 K | train | [1, 1, 64, 64] | [1, 128, 1, 1]\n",
      "\u001b[36m(_tune_wrapper pid=18436)\u001b[0m 8 | regressor  | Sequential        | 921 K  | train | [1, 897]       | [1, 2]        \n",
      "\u001b[36m(_tune_wrapper pid=18436)\u001b[0m -------------------------------------------------------------------------------------------\n",
      "\u001b[36m(_tune_wrapper pid=18436)\u001b[0m 2.1 M     Trainable params\n",
      "\u001b[36m(_tune_wrapper pid=18436)\u001b[0m 0         Non-trainable params\n",
      "\u001b[36m(_tune_wrapper pid=18436)\u001b[0m 2.1 M     Total params\n",
      "\u001b[36m(_tune_wrapper pid=18436)\u001b[0m 8.513     Total estimated model params size (MB)\n",
      "\u001b[36m(_tune_wrapper pid=18436)\u001b[0m 76        Modules in train mode\n",
      "\u001b[36m(_tune_wrapper pid=18436)\u001b[0m 0         Modules in eval mode\n",
      "2025-06-04 17:49:24,877\tINFO tensorboardx.py:308 -- Removed the following hyperparameter values when logging to tensorboard: {'face_channels': (64, 128, 256), 'eye_channels': (64, 128, 256), 'head_pos_channels': (32, 64, 128)}\n",
      "\u001b[36m(_tune_wrapper pid=18436)\u001b[0m Checkpoint successfully created at: Checkpoint(filesystem=local, path=c:/Users/Youssef/Desktop/TFG/eye-tracker-vocacions/src/logs/full/tune_20250604-161552/6fc5e_00005/checkpoint_000000)\n",
      "\u001b[36m(_tune_wrapper pid=14472)\u001b[0m Seed set to 8068\n",
      "\u001b[36m(_tune_wrapper pid=14472)\u001b[0m Using bfloat16 Automatic Mixed Precision (AMP)\n",
      "\u001b[36m(_tune_wrapper pid=14472)\u001b[0m Using default `ModelCheckpoint`. Consider installing `litmodels` package to enable `LitModelCheckpoint` for automatic upload to the Lightning model registry.\n",
      "\u001b[36m(_tune_wrapper pid=14472)\u001b[0m GPU available: True (cuda), used: True\n",
      "\u001b[36m(_tune_wrapper pid=14472)\u001b[0m TPU available: False, using: 0 TPU cores\n",
      "\u001b[36m(_tune_wrapper pid=14472)\u001b[0m HPU available: False, using: 0 HPUs\n",
      "\u001b[36m(_tune_wrapper pid=14472)\u001b[0m LOCAL_RANK: 0 - CUDA_VISIBLE_DEVICES: [0]\n",
      "\u001b[36m(_tune_wrapper pid=14472)\u001b[0m \n",
      "\u001b[36m(_tune_wrapper pid=14472)\u001b[0m   | Name       | Type              | Params | Mode  | In sizes       | Out sizes     \n",
      "\u001b[36m(_tune_wrapper pid=14472)\u001b[0m -------------------------------------------------------------------------------------------\n",
      "\u001b[36m(_tune_wrapper pid=14472)\u001b[0m 0 | criterion  | SmoothL1Loss      | 0      | train | ?              | ?             \n",
      "\u001b[36m(_tune_wrapper pid=14472)\u001b[0m 1 | mae        | MeanAbsoluteError | 0      | train | ?              | ?             \n",
      "\u001b[36m(_tune_wrapper pid=14472)\u001b[0m 2 | mse        | MeanSquaredError  | 0      | train | ?              | ?             \n",
      "\u001b[36m(_tune_wrapper pid=14472)\u001b[0m 3 | rmse       | MeanSquaredError  | 0      | train | ?              | ?             \n",
      "\u001b[36m(_tune_wrapper pid=14472)\u001b[0m 4 | face_stack | ConvStack         | 209 K  | train | [1, 3, 64, 64] | [1, 192, 1, 1]\n",
      "\u001b[36m(_tune_wrapper pid=14472)\u001b[0m 5 | l_stack    | ConvStack         | 209 K  | train | [1, 3, 64, 64] | [1, 192, 1, 1]\n",
      "\u001b[36m(_tune_wrapper pid=14472)\u001b[0m 6 | r_stack    | ConvStack         | 209 K  | train | [1, 3, 64, 64] | [1, 192, 1, 1]\n",
      "\u001b[36m(_tune_wrapper pid=14472)\u001b[0m 7 | head_stack | ConvStack         | 52.4 K | train | [1, 1, 64, 64] | [1, 96, 1, 1] \n",
      "\u001b[36m(_tune_wrapper pid=14472)\u001b[0m 8 | regressor  | Sequential        | 519 K  | train | [1, 673]       | [1, 2]        \n",
      "\u001b[36m(_tune_wrapper pid=14472)\u001b[0m -------------------------------------------------------------------------------------------\n",
      "\u001b[36m(_tune_wrapper pid=14472)\u001b[0m 1.2 M     Trainable params\n",
      "\u001b[36m(_tune_wrapper pid=14472)\u001b[0m 0         Non-trainable params\n",
      "\u001b[36m(_tune_wrapper pid=14472)\u001b[0m 1.2 M     Total params\n",
      "\u001b[36m(_tune_wrapper pid=14472)\u001b[0m 4.798     Total estimated model params size (MB)\n",
      "\u001b[36m(_tune_wrapper pid=14472)\u001b[0m 76        Modules in train mode\n",
      "\u001b[36m(_tune_wrapper pid=14472)\u001b[0m 0         Modules in eval mode\n",
      "\u001b[36m(_tune_wrapper pid=14472)\u001b[0m Checkpoint successfully created at: Checkpoint(filesystem=local, path=c:/Users/Youssef/Desktop/TFG/eye-tracker-vocacions/src/logs/full/tune_20250604-161552/6fc5e_00006/checkpoint_000000)\n",
      "2025-06-04 17:59:03,190\tINFO tensorboardx.py:308 -- Removed the following hyperparameter values when logging to tensorboard: {'face_channels': (48, 96, 192), 'eye_channels': (48, 96, 192), 'head_pos_channels': (24, 48, 96)}\n",
      "\u001b[36m(_tune_wrapper pid=14472)\u001b[0m Checkpoint successfully created at: Checkpoint(filesystem=local, path=c:/Users/Youssef/Desktop/TFG/eye-tracker-vocacions/src/logs/full/tune_20250604-161552/6fc5e_00006/checkpoint_000001)\n",
      "\u001b[36m(_tune_wrapper pid=19084)\u001b[0m Seed set to 8932\n",
      "\u001b[36m(_tune_wrapper pid=19084)\u001b[0m Using bfloat16 Automatic Mixed Precision (AMP)\n",
      "\u001b[36m(_tune_wrapper pid=19084)\u001b[0m Using default `ModelCheckpoint`. Consider installing `litmodels` package to enable `LitModelCheckpoint` for automatic upload to the Lightning model registry.\n",
      "\u001b[36m(_tune_wrapper pid=19084)\u001b[0m GPU available: True (cuda), used: True\n",
      "\u001b[36m(_tune_wrapper pid=19084)\u001b[0m TPU available: False, using: 0 TPU cores\n",
      "\u001b[36m(_tune_wrapper pid=19084)\u001b[0m HPU available: False, using: 0 HPUs\n",
      "\u001b[36m(_tune_wrapper pid=19084)\u001b[0m LOCAL_RANK: 0 - CUDA_VISIBLE_DEVICES: [0]\n",
      "\u001b[36m(_tune_wrapper pid=19084)\u001b[0m \n",
      "\u001b[36m(_tune_wrapper pid=19084)\u001b[0m   | Name       | Type              | Params | Mode  | In sizes       | Out sizes     \n",
      "\u001b[36m(_tune_wrapper pid=19084)\u001b[0m -------------------------------------------------------------------------------------------\n",
      "\u001b[36m(_tune_wrapper pid=19084)\u001b[0m 0 | criterion  | SmoothL1Loss      | 0      | train | ?              | ?             \n",
      "\u001b[36m(_tune_wrapper pid=19084)\u001b[0m 1 | mae        | MeanAbsoluteError | 0      | train | ?              | ?             \n",
      "\u001b[36m(_tune_wrapper pid=19084)\u001b[0m 2 | mse        | MeanSquaredError  | 0      | train | ?              | ?             \n",
      "\u001b[36m(_tune_wrapper pid=19084)\u001b[0m 3 | rmse       | MeanSquaredError  | 0      | train | ?              | ?             \n",
      "\u001b[36m(_tune_wrapper pid=19084)\u001b[0m 4 | face_stack | ConvStack         | 93.5 K | train | [1, 3, 64, 64] | [1, 128, 1, 1]\n",
      "\u001b[36m(_tune_wrapper pid=19084)\u001b[0m 5 | l_stack    | ConvStack         | 93.5 K | train | [1, 3, 64, 64] | [1, 128, 1, 1]\n",
      "\u001b[36m(_tune_wrapper pid=19084)\u001b[0m 6 | r_stack    | ConvStack         | 93.5 K | train | [1, 3, 64, 64] | [1, 128, 1, 1]\n",
      "\u001b[36m(_tune_wrapper pid=19084)\u001b[0m 7 | head_stack | ConvStack         | 52.4 K | train | [1, 1, 64, 64] | [1, 96, 1, 1] \n",
      "\u001b[36m(_tune_wrapper pid=19084)\u001b[0m 8 | regressor  | Sequential        | 495 K  | train | [1, 481]       | [1, 2]        \n",
      "\u001b[36m(_tune_wrapper pid=19084)\u001b[0m -------------------------------------------------------------------------------------------\n",
      "\u001b[36m(_tune_wrapper pid=19084)\u001b[0m 828 K     Trainable params\n",
      "\u001b[36m(_tune_wrapper pid=19084)\u001b[0m 0         Non-trainable params\n",
      "\u001b[36m(_tune_wrapper pid=19084)\u001b[0m 828 K     Total params\n",
      "\u001b[36m(_tune_wrapper pid=19084)\u001b[0m 3.314     Total estimated model params size (MB)\n",
      "\u001b[36m(_tune_wrapper pid=19084)\u001b[0m 76        Modules in train mode\n",
      "\u001b[36m(_tune_wrapper pid=19084)\u001b[0m 0         Modules in eval mode\n",
      "2025-06-04 18:04:13,420\tINFO tensorboardx.py:308 -- Removed the following hyperparameter values when logging to tensorboard: {'face_channels': (32, 64, 128), 'eye_channels': (32, 64, 128), 'head_pos_channels': (24, 48, 96)}\n",
      "\u001b[36m(_tune_wrapper pid=19084)\u001b[0m Checkpoint successfully created at: Checkpoint(filesystem=local, path=c:/Users/Youssef/Desktop/TFG/eye-tracker-vocacions/src/logs/full/tune_20250604-161552/6fc5e_00007/checkpoint_000000)\n",
      "\u001b[36m(_tune_wrapper pid=9296)\u001b[0m Seed set to 6252\n",
      "\u001b[36m(_tune_wrapper pid=9296)\u001b[0m Using bfloat16 Automatic Mixed Precision (AMP)\n",
      "\u001b[36m(_tune_wrapper pid=9296)\u001b[0m Using default `ModelCheckpoint`. Consider installing `litmodels` package to enable `LitModelCheckpoint` for automatic upload to the Lightning model registry.\n",
      "\u001b[36m(_tune_wrapper pid=9296)\u001b[0m GPU available: True (cuda), used: True\n",
      "\u001b[36m(_tune_wrapper pid=9296)\u001b[0m TPU available: False, using: 0 TPU cores\n",
      "\u001b[36m(_tune_wrapper pid=9296)\u001b[0m HPU available: False, using: 0 HPUs\n",
      "\u001b[36m(_tune_wrapper pid=9296)\u001b[0m LOCAL_RANK: 0 - CUDA_VISIBLE_DEVICES: [0]\n",
      "\u001b[36m(_tune_wrapper pid=9296)\u001b[0m \n",
      "\u001b[36m(_tune_wrapper pid=9296)\u001b[0m   | Name       | Type              | Params | Mode  | In sizes       | Out sizes     \n",
      "\u001b[36m(_tune_wrapper pid=9296)\u001b[0m -------------------------------------------------------------------------------------------\n",
      "\u001b[36m(_tune_wrapper pid=9296)\u001b[0m 0 | criterion  | SmoothL1Loss      | 0      | train | ?              | ?             \n",
      "\u001b[36m(_tune_wrapper pid=9296)\u001b[0m 1 | mae        | MeanAbsoluteError | 0      | train | ?              | ?             \n",
      "\u001b[36m(_tune_wrapper pid=9296)\u001b[0m 2 | mse        | MeanSquaredError  | 0      | train | ?              | ?             \n",
      "\u001b[36m(_tune_wrapper pid=9296)\u001b[0m 3 | rmse       | MeanSquaredError  | 0      | train | ?              | ?             \n",
      "\u001b[36m(_tune_wrapper pid=9296)\u001b[0m 4 | face_stack | ConvStack         | 93.5 K | train | [1, 3, 64, 64] | [1, 128, 1, 1]\n",
      "\u001b[36m(_tune_wrapper pid=9296)\u001b[0m 5 | l_stack    | ConvStack         | 209 K  | train | [1, 3, 64, 64] | [1, 192, 1, 1]\n",
      "\u001b[36m(_tune_wrapper pid=9296)\u001b[0m 6 | r_stack    | ConvStack         | 209 K  | train | [1, 3, 64, 64] | [1, 192, 1, 1]\n",
      "\u001b[36m(_tune_wrapper pid=9296)\u001b[0m 7 | head_stack | ConvStack         | 23.4 K | train | [1, 1, 64, 64] | [1, 64, 1, 1] \n",
      "\u001b[36m(_tune_wrapper pid=9296)\u001b[0m 8 | regressor  | Sequential        | 445 K  | train | [1, 577]       | [1, 2]        \n",
      "\u001b[36m(_tune_wrapper pid=9296)\u001b[0m -------------------------------------------------------------------------------------------\n",
      "\u001b[36m(_tune_wrapper pid=9296)\u001b[0m 980 K     Trainable params\n",
      "\u001b[36m(_tune_wrapper pid=9296)\u001b[0m 0         Non-trainable params\n",
      "\u001b[36m(_tune_wrapper pid=9296)\u001b[0m 980 K     Total params\n",
      "\u001b[36m(_tune_wrapper pid=9296)\u001b[0m 3.924     Total estimated model params size (MB)\n",
      "\u001b[36m(_tune_wrapper pid=9296)\u001b[0m 76        Modules in train mode\n",
      "\u001b[36m(_tune_wrapper pid=9296)\u001b[0m 0         Modules in eval mode\n",
      "\u001b[36m(_tune_wrapper pid=9296)\u001b[0m Checkpoint successfully created at: Checkpoint(filesystem=local, path=c:/Users/Youssef/Desktop/TFG/eye-tracker-vocacions/src/logs/full/tune_20250604-161552/6fc5e_00008/checkpoint_000000)\n",
      "2025-06-04 18:09:28,101\tINFO tensorboardx.py:308 -- Removed the following hyperparameter values when logging to tensorboard: {'face_channels': (32, 64, 128), 'eye_channels': (48, 96, 192), 'head_pos_channels': (16, 32, 64)}\n",
      "\u001b[36m(_tune_wrapper pid=4328)\u001b[0m Seed set to 7133\n",
      "\u001b[36m(_tune_wrapper pid=4328)\u001b[0m Using bfloat16 Automatic Mixed Precision (AMP)\n",
      "\u001b[36m(_tune_wrapper pid=4328)\u001b[0m Using default `ModelCheckpoint`. Consider installing `litmodels` package to enable `LitModelCheckpoint` for automatic upload to the Lightning model registry.\n",
      "\u001b[36m(_tune_wrapper pid=4328)\u001b[0m GPU available: True (cuda), used: True\n",
      "\u001b[36m(_tune_wrapper pid=4328)\u001b[0m TPU available: False, using: 0 TPU cores\n",
      "\u001b[36m(_tune_wrapper pid=4328)\u001b[0m HPU available: False, using: 0 HPUs\n",
      "\u001b[36m(_tune_wrapper pid=4328)\u001b[0m LOCAL_RANK: 0 - CUDA_VISIBLE_DEVICES: [0]\n",
      "\u001b[36m(_tune_wrapper pid=4328)\u001b[0m \n",
      "\u001b[36m(_tune_wrapper pid=4328)\u001b[0m   | Name       | Type              | Params | Mode  | In sizes       | Out sizes     \n",
      "\u001b[36m(_tune_wrapper pid=4328)\u001b[0m -------------------------------------------------------------------------------------------\n",
      "\u001b[36m(_tune_wrapper pid=4328)\u001b[0m 0 | criterion  | SmoothL1Loss      | 0      | train | ?              | ?             \n",
      "\u001b[36m(_tune_wrapper pid=4328)\u001b[0m 1 | mae        | MeanAbsoluteError | 0      | train | ?              | ?             \n",
      "\u001b[36m(_tune_wrapper pid=4328)\u001b[0m 2 | mse        | MeanSquaredError  | 0      | train | ?              | ?             \n",
      "\u001b[36m(_tune_wrapper pid=4328)\u001b[0m 3 | rmse       | MeanSquaredError  | 0      | train | ?              | ?             \n",
      "\u001b[36m(_tune_wrapper pid=4328)\u001b[0m 4 | face_stack | ConvStack         | 93.5 K | train | [1, 3, 64, 64] | [1, 128, 1, 1]\n",
      "\u001b[36m(_tune_wrapper pid=4328)\u001b[0m 5 | l_stack    | ConvStack         | 371 K  | train | [1, 3, 64, 64] | [1, 256, 1, 1]\n",
      "\u001b[36m(_tune_wrapper pid=4328)\u001b[0m 6 | r_stack    | ConvStack         | 371 K  | train | [1, 3, 64, 64] | [1, 256, 1, 1]\n",
      "\u001b[36m(_tune_wrapper pid=4328)\u001b[0m 7 | head_stack | ConvStack         | 92.9 K | train | [1, 1, 64, 64] | [1, 128, 1, 1]\n",
      "\u001b[36m(_tune_wrapper pid=4328)\u001b[0m 8 | regressor  | Sequential        | 592 K  | train | [1, 769]       | [1, 2]        \n",
      "\u001b[36m(_tune_wrapper pid=4328)\u001b[0m -------------------------------------------------------------------------------------------\n",
      "\u001b[36m(_tune_wrapper pid=4328)\u001b[0m 1.5 M     Trainable params\n",
      "\u001b[36m(_tune_wrapper pid=4328)\u001b[0m 0         Non-trainable params\n",
      "\u001b[36m(_tune_wrapper pid=4328)\u001b[0m 1.5 M     Total params\n",
      "\u001b[36m(_tune_wrapper pid=4328)\u001b[0m 6.087     Total estimated model params size (MB)\n",
      "\u001b[36m(_tune_wrapper pid=4328)\u001b[0m 76        Modules in train mode\n",
      "\u001b[36m(_tune_wrapper pid=4328)\u001b[0m 0         Modules in eval mode\n",
      "2025-06-04 18:15:47,871\tINFO tensorboardx.py:308 -- Removed the following hyperparameter values when logging to tensorboard: {'face_channels': (32, 64, 128), 'eye_channels': (64, 128, 256), 'head_pos_channels': (32, 64, 128)}\n",
      "\u001b[36m(_tune_wrapper pid=4328)\u001b[0m Checkpoint successfully created at: Checkpoint(filesystem=local, path=c:/Users/Youssef/Desktop/TFG/eye-tracker-vocacions/src/logs/full/tune_20250604-161552/6fc5e_00009/checkpoint_000000)\n",
      "\u001b[36m(_tune_wrapper pid=16168)\u001b[0m Seed set to 1942\n",
      "\u001b[36m(_tune_wrapper pid=16168)\u001b[0m Using bfloat16 Automatic Mixed Precision (AMP)\n",
      "\u001b[36m(_tune_wrapper pid=16168)\u001b[0m Using default `ModelCheckpoint`. Consider installing `litmodels` package to enable `LitModelCheckpoint` for automatic upload to the Lightning model registry.\n",
      "\u001b[36m(_tune_wrapper pid=16168)\u001b[0m GPU available: True (cuda), used: True\n",
      "\u001b[36m(_tune_wrapper pid=16168)\u001b[0m TPU available: False, using: 0 TPU cores\n",
      "\u001b[36m(_tune_wrapper pid=16168)\u001b[0m HPU available: False, using: 0 HPUs\n",
      "\u001b[36m(_tune_wrapper pid=16168)\u001b[0m LOCAL_RANK: 0 - CUDA_VISIBLE_DEVICES: [0]\n",
      "\u001b[36m(_tune_wrapper pid=16168)\u001b[0m \n",
      "\u001b[36m(_tune_wrapper pid=16168)\u001b[0m   | Name       | Type              | Params | Mode  | In sizes       | Out sizes     \n",
      "\u001b[36m(_tune_wrapper pid=16168)\u001b[0m -------------------------------------------------------------------------------------------\n",
      "\u001b[36m(_tune_wrapper pid=16168)\u001b[0m 0 | criterion  | SmoothL1Loss      | 0      | train | ?              | ?             \n",
      "\u001b[36m(_tune_wrapper pid=16168)\u001b[0m 1 | mae        | MeanAbsoluteError | 0      | train | ?              | ?             \n",
      "\u001b[36m(_tune_wrapper pid=16168)\u001b[0m 2 | mse        | MeanSquaredError  | 0      | train | ?              | ?             \n",
      "\u001b[36m(_tune_wrapper pid=16168)\u001b[0m 3 | rmse       | MeanSquaredError  | 0      | train | ?              | ?             \n",
      "\u001b[36m(_tune_wrapper pid=16168)\u001b[0m 4 | face_stack | ConvStack         | 371 K  | train | [1, 3, 64, 64] | [1, 256, 1, 1]\n",
      "\u001b[36m(_tune_wrapper pid=16168)\u001b[0m 5 | l_stack    | ConvStack         | 371 K  | train | [1, 3, 64, 64] | [1, 256, 1, 1]\n",
      "\u001b[36m(_tune_wrapper pid=16168)\u001b[0m 6 | r_stack    | ConvStack         | 371 K  | train | [1, 3, 64, 64] | [1, 256, 1, 1]\n",
      "\u001b[36m(_tune_wrapper pid=16168)\u001b[0m 7 | head_stack | ConvStack         | 52.4 K | train | [1, 1, 64, 64] | [1, 96, 1, 1] \n",
      "\u001b[36m(_tune_wrapper pid=16168)\u001b[0m 8 | regressor  | Sequential        | 222 K  | train | [1, 865]       | [1, 2]        \n",
      "\u001b[36m(_tune_wrapper pid=16168)\u001b[0m -------------------------------------------------------------------------------------------\n",
      "\u001b[36m(_tune_wrapper pid=16168)\u001b[0m 1.4 M     Trainable params\n",
      "\u001b[36m(_tune_wrapper pid=16168)\u001b[0m 0         Non-trainable params\n",
      "\u001b[36m(_tune_wrapper pid=16168)\u001b[0m 1.4 M     Total params\n",
      "\u001b[36m(_tune_wrapper pid=16168)\u001b[0m 5.554     Total estimated model params size (MB)\n",
      "\u001b[36m(_tune_wrapper pid=16168)\u001b[0m 76        Modules in train mode\n",
      "\u001b[36m(_tune_wrapper pid=16168)\u001b[0m 0         Modules in eval mode\n",
      "\u001b[36m(_tune_wrapper pid=16168)\u001b[0m Checkpoint successfully created at: Checkpoint(filesystem=local, path=c:/Users/Youssef/Desktop/TFG/eye-tracker-vocacions/src/logs/full/tune_20250604-161552/6fc5e_00010/checkpoint_000000)\n",
      "\u001b[36m(_tune_wrapper pid=16168)\u001b[0m Checkpoint successfully created at: Checkpoint(filesystem=local, path=c:/Users/Youssef/Desktop/TFG/eye-tracker-vocacions/src/logs/full/tune_20250604-161552/6fc5e_00010/checkpoint_000001)\n",
      "\u001b[36m(_tune_wrapper pid=16168)\u001b[0m Checkpoint successfully created at: Checkpoint(filesystem=local, path=c:/Users/Youssef/Desktop/TFG/eye-tracker-vocacions/src/logs/full/tune_20250604-161552/6fc5e_00010/checkpoint_000002)\n",
      "2025-06-04 18:36:40,680\tINFO tensorboardx.py:308 -- Removed the following hyperparameter values when logging to tensorboard: {'face_channels': (64, 128, 256), 'eye_channels': (64, 128, 256), 'head_pos_channels': (24, 48, 96)}\n",
      "\u001b[36m(_tune_wrapper pid=16168)\u001b[0m Checkpoint successfully created at: Checkpoint(filesystem=local, path=c:/Users/Youssef/Desktop/TFG/eye-tracker-vocacions/src/logs/full/tune_20250604-161552/6fc5e_00010/checkpoint_000003)\n",
      "\u001b[36m(_tune_wrapper pid=19560)\u001b[0m Seed set to 9286\n",
      "\u001b[36m(_tune_wrapper pid=19560)\u001b[0m Using bfloat16 Automatic Mixed Precision (AMP)\n",
      "\u001b[36m(_tune_wrapper pid=19560)\u001b[0m Using default `ModelCheckpoint`. Consider installing `litmodels` package to enable `LitModelCheckpoint` for automatic upload to the Lightning model registry.\n",
      "\u001b[36m(_tune_wrapper pid=19560)\u001b[0m GPU available: True (cuda), used: True\n",
      "\u001b[36m(_tune_wrapper pid=19560)\u001b[0m TPU available: False, using: 0 TPU cores\n",
      "\u001b[36m(_tune_wrapper pid=19560)\u001b[0m HPU available: False, using: 0 HPUs\n",
      "\u001b[36m(_tune_wrapper pid=19560)\u001b[0m LOCAL_RANK: 0 - CUDA_VISIBLE_DEVICES: [0]\n",
      "\u001b[36m(_tune_wrapper pid=19560)\u001b[0m \n",
      "\u001b[36m(_tune_wrapper pid=19560)\u001b[0m   | Name       | Type              | Params | Mode  | In sizes       | Out sizes     \n",
      "\u001b[36m(_tune_wrapper pid=19560)\u001b[0m -------------------------------------------------------------------------------------------\n",
      "\u001b[36m(_tune_wrapper pid=19560)\u001b[0m 0 | criterion  | SmoothL1Loss      | 0      | train | ?              | ?             \n",
      "\u001b[36m(_tune_wrapper pid=19560)\u001b[0m 1 | mae        | MeanAbsoluteError | 0      | train | ?              | ?             \n",
      "\u001b[36m(_tune_wrapper pid=19560)\u001b[0m 2 | mse        | MeanSquaredError  | 0      | train | ?              | ?             \n",
      "\u001b[36m(_tune_wrapper pid=19560)\u001b[0m 3 | rmse       | MeanSquaredError  | 0      | train | ?              | ?             \n",
      "\u001b[36m(_tune_wrapper pid=19560)\u001b[0m 4 | face_stack | ConvStack         | 371 K  | train | [1, 3, 64, 64] | [1, 256, 1, 1]\n",
      "\u001b[36m(_tune_wrapper pid=19560)\u001b[0m 5 | l_stack    | ConvStack         | 93.5 K | train | [1, 3, 64, 64] | [1, 128, 1, 1]\n",
      "\u001b[36m(_tune_wrapper pid=19560)\u001b[0m 6 | r_stack    | ConvStack         | 93.5 K | train | [1, 3, 64, 64] | [1, 128, 1, 1]\n",
      "\u001b[36m(_tune_wrapper pid=19560)\u001b[0m 7 | head_stack | ConvStack         | 52.4 K | train | [1, 1, 64, 64] | [1, 96, 1, 1] \n",
      "\u001b[36m(_tune_wrapper pid=19560)\u001b[0m 8 | regressor  | Sequential        | 156 K  | train | [1, 609]       | [1, 2]        \n",
      "\u001b[36m(_tune_wrapper pid=19560)\u001b[0m -------------------------------------------------------------------------------------------\n",
      "\u001b[36m(_tune_wrapper pid=19560)\u001b[0m 767 K     Trainable params\n",
      "\u001b[36m(_tune_wrapper pid=19560)\u001b[0m 0         Non-trainable params\n",
      "\u001b[36m(_tune_wrapper pid=19560)\u001b[0m 767 K     Total params\n",
      "\u001b[36m(_tune_wrapper pid=19560)\u001b[0m 3.069     Total estimated model params size (MB)\n",
      "\u001b[36m(_tune_wrapper pid=19560)\u001b[0m 76        Modules in train mode\n",
      "\u001b[36m(_tune_wrapper pid=19560)\u001b[0m 0         Modules in eval mode\n",
      "2025-06-04 18:42:34,014\tINFO tensorboardx.py:308 -- Removed the following hyperparameter values when logging to tensorboard: {'face_channels': (64, 128, 256), 'eye_channels': (32, 64, 128), 'head_pos_channels': (24, 48, 96)}\n",
      "\u001b[36m(_tune_wrapper pid=19560)\u001b[0m Checkpoint successfully created at: Checkpoint(filesystem=local, path=c:/Users/Youssef/Desktop/TFG/eye-tracker-vocacions/src/logs/full/tune_20250604-161552/6fc5e_00011/checkpoint_000000)\n",
      "\u001b[36m(_tune_wrapper pid=2068)\u001b[0m Seed set to 818\n",
      "\u001b[36m(_tune_wrapper pid=2068)\u001b[0m Using bfloat16 Automatic Mixed Precision (AMP)\n",
      "\u001b[36m(_tune_wrapper pid=2068)\u001b[0m Using default `ModelCheckpoint`. Consider installing `litmodels` package to enable `LitModelCheckpoint` for automatic upload to the Lightning model registry.\n",
      "\u001b[36m(_tune_wrapper pid=2068)\u001b[0m GPU available: True (cuda), used: True\n",
      "\u001b[36m(_tune_wrapper pid=2068)\u001b[0m TPU available: False, using: 0 TPU cores\n",
      "\u001b[36m(_tune_wrapper pid=2068)\u001b[0m HPU available: False, using: 0 HPUs\n",
      "\u001b[36m(_tune_wrapper pid=2068)\u001b[0m LOCAL_RANK: 0 - CUDA_VISIBLE_DEVICES: [0]\n",
      "\u001b[36m(_tune_wrapper pid=2068)\u001b[0m \n",
      "\u001b[36m(_tune_wrapper pid=2068)\u001b[0m   | Name       | Type              | Params | Mode  | In sizes       | Out sizes     \n",
      "\u001b[36m(_tune_wrapper pid=2068)\u001b[0m -------------------------------------------------------------------------------------------\n",
      "\u001b[36m(_tune_wrapper pid=2068)\u001b[0m 0 | criterion  | SmoothL1Loss      | 0      | train | ?              | ?             \n",
      "\u001b[36m(_tune_wrapper pid=2068)\u001b[0m 1 | mae        | MeanAbsoluteError | 0      | train | ?              | ?             \n",
      "\u001b[36m(_tune_wrapper pid=2068)\u001b[0m 2 | mse        | MeanSquaredError  | 0      | train | ?              | ?             \n",
      "\u001b[36m(_tune_wrapper pid=2068)\u001b[0m 3 | rmse       | MeanSquaredError  | 0      | train | ?              | ?             \n",
      "\u001b[36m(_tune_wrapper pid=2068)\u001b[0m 4 | face_stack | ConvStack         | 371 K  | train | [1, 3, 64, 64] | [1, 256, 1, 1]\n",
      "\u001b[36m(_tune_wrapper pid=2068)\u001b[0m 5 | l_stack    | ConvStack         | 371 K  | train | [1, 3, 64, 64] | [1, 256, 1, 1]\n",
      "\u001b[36m(_tune_wrapper pid=2068)\u001b[0m 6 | r_stack    | ConvStack         | 371 K  | train | [1, 3, 64, 64] | [1, 256, 1, 1]\n",
      "\u001b[36m(_tune_wrapper pid=2068)\u001b[0m 7 | head_stack | ConvStack         | 52.4 K | train | [1, 1, 64, 64] | [1, 96, 1, 1] \n",
      "\u001b[36m(_tune_wrapper pid=2068)\u001b[0m 8 | regressor  | Sequential        | 666 K  | train | [1, 865]       | [1, 2]        \n",
      "\u001b[36m(_tune_wrapper pid=2068)\u001b[0m -------------------------------------------------------------------------------------------\n",
      "\u001b[36m(_tune_wrapper pid=2068)\u001b[0m 1.8 M     Trainable params\n",
      "\u001b[36m(_tune_wrapper pid=2068)\u001b[0m 0         Non-trainable params\n",
      "\u001b[36m(_tune_wrapper pid=2068)\u001b[0m 1.8 M     Total params\n",
      "\u001b[36m(_tune_wrapper pid=2068)\u001b[0m 7.331     Total estimated model params size (MB)\n",
      "\u001b[36m(_tune_wrapper pid=2068)\u001b[0m 76        Modules in train mode\n",
      "\u001b[36m(_tune_wrapper pid=2068)\u001b[0m 0         Modules in eval mode\n",
      "2025-06-04 18:53:20,041\tINFO tensorboardx.py:308 -- Removed the following hyperparameter values when logging to tensorboard: {'face_channels': (64, 128, 256), 'eye_channels': (64, 128, 256), 'head_pos_channels': (24, 48, 96)}\n",
      "\u001b[36m(_tune_wrapper pid=2068)\u001b[0m Checkpoint successfully created at: Checkpoint(filesystem=local, path=c:/Users/Youssef/Desktop/TFG/eye-tracker-vocacions/src/logs/full/tune_20250604-161552/6fc5e_00012/checkpoint_000000)\n",
      "\u001b[36m(_tune_wrapper pid=3304)\u001b[0m Seed set to 9452\n",
      "\u001b[36m(_tune_wrapper pid=3304)\u001b[0m Using bfloat16 Automatic Mixed Precision (AMP)\n",
      "\u001b[36m(_tune_wrapper pid=3304)\u001b[0m Using default `ModelCheckpoint`. Consider installing `litmodels` package to enable `LitModelCheckpoint` for automatic upload to the Lightning model registry.\n",
      "\u001b[36m(_tune_wrapper pid=3304)\u001b[0m GPU available: True (cuda), used: True\n",
      "\u001b[36m(_tune_wrapper pid=3304)\u001b[0m TPU available: False, using: 0 TPU cores\n",
      "\u001b[36m(_tune_wrapper pid=3304)\u001b[0m HPU available: False, using: 0 HPUs\n",
      "\u001b[36m(_tune_wrapper pid=3304)\u001b[0m LOCAL_RANK: 0 - CUDA_VISIBLE_DEVICES: [0]\n",
      "\u001b[36m(_tune_wrapper pid=3304)\u001b[0m \n",
      "\u001b[36m(_tune_wrapper pid=3304)\u001b[0m   | Name       | Type              | Params | Mode  | In sizes       | Out sizes     \n",
      "\u001b[36m(_tune_wrapper pid=3304)\u001b[0m -------------------------------------------------------------------------------------------\n",
      "\u001b[36m(_tune_wrapper pid=3304)\u001b[0m 0 | criterion  | SmoothL1Loss      | 0      | train | ?              | ?             \n",
      "\u001b[36m(_tune_wrapper pid=3304)\u001b[0m 1 | mae        | MeanAbsoluteError | 0      | train | ?              | ?             \n",
      "\u001b[36m(_tune_wrapper pid=3304)\u001b[0m 2 | mse        | MeanSquaredError  | 0      | train | ?              | ?             \n",
      "\u001b[36m(_tune_wrapper pid=3304)\u001b[0m 3 | rmse       | MeanSquaredError  | 0      | train | ?              | ?             \n",
      "\u001b[36m(_tune_wrapper pid=3304)\u001b[0m 4 | face_stack | ConvStack         | 209 K  | train | [1, 3, 64, 64] | [1, 192, 1, 1]\n",
      "\u001b[36m(_tune_wrapper pid=3304)\u001b[0m 5 | l_stack    | ConvStack         | 209 K  | train | [1, 3, 64, 64] | [1, 192, 1, 1]\n",
      "\u001b[36m(_tune_wrapper pid=3304)\u001b[0m 6 | r_stack    | ConvStack         | 209 K  | train | [1, 3, 64, 64] | [1, 192, 1, 1]\n",
      "\u001b[36m(_tune_wrapper pid=3304)\u001b[0m 7 | head_stack | ConvStack         | 52.4 K | train | [1, 1, 64, 64] | [1, 96, 1, 1] \n",
      "\u001b[36m(_tune_wrapper pid=3304)\u001b[0m 8 | regressor  | Sequential        | 346 K  | train | [1, 673]       | [1, 2]        \n",
      "\u001b[36m(_tune_wrapper pid=3304)\u001b[0m -------------------------------------------------------------------------------------------\n",
      "\u001b[36m(_tune_wrapper pid=3304)\u001b[0m 1.0 M     Trainable params\n",
      "\u001b[36m(_tune_wrapper pid=3304)\u001b[0m 0         Non-trainable params\n",
      "\u001b[36m(_tune_wrapper pid=3304)\u001b[0m 1.0 M     Total params\n",
      "\u001b[36m(_tune_wrapper pid=3304)\u001b[0m 4.106     Total estimated model params size (MB)\n",
      "\u001b[36m(_tune_wrapper pid=3304)\u001b[0m 76        Modules in train mode\n",
      "\u001b[36m(_tune_wrapper pid=3304)\u001b[0m 0         Modules in eval mode\n",
      "\u001b[36m(_tune_wrapper pid=3304)\u001b[0m Checkpoint successfully created at: Checkpoint(filesystem=local, path=c:/Users/Youssef/Desktop/TFG/eye-tracker-vocacions/src/logs/full/tune_20250604-161552/6fc5e_00013/checkpoint_000000)\n",
      "2025-06-04 19:04:41,279\tINFO tensorboardx.py:308 -- Removed the following hyperparameter values when logging to tensorboard: {'face_channels': (48, 96, 192), 'eye_channels': (48, 96, 192), 'head_pos_channels': (24, 48, 96)}\n",
      "\u001b[36m(_tune_wrapper pid=13376)\u001b[0m Seed set to 3306\n",
      "\u001b[36m(_tune_wrapper pid=13376)\u001b[0m Using bfloat16 Automatic Mixed Precision (AMP)\n",
      "\u001b[36m(_tune_wrapper pid=13376)\u001b[0m Using default `ModelCheckpoint`. Consider installing `litmodels` package to enable `LitModelCheckpoint` for automatic upload to the Lightning model registry.\n",
      "\u001b[36m(_tune_wrapper pid=13376)\u001b[0m GPU available: True (cuda), used: True\n",
      "\u001b[36m(_tune_wrapper pid=13376)\u001b[0m TPU available: False, using: 0 TPU cores\n",
      "\u001b[36m(_tune_wrapper pid=13376)\u001b[0m HPU available: False, using: 0 HPUs\n",
      "\u001b[36m(_tune_wrapper pid=13376)\u001b[0m LOCAL_RANK: 0 - CUDA_VISIBLE_DEVICES: [0]\n",
      "\u001b[36m(_tune_wrapper pid=13376)\u001b[0m \n",
      "\u001b[36m(_tune_wrapper pid=13376)\u001b[0m   | Name       | Type              | Params | Mode  | In sizes       | Out sizes     \n",
      "\u001b[36m(_tune_wrapper pid=13376)\u001b[0m -------------------------------------------------------------------------------------------\n",
      "\u001b[36m(_tune_wrapper pid=13376)\u001b[0m 0 | criterion  | SmoothL1Loss      | 0      | train | ?              | ?             \n",
      "\u001b[36m(_tune_wrapper pid=13376)\u001b[0m 1 | mae        | MeanAbsoluteError | 0      | train | ?              | ?             \n",
      "\u001b[36m(_tune_wrapper pid=13376)\u001b[0m 2 | mse        | MeanSquaredError  | 0      | train | ?              | ?             \n",
      "\u001b[36m(_tune_wrapper pid=13376)\u001b[0m 3 | rmse       | MeanSquaredError  | 0      | train | ?              | ?             \n",
      "\u001b[36m(_tune_wrapper pid=13376)\u001b[0m 4 | face_stack | ConvStack         | 93.5 K | train | [1, 3, 64, 64] | [1, 128, 1, 1]\n",
      "\u001b[36m(_tune_wrapper pid=13376)\u001b[0m 5 | l_stack    | ConvStack         | 209 K  | train | [1, 3, 64, 64] | [1, 192, 1, 1]\n",
      "\u001b[36m(_tune_wrapper pid=13376)\u001b[0m 6 | r_stack    | ConvStack         | 209 K  | train | [1, 3, 64, 64] | [1, 192, 1, 1]\n",
      "\u001b[36m(_tune_wrapper pid=13376)\u001b[0m 7 | head_stack | ConvStack         | 92.9 K | train | [1, 1, 64, 64] | [1, 128, 1, 1]\n",
      "\u001b[36m(_tune_wrapper pid=13376)\u001b[0m 8 | regressor  | Sequential        | 494 K  | train | [1, 641]       | [1, 2]        \n",
      "\u001b[36m(_tune_wrapper pid=13376)\u001b[0m -------------------------------------------------------------------------------------------\n",
      "\u001b[36m(_tune_wrapper pid=13376)\u001b[0m 1.1 M     Trainable params\n",
      "\u001b[36m(_tune_wrapper pid=13376)\u001b[0m 0         Non-trainable params\n",
      "\u001b[36m(_tune_wrapper pid=13376)\u001b[0m 1.1 M     Total params\n",
      "\u001b[36m(_tune_wrapper pid=13376)\u001b[0m 4.398     Total estimated model params size (MB)\n",
      "\u001b[36m(_tune_wrapper pid=13376)\u001b[0m 76        Modules in train mode\n",
      "\u001b[36m(_tune_wrapper pid=13376)\u001b[0m 0         Modules in eval mode\n",
      "\u001b[36m(_tune_wrapper pid=13376)\u001b[0m Checkpoint successfully created at: Checkpoint(filesystem=local, path=c:/Users/Youssef/Desktop/TFG/eye-tracker-vocacions/src/logs/full/tune_20250604-161552/6fc5e_00014/checkpoint_000000)\n",
      "2025-06-04 19:24:47,910\tINFO tensorboardx.py:308 -- Removed the following hyperparameter values when logging to tensorboard: {'face_channels': (32, 64, 128), 'eye_channels': (48, 96, 192), 'head_pos_channels': (32, 64, 128)}\n",
      "\u001b[36m(_tune_wrapper pid=13376)\u001b[0m Checkpoint successfully created at: Checkpoint(filesystem=local, path=c:/Users/Youssef/Desktop/TFG/eye-tracker-vocacions/src/logs/full/tune_20250604-161552/6fc5e_00014/checkpoint_000001)\n",
      "\u001b[36m(_tune_wrapper pid=13196)\u001b[0m Seed set to 4108\n",
      "\u001b[36m(_tune_wrapper pid=13196)\u001b[0m Using bfloat16 Automatic Mixed Precision (AMP)\n",
      "\u001b[36m(_tune_wrapper pid=13196)\u001b[0m Using default `ModelCheckpoint`. Consider installing `litmodels` package to enable `LitModelCheckpoint` for automatic upload to the Lightning model registry.\n",
      "\u001b[36m(_tune_wrapper pid=13196)\u001b[0m GPU available: True (cuda), used: True\n",
      "\u001b[36m(_tune_wrapper pid=13196)\u001b[0m TPU available: False, using: 0 TPU cores\n",
      "\u001b[36m(_tune_wrapper pid=13196)\u001b[0m HPU available: False, using: 0 HPUs\n",
      "\u001b[36m(_tune_wrapper pid=13196)\u001b[0m LOCAL_RANK: 0 - CUDA_VISIBLE_DEVICES: [0]\n",
      "\u001b[36m(_tune_wrapper pid=13196)\u001b[0m \n",
      "\u001b[36m(_tune_wrapper pid=13196)\u001b[0m   | Name       | Type              | Params | Mode  | In sizes       | Out sizes     \n",
      "\u001b[36m(_tune_wrapper pid=13196)\u001b[0m -------------------------------------------------------------------------------------------\n",
      "\u001b[36m(_tune_wrapper pid=13196)\u001b[0m 0 | criterion  | SmoothL1Loss      | 0      | train | ?              | ?             \n",
      "\u001b[36m(_tune_wrapper pid=13196)\u001b[0m 1 | mae        | MeanAbsoluteError | 0      | train | ?              | ?             \n",
      "\u001b[36m(_tune_wrapper pid=13196)\u001b[0m 2 | mse        | MeanSquaredError  | 0      | train | ?              | ?             \n",
      "\u001b[36m(_tune_wrapper pid=13196)\u001b[0m 3 | rmse       | MeanSquaredError  | 0      | train | ?              | ?             \n",
      "\u001b[36m(_tune_wrapper pid=13196)\u001b[0m 4 | face_stack | ConvStack         | 209 K  | train | [1, 3, 64, 64] | [1, 192, 1, 1]\n",
      "\u001b[36m(_tune_wrapper pid=13196)\u001b[0m 5 | l_stack    | ConvStack         | 209 K  | train | [1, 3, 64, 64] | [1, 192, 1, 1]\n",
      "\u001b[36m(_tune_wrapper pid=13196)\u001b[0m 6 | r_stack    | ConvStack         | 209 K  | train | [1, 3, 64, 64] | [1, 192, 1, 1]\n",
      "\u001b[36m(_tune_wrapper pid=13196)\u001b[0m 7 | head_stack | ConvStack         | 23.4 K | train | [1, 1, 64, 64] | [1, 64, 1, 1] \n",
      "\u001b[36m(_tune_wrapper pid=13196)\u001b[0m 8 | regressor  | Sequential        | 659 K  | train | [1, 641]       | [1, 2]        \n",
      "\u001b[36m(_tune_wrapper pid=13196)\u001b[0m -------------------------------------------------------------------------------------------\n",
      "\u001b[36m(_tune_wrapper pid=13196)\u001b[0m 1.3 M     Trainable params\n",
      "\u001b[36m(_tune_wrapper pid=13196)\u001b[0m 0         Non-trainable params\n",
      "\u001b[36m(_tune_wrapper pid=13196)\u001b[0m 1.3 M     Total params\n",
      "\u001b[36m(_tune_wrapper pid=13196)\u001b[0m 5.243     Total estimated model params size (MB)\n",
      "\u001b[36m(_tune_wrapper pid=13196)\u001b[0m 76        Modules in train mode\n",
      "\u001b[36m(_tune_wrapper pid=13196)\u001b[0m 0         Modules in eval mode\n",
      "\u001b[36m(_tune_wrapper pid=13196)\u001b[0m Checkpoint successfully created at: Checkpoint(filesystem=local, path=c:/Users/Youssef/Desktop/TFG/eye-tracker-vocacions/src/logs/full/tune_20250604-161552/6fc5e_00015/checkpoint_000000)\n",
      "2025-06-04 19:42:33,510\tINFO tensorboardx.py:308 -- Removed the following hyperparameter values when logging to tensorboard: {'face_channels': (48, 96, 192), 'eye_channels': (48, 96, 192), 'head_pos_channels': (16, 32, 64)}\n",
      "\u001b[36m(_tune_wrapper pid=13196)\u001b[0m Checkpoint successfully created at: Checkpoint(filesystem=local, path=c:/Users/Youssef/Desktop/TFG/eye-tracker-vocacions/src/logs/full/tune_20250604-161552/6fc5e_00015/checkpoint_000001)\n",
      "\u001b[36m(_tune_wrapper pid=6368)\u001b[0m Seed set to 156\n",
      "\u001b[36m(_tune_wrapper pid=6368)\u001b[0m Using bfloat16 Automatic Mixed Precision (AMP)\n",
      "\u001b[36m(_tune_wrapper pid=6368)\u001b[0m Using default `ModelCheckpoint`. Consider installing `litmodels` package to enable `LitModelCheckpoint` for automatic upload to the Lightning model registry.\n",
      "\u001b[36m(_tune_wrapper pid=6368)\u001b[0m GPU available: True (cuda), used: True\n",
      "\u001b[36m(_tune_wrapper pid=6368)\u001b[0m TPU available: False, using: 0 TPU cores\n",
      "\u001b[36m(_tune_wrapper pid=6368)\u001b[0m HPU available: False, using: 0 HPUs\n",
      "\u001b[36m(_tune_wrapper pid=6368)\u001b[0m LOCAL_RANK: 0 - CUDA_VISIBLE_DEVICES: [0]\n",
      "\u001b[36m(_tune_wrapper pid=6368)\u001b[0m \n",
      "\u001b[36m(_tune_wrapper pid=6368)\u001b[0m   | Name       | Type              | Params | Mode  | In sizes       | Out sizes     \n",
      "\u001b[36m(_tune_wrapper pid=6368)\u001b[0m -------------------------------------------------------------------------------------------\n",
      "\u001b[36m(_tune_wrapper pid=6368)\u001b[0m 0 | criterion  | SmoothL1Loss      | 0      | train | ?              | ?             \n",
      "\u001b[36m(_tune_wrapper pid=6368)\u001b[0m 1 | mae        | MeanAbsoluteError | 0      | train | ?              | ?             \n",
      "\u001b[36m(_tune_wrapper pid=6368)\u001b[0m 2 | mse        | MeanSquaredError  | 0      | train | ?              | ?             \n",
      "\u001b[36m(_tune_wrapper pid=6368)\u001b[0m 3 | rmse       | MeanSquaredError  | 0      | train | ?              | ?             \n",
      "\u001b[36m(_tune_wrapper pid=6368)\u001b[0m 4 | face_stack | ConvStack         | 371 K  | train | [1, 3, 64, 64] | [1, 256, 1, 1]\n",
      "\u001b[36m(_tune_wrapper pid=6368)\u001b[0m 5 | l_stack    | ConvStack         | 209 K  | train | [1, 3, 64, 64] | [1, 192, 1, 1]\n",
      "\u001b[36m(_tune_wrapper pid=6368)\u001b[0m 6 | r_stack    | ConvStack         | 209 K  | train | [1, 3, 64, 64] | [1, 192, 1, 1]\n",
      "\u001b[36m(_tune_wrapper pid=6368)\u001b[0m 7 | head_stack | ConvStack         | 23.4 K | train | [1, 1, 64, 64] | [1, 64, 1, 1] \n",
      "\u001b[36m(_tune_wrapper pid=6368)\u001b[0m 8 | regressor  | Sequential        | 543 K  | train | [1, 705]       | [1, 2]        \n",
      "\u001b[36m(_tune_wrapper pid=6368)\u001b[0m -------------------------------------------------------------------------------------------\n",
      "\u001b[36m(_tune_wrapper pid=6368)\u001b[0m 1.4 M     Trainable params\n",
      "\u001b[36m(_tune_wrapper pid=6368)\u001b[0m 0         Non-trainable params\n",
      "\u001b[36m(_tune_wrapper pid=6368)\u001b[0m 1.4 M     Total params\n",
      "\u001b[36m(_tune_wrapper pid=6368)\u001b[0m 5.428     Total estimated model params size (MB)\n",
      "\u001b[36m(_tune_wrapper pid=6368)\u001b[0m 76        Modules in train mode\n",
      "\u001b[36m(_tune_wrapper pid=6368)\u001b[0m 0         Modules in eval mode\n",
      "2025-06-04 19:53:05,397\tINFO tensorboardx.py:308 -- Removed the following hyperparameter values when logging to tensorboard: {'face_channels': (64, 128, 256), 'eye_channels': (48, 96, 192), 'head_pos_channels': (16, 32, 64)}\n",
      "\u001b[36m(_tune_wrapper pid=6368)\u001b[0m Checkpoint successfully created at: Checkpoint(filesystem=local, path=c:/Users/Youssef/Desktop/TFG/eye-tracker-vocacions/src/logs/full/tune_20250604-161552/6fc5e_00016/checkpoint_000000)\n",
      "\u001b[36m(_tune_wrapper pid=5736)\u001b[0m Seed set to 6995\n",
      "\u001b[36m(_tune_wrapper pid=5736)\u001b[0m Using bfloat16 Automatic Mixed Precision (AMP)\n",
      "\u001b[36m(_tune_wrapper pid=5736)\u001b[0m Using default `ModelCheckpoint`. Consider installing `litmodels` package to enable `LitModelCheckpoint` for automatic upload to the Lightning model registry.\n",
      "\u001b[36m(_tune_wrapper pid=5736)\u001b[0m GPU available: True (cuda), used: True\n",
      "\u001b[36m(_tune_wrapper pid=5736)\u001b[0m TPU available: False, using: 0 TPU cores\n",
      "\u001b[36m(_tune_wrapper pid=5736)\u001b[0m HPU available: False, using: 0 HPUs\n",
      "\u001b[36m(_tune_wrapper pid=5736)\u001b[0m LOCAL_RANK: 0 - CUDA_VISIBLE_DEVICES: [0]\n",
      "\u001b[36m(_tune_wrapper pid=5736)\u001b[0m \n",
      "\u001b[36m(_tune_wrapper pid=5736)\u001b[0m   | Name       | Type              | Params | Mode  | In sizes       | Out sizes     \n",
      "\u001b[36m(_tune_wrapper pid=5736)\u001b[0m -------------------------------------------------------------------------------------------\n",
      "\u001b[36m(_tune_wrapper pid=5736)\u001b[0m 0 | criterion  | SmoothL1Loss      | 0      | train | ?              | ?             \n",
      "\u001b[36m(_tune_wrapper pid=5736)\u001b[0m 1 | mae        | MeanAbsoluteError | 0      | train | ?              | ?             \n",
      "\u001b[36m(_tune_wrapper pid=5736)\u001b[0m 2 | mse        | MeanSquaredError  | 0      | train | ?              | ?             \n",
      "\u001b[36m(_tune_wrapper pid=5736)\u001b[0m 3 | rmse       | MeanSquaredError  | 0      | train | ?              | ?             \n",
      "\u001b[36m(_tune_wrapper pid=5736)\u001b[0m 4 | face_stack | ConvStack         | 371 K  | train | [1, 3, 64, 64] | [1, 256, 1, 1]\n",
      "\u001b[36m(_tune_wrapper pid=5736)\u001b[0m 5 | l_stack    | ConvStack         | 93.5 K | train | [1, 3, 64, 64] | [1, 128, 1, 1]\n",
      "\u001b[36m(_tune_wrapper pid=5736)\u001b[0m 6 | r_stack    | ConvStack         | 93.5 K | train | [1, 3, 64, 64] | [1, 128, 1, 1]\n",
      "\u001b[36m(_tune_wrapper pid=5736)\u001b[0m 7 | head_stack | ConvStack         | 92.9 K | train | [1, 1, 64, 64] | [1, 128, 1, 1]\n",
      "\u001b[36m(_tune_wrapper pid=5736)\u001b[0m 8 | regressor  | Sequential        | 329 K  | train | [1, 641]       | [1, 2]        \n",
      "\u001b[36m(_tune_wrapper pid=5736)\u001b[0m -------------------------------------------------------------------------------------------\n",
      "\u001b[36m(_tune_wrapper pid=5736)\u001b[0m 980 K     Trainable params\n",
      "\u001b[36m(_tune_wrapper pid=5736)\u001b[0m 0         Non-trainable params\n",
      "\u001b[36m(_tune_wrapper pid=5736)\u001b[0m 980 K     Total params\n",
      "\u001b[36m(_tune_wrapper pid=5736)\u001b[0m 3.923     Total estimated model params size (MB)\n",
      "\u001b[36m(_tune_wrapper pid=5736)\u001b[0m 76        Modules in train mode\n",
      "\u001b[36m(_tune_wrapper pid=5736)\u001b[0m 0         Modules in eval mode\n",
      "\u001b[36m(_tune_wrapper pid=5736)\u001b[0m Checkpoint successfully created at: Checkpoint(filesystem=local, path=c:/Users/Youssef/Desktop/TFG/eye-tracker-vocacions/src/logs/full/tune_20250604-161552/6fc5e_00017/checkpoint_000000)\n",
      "\u001b[36m(_tune_wrapper pid=5736)\u001b[0m Checkpoint successfully created at: Checkpoint(filesystem=local, path=c:/Users/Youssef/Desktop/TFG/eye-tracker-vocacions/src/logs/full/tune_20250604-161552/6fc5e_00017/checkpoint_000001)\n",
      "\u001b[36m(_tune_wrapper pid=5736)\u001b[0m Checkpoint successfully created at: Checkpoint(filesystem=local, path=c:/Users/Youssef/Desktop/TFG/eye-tracker-vocacions/src/logs/full/tune_20250604-161552/6fc5e_00017/checkpoint_000002)\n",
      "2025-06-04 20:31:14,728\tINFO tensorboardx.py:308 -- Removed the following hyperparameter values when logging to tensorboard: {'face_channels': (64, 128, 256), 'eye_channels': (32, 64, 128), 'head_pos_channels': (32, 64, 128)}\n",
      "\u001b[36m(_tune_wrapper pid=5736)\u001b[0m Checkpoint successfully created at: Checkpoint(filesystem=local, path=c:/Users/Youssef/Desktop/TFG/eye-tracker-vocacions/src/logs/full/tune_20250604-161552/6fc5e_00017/checkpoint_000003)\n",
      "\u001b[36m(_tune_wrapper pid=17556)\u001b[0m Seed set to 3891\n",
      "\u001b[36m(_tune_wrapper pid=17556)\u001b[0m Using bfloat16 Automatic Mixed Precision (AMP)\n",
      "\u001b[36m(_tune_wrapper pid=17556)\u001b[0m Using default `ModelCheckpoint`. Consider installing `litmodels` package to enable `LitModelCheckpoint` for automatic upload to the Lightning model registry.\n",
      "\u001b[36m(_tune_wrapper pid=17556)\u001b[0m GPU available: True (cuda), used: True\n",
      "\u001b[36m(_tune_wrapper pid=17556)\u001b[0m TPU available: False, using: 0 TPU cores\n",
      "\u001b[36m(_tune_wrapper pid=17556)\u001b[0m HPU available: False, using: 0 HPUs\n",
      "\u001b[36m(_tune_wrapper pid=17556)\u001b[0m LOCAL_RANK: 0 - CUDA_VISIBLE_DEVICES: [0]\n",
      "\u001b[36m(_tune_wrapper pid=17556)\u001b[0m \n",
      "\u001b[36m(_tune_wrapper pid=17556)\u001b[0m   | Name       | Type              | Params | Mode  | In sizes       | Out sizes     \n",
      "\u001b[36m(_tune_wrapper pid=17556)\u001b[0m -------------------------------------------------------------------------------------------\n",
      "\u001b[36m(_tune_wrapper pid=17556)\u001b[0m 0 | criterion  | SmoothL1Loss      | 0      | train | ?              | ?             \n",
      "\u001b[36m(_tune_wrapper pid=17556)\u001b[0m 1 | mae        | MeanAbsoluteError | 0      | train | ?              | ?             \n",
      "\u001b[36m(_tune_wrapper pid=17556)\u001b[0m 2 | mse        | MeanSquaredError  | 0      | train | ?              | ?             \n",
      "\u001b[36m(_tune_wrapper pid=17556)\u001b[0m 3 | rmse       | MeanSquaredError  | 0      | train | ?              | ?             \n",
      "\u001b[36m(_tune_wrapper pid=17556)\u001b[0m 4 | face_stack | ConvStack         | 371 K  | train | [1, 3, 64, 64] | [1, 256, 1, 1]\n",
      "\u001b[36m(_tune_wrapper pid=17556)\u001b[0m 5 | l_stack    | ConvStack         | 209 K  | train | [1, 3, 64, 64] | [1, 192, 1, 1]\n",
      "\u001b[36m(_tune_wrapper pid=17556)\u001b[0m 6 | r_stack    | ConvStack         | 209 K  | train | [1, 3, 64, 64] | [1, 192, 1, 1]\n",
      "\u001b[36m(_tune_wrapper pid=17556)\u001b[0m 7 | head_stack | ConvStack         | 52.4 K | train | [1, 1, 64, 64] | [1, 96, 1, 1] \n",
      "\u001b[36m(_tune_wrapper pid=17556)\u001b[0m 8 | regressor  | Sequential        | 568 K  | train | [1, 737]       | [1, 2]        \n",
      "\u001b[36m(_tune_wrapper pid=17556)\u001b[0m -------------------------------------------------------------------------------------------\n",
      "\u001b[36m(_tune_wrapper pid=17556)\u001b[0m 1.4 M     Trainable params\n",
      "\u001b[36m(_tune_wrapper pid=17556)\u001b[0m 0         Non-trainable params\n",
      "\u001b[36m(_tune_wrapper pid=17556)\u001b[0m 1.4 M     Total params\n",
      "\u001b[36m(_tune_wrapper pid=17556)\u001b[0m 5.643     Total estimated model params size (MB)\n",
      "\u001b[36m(_tune_wrapper pid=17556)\u001b[0m 76        Modules in train mode\n",
      "\u001b[36m(_tune_wrapper pid=17556)\u001b[0m 0         Modules in eval mode\n",
      "\u001b[36m(_tune_wrapper pid=17556)\u001b[0m Checkpoint successfully created at: Checkpoint(filesystem=local, path=c:/Users/Youssef/Desktop/TFG/eye-tracker-vocacions/src/logs/full/tune_20250604-161552/6fc5e_00018/checkpoint_000000)\n",
      "\u001b[36m(_tune_wrapper pid=17556)\u001b[0m Checkpoint successfully created at: Checkpoint(filesystem=local, path=c:/Users/Youssef/Desktop/TFG/eye-tracker-vocacions/src/logs/full/tune_20250604-161552/6fc5e_00018/checkpoint_000001)\n",
      "\u001b[36m(_tune_wrapper pid=17556)\u001b[0m Checkpoint successfully created at: Checkpoint(filesystem=local, path=c:/Users/Youssef/Desktop/TFG/eye-tracker-vocacions/src/logs/full/tune_20250604-161552/6fc5e_00018/checkpoint_000002)\n",
      "2025-06-04 21:12:52,210\tINFO tensorboardx.py:308 -- Removed the following hyperparameter values when logging to tensorboard: {'face_channels': (64, 128, 256), 'eye_channels': (48, 96, 192), 'head_pos_channels': (24, 48, 96)}\n",
      "\u001b[36m(_tune_wrapper pid=17556)\u001b[0m Checkpoint successfully created at: Checkpoint(filesystem=local, path=c:/Users/Youssef/Desktop/TFG/eye-tracker-vocacions/src/logs/full/tune_20250604-161552/6fc5e_00018/checkpoint_000003)\n",
      "\u001b[36m(_tune_wrapper pid=9548)\u001b[0m Seed set to 5459\n",
      "\u001b[36m(_tune_wrapper pid=9548)\u001b[0m Using bfloat16 Automatic Mixed Precision (AMP)\n",
      "\u001b[36m(_tune_wrapper pid=9548)\u001b[0m Using default `ModelCheckpoint`. Consider installing `litmodels` package to enable `LitModelCheckpoint` for automatic upload to the Lightning model registry.\n",
      "\u001b[36m(_tune_wrapper pid=9548)\u001b[0m GPU available: True (cuda), used: True\n",
      "\u001b[36m(_tune_wrapper pid=9548)\u001b[0m TPU available: False, using: 0 TPU cores\n",
      "\u001b[36m(_tune_wrapper pid=9548)\u001b[0m HPU available: False, using: 0 HPUs\n",
      "\u001b[36m(_tune_wrapper pid=9548)\u001b[0m LOCAL_RANK: 0 - CUDA_VISIBLE_DEVICES: [0]\n",
      "\u001b[36m(_tune_wrapper pid=9548)\u001b[0m \n",
      "\u001b[36m(_tune_wrapper pid=9548)\u001b[0m   | Name       | Type              | Params | Mode  | In sizes       | Out sizes     \n",
      "\u001b[36m(_tune_wrapper pid=9548)\u001b[0m -------------------------------------------------------------------------------------------\n",
      "\u001b[36m(_tune_wrapper pid=9548)\u001b[0m 0 | criterion  | SmoothL1Loss      | 0      | train | ?              | ?             \n",
      "\u001b[36m(_tune_wrapper pid=9548)\u001b[0m 1 | mae        | MeanAbsoluteError | 0      | train | ?              | ?             \n",
      "\u001b[36m(_tune_wrapper pid=9548)\u001b[0m 2 | mse        | MeanSquaredError  | 0      | train | ?              | ?             \n",
      "\u001b[36m(_tune_wrapper pid=9548)\u001b[0m 3 | rmse       | MeanSquaredError  | 0      | train | ?              | ?             \n",
      "\u001b[36m(_tune_wrapper pid=9548)\u001b[0m 4 | face_stack | ConvStack         | 209 K  | train | [1, 3, 64, 64] | [1, 192, 1, 1]\n",
      "\u001b[36m(_tune_wrapper pid=9548)\u001b[0m 5 | l_stack    | ConvStack         | 209 K  | train | [1, 3, 64, 64] | [1, 192, 1, 1]\n",
      "\u001b[36m(_tune_wrapper pid=9548)\u001b[0m 6 | r_stack    | ConvStack         | 209 K  | train | [1, 3, 64, 64] | [1, 192, 1, 1]\n",
      "\u001b[36m(_tune_wrapper pid=9548)\u001b[0m 7 | head_stack | ConvStack         | 52.4 K | train | [1, 1, 64, 64] | [1, 96, 1, 1] \n",
      "\u001b[36m(_tune_wrapper pid=9548)\u001b[0m 8 | regressor  | Sequential        | 519 K  | train | [1, 673]       | [1, 2]        \n",
      "\u001b[36m(_tune_wrapper pid=9548)\u001b[0m -------------------------------------------------------------------------------------------\n",
      "\u001b[36m(_tune_wrapper pid=9548)\u001b[0m 1.2 M     Trainable params\n",
      "\u001b[36m(_tune_wrapper pid=9548)\u001b[0m 0         Non-trainable params\n",
      "\u001b[36m(_tune_wrapper pid=9548)\u001b[0m 1.2 M     Total params\n",
      "\u001b[36m(_tune_wrapper pid=9548)\u001b[0m 4.798     Total estimated model params size (MB)\n",
      "\u001b[36m(_tune_wrapper pid=9548)\u001b[0m 76        Modules in train mode\n",
      "\u001b[36m(_tune_wrapper pid=9548)\u001b[0m 0         Modules in eval mode\n",
      "2025-06-04 21:26:31,993\tINFO tensorboardx.py:308 -- Removed the following hyperparameter values when logging to tensorboard: {'face_channels': (48, 96, 192), 'eye_channels': (48, 96, 192), 'head_pos_channels': (24, 48, 96)}\n",
      "\u001b[36m(_tune_wrapper pid=9548)\u001b[0m Checkpoint successfully created at: Checkpoint(filesystem=local, path=c:/Users/Youssef/Desktop/TFG/eye-tracker-vocacions/src/logs/full/tune_20250604-161552/6fc5e_00019/checkpoint_000000)\n",
      "\u001b[36m(_tune_wrapper pid=5860)\u001b[0m Seed set to 9512\n",
      "\u001b[36m(_tune_wrapper pid=5860)\u001b[0m Using bfloat16 Automatic Mixed Precision (AMP)\n",
      "\u001b[36m(_tune_wrapper pid=5860)\u001b[0m Using default `ModelCheckpoint`. Consider installing `litmodels` package to enable `LitModelCheckpoint` for automatic upload to the Lightning model registry.\n",
      "\u001b[36m(_tune_wrapper pid=5860)\u001b[0m GPU available: True (cuda), used: True\n",
      "\u001b[36m(_tune_wrapper pid=5860)\u001b[0m TPU available: False, using: 0 TPU cores\n",
      "\u001b[36m(_tune_wrapper pid=5860)\u001b[0m HPU available: False, using: 0 HPUs\n",
      "\u001b[36m(_tune_wrapper pid=5860)\u001b[0m LOCAL_RANK: 0 - CUDA_VISIBLE_DEVICES: [0]\n",
      "\u001b[36m(_tune_wrapper pid=5860)\u001b[0m \n",
      "\u001b[36m(_tune_wrapper pid=5860)\u001b[0m   | Name       | Type              | Params | Mode  | In sizes       | Out sizes     \n",
      "\u001b[36m(_tune_wrapper pid=5860)\u001b[0m -------------------------------------------------------------------------------------------\n",
      "\u001b[36m(_tune_wrapper pid=5860)\u001b[0m 0 | criterion  | SmoothL1Loss      | 0      | train | ?              | ?             \n",
      "\u001b[36m(_tune_wrapper pid=5860)\u001b[0m 1 | mae        | MeanAbsoluteError | 0      | train | ?              | ?             \n",
      "\u001b[36m(_tune_wrapper pid=5860)\u001b[0m 2 | mse        | MeanSquaredError  | 0      | train | ?              | ?             \n",
      "\u001b[36m(_tune_wrapper pid=5860)\u001b[0m 3 | rmse       | MeanSquaredError  | 0      | train | ?              | ?             \n",
      "\u001b[36m(_tune_wrapper pid=5860)\u001b[0m 4 | face_stack | ConvStack         | 93.5 K | train | [1, 3, 64, 64] | [1, 128, 1, 1]\n",
      "\u001b[36m(_tune_wrapper pid=5860)\u001b[0m 5 | l_stack    | ConvStack         | 209 K  | train | [1, 3, 64, 64] | [1, 192, 1, 1]\n",
      "\u001b[36m(_tune_wrapper pid=5860)\u001b[0m 6 | r_stack    | ConvStack         | 209 K  | train | [1, 3, 64, 64] | [1, 192, 1, 1]\n",
      "\u001b[36m(_tune_wrapper pid=5860)\u001b[0m 7 | head_stack | ConvStack         | 92.9 K | train | [1, 1, 64, 64] | [1, 128, 1, 1]\n",
      "\u001b[36m(_tune_wrapper pid=5860)\u001b[0m 8 | regressor  | Sequential        | 494 K  | train | [1, 641]       | [1, 2]        \n",
      "\u001b[36m(_tune_wrapper pid=5860)\u001b[0m -------------------------------------------------------------------------------------------\n",
      "\u001b[36m(_tune_wrapper pid=5860)\u001b[0m 1.1 M     Trainable params\n",
      "\u001b[36m(_tune_wrapper pid=5860)\u001b[0m 0         Non-trainable params\n",
      "\u001b[36m(_tune_wrapper pid=5860)\u001b[0m 1.1 M     Total params\n",
      "\u001b[36m(_tune_wrapper pid=5860)\u001b[0m 4.398     Total estimated model params size (MB)\n",
      "\u001b[36m(_tune_wrapper pid=5860)\u001b[0m 76        Modules in train mode\n",
      "\u001b[36m(_tune_wrapper pid=5860)\u001b[0m 0         Modules in eval mode\n",
      "\u001b[36m(_tune_wrapper pid=5860)\u001b[0m Checkpoint successfully created at: Checkpoint(filesystem=local, path=c:/Users/Youssef/Desktop/TFG/eye-tracker-vocacions/src/logs/full/tune_20250604-161552/6fc5e_00020/checkpoint_000000)\n",
      "\u001b[36m(_tune_wrapper pid=5860)\u001b[0m Checkpoint successfully created at: Checkpoint(filesystem=local, path=c:/Users/Youssef/Desktop/TFG/eye-tracker-vocacions/src/logs/full/tune_20250604-161552/6fc5e_00020/checkpoint_000001)\n",
      "\u001b[36m(_tune_wrapper pid=5860)\u001b[0m Checkpoint successfully created at: Checkpoint(filesystem=local, path=c:/Users/Youssef/Desktop/TFG/eye-tracker-vocacions/src/logs/full/tune_20250604-161552/6fc5e_00020/checkpoint_000002)\n",
      "2025-06-04 22:04:34,997\tINFO tensorboardx.py:308 -- Removed the following hyperparameter values when logging to tensorboard: {'face_channels': (32, 64, 128), 'eye_channels': (48, 96, 192), 'head_pos_channels': (32, 64, 128)}\n",
      "\u001b[36m(_tune_wrapper pid=5860)\u001b[0m Checkpoint successfully created at: Checkpoint(filesystem=local, path=c:/Users/Youssef/Desktop/TFG/eye-tracker-vocacions/src/logs/full/tune_20250604-161552/6fc5e_00020/checkpoint_000003)\n",
      "\u001b[36m(_tune_wrapper pid=5692)\u001b[0m Seed set to 2744\n",
      "\u001b[36m(_tune_wrapper pid=5692)\u001b[0m Using bfloat16 Automatic Mixed Precision (AMP)\n",
      "\u001b[36m(_tune_wrapper pid=5692)\u001b[0m Using default `ModelCheckpoint`. Consider installing `litmodels` package to enable `LitModelCheckpoint` for automatic upload to the Lightning model registry.\n",
      "\u001b[36m(_tune_wrapper pid=5692)\u001b[0m GPU available: True (cuda), used: True\n",
      "\u001b[36m(_tune_wrapper pid=5692)\u001b[0m TPU available: False, using: 0 TPU cores\n",
      "\u001b[36m(_tune_wrapper pid=5692)\u001b[0m HPU available: False, using: 0 HPUs\n",
      "\u001b[36m(_tune_wrapper pid=5692)\u001b[0m LOCAL_RANK: 0 - CUDA_VISIBLE_DEVICES: [0]\n",
      "\u001b[36m(_tune_wrapper pid=5692)\u001b[0m \n",
      "\u001b[36m(_tune_wrapper pid=5692)\u001b[0m   | Name       | Type              | Params | Mode  | In sizes       | Out sizes     \n",
      "\u001b[36m(_tune_wrapper pid=5692)\u001b[0m -------------------------------------------------------------------------------------------\n",
      "\u001b[36m(_tune_wrapper pid=5692)\u001b[0m 0 | criterion  | SmoothL1Loss      | 0      | train | ?              | ?             \n",
      "\u001b[36m(_tune_wrapper pid=5692)\u001b[0m 1 | mae        | MeanAbsoluteError | 0      | train | ?              | ?             \n",
      "\u001b[36m(_tune_wrapper pid=5692)\u001b[0m 2 | mse        | MeanSquaredError  | 0      | train | ?              | ?             \n",
      "\u001b[36m(_tune_wrapper pid=5692)\u001b[0m 3 | rmse       | MeanSquaredError  | 0      | train | ?              | ?             \n",
      "\u001b[36m(_tune_wrapper pid=5692)\u001b[0m 4 | face_stack | ConvStack         | 93.5 K | train | [1, 3, 64, 64] | [1, 128, 1, 1]\n",
      "\u001b[36m(_tune_wrapper pid=5692)\u001b[0m 5 | l_stack    | ConvStack         | 371 K  | train | [1, 3, 64, 64] | [1, 256, 1, 1]\n",
      "\u001b[36m(_tune_wrapper pid=5692)\u001b[0m 6 | r_stack    | ConvStack         | 371 K  | train | [1, 3, 64, 64] | [1, 256, 1, 1]\n",
      "\u001b[36m(_tune_wrapper pid=5692)\u001b[0m 7 | head_stack | ConvStack         | 23.4 K | train | [1, 1, 64, 64] | [1, 64, 1, 1] \n",
      "\u001b[36m(_tune_wrapper pid=5692)\u001b[0m 8 | regressor  | Sequential        | 543 K  | train | [1, 705]       | [1, 2]        \n",
      "\u001b[36m(_tune_wrapper pid=5692)\u001b[0m -------------------------------------------------------------------------------------------\n",
      "\u001b[36m(_tune_wrapper pid=5692)\u001b[0m 1.4 M     Trainable params\n",
      "\u001b[36m(_tune_wrapper pid=5692)\u001b[0m 0         Non-trainable params\n",
      "\u001b[36m(_tune_wrapper pid=5692)\u001b[0m 1.4 M     Total params\n",
      "\u001b[36m(_tune_wrapper pid=5692)\u001b[0m 5.613     Total estimated model params size (MB)\n",
      "\u001b[36m(_tune_wrapper pid=5692)\u001b[0m 76        Modules in train mode\n",
      "\u001b[36m(_tune_wrapper pid=5692)\u001b[0m 0         Modules in eval mode\n",
      "\u001b[36m(_tune_wrapper pid=5692)\u001b[0m Checkpoint successfully created at: Checkpoint(filesystem=local, path=c:/Users/Youssef/Desktop/TFG/eye-tracker-vocacions/src/logs/full/tune_20250604-161552/6fc5e_00021/checkpoint_000000)\n",
      "2025-06-04 22:27:18,271\tINFO tensorboardx.py:308 -- Removed the following hyperparameter values when logging to tensorboard: {'face_channels': (32, 64, 128), 'eye_channels': (64, 128, 256), 'head_pos_channels': (16, 32, 64)}\n",
      "\u001b[36m(_tune_wrapper pid=5692)\u001b[0m Checkpoint successfully created at: Checkpoint(filesystem=local, path=c:/Users/Youssef/Desktop/TFG/eye-tracker-vocacions/src/logs/full/tune_20250604-161552/6fc5e_00021/checkpoint_000001)\n",
      "\u001b[36m(_tune_wrapper pid=7564)\u001b[0m Seed set to 7592\n",
      "\u001b[36m(_tune_wrapper pid=7564)\u001b[0m Using bfloat16 Automatic Mixed Precision (AMP)\n",
      "\u001b[36m(_tune_wrapper pid=7564)\u001b[0m Using default `ModelCheckpoint`. Consider installing `litmodels` package to enable `LitModelCheckpoint` for automatic upload to the Lightning model registry.\n",
      "\u001b[36m(_tune_wrapper pid=7564)\u001b[0m GPU available: True (cuda), used: True\n",
      "\u001b[36m(_tune_wrapper pid=7564)\u001b[0m TPU available: False, using: 0 TPU cores\n",
      "\u001b[36m(_tune_wrapper pid=7564)\u001b[0m HPU available: False, using: 0 HPUs\n",
      "\u001b[36m(_tune_wrapper pid=7564)\u001b[0m LOCAL_RANK: 0 - CUDA_VISIBLE_DEVICES: [0]\n",
      "\u001b[36m(_tune_wrapper pid=7564)\u001b[0m \n",
      "\u001b[36m(_tune_wrapper pid=7564)\u001b[0m   | Name       | Type              | Params | Mode  | In sizes       | Out sizes     \n",
      "\u001b[36m(_tune_wrapper pid=7564)\u001b[0m -------------------------------------------------------------------------------------------\n",
      "\u001b[36m(_tune_wrapper pid=7564)\u001b[0m 0 | criterion  | SmoothL1Loss      | 0      | train | ?              | ?             \n",
      "\u001b[36m(_tune_wrapper pid=7564)\u001b[0m 1 | mae        | MeanAbsoluteError | 0      | train | ?              | ?             \n",
      "\u001b[36m(_tune_wrapper pid=7564)\u001b[0m 2 | mse        | MeanSquaredError  | 0      | train | ?              | ?             \n",
      "\u001b[36m(_tune_wrapper pid=7564)\u001b[0m 3 | rmse       | MeanSquaredError  | 0      | train | ?              | ?             \n",
      "\u001b[36m(_tune_wrapper pid=7564)\u001b[0m 4 | face_stack | ConvStack         | 371 K  | train | [1, 3, 64, 64] | [1, 256, 1, 1]\n",
      "\u001b[36m(_tune_wrapper pid=7564)\u001b[0m 5 | l_stack    | ConvStack         | 93.5 K | train | [1, 3, 64, 64] | [1, 128, 1, 1]\n",
      "\u001b[36m(_tune_wrapper pid=7564)\u001b[0m 6 | r_stack    | ConvStack         | 93.5 K | train | [1, 3, 64, 64] | [1, 128, 1, 1]\n",
      "\u001b[36m(_tune_wrapper pid=7564)\u001b[0m 7 | head_stack | ConvStack         | 23.4 K | train | [1, 1, 64, 64] | [1, 64, 1, 1] \n",
      "\u001b[36m(_tune_wrapper pid=7564)\u001b[0m 8 | regressor  | Sequential        | 148 K  | train | [1, 577]       | [1, 2]        \n",
      "\u001b[36m(_tune_wrapper pid=7564)\u001b[0m -------------------------------------------------------------------------------------------\n",
      "\u001b[36m(_tune_wrapper pid=7564)\u001b[0m 730 K     Trainable params\n",
      "\u001b[36m(_tune_wrapper pid=7564)\u001b[0m 0         Non-trainable params\n",
      "\u001b[36m(_tune_wrapper pid=7564)\u001b[0m 730 K     Total params\n",
      "\u001b[36m(_tune_wrapper pid=7564)\u001b[0m 2.920     Total estimated model params size (MB)\n",
      "\u001b[36m(_tune_wrapper pid=7564)\u001b[0m 76        Modules in train mode\n",
      "\u001b[36m(_tune_wrapper pid=7564)\u001b[0m 0         Modules in eval mode\n",
      "2025-06-04 22:38:51,750\tINFO tensorboardx.py:308 -- Removed the following hyperparameter values when logging to tensorboard: {'face_channels': (64, 128, 256), 'eye_channels': (32, 64, 128), 'head_pos_channels': (16, 32, 64)}\n",
      "\u001b[36m(_tune_wrapper pid=7564)\u001b[0m Checkpoint successfully created at: Checkpoint(filesystem=local, path=c:/Users/Youssef/Desktop/TFG/eye-tracker-vocacions/src/logs/full/tune_20250604-161552/6fc5e_00022/checkpoint_000000)\n",
      "\u001b[36m(_tune_wrapper pid=9372)\u001b[0m Seed set to 1217\n",
      "\u001b[36m(_tune_wrapper pid=9372)\u001b[0m Using bfloat16 Automatic Mixed Precision (AMP)\n",
      "\u001b[36m(_tune_wrapper pid=9372)\u001b[0m Using default `ModelCheckpoint`. Consider installing `litmodels` package to enable `LitModelCheckpoint` for automatic upload to the Lightning model registry.\n",
      "\u001b[36m(_tune_wrapper pid=9372)\u001b[0m GPU available: True (cuda), used: True\n",
      "\u001b[36m(_tune_wrapper pid=9372)\u001b[0m TPU available: False, using: 0 TPU cores\n",
      "\u001b[36m(_tune_wrapper pid=9372)\u001b[0m HPU available: False, using: 0 HPUs\n",
      "\u001b[36m(_tune_wrapper pid=9372)\u001b[0m LOCAL_RANK: 0 - CUDA_VISIBLE_DEVICES: [0]\n",
      "\u001b[36m(_tune_wrapper pid=9372)\u001b[0m \n",
      "\u001b[36m(_tune_wrapper pid=9372)\u001b[0m   | Name       | Type              | Params | Mode  | In sizes       | Out sizes     \n",
      "\u001b[36m(_tune_wrapper pid=9372)\u001b[0m -------------------------------------------------------------------------------------------\n",
      "\u001b[36m(_tune_wrapper pid=9372)\u001b[0m 0 | criterion  | SmoothL1Loss      | 0      | train | ?              | ?             \n",
      "\u001b[36m(_tune_wrapper pid=9372)\u001b[0m 1 | mae        | MeanAbsoluteError | 0      | train | ?              | ?             \n",
      "\u001b[36m(_tune_wrapper pid=9372)\u001b[0m 2 | mse        | MeanSquaredError  | 0      | train | ?              | ?             \n",
      "\u001b[36m(_tune_wrapper pid=9372)\u001b[0m 3 | rmse       | MeanSquaredError  | 0      | train | ?              | ?             \n",
      "\u001b[36m(_tune_wrapper pid=9372)\u001b[0m 4 | face_stack | ConvStack         | 93.5 K | train | [1, 3, 64, 64] | [1, 128, 1, 1]\n",
      "\u001b[36m(_tune_wrapper pid=9372)\u001b[0m 5 | l_stack    | ConvStack         | 371 K  | train | [1, 3, 64, 64] | [1, 256, 1, 1]\n",
      "\u001b[36m(_tune_wrapper pid=9372)\u001b[0m 6 | r_stack    | ConvStack         | 371 K  | train | [1, 3, 64, 64] | [1, 256, 1, 1]\n",
      "\u001b[36m(_tune_wrapper pid=9372)\u001b[0m 7 | head_stack | ConvStack         | 92.9 K | train | [1, 1, 64, 64] | [1, 128, 1, 1]\n",
      "\u001b[36m(_tune_wrapper pid=9372)\u001b[0m 8 | regressor  | Sequential        | 592 K  | train | [1, 769]       | [1, 2]        \n",
      "\u001b[36m(_tune_wrapper pid=9372)\u001b[0m -------------------------------------------------------------------------------------------\n",
      "\u001b[36m(_tune_wrapper pid=9372)\u001b[0m 1.5 M     Trainable params\n",
      "\u001b[36m(_tune_wrapper pid=9372)\u001b[0m 0         Non-trainable params\n",
      "\u001b[36m(_tune_wrapper pid=9372)\u001b[0m 1.5 M     Total params\n",
      "\u001b[36m(_tune_wrapper pid=9372)\u001b[0m 6.087     Total estimated model params size (MB)\n",
      "\u001b[36m(_tune_wrapper pid=9372)\u001b[0m 76        Modules in train mode\n",
      "\u001b[36m(_tune_wrapper pid=9372)\u001b[0m 0         Modules in eval mode\n",
      "\u001b[36m(_tune_wrapper pid=9372)\u001b[0m Checkpoint successfully created at: Checkpoint(filesystem=local, path=c:/Users/Youssef/Desktop/TFG/eye-tracker-vocacions/src/logs/full/tune_20250604-161552/6fc5e_00023/checkpoint_000000)\n",
      "2025-06-04 23:04:21,219\tINFO tensorboardx.py:308 -- Removed the following hyperparameter values when logging to tensorboard: {'face_channels': (32, 64, 128), 'eye_channels': (64, 128, 256), 'head_pos_channels': (32, 64, 128)}\n",
      "\u001b[36m(_tune_wrapper pid=9372)\u001b[0m Checkpoint successfully created at: Checkpoint(filesystem=local, path=c:/Users/Youssef/Desktop/TFG/eye-tracker-vocacions/src/logs/full/tune_20250604-161552/6fc5e_00023/checkpoint_000001)\n",
      "\u001b[36m(_tune_wrapper pid=3108)\u001b[0m Seed set to 2729\n",
      "\u001b[36m(_tune_wrapper pid=3108)\u001b[0m Using bfloat16 Automatic Mixed Precision (AMP)\n",
      "\u001b[36m(_tune_wrapper pid=3108)\u001b[0m Using default `ModelCheckpoint`. Consider installing `litmodels` package to enable `LitModelCheckpoint` for automatic upload to the Lightning model registry.\n",
      "\u001b[36m(_tune_wrapper pid=3108)\u001b[0m GPU available: True (cuda), used: True\n",
      "\u001b[36m(_tune_wrapper pid=3108)\u001b[0m TPU available: False, using: 0 TPU cores\n",
      "\u001b[36m(_tune_wrapper pid=3108)\u001b[0m HPU available: False, using: 0 HPUs\n",
      "\u001b[36m(_tune_wrapper pid=3108)\u001b[0m LOCAL_RANK: 0 - CUDA_VISIBLE_DEVICES: [0]\n",
      "\u001b[36m(_tune_wrapper pid=3108)\u001b[0m \n",
      "\u001b[36m(_tune_wrapper pid=3108)\u001b[0m   | Name       | Type              | Params | Mode  | In sizes       | Out sizes     \n",
      "\u001b[36m(_tune_wrapper pid=3108)\u001b[0m -------------------------------------------------------------------------------------------\n",
      "\u001b[36m(_tune_wrapper pid=3108)\u001b[0m 0 | criterion  | SmoothL1Loss      | 0      | train | ?              | ?             \n",
      "\u001b[36m(_tune_wrapper pid=3108)\u001b[0m 1 | mae        | MeanAbsoluteError | 0      | train | ?              | ?             \n",
      "\u001b[36m(_tune_wrapper pid=3108)\u001b[0m 2 | mse        | MeanSquaredError  | 0      | train | ?              | ?             \n",
      "\u001b[36m(_tune_wrapper pid=3108)\u001b[0m 3 | rmse       | MeanSquaredError  | 0      | train | ?              | ?             \n",
      "\u001b[36m(_tune_wrapper pid=3108)\u001b[0m 4 | face_stack | ConvStack         | 371 K  | train | [1, 3, 64, 64] | [1, 256, 1, 1]\n",
      "\u001b[36m(_tune_wrapper pid=3108)\u001b[0m 5 | l_stack    | ConvStack         | 371 K  | train | [1, 3, 64, 64] | [1, 256, 1, 1]\n",
      "\u001b[36m(_tune_wrapper pid=3108)\u001b[0m 6 | r_stack    | ConvStack         | 371 K  | train | [1, 3, 64, 64] | [1, 256, 1, 1]\n",
      "\u001b[36m(_tune_wrapper pid=3108)\u001b[0m 7 | head_stack | ConvStack         | 23.4 K | train | [1, 1, 64, 64] | [1, 64, 1, 1] \n",
      "\u001b[36m(_tune_wrapper pid=3108)\u001b[0m 8 | regressor  | Sequential        | 856 K  | train | [1, 833]       | [1, 2]        \n",
      "\u001b[36m(_tune_wrapper pid=3108)\u001b[0m -------------------------------------------------------------------------------------------\n",
      "\u001b[36m(_tune_wrapper pid=3108)\u001b[0m 2.0 M     Trainable params\n",
      "\u001b[36m(_tune_wrapper pid=3108)\u001b[0m 0         Non-trainable params\n",
      "\u001b[36m(_tune_wrapper pid=3108)\u001b[0m 2.0 M     Total params\n",
      "\u001b[36m(_tune_wrapper pid=3108)\u001b[0m 7.973     Total estimated model params size (MB)\n",
      "\u001b[36m(_tune_wrapper pid=3108)\u001b[0m 76        Modules in train mode\n",
      "\u001b[36m(_tune_wrapper pid=3108)\u001b[0m 0         Modules in eval mode\n",
      "\u001b[36m(_tune_wrapper pid=3108)\u001b[0m Checkpoint successfully created at: Checkpoint(filesystem=local, path=c:/Users/Youssef/Desktop/TFG/eye-tracker-vocacions/src/logs/full/tune_20250604-161552/6fc5e_00024/checkpoint_000000)\n",
      "\u001b[36m(_tune_wrapper pid=3108)\u001b[0m Checkpoint successfully created at: Checkpoint(filesystem=local, path=c:/Users/Youssef/Desktop/TFG/eye-tracker-vocacions/src/logs/full/tune_20250604-161552/6fc5e_00024/checkpoint_000001)\n",
      "\u001b[36m(_tune_wrapper pid=3108)\u001b[0m Checkpoint successfully created at: Checkpoint(filesystem=local, path=c:/Users/Youssef/Desktop/TFG/eye-tracker-vocacions/src/logs/full/tune_20250604-161552/6fc5e_00024/checkpoint_000002)\n",
      "\u001b[36m(_tune_wrapper pid=3108)\u001b[0m Checkpoint successfully created at: Checkpoint(filesystem=local, path=c:/Users/Youssef/Desktop/TFG/eye-tracker-vocacions/src/logs/full/tune_20250604-161552/6fc5e_00024/checkpoint_000003)\n",
      "\u001b[36m(_tune_wrapper pid=3108)\u001b[0m Checkpoint successfully created at: Checkpoint(filesystem=local, path=c:/Users/Youssef/Desktop/TFG/eye-tracker-vocacions/src/logs/full/tune_20250604-161552/6fc5e_00024/checkpoint_000004)\n",
      "\u001b[36m(_tune_wrapper pid=3108)\u001b[0m Checkpoint successfully created at: Checkpoint(filesystem=local, path=c:/Users/Youssef/Desktop/TFG/eye-tracker-vocacions/src/logs/full/tune_20250604-161552/6fc5e_00024/checkpoint_000005)\n",
      "\u001b[36m(_tune_wrapper pid=3108)\u001b[0m Checkpoint successfully created at: Checkpoint(filesystem=local, path=c:/Users/Youssef/Desktop/TFG/eye-tracker-vocacions/src/logs/full/tune_20250604-161552/6fc5e_00024/checkpoint_000006)\n",
      "2025-06-05 00:26:32,058\tINFO tensorboardx.py:308 -- Removed the following hyperparameter values when logging to tensorboard: {'face_channels': (64, 128, 256), 'eye_channels': (64, 128, 256), 'head_pos_channels': (16, 32, 64)}\n",
      "\u001b[36m(_tune_wrapper pid=3108)\u001b[0m Checkpoint successfully created at: Checkpoint(filesystem=local, path=c:/Users/Youssef/Desktop/TFG/eye-tracker-vocacions/src/logs/full/tune_20250604-161552/6fc5e_00024/checkpoint_000007)\n",
      "\u001b[36m(_tune_wrapper pid=15104)\u001b[0m Seed set to 8369\n",
      "\u001b[36m(_tune_wrapper pid=15104)\u001b[0m Using bfloat16 Automatic Mixed Precision (AMP)\n",
      "\u001b[36m(_tune_wrapper pid=15104)\u001b[0m Using default `ModelCheckpoint`. Consider installing `litmodels` package to enable `LitModelCheckpoint` for automatic upload to the Lightning model registry.\n",
      "\u001b[36m(_tune_wrapper pid=15104)\u001b[0m GPU available: True (cuda), used: True\n",
      "\u001b[36m(_tune_wrapper pid=15104)\u001b[0m TPU available: False, using: 0 TPU cores\n",
      "\u001b[36m(_tune_wrapper pid=15104)\u001b[0m HPU available: False, using: 0 HPUs\n",
      "\u001b[36m(_tune_wrapper pid=15104)\u001b[0m LOCAL_RANK: 0 - CUDA_VISIBLE_DEVICES: [0]\n",
      "\u001b[36m(_tune_wrapper pid=15104)\u001b[0m \n",
      "\u001b[36m(_tune_wrapper pid=15104)\u001b[0m   | Name       | Type              | Params | Mode  | In sizes       | Out sizes     \n",
      "\u001b[36m(_tune_wrapper pid=15104)\u001b[0m -------------------------------------------------------------------------------------------\n",
      "\u001b[36m(_tune_wrapper pid=15104)\u001b[0m 0 | criterion  | SmoothL1Loss      | 0      | train | ?              | ?             \n",
      "\u001b[36m(_tune_wrapper pid=15104)\u001b[0m 1 | mae        | MeanAbsoluteError | 0      | train | ?              | ?             \n",
      "\u001b[36m(_tune_wrapper pid=15104)\u001b[0m 2 | mse        | MeanSquaredError  | 0      | train | ?              | ?             \n",
      "\u001b[36m(_tune_wrapper pid=15104)\u001b[0m 3 | rmse       | MeanSquaredError  | 0      | train | ?              | ?             \n",
      "\u001b[36m(_tune_wrapper pid=15104)\u001b[0m 4 | face_stack | ConvStack         | 371 K  | train | [1, 3, 64, 64] | [1, 256, 1, 1]\n",
      "\u001b[36m(_tune_wrapper pid=15104)\u001b[0m 5 | l_stack    | ConvStack         | 209 K  | train | [1, 3, 64, 64] | [1, 192, 1, 1]\n",
      "\u001b[36m(_tune_wrapper pid=15104)\u001b[0m 6 | r_stack    | ConvStack         | 209 K  | train | [1, 3, 64, 64] | [1, 192, 1, 1]\n",
      "\u001b[36m(_tune_wrapper pid=15104)\u001b[0m 7 | head_stack | ConvStack         | 23.4 K | train | [1, 1, 64, 64] | [1, 64, 1, 1] \n",
      "\u001b[36m(_tune_wrapper pid=15104)\u001b[0m 8 | regressor  | Sequential        | 362 K  | train | [1, 705]       | [1, 2]        \n",
      "\u001b[36m(_tune_wrapper pid=15104)\u001b[0m -------------------------------------------------------------------------------------------\n",
      "\u001b[36m(_tune_wrapper pid=15104)\u001b[0m 1.2 M     Trainable params\n",
      "\u001b[36m(_tune_wrapper pid=15104)\u001b[0m 0         Non-trainable params\n",
      "\u001b[36m(_tune_wrapper pid=15104)\u001b[0m 1.2 M     Total params\n",
      "\u001b[36m(_tune_wrapper pid=15104)\u001b[0m 4.703     Total estimated model params size (MB)\n",
      "\u001b[36m(_tune_wrapper pid=15104)\u001b[0m 76        Modules in train mode\n",
      "\u001b[36m(_tune_wrapper pid=15104)\u001b[0m 0         Modules in eval mode\n",
      "\u001b[36m(_tune_wrapper pid=15104)\u001b[0m Checkpoint successfully created at: Checkpoint(filesystem=local, path=c:/Users/Youssef/Desktop/TFG/eye-tracker-vocacions/src/logs/full/tune_20250604-161552/6fc5e_00025/checkpoint_000000)\n",
      "2025-06-05 00:36:43,234\tINFO tensorboardx.py:308 -- Removed the following hyperparameter values when logging to tensorboard: {'face_channels': (64, 128, 256), 'eye_channels': (48, 96, 192), 'head_pos_channels': (16, 32, 64)}\n",
      "\u001b[36m(_tune_wrapper pid=17772)\u001b[0m Seed set to 6942\n",
      "\u001b[36m(_tune_wrapper pid=17772)\u001b[0m Using bfloat16 Automatic Mixed Precision (AMP)\n",
      "\u001b[36m(_tune_wrapper pid=17772)\u001b[0m Using default `ModelCheckpoint`. Consider installing `litmodels` package to enable `LitModelCheckpoint` for automatic upload to the Lightning model registry.\n",
      "\u001b[36m(_tune_wrapper pid=17772)\u001b[0m GPU available: True (cuda), used: True\n",
      "\u001b[36m(_tune_wrapper pid=17772)\u001b[0m TPU available: False, using: 0 TPU cores\n",
      "\u001b[36m(_tune_wrapper pid=17772)\u001b[0m HPU available: False, using: 0 HPUs\n",
      "\u001b[36m(_tune_wrapper pid=17772)\u001b[0m LOCAL_RANK: 0 - CUDA_VISIBLE_DEVICES: [0]\n",
      "\u001b[36m(_tune_wrapper pid=17772)\u001b[0m \n",
      "\u001b[36m(_tune_wrapper pid=17772)\u001b[0m   | Name       | Type              | Params | Mode  | In sizes       | Out sizes     \n",
      "\u001b[36m(_tune_wrapper pid=17772)\u001b[0m -------------------------------------------------------------------------------------------\n",
      "\u001b[36m(_tune_wrapper pid=17772)\u001b[0m 0 | criterion  | SmoothL1Loss      | 0      | train | ?              | ?             \n",
      "\u001b[36m(_tune_wrapper pid=17772)\u001b[0m 1 | mae        | MeanAbsoluteError | 0      | train | ?              | ?             \n",
      "\u001b[36m(_tune_wrapper pid=17772)\u001b[0m 2 | mse        | MeanSquaredError  | 0      | train | ?              | ?             \n",
      "\u001b[36m(_tune_wrapper pid=17772)\u001b[0m 3 | rmse       | MeanSquaredError  | 0      | train | ?              | ?             \n",
      "\u001b[36m(_tune_wrapper pid=17772)\u001b[0m 4 | face_stack | ConvStack         | 371 K  | train | [1, 3, 64, 64] | [1, 256, 1, 1]\n",
      "\u001b[36m(_tune_wrapper pid=17772)\u001b[0m 5 | l_stack    | ConvStack         | 93.5 K | train | [1, 3, 64, 64] | [1, 128, 1, 1]\n",
      "\u001b[36m(_tune_wrapper pid=17772)\u001b[0m 6 | r_stack    | ConvStack         | 93.5 K | train | [1, 3, 64, 64] | [1, 128, 1, 1]\n",
      "\u001b[36m(_tune_wrapper pid=17772)\u001b[0m 7 | head_stack | ConvStack         | 52.4 K | train | [1, 1, 64, 64] | [1, 96, 1, 1] \n",
      "\u001b[36m(_tune_wrapper pid=17772)\u001b[0m 8 | regressor  | Sequential        | 156 K  | train | [1, 609]       | [1, 2]        \n",
      "\u001b[36m(_tune_wrapper pid=17772)\u001b[0m -------------------------------------------------------------------------------------------\n",
      "\u001b[36m(_tune_wrapper pid=17772)\u001b[0m 767 K     Trainable params\n",
      "\u001b[36m(_tune_wrapper pid=17772)\u001b[0m 0         Non-trainable params\n",
      "\u001b[36m(_tune_wrapper pid=17772)\u001b[0m 767 K     Total params\n",
      "\u001b[36m(_tune_wrapper pid=17772)\u001b[0m 3.069     Total estimated model params size (MB)\n",
      "\u001b[36m(_tune_wrapper pid=17772)\u001b[0m 76        Modules in train mode\n",
      "\u001b[36m(_tune_wrapper pid=17772)\u001b[0m 0         Modules in eval mode\n",
      "2025-06-05 00:47:04,506\tINFO tensorboardx.py:308 -- Removed the following hyperparameter values when logging to tensorboard: {'face_channels': (64, 128, 256), 'eye_channels': (32, 64, 128), 'head_pos_channels': (24, 48, 96)}\n",
      "\u001b[36m(_tune_wrapper pid=17772)\u001b[0m Checkpoint successfully created at: Checkpoint(filesystem=local, path=c:/Users/Youssef/Desktop/TFG/eye-tracker-vocacions/src/logs/full/tune_20250604-161552/6fc5e_00026/checkpoint_000000)\n",
      "\u001b[36m(_tune_wrapper pid=18376)\u001b[0m Seed set to 941\n",
      "\u001b[36m(_tune_wrapper pid=18376)\u001b[0m Using bfloat16 Automatic Mixed Precision (AMP)\n",
      "\u001b[36m(_tune_wrapper pid=18376)\u001b[0m Using default `ModelCheckpoint`. Consider installing `litmodels` package to enable `LitModelCheckpoint` for automatic upload to the Lightning model registry.\n",
      "\u001b[36m(_tune_wrapper pid=18376)\u001b[0m GPU available: True (cuda), used: True\n",
      "\u001b[36m(_tune_wrapper pid=18376)\u001b[0m TPU available: False, using: 0 TPU cores\n",
      "\u001b[36m(_tune_wrapper pid=18376)\u001b[0m HPU available: False, using: 0 HPUs\n",
      "\u001b[36m(_tune_wrapper pid=18376)\u001b[0m LOCAL_RANK: 0 - CUDA_VISIBLE_DEVICES: [0]\n",
      "\u001b[36m(_tune_wrapper pid=18376)\u001b[0m \n",
      "\u001b[36m(_tune_wrapper pid=18376)\u001b[0m   | Name       | Type              | Params | Mode  | In sizes       | Out sizes     \n",
      "\u001b[36m(_tune_wrapper pid=18376)\u001b[0m -------------------------------------------------------------------------------------------\n",
      "\u001b[36m(_tune_wrapper pid=18376)\u001b[0m 0 | criterion  | SmoothL1Loss      | 0      | train | ?              | ?             \n",
      "\u001b[36m(_tune_wrapper pid=18376)\u001b[0m 1 | mae        | MeanAbsoluteError | 0      | train | ?              | ?             \n",
      "\u001b[36m(_tune_wrapper pid=18376)\u001b[0m 2 | mse        | MeanSquaredError  | 0      | train | ?              | ?             \n",
      "\u001b[36m(_tune_wrapper pid=18376)\u001b[0m 3 | rmse       | MeanSquaredError  | 0      | train | ?              | ?             \n",
      "\u001b[36m(_tune_wrapper pid=18376)\u001b[0m 4 | face_stack | ConvStack         | 209 K  | train | [1, 3, 64, 64] | [1, 192, 1, 1]\n",
      "\u001b[36m(_tune_wrapper pid=18376)\u001b[0m 5 | l_stack    | ConvStack         | 371 K  | train | [1, 3, 64, 64] | [1, 256, 1, 1]\n",
      "\u001b[36m(_tune_wrapper pid=18376)\u001b[0m 6 | r_stack    | ConvStack         | 371 K  | train | [1, 3, 64, 64] | [1, 256, 1, 1]\n",
      "\u001b[36m(_tune_wrapper pid=18376)\u001b[0m 7 | head_stack | ConvStack         | 92.9 K | train | [1, 1, 64, 64] | [1, 128, 1, 1]\n",
      "\u001b[36m(_tune_wrapper pid=18376)\u001b[0m 8 | regressor  | Sequential        | 856 K  | train | [1, 833]       | [1, 2]        \n",
      "\u001b[36m(_tune_wrapper pid=18376)\u001b[0m -------------------------------------------------------------------------------------------\n",
      "\u001b[36m(_tune_wrapper pid=18376)\u001b[0m 1.9 M     Trainable params\n",
      "\u001b[36m(_tune_wrapper pid=18376)\u001b[0m 0         Non-trainable params\n",
      "\u001b[36m(_tune_wrapper pid=18376)\u001b[0m 1.9 M     Total params\n",
      "\u001b[36m(_tune_wrapper pid=18376)\u001b[0m 7.603     Total estimated model params size (MB)\n",
      "\u001b[36m(_tune_wrapper pid=18376)\u001b[0m 76        Modules in train mode\n",
      "\u001b[36m(_tune_wrapper pid=18376)\u001b[0m 0         Modules in eval mode\n",
      "\u001b[36m(_tune_wrapper pid=18376)\u001b[0m Checkpoint successfully created at: Checkpoint(filesystem=local, path=c:/Users/Youssef/Desktop/TFG/eye-tracker-vocacions/src/logs/full/tune_20250604-161552/6fc5e_00027/checkpoint_000000)\n",
      "\u001b[36m(_tune_wrapper pid=18376)\u001b[0m Checkpoint successfully created at: Checkpoint(filesystem=local, path=c:/Users/Youssef/Desktop/TFG/eye-tracker-vocacions/src/logs/full/tune_20250604-161552/6fc5e_00027/checkpoint_000001)\n",
      "\u001b[36m(_tune_wrapper pid=18376)\u001b[0m Checkpoint successfully created at: Checkpoint(filesystem=local, path=c:/Users/Youssef/Desktop/TFG/eye-tracker-vocacions/src/logs/full/tune_20250604-161552/6fc5e_00027/checkpoint_000002)\n",
      "\u001b[36m(_tune_wrapper pid=18376)\u001b[0m Checkpoint successfully created at: Checkpoint(filesystem=local, path=c:/Users/Youssef/Desktop/TFG/eye-tracker-vocacions/src/logs/full/tune_20250604-161552/6fc5e_00027/checkpoint_000003)\n",
      "\u001b[36m(_tune_wrapper pid=18376)\u001b[0m Checkpoint successfully created at: Checkpoint(filesystem=local, path=c:/Users/Youssef/Desktop/TFG/eye-tracker-vocacions/src/logs/full/tune_20250604-161552/6fc5e_00027/checkpoint_000004)\n",
      "\u001b[36m(_tune_wrapper pid=18376)\u001b[0m Checkpoint successfully created at: Checkpoint(filesystem=local, path=c:/Users/Youssef/Desktop/TFG/eye-tracker-vocacions/src/logs/full/tune_20250604-161552/6fc5e_00027/checkpoint_000005)\n",
      "\u001b[36m(_tune_wrapper pid=18376)\u001b[0m Checkpoint successfully created at: Checkpoint(filesystem=local, path=c:/Users/Youssef/Desktop/TFG/eye-tracker-vocacions/src/logs/full/tune_20250604-161552/6fc5e_00027/checkpoint_000006)\n",
      "\u001b[36m(_tune_wrapper pid=18376)\u001b[0m Checkpoint successfully created at: Checkpoint(filesystem=local, path=c:/Users/Youssef/Desktop/TFG/eye-tracker-vocacions/src/logs/full/tune_20250604-161552/6fc5e_00027/checkpoint_000007)\n",
      "\u001b[36m(_tune_wrapper pid=18376)\u001b[0m Checkpoint successfully created at: Checkpoint(filesystem=local, path=c:/Users/Youssef/Desktop/TFG/eye-tracker-vocacions/src/logs/full/tune_20250604-161552/6fc5e_00027/checkpoint_000008)\n",
      "\u001b[36m(_tune_wrapper pid=18376)\u001b[0m Checkpoint successfully created at: Checkpoint(filesystem=local, path=c:/Users/Youssef/Desktop/TFG/eye-tracker-vocacions/src/logs/full/tune_20250604-161552/6fc5e_00027/checkpoint_000009)\n",
      "\u001b[36m(_tune_wrapper pid=18376)\u001b[0m Checkpoint successfully created at: Checkpoint(filesystem=local, path=c:/Users/Youssef/Desktop/TFG/eye-tracker-vocacions/src/logs/full/tune_20250604-161552/6fc5e_00027/checkpoint_000010)\n",
      "\u001b[36m(_tune_wrapper pid=18376)\u001b[0m Checkpoint successfully created at: Checkpoint(filesystem=local, path=c:/Users/Youssef/Desktop/TFG/eye-tracker-vocacions/src/logs/full/tune_20250604-161552/6fc5e_00027/checkpoint_000011)\n",
      "\u001b[36m(_tune_wrapper pid=18376)\u001b[0m Checkpoint successfully created at: Checkpoint(filesystem=local, path=c:/Users/Youssef/Desktop/TFG/eye-tracker-vocacions/src/logs/full/tune_20250604-161552/6fc5e_00027/checkpoint_000012)\n",
      "\u001b[36m(_tune_wrapper pid=18376)\u001b[0m Checkpoint successfully created at: Checkpoint(filesystem=local, path=c:/Users/Youssef/Desktop/TFG/eye-tracker-vocacions/src/logs/full/tune_20250604-161552/6fc5e_00027/checkpoint_000013)\n",
      "2025-06-05 03:18:37,976\tINFO tensorboardx.py:308 -- Removed the following hyperparameter values when logging to tensorboard: {'face_channels': (48, 96, 192), 'eye_channels': (64, 128, 256), 'head_pos_channels': (32, 64, 128)}\n",
      "\u001b[36m(_tune_wrapper pid=18376)\u001b[0m Checkpoint successfully created at: Checkpoint(filesystem=local, path=c:/Users/Youssef/Desktop/TFG/eye-tracker-vocacions/src/logs/full/tune_20250604-161552/6fc5e_00027/checkpoint_000014)\n",
      "\u001b[36m(_tune_wrapper pid=5224)\u001b[0m Seed set to 6695\n",
      "\u001b[36m(_tune_wrapper pid=5224)\u001b[0m Using bfloat16 Automatic Mixed Precision (AMP)\n",
      "\u001b[36m(_tune_wrapper pid=5224)\u001b[0m Using default `ModelCheckpoint`. Consider installing `litmodels` package to enable `LitModelCheckpoint` for automatic upload to the Lightning model registry.\n",
      "\u001b[36m(_tune_wrapper pid=5224)\u001b[0m GPU available: True (cuda), used: True\n",
      "\u001b[36m(_tune_wrapper pid=5224)\u001b[0m TPU available: False, using: 0 TPU cores\n",
      "\u001b[36m(_tune_wrapper pid=5224)\u001b[0m HPU available: False, using: 0 HPUs\n",
      "\u001b[36m(_tune_wrapper pid=5224)\u001b[0m LOCAL_RANK: 0 - CUDA_VISIBLE_DEVICES: [0]\n",
      "\u001b[36m(_tune_wrapper pid=5224)\u001b[0m \n",
      "\u001b[36m(_tune_wrapper pid=5224)\u001b[0m   | Name       | Type              | Params | Mode  | In sizes       | Out sizes     \n",
      "\u001b[36m(_tune_wrapper pid=5224)\u001b[0m -------------------------------------------------------------------------------------------\n",
      "\u001b[36m(_tune_wrapper pid=5224)\u001b[0m 0 | criterion  | SmoothL1Loss      | 0      | train | ?              | ?             \n",
      "\u001b[36m(_tune_wrapper pid=5224)\u001b[0m 1 | mae        | MeanAbsoluteError | 0      | train | ?              | ?             \n",
      "\u001b[36m(_tune_wrapper pid=5224)\u001b[0m 2 | mse        | MeanSquaredError  | 0      | train | ?              | ?             \n",
      "\u001b[36m(_tune_wrapper pid=5224)\u001b[0m 3 | rmse       | MeanSquaredError  | 0      | train | ?              | ?             \n",
      "\u001b[36m(_tune_wrapper pid=5224)\u001b[0m 4 | face_stack | ConvStack         | 371 K  | train | [1, 3, 64, 64] | [1, 256, 1, 1]\n",
      "\u001b[36m(_tune_wrapper pid=5224)\u001b[0m 5 | l_stack    | ConvStack         | 371 K  | train | [1, 3, 64, 64] | [1, 256, 1, 1]\n",
      "\u001b[36m(_tune_wrapper pid=5224)\u001b[0m 6 | r_stack    | ConvStack         | 371 K  | train | [1, 3, 64, 64] | [1, 256, 1, 1]\n",
      "\u001b[36m(_tune_wrapper pid=5224)\u001b[0m 7 | head_stack | ConvStack         | 52.4 K | train | [1, 1, 64, 64] | [1, 96, 1, 1] \n",
      "\u001b[36m(_tune_wrapper pid=5224)\u001b[0m 8 | regressor  | Sequential        | 222 K  | train | [1, 865]       | [1, 2]        \n",
      "\u001b[36m(_tune_wrapper pid=5224)\u001b[0m -------------------------------------------------------------------------------------------\n",
      "\u001b[36m(_tune_wrapper pid=5224)\u001b[0m 1.4 M     Trainable params\n",
      "\u001b[36m(_tune_wrapper pid=5224)\u001b[0m 0         Non-trainable params\n",
      "\u001b[36m(_tune_wrapper pid=5224)\u001b[0m 1.4 M     Total params\n",
      "\u001b[36m(_tune_wrapper pid=5224)\u001b[0m 5.554     Total estimated model params size (MB)\n",
      "\u001b[36m(_tune_wrapper pid=5224)\u001b[0m 76        Modules in train mode\n",
      "\u001b[36m(_tune_wrapper pid=5224)\u001b[0m 0         Modules in eval mode\n",
      "\u001b[36m(_tune_wrapper pid=5224)\u001b[0m Checkpoint successfully created at: Checkpoint(filesystem=local, path=c:/Users/Youssef/Desktop/TFG/eye-tracker-vocacions/src/logs/full/tune_20250604-161552/6fc5e_00028/checkpoint_000000)\n",
      "\u001b[36m(_tune_wrapper pid=5224)\u001b[0m Checkpoint successfully created at: Checkpoint(filesystem=local, path=c:/Users/Youssef/Desktop/TFG/eye-tracker-vocacions/src/logs/full/tune_20250604-161552/6fc5e_00028/checkpoint_000001)\n",
      "\u001b[36m(_tune_wrapper pid=5224)\u001b[0m Checkpoint successfully created at: Checkpoint(filesystem=local, path=c:/Users/Youssef/Desktop/TFG/eye-tracker-vocacions/src/logs/full/tune_20250604-161552/6fc5e_00028/checkpoint_000002)\n",
      "\u001b[36m(_tune_wrapper pid=5224)\u001b[0m Checkpoint successfully created at: Checkpoint(filesystem=local, path=c:/Users/Youssef/Desktop/TFG/eye-tracker-vocacions/src/logs/full/tune_20250604-161552/6fc5e_00028/checkpoint_000003)\n",
      "\u001b[36m(_tune_wrapper pid=5224)\u001b[0m Checkpoint successfully created at: Checkpoint(filesystem=local, path=c:/Users/Youssef/Desktop/TFG/eye-tracker-vocacions/src/logs/full/tune_20250604-161552/6fc5e_00028/checkpoint_000004)\n",
      "\u001b[36m(_tune_wrapper pid=5224)\u001b[0m Checkpoint successfully created at: Checkpoint(filesystem=local, path=c:/Users/Youssef/Desktop/TFG/eye-tracker-vocacions/src/logs/full/tune_20250604-161552/6fc5e_00028/checkpoint_000005)\n",
      "\u001b[36m(_tune_wrapper pid=5224)\u001b[0m Checkpoint successfully created at: Checkpoint(filesystem=local, path=c:/Users/Youssef/Desktop/TFG/eye-tracker-vocacions/src/logs/full/tune_20250604-161552/6fc5e_00028/checkpoint_000006)\n",
      "2025-06-05 04:44:09,023\tINFO tensorboardx.py:308 -- Removed the following hyperparameter values when logging to tensorboard: {'face_channels': (64, 128, 256), 'eye_channels': (64, 128, 256), 'head_pos_channels': (24, 48, 96)}\n",
      "\u001b[36m(_tune_wrapper pid=5224)\u001b[0m Checkpoint successfully created at: Checkpoint(filesystem=local, path=c:/Users/Youssef/Desktop/TFG/eye-tracker-vocacions/src/logs/full/tune_20250604-161552/6fc5e_00028/checkpoint_000007)\n",
      "\u001b[36m(_tune_wrapper pid=18356)\u001b[0m Seed set to 5375\n",
      "\u001b[36m(_tune_wrapper pid=18356)\u001b[0m Using bfloat16 Automatic Mixed Precision (AMP)\n",
      "\u001b[36m(_tune_wrapper pid=18356)\u001b[0m Using default `ModelCheckpoint`. Consider installing `litmodels` package to enable `LitModelCheckpoint` for automatic upload to the Lightning model registry.\n",
      "\u001b[36m(_tune_wrapper pid=18356)\u001b[0m GPU available: True (cuda), used: True\n",
      "\u001b[36m(_tune_wrapper pid=18356)\u001b[0m TPU available: False, using: 0 TPU cores\n",
      "\u001b[36m(_tune_wrapper pid=18356)\u001b[0m HPU available: False, using: 0 HPUs\n",
      "\u001b[36m(_tune_wrapper pid=18356)\u001b[0m LOCAL_RANK: 0 - CUDA_VISIBLE_DEVICES: [0]\n",
      "\u001b[36m(_tune_wrapper pid=18356)\u001b[0m \n",
      "\u001b[36m(_tune_wrapper pid=18356)\u001b[0m   | Name       | Type              | Params | Mode  | In sizes       | Out sizes     \n",
      "\u001b[36m(_tune_wrapper pid=18356)\u001b[0m -------------------------------------------------------------------------------------------\n",
      "\u001b[36m(_tune_wrapper pid=18356)\u001b[0m 0 | criterion  | SmoothL1Loss      | 0      | train | ?              | ?             \n",
      "\u001b[36m(_tune_wrapper pid=18356)\u001b[0m 1 | mae        | MeanAbsoluteError | 0      | train | ?              | ?             \n",
      "\u001b[36m(_tune_wrapper pid=18356)\u001b[0m 2 | mse        | MeanSquaredError  | 0      | train | ?              | ?             \n",
      "\u001b[36m(_tune_wrapper pid=18356)\u001b[0m 3 | rmse       | MeanSquaredError  | 0      | train | ?              | ?             \n",
      "\u001b[36m(_tune_wrapper pid=18356)\u001b[0m 4 | face_stack | ConvStack         | 209 K  | train | [1, 3, 64, 64] | [1, 192, 1, 1]\n",
      "\u001b[36m(_tune_wrapper pid=18356)\u001b[0m 5 | l_stack    | ConvStack         | 371 K  | train | [1, 3, 64, 64] | [1, 256, 1, 1]\n",
      "\u001b[36m(_tune_wrapper pid=18356)\u001b[0m 6 | r_stack    | ConvStack         | 371 K  | train | [1, 3, 64, 64] | [1, 256, 1, 1]\n",
      "\u001b[36m(_tune_wrapper pid=18356)\u001b[0m 7 | head_stack | ConvStack         | 52.4 K | train | [1, 1, 64, 64] | [1, 96, 1, 1] \n",
      "\u001b[36m(_tune_wrapper pid=18356)\u001b[0m 8 | regressor  | Sequential        | 823 K  | train | [1, 801]       | [1, 2]        \n",
      "\u001b[36m(_tune_wrapper pid=18356)\u001b[0m -------------------------------------------------------------------------------------------\n",
      "\u001b[36m(_tune_wrapper pid=18356)\u001b[0m 1.8 M     Trainable params\n",
      "\u001b[36m(_tune_wrapper pid=18356)\u001b[0m 0         Non-trainable params\n",
      "\u001b[36m(_tune_wrapper pid=18356)\u001b[0m 1.8 M     Total params\n",
      "\u001b[36m(_tune_wrapper pid=18356)\u001b[0m 7.310     Total estimated model params size (MB)\n",
      "\u001b[36m(_tune_wrapper pid=18356)\u001b[0m 76        Modules in train mode\n",
      "\u001b[36m(_tune_wrapper pid=18356)\u001b[0m 0         Modules in eval mode\n",
      "\u001b[36m(_tune_wrapper pid=18356)\u001b[0m Checkpoint successfully created at: Checkpoint(filesystem=local, path=c:/Users/Youssef/Desktop/TFG/eye-tracker-vocacions/src/logs/full/tune_20250604-161552/6fc5e_00029/checkpoint_000000)\n",
      "\u001b[36m(_tune_wrapper pid=18356)\u001b[0m Checkpoint successfully created at: Checkpoint(filesystem=local, path=c:/Users/Youssef/Desktop/TFG/eye-tracker-vocacions/src/logs/full/tune_20250604-161552/6fc5e_00029/checkpoint_000001)\n",
      "\u001b[36m(_tune_wrapper pid=18356)\u001b[0m Checkpoint successfully created at: Checkpoint(filesystem=local, path=c:/Users/Youssef/Desktop/TFG/eye-tracker-vocacions/src/logs/full/tune_20250604-161552/6fc5e_00029/checkpoint_000002)\n",
      "2025-06-05 05:25:26,015\tINFO tensorboardx.py:308 -- Removed the following hyperparameter values when logging to tensorboard: {'face_channels': (48, 96, 192), 'eye_channels': (64, 128, 256), 'head_pos_channels': (24, 48, 96)}\n",
      "\u001b[36m(_tune_wrapper pid=18356)\u001b[0m Checkpoint successfully created at: Checkpoint(filesystem=local, path=c:/Users/Youssef/Desktop/TFG/eye-tracker-vocacions/src/logs/full/tune_20250604-161552/6fc5e_00029/checkpoint_000003)\n",
      "\u001b[36m(_tune_wrapper pid=7632)\u001b[0m Seed set to 4726\n",
      "\u001b[36m(_tune_wrapper pid=7632)\u001b[0m Using bfloat16 Automatic Mixed Precision (AMP)\n",
      "\u001b[36m(_tune_wrapper pid=7632)\u001b[0m Using default `ModelCheckpoint`. Consider installing `litmodels` package to enable `LitModelCheckpoint` for automatic upload to the Lightning model registry.\n",
      "\u001b[36m(_tune_wrapper pid=7632)\u001b[0m GPU available: True (cuda), used: True\n",
      "\u001b[36m(_tune_wrapper pid=7632)\u001b[0m TPU available: False, using: 0 TPU cores\n",
      "\u001b[36m(_tune_wrapper pid=7632)\u001b[0m HPU available: False, using: 0 HPUs\n",
      "\u001b[36m(_tune_wrapper pid=7632)\u001b[0m LOCAL_RANK: 0 - CUDA_VISIBLE_DEVICES: [0]\n",
      "\u001b[36m(_tune_wrapper pid=7632)\u001b[0m \n",
      "\u001b[36m(_tune_wrapper pid=7632)\u001b[0m   | Name       | Type              | Params | Mode  | In sizes       | Out sizes     \n",
      "\u001b[36m(_tune_wrapper pid=7632)\u001b[0m -------------------------------------------------------------------------------------------\n",
      "\u001b[36m(_tune_wrapper pid=7632)\u001b[0m 0 | criterion  | SmoothL1Loss      | 0      | train | ?              | ?             \n",
      "\u001b[36m(_tune_wrapper pid=7632)\u001b[0m 1 | mae        | MeanAbsoluteError | 0      | train | ?              | ?             \n",
      "\u001b[36m(_tune_wrapper pid=7632)\u001b[0m 2 | mse        | MeanSquaredError  | 0      | train | ?              | ?             \n",
      "\u001b[36m(_tune_wrapper pid=7632)\u001b[0m 3 | rmse       | MeanSquaredError  | 0      | train | ?              | ?             \n",
      "\u001b[36m(_tune_wrapper pid=7632)\u001b[0m 4 | face_stack | ConvStack         | 371 K  | train | [1, 3, 64, 64] | [1, 256, 1, 1]\n",
      "\u001b[36m(_tune_wrapper pid=7632)\u001b[0m 5 | l_stack    | ConvStack         | 371 K  | train | [1, 3, 64, 64] | [1, 256, 1, 1]\n",
      "\u001b[36m(_tune_wrapper pid=7632)\u001b[0m 6 | r_stack    | ConvStack         | 371 K  | train | [1, 3, 64, 64] | [1, 256, 1, 1]\n",
      "\u001b[36m(_tune_wrapper pid=7632)\u001b[0m 7 | head_stack | ConvStack         | 92.9 K | train | [1, 1, 64, 64] | [1, 128, 1, 1]\n",
      "\u001b[36m(_tune_wrapper pid=7632)\u001b[0m 8 | regressor  | Sequential        | 460 K  | train | [1, 897]       | [1, 2]        \n",
      "\u001b[36m(_tune_wrapper pid=7632)\u001b[0m -------------------------------------------------------------------------------------------\n",
      "\u001b[36m(_tune_wrapper pid=7632)\u001b[0m 1.7 M     Trainable params\n",
      "\u001b[36m(_tune_wrapper pid=7632)\u001b[0m 0         Non-trainable params\n",
      "\u001b[36m(_tune_wrapper pid=7632)\u001b[0m 1.7 M     Total params\n",
      "\u001b[36m(_tune_wrapper pid=7632)\u001b[0m 6.670     Total estimated model params size (MB)\n",
      "\u001b[36m(_tune_wrapper pid=7632)\u001b[0m 76        Modules in train mode\n",
      "\u001b[36m(_tune_wrapper pid=7632)\u001b[0m 0         Modules in eval mode\n",
      "\u001b[36m(_tune_wrapper pid=7632)\u001b[0m Checkpoint successfully created at: Checkpoint(filesystem=local, path=c:/Users/Youssef/Desktop/TFG/eye-tracker-vocacions/src/logs/full/tune_20250604-161552/6fc5e_00030/checkpoint_000000)\n",
      "\u001b[36m(_tune_wrapper pid=7632)\u001b[0m Checkpoint successfully created at: Checkpoint(filesystem=local, path=c:/Users/Youssef/Desktop/TFG/eye-tracker-vocacions/src/logs/full/tune_20250604-161552/6fc5e_00030/checkpoint_000001)\n",
      "\u001b[36m(_tune_wrapper pid=7632)\u001b[0m Checkpoint successfully created at: Checkpoint(filesystem=local, path=c:/Users/Youssef/Desktop/TFG/eye-tracker-vocacions/src/logs/full/tune_20250604-161552/6fc5e_00030/checkpoint_000002)\n",
      "\u001b[36m(_tune_wrapper pid=7632)\u001b[0m Checkpoint successfully created at: Checkpoint(filesystem=local, path=c:/Users/Youssef/Desktop/TFG/eye-tracker-vocacions/src/logs/full/tune_20250604-161552/6fc5e_00030/checkpoint_000003)\n",
      "2025-06-05 06:09:56,999\tINFO tensorboardx.py:308 -- Removed the following hyperparameter values when logging to tensorboard: {'face_channels': (64, 128, 256), 'eye_channels': (64, 128, 256), 'head_pos_channels': (32, 64, 128)}\n",
      "\u001b[36m(_tune_wrapper pid=2300)\u001b[0m Seed set to 990\n",
      "\u001b[36m(_tune_wrapper pid=2300)\u001b[0m Using bfloat16 Automatic Mixed Precision (AMP)\n",
      "\u001b[36m(_tune_wrapper pid=2300)\u001b[0m Using default `ModelCheckpoint`. Consider installing `litmodels` package to enable `LitModelCheckpoint` for automatic upload to the Lightning model registry.\n",
      "\u001b[36m(_tune_wrapper pid=2300)\u001b[0m GPU available: True (cuda), used: True\n",
      "\u001b[36m(_tune_wrapper pid=2300)\u001b[0m TPU available: False, using: 0 TPU cores\n",
      "\u001b[36m(_tune_wrapper pid=2300)\u001b[0m HPU available: False, using: 0 HPUs\n",
      "\u001b[36m(_tune_wrapper pid=2300)\u001b[0m LOCAL_RANK: 0 - CUDA_VISIBLE_DEVICES: [0]\n",
      "\u001b[36m(_tune_wrapper pid=2300)\u001b[0m \n",
      "\u001b[36m(_tune_wrapper pid=2300)\u001b[0m   | Name       | Type              | Params | Mode  | In sizes       | Out sizes     \n",
      "\u001b[36m(_tune_wrapper pid=2300)\u001b[0m -------------------------------------------------------------------------------------------\n",
      "\u001b[36m(_tune_wrapper pid=2300)\u001b[0m 0 | criterion  | SmoothL1Loss      | 0      | train | ?              | ?             \n",
      "\u001b[36m(_tune_wrapper pid=2300)\u001b[0m 1 | mae        | MeanAbsoluteError | 0      | train | ?              | ?             \n",
      "\u001b[36m(_tune_wrapper pid=2300)\u001b[0m 2 | mse        | MeanSquaredError  | 0      | train | ?              | ?             \n",
      "\u001b[36m(_tune_wrapper pid=2300)\u001b[0m 3 | rmse       | MeanSquaredError  | 0      | train | ?              | ?             \n",
      "\u001b[36m(_tune_wrapper pid=2300)\u001b[0m 4 | face_stack | ConvStack         | 371 K  | train | [1, 3, 64, 64] | [1, 256, 1, 1]\n",
      "\u001b[36m(_tune_wrapper pid=2300)\u001b[0m 5 | l_stack    | ConvStack         | 371 K  | train | [1, 3, 64, 64] | [1, 256, 1, 1]\n",
      "\u001b[36m(_tune_wrapper pid=2300)\u001b[0m 6 | r_stack    | ConvStack         | 371 K  | train | [1, 3, 64, 64] | [1, 256, 1, 1]\n",
      "\u001b[36m(_tune_wrapper pid=2300)\u001b[0m 7 | head_stack | ConvStack         | 52.4 K | train | [1, 1, 64, 64] | [1, 96, 1, 1] \n",
      "\u001b[36m(_tune_wrapper pid=2300)\u001b[0m 8 | regressor  | Sequential        | 444 K  | train | [1, 865]       | [1, 2]        \n",
      "\u001b[36m(_tune_wrapper pid=2300)\u001b[0m -------------------------------------------------------------------------------------------\n",
      "\u001b[36m(_tune_wrapper pid=2300)\u001b[0m 1.6 M     Trainable params\n",
      "\u001b[36m(_tune_wrapper pid=2300)\u001b[0m 0         Non-trainable params\n",
      "\u001b[36m(_tune_wrapper pid=2300)\u001b[0m 1.6 M     Total params\n",
      "\u001b[36m(_tune_wrapper pid=2300)\u001b[0m 6.442     Total estimated model params size (MB)\n",
      "\u001b[36m(_tune_wrapper pid=2300)\u001b[0m 76        Modules in train mode\n",
      "\u001b[36m(_tune_wrapper pid=2300)\u001b[0m 0         Modules in eval mode\n",
      "\u001b[36m(_tune_wrapper pid=2300)\u001b[0m Checkpoint successfully created at: Checkpoint(filesystem=local, path=c:/Users/Youssef/Desktop/TFG/eye-tracker-vocacions/src/logs/full/tune_20250604-161552/6fc5e_00031/checkpoint_000000)\n",
      "\u001b[36m(_tune_wrapper pid=2300)\u001b[0m Checkpoint successfully created at: Checkpoint(filesystem=local, path=c:/Users/Youssef/Desktop/TFG/eye-tracker-vocacions/src/logs/full/tune_20250604-161552/6fc5e_00031/checkpoint_000001)\n",
      "\u001b[36m(_tune_wrapper pid=2300)\u001b[0m Checkpoint successfully created at: Checkpoint(filesystem=local, path=c:/Users/Youssef/Desktop/TFG/eye-tracker-vocacions/src/logs/full/tune_20250604-161552/6fc5e_00031/checkpoint_000002)\n",
      "\u001b[36m(_tune_wrapper pid=2300)\u001b[0m Checkpoint successfully created at: Checkpoint(filesystem=local, path=c:/Users/Youssef/Desktop/TFG/eye-tracker-vocacions/src/logs/full/tune_20250604-161552/6fc5e_00031/checkpoint_000003)\n",
      "\u001b[36m(_tune_wrapper pid=2300)\u001b[0m Checkpoint successfully created at: Checkpoint(filesystem=local, path=c:/Users/Youssef/Desktop/TFG/eye-tracker-vocacions/src/logs/full/tune_20250604-161552/6fc5e_00031/checkpoint_000004)\n",
      "\u001b[36m(_tune_wrapper pid=2300)\u001b[0m Checkpoint successfully created at: Checkpoint(filesystem=local, path=c:/Users/Youssef/Desktop/TFG/eye-tracker-vocacions/src/logs/full/tune_20250604-161552/6fc5e_00031/checkpoint_000005)\n",
      "\u001b[36m(_tune_wrapper pid=2300)\u001b[0m Checkpoint successfully created at: Checkpoint(filesystem=local, path=c:/Users/Youssef/Desktop/TFG/eye-tracker-vocacions/src/logs/full/tune_20250604-161552/6fc5e_00031/checkpoint_000006)\n",
      "2025-06-05 07:35:06,547\tINFO tensorboardx.py:308 -- Removed the following hyperparameter values when logging to tensorboard: {'face_channels': (64, 128, 256), 'eye_channels': (64, 128, 256), 'head_pos_channels': (24, 48, 96)}\n",
      "\u001b[36m(_tune_wrapper pid=2300)\u001b[0m Checkpoint successfully created at: Checkpoint(filesystem=local, path=c:/Users/Youssef/Desktop/TFG/eye-tracker-vocacions/src/logs/full/tune_20250604-161552/6fc5e_00031/checkpoint_000007)\n",
      "\u001b[36m(_tune_wrapper pid=13940)\u001b[0m Seed set to 7221\n",
      "\u001b[36m(_tune_wrapper pid=13940)\u001b[0m Using bfloat16 Automatic Mixed Precision (AMP)\n",
      "\u001b[36m(_tune_wrapper pid=13940)\u001b[0m Using default `ModelCheckpoint`. Consider installing `litmodels` package to enable `LitModelCheckpoint` for automatic upload to the Lightning model registry.\n",
      "\u001b[36m(_tune_wrapper pid=13940)\u001b[0m GPU available: True (cuda), used: True\n",
      "\u001b[36m(_tune_wrapper pid=13940)\u001b[0m TPU available: False, using: 0 TPU cores\n",
      "\u001b[36m(_tune_wrapper pid=13940)\u001b[0m HPU available: False, using: 0 HPUs\n",
      "\u001b[36m(_tune_wrapper pid=13940)\u001b[0m LOCAL_RANK: 0 - CUDA_VISIBLE_DEVICES: [0]\n",
      "\u001b[36m(_tune_wrapper pid=13940)\u001b[0m \n",
      "\u001b[36m(_tune_wrapper pid=13940)\u001b[0m   | Name       | Type              | Params | Mode  | In sizes       | Out sizes     \n",
      "\u001b[36m(_tune_wrapper pid=13940)\u001b[0m -------------------------------------------------------------------------------------------\n",
      "\u001b[36m(_tune_wrapper pid=13940)\u001b[0m 0 | criterion  | SmoothL1Loss      | 0      | train | ?              | ?             \n",
      "\u001b[36m(_tune_wrapper pid=13940)\u001b[0m 1 | mae        | MeanAbsoluteError | 0      | train | ?              | ?             \n",
      "\u001b[36m(_tune_wrapper pid=13940)\u001b[0m 2 | mse        | MeanSquaredError  | 0      | train | ?              | ?             \n",
      "\u001b[36m(_tune_wrapper pid=13940)\u001b[0m 3 | rmse       | MeanSquaredError  | 0      | train | ?              | ?             \n",
      "\u001b[36m(_tune_wrapper pid=13940)\u001b[0m 4 | face_stack | ConvStack         | 93.5 K | train | [1, 3, 64, 64] | [1, 128, 1, 1]\n",
      "\u001b[36m(_tune_wrapper pid=13940)\u001b[0m 5 | l_stack    | ConvStack         | 371 K  | train | [1, 3, 64, 64] | [1, 256, 1, 1]\n",
      "\u001b[36m(_tune_wrapper pid=13940)\u001b[0m 6 | r_stack    | ConvStack         | 371 K  | train | [1, 3, 64, 64] | [1, 256, 1, 1]\n",
      "\u001b[36m(_tune_wrapper pid=13940)\u001b[0m 7 | head_stack | ConvStack         | 52.4 K | train | [1, 1, 64, 64] | [1, 96, 1, 1] \n",
      "\u001b[36m(_tune_wrapper pid=13940)\u001b[0m 8 | regressor  | Sequential        | 568 K  | train | [1, 737]       | [1, 2]        \n",
      "\u001b[36m(_tune_wrapper pid=13940)\u001b[0m -------------------------------------------------------------------------------------------\n",
      "\u001b[36m(_tune_wrapper pid=13940)\u001b[0m 1.5 M     Trainable params\n",
      "\u001b[36m(_tune_wrapper pid=13940)\u001b[0m 0         Non-trainable params\n",
      "\u001b[36m(_tune_wrapper pid=13940)\u001b[0m 1.5 M     Total params\n",
      "\u001b[36m(_tune_wrapper pid=13940)\u001b[0m 5.827     Total estimated model params size (MB)\n",
      "\u001b[36m(_tune_wrapper pid=13940)\u001b[0m 76        Modules in train mode\n",
      "\u001b[36m(_tune_wrapper pid=13940)\u001b[0m 0         Modules in eval mode\n",
      "2025-06-05 07:46:29,716\tINFO tensorboardx.py:308 -- Removed the following hyperparameter values when logging to tensorboard: {'face_channels': (32, 64, 128), 'eye_channels': (64, 128, 256), 'head_pos_channels': (24, 48, 96)}\n",
      "\u001b[36m(_tune_wrapper pid=13940)\u001b[0m Checkpoint successfully created at: Checkpoint(filesystem=local, path=c:/Users/Youssef/Desktop/TFG/eye-tracker-vocacions/src/logs/full/tune_20250604-161552/6fc5e_00032/checkpoint_000000)\n",
      "\u001b[36m(_tune_wrapper pid=14380)\u001b[0m Seed set to 6740\n",
      "\u001b[36m(_tune_wrapper pid=14380)\u001b[0m Using bfloat16 Automatic Mixed Precision (AMP)\n",
      "\u001b[36m(_tune_wrapper pid=14380)\u001b[0m Using default `ModelCheckpoint`. Consider installing `litmodels` package to enable `LitModelCheckpoint` for automatic upload to the Lightning model registry.\n",
      "\u001b[36m(_tune_wrapper pid=14380)\u001b[0m GPU available: True (cuda), used: True\n",
      "\u001b[36m(_tune_wrapper pid=14380)\u001b[0m TPU available: False, using: 0 TPU cores\n",
      "\u001b[36m(_tune_wrapper pid=14380)\u001b[0m HPU available: False, using: 0 HPUs\n",
      "\u001b[36m(_tune_wrapper pid=14380)\u001b[0m LOCAL_RANK: 0 - CUDA_VISIBLE_DEVICES: [0]\n",
      "\u001b[36m(_tune_wrapper pid=14380)\u001b[0m \n",
      "\u001b[36m(_tune_wrapper pid=14380)\u001b[0m   | Name       | Type              | Params | Mode  | In sizes       | Out sizes     \n",
      "\u001b[36m(_tune_wrapper pid=14380)\u001b[0m -------------------------------------------------------------------------------------------\n",
      "\u001b[36m(_tune_wrapper pid=14380)\u001b[0m 0 | criterion  | SmoothL1Loss      | 0      | train | ?              | ?             \n",
      "\u001b[36m(_tune_wrapper pid=14380)\u001b[0m 1 | mae        | MeanAbsoluteError | 0      | train | ?              | ?             \n",
      "\u001b[36m(_tune_wrapper pid=14380)\u001b[0m 2 | mse        | MeanSquaredError  | 0      | train | ?              | ?             \n",
      "\u001b[36m(_tune_wrapper pid=14380)\u001b[0m 3 | rmse       | MeanSquaredError  | 0      | train | ?              | ?             \n",
      "\u001b[36m(_tune_wrapper pid=14380)\u001b[0m 4 | face_stack | ConvStack         | 209 K  | train | [1, 3, 64, 64] | [1, 192, 1, 1]\n",
      "\u001b[36m(_tune_wrapper pid=14380)\u001b[0m 5 | l_stack    | ConvStack         | 371 K  | train | [1, 3, 64, 64] | [1, 256, 1, 1]\n",
      "\u001b[36m(_tune_wrapper pid=14380)\u001b[0m 6 | r_stack    | ConvStack         | 371 K  | train | [1, 3, 64, 64] | [1, 256, 1, 1]\n",
      "\u001b[36m(_tune_wrapper pid=14380)\u001b[0m 7 | head_stack | ConvStack         | 23.4 K | train | [1, 1, 64, 64] | [1, 64, 1, 1] \n",
      "\u001b[36m(_tune_wrapper pid=14380)\u001b[0m 8 | regressor  | Sequential        | 592 K  | train | [1, 769]       | [1, 2]        \n",
      "\u001b[36m(_tune_wrapper pid=14380)\u001b[0m -------------------------------------------------------------------------------------------\n",
      "\u001b[36m(_tune_wrapper pid=14380)\u001b[0m 1.6 M     Trainable params\n",
      "\u001b[36m(_tune_wrapper pid=14380)\u001b[0m 0         Non-trainable params\n",
      "\u001b[36m(_tune_wrapper pid=14380)\u001b[0m 1.6 M     Total params\n",
      "\u001b[36m(_tune_wrapper pid=14380)\u001b[0m 6.273     Total estimated model params size (MB)\n",
      "\u001b[36m(_tune_wrapper pid=14380)\u001b[0m 76        Modules in train mode\n",
      "\u001b[36m(_tune_wrapper pid=14380)\u001b[0m 0         Modules in eval mode\n",
      "2025-06-05 07:57:20,541\tINFO tensorboardx.py:308 -- Removed the following hyperparameter values when logging to tensorboard: {'face_channels': (48, 96, 192), 'eye_channels': (64, 128, 256), 'head_pos_channels': (16, 32, 64)}\n",
      "\u001b[36m(_tune_wrapper pid=14380)\u001b[0m Checkpoint successfully created at: Checkpoint(filesystem=local, path=c:/Users/Youssef/Desktop/TFG/eye-tracker-vocacions/src/logs/full/tune_20250604-161552/6fc5e_00033/checkpoint_000000)\n",
      "\u001b[36m(_tune_wrapper pid=20152)\u001b[0m Seed set to 1032\n",
      "\u001b[36m(_tune_wrapper pid=20152)\u001b[0m Using bfloat16 Automatic Mixed Precision (AMP)\n",
      "\u001b[36m(_tune_wrapper pid=20152)\u001b[0m Using default `ModelCheckpoint`. Consider installing `litmodels` package to enable `LitModelCheckpoint` for automatic upload to the Lightning model registry.\n",
      "\u001b[36m(_tune_wrapper pid=20152)\u001b[0m GPU available: True (cuda), used: True\n",
      "\u001b[36m(_tune_wrapper pid=20152)\u001b[0m TPU available: False, using: 0 TPU cores\n",
      "\u001b[36m(_tune_wrapper pid=20152)\u001b[0m HPU available: False, using: 0 HPUs\n",
      "\u001b[36m(_tune_wrapper pid=20152)\u001b[0m LOCAL_RANK: 0 - CUDA_VISIBLE_DEVICES: [0]\n",
      "\u001b[36m(_tune_wrapper pid=20152)\u001b[0m \n",
      "\u001b[36m(_tune_wrapper pid=20152)\u001b[0m   | Name       | Type              | Params | Mode  | In sizes       | Out sizes     \n",
      "\u001b[36m(_tune_wrapper pid=20152)\u001b[0m -------------------------------------------------------------------------------------------\n",
      "\u001b[36m(_tune_wrapper pid=20152)\u001b[0m 0 | criterion  | SmoothL1Loss      | 0      | train | ?              | ?             \n",
      "\u001b[36m(_tune_wrapper pid=20152)\u001b[0m 1 | mae        | MeanAbsoluteError | 0      | train | ?              | ?             \n",
      "\u001b[36m(_tune_wrapper pid=20152)\u001b[0m 2 | mse        | MeanSquaredError  | 0      | train | ?              | ?             \n",
      "\u001b[36m(_tune_wrapper pid=20152)\u001b[0m 3 | rmse       | MeanSquaredError  | 0      | train | ?              | ?             \n",
      "\u001b[36m(_tune_wrapper pid=20152)\u001b[0m 4 | face_stack | ConvStack         | 93.5 K | train | [1, 3, 64, 64] | [1, 128, 1, 1]\n",
      "\u001b[36m(_tune_wrapper pid=20152)\u001b[0m 5 | l_stack    | ConvStack         | 93.5 K | train | [1, 3, 64, 64] | [1, 128, 1, 1]\n",
      "\u001b[36m(_tune_wrapper pid=20152)\u001b[0m 6 | r_stack    | ConvStack         | 93.5 K | train | [1, 3, 64, 64] | [1, 128, 1, 1]\n",
      "\u001b[36m(_tune_wrapper pid=20152)\u001b[0m 7 | head_stack | ConvStack         | 92.9 K | train | [1, 1, 64, 64] | [1, 128, 1, 1]\n",
      "\u001b[36m(_tune_wrapper pid=20152)\u001b[0m 8 | regressor  | Sequential        | 132 K  | train | [1, 513]       | [1, 2]        \n",
      "\u001b[36m(_tune_wrapper pid=20152)\u001b[0m -------------------------------------------------------------------------------------------\n",
      "\u001b[36m(_tune_wrapper pid=20152)\u001b[0m 505 K     Trainable params\n",
      "\u001b[36m(_tune_wrapper pid=20152)\u001b[0m 0         Non-trainable params\n",
      "\u001b[36m(_tune_wrapper pid=20152)\u001b[0m 505 K     Total params\n",
      "\u001b[36m(_tune_wrapper pid=20152)\u001b[0m 2.022     Total estimated model params size (MB)\n",
      "\u001b[36m(_tune_wrapper pid=20152)\u001b[0m 76        Modules in train mode\n",
      "\u001b[36m(_tune_wrapper pid=20152)\u001b[0m 0         Modules in eval mode\n",
      "2025-06-05 08:06:45,978\tINFO tensorboardx.py:308 -- Removed the following hyperparameter values when logging to tensorboard: {'face_channels': (32, 64, 128), 'eye_channels': (32, 64, 128), 'head_pos_channels': (32, 64, 128)}\n",
      "\u001b[36m(_tune_wrapper pid=20152)\u001b[0m Checkpoint successfully created at: Checkpoint(filesystem=local, path=c:/Users/Youssef/Desktop/TFG/eye-tracker-vocacions/src/logs/full/tune_20250604-161552/6fc5e_00034/checkpoint_000000)\n",
      "\u001b[36m(_tune_wrapper pid=14164)\u001b[0m Seed set to 3610\n",
      "\u001b[36m(_tune_wrapper pid=14164)\u001b[0m Using bfloat16 Automatic Mixed Precision (AMP)\n",
      "\u001b[36m(_tune_wrapper pid=14164)\u001b[0m Using default `ModelCheckpoint`. Consider installing `litmodels` package to enable `LitModelCheckpoint` for automatic upload to the Lightning model registry.\n",
      "\u001b[36m(_tune_wrapper pid=14164)\u001b[0m GPU available: True (cuda), used: True\n",
      "\u001b[36m(_tune_wrapper pid=14164)\u001b[0m TPU available: False, using: 0 TPU cores\n",
      "\u001b[36m(_tune_wrapper pid=14164)\u001b[0m HPU available: False, using: 0 HPUs\n",
      "\u001b[36m(_tune_wrapper pid=14164)\u001b[0m LOCAL_RANK: 0 - CUDA_VISIBLE_DEVICES: [0]\n",
      "\u001b[36m(_tune_wrapper pid=14164)\u001b[0m \n",
      "\u001b[36m(_tune_wrapper pid=14164)\u001b[0m   | Name       | Type              | Params | Mode  | In sizes       | Out sizes     \n",
      "\u001b[36m(_tune_wrapper pid=14164)\u001b[0m -------------------------------------------------------------------------------------------\n",
      "\u001b[36m(_tune_wrapper pid=14164)\u001b[0m 0 | criterion  | SmoothL1Loss      | 0      | train | ?              | ?             \n",
      "\u001b[36m(_tune_wrapper pid=14164)\u001b[0m 1 | mae        | MeanAbsoluteError | 0      | train | ?              | ?             \n",
      "\u001b[36m(_tune_wrapper pid=14164)\u001b[0m 2 | mse        | MeanSquaredError  | 0      | train | ?              | ?             \n",
      "\u001b[36m(_tune_wrapper pid=14164)\u001b[0m 3 | rmse       | MeanSquaredError  | 0      | train | ?              | ?             \n",
      "\u001b[36m(_tune_wrapper pid=14164)\u001b[0m 4 | face_stack | ConvStack         | 371 K  | train | [1, 3, 64, 64] | [1, 256, 1, 1]\n",
      "\u001b[36m(_tune_wrapper pid=14164)\u001b[0m 5 | l_stack    | ConvStack         | 209 K  | train | [1, 3, 64, 64] | [1, 192, 1, 1]\n",
      "\u001b[36m(_tune_wrapper pid=14164)\u001b[0m 6 | r_stack    | ConvStack         | 209 K  | train | [1, 3, 64, 64] | [1, 192, 1, 1]\n",
      "\u001b[36m(_tune_wrapper pid=14164)\u001b[0m 7 | head_stack | ConvStack         | 92.9 K | train | [1, 1, 64, 64] | [1, 128, 1, 1]\n",
      "\u001b[36m(_tune_wrapper pid=14164)\u001b[0m 8 | regressor  | Sequential        | 790 K  | train | [1, 769]       | [1, 2]        \n",
      "\u001b[36m(_tune_wrapper pid=14164)\u001b[0m -------------------------------------------------------------------------------------------\n",
      "\u001b[36m(_tune_wrapper pid=14164)\u001b[0m 1.7 M     Trainable params\n",
      "\u001b[36m(_tune_wrapper pid=14164)\u001b[0m 0         Non-trainable params\n",
      "\u001b[36m(_tune_wrapper pid=14164)\u001b[0m 1.7 M     Total params\n",
      "\u001b[36m(_tune_wrapper pid=14164)\u001b[0m 6.693     Total estimated model params size (MB)\n",
      "\u001b[36m(_tune_wrapper pid=14164)\u001b[0m 76        Modules in train mode\n",
      "\u001b[36m(_tune_wrapper pid=14164)\u001b[0m 0         Modules in eval mode\n",
      "2025-06-05 08:18:04,277\tINFO tensorboardx.py:308 -- Removed the following hyperparameter values when logging to tensorboard: {'face_channels': (64, 128, 256), 'eye_channels': (48, 96, 192), 'head_pos_channels': (32, 64, 128)}\n",
      "2025-06-05 08:18:04,337\tINFO tune.py:1009 -- Wrote the latest version of all result files and experiment state to 'c:/Users/Youssef/Desktop/TFG/eye-tracker-vocacions/src/logs/full/tune_20250604-161552' in 0.0573s.\n",
      "2025-06-05 08:18:04,367\tINFO tune.py:1041 -- Total run time: 57725.67 seconds (57725.52 seconds for the tuning loop).\n",
      "\u001b[36m(_tune_wrapper pid=14164)\u001b[0m Checkpoint successfully created at: Checkpoint(filesystem=local, path=c:/Users/Youssef/Desktop/TFG/eye-tracker-vocacions/src/logs/full/tune_20250604-161552/6fc5e_00035/checkpoint_000000)\n"
     ]
    },
    {
     "name": "stdout",
     "output_type": "stream",
     "text": [
      "Best hyperparameters:  {'seed': 1891, 'bs': 64, 'lr': 0.0009759343046486212, 'face_channels': (32, 64, 128), 'eye_channels': (32, 64, 128), 'head_pos_channels': (16, 32, 64), 'hidden': 256}\n"
     ]
    }
   ],
   "source": [
    "search_space = {\n",
    "    \"seed\":  tune.randint(0, 10000),\n",
    "    \"bs\":    tune.choice([64, 128, 256]),\n",
    "    \"lr\":    tune.loguniform(1e-4, 3e-3),\n",
    "    \"face_channels\"     : tune.choice([(32, 64, 128), (48, 96, 192), (64, 128, 256)]),\n",
    "    \"eye_channels\"      : tune.choice([(32, 64, 128), (48, 96, 192), (64, 128, 256)]),\n",
    "    \"head_pos_channels\" : tune.choice([(16, 32, 64),  (24, 48, 96), (32, 64, 128)]),\n",
    "    \"hidden\": tune.choice([256, 512, 768, 1024]),\n",
    "}\n",
    "\n",
    "analysis = tune_asha(\n",
    "    search_space   = search_space,\n",
    "    train_func     = \"full\",\n",
    "    name           = \"full/tune\",\n",
    "    img_types    = [\"face_aligned\", \"l_eye\", \"r_eye\", \"head_pos\", \"head_angle\"],\n",
    "    num_samples    = 36,\n",
    "    num_epochs     = 15,\n",
    "    data_dir     = Path.cwd() / \"data\",\n",
    "    seed           = 87,\n",
    ")"
   ]
  },
  {
   "cell_type": "code",
   "execution_count": 4,
   "metadata": {},
   "outputs": [
    {
     "data": {
      "image/png": "[encoded data removed]",
      "text/plain": [
       "<Figure size 1260x350 with 6 Axes>"
      ]
     },
     "metadata": {},
     "output_type": "display_data"
    },
    {
     "data": {
      "text/plain": [
       "WindowsPath('media/images/final_full_explore_scatter.png')"
      ]
     },
     "execution_count": 4,
     "metadata": {},
     "output_type": "execute_result"
    }
   ],
   "source": [
    "plot_asha_param_grid(\n",
    "    analysis,\n",
    "    params=(\"bs\", \"lr\",\n",
    "            \"face_channels\", \"eye_channels\", \"head_pos_channels\",\n",
    "            \"hidden\"),\n",
    "    save_path=\"media/images/final_full_explore_scatter.png\",\n",
    ")"
   ]
  },
  {
   "cell_type": "code",
   "execution_count": 5,
   "metadata": {},
   "outputs": [
    {
     "data": {
      "image/png": "[encoded data removed]",
      "text/plain": [
       "<Figure size 1560x300 with 2 Axes>"
      ]
     },
     "metadata": {},
     "output_type": "display_data"
    },
    {
     "data": {
      "text/plain": [
       "WindowsPath('media/images/final_full_explore_parallel.png')"
      ]
     },
     "execution_count": 5,
     "metadata": {},
     "output_type": "execute_result"
    }
   ],
   "source": [
    "plot_parallel_param_loss(\n",
    "    analysis,\n",
    "    cols=(\"bs\", \"lr\",\n",
    "          \"face_channels\", \"eye_channels\", \"head_pos_channels\",\n",
    "          \"hidden\"),\n",
    "    save_path=\"media/images/final_full_explore_parallel.png\",\n",
    ")"
   ]
  },
  {
   "cell_type": "markdown",
   "metadata": {},
   "source": [
    "### Training"
   ]
  },
  {
   "cell_type": "code",
   "execution_count": 6,
   "metadata": {},
   "outputs": [
    {
     "name": "stderr",
     "output_type": "stream",
     "text": [
      "Seed set to 1891\n",
      "Using bfloat16 Automatic Mixed Precision (AMP)\n",
      "GPU available: True (cuda), used: True\n",
      "TPU available: False, using: 0 TPU cores\n",
      "HPU available: False, using: 0 HPUs\n"
     ]
    },
    {
     "name": "stdout",
     "output_type": "stream",
     "text": [
      "\n",
      "--- Best of 'c:\\Users\\Youssef\\Desktop\\TFG\\eye-tracker-vocacions\\src\\logs\\full\\tune_20250604-161552' ---\n",
      "\n",
      "Directory: 6fc5e_00000\n",
      "Loss: 65.07\n",
      "Pixel error: 8.07\n",
      "Hyperparameters...\n",
      "- seed: 1891\n",
      "- bs: 64\n",
      "- lr: 0.0009759343046486212\n",
      "- face_channels: [32, 64, 128]\n",
      "- eye_channels: [32, 64, 128]\n",
      "- head_pos_channels: [16, 32, 64]\n",
      "- hidden: 256\n"
     ]
    },
    {
     "name": "stderr",
     "output_type": "stream",
     "text": [
      "LOCAL_RANK: 0 - CUDA_VISIBLE_DEVICES: [0]\n",
      "\n",
      "  | Name       | Type              | Params | Mode  | In sizes       | Out sizes     \n",
      "-------------------------------------------------------------------------------------------\n",
      "0 | criterion  | SmoothL1Loss      | 0      | train | ?              | ?             \n",
      "1 | mae        | MeanAbsoluteError | 0      | train | ?              | ?             \n",
      "2 | mse        | MeanSquaredError  | 0      | train | ?              | ?             \n",
      "3 | rmse       | MeanSquaredError  | 0      | train | ?              | ?             \n",
      "4 | face_stack | ConvStack         | 93.5 K | train | [1, 3, 64, 64] | [1, 128, 1, 1]\n",
      "5 | l_stack    | ConvStack         | 93.5 K | train | [1, 3, 64, 64] | [1, 128, 1, 1]\n",
      "6 | r_stack    | ConvStack         | 93.5 K | train | [1, 3, 64, 64] | [1, 128, 1, 1]\n",
      "7 | head_stack | ConvStack         | 23.4 K | train | [1, 1, 64, 64] | [1, 64, 1, 1] \n",
      "8 | regressor  | Sequential        | 115 K  | train | [1, 449]       | [1, 2]        \n",
      "-------------------------------------------------------------------------------------------\n",
      "419 K     Trainable params\n",
      "0         Non-trainable params\n",
      "419 K     Total params\n",
      "1.678     Total estimated model params size (MB)\n",
      "76        Modules in train mode\n",
      "0         Modules in eval mode\n",
      "c:\\Users\\Youssef\\Desktop\\TFG\\eye-tracker-vocacions\\.venv\\Lib\\site-packages\\pytorch_lightning\\loggers\\tensorboard.py:200: Could not log computational graph to TensorBoard: The `input_array` or `model.example_input_array` has type <class 'list'> which can't be traced by TensorBoard. Make the input array a tuple representing the positional arguments to the model's `forward()` implementation.\n"
     ]
    },
    {
     "data": {
      "application/vnd.jupyter.widget-view+json": {
       "model_id": "abbe1942148740c499f082463ed897cf",
       "version_major": 2,
       "version_minor": 0
      },
      "text/plain": [
       "Sanity Checking: |          | 0/? [00:00<?, ?it/s]"
      ]
     },
     "metadata": {},
     "output_type": "display_data"
    },
    {
     "data": {
      "application/vnd.jupyter.widget-view+json": {
       "model_id": "8bc7777ae71241f0ac6f89bb93fd7df7",
       "version_major": 2,
       "version_minor": 0
      },
      "text/plain": [
       "Training: |          | 0/? [00:00<?, ?it/s]"
      ]
     },
     "metadata": {},
     "output_type": "display_data"
    },
    {
     "data": {
      "application/vnd.jupyter.widget-view+json": {
       "model_id": "39bd1b9949aa4421bd41751fe193b00b",
       "version_major": 2,
       "version_minor": 0
      },
      "text/plain": [
       "Validation: |          | 0/? [00:00<?, ?it/s]"
      ]
     },
     "metadata": {},
     "output_type": "display_data"
    },
    {
     "data": {
      "application/vnd.jupyter.widget-view+json": {
       "model_id": "7ccdf3e34f88410296e9a5f58ba76b99",
       "version_major": 2,
       "version_minor": 0
      },
      "text/plain": [
       "Validation: |          | 0/? [00:00<?, ?it/s]"
      ]
     },
     "metadata": {},
     "output_type": "display_data"
    },
    {
     "data": {
      "application/vnd.jupyter.widget-view+json": {
       "model_id": "904a4d4fe7944852ba0fa1bb764d4736",
       "version_major": 2,
       "version_minor": 0
      },
      "text/plain": [
       "Validation: |          | 0/? [00:00<?, ?it/s]"
      ]
     },
     "metadata": {},
     "output_type": "display_data"
    },
    {
     "data": {
      "application/vnd.jupyter.widget-view+json": {
       "model_id": "0d2ea30000ad421587b6f30551d13d4f",
       "version_major": 2,
       "version_minor": 0
      },
      "text/plain": [
       "Validation: |          | 0/? [00:00<?, ?it/s]"
      ]
     },
     "metadata": {},
     "output_type": "display_data"
    },
    {
     "data": {
      "application/vnd.jupyter.widget-view+json": {
       "model_id": "27968aa6c34444a5b557f0250eb6409a",
       "version_major": 2,
       "version_minor": 0
      },
      "text/plain": [
       "Validation: |          | 0/? [00:00<?, ?it/s]"
      ]
     },
     "metadata": {},
     "output_type": "display_data"
    },
    {
     "data": {
      "application/vnd.jupyter.widget-view+json": {
       "model_id": "4c249e17fadc4bb3aeb74b4f03aacaaf",
       "version_major": 2,
       "version_minor": 0
      },
      "text/plain": [
       "Validation: |          | 0/? [00:00<?, ?it/s]"
      ]
     },
     "metadata": {},
     "output_type": "display_data"
    },
    {
     "data": {
      "application/vnd.jupyter.widget-view+json": {
       "model_id": "fe7c6a5ffa4547b5ac1243e1544961bc",
       "version_major": 2,
       "version_minor": 0
      },
      "text/plain": [
       "Validation: |          | 0/? [00:00<?, ?it/s]"
      ]
     },
     "metadata": {},
     "output_type": "display_data"
    },
    {
     "data": {
      "application/vnd.jupyter.widget-view+json": {
       "model_id": "9762c449faca4cc6be834d4952ce0d96",
       "version_major": 2,
       "version_minor": 0
      },
      "text/plain": [
       "Validation: |          | 0/? [00:00<?, ?it/s]"
      ]
     },
     "metadata": {},
     "output_type": "display_data"
    },
    {
     "data": {
      "application/vnd.jupyter.widget-view+json": {
       "model_id": "f1ad6c74c290420ba278f64ca69c7558",
       "version_major": 2,
       "version_minor": 0
      },
      "text/plain": [
       "Validation: |          | 0/? [00:00<?, ?it/s]"
      ]
     },
     "metadata": {},
     "output_type": "display_data"
    },
    {
     "data": {
      "application/vnd.jupyter.widget-view+json": {
       "model_id": "f1be923a1b5f439fb0bb9c8ad864101e",
       "version_major": 2,
       "version_minor": 0
      },
      "text/plain": [
       "Validation: |          | 0/? [00:00<?, ?it/s]"
      ]
     },
     "metadata": {},
     "output_type": "display_data"
    },
    {
     "data": {
      "application/vnd.jupyter.widget-view+json": {
       "model_id": "c279f5f2e12b4a72af54ab6926de14a2",
       "version_major": 2,
       "version_minor": 0
      },
      "text/plain": [
       "Validation: |          | 0/? [00:00<?, ?it/s]"
      ]
     },
     "metadata": {},
     "output_type": "display_data"
    },
    {
     "data": {
      "application/vnd.jupyter.widget-view+json": {
       "model_id": "d1ee9746ce914f42acfa1bef2bdea05c",
       "version_major": 2,
       "version_minor": 0
      },
      "text/plain": [
       "Validation: |          | 0/? [00:00<?, ?it/s]"
      ]
     },
     "metadata": {},
     "output_type": "display_data"
    },
    {
     "data": {
      "application/vnd.jupyter.widget-view+json": {
       "model_id": "e94531a7dc0a409aac62499ef557852c",
       "version_major": 2,
       "version_minor": 0
      },
      "text/plain": [
       "Validation: |          | 0/? [00:00<?, ?it/s]"
      ]
     },
     "metadata": {},
     "output_type": "display_data"
    },
    {
     "data": {
      "application/vnd.jupyter.widget-view+json": {
       "model_id": "3d3825da00664b12a7a63110af7dbd14",
       "version_major": 2,
       "version_minor": 0
      },
      "text/plain": [
       "Validation: |          | 0/? [00:00<?, ?it/s]"
      ]
     },
     "metadata": {},
     "output_type": "display_data"
    },
    {
     "data": {
      "application/vnd.jupyter.widget-view+json": {
       "model_id": "69257a8afb9a4d38860e66e3c0b3ab2f",
       "version_major": 2,
       "version_minor": 0
      },
      "text/plain": [
       "Validation: |          | 0/? [00:00<?, ?it/s]"
      ]
     },
     "metadata": {},
     "output_type": "display_data"
    },
    {
     "data": {
      "application/vnd.jupyter.widget-view+json": {
       "model_id": "f0ca78f7c09e48208f14a1518fe88e28",
       "version_major": 2,
       "version_minor": 0
      },
      "text/plain": [
       "Validation: |          | 0/? [00:00<?, ?it/s]"
      ]
     },
     "metadata": {},
     "output_type": "display_data"
    },
    {
     "data": {
      "application/vnd.jupyter.widget-view+json": {
       "model_id": "14bd4b870cd44789b9352f35100f686a",
       "version_major": 2,
       "version_minor": 0
      },
      "text/plain": [
       "Validation: |          | 0/? [00:00<?, ?it/s]"
      ]
     },
     "metadata": {},
     "output_type": "display_data"
    },
    {
     "data": {
      "application/vnd.jupyter.widget-view+json": {
       "model_id": "53d8f672596c4c718e3d6c7a95addff8",
       "version_major": 2,
       "version_minor": 0
      },
      "text/plain": [
       "Validation: |          | 0/? [00:00<?, ?it/s]"
      ]
     },
     "metadata": {},
     "output_type": "display_data"
    },
    {
     "data": {
      "application/vnd.jupyter.widget-view+json": {
       "model_id": "4469d61e264742edbcdf308f2f8885ea",
       "version_major": 2,
       "version_minor": 0
      },
      "text/plain": [
       "Validation: |          | 0/? [00:00<?, ?it/s]"
      ]
     },
     "metadata": {},
     "output_type": "display_data"
    },
    {
     "data": {
      "application/vnd.jupyter.widget-view+json": {
       "model_id": "8937ef0ff87942d1864ff54982f36c7f",
       "version_major": 2,
       "version_minor": 0
      },
      "text/plain": [
       "Validation: |          | 0/? [00:00<?, ?it/s]"
      ]
     },
     "metadata": {},
     "output_type": "display_data"
    },
    {
     "data": {
      "application/vnd.jupyter.widget-view+json": {
       "model_id": "6e8bbf72feb547078b2960ccdc808151",
       "version_major": 2,
       "version_minor": 0
      },
      "text/plain": [
       "Validation: |          | 0/? [00:00<?, ?it/s]"
      ]
     },
     "metadata": {},
     "output_type": "display_data"
    },
    {
     "data": {
      "application/vnd.jupyter.widget-view+json": {
       "model_id": "791398c475bb4529b3d3b326f0f71ab1",
       "version_major": 2,
       "version_minor": 0
      },
      "text/plain": [
       "Validation: |          | 0/? [00:00<?, ?it/s]"
      ]
     },
     "metadata": {},
     "output_type": "display_data"
    },
    {
     "data": {
      "application/vnd.jupyter.widget-view+json": {
       "model_id": "70e192be9d2648258d624b51ae3f9532",
       "version_major": 2,
       "version_minor": 0
      },
      "text/plain": [
       "Validation: |          | 0/? [00:00<?, ?it/s]"
      ]
     },
     "metadata": {},
     "output_type": "display_data"
    },
    {
     "data": {
      "application/vnd.jupyter.widget-view+json": {
       "model_id": "488aed989d734d9da843a922c61944d8",
       "version_major": 2,
       "version_minor": 0
      },
      "text/plain": [
       "Validation: |          | 0/? [00:00<?, ?it/s]"
      ]
     },
     "metadata": {},
     "output_type": "display_data"
    },
    {
     "data": {
      "application/vnd.jupyter.widget-view+json": {
       "model_id": "dbdcd98f94fb46fea247bc1dbf7aaec0",
       "version_major": 2,
       "version_minor": 0
      },
      "text/plain": [
       "Validation: |          | 0/? [00:00<?, ?it/s]"
      ]
     },
     "metadata": {},
     "output_type": "display_data"
    },
    {
     "data": {
      "application/vnd.jupyter.widget-view+json": {
       "model_id": "0f8d2ed4f3a14b01bc986cdf5d7029a8",
       "version_major": 2,
       "version_minor": 0
      },
      "text/plain": [
       "Validation: |          | 0/? [00:00<?, ?it/s]"
      ]
     },
     "metadata": {},
     "output_type": "display_data"
    },
    {
     "data": {
      "application/vnd.jupyter.widget-view+json": {
       "model_id": "ad015a144bcc4bdca9821aad67510d2c",
       "version_major": 2,
       "version_minor": 0
      },
      "text/plain": [
       "Validation: |          | 0/? [00:00<?, ?it/s]"
      ]
     },
     "metadata": {},
     "output_type": "display_data"
    },
    {
     "data": {
      "application/vnd.jupyter.widget-view+json": {
       "model_id": "5d7aba3963e04a1ab752b3f2238d6960",
       "version_major": 2,
       "version_minor": 0
      },
      "text/plain": [
       "Validation: |          | 0/? [00:00<?, ?it/s]"
      ]
     },
     "metadata": {},
     "output_type": "display_data"
    },
    {
     "data": {
      "application/vnd.jupyter.widget-view+json": {
       "model_id": "daf8a1353d5349ae80b62dfb1d868483",
       "version_major": 2,
       "version_minor": 0
      },
      "text/plain": [
       "Validation: |          | 0/? [00:00<?, ?it/s]"
      ]
     },
     "metadata": {},
     "output_type": "display_data"
    },
    {
     "data": {
      "application/vnd.jupyter.widget-view+json": {
       "model_id": "e2630615d44a468da21e0d003573852e",
       "version_major": 2,
       "version_minor": 0
      },
      "text/plain": [
       "Validation: |          | 0/? [00:00<?, ?it/s]"
      ]
     },
     "metadata": {},
     "output_type": "display_data"
    },
    {
     "data": {
      "application/vnd.jupyter.widget-view+json": {
       "model_id": "360bdf706a5d4b26a6a46cb60338cb29",
       "version_major": 2,
       "version_minor": 0
      },
      "text/plain": [
       "Validation: |          | 0/? [00:00<?, ?it/s]"
      ]
     },
     "metadata": {},
     "output_type": "display_data"
    },
    {
     "data": {
      "application/vnd.jupyter.widget-view+json": {
       "model_id": "abf8f178fbf94764a33741cebf7d052e",
       "version_major": 2,
       "version_minor": 0
      },
      "text/plain": [
       "Validation: |          | 0/? [00:00<?, ?it/s]"
      ]
     },
     "metadata": {},
     "output_type": "display_data"
    },
    {
     "data": {
      "application/vnd.jupyter.widget-view+json": {
       "model_id": "3d1b01988bc4495ba100f8ab0747a4ec",
       "version_major": 2,
       "version_minor": 0
      },
      "text/plain": [
       "Validation: |          | 0/? [00:00<?, ?it/s]"
      ]
     },
     "metadata": {},
     "output_type": "display_data"
    },
    {
     "data": {
      "application/vnd.jupyter.widget-view+json": {
       "model_id": "23dd193dac974b638319750805a3df92",
       "version_major": 2,
       "version_minor": 0
      },
      "text/plain": [
       "Validation: |          | 0/? [00:00<?, ?it/s]"
      ]
     },
     "metadata": {},
     "output_type": "display_data"
    },
    {
     "data": {
      "application/vnd.jupyter.widget-view+json": {
       "model_id": "37cb1accc0e44846ac50e91c858a2519",
       "version_major": 2,
       "version_minor": 0
      },
      "text/plain": [
       "Validation: |          | 0/? [00:00<?, ?it/s]"
      ]
     },
     "metadata": {},
     "output_type": "display_data"
    },
    {
     "data": {
      "application/vnd.jupyter.widget-view+json": {
       "model_id": "5cc44cc948f844eb8e7c0c9baa584871",
       "version_major": 2,
       "version_minor": 0
      },
      "text/plain": [
       "Validation: |          | 0/? [00:00<?, ?it/s]"
      ]
     },
     "metadata": {},
     "output_type": "display_data"
    },
    {
     "data": {
      "application/vnd.jupyter.widget-view+json": {
       "model_id": "85c72dc1b9cc499999b03e741f11b529",
       "version_major": 2,
       "version_minor": 0
      },
      "text/plain": [
       "Validation: |          | 0/? [00:00<?, ?it/s]"
      ]
     },
     "metadata": {},
     "output_type": "display_data"
    },
    {
     "data": {
      "application/vnd.jupyter.widget-view+json": {
       "model_id": "cd1104c78733475ba862c04fa4fbabb1",
       "version_major": 2,
       "version_minor": 0
      },
      "text/plain": [
       "Validation: |          | 0/? [00:00<?, ?it/s]"
      ]
     },
     "metadata": {},
     "output_type": "display_data"
    },
    {
     "data": {
      "application/vnd.jupyter.widget-view+json": {
       "model_id": "2e426c5482214d2db2c4884ad0e6cf6f",
       "version_major": 2,
       "version_minor": 0
      },
      "text/plain": [
       "Validation: |          | 0/? [00:00<?, ?it/s]"
      ]
     },
     "metadata": {},
     "output_type": "display_data"
    },
    {
     "data": {
      "application/vnd.jupyter.widget-view+json": {
       "model_id": "440e35125b134acc8e8a6aea8152bc3f",
       "version_major": 2,
       "version_minor": 0
      },
      "text/plain": [
       "Validation: |          | 0/? [00:00<?, ?it/s]"
      ]
     },
     "metadata": {},
     "output_type": "display_data"
    },
    {
     "data": {
      "application/vnd.jupyter.widget-view+json": {
       "model_id": "28a147404ab346ae883ea71ba4466168",
       "version_major": 2,
       "version_minor": 0
      },
      "text/plain": [
       "Validation: |          | 0/? [00:00<?, ?it/s]"
      ]
     },
     "metadata": {},
     "output_type": "display_data"
    },
    {
     "data": {
      "application/vnd.jupyter.widget-view+json": {
       "model_id": "b667df0b097b4234ba9a4b0525681827",
       "version_major": 2,
       "version_minor": 0
      },
      "text/plain": [
       "Validation: |          | 0/? [00:00<?, ?it/s]"
      ]
     },
     "metadata": {},
     "output_type": "display_data"
    },
    {
     "data": {
      "application/vnd.jupyter.widget-view+json": {
       "model_id": "b82ebbb07c884d49a103a10d98224d67",
       "version_major": 2,
       "version_minor": 0
      },
      "text/plain": [
       "Validation: |          | 0/? [00:00<?, ?it/s]"
      ]
     },
     "metadata": {},
     "output_type": "display_data"
    },
    {
     "data": {
      "application/vnd.jupyter.widget-view+json": {
       "model_id": "4c8b5b05ed2c4e3285347105f6e27b03",
       "version_major": 2,
       "version_minor": 0
      },
      "text/plain": [
       "Validation: |          | 0/? [00:00<?, ?it/s]"
      ]
     },
     "metadata": {},
     "output_type": "display_data"
    },
    {
     "data": {
      "application/vnd.jupyter.widget-view+json": {
       "model_id": "fe175eae9ba34172b2f40535724526f7",
       "version_major": 2,
       "version_minor": 0
      },
      "text/plain": [
       "Validation: |          | 0/? [00:00<?, ?it/s]"
      ]
     },
     "metadata": {},
     "output_type": "display_data"
    },
    {
     "data": {
      "application/vnd.jupyter.widget-view+json": {
       "model_id": "efbea0cdf4674917875192b94e8379dc",
       "version_major": 2,
       "version_minor": 0
      },
      "text/plain": [
       "Validation: |          | 0/? [00:00<?, ?it/s]"
      ]
     },
     "metadata": {},
     "output_type": "display_data"
    },
    {
     "data": {
      "application/vnd.jupyter.widget-view+json": {
       "model_id": "964afa539b324c13a6067b06a342edc1",
       "version_major": 2,
       "version_minor": 0
      },
      "text/plain": [
       "Validation: |          | 0/? [00:00<?, ?it/s]"
      ]
     },
     "metadata": {},
     "output_type": "display_data"
    },
    {
     "data": {
      "application/vnd.jupyter.widget-view+json": {
       "model_id": "3162c53956734f73813601adbb6d4a1c",
       "version_major": 2,
       "version_minor": 0
      },
      "text/plain": [
       "Validation: |          | 0/? [00:00<?, ?it/s]"
      ]
     },
     "metadata": {},
     "output_type": "display_data"
    },
    {
     "data": {
      "application/vnd.jupyter.widget-view+json": {
       "model_id": "8b4a5ba53e1b46ec9e09b13803962ba4",
       "version_major": 2,
       "version_minor": 0
      },
      "text/plain": [
       "Validation: |          | 0/? [00:00<?, ?it/s]"
      ]
     },
     "metadata": {},
     "output_type": "display_data"
    },
    {
     "data": {
      "application/vnd.jupyter.widget-view+json": {
       "model_id": "a491e87c8455448ab03e9733bf738a86",
       "version_major": 2,
       "version_minor": 0
      },
      "text/plain": [
       "Validation: |          | 0/? [00:00<?, ?it/s]"
      ]
     },
     "metadata": {},
     "output_type": "display_data"
    },
    {
     "data": {
      "application/vnd.jupyter.widget-view+json": {
       "model_id": "d1fcbe8fa9e249fd9d65a602dff4d508",
       "version_major": 2,
       "version_minor": 0
      },
      "text/plain": [
       "Validation: |          | 0/? [00:00<?, ?it/s]"
      ]
     },
     "metadata": {},
     "output_type": "display_data"
    },
    {
     "data": {
      "application/vnd.jupyter.widget-view+json": {
       "model_id": "67513f51ad334351896acdfbcba18439",
       "version_major": 2,
       "version_minor": 0
      },
      "text/plain": [
       "Validation: |          | 0/? [00:00<?, ?it/s]"
      ]
     },
     "metadata": {},
     "output_type": "display_data"
    },
    {
     "data": {
      "application/vnd.jupyter.widget-view+json": {
       "model_id": "00676e37bcf94da2b392fce7536d9c4e",
       "version_major": 2,
       "version_minor": 0
      },
      "text/plain": [
       "Validation: |          | 0/? [00:00<?, ?it/s]"
      ]
     },
     "metadata": {},
     "output_type": "display_data"
    },
    {
     "data": {
      "application/vnd.jupyter.widget-view+json": {
       "model_id": "18dfe1b0a81f4b8c9144aae2fc89460f",
       "version_major": 2,
       "version_minor": 0
      },
      "text/plain": [
       "Validation: |          | 0/? [00:00<?, ?it/s]"
      ]
     },
     "metadata": {},
     "output_type": "display_data"
    },
    {
     "data": {
      "application/vnd.jupyter.widget-view+json": {
       "model_id": "8b3256d9b92646a5addde7497f647d42",
       "version_major": 2,
       "version_minor": 0
      },
      "text/plain": [
       "Validation: |          | 0/? [00:00<?, ?it/s]"
      ]
     },
     "metadata": {},
     "output_type": "display_data"
    },
    {
     "data": {
      "application/vnd.jupyter.widget-view+json": {
       "model_id": "e363c7d1b7fd4c3b88a231379b3cc8b6",
       "version_major": 2,
       "version_minor": 0
      },
      "text/plain": [
       "Validation: |          | 0/? [00:00<?, ?it/s]"
      ]
     },
     "metadata": {},
     "output_type": "display_data"
    },
    {
     "data": {
      "application/vnd.jupyter.widget-view+json": {
       "model_id": "a9f52648599b4ca8a6b257c4bd0db5bb",
       "version_major": 2,
       "version_minor": 0
      },
      "text/plain": [
       "Validation: |          | 0/? [00:00<?, ?it/s]"
      ]
     },
     "metadata": {},
     "output_type": "display_data"
    },
    {
     "data": {
      "application/vnd.jupyter.widget-view+json": {
       "model_id": "c4e6c47e4f0a490f959f2dc76633e5a9",
       "version_major": 2,
       "version_minor": 0
      },
      "text/plain": [
       "Validation: |          | 0/? [00:00<?, ?it/s]"
      ]
     },
     "metadata": {},
     "output_type": "display_data"
    },
    {
     "data": {
      "application/vnd.jupyter.widget-view+json": {
       "model_id": "02b3880d4eea4fc3a7009d89fe84e001",
       "version_major": 2,
       "version_minor": 0
      },
      "text/plain": [
       "Validation: |          | 0/? [00:00<?, ?it/s]"
      ]
     },
     "metadata": {},
     "output_type": "display_data"
    },
    {
     "data": {
      "application/vnd.jupyter.widget-view+json": {
       "model_id": "96143aa2860748c1b8891a934997ecc5",
       "version_major": 2,
       "version_minor": 0
      },
      "text/plain": [
       "Validation: |          | 0/? [00:00<?, ?it/s]"
      ]
     },
     "metadata": {},
     "output_type": "display_data"
    },
    {
     "data": {
      "application/vnd.jupyter.widget-view+json": {
       "model_id": "728dac2b9c1848e6a1b950aeb5f37cb7",
       "version_major": 2,
       "version_minor": 0
      },
      "text/plain": [
       "Validation: |          | 0/? [00:00<?, ?it/s]"
      ]
     },
     "metadata": {},
     "output_type": "display_data"
    },
    {
     "data": {
      "application/vnd.jupyter.widget-view+json": {
       "model_id": "7ad0de99955e4b909411d2b38386d502",
       "version_major": 2,
       "version_minor": 0
      },
      "text/plain": [
       "Validation: |          | 0/? [00:00<?, ?it/s]"
      ]
     },
     "metadata": {},
     "output_type": "display_data"
    },
    {
     "data": {
      "application/vnd.jupyter.widget-view+json": {
       "model_id": "c2edfabdc95a4e8ba33f745db0a704aa",
       "version_major": 2,
       "version_minor": 0
      },
      "text/plain": [
       "Validation: |          | 0/? [00:00<?, ?it/s]"
      ]
     },
     "metadata": {},
     "output_type": "display_data"
    },
    {
     "data": {
      "application/vnd.jupyter.widget-view+json": {
       "model_id": "8f385aa6c16b4ac6a13a371cb071d27b",
       "version_major": 2,
       "version_minor": 0
      },
      "text/plain": [
       "Validation: |          | 0/? [00:00<?, ?it/s]"
      ]
     },
     "metadata": {},
     "output_type": "display_data"
    },
    {
     "data": {
      "application/vnd.jupyter.widget-view+json": {
       "model_id": "21478bf923514a4f8f86d93a2c381514",
       "version_major": 2,
       "version_minor": 0
      },
      "text/plain": [
       "Validation: |          | 0/? [00:00<?, ?it/s]"
      ]
     },
     "metadata": {},
     "output_type": "display_data"
    },
    {
     "data": {
      "application/vnd.jupyter.widget-view+json": {
       "model_id": "e118be26d53d43f5a254fbfe699752e8",
       "version_major": 2,
       "version_minor": 0
      },
      "text/plain": [
       "Validation: |          | 0/? [00:00<?, ?it/s]"
      ]
     },
     "metadata": {},
     "output_type": "display_data"
    },
    {
     "data": {
      "application/vnd.jupyter.widget-view+json": {
       "model_id": "f4a94cc3251341fb8542dd5379751fea",
       "version_major": 2,
       "version_minor": 0
      },
      "text/plain": [
       "Validation: |          | 0/? [00:00<?, ?it/s]"
      ]
     },
     "metadata": {},
     "output_type": "display_data"
    },
    {
     "data": {
      "application/vnd.jupyter.widget-view+json": {
       "model_id": "59bf190f9ec14a0b833402abb8713b19",
       "version_major": 2,
       "version_minor": 0
      },
      "text/plain": [
       "Validation: |          | 0/? [00:00<?, ?it/s]"
      ]
     },
     "metadata": {},
     "output_type": "display_data"
    },
    {
     "data": {
      "application/vnd.jupyter.widget-view+json": {
       "model_id": "8ae23383c4184bb198ef3a77fb014f46",
       "version_major": 2,
       "version_minor": 0
      },
      "text/plain": [
       "Validation: |          | 0/? [00:00<?, ?it/s]"
      ]
     },
     "metadata": {},
     "output_type": "display_data"
    },
    {
     "data": {
      "application/vnd.jupyter.widget-view+json": {
       "model_id": "08c2fc2c72814a9a95fcec781723d69a",
       "version_major": 2,
       "version_minor": 0
      },
      "text/plain": [
       "Validation: |          | 0/? [00:00<?, ?it/s]"
      ]
     },
     "metadata": {},
     "output_type": "display_data"
    },
    {
     "data": {
      "application/vnd.jupyter.widget-view+json": {
       "model_id": "d05045c09ed5463da9ecd4ae4276788b",
       "version_major": 2,
       "version_minor": 0
      },
      "text/plain": [
       "Validation: |          | 0/? [00:00<?, ?it/s]"
      ]
     },
     "metadata": {},
     "output_type": "display_data"
    },
    {
     "data": {
      "application/vnd.jupyter.widget-view+json": {
       "model_id": "7a8b8bf7368b49efaec457373122b19a",
       "version_major": 2,
       "version_minor": 0
      },
      "text/plain": [
       "Validation: |          | 0/? [00:00<?, ?it/s]"
      ]
     },
     "metadata": {},
     "output_type": "display_data"
    },
    {
     "data": {
      "application/vnd.jupyter.widget-view+json": {
       "model_id": "0c78567bc66a49fa95b7783a7efa56e7",
       "version_major": 2,
       "version_minor": 0
      },
      "text/plain": [
       "Validation: |          | 0/? [00:00<?, ?it/s]"
      ]
     },
     "metadata": {},
     "output_type": "display_data"
    },
    {
     "data": {
      "application/vnd.jupyter.widget-view+json": {
       "model_id": "e00a6488a9784f08ad7057bc3eeb6206",
       "version_major": 2,
       "version_minor": 0
      },
      "text/plain": [
       "Validation: |          | 0/? [00:00<?, ?it/s]"
      ]
     },
     "metadata": {},
     "output_type": "display_data"
    },
    {
     "data": {
      "application/vnd.jupyter.widget-view+json": {
       "model_id": "240e7a6e699d47828818997300a44646",
       "version_major": 2,
       "version_minor": 0
      },
      "text/plain": [
       "Validation: |          | 0/? [00:00<?, ?it/s]"
      ]
     },
     "metadata": {},
     "output_type": "display_data"
    },
    {
     "data": {
      "application/vnd.jupyter.widget-view+json": {
       "model_id": "925fd258083b43ff85647de72f354640",
       "version_major": 2,
       "version_minor": 0
      },
      "text/plain": [
       "Validation: |          | 0/? [00:00<?, ?it/s]"
      ]
     },
     "metadata": {},
     "output_type": "display_data"
    },
    {
     "data": {
      "application/vnd.jupyter.widget-view+json": {
       "model_id": "107ba12d1e284f3a96e3c8b4d4dfec12",
       "version_major": 2,
       "version_minor": 0
      },
      "text/plain": [
       "Validation: |          | 0/? [00:00<?, ?it/s]"
      ]
     },
     "metadata": {},
     "output_type": "display_data"
    },
    {
     "data": {
      "application/vnd.jupyter.widget-view+json": {
       "model_id": "48a761658c7443a7bec4bbf0782810c0",
       "version_major": 2,
       "version_minor": 0
      },
      "text/plain": [
       "Validation: |          | 0/? [00:00<?, ?it/s]"
      ]
     },
     "metadata": {},
     "output_type": "display_data"
    },
    {
     "data": {
      "application/vnd.jupyter.widget-view+json": {
       "model_id": "bb82a06d7e8c400ca6debba718620ddb",
       "version_major": 2,
       "version_minor": 0
      },
      "text/plain": [
       "Validation: |          | 0/? [00:00<?, ?it/s]"
      ]
     },
     "metadata": {},
     "output_type": "display_data"
    },
    {
     "data": {
      "application/vnd.jupyter.widget-view+json": {
       "model_id": "47a9d06e03364fc6a471c9fd930b532e",
       "version_major": 2,
       "version_minor": 0
      },
      "text/plain": [
       "Validation: |          | 0/? [00:00<?, ?it/s]"
      ]
     },
     "metadata": {},
     "output_type": "display_data"
    },
    {
     "data": {
      "application/vnd.jupyter.widget-view+json": {
       "model_id": "dd828ad2c82e4e56a391aec56da61d74",
       "version_major": 2,
       "version_minor": 0
      },
      "text/plain": [
       "Validation: |          | 0/? [00:00<?, ?it/s]"
      ]
     },
     "metadata": {},
     "output_type": "display_data"
    },
    {
     "data": {
      "application/vnd.jupyter.widget-view+json": {
       "model_id": "4785f8a7c0c247c2846cfa0934e95130",
       "version_major": 2,
       "version_minor": 0
      },
      "text/plain": [
       "Validation: |          | 0/? [00:00<?, ?it/s]"
      ]
     },
     "metadata": {},
     "output_type": "display_data"
    },
    {
     "data": {
      "application/vnd.jupyter.widget-view+json": {
       "model_id": "9fa56720c08740a18f5eb138ed2d9e40",
       "version_major": 2,
       "version_minor": 0
      },
      "text/plain": [
       "Validation: |          | 0/? [00:00<?, ?it/s]"
      ]
     },
     "metadata": {},
     "output_type": "display_data"
    },
    {
     "data": {
      "application/vnd.jupyter.widget-view+json": {
       "model_id": "66a60efa0de646a88b53c4bb291d7b1c",
       "version_major": 2,
       "version_minor": 0
      },
      "text/plain": [
       "Validation: |          | 0/? [00:00<?, ?it/s]"
      ]
     },
     "metadata": {},
     "output_type": "display_data"
    },
    {
     "data": {
      "application/vnd.jupyter.widget-view+json": {
       "model_id": "a116313c043742e3afbb4acbc11fac83",
       "version_major": 2,
       "version_minor": 0
      },
      "text/plain": [
       "Validation: |          | 0/? [00:00<?, ?it/s]"
      ]
     },
     "metadata": {},
     "output_type": "display_data"
    },
    {
     "data": {
      "application/vnd.jupyter.widget-view+json": {
       "model_id": "62a6411b0ac7413c999bfd565431d725",
       "version_major": 2,
       "version_minor": 0
      },
      "text/plain": [
       "Validation: |          | 0/? [00:00<?, ?it/s]"
      ]
     },
     "metadata": {},
     "output_type": "display_data"
    },
    {
     "data": {
      "application/vnd.jupyter.widget-view+json": {
       "model_id": "4e7f0e5643da4ba98d309cf70bdae5d1",
       "version_major": 2,
       "version_minor": 0
      },
      "text/plain": [
       "Validation: |          | 0/? [00:00<?, ?it/s]"
      ]
     },
     "metadata": {},
     "output_type": "display_data"
    },
    {
     "data": {
      "application/vnd.jupyter.widget-view+json": {
       "model_id": "34ce1ed1c0ba4092b49604b41ab5f3c2",
       "version_major": 2,
       "version_minor": 0
      },
      "text/plain": [
       "Validation: |          | 0/? [00:00<?, ?it/s]"
      ]
     },
     "metadata": {},
     "output_type": "display_data"
    },
    {
     "data": {
      "application/vnd.jupyter.widget-view+json": {
       "model_id": "a5dfbffcaa4a4b4ea2b9ba6509011f4f",
       "version_major": 2,
       "version_minor": 0
      },
      "text/plain": [
       "Validation: |          | 0/? [00:00<?, ?it/s]"
      ]
     },
     "metadata": {},
     "output_type": "display_data"
    },
    {
     "data": {
      "application/vnd.jupyter.widget-view+json": {
       "model_id": "888362c123ea4e01b151496a6372037f",
       "version_major": 2,
       "version_minor": 0
      },
      "text/plain": [
       "Validation: |          | 0/? [00:00<?, ?it/s]"
      ]
     },
     "metadata": {},
     "output_type": "display_data"
    },
    {
     "data": {
      "application/vnd.jupyter.widget-view+json": {
       "model_id": "ee7409446dad45b5a3bf3bc8b3ecea1b",
       "version_major": 2,
       "version_minor": 0
      },
      "text/plain": [
       "Validation: |          | 0/? [00:00<?, ?it/s]"
      ]
     },
     "metadata": {},
     "output_type": "display_data"
    },
    {
     "data": {
      "application/vnd.jupyter.widget-view+json": {
       "model_id": "f7aa8cb46a4c42448c4281d412948d08",
       "version_major": 2,
       "version_minor": 0
      },
      "text/plain": [
       "Validation: |          | 0/? [00:00<?, ?it/s]"
      ]
     },
     "metadata": {},
     "output_type": "display_data"
    },
    {
     "data": {
      "application/vnd.jupyter.widget-view+json": {
       "model_id": "55ad2e109ad24f28b3907843b7ef622f",
       "version_major": 2,
       "version_minor": 0
      },
      "text/plain": [
       "Validation: |          | 0/? [00:00<?, ?it/s]"
      ]
     },
     "metadata": {},
     "output_type": "display_data"
    },
    {
     "data": {
      "application/vnd.jupyter.widget-view+json": {
       "model_id": "c28dc2bb08654ec29e3118e8ade494f7",
       "version_major": 2,
       "version_minor": 0
      },
      "text/plain": [
       "Validation: |          | 0/? [00:00<?, ?it/s]"
      ]
     },
     "metadata": {},
     "output_type": "display_data"
    },
    {
     "data": {
      "application/vnd.jupyter.widget-view+json": {
       "model_id": "224079a1e9544458bddcbc556ec5b7c7",
       "version_major": 2,
       "version_minor": 0
      },
      "text/plain": [
       "Validation: |          | 0/? [00:00<?, ?it/s]"
      ]
     },
     "metadata": {},
     "output_type": "display_data"
    },
    {
     "data": {
      "application/vnd.jupyter.widget-view+json": {
       "model_id": "0b25ec2e075f47e2ac470dc4b8fd1d3a",
       "version_major": 2,
       "version_minor": 0
      },
      "text/plain": [
       "Validation: |          | 0/? [00:00<?, ?it/s]"
      ]
     },
     "metadata": {},
     "output_type": "display_data"
    },
    {
     "data": {
      "application/vnd.jupyter.widget-view+json": {
       "model_id": "d1e08ced31e147c8a7fc3d4e79587f6f",
       "version_major": 2,
       "version_minor": 0
      },
      "text/plain": [
       "Validation: |          | 0/? [00:00<?, ?it/s]"
      ]
     },
     "metadata": {},
     "output_type": "display_data"
    },
    {
     "data": {
      "application/vnd.jupyter.widget-view+json": {
       "model_id": "b9cc9f010db3495bbdc3d1355f02a0f5",
       "version_major": 2,
       "version_minor": 0
      },
      "text/plain": [
       "Validation: |          | 0/? [00:00<?, ?it/s]"
      ]
     },
     "metadata": {},
     "output_type": "display_data"
    },
    {
     "data": {
      "application/vnd.jupyter.widget-view+json": {
       "model_id": "243d0f914c334240b1c23f3e4a545c3c",
       "version_major": 2,
       "version_minor": 0
      },
      "text/plain": [
       "Validation: |          | 0/? [00:00<?, ?it/s]"
      ]
     },
     "metadata": {},
     "output_type": "display_data"
    },
    {
     "data": {
      "application/vnd.jupyter.widget-view+json": {
       "model_id": "4a404b4112114c27a90e3b9911fe7a75",
       "version_major": 2,
       "version_minor": 0
      },
      "text/plain": [
       "Validation: |          | 0/? [00:00<?, ?it/s]"
      ]
     },
     "metadata": {},
     "output_type": "display_data"
    },
    {
     "name": "stderr",
     "output_type": "stream",
     "text": [
      "`Trainer.fit` stopped: `max_epochs=100` reached.\n"
     ]
    }
   ],
   "source": [
    "start_time = datetime.datetime.now().strftime(\"%Y-%b-%d %H-%M-%S\")\n",
    "\n",
    "tune_dir = Path.cwd() / \"logs\" / \"full\"\n",
    "best_cfg = get_best_results(latest_tune_dir(tune_dir))\n",
    "pl.seed_everything(best_cfg[\"seed\"])\n",
    "\n",
    "dm = GazeDataModule(\n",
    "    data_dir = Path.cwd() / \"data\",\n",
    "    batch_size = best_cfg[\"bs\"],\n",
    "    img_types = [\"face_aligned\", \"l_eye\", \"r_eye\", \"head_pos\", \"head_angle\"],\n",
    "    seed = best_cfg[\"seed\"],\n",
    ")\n",
    "\n",
    "model = _build_model(best_cfg, [\n",
    "    \"face_aligned\", \"l_eye\", \"r_eye\", \"head_pos\", \"head_angle\"\n",
    "])\n",
    "\n",
    "trainer = pl.Trainer(\n",
    "    max_epochs = 100,\n",
    "    accelerator = \"auto\",\n",
    "    devices = \"auto\",\n",
    "    precision = \"bf16-mixed\",\n",
    "    logger = TensorBoardLogger(\n",
    "        save_dir = Path.cwd() / \"logs\",\n",
    "        name     = f\"full/final/{start_time}\",\n",
    "        log_graph = True,\n",
    "    ),\n",
    "    callbacks = [\n",
    "        pl.callbacks.ModelCheckpoint(\n",
    "            filename = \"best\",\n",
    "            monitor  = \"val_loss\",\n",
    "            mode     = \"min\",\n",
    "            save_last = True,\n",
    "            save_top_k = 1,\n",
    "        )\n",
    "    ],\n",
    ")\n",
    "\n",
    "trainer.fit(model, datamodule=dm)\n",
    "best_path = trainer.checkpoint_callback.best_model_path\n",
    "state = torch.load(best_path, map_location=\"cpu\", weights_only=False)\n",
    "model.load_state_dict(state[\"state_dict\"])\n",
    "\n",
    "out_dir = Path.cwd() / \"logs\" / \"full\" / \"final\" / start_time\n",
    "out_dir.mkdir(parents=True, exist_ok=True)\n",
    "\n",
    "save_model(\n",
    "    model.cpu(),\n",
    "    best_cfg,\n",
    "    out_dir / \"eyetracking_model.pt\",\n",
    "    out_dir / \"eyetracking_config.json\",\n",
    ")"
   ]
  },
  {
   "cell_type": "markdown",
   "metadata": {},
   "source": [
    "### Model Evaluation"
   ]
  },
  {
   "cell_type": "code",
   "execution_count": 7,
   "metadata": {},
   "outputs": [
    {
     "name": "stderr",
     "output_type": "stream",
     "text": [
      "Restoring states from the checkpoint path at c:\\Users\\Youssef\\Desktop\\TFG\\eye-tracker-vocacions\\src\\logs\\full/final/2025-Jun-05 08-18-08\\version_0\\checkpoints\\best.ckpt\n",
      "LOCAL_RANK: 0 - CUDA_VISIBLE_DEVICES: [0]\n",
      "c:\\Users\\Youssef\\Desktop\\TFG\\eye-tracker-vocacions\\.venv\\Lib\\site-packages\\pytorch_lightning\\loggers\\tensorboard.py:200: Could not log computational graph to TensorBoard: The `input_array` or `model.example_input_array` has type <class 'list'> which can't be traced by TensorBoard. Make the input array a tuple representing the positional arguments to the model's `forward()` implementation.\n",
      "Loaded model weights from the checkpoint at c:\\Users\\Youssef\\Desktop\\TFG\\eye-tracker-vocacions\\src\\logs\\full/final/2025-Jun-05 08-18-08\\version_0\\checkpoints\\best.ckpt\n"
     ]
    },
    {
     "data": {
      "application/vnd.jupyter.widget-view+json": {
       "model_id": "d59df16de44343f782cf7ce9b36cdf56",
       "version_major": 2,
       "version_minor": 0
      },
      "text/plain": [
       "Testing: |          | 0/? [00:00<?, ?it/s]"
      ]
     },
     "metadata": {},
     "output_type": "display_data"
    },
    {
     "data": {
      "text/html": [
       "<pre style=\"white-space:pre;overflow-x:auto;line-height:normal;font-family:Menlo,'DejaVu Sans Mono',consolas,'Courier New',monospace\">┏━━━━━━━━━━━━━━━━━━━━━━━━━━━┳━━━━━━━━━━━━━━━━━━━━━━━━━━━┓\n",
       "┃<span style=\"font-weight: bold\">        Test metric        </span>┃<span style=\"font-weight: bold\">       DataLoader 0        </span>┃\n",
       "┡━━━━━━━━━━━━━━━━━━━━━━━━━━━╇━━━━━━━━━━━━━━━━━━━━━━━━━━━┩\n",
       "│<span style=\"color: #008080; text-decoration-color: #008080\">      test_loss_epoch      </span>│<span style=\"color: #800080; text-decoration-color: #800080\">     27.69532585144043     </span>│\n",
       "│<span style=\"color: #008080; text-decoration-color: #008080\">      test_mae_epoch       </span>│<span style=\"color: #800080; text-decoration-color: #800080\">     28.19107437133789     </span>│\n",
       "│<span style=\"color: #008080; text-decoration-color: #008080\">         test_mse          </span>│<span style=\"color: #800080; text-decoration-color: #800080\">    1517.2708740234375     </span>│\n",
       "│<span style=\"color: #008080; text-decoration-color: #008080\">         test_rmse         </span>│<span style=\"color: #800080; text-decoration-color: #800080\">     38.50370407104492     </span>│\n",
       "└───────────────────────────┴───────────────────────────┘\n",
       "</pre>\n"
      ],
      "text/plain": [
       "┏━━━━━━━━━━━━━━━━━━━━━━━━━━━┳━━━━━━━━━━━━━━━━━━━━━━━━━━━┓\n",
       "┃\u001b[1m \u001b[0m\u001b[1m       Test metric       \u001b[0m\u001b[1m \u001b[0m┃\u001b[1m \u001b[0m\u001b[1m      DataLoader 0       \u001b[0m\u001b[1m \u001b[0m┃\n",
       "┡━━━━━━━━━━━━━━━━━━━━━━━━━━━╇━━━━━━━━━━━━━━━━━━━━━━━━━━━┩\n",
       "│\u001b[36m \u001b[0m\u001b[36m     test_loss_epoch     \u001b[0m\u001b[36m \u001b[0m│\u001b[35m \u001b[0m\u001b[35m    27.69532585144043    \u001b[0m\u001b[35m \u001b[0m│\n",
       "│\u001b[36m \u001b[0m\u001b[36m     test_mae_epoch      \u001b[0m\u001b[36m \u001b[0m│\u001b[35m \u001b[0m\u001b[35m    28.19107437133789    \u001b[0m\u001b[35m \u001b[0m│\n",
       "│\u001b[36m \u001b[0m\u001b[36m        test_mse         \u001b[0m\u001b[36m \u001b[0m│\u001b[35m \u001b[0m\u001b[35m   1517.2708740234375    \u001b[0m\u001b[35m \u001b[0m│\n",
       "│\u001b[36m \u001b[0m\u001b[36m        test_rmse        \u001b[0m\u001b[36m \u001b[0m│\u001b[35m \u001b[0m\u001b[35m    38.50370407104492    \u001b[0m\u001b[35m \u001b[0m│\n",
       "└───────────────────────────┴───────────────────────────┘\n"
      ]
     },
     "metadata": {},
     "output_type": "display_data"
    },
    {
     "name": "stdout",
     "output_type": "stream",
     "text": [
      "────────  Test set  ────────\n",
      "MSE   :  1517.27  px²\n",
      "RMSE  :    38.50  px\n",
      "MAE   :    28.19  px\n",
      "Loss  :    27.70  (Smooth-L1)\n"
     ]
    }
   ],
   "source": [
    "test_results = trainer.test(ckpt_path=\"best\", datamodule=dm)[0]\n",
    "\n",
    "loss = test_results[\"test_loss_epoch\"]\n",
    "mae  = test_results[\"test_mae_epoch\"]\n",
    "\n",
    "mse  = test_results.get(\"test_mse_epoch\",  test_results.get(\"test_mse\"))\n",
    "rmse = test_results.get(\"test_rmse_epoch\", test_results.get(\"test_rmse\"))\n",
    "\n",
    "print(\"────────  Test set  ────────\")\n",
    "print(f\"MSE   : {mse:8.2f}  px²\")\n",
    "print(f\"RMSE  : {rmse:8.2f}  px\")\n",
    "print(f\"MAE   : {mae:8.2f}  px\")\n",
    "print(f\"Loss  : {loss:8.2f}  (Smooth-L1)\")"
   ]
  },
  {
   "cell_type": "code",
   "execution_count": 8,
   "metadata": {},
   "outputs": [
    {
     "data": {
      "application/vnd.jupyter.widget-view+json": {
       "model_id": "016bc36961864de185cf4aa60c3ad557",
       "version_major": 2,
       "version_minor": 0
      },
      "text/plain": [
       "  0%|          | 0/56525 [00:00<?, ?it/s]"
      ]
     },
     "metadata": {},
     "output_type": "display_data"
    },
    {
     "name": "stdout",
     "output_type": "stream",
     "text": [
      "Average error: 37.22px over 5653 samples\n"
     ]
    },
    {
     "data": {
      "image/png": "[encoded data removed]",
      "text/plain": [
       "<Figure size 640x480 with 2 Axes>"
      ]
     },
     "metadata": {},
     "output_type": "display_data"
    },
    {
     "data": {
      "image/png": "[encoded data removed]",
      "text/plain": [
       "<Figure size 640x480 with 1 Axes>"
      ]
     },
     "metadata": {},
     "output_type": "display_data"
    }
   ],
   "source": [
    "predict_screen_errors(\n",
    "    \"face_aligned\", \"l_eye\", \"r_eye\", \"head_pos\", \"head_angle\",\n",
    "    path_model  = out_dir/\"eyetracking_model.pt\",\n",
    "    path_config = out_dir/\"eyetracking_config.json\",\n",
    "    path_plot   = out_dir/\"error_heatmap_full.png\",\n",
    "    path_errors = out_dir/\"errors.npy\",\n",
    "    steps       = 10,\n",
    ")"
   ]
  }
 ],
 "metadata": {
  "kernelspec": {
   "display_name": ".venv",
   "language": "python",
   "name": "python3"
  },
  "language_info": {
   "codemirror_mode": {
    "name": "ipython",
    "version": 3
   },
   "file_extension": ".py",
   "mimetype": "text/x-python",
   "name": "python",
   "nbconvert_exporter": "python",
   "pygments_lexer": "ipython3",
   "version": "3.12.6"
  }
 },
 "nbformat": 4,
 "nbformat_minor": 2
}
