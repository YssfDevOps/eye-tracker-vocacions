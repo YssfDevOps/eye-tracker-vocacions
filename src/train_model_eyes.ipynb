{
 "cells": [
  {
   "cell_type": "markdown",
   "metadata": {},
   "source": [
    "# Training Predictive Model - Eyes Edition"
   ]
  },
  {
   "cell_type": "markdown",
   "metadata": {},
   "source": [
    "### Import libraries"
   ]
  },
  {
   "cell_type": "code",
   "execution_count": null,
   "metadata": {
    "ExecuteTime": {
     "end_time": "2025-04-06T18:02:55.994945Z",
     "start_time": "2025-04-06T18:02:48.440201Z"
    }
   },
   "outputs": [],
   "source": [
    "import datetime, json, random, IPython, pandas as pd, numpy as np, matplotlib.pyplot as plt\n",
    "from pathlib import Path\n",
    "from PIL import Image\n",
    "from mpl_toolkits.axes_grid1 import ImageGrid\n",
    "import matplotlib.image as mpimg\n",
    "import torch, pytorch_lightning as pl\n",
    "from ray import tune\n",
    "from pytorch_lightning.loggers import TensorBoardLogger\n",
    "\n",
    "from models import GazeDataModule, SingleModel, EyesModel, FullModel\n",
    "from utils  import (\n",
    "    get_config,\n",
    "    tune_asha,\n",
    "    get_best_results,\n",
    "    save_model,\n",
    "    plot_asha_param_grid,\n",
    "    plot_parallel_param_loss,\n",
    "    latest_tune_dir,\n",
    "    _build_datamodule,\n",
    "    _build_model,\n",
    "    predict_screen_errors,\n",
    ")\n",
    "\n",
    "# project settings\n",
    "SETTINGS, COLOURS, EYETRACKER, TF = get_config(\"config.ini\")\n",
    "\n",
    "%load_ext autoreload\n",
    "%autoreload 2\n"
   ]
  },
  {
   "cell_type": "markdown",
   "metadata": {},
   "source": [
    "### Dataset information"
   ]
  },
  {
   "cell_type": "code",
   "execution_count": 2,
   "metadata": {
    "ExecuteTime": {
     "end_time": "2025-04-06T18:02:56.009076Z",
     "start_time": "2025-04-06T18:02:56.000947Z"
    }
   },
   "outputs": [
    {
     "name": "stdout",
     "output_type": "stream",
     "text": [
      "# of samples: 20077\n",
      "Coverage: 61.84% of screen surface\n",
      "Crop size: 64 x 64 px\n"
     ]
    }
   ],
   "source": [
    "df = pd.read_csv(\"data/positions.csv\")\n",
    "region_map = np.load(\"data/region_map.npy\").T\n",
    "\n",
    "print(f\"# of samples: {len(df)}\")\n",
    "coverage = np.count_nonzero(region_map > 0) / region_map.size * 100\n",
    "print(f\"Coverage: {coverage:.2f}% of screen surface\")\n",
    "print(f\"Crop size: {SETTINGS['image_size']} x {SETTINGS['image_size']} px\")"
   ]
  },
  {
   "cell_type": "markdown",
   "metadata": {},
   "source": [
    "### Fine tuning"
   ]
  },
  {
   "cell_type": "code",
   "execution_count": null,
   "metadata": {},
   "outputs": [
    {
     "name": "stderr",
     "output_type": "stream",
     "text": [
      "2025-05-13 20:14:11,458\tINFO worker.py:1852 -- Started a local Ray instance.\n",
      "2025-05-13 20:14:15,012\tINFO tune.py:253 -- Initializing Ray automatically. For cluster usage or custom Ray initialization, call `ray.init(...)` before `tune.run(...)`.\n",
      "2025-05-13 20:14:15,012\tINFO tune.py:616 -- [output] This uses the legacy output and progress reporter, as Jupyter notebooks are not supported by the new engine, yet. For more information, please see https://github.com/ray-project/ray/issues/36949\n"
     ]
    },
    {
     "data": {
      "text/html": [
       "<div class=\"tuneStatus\">\n",
       "  <div style=\"display: flex;flex-direction: row\">\n",
       "    <div style=\"display: flex;flex-direction: column;\">\n",
       "      <h3>Tune Status</h3>\n",
       "      <table>\n",
       "<tbody>\n",
       "<tr><td>Current time:</td><td>2025-05-13 22:24:58</td></tr>\n",
       "<tr><td>Running for: </td><td>02:10:43.28        </td></tr>\n",
       "<tr><td>Memory:      </td><td>12.7/15.3 GiB      </td></tr>\n",
       "</tbody>\n",
       "</table>\n",
       "    </div>\n",
       "    <div class=\"vDivider\"></div>\n",
       "    <div class=\"systemInfo\">\n",
       "      <h3>System Info</h3>\n",
       "      Using AsyncHyperBand: num_stopped=20<br>Bracket: Iter 8.000: -250.1597900390625 | Iter 4.000: -251.58206176757812 | Iter 2.000: -325.4305725097656 | Iter 1.000: -569.1844177246094<br>Logical resource usage: 8.0/12 CPUs, 1.0/1 GPUs (0.0/1.0 accelerator_type:G)\n",
       "    </div>\n",
       "    \n",
       "  </div>\n",
       "  <div class=\"hDivider\"></div>\n",
       "  <div class=\"trialStatus\">\n",
       "    <h3>Trial Status</h3>\n",
       "    <table>\n",
       "<thead>\n",
       "<tr><th>Trial name               </th><th>status    </th><th>loc            </th><th style=\"text-align: right;\">  bs</th><th>channels      </th><th style=\"text-align: right;\">  hidden</th><th style=\"text-align: right;\">         lr</th><th style=\"text-align: right;\">  seed</th><th style=\"text-align: right;\">  iter</th><th style=\"text-align: right;\">  total time (s)</th><th style=\"text-align: right;\">    loss</th><th style=\"text-align: right;\">     mae</th></tr>\n",
       "</thead>\n",
       "<tbody>\n",
       "<tr><td>_tune_wrapper_13f5f_00000</td><td>TERMINATED</td><td>127.0.0.1:24264</td><td style=\"text-align: right;\"> 512</td><td>(48, 96, 192) </td><td style=\"text-align: right;\">     128</td><td style=\"text-align: right;\">0.000203125</td><td style=\"text-align: right;\">  1935</td><td style=\"text-align: right;\">    15</td><td style=\"text-align: right;\">         942.894</td><td style=\"text-align: right;\">316.489 </td><td style=\"text-align: right;\">316.988 </td></tr>\n",
       "<tr><td>_tune_wrapper_13f5f_00001</td><td>TERMINATED</td><td>127.0.0.1:22632</td><td style=\"text-align: right;\"> 512</td><td>(64, 128, 256)</td><td style=\"text-align: right;\">     512</td><td style=\"text-align: right;\">0.00114514 </td><td style=\"text-align: right;\">  5788</td><td style=\"text-align: right;\">    15</td><td style=\"text-align: right;\">        1036.17 </td><td style=\"text-align: right;\">100.063 </td><td style=\"text-align: right;\">100.561 </td></tr>\n",
       "<tr><td>_tune_wrapper_13f5f_00002</td><td>TERMINATED</td><td>127.0.0.1:23488</td><td style=\"text-align: right;\"> 256</td><td>(64, 128, 256)</td><td style=\"text-align: right;\">     512</td><td style=\"text-align: right;\">0.00132533 </td><td style=\"text-align: right;\">  7131</td><td style=\"text-align: right;\">    15</td><td style=\"text-align: right;\">        1110.32 </td><td style=\"text-align: right;\"> 83.113 </td><td style=\"text-align: right;\"> 83.6112</td></tr>\n",
       "<tr><td>_tune_wrapper_13f5f_00003</td><td>TERMINATED</td><td>127.0.0.1:16536</td><td style=\"text-align: right;\"> 256</td><td>(32, 64, 128) </td><td style=\"text-align: right;\">     128</td><td style=\"text-align: right;\">0.00202769 </td><td style=\"text-align: right;\">  5293</td><td style=\"text-align: right;\">     4</td><td style=\"text-align: right;\">         280.499</td><td style=\"text-align: right;\">251.582 </td><td style=\"text-align: right;\">252.082 </td></tr>\n",
       "<tr><td>_tune_wrapper_13f5f_00004</td><td>TERMINATED</td><td>127.0.0.1:15128</td><td style=\"text-align: right;\"> 512</td><td>(48, 96, 192) </td><td style=\"text-align: right;\">     256</td><td style=\"text-align: right;\">0.000200808</td><td style=\"text-align: right;\">  7420</td><td style=\"text-align: right;\">     1</td><td style=\"text-align: right;\">         169.8  </td><td style=\"text-align: right;\">751.535 </td><td style=\"text-align: right;\">752.035 </td></tr>\n",
       "<tr><td>_tune_wrapper_13f5f_00005</td><td>TERMINATED</td><td>127.0.0.1:9272 </td><td style=\"text-align: right;\"> 256</td><td>(64, 128, 256)</td><td style=\"text-align: right;\">     256</td><td style=\"text-align: right;\">0.000584411</td><td style=\"text-align: right;\">  5669</td><td style=\"text-align: right;\">     2</td><td style=\"text-align: right;\">         256.169</td><td style=\"text-align: right;\">375.769 </td><td style=\"text-align: right;\">376.269 </td></tr>\n",
       "<tr><td>_tune_wrapper_13f5f_00006</td><td>TERMINATED</td><td>127.0.0.1:13212</td><td style=\"text-align: right;\"> 256</td><td>(32, 64, 128) </td><td style=\"text-align: right;\">     512</td><td style=\"text-align: right;\">0.00260972 </td><td style=\"text-align: right;\">  3342</td><td style=\"text-align: right;\">     4</td><td style=\"text-align: right;\">         293.441</td><td style=\"text-align: right;\">257.659 </td><td style=\"text-align: right;\">258.159 </td></tr>\n",
       "<tr><td>_tune_wrapper_13f5f_00007</td><td>TERMINATED</td><td>127.0.0.1:22956</td><td style=\"text-align: right;\"> 256</td><td>(64, 128, 256)</td><td style=\"text-align: right;\">     256</td><td style=\"text-align: right;\">0.000267531</td><td style=\"text-align: right;\">  1429</td><td style=\"text-align: right;\">     1</td><td style=\"text-align: right;\">         180.855</td><td style=\"text-align: right;\">720.85  </td><td style=\"text-align: right;\">721.35  </td></tr>\n",
       "<tr><td>_tune_wrapper_13f5f_00008</td><td>TERMINATED</td><td>127.0.0.1:15984</td><td style=\"text-align: right;\"> 128</td><td>(32, 64, 128) </td><td style=\"text-align: right;\">     128</td><td style=\"text-align: right;\">0.000365375</td><td style=\"text-align: right;\">   154</td><td style=\"text-align: right;\">     1</td><td style=\"text-align: right;\">         151.456</td><td style=\"text-align: right;\">660.056 </td><td style=\"text-align: right;\">660.555 </td></tr>\n",
       "<tr><td>_tune_wrapper_13f5f_00009</td><td>TERMINATED</td><td>127.0.0.1:17400</td><td style=\"text-align: right;\"> 128</td><td>(32, 64, 128) </td><td style=\"text-align: right;\">     256</td><td style=\"text-align: right;\">0.00197873 </td><td style=\"text-align: right;\">  2720</td><td style=\"text-align: right;\">     4</td><td style=\"text-align: right;\">         280.329</td><td style=\"text-align: right;\">259.116 </td><td style=\"text-align: right;\">259.615 </td></tr>\n",
       "<tr><td>_tune_wrapper_13f5f_00010</td><td>TERMINATED</td><td>127.0.0.1:4144 </td><td style=\"text-align: right;\"> 512</td><td>(32, 64, 128) </td><td style=\"text-align: right;\">     512</td><td style=\"text-align: right;\">0.00261287 </td><td style=\"text-align: right;\">  9476</td><td style=\"text-align: right;\">     2</td><td style=\"text-align: right;\">         200.661</td><td style=\"text-align: right;\">346.077 </td><td style=\"text-align: right;\">346.577 </td></tr>\n",
       "<tr><td>_tune_wrapper_13f5f_00011</td><td>TERMINATED</td><td>127.0.0.1:13808</td><td style=\"text-align: right;\"> 256</td><td>(32, 64, 128) </td><td style=\"text-align: right;\">     128</td><td style=\"text-align: right;\">0.00277538 </td><td style=\"text-align: right;\">  7494</td><td style=\"text-align: right;\">     8</td><td style=\"text-align: right;\">         467.565</td><td style=\"text-align: right;\">439.693 </td><td style=\"text-align: right;\">440.193 </td></tr>\n",
       "<tr><td>_tune_wrapper_13f5f_00012</td><td>TERMINATED</td><td>127.0.0.1:10800</td><td style=\"text-align: right;\"> 512</td><td>(32, 64, 128) </td><td style=\"text-align: right;\">     256</td><td style=\"text-align: right;\">0.000386959</td><td style=\"text-align: right;\">   885</td><td style=\"text-align: right;\">     1</td><td style=\"text-align: right;\">         158.469</td><td style=\"text-align: right;\">750.033 </td><td style=\"text-align: right;\">750.533 </td></tr>\n",
       "<tr><td>_tune_wrapper_13f5f_00013</td><td>TERMINATED</td><td>127.0.0.1:13652</td><td style=\"text-align: right;\"> 128</td><td>(48, 96, 192) </td><td style=\"text-align: right;\">     512</td><td style=\"text-align: right;\">0.000412171</td><td style=\"text-align: right;\">  3100</td><td style=\"text-align: right;\">    15</td><td style=\"text-align: right;\">         917.246</td><td style=\"text-align: right;\"> 87.6883</td><td style=\"text-align: right;\"> 88.1867</td></tr>\n",
       "<tr><td>_tune_wrapper_13f5f_00014</td><td>TERMINATED</td><td>127.0.0.1:4480 </td><td style=\"text-align: right;\"> 256</td><td>(48, 96, 192) </td><td style=\"text-align: right;\">     512</td><td style=\"text-align: right;\">0.00252147 </td><td style=\"text-align: right;\">  3256</td><td style=\"text-align: right;\">     4</td><td style=\"text-align: right;\">         286.794</td><td style=\"text-align: right;\">259.538 </td><td style=\"text-align: right;\">260.038 </td></tr>\n",
       "<tr><td>_tune_wrapper_13f5f_00015</td><td>TERMINATED</td><td>127.0.0.1:16044</td><td style=\"text-align: right;\"> 128</td><td>(64, 128, 256)</td><td style=\"text-align: right;\">     256</td><td style=\"text-align: right;\">0.000311224</td><td style=\"text-align: right;\">  4409</td><td style=\"text-align: right;\">     2</td><td style=\"text-align: right;\">         217.439</td><td style=\"text-align: right;\">325.431 </td><td style=\"text-align: right;\">325.93  </td></tr>\n",
       "<tr><td>_tune_wrapper_13f5f_00016</td><td>TERMINATED</td><td>127.0.0.1:13660</td><td style=\"text-align: right;\"> 512</td><td>(48, 96, 192) </td><td style=\"text-align: right;\">     512</td><td style=\"text-align: right;\">0.00161232 </td><td style=\"text-align: right;\">  2854</td><td style=\"text-align: right;\">     1</td><td style=\"text-align: right;\">         147.54 </td><td style=\"text-align: right;\">623.478 </td><td style=\"text-align: right;\">623.977 </td></tr>\n",
       "<tr><td>_tune_wrapper_13f5f_00017</td><td>TERMINATED</td><td>127.0.0.1:4252 </td><td style=\"text-align: right;\"> 128</td><td>(64, 128, 256)</td><td style=\"text-align: right;\">     256</td><td style=\"text-align: right;\">0.000153057</td><td style=\"text-align: right;\">  9746</td><td style=\"text-align: right;\">     1</td><td style=\"text-align: right;\">         155.581</td><td style=\"text-align: right;\">674.866 </td><td style=\"text-align: right;\">675.366 </td></tr>\n",
       "<tr><td>_tune_wrapper_13f5f_00018</td><td>TERMINATED</td><td>127.0.0.1:20920</td><td style=\"text-align: right;\"> 512</td><td>(48, 96, 192) </td><td style=\"text-align: right;\">     128</td><td style=\"text-align: right;\">0.000779204</td><td style=\"text-align: right;\">  9406</td><td style=\"text-align: right;\">     1</td><td style=\"text-align: right;\">         147.189</td><td style=\"text-align: right;\">734.541 </td><td style=\"text-align: right;\">735.041 </td></tr>\n",
       "<tr><td>_tune_wrapper_13f5f_00019</td><td>TERMINATED</td><td>127.0.0.1:24428</td><td style=\"text-align: right;\"> 512</td><td>(64, 128, 256)</td><td style=\"text-align: right;\">     512</td><td style=\"text-align: right;\">0.00156946 </td><td style=\"text-align: right;\">  6946</td><td style=\"text-align: right;\">     2</td><td style=\"text-align: right;\">         218.732</td><td style=\"text-align: right;\">431.553 </td><td style=\"text-align: right;\">432.053 </td></tr>\n",
       "</tbody>\n",
       "</table>\n",
       "  </div>\n",
       "</div>\n",
       "<style>\n",
       ".tuneStatus {\n",
       "  color: var(--jp-ui-font-color1);\n",
       "}\n",
       ".tuneStatus .systemInfo {\n",
       "  display: flex;\n",
       "  flex-direction: column;\n",
       "}\n",
       ".tuneStatus td {\n",
       "  white-space: nowrap;\n",
       "}\n",
       ".tuneStatus .trialStatus {\n",
       "  display: flex;\n",
       "  flex-direction: column;\n",
       "}\n",
       ".tuneStatus h3 {\n",
       "  font-weight: bold;\n",
       "}\n",
       ".tuneStatus .hDivider {\n",
       "  border-bottom-width: var(--jp-border-width);\n",
       "  border-bottom-color: var(--jp-border-color0);\n",
       "  border-bottom-style: solid;\n",
       "}\n",
       ".tuneStatus .vDivider {\n",
       "  border-left-width: var(--jp-border-width);\n",
       "  border-left-color: var(--jp-border-color0);\n",
       "  border-left-style: solid;\n",
       "  margin: 0.5em 1em 0.5em 1em;\n",
       "}\n",
       "</style>\n"
      ],
      "text/plain": [
       "<IPython.core.display.HTML object>"
      ]
     },
     "metadata": {},
     "output_type": "display_data"
    },
    {
     "name": "stderr",
     "output_type": "stream",
     "text": [
      "\u001b[36m(_tune_wrapper pid=24264)\u001b[0m Seed set to 1935\n",
      "\u001b[36m(_tune_wrapper pid=24264)\u001b[0m Using bfloat16 Automatic Mixed Precision (AMP)\n",
      "\u001b[36m(_tune_wrapper pid=24264)\u001b[0m GPU available: True (cuda), used: True\n",
      "\u001b[36m(_tune_wrapper pid=24264)\u001b[0m TPU available: False, using: 0 TPU cores\n",
      "\u001b[36m(_tune_wrapper pid=24264)\u001b[0m HPU available: False, using: 0 HPUs\n",
      "\u001b[36m(_tune_wrapper pid=24264)\u001b[0m LOCAL_RANK: 0 - CUDA_VISIBLE_DEVICES: [0]\n",
      "\u001b[36m(_tune_wrapper pid=24264)\u001b[0m \n",
      "\u001b[36m(_tune_wrapper pid=24264)\u001b[0m   | Name      | Type              | Params | Mode  | In sizes       | Out sizes     \n",
      "\u001b[36m(_tune_wrapper pid=24264)\u001b[0m ------------------------------------------------------------------------------------------\n",
      "\u001b[36m(_tune_wrapper pid=24264)\u001b[0m 0 | criterion | SmoothL1Loss      | 0      | train | ?              | ?             \n",
      "\u001b[36m(_tune_wrapper pid=24264)\u001b[0m 1 | mae       | MeanAbsoluteError | 0      | train | ?              | ?             \n",
      "\u001b[36m(_tune_wrapper pid=24264)\u001b[0m 2 | mse       | MeanSquaredError  | 0      | train | ?              | ?             \n",
      "\u001b[36m(_tune_wrapper pid=24264)\u001b[0m 3 | rmse      | MeanSquaredError  | 0      | train | ?              | ?             \n",
      "\u001b[36m(_tune_wrapper pid=24264)\u001b[0m 4 | l_stack   | ConvStack         | 209 K  | train | [1, 3, 64, 64] | [1, 192, 1, 1]\n",
      "\u001b[36m(_tune_wrapper pid=24264)\u001b[0m 5 | r_stack   | ConvStack         | 209 K  | train | [1, 3, 64, 64] | [1, 192, 1, 1]\n",
      "\u001b[36m(_tune_wrapper pid=24264)\u001b[0m 6 | regressor | Sequential        | 49.5 K | train | [1, 384]       | [1, 2]        \n",
      "\u001b[36m(_tune_wrapper pid=24264)\u001b[0m ------------------------------------------------------------------------------------------\n",
      "\u001b[36m(_tune_wrapper pid=24264)\u001b[0m 468 K     Trainable params\n",
      "\u001b[36m(_tune_wrapper pid=24264)\u001b[0m 0         Non-trainable params\n",
      "\u001b[36m(_tune_wrapper pid=24264)\u001b[0m 468 K     Total params\n",
      "\u001b[36m(_tune_wrapper pid=24264)\u001b[0m 1.873     Total estimated model params size (MB)\n",
      "\u001b[36m(_tune_wrapper pid=24264)\u001b[0m 43        Modules in train mode\n",
      "\u001b[36m(_tune_wrapper pid=24264)\u001b[0m 0         Modules in eval mode\n",
      "\u001b[36m(_tune_wrapper pid=24264)\u001b[0m Checkpoint successfully created at: Checkpoint(filesystem=local, path=c:/Users/Youssef/Desktop/TFG/eye-tracker-vocacions/src/logs/eyes/tune_20250513-201407/13f5f_00000/checkpoint_000000)\n"
     ]
    },
    {
     "data": {
      "text/html": [
       "<div class=\"trialProgress\">\n",
       "  <h3>Trial Progress</h3>\n",
       "  <table>\n",
       "<thead>\n",
       "<tr><th>Trial name               </th><th>checkpoint_dir_name  </th><th>date               </th><th>done  </th><th>hostname       </th><th style=\"text-align: right;\">  iterations_since_restore</th><th style=\"text-align: right;\">    loss</th><th style=\"text-align: right;\">     mae</th><th>node_ip  </th><th style=\"text-align: right;\">  pid</th><th>should_checkpoint  </th><th style=\"text-align: right;\">  time_since_restore</th><th style=\"text-align: right;\">  time_this_iter_s</th><th style=\"text-align: right;\">  time_total_s</th><th style=\"text-align: right;\">  timestamp</th><th style=\"text-align: right;\">  training_iteration</th><th>trial_id   </th></tr>\n",
       "</thead>\n",
       "<tbody>\n",
       "<tr><td>_tune_wrapper_13f5f_00000</td><td>checkpoint_000014    </td><td>2025-05-13_20-30-08</td><td>True  </td><td>DESKTOP-B40NR52</td><td style=\"text-align: right;\">                        15</td><td style=\"text-align: right;\">316.489 </td><td style=\"text-align: right;\">316.988 </td><td>127.0.0.1</td><td style=\"text-align: right;\">24264</td><td>True               </td><td style=\"text-align: right;\">             942.894</td><td style=\"text-align: right;\">           57.4699</td><td style=\"text-align: right;\">       942.894</td><td style=\"text-align: right;\"> 1747161008</td><td style=\"text-align: right;\">                  15</td><td>13f5f_00000</td></tr>\n",
       "<tr><td>_tune_wrapper_13f5f_00001</td><td>checkpoint_000014    </td><td>2025-05-13_20-47-39</td><td>True  </td><td>DESKTOP-B40NR52</td><td style=\"text-align: right;\">                        15</td><td style=\"text-align: right;\">100.063 </td><td style=\"text-align: right;\">100.561 </td><td>127.0.0.1</td><td style=\"text-align: right;\">22632</td><td>True               </td><td style=\"text-align: right;\">            1036.17 </td><td style=\"text-align: right;\">           63.361 </td><td style=\"text-align: right;\">      1036.17 </td><td style=\"text-align: right;\"> 1747162059</td><td style=\"text-align: right;\">                  15</td><td>13f5f_00001</td></tr>\n",
       "<tr><td>_tune_wrapper_13f5f_00002</td><td>checkpoint_000014    </td><td>2025-05-13_21-06-23</td><td>True  </td><td>DESKTOP-B40NR52</td><td style=\"text-align: right;\">                        15</td><td style=\"text-align: right;\"> 83.113 </td><td style=\"text-align: right;\"> 83.6112</td><td>127.0.0.1</td><td style=\"text-align: right;\">23488</td><td>True               </td><td style=\"text-align: right;\">            1110.32 </td><td style=\"text-align: right;\">           65.5539</td><td style=\"text-align: right;\">      1110.32 </td><td style=\"text-align: right;\"> 1747163183</td><td style=\"text-align: right;\">                  15</td><td>13f5f_00002</td></tr>\n",
       "<tr><td>_tune_wrapper_13f5f_00003</td><td>checkpoint_000003    </td><td>2025-05-13_21-11-14</td><td>True  </td><td>DESKTOP-B40NR52</td><td style=\"text-align: right;\">                         4</td><td style=\"text-align: right;\">251.582 </td><td style=\"text-align: right;\">252.082 </td><td>127.0.0.1</td><td style=\"text-align: right;\">16536</td><td>True               </td><td style=\"text-align: right;\">             280.499</td><td style=\"text-align: right;\">           42.4641</td><td style=\"text-align: right;\">       280.499</td><td style=\"text-align: right;\"> 1747163474</td><td style=\"text-align: right;\">                   4</td><td>13f5f_00003</td></tr>\n",
       "<tr><td>_tune_wrapper_13f5f_00004</td><td>checkpoint_000000    </td><td>2025-05-13_21-14-14</td><td>True  </td><td>DESKTOP-B40NR52</td><td style=\"text-align: right;\">                         1</td><td style=\"text-align: right;\">751.535 </td><td style=\"text-align: right;\">752.035 </td><td>127.0.0.1</td><td style=\"text-align: right;\">15128</td><td>True               </td><td style=\"text-align: right;\">             169.8  </td><td style=\"text-align: right;\">          169.8   </td><td style=\"text-align: right;\">       169.8  </td><td style=\"text-align: right;\"> 1747163654</td><td style=\"text-align: right;\">                   1</td><td>13f5f_00004</td></tr>\n",
       "<tr><td>_tune_wrapper_13f5f_00005</td><td>checkpoint_000001    </td><td>2025-05-13_21-18-41</td><td>True  </td><td>DESKTOP-B40NR52</td><td style=\"text-align: right;\">                         2</td><td style=\"text-align: right;\">375.769 </td><td style=\"text-align: right;\">376.269 </td><td>127.0.0.1</td><td style=\"text-align: right;\"> 9272</td><td>True               </td><td style=\"text-align: right;\">             256.169</td><td style=\"text-align: right;\">           72.9904</td><td style=\"text-align: right;\">       256.169</td><td style=\"text-align: right;\"> 1747163921</td><td style=\"text-align: right;\">                   2</td><td>13f5f_00005</td></tr>\n",
       "<tr><td>_tune_wrapper_13f5f_00006</td><td>checkpoint_000003    </td><td>2025-05-13_21-23-46</td><td>True  </td><td>DESKTOP-B40NR52</td><td style=\"text-align: right;\">                         4</td><td style=\"text-align: right;\">257.659 </td><td style=\"text-align: right;\">258.159 </td><td>127.0.0.1</td><td style=\"text-align: right;\">13212</td><td>True               </td><td style=\"text-align: right;\">             293.441</td><td style=\"text-align: right;\">           45.5873</td><td style=\"text-align: right;\">       293.441</td><td style=\"text-align: right;\"> 1747164226</td><td style=\"text-align: right;\">                   4</td><td>13f5f_00006</td></tr>\n",
       "<tr><td>_tune_wrapper_13f5f_00007</td><td>checkpoint_000000    </td><td>2025-05-13_21-26-58</td><td>True  </td><td>DESKTOP-B40NR52</td><td style=\"text-align: right;\">                         1</td><td style=\"text-align: right;\">720.85  </td><td style=\"text-align: right;\">721.35  </td><td>127.0.0.1</td><td style=\"text-align: right;\">22956</td><td>True               </td><td style=\"text-align: right;\">             180.855</td><td style=\"text-align: right;\">          180.855 </td><td style=\"text-align: right;\">       180.855</td><td style=\"text-align: right;\"> 1747164418</td><td style=\"text-align: right;\">                   1</td><td>13f5f_00007</td></tr>\n",
       "<tr><td>_tune_wrapper_13f5f_00008</td><td>checkpoint_000000    </td><td>2025-05-13_21-29-40</td><td>True  </td><td>DESKTOP-B40NR52</td><td style=\"text-align: right;\">                         1</td><td style=\"text-align: right;\">660.056 </td><td style=\"text-align: right;\">660.555 </td><td>127.0.0.1</td><td style=\"text-align: right;\">15984</td><td>True               </td><td style=\"text-align: right;\">             151.456</td><td style=\"text-align: right;\">          151.456 </td><td style=\"text-align: right;\">       151.456</td><td style=\"text-align: right;\"> 1747164580</td><td style=\"text-align: right;\">                   1</td><td>13f5f_00008</td></tr>\n",
       "<tr><td>_tune_wrapper_13f5f_00009</td><td>checkpoint_000003    </td><td>2025-05-13_21-34-31</td><td>True  </td><td>DESKTOP-B40NR52</td><td style=\"text-align: right;\">                         4</td><td style=\"text-align: right;\">259.116 </td><td style=\"text-align: right;\">259.615 </td><td>127.0.0.1</td><td style=\"text-align: right;\">17400</td><td>True               </td><td style=\"text-align: right;\">             280.329</td><td style=\"text-align: right;\">           42.7699</td><td style=\"text-align: right;\">       280.329</td><td style=\"text-align: right;\"> 1747164871</td><td style=\"text-align: right;\">                   4</td><td>13f5f_00009</td></tr>\n",
       "<tr><td>_tune_wrapper_13f5f_00010</td><td>checkpoint_000001    </td><td>2025-05-13_21-38-03</td><td>True  </td><td>DESKTOP-B40NR52</td><td style=\"text-align: right;\">                         2</td><td style=\"text-align: right;\">346.077 </td><td style=\"text-align: right;\">346.577 </td><td>127.0.0.1</td><td style=\"text-align: right;\"> 4144</td><td>True               </td><td style=\"text-align: right;\">             200.661</td><td style=\"text-align: right;\">           45.3451</td><td style=\"text-align: right;\">       200.661</td><td style=\"text-align: right;\"> 1747165083</td><td style=\"text-align: right;\">                   2</td><td>13f5f_00010</td></tr>\n",
       "<tr><td>_tune_wrapper_13f5f_00011</td><td>checkpoint_000007    </td><td>2025-05-13_21-46-02</td><td>True  </td><td>DESKTOP-B40NR52</td><td style=\"text-align: right;\">                         8</td><td style=\"text-align: right;\">439.693 </td><td style=\"text-align: right;\">440.193 </td><td>127.0.0.1</td><td style=\"text-align: right;\">13808</td><td>True               </td><td style=\"text-align: right;\">             467.565</td><td style=\"text-align: right;\">           46.5453</td><td style=\"text-align: right;\">       467.565</td><td style=\"text-align: right;\"> 1747165562</td><td style=\"text-align: right;\">                   8</td><td>13f5f_00011</td></tr>\n",
       "<tr><td>_tune_wrapper_13f5f_00012</td><td>checkpoint_000000    </td><td>2025-05-13_21-48-52</td><td>True  </td><td>DESKTOP-B40NR52</td><td style=\"text-align: right;\">                         1</td><td style=\"text-align: right;\">750.033 </td><td style=\"text-align: right;\">750.533 </td><td>127.0.0.1</td><td style=\"text-align: right;\">10800</td><td>True               </td><td style=\"text-align: right;\">             158.469</td><td style=\"text-align: right;\">          158.469 </td><td style=\"text-align: right;\">       158.469</td><td style=\"text-align: right;\"> 1747165732</td><td style=\"text-align: right;\">                   1</td><td>13f5f_00012</td></tr>\n",
       "<tr><td>_tune_wrapper_13f5f_00013</td><td>checkpoint_000014    </td><td>2025-05-13_22-04-22</td><td>True  </td><td>DESKTOP-B40NR52</td><td style=\"text-align: right;\">                        15</td><td style=\"text-align: right;\"> 87.6883</td><td style=\"text-align: right;\"> 88.1867</td><td>127.0.0.1</td><td style=\"text-align: right;\">13652</td><td>True               </td><td style=\"text-align: right;\">             917.246</td><td style=\"text-align: right;\">           51.7338</td><td style=\"text-align: right;\">       917.246</td><td style=\"text-align: right;\"> 1747166662</td><td style=\"text-align: right;\">                  15</td><td>13f5f_00013</td></tr>\n",
       "<tr><td>_tune_wrapper_13f5f_00014</td><td>checkpoint_000003    </td><td>2025-05-13_22-09-21</td><td>True  </td><td>DESKTOP-B40NR52</td><td style=\"text-align: right;\">                         4</td><td style=\"text-align: right;\">259.538 </td><td style=\"text-align: right;\">260.038 </td><td>127.0.0.1</td><td style=\"text-align: right;\"> 4480</td><td>True               </td><td style=\"text-align: right;\">             286.794</td><td style=\"text-align: right;\">           45.7372</td><td style=\"text-align: right;\">       286.794</td><td style=\"text-align: right;\"> 1747166961</td><td style=\"text-align: right;\">                   4</td><td>13f5f_00014</td></tr>\n",
       "<tr><td>_tune_wrapper_13f5f_00015</td><td>checkpoint_000001    </td><td>2025-05-13_22-13-09</td><td>True  </td><td>DESKTOP-B40NR52</td><td style=\"text-align: right;\">                         2</td><td style=\"text-align: right;\">325.431 </td><td style=\"text-align: right;\">325.93  </td><td>127.0.0.1</td><td style=\"text-align: right;\">16044</td><td>True               </td><td style=\"text-align: right;\">             217.439</td><td style=\"text-align: right;\">           57.2821</td><td style=\"text-align: right;\">       217.439</td><td style=\"text-align: right;\"> 1747167189</td><td style=\"text-align: right;\">                   2</td><td>13f5f_00015</td></tr>\n",
       "<tr><td>_tune_wrapper_13f5f_00016</td><td>checkpoint_000000    </td><td>2025-05-13_22-15-47</td><td>True  </td><td>DESKTOP-B40NR52</td><td style=\"text-align: right;\">                         1</td><td style=\"text-align: right;\">623.478 </td><td style=\"text-align: right;\">623.977 </td><td>127.0.0.1</td><td style=\"text-align: right;\">13660</td><td>True               </td><td style=\"text-align: right;\">             147.54 </td><td style=\"text-align: right;\">          147.54  </td><td style=\"text-align: right;\">       147.54 </td><td style=\"text-align: right;\"> 1747167347</td><td style=\"text-align: right;\">                   1</td><td>13f5f_00016</td></tr>\n",
       "<tr><td>_tune_wrapper_13f5f_00017</td><td>checkpoint_000000    </td><td>2025-05-13_22-18-32</td><td>True  </td><td>DESKTOP-B40NR52</td><td style=\"text-align: right;\">                         1</td><td style=\"text-align: right;\">674.866 </td><td style=\"text-align: right;\">675.366 </td><td>127.0.0.1</td><td style=\"text-align: right;\"> 4252</td><td>True               </td><td style=\"text-align: right;\">             155.581</td><td style=\"text-align: right;\">          155.581 </td><td style=\"text-align: right;\">       155.581</td><td style=\"text-align: right;\"> 1747167512</td><td style=\"text-align: right;\">                   1</td><td>13f5f_00017</td></tr>\n",
       "<tr><td>_tune_wrapper_13f5f_00018</td><td>checkpoint_000000    </td><td>2025-05-13_22-21-09</td><td>True  </td><td>DESKTOP-B40NR52</td><td style=\"text-align: right;\">                         1</td><td style=\"text-align: right;\">734.541 </td><td style=\"text-align: right;\">735.041 </td><td>127.0.0.1</td><td style=\"text-align: right;\">20920</td><td>True               </td><td style=\"text-align: right;\">             147.189</td><td style=\"text-align: right;\">          147.189 </td><td style=\"text-align: right;\">       147.189</td><td style=\"text-align: right;\"> 1747167669</td><td style=\"text-align: right;\">                   1</td><td>13f5f_00018</td></tr>\n",
       "<tr><td>_tune_wrapper_13f5f_00019</td><td>checkpoint_000001    </td><td>2025-05-13_22-24-58</td><td>True  </td><td>DESKTOP-B40NR52</td><td style=\"text-align: right;\">                         2</td><td style=\"text-align: right;\">431.553 </td><td style=\"text-align: right;\">432.053 </td><td>127.0.0.1</td><td style=\"text-align: right;\">24428</td><td>True               </td><td style=\"text-align: right;\">             218.732</td><td style=\"text-align: right;\">           59.2158</td><td style=\"text-align: right;\">       218.732</td><td style=\"text-align: right;\"> 1747167898</td><td style=\"text-align: right;\">                   2</td><td>13f5f_00019</td></tr>\n",
       "</tbody>\n",
       "</table>\n",
       "</div>\n",
       "<style>\n",
       ".trialProgress {\n",
       "  display: flex;\n",
       "  flex-direction: column;\n",
       "  color: var(--jp-ui-font-color1);\n",
       "}\n",
       ".trialProgress h3 {\n",
       "  font-weight: bold;\n",
       "}\n",
       ".trialProgress td {\n",
       "  white-space: nowrap;\n",
       "}\n",
       "</style>\n"
      ],
      "text/plain": [
       "<IPython.core.display.HTML object>"
      ]
     },
     "metadata": {},
     "output_type": "display_data"
    },
    {
     "name": "stderr",
     "output_type": "stream",
     "text": [
      "\u001b[36m(_tune_wrapper pid=24264)\u001b[0m Checkpoint successfully created at: Checkpoint(filesystem=local, path=c:/Users/Youssef/Desktop/TFG/eye-tracker-vocacions/src/logs/eyes/tune_20250513-201407/13f5f_00000/checkpoint_000001)\n",
      "\u001b[36m(_tune_wrapper pid=24264)\u001b[0m Checkpoint successfully created at: Checkpoint(filesystem=local, path=c:/Users/Youssef/Desktop/TFG/eye-tracker-vocacions/src/logs/eyes/tune_20250513-201407/13f5f_00000/checkpoint_000002)\n",
      "\u001b[36m(_tune_wrapper pid=24264)\u001b[0m Checkpoint successfully created at: Checkpoint(filesystem=local, path=c:/Users/Youssef/Desktop/TFG/eye-tracker-vocacions/src/logs/eyes/tune_20250513-201407/13f5f_00000/checkpoint_000003)\n",
      "\u001b[36m(_tune_wrapper pid=24264)\u001b[0m Checkpoint successfully created at: Checkpoint(filesystem=local, path=c:/Users/Youssef/Desktop/TFG/eye-tracker-vocacions/src/logs/eyes/tune_20250513-201407/13f5f_00000/checkpoint_000004)\n",
      "\u001b[36m(_tune_wrapper pid=24264)\u001b[0m Checkpoint successfully created at: Checkpoint(filesystem=local, path=c:/Users/Youssef/Desktop/TFG/eye-tracker-vocacions/src/logs/eyes/tune_20250513-201407/13f5f_00000/checkpoint_000005)\n",
      "\u001b[36m(_tune_wrapper pid=24264)\u001b[0m Checkpoint successfully created at: Checkpoint(filesystem=local, path=c:/Users/Youssef/Desktop/TFG/eye-tracker-vocacions/src/logs/eyes/tune_20250513-201407/13f5f_00000/checkpoint_000006)\n",
      "\u001b[36m(_tune_wrapper pid=24264)\u001b[0m Checkpoint successfully created at: Checkpoint(filesystem=local, path=c:/Users/Youssef/Desktop/TFG/eye-tracker-vocacions/src/logs/eyes/tune_20250513-201407/13f5f_00000/checkpoint_000007)\n",
      "\u001b[36m(_tune_wrapper pid=24264)\u001b[0m Checkpoint successfully created at: Checkpoint(filesystem=local, path=c:/Users/Youssef/Desktop/TFG/eye-tracker-vocacions/src/logs/eyes/tune_20250513-201407/13f5f_00000/checkpoint_000008)\n",
      "\u001b[36m(_tune_wrapper pid=24264)\u001b[0m Checkpoint successfully created at: Checkpoint(filesystem=local, path=c:/Users/Youssef/Desktop/TFG/eye-tracker-vocacions/src/logs/eyes/tune_20250513-201407/13f5f_00000/checkpoint_000009)\n",
      "\u001b[36m(_tune_wrapper pid=24264)\u001b[0m Checkpoint successfully created at: Checkpoint(filesystem=local, path=c:/Users/Youssef/Desktop/TFG/eye-tracker-vocacions/src/logs/eyes/tune_20250513-201407/13f5f_00000/checkpoint_000010)\n",
      "\u001b[36m(_tune_wrapper pid=24264)\u001b[0m Checkpoint successfully created at: Checkpoint(filesystem=local, path=c:/Users/Youssef/Desktop/TFG/eye-tracker-vocacions/src/logs/eyes/tune_20250513-201407/13f5f_00000/checkpoint_000011)\n",
      "\u001b[36m(_tune_wrapper pid=24264)\u001b[0m Checkpoint successfully created at: Checkpoint(filesystem=local, path=c:/Users/Youssef/Desktop/TFG/eye-tracker-vocacions/src/logs/eyes/tune_20250513-201407/13f5f_00000/checkpoint_000012)\n",
      "\u001b[36m(_tune_wrapper pid=24264)\u001b[0m Checkpoint successfully created at: Checkpoint(filesystem=local, path=c:/Users/Youssef/Desktop/TFG/eye-tracker-vocacions/src/logs/eyes/tune_20250513-201407/13f5f_00000/checkpoint_000013)\n",
      "\u001b[36m(_tune_wrapper pid=24264)\u001b[0m Checkpoint successfully created at: Checkpoint(filesystem=local, path=c:/Users/Youssef/Desktop/TFG/eye-tracker-vocacions/src/logs/eyes/tune_20250513-201407/13f5f_00000/checkpoint_000014)\n",
      "2025-05-13 20:30:08,237\tINFO tensorboardx.py:308 -- Removed the following hyperparameter values when logging to tensorboard: {'channels': (48, 96, 192)}\n",
      "\u001b[36m(_tune_wrapper pid=22632)\u001b[0m Seed set to 5788\n",
      "\u001b[36m(_tune_wrapper pid=22632)\u001b[0m Using bfloat16 Automatic Mixed Precision (AMP)\n",
      "\u001b[36m(_tune_wrapper pid=22632)\u001b[0m GPU available: True (cuda), used: True\n",
      "\u001b[36m(_tune_wrapper pid=22632)\u001b[0m TPU available: False, using: 0 TPU cores\n",
      "\u001b[36m(_tune_wrapper pid=22632)\u001b[0m HPU available: False, using: 0 HPUs\n",
      "\u001b[36m(_tune_wrapper pid=22632)\u001b[0m LOCAL_RANK: 0 - CUDA_VISIBLE_DEVICES: [0]\n",
      "\u001b[36m(_tune_wrapper pid=22632)\u001b[0m \n",
      "\u001b[36m(_tune_wrapper pid=22632)\u001b[0m   | Name      | Type              | Params | Mode  | In sizes       | Out sizes     \n",
      "\u001b[36m(_tune_wrapper pid=22632)\u001b[0m ------------------------------------------------------------------------------------------\n",
      "\u001b[36m(_tune_wrapper pid=22632)\u001b[0m 0 | criterion | SmoothL1Loss      | 0      | train | ?              | ?             \n",
      "\u001b[36m(_tune_wrapper pid=22632)\u001b[0m 1 | mae       | MeanAbsoluteError | 0      | train | ?              | ?             \n",
      "\u001b[36m(_tune_wrapper pid=22632)\u001b[0m 2 | mse       | MeanSquaredError  | 0      | train | ?              | ?             \n",
      "\u001b[36m(_tune_wrapper pid=22632)\u001b[0m 3 | rmse      | MeanSquaredError  | 0      | train | ?              | ?             \n",
      "\u001b[36m(_tune_wrapper pid=22632)\u001b[0m 4 | l_stack   | ConvStack         | 371 K  | train | [1, 3, 64, 64] | [1, 256, 1, 1]\n",
      "\u001b[36m(_tune_wrapper pid=22632)\u001b[0m 5 | r_stack   | ConvStack         | 371 K  | train | [1, 3, 64, 64] | [1, 256, 1, 1]\n",
      "\u001b[36m(_tune_wrapper pid=22632)\u001b[0m 6 | regressor | Sequential        | 263 K  | train | [1, 512]       | [1, 2]        \n",
      "\u001b[36m(_tune_wrapper pid=22632)\u001b[0m ------------------------------------------------------------------------------------------\n",
      "\u001b[36m(_tune_wrapper pid=22632)\u001b[0m 1.0 M     Trainable params\n",
      "\u001b[36m(_tune_wrapper pid=22632)\u001b[0m 0         Non-trainable params\n",
      "\u001b[36m(_tune_wrapper pid=22632)\u001b[0m 1.0 M     Total params\n",
      "\u001b[36m(_tune_wrapper pid=22632)\u001b[0m 4.025     Total estimated model params size (MB)\n",
      "\u001b[36m(_tune_wrapper pid=22632)\u001b[0m 43        Modules in train mode\n",
      "\u001b[36m(_tune_wrapper pid=22632)\u001b[0m 0         Modules in eval mode\n",
      "\u001b[36m(_tune_wrapper pid=22632)\u001b[0m Checkpoint successfully created at: Checkpoint(filesystem=local, path=c:/Users/Youssef/Desktop/TFG/eye-tracker-vocacions/src/logs/eyes/tune_20250513-201407/13f5f_00001/checkpoint_000000)\n",
      "\u001b[36m(_tune_wrapper pid=22632)\u001b[0m Checkpoint successfully created at: Checkpoint(filesystem=local, path=c:/Users/Youssef/Desktop/TFG/eye-tracker-vocacions/src/logs/eyes/tune_20250513-201407/13f5f_00001/checkpoint_000001)\n",
      "\u001b[36m(_tune_wrapper pid=22632)\u001b[0m Checkpoint successfully created at: Checkpoint(filesystem=local, path=c:/Users/Youssef/Desktop/TFG/eye-tracker-vocacions/src/logs/eyes/tune_20250513-201407/13f5f_00001/checkpoint_000002)\n",
      "\u001b[36m(_tune_wrapper pid=22632)\u001b[0m Checkpoint successfully created at: Checkpoint(filesystem=local, path=c:/Users/Youssef/Desktop/TFG/eye-tracker-vocacions/src/logs/eyes/tune_20250513-201407/13f5f_00001/checkpoint_000003)\n",
      "\u001b[36m(_tune_wrapper pid=22632)\u001b[0m Checkpoint successfully created at: Checkpoint(filesystem=local, path=c:/Users/Youssef/Desktop/TFG/eye-tracker-vocacions/src/logs/eyes/tune_20250513-201407/13f5f_00001/checkpoint_000004)\n",
      "\u001b[36m(_tune_wrapper pid=22632)\u001b[0m Checkpoint successfully created at: Checkpoint(filesystem=local, path=c:/Users/Youssef/Desktop/TFG/eye-tracker-vocacions/src/logs/eyes/tune_20250513-201407/13f5f_00001/checkpoint_000005)\n",
      "\u001b[36m(_tune_wrapper pid=22632)\u001b[0m Checkpoint successfully created at: Checkpoint(filesystem=local, path=c:/Users/Youssef/Desktop/TFG/eye-tracker-vocacions/src/logs/eyes/tune_20250513-201407/13f5f_00001/checkpoint_000006)\n",
      "\u001b[36m(_tune_wrapper pid=22632)\u001b[0m Checkpoint successfully created at: Checkpoint(filesystem=local, path=c:/Users/Youssef/Desktop/TFG/eye-tracker-vocacions/src/logs/eyes/tune_20250513-201407/13f5f_00001/checkpoint_000007)\n",
      "\u001b[36m(_tune_wrapper pid=22632)\u001b[0m Checkpoint successfully created at: Checkpoint(filesystem=local, path=c:/Users/Youssef/Desktop/TFG/eye-tracker-vocacions/src/logs/eyes/tune_20250513-201407/13f5f_00001/checkpoint_000008)\n",
      "\u001b[36m(_tune_wrapper pid=22632)\u001b[0m Checkpoint successfully created at: Checkpoint(filesystem=local, path=c:/Users/Youssef/Desktop/TFG/eye-tracker-vocacions/src/logs/eyes/tune_20250513-201407/13f5f_00001/checkpoint_000009)\n",
      "\u001b[36m(_tune_wrapper pid=22632)\u001b[0m Checkpoint successfully created at: Checkpoint(filesystem=local, path=c:/Users/Youssef/Desktop/TFG/eye-tracker-vocacions/src/logs/eyes/tune_20250513-201407/13f5f_00001/checkpoint_000010)\n",
      "\u001b[36m(_tune_wrapper pid=22632)\u001b[0m Checkpoint successfully created at: Checkpoint(filesystem=local, path=c:/Users/Youssef/Desktop/TFG/eye-tracker-vocacions/src/logs/eyes/tune_20250513-201407/13f5f_00001/checkpoint_000011)\n",
      "\u001b[36m(_tune_wrapper pid=22632)\u001b[0m Checkpoint successfully created at: Checkpoint(filesystem=local, path=c:/Users/Youssef/Desktop/TFG/eye-tracker-vocacions/src/logs/eyes/tune_20250513-201407/13f5f_00001/checkpoint_000012)\n",
      "\u001b[36m(_tune_wrapper pid=22632)\u001b[0m Checkpoint successfully created at: Checkpoint(filesystem=local, path=c:/Users/Youssef/Desktop/TFG/eye-tracker-vocacions/src/logs/eyes/tune_20250513-201407/13f5f_00001/checkpoint_000013)\n",
      "2025-05-13 20:47:39,944\tINFO tensorboardx.py:308 -- Removed the following hyperparameter values when logging to tensorboard: {'channels': (64, 128, 256)}\n",
      "\u001b[36m(_tune_wrapper pid=22632)\u001b[0m Checkpoint successfully created at: Checkpoint(filesystem=local, path=c:/Users/Youssef/Desktop/TFG/eye-tracker-vocacions/src/logs/eyes/tune_20250513-201407/13f5f_00001/checkpoint_000014)\n",
      "\u001b[36m(_tune_wrapper pid=23488)\u001b[0m Seed set to 7131\n",
      "\u001b[36m(_tune_wrapper pid=23488)\u001b[0m Using bfloat16 Automatic Mixed Precision (AMP)\n",
      "\u001b[36m(_tune_wrapper pid=23488)\u001b[0m GPU available: True (cuda), used: True\n",
      "\u001b[36m(_tune_wrapper pid=23488)\u001b[0m TPU available: False, using: 0 TPU cores\n",
      "\u001b[36m(_tune_wrapper pid=23488)\u001b[0m HPU available: False, using: 0 HPUs\n",
      "\u001b[36m(_tune_wrapper pid=23488)\u001b[0m LOCAL_RANK: 0 - CUDA_VISIBLE_DEVICES: [0]\n",
      "\u001b[36m(_tune_wrapper pid=23488)\u001b[0m \n",
      "\u001b[36m(_tune_wrapper pid=23488)\u001b[0m   | Name      | Type              | Params | Mode  | In sizes       | Out sizes     \n",
      "\u001b[36m(_tune_wrapper pid=23488)\u001b[0m ------------------------------------------------------------------------------------------\n",
      "\u001b[36m(_tune_wrapper pid=23488)\u001b[0m 0 | criterion | SmoothL1Loss      | 0      | train | ?              | ?             \n",
      "\u001b[36m(_tune_wrapper pid=23488)\u001b[0m 1 | mae       | MeanAbsoluteError | 0      | train | ?              | ?             \n",
      "\u001b[36m(_tune_wrapper pid=23488)\u001b[0m 2 | mse       | MeanSquaredError  | 0      | train | ?              | ?             \n",
      "\u001b[36m(_tune_wrapper pid=23488)\u001b[0m 3 | rmse      | MeanSquaredError  | 0      | train | ?              | ?             \n",
      "\u001b[36m(_tune_wrapper pid=23488)\u001b[0m 4 | l_stack   | ConvStack         | 371 K  | train | [1, 3, 64, 64] | [1, 256, 1, 1]\n",
      "\u001b[36m(_tune_wrapper pid=23488)\u001b[0m 5 | r_stack   | ConvStack         | 371 K  | train | [1, 3, 64, 64] | [1, 256, 1, 1]\n",
      "\u001b[36m(_tune_wrapper pid=23488)\u001b[0m 6 | regressor | Sequential        | 263 K  | train | [1, 512]       | [1, 2]        \n",
      "\u001b[36m(_tune_wrapper pid=23488)\u001b[0m ------------------------------------------------------------------------------------------\n",
      "\u001b[36m(_tune_wrapper pid=23488)\u001b[0m 1.0 M     Trainable params\n",
      "\u001b[36m(_tune_wrapper pid=23488)\u001b[0m 0         Non-trainable params\n",
      "\u001b[36m(_tune_wrapper pid=23488)\u001b[0m 1.0 M     Total params\n",
      "\u001b[36m(_tune_wrapper pid=23488)\u001b[0m 4.025     Total estimated model params size (MB)\n",
      "\u001b[36m(_tune_wrapper pid=23488)\u001b[0m 43        Modules in train mode\n",
      "\u001b[36m(_tune_wrapper pid=23488)\u001b[0m 0         Modules in eval mode\n",
      "\u001b[36m(_tune_wrapper pid=23488)\u001b[0m Checkpoint successfully created at: Checkpoint(filesystem=local, path=c:/Users/Youssef/Desktop/TFG/eye-tracker-vocacions/src/logs/eyes/tune_20250513-201407/13f5f_00002/checkpoint_000000)\n",
      "\u001b[36m(_tune_wrapper pid=23488)\u001b[0m Checkpoint successfully created at: Checkpoint(filesystem=local, path=c:/Users/Youssef/Desktop/TFG/eye-tracker-vocacions/src/logs/eyes/tune_20250513-201407/13f5f_00002/checkpoint_000001)\n",
      "\u001b[36m(_tune_wrapper pid=23488)\u001b[0m Checkpoint successfully created at: Checkpoint(filesystem=local, path=c:/Users/Youssef/Desktop/TFG/eye-tracker-vocacions/src/logs/eyes/tune_20250513-201407/13f5f_00002/checkpoint_000002)\n",
      "\u001b[36m(_tune_wrapper pid=23488)\u001b[0m Checkpoint successfully created at: Checkpoint(filesystem=local, path=c:/Users/Youssef/Desktop/TFG/eye-tracker-vocacions/src/logs/eyes/tune_20250513-201407/13f5f_00002/checkpoint_000003)\n",
      "\u001b[36m(_tune_wrapper pid=23488)\u001b[0m Checkpoint successfully created at: Checkpoint(filesystem=local, path=c:/Users/Youssef/Desktop/TFG/eye-tracker-vocacions/src/logs/eyes/tune_20250513-201407/13f5f_00002/checkpoint_000004)\n",
      "\u001b[36m(_tune_wrapper pid=23488)\u001b[0m Checkpoint successfully created at: Checkpoint(filesystem=local, path=c:/Users/Youssef/Desktop/TFG/eye-tracker-vocacions/src/logs/eyes/tune_20250513-201407/13f5f_00002/checkpoint_000005)\n",
      "\u001b[36m(_tune_wrapper pid=23488)\u001b[0m Checkpoint successfully created at: Checkpoint(filesystem=local, path=c:/Users/Youssef/Desktop/TFG/eye-tracker-vocacions/src/logs/eyes/tune_20250513-201407/13f5f_00002/checkpoint_000006)\n",
      "\u001b[36m(_tune_wrapper pid=23488)\u001b[0m Checkpoint successfully created at: Checkpoint(filesystem=local, path=c:/Users/Youssef/Desktop/TFG/eye-tracker-vocacions/src/logs/eyes/tune_20250513-201407/13f5f_00002/checkpoint_000007)\n",
      "\u001b[36m(_tune_wrapper pid=23488)\u001b[0m Checkpoint successfully created at: Checkpoint(filesystem=local, path=c:/Users/Youssef/Desktop/TFG/eye-tracker-vocacions/src/logs/eyes/tune_20250513-201407/13f5f_00002/checkpoint_000008)\n",
      "\u001b[36m(_tune_wrapper pid=23488)\u001b[0m Checkpoint successfully created at: Checkpoint(filesystem=local, path=c:/Users/Youssef/Desktop/TFG/eye-tracker-vocacions/src/logs/eyes/tune_20250513-201407/13f5f_00002/checkpoint_000009)\n",
      "\u001b[36m(_tune_wrapper pid=23488)\u001b[0m Checkpoint successfully created at: Checkpoint(filesystem=local, path=c:/Users/Youssef/Desktop/TFG/eye-tracker-vocacions/src/logs/eyes/tune_20250513-201407/13f5f_00002/checkpoint_000010)\n",
      "\u001b[36m(_tune_wrapper pid=23488)\u001b[0m Checkpoint successfully created at: Checkpoint(filesystem=local, path=c:/Users/Youssef/Desktop/TFG/eye-tracker-vocacions/src/logs/eyes/tune_20250513-201407/13f5f_00002/checkpoint_000011)\n",
      "\u001b[36m(_tune_wrapper pid=23488)\u001b[0m Checkpoint successfully created at: Checkpoint(filesystem=local, path=c:/Users/Youssef/Desktop/TFG/eye-tracker-vocacions/src/logs/eyes/tune_20250513-201407/13f5f_00002/checkpoint_000012)\n",
      "\u001b[36m(_tune_wrapper pid=23488)\u001b[0m Checkpoint successfully created at: Checkpoint(filesystem=local, path=c:/Users/Youssef/Desktop/TFG/eye-tracker-vocacions/src/logs/eyes/tune_20250513-201407/13f5f_00002/checkpoint_000013)\n",
      "2025-05-13 21:06:23,506\tINFO tensorboardx.py:308 -- Removed the following hyperparameter values when logging to tensorboard: {'channels': (64, 128, 256)}\n",
      "\u001b[36m(_tune_wrapper pid=23488)\u001b[0m Checkpoint successfully created at: Checkpoint(filesystem=local, path=c:/Users/Youssef/Desktop/TFG/eye-tracker-vocacions/src/logs/eyes/tune_20250513-201407/13f5f_00002/checkpoint_000014)\n",
      "\u001b[36m(_tune_wrapper pid=16536)\u001b[0m Seed set to 5293\n",
      "\u001b[36m(_tune_wrapper pid=16536)\u001b[0m Using bfloat16 Automatic Mixed Precision (AMP)\n",
      "\u001b[36m(_tune_wrapper pid=16536)\u001b[0m GPU available: True (cuda), used: True\n",
      "\u001b[36m(_tune_wrapper pid=16536)\u001b[0m TPU available: False, using: 0 TPU cores\n",
      "\u001b[36m(_tune_wrapper pid=16536)\u001b[0m HPU available: False, using: 0 HPUs\n",
      "\u001b[36m(_tune_wrapper pid=16536)\u001b[0m LOCAL_RANK: 0 - CUDA_VISIBLE_DEVICES: [0]\n",
      "\u001b[36m(_tune_wrapper pid=16536)\u001b[0m \n",
      "\u001b[36m(_tune_wrapper pid=16536)\u001b[0m   | Name      | Type              | Params | Mode  | In sizes       | Out sizes     \n",
      "\u001b[36m(_tune_wrapper pid=16536)\u001b[0m ------------------------------------------------------------------------------------------\n",
      "\u001b[36m(_tune_wrapper pid=16536)\u001b[0m 0 | criterion | SmoothL1Loss      | 0      | train | ?              | ?             \n",
      "\u001b[36m(_tune_wrapper pid=16536)\u001b[0m 1 | mae       | MeanAbsoluteError | 0      | train | ?              | ?             \n",
      "\u001b[36m(_tune_wrapper pid=16536)\u001b[0m 2 | mse       | MeanSquaredError  | 0      | train | ?              | ?             \n",
      "\u001b[36m(_tune_wrapper pid=16536)\u001b[0m 3 | rmse      | MeanSquaredError  | 0      | train | ?              | ?             \n",
      "\u001b[36m(_tune_wrapper pid=16536)\u001b[0m 4 | l_stack   | ConvStack         | 93.5 K | train | [1, 3, 64, 64] | [1, 128, 1, 1]\n",
      "\u001b[36m(_tune_wrapper pid=16536)\u001b[0m 5 | r_stack   | ConvStack         | 93.5 K | train | [1, 3, 64, 64] | [1, 128, 1, 1]\n",
      "\u001b[36m(_tune_wrapper pid=16536)\u001b[0m 6 | regressor | Sequential        | 33.2 K | train | [1, 256]       | [1, 2]        \n",
      "\u001b[36m(_tune_wrapper pid=16536)\u001b[0m ------------------------------------------------------------------------------------------\n",
      "\u001b[36m(_tune_wrapper pid=16536)\u001b[0m 220 K     Trainable params\n",
      "\u001b[36m(_tune_wrapper pid=16536)\u001b[0m 0         Non-trainable params\n",
      "\u001b[36m(_tune_wrapper pid=16536)\u001b[0m 220 K     Total params\n",
      "\u001b[36m(_tune_wrapper pid=16536)\u001b[0m 0.880     Total estimated model params size (MB)\n",
      "\u001b[36m(_tune_wrapper pid=16536)\u001b[0m 43        Modules in train mode\n",
      "\u001b[36m(_tune_wrapper pid=16536)\u001b[0m 0         Modules in eval mode\n",
      "\u001b[36m(_tune_wrapper pid=16536)\u001b[0m Checkpoint successfully created at: Checkpoint(filesystem=local, path=c:/Users/Youssef/Desktop/TFG/eye-tracker-vocacions/src/logs/eyes/tune_20250513-201407/13f5f_00003/checkpoint_000000)\n",
      "\u001b[36m(_tune_wrapper pid=16536)\u001b[0m Checkpoint successfully created at: Checkpoint(filesystem=local, path=c:/Users/Youssef/Desktop/TFG/eye-tracker-vocacions/src/logs/eyes/tune_20250513-201407/13f5f_00003/checkpoint_000001)\n",
      "\u001b[36m(_tune_wrapper pid=16536)\u001b[0m Checkpoint successfully created at: Checkpoint(filesystem=local, path=c:/Users/Youssef/Desktop/TFG/eye-tracker-vocacions/src/logs/eyes/tune_20250513-201407/13f5f_00003/checkpoint_000002)\n",
      "2025-05-13 21:11:14,534\tINFO tensorboardx.py:308 -- Removed the following hyperparameter values when logging to tensorboard: {'channels': (32, 64, 128)}\n",
      "\u001b[36m(_tune_wrapper pid=16536)\u001b[0m Checkpoint successfully created at: Checkpoint(filesystem=local, path=c:/Users/Youssef/Desktop/TFG/eye-tracker-vocacions/src/logs/eyes/tune_20250513-201407/13f5f_00003/checkpoint_000003)\n",
      "\u001b[36m(_tune_wrapper pid=15128)\u001b[0m Seed set to 7420\n",
      "\u001b[36m(_tune_wrapper pid=15128)\u001b[0m Using bfloat16 Automatic Mixed Precision (AMP)\n",
      "\u001b[36m(_tune_wrapper pid=15128)\u001b[0m GPU available: True (cuda), used: True\n",
      "\u001b[36m(_tune_wrapper pid=15128)\u001b[0m TPU available: False, using: 0 TPU cores\n",
      "\u001b[36m(_tune_wrapper pid=15128)\u001b[0m HPU available: False, using: 0 HPUs\n",
      "\u001b[36m(_tune_wrapper pid=15128)\u001b[0m LOCAL_RANK: 0 - CUDA_VISIBLE_DEVICES: [0]\n",
      "\u001b[36m(_tune_wrapper pid=15128)\u001b[0m \n",
      "\u001b[36m(_tune_wrapper pid=15128)\u001b[0m   | Name      | Type              | Params | Mode  | In sizes       | Out sizes     \n",
      "\u001b[36m(_tune_wrapper pid=15128)\u001b[0m ------------------------------------------------------------------------------------------\n",
      "\u001b[36m(_tune_wrapper pid=15128)\u001b[0m 0 | criterion | SmoothL1Loss      | 0      | train | ?              | ?             \n",
      "\u001b[36m(_tune_wrapper pid=15128)\u001b[0m 1 | mae       | MeanAbsoluteError | 0      | train | ?              | ?             \n",
      "\u001b[36m(_tune_wrapper pid=15128)\u001b[0m 2 | mse       | MeanSquaredError  | 0      | train | ?              | ?             \n",
      "\u001b[36m(_tune_wrapper pid=15128)\u001b[0m 3 | rmse      | MeanSquaredError  | 0      | train | ?              | ?             \n",
      "\u001b[36m(_tune_wrapper pid=15128)\u001b[0m 4 | l_stack   | ConvStack         | 209 K  | train | [1, 3, 64, 64] | [1, 192, 1, 1]\n",
      "\u001b[36m(_tune_wrapper pid=15128)\u001b[0m 5 | r_stack   | ConvStack         | 209 K  | train | [1, 3, 64, 64] | [1, 192, 1, 1]\n",
      "\u001b[36m(_tune_wrapper pid=15128)\u001b[0m 6 | regressor | Sequential        | 99.1 K | train | [1, 384]       | [1, 2]        \n",
      "\u001b[36m(_tune_wrapper pid=15128)\u001b[0m ------------------------------------------------------------------------------------------\n",
      "\u001b[36m(_tune_wrapper pid=15128)\u001b[0m 517 K     Trainable params\n",
      "\u001b[36m(_tune_wrapper pid=15128)\u001b[0m 0         Non-trainable params\n",
      "\u001b[36m(_tune_wrapper pid=15128)\u001b[0m 517 K     Total params\n",
      "\u001b[36m(_tune_wrapper pid=15128)\u001b[0m 2.071     Total estimated model params size (MB)\n",
      "\u001b[36m(_tune_wrapper pid=15128)\u001b[0m 43        Modules in train mode\n",
      "\u001b[36m(_tune_wrapper pid=15128)\u001b[0m 0         Modules in eval mode\n",
      "2025-05-13 21:14:14,325\tINFO tensorboardx.py:308 -- Removed the following hyperparameter values when logging to tensorboard: {'channels': (48, 96, 192)}\n",
      "\u001b[36m(_tune_wrapper pid=15128)\u001b[0m Checkpoint successfully created at: Checkpoint(filesystem=local, path=c:/Users/Youssef/Desktop/TFG/eye-tracker-vocacions/src/logs/eyes/tune_20250513-201407/13f5f_00004/checkpoint_000000)\n",
      "\u001b[36m(_tune_wrapper pid=9272)\u001b[0m Seed set to 5669\n",
      "\u001b[36m(_tune_wrapper pid=9272)\u001b[0m Using bfloat16 Automatic Mixed Precision (AMP)\n",
      "\u001b[36m(_tune_wrapper pid=9272)\u001b[0m GPU available: True (cuda), used: True\n",
      "\u001b[36m(_tune_wrapper pid=9272)\u001b[0m TPU available: False, using: 0 TPU cores\n",
      "\u001b[36m(_tune_wrapper pid=9272)\u001b[0m HPU available: False, using: 0 HPUs\n",
      "\u001b[36m(_tune_wrapper pid=9272)\u001b[0m LOCAL_RANK: 0 - CUDA_VISIBLE_DEVICES: [0]\n",
      "\u001b[36m(_tune_wrapper pid=9272)\u001b[0m \n",
      "\u001b[36m(_tune_wrapper pid=9272)\u001b[0m   | Name      | Type              | Params | Mode  | In sizes       | Out sizes     \n",
      "\u001b[36m(_tune_wrapper pid=9272)\u001b[0m ------------------------------------------------------------------------------------------\n",
      "\u001b[36m(_tune_wrapper pid=9272)\u001b[0m 0 | criterion | SmoothL1Loss      | 0      | train | ?              | ?             \n",
      "\u001b[36m(_tune_wrapper pid=9272)\u001b[0m 1 | mae       | MeanAbsoluteError | 0      | train | ?              | ?             \n",
      "\u001b[36m(_tune_wrapper pid=9272)\u001b[0m 2 | mse       | MeanSquaredError  | 0      | train | ?              | ?             \n",
      "\u001b[36m(_tune_wrapper pid=9272)\u001b[0m 3 | rmse      | MeanSquaredError  | 0      | train | ?              | ?             \n",
      "\u001b[36m(_tune_wrapper pid=9272)\u001b[0m 4 | l_stack   | ConvStack         | 371 K  | train | [1, 3, 64, 64] | [1, 256, 1, 1]\n",
      "\u001b[36m(_tune_wrapper pid=9272)\u001b[0m 5 | r_stack   | ConvStack         | 371 K  | train | [1, 3, 64, 64] | [1, 256, 1, 1]\n",
      "\u001b[36m(_tune_wrapper pid=9272)\u001b[0m 6 | regressor | Sequential        | 131 K  | train | [1, 512]       | [1, 2]        \n",
      "\u001b[36m(_tune_wrapper pid=9272)\u001b[0m ------------------------------------------------------------------------------------------\n",
      "\u001b[36m(_tune_wrapper pid=9272)\u001b[0m 874 K     Trainable params\n",
      "\u001b[36m(_tune_wrapper pid=9272)\u001b[0m 0         Non-trainable params\n",
      "\u001b[36m(_tune_wrapper pid=9272)\u001b[0m 874 K     Total params\n",
      "\u001b[36m(_tune_wrapper pid=9272)\u001b[0m 3.497     Total estimated model params size (MB)\n",
      "\u001b[36m(_tune_wrapper pid=9272)\u001b[0m 43        Modules in train mode\n",
      "\u001b[36m(_tune_wrapper pid=9272)\u001b[0m 0         Modules in eval mode\n",
      "\u001b[36m(_tune_wrapper pid=9272)\u001b[0m Checkpoint successfully created at: Checkpoint(filesystem=local, path=c:/Users/Youssef/Desktop/TFG/eye-tracker-vocacions/src/logs/eyes/tune_20250513-201407/13f5f_00005/checkpoint_000000)\n",
      "2025-05-13 21:18:41,462\tINFO tensorboardx.py:308 -- Removed the following hyperparameter values when logging to tensorboard: {'channels': (64, 128, 256)}\n",
      "\u001b[36m(_tune_wrapper pid=9272)\u001b[0m Checkpoint successfully created at: Checkpoint(filesystem=local, path=c:/Users/Youssef/Desktop/TFG/eye-tracker-vocacions/src/logs/eyes/tune_20250513-201407/13f5f_00005/checkpoint_000001)\n",
      "\u001b[36m(_tune_wrapper pid=13212)\u001b[0m Seed set to 3342\n",
      "\u001b[36m(_tune_wrapper pid=13212)\u001b[0m Using bfloat16 Automatic Mixed Precision (AMP)\n",
      "\u001b[36m(_tune_wrapper pid=13212)\u001b[0m GPU available: True (cuda), used: True\n",
      "\u001b[36m(_tune_wrapper pid=13212)\u001b[0m TPU available: False, using: 0 TPU cores\n",
      "\u001b[36m(_tune_wrapper pid=13212)\u001b[0m HPU available: False, using: 0 HPUs\n",
      "\u001b[36m(_tune_wrapper pid=13212)\u001b[0m LOCAL_RANK: 0 - CUDA_VISIBLE_DEVICES: [0]\n",
      "\u001b[36m(_tune_wrapper pid=13212)\u001b[0m \n",
      "\u001b[36m(_tune_wrapper pid=13212)\u001b[0m   | Name      | Type              | Params | Mode  | In sizes       | Out sizes     \n",
      "\u001b[36m(_tune_wrapper pid=13212)\u001b[0m ------------------------------------------------------------------------------------------\n",
      "\u001b[36m(_tune_wrapper pid=13212)\u001b[0m 0 | criterion | SmoothL1Loss      | 0      | train | ?              | ?             \n",
      "\u001b[36m(_tune_wrapper pid=13212)\u001b[0m 1 | mae       | MeanAbsoluteError | 0      | train | ?              | ?             \n",
      "\u001b[36m(_tune_wrapper pid=13212)\u001b[0m 2 | mse       | MeanSquaredError  | 0      | train | ?              | ?             \n",
      "\u001b[36m(_tune_wrapper pid=13212)\u001b[0m 3 | rmse      | MeanSquaredError  | 0      | train | ?              | ?             \n",
      "\u001b[36m(_tune_wrapper pid=13212)\u001b[0m 4 | l_stack   | ConvStack         | 93.5 K | train | [1, 3, 64, 64] | [1, 128, 1, 1]\n",
      "\u001b[36m(_tune_wrapper pid=13212)\u001b[0m 5 | r_stack   | ConvStack         | 93.5 K | train | [1, 3, 64, 64] | [1, 128, 1, 1]\n",
      "\u001b[36m(_tune_wrapper pid=13212)\u001b[0m 6 | regressor | Sequential        | 132 K  | train | [1, 256]       | [1, 2]        \n",
      "\u001b[36m(_tune_wrapper pid=13212)\u001b[0m ------------------------------------------------------------------------------------------\n",
      "\u001b[36m(_tune_wrapper pid=13212)\u001b[0m 319 K     Trainable params\n",
      "\u001b[36m(_tune_wrapper pid=13212)\u001b[0m 0         Non-trainable params\n",
      "\u001b[36m(_tune_wrapper pid=13212)\u001b[0m 319 K     Total params\n",
      "\u001b[36m(_tune_wrapper pid=13212)\u001b[0m 1.278     Total estimated model params size (MB)\n",
      "\u001b[36m(_tune_wrapper pid=13212)\u001b[0m 43        Modules in train mode\n",
      "\u001b[36m(_tune_wrapper pid=13212)\u001b[0m 0         Modules in eval mode\n",
      "\u001b[36m(_tune_wrapper pid=13212)\u001b[0m Checkpoint successfully created at: Checkpoint(filesystem=local, path=c:/Users/Youssef/Desktop/TFG/eye-tracker-vocacions/src/logs/eyes/tune_20250513-201407/13f5f_00006/checkpoint_000000)\n",
      "\u001b[36m(_tune_wrapper pid=13212)\u001b[0m Checkpoint successfully created at: Checkpoint(filesystem=local, path=c:/Users/Youssef/Desktop/TFG/eye-tracker-vocacions/src/logs/eyes/tune_20250513-201407/13f5f_00006/checkpoint_000001)\n",
      "\u001b[36m(_tune_wrapper pid=13212)\u001b[0m Checkpoint successfully created at: Checkpoint(filesystem=local, path=c:/Users/Youssef/Desktop/TFG/eye-tracker-vocacions/src/logs/eyes/tune_20250513-201407/13f5f_00006/checkpoint_000002)\n",
      "2025-05-13 21:23:46,695\tINFO tensorboardx.py:308 -- Removed the following hyperparameter values when logging to tensorboard: {'channels': (32, 64, 128)}\n",
      "\u001b[36m(_tune_wrapper pid=13212)\u001b[0m Checkpoint successfully created at: Checkpoint(filesystem=local, path=c:/Users/Youssef/Desktop/TFG/eye-tracker-vocacions/src/logs/eyes/tune_20250513-201407/13f5f_00006/checkpoint_000003)\n",
      "\u001b[36m(_tune_wrapper pid=22956)\u001b[0m Seed set to 1429\n",
      "\u001b[36m(_tune_wrapper pid=22956)\u001b[0m Using bfloat16 Automatic Mixed Precision (AMP)\n",
      "\u001b[36m(_tune_wrapper pid=22956)\u001b[0m GPU available: True (cuda), used: True\n",
      "\u001b[36m(_tune_wrapper pid=22956)\u001b[0m TPU available: False, using: 0 TPU cores\n",
      "\u001b[36m(_tune_wrapper pid=22956)\u001b[0m HPU available: False, using: 0 HPUs\n",
      "\u001b[36m(_tune_wrapper pid=22956)\u001b[0m LOCAL_RANK: 0 - CUDA_VISIBLE_DEVICES: [0]\n",
      "\u001b[36m(_tune_wrapper pid=22956)\u001b[0m \n",
      "\u001b[36m(_tune_wrapper pid=22956)\u001b[0m   | Name      | Type              | Params | Mode  | In sizes       | Out sizes     \n",
      "\u001b[36m(_tune_wrapper pid=22956)\u001b[0m ------------------------------------------------------------------------------------------\n",
      "\u001b[36m(_tune_wrapper pid=22956)\u001b[0m 0 | criterion | SmoothL1Loss      | 0      | train | ?              | ?             \n",
      "\u001b[36m(_tune_wrapper pid=22956)\u001b[0m 1 | mae       | MeanAbsoluteError | 0      | train | ?              | ?             \n",
      "\u001b[36m(_tune_wrapper pid=22956)\u001b[0m 2 | mse       | MeanSquaredError  | 0      | train | ?              | ?             \n",
      "\u001b[36m(_tune_wrapper pid=22956)\u001b[0m 3 | rmse      | MeanSquaredError  | 0      | train | ?              | ?             \n",
      "\u001b[36m(_tune_wrapper pid=22956)\u001b[0m 4 | l_stack   | ConvStack         | 371 K  | train | [1, 3, 64, 64] | [1, 256, 1, 1]\n",
      "\u001b[36m(_tune_wrapper pid=22956)\u001b[0m 5 | r_stack   | ConvStack         | 371 K  | train | [1, 3, 64, 64] | [1, 256, 1, 1]\n",
      "\u001b[36m(_tune_wrapper pid=22956)\u001b[0m 6 | regressor | Sequential        | 131 K  | train | [1, 512]       | [1, 2]        \n",
      "\u001b[36m(_tune_wrapper pid=22956)\u001b[0m ------------------------------------------------------------------------------------------\n",
      "\u001b[36m(_tune_wrapper pid=22956)\u001b[0m 874 K     Trainable params\n",
      "\u001b[36m(_tune_wrapper pid=22956)\u001b[0m 0         Non-trainable params\n",
      "\u001b[36m(_tune_wrapper pid=22956)\u001b[0m 874 K     Total params\n",
      "\u001b[36m(_tune_wrapper pid=22956)\u001b[0m 3.497     Total estimated model params size (MB)\n",
      "\u001b[36m(_tune_wrapper pid=22956)\u001b[0m 43        Modules in train mode\n",
      "\u001b[36m(_tune_wrapper pid=22956)\u001b[0m 0         Modules in eval mode\n",
      "2025-05-13 21:26:58,081\tINFO tensorboardx.py:308 -- Removed the following hyperparameter values when logging to tensorboard: {'channels': (64, 128, 256)}\n",
      "\u001b[36m(_tune_wrapper pid=22956)\u001b[0m Checkpoint successfully created at: Checkpoint(filesystem=local, path=c:/Users/Youssef/Desktop/TFG/eye-tracker-vocacions/src/logs/eyes/tune_20250513-201407/13f5f_00007/checkpoint_000000)\n",
      "\u001b[36m(_tune_wrapper pid=15984)\u001b[0m Seed set to 154\n",
      "\u001b[36m(_tune_wrapper pid=15984)\u001b[0m Using bfloat16 Automatic Mixed Precision (AMP)\n",
      "\u001b[36m(_tune_wrapper pid=15984)\u001b[0m GPU available: True (cuda), used: True\n",
      "\u001b[36m(_tune_wrapper pid=15984)\u001b[0m TPU available: False, using: 0 TPU cores\n",
      "\u001b[36m(_tune_wrapper pid=15984)\u001b[0m HPU available: False, using: 0 HPUs\n",
      "\u001b[36m(_tune_wrapper pid=15984)\u001b[0m LOCAL_RANK: 0 - CUDA_VISIBLE_DEVICES: [0]\n",
      "\u001b[36m(_tune_wrapper pid=15984)\u001b[0m \n",
      "\u001b[36m(_tune_wrapper pid=15984)\u001b[0m   | Name      | Type              | Params | Mode  | In sizes       | Out sizes     \n",
      "\u001b[36m(_tune_wrapper pid=15984)\u001b[0m ------------------------------------------------------------------------------------------\n",
      "\u001b[36m(_tune_wrapper pid=15984)\u001b[0m 0 | criterion | SmoothL1Loss      | 0      | train | ?              | ?             \n",
      "\u001b[36m(_tune_wrapper pid=15984)\u001b[0m 1 | mae       | MeanAbsoluteError | 0      | train | ?              | ?             \n",
      "\u001b[36m(_tune_wrapper pid=15984)\u001b[0m 2 | mse       | MeanSquaredError  | 0      | train | ?              | ?             \n",
      "\u001b[36m(_tune_wrapper pid=15984)\u001b[0m 3 | rmse      | MeanSquaredError  | 0      | train | ?              | ?             \n",
      "\u001b[36m(_tune_wrapper pid=15984)\u001b[0m 4 | l_stack   | ConvStack         | 93.5 K | train | [1, 3, 64, 64] | [1, 128, 1, 1]\n",
      "\u001b[36m(_tune_wrapper pid=15984)\u001b[0m 5 | r_stack   | ConvStack         | 93.5 K | train | [1, 3, 64, 64] | [1, 128, 1, 1]\n",
      "\u001b[36m(_tune_wrapper pid=15984)\u001b[0m 6 | regressor | Sequential        | 33.2 K | train | [1, 256]       | [1, 2]        \n",
      "\u001b[36m(_tune_wrapper pid=15984)\u001b[0m ------------------------------------------------------------------------------------------\n",
      "\u001b[36m(_tune_wrapper pid=15984)\u001b[0m 220 K     Trainable params\n",
      "\u001b[36m(_tune_wrapper pid=15984)\u001b[0m 0         Non-trainable params\n",
      "\u001b[36m(_tune_wrapper pid=15984)\u001b[0m 220 K     Total params\n",
      "\u001b[36m(_tune_wrapper pid=15984)\u001b[0m 0.880     Total estimated model params size (MB)\n",
      "\u001b[36m(_tune_wrapper pid=15984)\u001b[0m 43        Modules in train mode\n",
      "\u001b[36m(_tune_wrapper pid=15984)\u001b[0m 0         Modules in eval mode\n",
      "2025-05-13 21:29:40,305\tINFO tensorboardx.py:308 -- Removed the following hyperparameter values when logging to tensorboard: {'channels': (32, 64, 128)}\n",
      "\u001b[36m(_tune_wrapper pid=15984)\u001b[0m Checkpoint successfully created at: Checkpoint(filesystem=local, path=c:/Users/Youssef/Desktop/TFG/eye-tracker-vocacions/src/logs/eyes/tune_20250513-201407/13f5f_00008/checkpoint_000000)\n",
      "\u001b[36m(_tune_wrapper pid=17400)\u001b[0m Seed set to 2720\n",
      "\u001b[36m(_tune_wrapper pid=17400)\u001b[0m Using bfloat16 Automatic Mixed Precision (AMP)\n",
      "\u001b[36m(_tune_wrapper pid=17400)\u001b[0m GPU available: True (cuda), used: True\n",
      "\u001b[36m(_tune_wrapper pid=17400)\u001b[0m TPU available: False, using: 0 TPU cores\n",
      "\u001b[36m(_tune_wrapper pid=17400)\u001b[0m HPU available: False, using: 0 HPUs\n",
      "\u001b[36m(_tune_wrapper pid=17400)\u001b[0m LOCAL_RANK: 0 - CUDA_VISIBLE_DEVICES: [0]\n",
      "\u001b[36m(_tune_wrapper pid=17400)\u001b[0m \n",
      "\u001b[36m(_tune_wrapper pid=17400)\u001b[0m   | Name      | Type              | Params | Mode  | In sizes       | Out sizes     \n",
      "\u001b[36m(_tune_wrapper pid=17400)\u001b[0m ------------------------------------------------------------------------------------------\n",
      "\u001b[36m(_tune_wrapper pid=17400)\u001b[0m 0 | criterion | SmoothL1Loss      | 0      | train | ?              | ?             \n",
      "\u001b[36m(_tune_wrapper pid=17400)\u001b[0m 1 | mae       | MeanAbsoluteError | 0      | train | ?              | ?             \n",
      "\u001b[36m(_tune_wrapper pid=17400)\u001b[0m 2 | mse       | MeanSquaredError  | 0      | train | ?              | ?             \n",
      "\u001b[36m(_tune_wrapper pid=17400)\u001b[0m 3 | rmse      | MeanSquaredError  | 0      | train | ?              | ?             \n",
      "\u001b[36m(_tune_wrapper pid=17400)\u001b[0m 4 | l_stack   | ConvStack         | 93.5 K | train | [1, 3, 64, 64] | [1, 128, 1, 1]\n",
      "\u001b[36m(_tune_wrapper pid=17400)\u001b[0m 5 | r_stack   | ConvStack         | 93.5 K | train | [1, 3, 64, 64] | [1, 128, 1, 1]\n",
      "\u001b[36m(_tune_wrapper pid=17400)\u001b[0m 6 | regressor | Sequential        | 66.3 K | train | [1, 256]       | [1, 2]        \n",
      "\u001b[36m(_tune_wrapper pid=17400)\u001b[0m ------------------------------------------------------------------------------------------\n",
      "\u001b[36m(_tune_wrapper pid=17400)\u001b[0m 253 K     Trainable params\n",
      "\u001b[36m(_tune_wrapper pid=17400)\u001b[0m 0         Non-trainable params\n",
      "\u001b[36m(_tune_wrapper pid=17400)\u001b[0m 253 K     Total params\n",
      "\u001b[36m(_tune_wrapper pid=17400)\u001b[0m 1.013     Total estimated model params size (MB)\n",
      "\u001b[36m(_tune_wrapper pid=17400)\u001b[0m 43        Modules in train mode\n",
      "\u001b[36m(_tune_wrapper pid=17400)\u001b[0m 0         Modules in eval mode\n",
      "\u001b[36m(_tune_wrapper pid=17400)\u001b[0m Checkpoint successfully created at: Checkpoint(filesystem=local, path=c:/Users/Youssef/Desktop/TFG/eye-tracker-vocacions/src/logs/eyes/tune_20250513-201407/13f5f_00009/checkpoint_000000)\n",
      "\u001b[36m(_tune_wrapper pid=17400)\u001b[0m Checkpoint successfully created at: Checkpoint(filesystem=local, path=c:/Users/Youssef/Desktop/TFG/eye-tracker-vocacions/src/logs/eyes/tune_20250513-201407/13f5f_00009/checkpoint_000001)\n",
      "\u001b[36m(_tune_wrapper pid=17400)\u001b[0m Checkpoint successfully created at: Checkpoint(filesystem=local, path=c:/Users/Youssef/Desktop/TFG/eye-tracker-vocacions/src/logs/eyes/tune_20250513-201407/13f5f_00009/checkpoint_000002)\n",
      "\u001b[36m(_tune_wrapper pid=17400)\u001b[0m Checkpoint successfully created at: Checkpoint(filesystem=local, path=c:/Users/Youssef/Desktop/TFG/eye-tracker-vocacions/src/logs/eyes/tune_20250513-201407/13f5f_00009/checkpoint_000003)\n",
      "2025-05-13 21:34:31,598\tINFO tensorboardx.py:308 -- Removed the following hyperparameter values when logging to tensorboard: {'channels': (32, 64, 128)}\n",
      "\u001b[36m(_tune_wrapper pid=4144)\u001b[0m Seed set to 9476\n",
      "\u001b[36m(_tune_wrapper pid=4144)\u001b[0m Using bfloat16 Automatic Mixed Precision (AMP)\n",
      "\u001b[36m(_tune_wrapper pid=4144)\u001b[0m GPU available: True (cuda), used: True\n",
      "\u001b[36m(_tune_wrapper pid=4144)\u001b[0m TPU available: False, using: 0 TPU cores\n",
      "\u001b[36m(_tune_wrapper pid=4144)\u001b[0m HPU available: False, using: 0 HPUs\n",
      "\u001b[36m(_tune_wrapper pid=4144)\u001b[0m LOCAL_RANK: 0 - CUDA_VISIBLE_DEVICES: [0]\n",
      "\u001b[36m(_tune_wrapper pid=4144)\u001b[0m \n",
      "\u001b[36m(_tune_wrapper pid=4144)\u001b[0m   | Name      | Type              | Params | Mode  | In sizes       | Out sizes     \n",
      "\u001b[36m(_tune_wrapper pid=4144)\u001b[0m ------------------------------------------------------------------------------------------\n",
      "\u001b[36m(_tune_wrapper pid=4144)\u001b[0m 0 | criterion | SmoothL1Loss      | 0      | train | ?              | ?             \n",
      "\u001b[36m(_tune_wrapper pid=4144)\u001b[0m 1 | mae       | MeanAbsoluteError | 0      | train | ?              | ?             \n",
      "\u001b[36m(_tune_wrapper pid=4144)\u001b[0m 2 | mse       | MeanSquaredError  | 0      | train | ?              | ?             \n",
      "\u001b[36m(_tune_wrapper pid=4144)\u001b[0m 3 | rmse      | MeanSquaredError  | 0      | train | ?              | ?             \n",
      "\u001b[36m(_tune_wrapper pid=4144)\u001b[0m 4 | l_stack   | ConvStack         | 93.5 K | train | [1, 3, 64, 64] | [1, 128, 1, 1]\n",
      "\u001b[36m(_tune_wrapper pid=4144)\u001b[0m 5 | r_stack   | ConvStack         | 93.5 K | train | [1, 3, 64, 64] | [1, 128, 1, 1]\n",
      "\u001b[36m(_tune_wrapper pid=4144)\u001b[0m 6 | regressor | Sequential        | 132 K  | train | [1, 256]       | [1, 2]        \n",
      "\u001b[36m(_tune_wrapper pid=4144)\u001b[0m ------------------------------------------------------------------------------------------\n",
      "\u001b[36m(_tune_wrapper pid=4144)\u001b[0m 319 K     Trainable params\n",
      "\u001b[36m(_tune_wrapper pid=4144)\u001b[0m 0         Non-trainable params\n",
      "\u001b[36m(_tune_wrapper pid=4144)\u001b[0m 319 K     Total params\n",
      "\u001b[36m(_tune_wrapper pid=4144)\u001b[0m 1.278     Total estimated model params size (MB)\n",
      "\u001b[36m(_tune_wrapper pid=4144)\u001b[0m 43        Modules in train mode\n",
      "\u001b[36m(_tune_wrapper pid=4144)\u001b[0m 0         Modules in eval mode\n",
      "\u001b[36m(_tune_wrapper pid=4144)\u001b[0m Checkpoint successfully created at: Checkpoint(filesystem=local, path=c:/Users/Youssef/Desktop/TFG/eye-tracker-vocacions/src/logs/eyes/tune_20250513-201407/13f5f_00010/checkpoint_000000)\n",
      "2025-05-13 21:38:03,257\tINFO tensorboardx.py:308 -- Removed the following hyperparameter values when logging to tensorboard: {'channels': (32, 64, 128)}\n",
      "\u001b[36m(_tune_wrapper pid=4144)\u001b[0m Checkpoint successfully created at: Checkpoint(filesystem=local, path=c:/Users/Youssef/Desktop/TFG/eye-tracker-vocacions/src/logs/eyes/tune_20250513-201407/13f5f_00010/checkpoint_000001)\n",
      "\u001b[36m(_tune_wrapper pid=13808)\u001b[0m Seed set to 7494\n",
      "\u001b[36m(_tune_wrapper pid=13808)\u001b[0m Using bfloat16 Automatic Mixed Precision (AMP)\n",
      "\u001b[36m(_tune_wrapper pid=13808)\u001b[0m GPU available: True (cuda), used: True\n",
      "\u001b[36m(_tune_wrapper pid=13808)\u001b[0m TPU available: False, using: 0 TPU cores\n",
      "\u001b[36m(_tune_wrapper pid=13808)\u001b[0m HPU available: False, using: 0 HPUs\n",
      "\u001b[36m(_tune_wrapper pid=13808)\u001b[0m LOCAL_RANK: 0 - CUDA_VISIBLE_DEVICES: [0]\n",
      "\u001b[36m(_tune_wrapper pid=13808)\u001b[0m \n",
      "\u001b[36m(_tune_wrapper pid=13808)\u001b[0m   | Name      | Type              | Params | Mode  | In sizes       | Out sizes     \n",
      "\u001b[36m(_tune_wrapper pid=13808)\u001b[0m ------------------------------------------------------------------------------------------\n",
      "\u001b[36m(_tune_wrapper pid=13808)\u001b[0m 0 | criterion | SmoothL1Loss      | 0      | train | ?              | ?             \n",
      "\u001b[36m(_tune_wrapper pid=13808)\u001b[0m 1 | mae       | MeanAbsoluteError | 0      | train | ?              | ?             \n",
      "\u001b[36m(_tune_wrapper pid=13808)\u001b[0m 2 | mse       | MeanSquaredError  | 0      | train | ?              | ?             \n",
      "\u001b[36m(_tune_wrapper pid=13808)\u001b[0m 3 | rmse      | MeanSquaredError  | 0      | train | ?              | ?             \n",
      "\u001b[36m(_tune_wrapper pid=13808)\u001b[0m 4 | l_stack   | ConvStack         | 93.5 K | train | [1, 3, 64, 64] | [1, 128, 1, 1]\n",
      "\u001b[36m(_tune_wrapper pid=13808)\u001b[0m 5 | r_stack   | ConvStack         | 93.5 K | train | [1, 3, 64, 64] | [1, 128, 1, 1]\n",
      "\u001b[36m(_tune_wrapper pid=13808)\u001b[0m 6 | regressor | Sequential        | 33.2 K | train | [1, 256]       | [1, 2]        \n",
      "\u001b[36m(_tune_wrapper pid=13808)\u001b[0m ------------------------------------------------------------------------------------------\n",
      "\u001b[36m(_tune_wrapper pid=13808)\u001b[0m 220 K     Trainable params\n",
      "\u001b[36m(_tune_wrapper pid=13808)\u001b[0m 0         Non-trainable params\n",
      "\u001b[36m(_tune_wrapper pid=13808)\u001b[0m 220 K     Total params\n",
      "\u001b[36m(_tune_wrapper pid=13808)\u001b[0m 0.880     Total estimated model params size (MB)\n",
      "\u001b[36m(_tune_wrapper pid=13808)\u001b[0m 43        Modules in train mode\n",
      "\u001b[36m(_tune_wrapper pid=13808)\u001b[0m 0         Modules in eval mode\n",
      "\u001b[36m(_tune_wrapper pid=13808)\u001b[0m Checkpoint successfully created at: Checkpoint(filesystem=local, path=c:/Users/Youssef/Desktop/TFG/eye-tracker-vocacions/src/logs/eyes/tune_20250513-201407/13f5f_00011/checkpoint_000000)\n",
      "\u001b[36m(_tune_wrapper pid=13808)\u001b[0m Checkpoint successfully created at: Checkpoint(filesystem=local, path=c:/Users/Youssef/Desktop/TFG/eye-tracker-vocacions/src/logs/eyes/tune_20250513-201407/13f5f_00011/checkpoint_000001)\n",
      "\u001b[36m(_tune_wrapper pid=13808)\u001b[0m Checkpoint successfully created at: Checkpoint(filesystem=local, path=c:/Users/Youssef/Desktop/TFG/eye-tracker-vocacions/src/logs/eyes/tune_20250513-201407/13f5f_00011/checkpoint_000002)\n",
      "\u001b[36m(_tune_wrapper pid=13808)\u001b[0m Checkpoint successfully created at: Checkpoint(filesystem=local, path=c:/Users/Youssef/Desktop/TFG/eye-tracker-vocacions/src/logs/eyes/tune_20250513-201407/13f5f_00011/checkpoint_000003)\n",
      "\u001b[36m(_tune_wrapper pid=13808)\u001b[0m Checkpoint successfully created at: Checkpoint(filesystem=local, path=c:/Users/Youssef/Desktop/TFG/eye-tracker-vocacions/src/logs/eyes/tune_20250513-201407/13f5f_00011/checkpoint_000004)\n",
      "\u001b[36m(_tune_wrapper pid=13808)\u001b[0m Checkpoint successfully created at: Checkpoint(filesystem=local, path=c:/Users/Youssef/Desktop/TFG/eye-tracker-vocacions/src/logs/eyes/tune_20250513-201407/13f5f_00011/checkpoint_000005)\n",
      "\u001b[36m(_tune_wrapper pid=13808)\u001b[0m Checkpoint successfully created at: Checkpoint(filesystem=local, path=c:/Users/Youssef/Desktop/TFG/eye-tracker-vocacions/src/logs/eyes/tune_20250513-201407/13f5f_00011/checkpoint_000006)\n",
      "2025-05-13 21:46:02,396\tINFO tensorboardx.py:308 -- Removed the following hyperparameter values when logging to tensorboard: {'channels': (32, 64, 128)}\n",
      "\u001b[36m(_tune_wrapper pid=13808)\u001b[0m Checkpoint successfully created at: Checkpoint(filesystem=local, path=c:/Users/Youssef/Desktop/TFG/eye-tracker-vocacions/src/logs/eyes/tune_20250513-201407/13f5f_00011/checkpoint_000007)\n",
      "\u001b[36m(_tune_wrapper pid=10800)\u001b[0m Seed set to 885\n",
      "\u001b[36m(_tune_wrapper pid=10800)\u001b[0m Using bfloat16 Automatic Mixed Precision (AMP)\n",
      "\u001b[36m(_tune_wrapper pid=10800)\u001b[0m GPU available: True (cuda), used: True\n",
      "\u001b[36m(_tune_wrapper pid=10800)\u001b[0m TPU available: False, using: 0 TPU cores\n",
      "\u001b[36m(_tune_wrapper pid=10800)\u001b[0m HPU available: False, using: 0 HPUs\n",
      "\u001b[36m(_tune_wrapper pid=10800)\u001b[0m LOCAL_RANK: 0 - CUDA_VISIBLE_DEVICES: [0]\n",
      "\u001b[36m(_tune_wrapper pid=10800)\u001b[0m \n",
      "\u001b[36m(_tune_wrapper pid=10800)\u001b[0m   | Name      | Type              | Params | Mode  | In sizes       | Out sizes     \n",
      "\u001b[36m(_tune_wrapper pid=10800)\u001b[0m ------------------------------------------------------------------------------------------\n",
      "\u001b[36m(_tune_wrapper pid=10800)\u001b[0m 0 | criterion | SmoothL1Loss      | 0      | train | ?              | ?             \n",
      "\u001b[36m(_tune_wrapper pid=10800)\u001b[0m 1 | mae       | MeanAbsoluteError | 0      | train | ?              | ?             \n",
      "\u001b[36m(_tune_wrapper pid=10800)\u001b[0m 2 | mse       | MeanSquaredError  | 0      | train | ?              | ?             \n",
      "\u001b[36m(_tune_wrapper pid=10800)\u001b[0m 3 | rmse      | MeanSquaredError  | 0      | train | ?              | ?             \n",
      "\u001b[36m(_tune_wrapper pid=10800)\u001b[0m 4 | l_stack   | ConvStack         | 93.5 K | train | [1, 3, 64, 64] | [1, 128, 1, 1]\n",
      "\u001b[36m(_tune_wrapper pid=10800)\u001b[0m 5 | r_stack   | ConvStack         | 93.5 K | train | [1, 3, 64, 64] | [1, 128, 1, 1]\n",
      "\u001b[36m(_tune_wrapper pid=10800)\u001b[0m 6 | regressor | Sequential        | 66.3 K | train | [1, 256]       | [1, 2]        \n",
      "\u001b[36m(_tune_wrapper pid=10800)\u001b[0m ------------------------------------------------------------------------------------------\n",
      "\u001b[36m(_tune_wrapper pid=10800)\u001b[0m 253 K     Trainable params\n",
      "\u001b[36m(_tune_wrapper pid=10800)\u001b[0m 0         Non-trainable params\n",
      "\u001b[36m(_tune_wrapper pid=10800)\u001b[0m 253 K     Total params\n",
      "\u001b[36m(_tune_wrapper pid=10800)\u001b[0m 1.013     Total estimated model params size (MB)\n",
      "\u001b[36m(_tune_wrapper pid=10800)\u001b[0m 43        Modules in train mode\n",
      "\u001b[36m(_tune_wrapper pid=10800)\u001b[0m 0         Modules in eval mode\n",
      "\u001b[36m(_tune_wrapper pid=10800)\u001b[0m Checkpoint successfully created at: Checkpoint(filesystem=local, path=c:/Users/Youssef/Desktop/TFG/eye-tracker-vocacions/src/logs/eyes/tune_20250513-201407/13f5f_00012/checkpoint_000000)\n",
      "2025-05-13 21:48:52,196\tINFO tensorboardx.py:308 -- Removed the following hyperparameter values when logging to tensorboard: {'channels': (32, 64, 128)}\n",
      "\u001b[36m(_tune_wrapper pid=13652)\u001b[0m Seed set to 3100\n",
      "\u001b[36m(_tune_wrapper pid=13652)\u001b[0m Using bfloat16 Automatic Mixed Precision (AMP)\n",
      "\u001b[36m(_tune_wrapper pid=13652)\u001b[0m GPU available: True (cuda), used: True\n",
      "\u001b[36m(_tune_wrapper pid=13652)\u001b[0m TPU available: False, using: 0 TPU cores\n",
      "\u001b[36m(_tune_wrapper pid=13652)\u001b[0m HPU available: False, using: 0 HPUs\n",
      "\u001b[36m(_tune_wrapper pid=13652)\u001b[0m LOCAL_RANK: 0 - CUDA_VISIBLE_DEVICES: [0]\n",
      "\u001b[36m(_tune_wrapper pid=13652)\u001b[0m \n",
      "\u001b[36m(_tune_wrapper pid=13652)\u001b[0m   | Name      | Type              | Params | Mode  | In sizes       | Out sizes     \n",
      "\u001b[36m(_tune_wrapper pid=13652)\u001b[0m ------------------------------------------------------------------------------------------\n",
      "\u001b[36m(_tune_wrapper pid=13652)\u001b[0m 0 | criterion | SmoothL1Loss      | 0      | train | ?              | ?             \n",
      "\u001b[36m(_tune_wrapper pid=13652)\u001b[0m 1 | mae       | MeanAbsoluteError | 0      | train | ?              | ?             \n",
      "\u001b[36m(_tune_wrapper pid=13652)\u001b[0m 2 | mse       | MeanSquaredError  | 0      | train | ?              | ?             \n",
      "\u001b[36m(_tune_wrapper pid=13652)\u001b[0m 3 | rmse      | MeanSquaredError  | 0      | train | ?              | ?             \n",
      "\u001b[36m(_tune_wrapper pid=13652)\u001b[0m 4 | l_stack   | ConvStack         | 209 K  | train | [1, 3, 64, 64] | [1, 192, 1, 1]\n",
      "\u001b[36m(_tune_wrapper pid=13652)\u001b[0m 5 | r_stack   | ConvStack         | 209 K  | train | [1, 3, 64, 64] | [1, 192, 1, 1]\n",
      "\u001b[36m(_tune_wrapper pid=13652)\u001b[0m 6 | regressor | Sequential        | 198 K  | train | [1, 384]       | [1, 2]        \n",
      "\u001b[36m(_tune_wrapper pid=13652)\u001b[0m ------------------------------------------------------------------------------------------\n",
      "\u001b[36m(_tune_wrapper pid=13652)\u001b[0m 616 K     Trainable params\n",
      "\u001b[36m(_tune_wrapper pid=13652)\u001b[0m 0         Non-trainable params\n",
      "\u001b[36m(_tune_wrapper pid=13652)\u001b[0m 616 K     Total params\n",
      "\u001b[36m(_tune_wrapper pid=13652)\u001b[0m 2.467     Total estimated model params size (MB)\n",
      "\u001b[36m(_tune_wrapper pid=13652)\u001b[0m 43        Modules in train mode\n",
      "\u001b[36m(_tune_wrapper pid=13652)\u001b[0m 0         Modules in eval mode\n",
      "\u001b[36m(_tune_wrapper pid=13652)\u001b[0m Checkpoint successfully created at: Checkpoint(filesystem=local, path=c:/Users/Youssef/Desktop/TFG/eye-tracker-vocacions/src/logs/eyes/tune_20250513-201407/13f5f_00013/checkpoint_000000)\n",
      "\u001b[36m(_tune_wrapper pid=13652)\u001b[0m Checkpoint successfully created at: Checkpoint(filesystem=local, path=c:/Users/Youssef/Desktop/TFG/eye-tracker-vocacions/src/logs/eyes/tune_20250513-201407/13f5f_00013/checkpoint_000001)\n",
      "\u001b[36m(_tune_wrapper pid=13652)\u001b[0m Checkpoint successfully created at: Checkpoint(filesystem=local, path=c:/Users/Youssef/Desktop/TFG/eye-tracker-vocacions/src/logs/eyes/tune_20250513-201407/13f5f_00013/checkpoint_000002)\n",
      "\u001b[36m(_tune_wrapper pid=13652)\u001b[0m Checkpoint successfully created at: Checkpoint(filesystem=local, path=c:/Users/Youssef/Desktop/TFG/eye-tracker-vocacions/src/logs/eyes/tune_20250513-201407/13f5f_00013/checkpoint_000003)\n",
      "\u001b[36m(_tune_wrapper pid=13652)\u001b[0m Checkpoint successfully created at: Checkpoint(filesystem=local, path=c:/Users/Youssef/Desktop/TFG/eye-tracker-vocacions/src/logs/eyes/tune_20250513-201407/13f5f_00013/checkpoint_000004)\n",
      "\u001b[36m(_tune_wrapper pid=13652)\u001b[0m Checkpoint successfully created at: Checkpoint(filesystem=local, path=c:/Users/Youssef/Desktop/TFG/eye-tracker-vocacions/src/logs/eyes/tune_20250513-201407/13f5f_00013/checkpoint_000005)\n",
      "\u001b[36m(_tune_wrapper pid=13652)\u001b[0m Checkpoint successfully created at: Checkpoint(filesystem=local, path=c:/Users/Youssef/Desktop/TFG/eye-tracker-vocacions/src/logs/eyes/tune_20250513-201407/13f5f_00013/checkpoint_000006)\n",
      "\u001b[36m(_tune_wrapper pid=13652)\u001b[0m Checkpoint successfully created at: Checkpoint(filesystem=local, path=c:/Users/Youssef/Desktop/TFG/eye-tracker-vocacions/src/logs/eyes/tune_20250513-201407/13f5f_00013/checkpoint_000007)\n",
      "\u001b[36m(_tune_wrapper pid=13652)\u001b[0m Checkpoint successfully created at: Checkpoint(filesystem=local, path=c:/Users/Youssef/Desktop/TFG/eye-tracker-vocacions/src/logs/eyes/tune_20250513-201407/13f5f_00013/checkpoint_000008)\n",
      "\u001b[36m(_tune_wrapper pid=13652)\u001b[0m Checkpoint successfully created at: Checkpoint(filesystem=local, path=c:/Users/Youssef/Desktop/TFG/eye-tracker-vocacions/src/logs/eyes/tune_20250513-201407/13f5f_00013/checkpoint_000009)\n",
      "\u001b[36m(_tune_wrapper pid=13652)\u001b[0m Checkpoint successfully created at: Checkpoint(filesystem=local, path=c:/Users/Youssef/Desktop/TFG/eye-tracker-vocacions/src/logs/eyes/tune_20250513-201407/13f5f_00013/checkpoint_000010)\n",
      "\u001b[36m(_tune_wrapper pid=13652)\u001b[0m Checkpoint successfully created at: Checkpoint(filesystem=local, path=c:/Users/Youssef/Desktop/TFG/eye-tracker-vocacions/src/logs/eyes/tune_20250513-201407/13f5f_00013/checkpoint_000011)\n",
      "\u001b[36m(_tune_wrapper pid=13652)\u001b[0m Checkpoint successfully created at: Checkpoint(filesystem=local, path=c:/Users/Youssef/Desktop/TFG/eye-tracker-vocacions/src/logs/eyes/tune_20250513-201407/13f5f_00013/checkpoint_000012)\n",
      "\u001b[36m(_tune_wrapper pid=13652)\u001b[0m Checkpoint successfully created at: Checkpoint(filesystem=local, path=c:/Users/Youssef/Desktop/TFG/eye-tracker-vocacions/src/logs/eyes/tune_20250513-201407/13f5f_00013/checkpoint_000013)\n",
      "2025-05-13 22:04:22,062\tINFO tensorboardx.py:308 -- Removed the following hyperparameter values when logging to tensorboard: {'channels': (48, 96, 192)}\n",
      "\u001b[36m(_tune_wrapper pid=13652)\u001b[0m Checkpoint successfully created at: Checkpoint(filesystem=local, path=c:/Users/Youssef/Desktop/TFG/eye-tracker-vocacions/src/logs/eyes/tune_20250513-201407/13f5f_00013/checkpoint_000014)\n",
      "\u001b[36m(_tune_wrapper pid=4480)\u001b[0m Seed set to 3256\n",
      "\u001b[36m(_tune_wrapper pid=4480)\u001b[0m Using bfloat16 Automatic Mixed Precision (AMP)\n",
      "\u001b[36m(_tune_wrapper pid=4480)\u001b[0m GPU available: True (cuda), used: True\n",
      "\u001b[36m(_tune_wrapper pid=4480)\u001b[0m TPU available: False, using: 0 TPU cores\n",
      "\u001b[36m(_tune_wrapper pid=4480)\u001b[0m HPU available: False, using: 0 HPUs\n",
      "\u001b[36m(_tune_wrapper pid=4480)\u001b[0m LOCAL_RANK: 0 - CUDA_VISIBLE_DEVICES: [0]\n",
      "\u001b[36m(_tune_wrapper pid=4480)\u001b[0m \n",
      "\u001b[36m(_tune_wrapper pid=4480)\u001b[0m   | Name      | Type              | Params | Mode  | In sizes       | Out sizes     \n",
      "\u001b[36m(_tune_wrapper pid=4480)\u001b[0m ------------------------------------------------------------------------------------------\n",
      "\u001b[36m(_tune_wrapper pid=4480)\u001b[0m 0 | criterion | SmoothL1Loss      | 0      | train | ?              | ?             \n",
      "\u001b[36m(_tune_wrapper pid=4480)\u001b[0m 1 | mae       | MeanAbsoluteError | 0      | train | ?              | ?             \n",
      "\u001b[36m(_tune_wrapper pid=4480)\u001b[0m 2 | mse       | MeanSquaredError  | 0      | train | ?              | ?             \n",
      "\u001b[36m(_tune_wrapper pid=4480)\u001b[0m 3 | rmse      | MeanSquaredError  | 0      | train | ?              | ?             \n",
      "\u001b[36m(_tune_wrapper pid=4480)\u001b[0m 4 | l_stack   | ConvStack         | 209 K  | train | [1, 3, 64, 64] | [1, 192, 1, 1]\n",
      "\u001b[36m(_tune_wrapper pid=4480)\u001b[0m 5 | r_stack   | ConvStack         | 209 K  | train | [1, 3, 64, 64] | [1, 192, 1, 1]\n",
      "\u001b[36m(_tune_wrapper pid=4480)\u001b[0m 6 | regressor | Sequential        | 198 K  | train | [1, 384]       | [1, 2]        \n",
      "\u001b[36m(_tune_wrapper pid=4480)\u001b[0m ------------------------------------------------------------------------------------------\n",
      "\u001b[36m(_tune_wrapper pid=4480)\u001b[0m 616 K     Trainable params\n",
      "\u001b[36m(_tune_wrapper pid=4480)\u001b[0m 0         Non-trainable params\n",
      "\u001b[36m(_tune_wrapper pid=4480)\u001b[0m 616 K     Total params\n",
      "\u001b[36m(_tune_wrapper pid=4480)\u001b[0m 2.467     Total estimated model params size (MB)\n",
      "\u001b[36m(_tune_wrapper pid=4480)\u001b[0m 43        Modules in train mode\n",
      "\u001b[36m(_tune_wrapper pid=4480)\u001b[0m 0         Modules in eval mode\n",
      "\u001b[36m(_tune_wrapper pid=4480)\u001b[0m Checkpoint successfully created at: Checkpoint(filesystem=local, path=c:/Users/Youssef/Desktop/TFG/eye-tracker-vocacions/src/logs/eyes/tune_20250513-201407/13f5f_00014/checkpoint_000000)\n",
      "\u001b[36m(_tune_wrapper pid=4480)\u001b[0m Checkpoint successfully created at: Checkpoint(filesystem=local, path=c:/Users/Youssef/Desktop/TFG/eye-tracker-vocacions/src/logs/eyes/tune_20250513-201407/13f5f_00014/checkpoint_000001)\n",
      "\u001b[36m(_tune_wrapper pid=4480)\u001b[0m Checkpoint successfully created at: Checkpoint(filesystem=local, path=c:/Users/Youssef/Desktop/TFG/eye-tracker-vocacions/src/logs/eyes/tune_20250513-201407/13f5f_00014/checkpoint_000002)\n",
      "2025-05-13 22:09:21,614\tINFO tensorboardx.py:308 -- Removed the following hyperparameter values when logging to tensorboard: {'channels': (48, 96, 192)}\n",
      "\u001b[36m(_tune_wrapper pid=4480)\u001b[0m Checkpoint successfully created at: Checkpoint(filesystem=local, path=c:/Users/Youssef/Desktop/TFG/eye-tracker-vocacions/src/logs/eyes/tune_20250513-201407/13f5f_00014/checkpoint_000003)\n",
      "\u001b[36m(_tune_wrapper pid=16044)\u001b[0m Seed set to 4409\n",
      "\u001b[36m(_tune_wrapper pid=16044)\u001b[0m Using bfloat16 Automatic Mixed Precision (AMP)\n",
      "\u001b[36m(_tune_wrapper pid=16044)\u001b[0m GPU available: True (cuda), used: True\n",
      "\u001b[36m(_tune_wrapper pid=16044)\u001b[0m TPU available: False, using: 0 TPU cores\n",
      "\u001b[36m(_tune_wrapper pid=16044)\u001b[0m HPU available: False, using: 0 HPUs\n",
      "\u001b[36m(_tune_wrapper pid=16044)\u001b[0m LOCAL_RANK: 0 - CUDA_VISIBLE_DEVICES: [0]\n",
      "\u001b[36m(_tune_wrapper pid=16044)\u001b[0m \n",
      "\u001b[36m(_tune_wrapper pid=16044)\u001b[0m   | Name      | Type              | Params | Mode  | In sizes       | Out sizes     \n",
      "\u001b[36m(_tune_wrapper pid=16044)\u001b[0m ------------------------------------------------------------------------------------------\n",
      "\u001b[36m(_tune_wrapper pid=16044)\u001b[0m 0 | criterion | SmoothL1Loss      | 0      | train | ?              | ?             \n",
      "\u001b[36m(_tune_wrapper pid=16044)\u001b[0m 1 | mae       | MeanAbsoluteError | 0      | train | ?              | ?             \n",
      "\u001b[36m(_tune_wrapper pid=16044)\u001b[0m 2 | mse       | MeanSquaredError  | 0      | train | ?              | ?             \n",
      "\u001b[36m(_tune_wrapper pid=16044)\u001b[0m 3 | rmse      | MeanSquaredError  | 0      | train | ?              | ?             \n",
      "\u001b[36m(_tune_wrapper pid=16044)\u001b[0m 4 | l_stack   | ConvStack         | 371 K  | train | [1, 3, 64, 64] | [1, 256, 1, 1]\n",
      "\u001b[36m(_tune_wrapper pid=16044)\u001b[0m 5 | r_stack   | ConvStack         | 371 K  | train | [1, 3, 64, 64] | [1, 256, 1, 1]\n",
      "\u001b[36m(_tune_wrapper pid=16044)\u001b[0m 6 | regressor | Sequential        | 131 K  | train | [1, 512]       | [1, 2]        \n",
      "\u001b[36m(_tune_wrapper pid=16044)\u001b[0m ------------------------------------------------------------------------------------------\n",
      "\u001b[36m(_tune_wrapper pid=16044)\u001b[0m 874 K     Trainable params\n",
      "\u001b[36m(_tune_wrapper pid=16044)\u001b[0m 0         Non-trainable params\n",
      "\u001b[36m(_tune_wrapper pid=16044)\u001b[0m 874 K     Total params\n",
      "\u001b[36m(_tune_wrapper pid=16044)\u001b[0m 3.497     Total estimated model params size (MB)\n",
      "\u001b[36m(_tune_wrapper pid=16044)\u001b[0m 43        Modules in train mode\n",
      "\u001b[36m(_tune_wrapper pid=16044)\u001b[0m 0         Modules in eval mode\n",
      "\u001b[36m(_tune_wrapper pid=16044)\u001b[0m Checkpoint successfully created at: Checkpoint(filesystem=local, path=c:/Users/Youssef/Desktop/TFG/eye-tracker-vocacions/src/logs/eyes/tune_20250513-201407/13f5f_00015/checkpoint_000000)\n",
      "2025-05-13 22:13:09,153\tINFO tensorboardx.py:308 -- Removed the following hyperparameter values when logging to tensorboard: {'channels': (64, 128, 256)}\n",
      "\u001b[36m(_tune_wrapper pid=16044)\u001b[0m Checkpoint successfully created at: Checkpoint(filesystem=local, path=c:/Users/Youssef/Desktop/TFG/eye-tracker-vocacions/src/logs/eyes/tune_20250513-201407/13f5f_00015/checkpoint_000001)\n",
      "\u001b[36m(_tune_wrapper pid=13660)\u001b[0m Seed set to 2854\n",
      "\u001b[36m(_tune_wrapper pid=13660)\u001b[0m Using bfloat16 Automatic Mixed Precision (AMP)\n",
      "\u001b[36m(_tune_wrapper pid=13660)\u001b[0m GPU available: True (cuda), used: True\n",
      "\u001b[36m(_tune_wrapper pid=13660)\u001b[0m TPU available: False, using: 0 TPU cores\n",
      "\u001b[36m(_tune_wrapper pid=13660)\u001b[0m HPU available: False, using: 0 HPUs\n",
      "\u001b[36m(_tune_wrapper pid=13660)\u001b[0m LOCAL_RANK: 0 - CUDA_VISIBLE_DEVICES: [0]\n",
      "\u001b[36m(_tune_wrapper pid=13660)\u001b[0m \n",
      "\u001b[36m(_tune_wrapper pid=13660)\u001b[0m   | Name      | Type              | Params | Mode  | In sizes       | Out sizes     \n",
      "\u001b[36m(_tune_wrapper pid=13660)\u001b[0m ------------------------------------------------------------------------------------------\n",
      "\u001b[36m(_tune_wrapper pid=13660)\u001b[0m 0 | criterion | SmoothL1Loss      | 0      | train | ?              | ?             \n",
      "\u001b[36m(_tune_wrapper pid=13660)\u001b[0m 1 | mae       | MeanAbsoluteError | 0      | train | ?              | ?             \n",
      "\u001b[36m(_tune_wrapper pid=13660)\u001b[0m 2 | mse       | MeanSquaredError  | 0      | train | ?              | ?             \n",
      "\u001b[36m(_tune_wrapper pid=13660)\u001b[0m 3 | rmse      | MeanSquaredError  | 0      | train | ?              | ?             \n",
      "\u001b[36m(_tune_wrapper pid=13660)\u001b[0m 4 | l_stack   | ConvStack         | 209 K  | train | [1, 3, 64, 64] | [1, 192, 1, 1]\n",
      "\u001b[36m(_tune_wrapper pid=13660)\u001b[0m 5 | r_stack   | ConvStack         | 209 K  | train | [1, 3, 64, 64] | [1, 192, 1, 1]\n",
      "\u001b[36m(_tune_wrapper pid=13660)\u001b[0m 6 | regressor | Sequential        | 198 K  | train | [1, 384]       | [1, 2]        \n",
      "\u001b[36m(_tune_wrapper pid=13660)\u001b[0m ------------------------------------------------------------------------------------------\n",
      "\u001b[36m(_tune_wrapper pid=13660)\u001b[0m 616 K     Trainable params\n",
      "\u001b[36m(_tune_wrapper pid=13660)\u001b[0m 0         Non-trainable params\n",
      "\u001b[36m(_tune_wrapper pid=13660)\u001b[0m 616 K     Total params\n",
      "\u001b[36m(_tune_wrapper pid=13660)\u001b[0m 2.467     Total estimated model params size (MB)\n",
      "\u001b[36m(_tune_wrapper pid=13660)\u001b[0m 43        Modules in train mode\n",
      "\u001b[36m(_tune_wrapper pid=13660)\u001b[0m 0         Modules in eval mode\n",
      "2025-05-13 22:15:47,065\tINFO tensorboardx.py:308 -- Removed the following hyperparameter values when logging to tensorboard: {'channels': (48, 96, 192)}\n",
      "\u001b[36m(_tune_wrapper pid=13660)\u001b[0m Checkpoint successfully created at: Checkpoint(filesystem=local, path=c:/Users/Youssef/Desktop/TFG/eye-tracker-vocacions/src/logs/eyes/tune_20250513-201407/13f5f_00016/checkpoint_000000)\n",
      "\u001b[36m(_tune_wrapper pid=4252)\u001b[0m Seed set to 9746\n",
      "\u001b[36m(_tune_wrapper pid=4252)\u001b[0m Using bfloat16 Automatic Mixed Precision (AMP)\n",
      "\u001b[36m(_tune_wrapper pid=4252)\u001b[0m GPU available: True (cuda), used: True\n",
      "\u001b[36m(_tune_wrapper pid=4252)\u001b[0m TPU available: False, using: 0 TPU cores\n",
      "\u001b[36m(_tune_wrapper pid=4252)\u001b[0m HPU available: False, using: 0 HPUs\n",
      "\u001b[36m(_tune_wrapper pid=4252)\u001b[0m LOCAL_RANK: 0 - CUDA_VISIBLE_DEVICES: [0]\n",
      "\u001b[36m(_tune_wrapper pid=4252)\u001b[0m \n",
      "\u001b[36m(_tune_wrapper pid=4252)\u001b[0m   | Name      | Type              | Params | Mode  | In sizes       | Out sizes     \n",
      "\u001b[36m(_tune_wrapper pid=4252)\u001b[0m ------------------------------------------------------------------------------------------\n",
      "\u001b[36m(_tune_wrapper pid=4252)\u001b[0m 0 | criterion | SmoothL1Loss      | 0      | train | ?              | ?             \n",
      "\u001b[36m(_tune_wrapper pid=4252)\u001b[0m 1 | mae       | MeanAbsoluteError | 0      | train | ?              | ?             \n",
      "\u001b[36m(_tune_wrapper pid=4252)\u001b[0m 2 | mse       | MeanSquaredError  | 0      | train | ?              | ?             \n",
      "\u001b[36m(_tune_wrapper pid=4252)\u001b[0m 3 | rmse      | MeanSquaredError  | 0      | train | ?              | ?             \n",
      "\u001b[36m(_tune_wrapper pid=4252)\u001b[0m 4 | l_stack   | ConvStack         | 371 K  | train | [1, 3, 64, 64] | [1, 256, 1, 1]\n",
      "\u001b[36m(_tune_wrapper pid=4252)\u001b[0m 5 | r_stack   | ConvStack         | 371 K  | train | [1, 3, 64, 64] | [1, 256, 1, 1]\n",
      "\u001b[36m(_tune_wrapper pid=4252)\u001b[0m 6 | regressor | Sequential        | 131 K  | train | [1, 512]       | [1, 2]        \n",
      "\u001b[36m(_tune_wrapper pid=4252)\u001b[0m ------------------------------------------------------------------------------------------\n",
      "\u001b[36m(_tune_wrapper pid=4252)\u001b[0m 874 K     Trainable params\n",
      "\u001b[36m(_tune_wrapper pid=4252)\u001b[0m 0         Non-trainable params\n",
      "\u001b[36m(_tune_wrapper pid=4252)\u001b[0m 874 K     Total params\n",
      "\u001b[36m(_tune_wrapper pid=4252)\u001b[0m 3.497     Total estimated model params size (MB)\n",
      "\u001b[36m(_tune_wrapper pid=4252)\u001b[0m 43        Modules in train mode\n",
      "\u001b[36m(_tune_wrapper pid=4252)\u001b[0m 0         Modules in eval mode\n",
      "2025-05-13 22:18:32,043\tINFO tensorboardx.py:308 -- Removed the following hyperparameter values when logging to tensorboard: {'channels': (64, 128, 256)}\n",
      "\u001b[36m(_tune_wrapper pid=4252)\u001b[0m Checkpoint successfully created at: Checkpoint(filesystem=local, path=c:/Users/Youssef/Desktop/TFG/eye-tracker-vocacions/src/logs/eyes/tune_20250513-201407/13f5f_00017/checkpoint_000000)\n",
      "\u001b[36m(_tune_wrapper pid=20920)\u001b[0m Seed set to 9406\n",
      "\u001b[36m(_tune_wrapper pid=20920)\u001b[0m Using bfloat16 Automatic Mixed Precision (AMP)\n",
      "\u001b[36m(_tune_wrapper pid=20920)\u001b[0m GPU available: True (cuda), used: True\n",
      "\u001b[36m(_tune_wrapper pid=20920)\u001b[0m TPU available: False, using: 0 TPU cores\n",
      "\u001b[36m(_tune_wrapper pid=20920)\u001b[0m HPU available: False, using: 0 HPUs\n",
      "\u001b[36m(_tune_wrapper pid=20920)\u001b[0m LOCAL_RANK: 0 - CUDA_VISIBLE_DEVICES: [0]\n",
      "\u001b[36m(_tune_wrapper pid=20920)\u001b[0m \n",
      "\u001b[36m(_tune_wrapper pid=20920)\u001b[0m   | Name      | Type              | Params | Mode  | In sizes       | Out sizes     \n",
      "\u001b[36m(_tune_wrapper pid=20920)\u001b[0m ------------------------------------------------------------------------------------------\n",
      "\u001b[36m(_tune_wrapper pid=20920)\u001b[0m 0 | criterion | SmoothL1Loss      | 0      | train | ?              | ?             \n",
      "\u001b[36m(_tune_wrapper pid=20920)\u001b[0m 1 | mae       | MeanAbsoluteError | 0      | train | ?              | ?             \n",
      "\u001b[36m(_tune_wrapper pid=20920)\u001b[0m 2 | mse       | MeanSquaredError  | 0      | train | ?              | ?             \n",
      "\u001b[36m(_tune_wrapper pid=20920)\u001b[0m 3 | rmse      | MeanSquaredError  | 0      | train | ?              | ?             \n",
      "\u001b[36m(_tune_wrapper pid=20920)\u001b[0m 4 | l_stack   | ConvStack         | 209 K  | train | [1, 3, 64, 64] | [1, 192, 1, 1]\n",
      "\u001b[36m(_tune_wrapper pid=20920)\u001b[0m 5 | r_stack   | ConvStack         | 209 K  | train | [1, 3, 64, 64] | [1, 192, 1, 1]\n",
      "\u001b[36m(_tune_wrapper pid=20920)\u001b[0m 6 | regressor | Sequential        | 49.5 K | train | [1, 384]       | [1, 2]        \n",
      "\u001b[36m(_tune_wrapper pid=20920)\u001b[0m ------------------------------------------------------------------------------------------\n",
      "\u001b[36m(_tune_wrapper pid=20920)\u001b[0m 468 K     Trainable params\n",
      "\u001b[36m(_tune_wrapper pid=20920)\u001b[0m 0         Non-trainable params\n",
      "\u001b[36m(_tune_wrapper pid=20920)\u001b[0m 468 K     Total params\n",
      "\u001b[36m(_tune_wrapper pid=20920)\u001b[0m 1.873     Total estimated model params size (MB)\n",
      "\u001b[36m(_tune_wrapper pid=20920)\u001b[0m 43        Modules in train mode\n",
      "\u001b[36m(_tune_wrapper pid=20920)\u001b[0m 0         Modules in eval mode\n",
      "2025-05-13 22:21:09,453\tINFO tensorboardx.py:308 -- Removed the following hyperparameter values when logging to tensorboard: {'channels': (48, 96, 192)}\n",
      "\u001b[36m(_tune_wrapper pid=20920)\u001b[0m Checkpoint successfully created at: Checkpoint(filesystem=local, path=c:/Users/Youssef/Desktop/TFG/eye-tracker-vocacions/src/logs/eyes/tune_20250513-201407/13f5f_00018/checkpoint_000000)\n",
      "\u001b[36m(_tune_wrapper pid=24428)\u001b[0m Seed set to 6946\n",
      "\u001b[36m(_tune_wrapper pid=24428)\u001b[0m Using bfloat16 Automatic Mixed Precision (AMP)\n",
      "\u001b[36m(_tune_wrapper pid=24428)\u001b[0m GPU available: True (cuda), used: True\n",
      "\u001b[36m(_tune_wrapper pid=24428)\u001b[0m TPU available: False, using: 0 TPU cores\n",
      "\u001b[36m(_tune_wrapper pid=24428)\u001b[0m HPU available: False, using: 0 HPUs\n",
      "\u001b[36m(_tune_wrapper pid=24428)\u001b[0m LOCAL_RANK: 0 - CUDA_VISIBLE_DEVICES: [0]\n",
      "\u001b[36m(_tune_wrapper pid=24428)\u001b[0m \n",
      "\u001b[36m(_tune_wrapper pid=24428)\u001b[0m   | Name      | Type              | Params | Mode  | In sizes       | Out sizes     \n",
      "\u001b[36m(_tune_wrapper pid=24428)\u001b[0m ------------------------------------------------------------------------------------------\n",
      "\u001b[36m(_tune_wrapper pid=24428)\u001b[0m 0 | criterion | SmoothL1Loss      | 0      | train | ?              | ?             \n",
      "\u001b[36m(_tune_wrapper pid=24428)\u001b[0m 1 | mae       | MeanAbsoluteError | 0      | train | ?              | ?             \n",
      "\u001b[36m(_tune_wrapper pid=24428)\u001b[0m 2 | mse       | MeanSquaredError  | 0      | train | ?              | ?             \n",
      "\u001b[36m(_tune_wrapper pid=24428)\u001b[0m 3 | rmse      | MeanSquaredError  | 0      | train | ?              | ?             \n",
      "\u001b[36m(_tune_wrapper pid=24428)\u001b[0m 4 | l_stack   | ConvStack         | 371 K  | train | [1, 3, 64, 64] | [1, 256, 1, 1]\n",
      "\u001b[36m(_tune_wrapper pid=24428)\u001b[0m 5 | r_stack   | ConvStack         | 371 K  | train | [1, 3, 64, 64] | [1, 256, 1, 1]\n",
      "\u001b[36m(_tune_wrapper pid=24428)\u001b[0m 6 | regressor | Sequential        | 263 K  | train | [1, 512]       | [1, 2]        \n",
      "\u001b[36m(_tune_wrapper pid=24428)\u001b[0m ------------------------------------------------------------------------------------------\n",
      "\u001b[36m(_tune_wrapper pid=24428)\u001b[0m 1.0 M     Trainable params\n",
      "\u001b[36m(_tune_wrapper pid=24428)\u001b[0m 0         Non-trainable params\n",
      "\u001b[36m(_tune_wrapper pid=24428)\u001b[0m 1.0 M     Total params\n",
      "\u001b[36m(_tune_wrapper pid=24428)\u001b[0m 4.025     Total estimated model params size (MB)\n",
      "\u001b[36m(_tune_wrapper pid=24428)\u001b[0m 43        Modules in train mode\n",
      "\u001b[36m(_tune_wrapper pid=24428)\u001b[0m 0         Modules in eval mode\n",
      "\u001b[36m(_tune_wrapper pid=24428)\u001b[0m Checkpoint successfully created at: Checkpoint(filesystem=local, path=c:/Users/Youssef/Desktop/TFG/eye-tracker-vocacions/src/logs/eyes/tune_20250513-201407/13f5f_00019/checkpoint_000000)\n",
      "2025-05-13 22:24:58,312\tINFO tensorboardx.py:308 -- Removed the following hyperparameter values when logging to tensorboard: {'channels': (64, 128, 256)}\n",
      "\u001b[36m(_tune_wrapper pid=24428)\u001b[0m Checkpoint successfully created at: Checkpoint(filesystem=local, path=c:/Users/Youssef/Desktop/TFG/eye-tracker-vocacions/src/logs/eyes/tune_20250513-201407/13f5f_00019/checkpoint_000001)\n",
      "2025-05-13 22:24:58,354\tINFO tune.py:1009 -- Wrote the latest version of all result files and experiment state to 'c:/Users/Youssef/Desktop/TFG/eye-tracker-vocacions/src/logs/eyes/tune_20250513-201407' in 0.0417s.\n",
      "2025-05-13 22:24:58,380\tINFO tune.py:1041 -- Total run time: 7843.37 seconds (7843.24 seconds for the tuning loop).\n"
     ]
    },
    {
     "name": "stdout",
     "output_type": "stream",
     "text": [
      "Best hyperparameters:  {'seed': 7131, 'bs': 256, 'lr': 0.001325325433761898, 'channels': (64, 128, 256), 'hidden': 512}\n"
     ]
    }
   ],
   "source": [
    "search_space = {\n",
    "    \"seed\":  tune.randint(0, 10000),\n",
    "    \"bs\":    tune.choice([128, 256, 512]),\n",
    "    \"lr\":    tune.loguniform(1e-4, 3e-3),\n",
    "    \"channels\": tune.choice([(32, 64, 128), (48, 96, 192), (64, 128, 256)]),\n",
    "    \"hidden\":   tune.choice([128, 256, 512]),\n",
    "}\n",
    "\n",
    "analysis = tune_asha(\n",
    "    search_space   = search_space,\n",
    "    train_func     = \"eyes\",\n",
    "    name           = \"eyes/tune\",\n",
    "    img_types      = [\"l_eye\", \"r_eye\"],\n",
    "    num_samples    = 20,\n",
    "    num_epochs     = 15,\n",
    "    data_dir     = Path.cwd() / \"data\",\n",
    "    seed           = 87,\n",
    ")"
   ]
  },
  {
   "cell_type": "code",
   "execution_count": 4,
   "metadata": {},
   "outputs": [
    {
     "data": {
      "image/png": "[encoded data removed]",
      "text/plain": [
       "<Figure size 840x350 with 4 Axes>"
      ]
     },
     "metadata": {},
     "output_type": "display_data"
    },
    {
     "data": {
      "text/plain": [
       "WindowsPath('media/images/1_eyes_explore_scatter.png')"
      ]
     },
     "execution_count": 4,
     "metadata": {},
     "output_type": "execute_result"
    }
   ],
   "source": [
    "plot_asha_param_grid(analysis, save_path=\"media/images/1_eyes_explore_scatter.png\")"
   ]
  },
  {
   "cell_type": "code",
   "execution_count": 5,
   "metadata": {},
   "outputs": [
    {
     "data": {
      "image/png": "[encoded data removed]",
      "text/plain": [
       "<Figure size 1040x300 with 2 Axes>"
      ]
     },
     "metadata": {},
     "output_type": "display_data"
    },
    {
     "data": {
      "text/plain": [
       "WindowsPath('media/images/1_eyes_explore_parallel.png')"
      ]
     },
     "execution_count": 5,
     "metadata": {},
     "output_type": "execute_result"
    }
   ],
   "source": [
    "plot_parallel_param_loss(analysis, save_path=\"media/images/1_eyes_explore_parallel.png\")"
   ]
  },
  {
   "cell_type": "markdown",
   "metadata": {},
   "source": [
    "### Training"
   ]
  },
  {
   "cell_type": "code",
   "execution_count": null,
   "metadata": {},
   "outputs": [
    {
     "name": "stderr",
     "output_type": "stream",
     "text": [
      "Seed set to 7131\n",
      "Using bfloat16 Automatic Mixed Precision (AMP)\n",
      "GPU available: True (cuda), used: True\n",
      "TPU available: False, using: 0 TPU cores\n",
      "HPU available: False, using: 0 HPUs\n"
     ]
    },
    {
     "name": "stdout",
     "output_type": "stream",
     "text": [
      "\n",
      "--- Best of 'c:\\Users\\Youssef\\Desktop\\TFG\\eye-tracker-vocacions\\src\\logs\\eyes\\tune_20250513-201407' ---\n",
      "\n",
      "Directory: 13f5f_00002\n",
      "Loss: 83.11\n",
      "Pixel error: 9.12\n",
      "Hyperparameters...\n",
      "- seed: 7131\n",
      "- bs: 256\n",
      "- lr: 0.001325325433761898\n",
      "- channels: [64, 128, 256]\n",
      "- hidden: 512\n"
     ]
    },
    {
     "name": "stderr",
     "output_type": "stream",
     "text": [
      "LOCAL_RANK: 0 - CUDA_VISIBLE_DEVICES: [0]\n",
      "\n",
      "  | Name      | Type              | Params | Mode  | In sizes       | Out sizes     \n",
      "------------------------------------------------------------------------------------------\n",
      "0 | criterion | SmoothL1Loss      | 0      | train | ?              | ?             \n",
      "1 | mae       | MeanAbsoluteError | 0      | train | ?              | ?             \n",
      "2 | mse       | MeanSquaredError  | 0      | train | ?              | ?             \n",
      "3 | rmse      | MeanSquaredError  | 0      | train | ?              | ?             \n",
      "4 | l_stack   | ConvStack         | 371 K  | train | [1, 3, 64, 64] | [1, 256, 1, 1]\n",
      "5 | r_stack   | ConvStack         | 371 K  | train | [1, 3, 64, 64] | [1, 256, 1, 1]\n",
      "6 | regressor | Sequential        | 263 K  | train | [1, 512]       | [1, 2]        \n",
      "------------------------------------------------------------------------------------------\n",
      "1.0 M     Trainable params\n",
      "0         Non-trainable params\n",
      "1.0 M     Total params\n",
      "4.025     Total estimated model params size (MB)\n",
      "43        Modules in train mode\n",
      "0         Modules in eval mode\n",
      "c:\\Users\\Youssef\\Desktop\\TFG\\eye-tracker-vocacions\\.venv\\Lib\\site-packages\\pytorch_lightning\\loggers\\tensorboard.py:200: Could not log computational graph to TensorBoard: The `input_array` or `model.example_input_array` has type <class 'list'> which can't be traced by TensorBoard. Make the input array a tuple representing the positional arguments to the model's `forward()` implementation.\n"
     ]
    },
    {
     "data": {
      "application/vnd.jupyter.widget-view+json": {
       "model_id": "cb0cd08f4d994bf482b28b79b5833473",
       "version_major": 2,
       "version_minor": 0
      },
      "text/plain": [
       "Sanity Checking: |          | 0/? [00:00<?, ?it/s]"
      ]
     },
     "metadata": {},
     "output_type": "display_data"
    },
    {
     "data": {
      "application/vnd.jupyter.widget-view+json": {
       "model_id": "e3febc82a4484bc79ebc69efdae3a7a9",
       "version_major": 2,
       "version_minor": 0
      },
      "text/plain": [
       "Training: |          | 0/? [00:00<?, ?it/s]"
      ]
     },
     "metadata": {},
     "output_type": "display_data"
    },
    {
     "data": {
      "application/vnd.jupyter.widget-view+json": {
       "model_id": "73faf2457f2a455b9948752818bfb6bd",
       "version_major": 2,
       "version_minor": 0
      },
      "text/plain": [
       "Validation: |          | 0/? [00:00<?, ?it/s]"
      ]
     },
     "metadata": {},
     "output_type": "display_data"
    },
    {
     "data": {
      "application/vnd.jupyter.widget-view+json": {
       "model_id": "46a25e5ae5e343cdb4bb3387ede7a24e",
       "version_major": 2,
       "version_minor": 0
      },
      "text/plain": [
       "Validation: |          | 0/? [00:00<?, ?it/s]"
      ]
     },
     "metadata": {},
     "output_type": "display_data"
    },
    {
     "data": {
      "application/vnd.jupyter.widget-view+json": {
       "model_id": "543dc7e62b85410ea90aea87a68c6657",
       "version_major": 2,
       "version_minor": 0
      },
      "text/plain": [
       "Validation: |          | 0/? [00:00<?, ?it/s]"
      ]
     },
     "metadata": {},
     "output_type": "display_data"
    },
    {
     "data": {
      "application/vnd.jupyter.widget-view+json": {
       "model_id": "e5fe6ba2583a40f1bdd3e309d45c2e21",
       "version_major": 2,
       "version_minor": 0
      },
      "text/plain": [
       "Validation: |          | 0/? [00:00<?, ?it/s]"
      ]
     },
     "metadata": {},
     "output_type": "display_data"
    },
    {
     "data": {
      "application/vnd.jupyter.widget-view+json": {
       "model_id": "94d49086d4fb4dc0a863e73f32ae790e",
       "version_major": 2,
       "version_minor": 0
      },
      "text/plain": [
       "Validation: |          | 0/? [00:00<?, ?it/s]"
      ]
     },
     "metadata": {},
     "output_type": "display_data"
    },
    {
     "data": {
      "application/vnd.jupyter.widget-view+json": {
       "model_id": "5d3fb8435576483f894f2f439afd476f",
       "version_major": 2,
       "version_minor": 0
      },
      "text/plain": [
       "Validation: |          | 0/? [00:00<?, ?it/s]"
      ]
     },
     "metadata": {},
     "output_type": "display_data"
    },
    {
     "data": {
      "application/vnd.jupyter.widget-view+json": {
       "model_id": "43c828e9b1c94ee4a9b47c549134f0cf",
       "version_major": 2,
       "version_minor": 0
      },
      "text/plain": [
       "Validation: |          | 0/? [00:00<?, ?it/s]"
      ]
     },
     "metadata": {},
     "output_type": "display_data"
    },
    {
     "data": {
      "application/vnd.jupyter.widget-view+json": {
       "model_id": "03b3c0c8048f4ebb97d255615f65d926",
       "version_major": 2,
       "version_minor": 0
      },
      "text/plain": [
       "Validation: |          | 0/? [00:00<?, ?it/s]"
      ]
     },
     "metadata": {},
     "output_type": "display_data"
    },
    {
     "data": {
      "application/vnd.jupyter.widget-view+json": {
       "model_id": "2ea427d76598492abecadd8b21dd113a",
       "version_major": 2,
       "version_minor": 0
      },
      "text/plain": [
       "Validation: |          | 0/? [00:00<?, ?it/s]"
      ]
     },
     "metadata": {},
     "output_type": "display_data"
    },
    {
     "data": {
      "application/vnd.jupyter.widget-view+json": {
       "model_id": "3846f830170f44cb9ac561959849b7d1",
       "version_major": 2,
       "version_minor": 0
      },
      "text/plain": [
       "Validation: |          | 0/? [00:00<?, ?it/s]"
      ]
     },
     "metadata": {},
     "output_type": "display_data"
    },
    {
     "data": {
      "application/vnd.jupyter.widget-view+json": {
       "model_id": "b237897668dc4d0987dceba901ec62d8",
       "version_major": 2,
       "version_minor": 0
      },
      "text/plain": [
       "Validation: |          | 0/? [00:00<?, ?it/s]"
      ]
     },
     "metadata": {},
     "output_type": "display_data"
    },
    {
     "data": {
      "application/vnd.jupyter.widget-view+json": {
       "model_id": "8d6b68032ef042b6ab1d62269dd4d075",
       "version_major": 2,
       "version_minor": 0
      },
      "text/plain": [
       "Validation: |          | 0/? [00:00<?, ?it/s]"
      ]
     },
     "metadata": {},
     "output_type": "display_data"
    },
    {
     "data": {
      "application/vnd.jupyter.widget-view+json": {
       "model_id": "efa3543325944e41b22296f2a1cba7e5",
       "version_major": 2,
       "version_minor": 0
      },
      "text/plain": [
       "Validation: |          | 0/? [00:00<?, ?it/s]"
      ]
     },
     "metadata": {},
     "output_type": "display_data"
    },
    {
     "data": {
      "application/vnd.jupyter.widget-view+json": {
       "model_id": "68ad187b051e43c9a819f2238099e6bb",
       "version_major": 2,
       "version_minor": 0
      },
      "text/plain": [
       "Validation: |          | 0/? [00:00<?, ?it/s]"
      ]
     },
     "metadata": {},
     "output_type": "display_data"
    },
    {
     "data": {
      "application/vnd.jupyter.widget-view+json": {
       "model_id": "760b0cf2240f429c974bbfe1a31bad3e",
       "version_major": 2,
       "version_minor": 0
      },
      "text/plain": [
       "Validation: |          | 0/? [00:00<?, ?it/s]"
      ]
     },
     "metadata": {},
     "output_type": "display_data"
    },
    {
     "data": {
      "application/vnd.jupyter.widget-view+json": {
       "model_id": "362ebf4b889343e7b2b7db1faf3cbcc8",
       "version_major": 2,
       "version_minor": 0
      },
      "text/plain": [
       "Validation: |          | 0/? [00:00<?, ?it/s]"
      ]
     },
     "metadata": {},
     "output_type": "display_data"
    },
    {
     "data": {
      "application/vnd.jupyter.widget-view+json": {
       "model_id": "2b789dcc9d4a407b99fbcc4deca2bcef",
       "version_major": 2,
       "version_minor": 0
      },
      "text/plain": [
       "Validation: |          | 0/? [00:00<?, ?it/s]"
      ]
     },
     "metadata": {},
     "output_type": "display_data"
    },
    {
     "data": {
      "application/vnd.jupyter.widget-view+json": {
       "model_id": "6b80c31df6b145ecb57693c2716f3a1c",
       "version_major": 2,
       "version_minor": 0
      },
      "text/plain": [
       "Validation: |          | 0/? [00:00<?, ?it/s]"
      ]
     },
     "metadata": {},
     "output_type": "display_data"
    },
    {
     "data": {
      "application/vnd.jupyter.widget-view+json": {
       "model_id": "493f17ccbd074998b5b4741dcac28d15",
       "version_major": 2,
       "version_minor": 0
      },
      "text/plain": [
       "Validation: |          | 0/? [00:00<?, ?it/s]"
      ]
     },
     "metadata": {},
     "output_type": "display_data"
    },
    {
     "data": {
      "application/vnd.jupyter.widget-view+json": {
       "model_id": "b3d71ba83c3f4bfe9292b1933100e5d1",
       "version_major": 2,
       "version_minor": 0
      },
      "text/plain": [
       "Validation: |          | 0/? [00:00<?, ?it/s]"
      ]
     },
     "metadata": {},
     "output_type": "display_data"
    },
    {
     "data": {
      "application/vnd.jupyter.widget-view+json": {
       "model_id": "ced07392546c4e2f8bf994285ce1e371",
       "version_major": 2,
       "version_minor": 0
      },
      "text/plain": [
       "Validation: |          | 0/? [00:00<?, ?it/s]"
      ]
     },
     "metadata": {},
     "output_type": "display_data"
    },
    {
     "data": {
      "application/vnd.jupyter.widget-view+json": {
       "model_id": "d1496bf8f2a5492090db7ceca1ea18fd",
       "version_major": 2,
       "version_minor": 0
      },
      "text/plain": [
       "Validation: |          | 0/? [00:00<?, ?it/s]"
      ]
     },
     "metadata": {},
     "output_type": "display_data"
    },
    {
     "data": {
      "application/vnd.jupyter.widget-view+json": {
       "model_id": "59b671bbb3884684b2c2d0d0533d5992",
       "version_major": 2,
       "version_minor": 0
      },
      "text/plain": [
       "Validation: |          | 0/? [00:00<?, ?it/s]"
      ]
     },
     "metadata": {},
     "output_type": "display_data"
    },
    {
     "data": {
      "application/vnd.jupyter.widget-view+json": {
       "model_id": "59726cecbda74b8b9bcbd8ad32317170",
       "version_major": 2,
       "version_minor": 0
      },
      "text/plain": [
       "Validation: |          | 0/? [00:00<?, ?it/s]"
      ]
     },
     "metadata": {},
     "output_type": "display_data"
    },
    {
     "data": {
      "application/vnd.jupyter.widget-view+json": {
       "model_id": "4efddb14286449aebb8d03ebd1f6154a",
       "version_major": 2,
       "version_minor": 0
      },
      "text/plain": [
       "Validation: |          | 0/? [00:00<?, ?it/s]"
      ]
     },
     "metadata": {},
     "output_type": "display_data"
    },
    {
     "data": {
      "application/vnd.jupyter.widget-view+json": {
       "model_id": "a89e18869008454f9a716f4fa8951eb2",
       "version_major": 2,
       "version_minor": 0
      },
      "text/plain": [
       "Validation: |          | 0/? [00:00<?, ?it/s]"
      ]
     },
     "metadata": {},
     "output_type": "display_data"
    },
    {
     "data": {
      "application/vnd.jupyter.widget-view+json": {
       "model_id": "f1a4cb4f0b444497b28885a44e4bb66f",
       "version_major": 2,
       "version_minor": 0
      },
      "text/plain": [
       "Validation: |          | 0/? [00:00<?, ?it/s]"
      ]
     },
     "metadata": {},
     "output_type": "display_data"
    },
    {
     "data": {
      "application/vnd.jupyter.widget-view+json": {
       "model_id": "63c063841697426f959f8d2a4806d22a",
       "version_major": 2,
       "version_minor": 0
      },
      "text/plain": [
       "Validation: |          | 0/? [00:00<?, ?it/s]"
      ]
     },
     "metadata": {},
     "output_type": "display_data"
    },
    {
     "data": {
      "application/vnd.jupyter.widget-view+json": {
       "model_id": "d27354e0934047709c50d256f217a777",
       "version_major": 2,
       "version_minor": 0
      },
      "text/plain": [
       "Validation: |          | 0/? [00:00<?, ?it/s]"
      ]
     },
     "metadata": {},
     "output_type": "display_data"
    },
    {
     "data": {
      "application/vnd.jupyter.widget-view+json": {
       "model_id": "5e910dabac1644e79e09b9d060f71d71",
       "version_major": 2,
       "version_minor": 0
      },
      "text/plain": [
       "Validation: |          | 0/? [00:00<?, ?it/s]"
      ]
     },
     "metadata": {},
     "output_type": "display_data"
    },
    {
     "data": {
      "application/vnd.jupyter.widget-view+json": {
       "model_id": "e0583335d7704aa581273535266fe025",
       "version_major": 2,
       "version_minor": 0
      },
      "text/plain": [
       "Validation: |          | 0/? [00:00<?, ?it/s]"
      ]
     },
     "metadata": {},
     "output_type": "display_data"
    },
    {
     "data": {
      "application/vnd.jupyter.widget-view+json": {
       "model_id": "8c0258fcd4e44645b0a176d1c4413cfe",
       "version_major": 2,
       "version_minor": 0
      },
      "text/plain": [
       "Validation: |          | 0/? [00:00<?, ?it/s]"
      ]
     },
     "metadata": {},
     "output_type": "display_data"
    },
    {
     "data": {
      "application/vnd.jupyter.widget-view+json": {
       "model_id": "05d9cc7b3e1c431a9f7be351f8a408cf",
       "version_major": 2,
       "version_minor": 0
      },
      "text/plain": [
       "Validation: |          | 0/? [00:00<?, ?it/s]"
      ]
     },
     "metadata": {},
     "output_type": "display_data"
    },
    {
     "data": {
      "application/vnd.jupyter.widget-view+json": {
       "model_id": "46fb494737e44bfd85b351c2072b152b",
       "version_major": 2,
       "version_minor": 0
      },
      "text/plain": [
       "Validation: |          | 0/? [00:00<?, ?it/s]"
      ]
     },
     "metadata": {},
     "output_type": "display_data"
    },
    {
     "data": {
      "application/vnd.jupyter.widget-view+json": {
       "model_id": "634e84f4285e443d8b933f9a5454ef9b",
       "version_major": 2,
       "version_minor": 0
      },
      "text/plain": [
       "Validation: |          | 0/? [00:00<?, ?it/s]"
      ]
     },
     "metadata": {},
     "output_type": "display_data"
    },
    {
     "data": {
      "application/vnd.jupyter.widget-view+json": {
       "model_id": "0a2a2324c7dc4cc6a0cf38d4116a0b2d",
       "version_major": 2,
       "version_minor": 0
      },
      "text/plain": [
       "Validation: |          | 0/? [00:00<?, ?it/s]"
      ]
     },
     "metadata": {},
     "output_type": "display_data"
    },
    {
     "data": {
      "application/vnd.jupyter.widget-view+json": {
       "model_id": "65bfb8f8da1e4e7ab6afa26d101cf282",
       "version_major": 2,
       "version_minor": 0
      },
      "text/plain": [
       "Validation: |          | 0/? [00:00<?, ?it/s]"
      ]
     },
     "metadata": {},
     "output_type": "display_data"
    },
    {
     "data": {
      "application/vnd.jupyter.widget-view+json": {
       "model_id": "0cd5f74ad7db404bb85d78862665b4dd",
       "version_major": 2,
       "version_minor": 0
      },
      "text/plain": [
       "Validation: |          | 0/? [00:00<?, ?it/s]"
      ]
     },
     "metadata": {},
     "output_type": "display_data"
    },
    {
     "data": {
      "application/vnd.jupyter.widget-view+json": {
       "model_id": "22a04a0ce8de4c1e818afd33e086e591",
       "version_major": 2,
       "version_minor": 0
      },
      "text/plain": [
       "Validation: |          | 0/? [00:00<?, ?it/s]"
      ]
     },
     "metadata": {},
     "output_type": "display_data"
    },
    {
     "data": {
      "application/vnd.jupyter.widget-view+json": {
       "model_id": "530a37807da94ebca9947802a206e109",
       "version_major": 2,
       "version_minor": 0
      },
      "text/plain": [
       "Validation: |          | 0/? [00:00<?, ?it/s]"
      ]
     },
     "metadata": {},
     "output_type": "display_data"
    },
    {
     "data": {
      "application/vnd.jupyter.widget-view+json": {
       "model_id": "8aa099ca3c7146bfba56f8c1c0374818",
       "version_major": 2,
       "version_minor": 0
      },
      "text/plain": [
       "Validation: |          | 0/? [00:00<?, ?it/s]"
      ]
     },
     "metadata": {},
     "output_type": "display_data"
    },
    {
     "data": {
      "application/vnd.jupyter.widget-view+json": {
       "model_id": "3bd0616c8b744bb88d75c914eebde250",
       "version_major": 2,
       "version_minor": 0
      },
      "text/plain": [
       "Validation: |          | 0/? [00:00<?, ?it/s]"
      ]
     },
     "metadata": {},
     "output_type": "display_data"
    },
    {
     "data": {
      "application/vnd.jupyter.widget-view+json": {
       "model_id": "53c17290ca434dbf8511f9b822df963e",
       "version_major": 2,
       "version_minor": 0
      },
      "text/plain": [
       "Validation: |          | 0/? [00:00<?, ?it/s]"
      ]
     },
     "metadata": {},
     "output_type": "display_data"
    },
    {
     "data": {
      "application/vnd.jupyter.widget-view+json": {
       "model_id": "45df2c64d59b4ea8b730465f9d696a3a",
       "version_major": 2,
       "version_minor": 0
      },
      "text/plain": [
       "Validation: |          | 0/? [00:00<?, ?it/s]"
      ]
     },
     "metadata": {},
     "output_type": "display_data"
    },
    {
     "data": {
      "application/vnd.jupyter.widget-view+json": {
       "model_id": "a185ba0ff81b4debaade3f4b0e828617",
       "version_major": 2,
       "version_minor": 0
      },
      "text/plain": [
       "Validation: |          | 0/? [00:00<?, ?it/s]"
      ]
     },
     "metadata": {},
     "output_type": "display_data"
    },
    {
     "data": {
      "application/vnd.jupyter.widget-view+json": {
       "model_id": "3c0a12b621264a8996e19a8203bcea98",
       "version_major": 2,
       "version_minor": 0
      },
      "text/plain": [
       "Validation: |          | 0/? [00:00<?, ?it/s]"
      ]
     },
     "metadata": {},
     "output_type": "display_data"
    },
    {
     "data": {
      "application/vnd.jupyter.widget-view+json": {
       "model_id": "a20e39147c5b4b268975b9f4cb701162",
       "version_major": 2,
       "version_minor": 0
      },
      "text/plain": [
       "Validation: |          | 0/? [00:00<?, ?it/s]"
      ]
     },
     "metadata": {},
     "output_type": "display_data"
    },
    {
     "data": {
      "application/vnd.jupyter.widget-view+json": {
       "model_id": "d2eae5cc3bf64ba59fcc981b6afabc62",
       "version_major": 2,
       "version_minor": 0
      },
      "text/plain": [
       "Validation: |          | 0/? [00:00<?, ?it/s]"
      ]
     },
     "metadata": {},
     "output_type": "display_data"
    },
    {
     "data": {
      "application/vnd.jupyter.widget-view+json": {
       "model_id": "c2ba8331852d4f90bae18144cc3f517d",
       "version_major": 2,
       "version_minor": 0
      },
      "text/plain": [
       "Validation: |          | 0/? [00:00<?, ?it/s]"
      ]
     },
     "metadata": {},
     "output_type": "display_data"
    },
    {
     "data": {
      "application/vnd.jupyter.widget-view+json": {
       "model_id": "f893ffa7b96244e7bb3b7738328cd997",
       "version_major": 2,
       "version_minor": 0
      },
      "text/plain": [
       "Validation: |          | 0/? [00:00<?, ?it/s]"
      ]
     },
     "metadata": {},
     "output_type": "display_data"
    },
    {
     "data": {
      "application/vnd.jupyter.widget-view+json": {
       "model_id": "a9abd095e9af46508a91e88fe159331a",
       "version_major": 2,
       "version_minor": 0
      },
      "text/plain": [
       "Validation: |          | 0/? [00:00<?, ?it/s]"
      ]
     },
     "metadata": {},
     "output_type": "display_data"
    },
    {
     "data": {
      "application/vnd.jupyter.widget-view+json": {
       "model_id": "2971918e70074a9680d914387785687d",
       "version_major": 2,
       "version_minor": 0
      },
      "text/plain": [
       "Validation: |          | 0/? [00:00<?, ?it/s]"
      ]
     },
     "metadata": {},
     "output_type": "display_data"
    },
    {
     "data": {
      "application/vnd.jupyter.widget-view+json": {
       "model_id": "ff9f839d8d1e46689d62763eec198177",
       "version_major": 2,
       "version_minor": 0
      },
      "text/plain": [
       "Validation: |          | 0/? [00:00<?, ?it/s]"
      ]
     },
     "metadata": {},
     "output_type": "display_data"
    },
    {
     "data": {
      "application/vnd.jupyter.widget-view+json": {
       "model_id": "9b4fa2267e184f4a8d82f1b5d14c3416",
       "version_major": 2,
       "version_minor": 0
      },
      "text/plain": [
       "Validation: |          | 0/? [00:00<?, ?it/s]"
      ]
     },
     "metadata": {},
     "output_type": "display_data"
    },
    {
     "data": {
      "application/vnd.jupyter.widget-view+json": {
       "model_id": "167482a9087a4eacaa1c6ef42bd2177c",
       "version_major": 2,
       "version_minor": 0
      },
      "text/plain": [
       "Validation: |          | 0/? [00:00<?, ?it/s]"
      ]
     },
     "metadata": {},
     "output_type": "display_data"
    },
    {
     "data": {
      "application/vnd.jupyter.widget-view+json": {
       "model_id": "6b1c44dfc6cb40578d8b6eab0ed09f18",
       "version_major": 2,
       "version_minor": 0
      },
      "text/plain": [
       "Validation: |          | 0/? [00:00<?, ?it/s]"
      ]
     },
     "metadata": {},
     "output_type": "display_data"
    },
    {
     "data": {
      "application/vnd.jupyter.widget-view+json": {
       "model_id": "e850410b7f1f461b9b172ba7ceef415b",
       "version_major": 2,
       "version_minor": 0
      },
      "text/plain": [
       "Validation: |          | 0/? [00:00<?, ?it/s]"
      ]
     },
     "metadata": {},
     "output_type": "display_data"
    },
    {
     "data": {
      "application/vnd.jupyter.widget-view+json": {
       "model_id": "6710540fcda843d6b0fb5a947f8279a8",
       "version_major": 2,
       "version_minor": 0
      },
      "text/plain": [
       "Validation: |          | 0/? [00:00<?, ?it/s]"
      ]
     },
     "metadata": {},
     "output_type": "display_data"
    },
    {
     "data": {
      "application/vnd.jupyter.widget-view+json": {
       "model_id": "098997c6269d45f1a00d34667aee061a",
       "version_major": 2,
       "version_minor": 0
      },
      "text/plain": [
       "Validation: |          | 0/? [00:00<?, ?it/s]"
      ]
     },
     "metadata": {},
     "output_type": "display_data"
    },
    {
     "data": {
      "application/vnd.jupyter.widget-view+json": {
       "model_id": "8bde810db745485c98a3469e055e6ea8",
       "version_major": 2,
       "version_minor": 0
      },
      "text/plain": [
       "Validation: |          | 0/? [00:00<?, ?it/s]"
      ]
     },
     "metadata": {},
     "output_type": "display_data"
    },
    {
     "data": {
      "application/vnd.jupyter.widget-view+json": {
       "model_id": "6def8e7686714e329783de51b9ffb26b",
       "version_major": 2,
       "version_minor": 0
      },
      "text/plain": [
       "Validation: |          | 0/? [00:00<?, ?it/s]"
      ]
     },
     "metadata": {},
     "output_type": "display_data"
    },
    {
     "data": {
      "application/vnd.jupyter.widget-view+json": {
       "model_id": "f23d7b82659f4ad7a52f55381572912c",
       "version_major": 2,
       "version_minor": 0
      },
      "text/plain": [
       "Validation: |          | 0/? [00:00<?, ?it/s]"
      ]
     },
     "metadata": {},
     "output_type": "display_data"
    },
    {
     "data": {
      "application/vnd.jupyter.widget-view+json": {
       "model_id": "6fadd69d90b942a893778e9da532707c",
       "version_major": 2,
       "version_minor": 0
      },
      "text/plain": [
       "Validation: |          | 0/? [00:00<?, ?it/s]"
      ]
     },
     "metadata": {},
     "output_type": "display_data"
    },
    {
     "data": {
      "application/vnd.jupyter.widget-view+json": {
       "model_id": "67887cf3633e476b877a443f1067e1b3",
       "version_major": 2,
       "version_minor": 0
      },
      "text/plain": [
       "Validation: |          | 0/? [00:00<?, ?it/s]"
      ]
     },
     "metadata": {},
     "output_type": "display_data"
    },
    {
     "data": {
      "application/vnd.jupyter.widget-view+json": {
       "model_id": "c4b54de18b3d4466ac60ad376515a25d",
       "version_major": 2,
       "version_minor": 0
      },
      "text/plain": [
       "Validation: |          | 0/? [00:00<?, ?it/s]"
      ]
     },
     "metadata": {},
     "output_type": "display_data"
    },
    {
     "data": {
      "application/vnd.jupyter.widget-view+json": {
       "model_id": "47d56698608c4a3a913eb348f9bfd008",
       "version_major": 2,
       "version_minor": 0
      },
      "text/plain": [
       "Validation: |          | 0/? [00:00<?, ?it/s]"
      ]
     },
     "metadata": {},
     "output_type": "display_data"
    },
    {
     "data": {
      "application/vnd.jupyter.widget-view+json": {
       "model_id": "06e264bb716f4834bb422589e5294339",
       "version_major": 2,
       "version_minor": 0
      },
      "text/plain": [
       "Validation: |          | 0/? [00:00<?, ?it/s]"
      ]
     },
     "metadata": {},
     "output_type": "display_data"
    },
    {
     "data": {
      "application/vnd.jupyter.widget-view+json": {
       "model_id": "38300c7e08cc4296be8d0c559e2ae7b8",
       "version_major": 2,
       "version_minor": 0
      },
      "text/plain": [
       "Validation: |          | 0/? [00:00<?, ?it/s]"
      ]
     },
     "metadata": {},
     "output_type": "display_data"
    },
    {
     "data": {
      "application/vnd.jupyter.widget-view+json": {
       "model_id": "0b3a3be5d7204f438ca0e30b4f98c9b9",
       "version_major": 2,
       "version_minor": 0
      },
      "text/plain": [
       "Validation: |          | 0/? [00:00<?, ?it/s]"
      ]
     },
     "metadata": {},
     "output_type": "display_data"
    },
    {
     "data": {
      "application/vnd.jupyter.widget-view+json": {
       "model_id": "4a90459c01b243989ffd3135749fab90",
       "version_major": 2,
       "version_minor": 0
      },
      "text/plain": [
       "Validation: |          | 0/? [00:00<?, ?it/s]"
      ]
     },
     "metadata": {},
     "output_type": "display_data"
    },
    {
     "data": {
      "application/vnd.jupyter.widget-view+json": {
       "model_id": "5a24303314594e0dbe4984b14f6cd482",
       "version_major": 2,
       "version_minor": 0
      },
      "text/plain": [
       "Validation: |          | 0/? [00:00<?, ?it/s]"
      ]
     },
     "metadata": {},
     "output_type": "display_data"
    },
    {
     "data": {
      "application/vnd.jupyter.widget-view+json": {
       "model_id": "2237a0c7608a494d808ef16fdc7a5833",
       "version_major": 2,
       "version_minor": 0
      },
      "text/plain": [
       "Validation: |          | 0/? [00:00<?, ?it/s]"
      ]
     },
     "metadata": {},
     "output_type": "display_data"
    },
    {
     "data": {
      "application/vnd.jupyter.widget-view+json": {
       "model_id": "6a0d0d5fe52b4b55bc07042b1a448922",
       "version_major": 2,
       "version_minor": 0
      },
      "text/plain": [
       "Validation: |          | 0/? [00:00<?, ?it/s]"
      ]
     },
     "metadata": {},
     "output_type": "display_data"
    },
    {
     "data": {
      "application/vnd.jupyter.widget-view+json": {
       "model_id": "0ed889be105a42e8b74a42a50b6b24ef",
       "version_major": 2,
       "version_minor": 0
      },
      "text/plain": [
       "Validation: |          | 0/? [00:00<?, ?it/s]"
      ]
     },
     "metadata": {},
     "output_type": "display_data"
    },
    {
     "data": {
      "application/vnd.jupyter.widget-view+json": {
       "model_id": "6f72cd025a6e4aa2b6be2996b1e76c96",
       "version_major": 2,
       "version_minor": 0
      },
      "text/plain": [
       "Validation: |          | 0/? [00:00<?, ?it/s]"
      ]
     },
     "metadata": {},
     "output_type": "display_data"
    },
    {
     "data": {
      "application/vnd.jupyter.widget-view+json": {
       "model_id": "12d804d078474ee49f742800c9e98b68",
       "version_major": 2,
       "version_minor": 0
      },
      "text/plain": [
       "Validation: |          | 0/? [00:00<?, ?it/s]"
      ]
     },
     "metadata": {},
     "output_type": "display_data"
    },
    {
     "data": {
      "application/vnd.jupyter.widget-view+json": {
       "model_id": "8acd6386d0034eb79ca5df840d0fd093",
       "version_major": 2,
       "version_minor": 0
      },
      "text/plain": [
       "Validation: |          | 0/? [00:00<?, ?it/s]"
      ]
     },
     "metadata": {},
     "output_type": "display_data"
    },
    {
     "data": {
      "application/vnd.jupyter.widget-view+json": {
       "model_id": "017498b0c019484dbf2d8cdeed70b88c",
       "version_major": 2,
       "version_minor": 0
      },
      "text/plain": [
       "Validation: |          | 0/? [00:00<?, ?it/s]"
      ]
     },
     "metadata": {},
     "output_type": "display_data"
    },
    {
     "data": {
      "application/vnd.jupyter.widget-view+json": {
       "model_id": "767f170296d44eab86d99e0a68d3b9dd",
       "version_major": 2,
       "version_minor": 0
      },
      "text/plain": [
       "Validation: |          | 0/? [00:00<?, ?it/s]"
      ]
     },
     "metadata": {},
     "output_type": "display_data"
    },
    {
     "data": {
      "application/vnd.jupyter.widget-view+json": {
       "model_id": "a4890102ed7240ee8ecd6bddc6011cf7",
       "version_major": 2,
       "version_minor": 0
      },
      "text/plain": [
       "Validation: |          | 0/? [00:00<?, ?it/s]"
      ]
     },
     "metadata": {},
     "output_type": "display_data"
    },
    {
     "data": {
      "application/vnd.jupyter.widget-view+json": {
       "model_id": "0a4f07ac46d942cb8fc0eef475077246",
       "version_major": 2,
       "version_minor": 0
      },
      "text/plain": [
       "Validation: |          | 0/? [00:00<?, ?it/s]"
      ]
     },
     "metadata": {},
     "output_type": "display_data"
    },
    {
     "data": {
      "application/vnd.jupyter.widget-view+json": {
       "model_id": "b90a49d50f1c4fcabbdc5c43980f4574",
       "version_major": 2,
       "version_minor": 0
      },
      "text/plain": [
       "Validation: |          | 0/? [00:00<?, ?it/s]"
      ]
     },
     "metadata": {},
     "output_type": "display_data"
    },
    {
     "data": {
      "application/vnd.jupyter.widget-view+json": {
       "model_id": "b2e8ab6c65364ee59d0d55e96e0aa945",
       "version_major": 2,
       "version_minor": 0
      },
      "text/plain": [
       "Validation: |          | 0/? [00:00<?, ?it/s]"
      ]
     },
     "metadata": {},
     "output_type": "display_data"
    },
    {
     "data": {
      "application/vnd.jupyter.widget-view+json": {
       "model_id": "28fd7e3371164508a7f6daab308e6ec0",
       "version_major": 2,
       "version_minor": 0
      },
      "text/plain": [
       "Validation: |          | 0/? [00:00<?, ?it/s]"
      ]
     },
     "metadata": {},
     "output_type": "display_data"
    },
    {
     "data": {
      "application/vnd.jupyter.widget-view+json": {
       "model_id": "67fb2d141ae0410e95a9a38c0417f83a",
       "version_major": 2,
       "version_minor": 0
      },
      "text/plain": [
       "Validation: |          | 0/? [00:00<?, ?it/s]"
      ]
     },
     "metadata": {},
     "output_type": "display_data"
    },
    {
     "data": {
      "application/vnd.jupyter.widget-view+json": {
       "model_id": "09aa280f19a04c8a83a5d8262b032fe4",
       "version_major": 2,
       "version_minor": 0
      },
      "text/plain": [
       "Validation: |          | 0/? [00:00<?, ?it/s]"
      ]
     },
     "metadata": {},
     "output_type": "display_data"
    },
    {
     "data": {
      "application/vnd.jupyter.widget-view+json": {
       "model_id": "71edee9096ff4cada6f1116db9a172ec",
       "version_major": 2,
       "version_minor": 0
      },
      "text/plain": [
       "Validation: |          | 0/? [00:00<?, ?it/s]"
      ]
     },
     "metadata": {},
     "output_type": "display_data"
    },
    {
     "data": {
      "application/vnd.jupyter.widget-view+json": {
       "model_id": "b2b8e5d1af4d4bb5ba75e32ff95fda06",
       "version_major": 2,
       "version_minor": 0
      },
      "text/plain": [
       "Validation: |          | 0/? [00:00<?, ?it/s]"
      ]
     },
     "metadata": {},
     "output_type": "display_data"
    },
    {
     "data": {
      "application/vnd.jupyter.widget-view+json": {
       "model_id": "19d62c0cdf3d44c09f2825590f60248b",
       "version_major": 2,
       "version_minor": 0
      },
      "text/plain": [
       "Validation: |          | 0/? [00:00<?, ?it/s]"
      ]
     },
     "metadata": {},
     "output_type": "display_data"
    },
    {
     "data": {
      "application/vnd.jupyter.widget-view+json": {
       "model_id": "043b167f51984cbcbc795a852614c0b6",
       "version_major": 2,
       "version_minor": 0
      },
      "text/plain": [
       "Validation: |          | 0/? [00:00<?, ?it/s]"
      ]
     },
     "metadata": {},
     "output_type": "display_data"
    },
    {
     "data": {
      "application/vnd.jupyter.widget-view+json": {
       "model_id": "ced9547c38a94f81b9fe0379f17e9491",
       "version_major": 2,
       "version_minor": 0
      },
      "text/plain": [
       "Validation: |          | 0/? [00:00<?, ?it/s]"
      ]
     },
     "metadata": {},
     "output_type": "display_data"
    },
    {
     "data": {
      "application/vnd.jupyter.widget-view+json": {
       "model_id": "b09cd842b3ae45e79a2a97920d1d57f2",
       "version_major": 2,
       "version_minor": 0
      },
      "text/plain": [
       "Validation: |          | 0/? [00:00<?, ?it/s]"
      ]
     },
     "metadata": {},
     "output_type": "display_data"
    },
    {
     "data": {
      "application/vnd.jupyter.widget-view+json": {
       "model_id": "b00760f3db6f4f5e849d6cadad2ce8e2",
       "version_major": 2,
       "version_minor": 0
      },
      "text/plain": [
       "Validation: |          | 0/? [00:00<?, ?it/s]"
      ]
     },
     "metadata": {},
     "output_type": "display_data"
    },
    {
     "data": {
      "application/vnd.jupyter.widget-view+json": {
       "model_id": "7218f19d3fe74d6ba7f6d3a2ade7c9f4",
       "version_major": 2,
       "version_minor": 0
      },
      "text/plain": [
       "Validation: |          | 0/? [00:00<?, ?it/s]"
      ]
     },
     "metadata": {},
     "output_type": "display_data"
    },
    {
     "data": {
      "application/vnd.jupyter.widget-view+json": {
       "model_id": "71e691a2da70410a85a64b59109d301d",
       "version_major": 2,
       "version_minor": 0
      },
      "text/plain": [
       "Validation: |          | 0/? [00:00<?, ?it/s]"
      ]
     },
     "metadata": {},
     "output_type": "display_data"
    },
    {
     "data": {
      "application/vnd.jupyter.widget-view+json": {
       "model_id": "7878b95f4bce48d1b2d7ba674027437c",
       "version_major": 2,
       "version_minor": 0
      },
      "text/plain": [
       "Validation: |          | 0/? [00:00<?, ?it/s]"
      ]
     },
     "metadata": {},
     "output_type": "display_data"
    },
    {
     "data": {
      "application/vnd.jupyter.widget-view+json": {
       "model_id": "16e8a033ece340a59637f8e75843e5f6",
       "version_major": 2,
       "version_minor": 0
      },
      "text/plain": [
       "Validation: |          | 0/? [00:00<?, ?it/s]"
      ]
     },
     "metadata": {},
     "output_type": "display_data"
    },
    {
     "data": {
      "application/vnd.jupyter.widget-view+json": {
       "model_id": "b351a7b6566944cdae85c7ec2d3e6d2e",
       "version_major": 2,
       "version_minor": 0
      },
      "text/plain": [
       "Validation: |          | 0/? [00:00<?, ?it/s]"
      ]
     },
     "metadata": {},
     "output_type": "display_data"
    },
    {
     "data": {
      "application/vnd.jupyter.widget-view+json": {
       "model_id": "6a5c031ab1434d61b0fdd8c960aee24e",
       "version_major": 2,
       "version_minor": 0
      },
      "text/plain": [
       "Validation: |          | 0/? [00:00<?, ?it/s]"
      ]
     },
     "metadata": {},
     "output_type": "display_data"
    },
    {
     "data": {
      "application/vnd.jupyter.widget-view+json": {
       "model_id": "4aa07436bd8a42aab18b7549350fda81",
       "version_major": 2,
       "version_minor": 0
      },
      "text/plain": [
       "Validation: |          | 0/? [00:00<?, ?it/s]"
      ]
     },
     "metadata": {},
     "output_type": "display_data"
    },
    {
     "name": "stderr",
     "output_type": "stream",
     "text": [
      "`Trainer.fit` stopped: `max_epochs=100` reached.\n"
     ]
    },
    {
     "ename": "UnpicklingError",
     "evalue": "Weights only load failed. This file can still be loaded, to do so you have two options, \u001b[1mdo those steps only if you trust the source of the checkpoint\u001b[0m. \n\t(1) In PyTorch 2.6, we changed the default value of the `weights_only` argument in `torch.load` from `False` to `True`. Re-running `torch.load` with `weights_only` set to `False` will likely succeed, but it can result in arbitrary code execution. Do it only if you got the file from a trusted source.\n\t(2) Alternatively, to load with `weights_only=True` please check the recommended steps in the following error message.\n\tWeightsUnpickler error: Unsupported global: GLOBAL pathlib.WindowsPath was not an allowed global by default. Please use `torch.serialization.add_safe_globals([WindowsPath])` or the `torch.serialization.safe_globals([WindowsPath])` context manager to allowlist this global if you trust this class/function.\n\nCheck the documentation of torch.load to learn more about types accepted by default with weights_only https://pytorch.org/docs/stable/generated/torch.load.html.",
     "output_type": "error",
     "traceback": [
      "\u001b[31m---------------------------------------------------------------------------\u001b[39m",
      "\u001b[31mUnpicklingError\u001b[39m                           Traceback (most recent call last)",
      "\u001b[36mCell\u001b[39m\u001b[36m \u001b[39m\u001b[32mIn[6]\u001b[39m\u001b[32m, line 39\u001b[39m\n\u001b[32m     37\u001b[39m trainer.fit(model, datamodule=dm)\n\u001b[32m     38\u001b[39m best_path = trainer.checkpoint_callback.best_model_path\n\u001b[32m---> \u001b[39m\u001b[32m39\u001b[39m model.load_state_dict(\u001b[43mtorch\u001b[49m\u001b[43m.\u001b[49m\u001b[43mload\u001b[49m\u001b[43m(\u001b[49m\u001b[43mbest_path\u001b[49m\u001b[43m,\u001b[49m\u001b[43m \u001b[49m\u001b[43mmap_location\u001b[49m\u001b[43m=\u001b[49m\u001b[33;43m\"\u001b[39;49m\u001b[33;43mcpu\u001b[39;49m\u001b[33;43m\"\u001b[39;49m\u001b[43m)\u001b[49m[\u001b[33m\"\u001b[39m\u001b[33mstate_dict\u001b[39m\u001b[33m\"\u001b[39m])\n\u001b[32m     41\u001b[39m \u001b[38;5;66;03m# save weights + config next to lightning checkpoint\u001b[39;00m\n\u001b[32m     42\u001b[39m out_dir = Path.cwd() / \u001b[33m\"\u001b[39m\u001b[33mlogs\u001b[39m\u001b[33m\"\u001b[39m / \u001b[33m\"\u001b[39m\u001b[33meyes\u001b[39m\u001b[33m\"\u001b[39m / \u001b[33m\"\u001b[39m\u001b[33mfinal\u001b[39m\u001b[33m\"\u001b[39m / start_time\n",
      "\u001b[36mFile \u001b[39m\u001b[32mc:\\Users\\Youssef\\Desktop\\TFG\\eye-tracker-vocacions\\.venv\\Lib\\site-packages\\torch\\serialization.py:1470\u001b[39m, in \u001b[36mload\u001b[39m\u001b[34m(f, map_location, pickle_module, weights_only, mmap, **pickle_load_args)\u001b[39m\n\u001b[32m   1462\u001b[39m                 \u001b[38;5;28;01mreturn\u001b[39;00m _load(\n\u001b[32m   1463\u001b[39m                     opened_zipfile,\n\u001b[32m   1464\u001b[39m                     map_location,\n\u001b[32m   (...)\u001b[39m\u001b[32m   1467\u001b[39m                     **pickle_load_args,\n\u001b[32m   1468\u001b[39m                 )\n\u001b[32m   1469\u001b[39m             \u001b[38;5;28;01mexcept\u001b[39;00m pickle.UnpicklingError \u001b[38;5;28;01mas\u001b[39;00m e:\n\u001b[32m-> \u001b[39m\u001b[32m1470\u001b[39m                 \u001b[38;5;28;01mraise\u001b[39;00m pickle.UnpicklingError(_get_wo_message(\u001b[38;5;28mstr\u001b[39m(e))) \u001b[38;5;28;01mfrom\u001b[39;00m\u001b[38;5;250m \u001b[39m\u001b[38;5;28;01mNone\u001b[39;00m\n\u001b[32m   1471\u001b[39m         \u001b[38;5;28;01mreturn\u001b[39;00m _load(\n\u001b[32m   1472\u001b[39m             opened_zipfile,\n\u001b[32m   1473\u001b[39m             map_location,\n\u001b[32m   (...)\u001b[39m\u001b[32m   1476\u001b[39m             **pickle_load_args,\n\u001b[32m   1477\u001b[39m         )\n\u001b[32m   1478\u001b[39m \u001b[38;5;28;01mif\u001b[39;00m mmap:\n",
      "\u001b[31mUnpicklingError\u001b[39m: Weights only load failed. This file can still be loaded, to do so you have two options, \u001b[1mdo those steps only if you trust the source of the checkpoint\u001b[0m. \n\t(1) In PyTorch 2.6, we changed the default value of the `weights_only` argument in `torch.load` from `False` to `True`. Re-running `torch.load` with `weights_only` set to `False` will likely succeed, but it can result in arbitrary code execution. Do it only if you got the file from a trusted source.\n\t(2) Alternatively, to load with `weights_only=True` please check the recommended steps in the following error message.\n\tWeightsUnpickler error: Unsupported global: GLOBAL pathlib.WindowsPath was not an allowed global by default. Please use `torch.serialization.add_safe_globals([WindowsPath])` or the `torch.serialization.safe_globals([WindowsPath])` context manager to allowlist this global if you trust this class/function.\n\nCheck the documentation of torch.load to learn more about types accepted by default with weights_only https://pytorch.org/docs/stable/generated/torch.load.html."
     ]
    }
   ],
   "source": [
    "start_time = datetime.datetime.now().strftime(\"%Y-%b-%d %H-%M-%S\")\n",
    "\n",
    "tune_dir = Path.cwd() / \"logs\" / \"eyes\"\n",
    "best_cfg = get_best_results(latest_tune_dir(tune_dir))\n",
    "pl.seed_everything(best_cfg[\"seed\"])\n",
    "\n",
    "dm = GazeDataModule(\n",
    "    data_dir = Path.cwd() / \"data\",\n",
    "    batch_size = best_cfg[\"bs\"],\n",
    "    img_types = [\"l_eye\", \"r_eye\"],\n",
    "    seed = best_cfg[\"seed\"],\n",
    ")\n",
    "\n",
    "model = _build_model(best_cfg, [\"l_eye\", \"r_eye\"])\n",
    "\n",
    "trainer = pl.Trainer(\n",
    "    max_epochs = 100,\n",
    "    accelerator = \"auto\",\n",
    "    devices = \"auto\",\n",
    "    precision = \"bf16-mixed\",\n",
    "    logger = TensorBoardLogger(\n",
    "        save_dir = Path.cwd() / \"logs\",\n",
    "        name     = f\"eyes/final/{start_time}\",\n",
    "        log_graph = True,\n",
    "    ),\n",
    "    callbacks = [\n",
    "        pl.callbacks.ModelCheckpoint(\n",
    "            filename = \"best\",\n",
    "            monitor  = \"val_loss\",\n",
    "            mode     = \"min\",\n",
    "            save_last = True,\n",
    "            save_top_k = 1,\n",
    "        )\n",
    "    ],\n",
    ")\n",
    "\n",
    "trainer.fit(model, datamodule=dm)\n",
    "best_path = trainer.checkpoint_callback.best_model_path\n",
    "state = torch.load(best_path, map_location=\"cpu\", weights_only=False)\n",
    "model.load_state_dict(state[\"state_dict\"])\n",
    "\n",
    "out_dir = Path.cwd() / \"logs\" / \"eyes\" / \"final\" / start_time\n",
    "out_dir.mkdir(parents=True, exist_ok=True)\n",
    "\n",
    "save_model(\n",
    "    model.cpu(),\n",
    "    best_cfg,\n",
    "    out_dir / \"eyetracking_model.pt\",\n",
    "    out_dir / \"eyetracking_config.json\",\n",
    ")"
   ]
  },
  {
   "cell_type": "code",
   "execution_count": null,
   "metadata": {},
   "outputs": [],
   "source": [
    "best_path = trainer.checkpoint_callback.best_model_path\n",
    "state = torch.load(best_path, map_location=\"cpu\", weights_only=False)\n",
    "model.load_state_dict(state[\"state_dict\"])\n",
    "\n",
    "\n",
    "out_dir = Path.cwd() / \"logs\" / \"eyes\" / \"final\" / start_time\n",
    "out_dir.mkdir(parents=True, exist_ok=True)\n",
    "\n",
    "save_model(\n",
    "    model.cpu(),\n",
    "    best_cfg,\n",
    "    out_dir / \"eyetracking_model.pt\",\n",
    "    out_dir / \"eyetracking_config.json\",\n",
    ")"
   ]
  },
  {
   "cell_type": "markdown",
   "metadata": {},
   "source": [
    "### Model Evaluation"
   ]
  },
  {
   "cell_type": "code",
   "execution_count": 10,
   "metadata": {},
   "outputs": [
    {
     "name": "stderr",
     "output_type": "stream",
     "text": [
      "Restoring states from the checkpoint path at c:\\Users\\Youssef\\Desktop\\TFG\\eye-tracker-vocacions\\src\\logs\\eyes/final/2025-May-13 22-25-01\\version_0\\checkpoints\\best.ckpt\n",
      "LOCAL_RANK: 0 - CUDA_VISIBLE_DEVICES: [0]\n",
      "c:\\Users\\Youssef\\Desktop\\TFG\\eye-tracker-vocacions\\.venv\\Lib\\site-packages\\pytorch_lightning\\loggers\\tensorboard.py:200: Could not log computational graph to TensorBoard: The `input_array` or `model.example_input_array` has type <class 'list'> which can't be traced by TensorBoard. Make the input array a tuple representing the positional arguments to the model's `forward()` implementation.\n",
      "Loaded model weights from the checkpoint at c:\\Users\\Youssef\\Desktop\\TFG\\eye-tracker-vocacions\\src\\logs\\eyes/final/2025-May-13 22-25-01\\version_0\\checkpoints\\best.ckpt\n"
     ]
    },
    {
     "data": {
      "application/vnd.jupyter.widget-view+json": {
       "model_id": "cec663aa23cd46aaa46ade40e317dfef",
       "version_major": 2,
       "version_minor": 0
      },
      "text/plain": [
       "Testing: |          | 0/? [00:00<?, ?it/s]"
      ]
     },
     "metadata": {},
     "output_type": "display_data"
    },
    {
     "name": "stdout",
     "output_type": "stream",
     "text": [
      "────────────────────────────────────────────────────────────────────────────────────────────────────────────────────────\n",
      "       Test metric             DataLoader 0\n",
      "────────────────────────────────────────────────────────────────────────────────────────────────────────────────────────\n",
      "     test_loss_epoch         37.69131851196289\n",
      "     test_mae_epoch          38.18735122680664\n",
      "        test_mse              3410.6044921875\n",
      "        test_rmse           57.935516357421875\n",
      "────────────────────────────────────────────────────────────────────────────────────────────────────────────────────────\n",
      "────────  Test set  ────────\n",
      "MSE   :  3410.60  px²\n",
      "RMSE  :    57.94  px\n",
      "MAE   :    38.19  px\n",
      "Loss  :    37.69  (Smooth-L1)\n"
     ]
    }
   ],
   "source": [
    "test_results = trainer.test(ckpt_path=\"best\", datamodule=dm)[0]\n",
    "\n",
    "loss = test_results[\"test_loss_epoch\"]\n",
    "mae  = test_results[\"test_mae_epoch\"]\n",
    "\n",
    "# admite ambas variantes por si en otro experimento cambias los flags\n",
    "mse  = test_results.get(\"test_mse_epoch\",  test_results.get(\"test_mse\"))\n",
    "rmse = test_results.get(\"test_rmse_epoch\", test_results.get(\"test_rmse\"))\n",
    "\n",
    "print(\"────────  Test set  ────────\")\n",
    "print(f\"MSE   : {mse:8.2f}  px²\")\n",
    "print(f\"RMSE  : {rmse:8.2f}  px\")\n",
    "print(f\"MAE   : {mae:8.2f}  px\")\n",
    "print(f\"Loss  : {loss:8.2f}  (Smooth-L1)\")\n"
   ]
  },
  {
   "cell_type": "code",
   "execution_count": null,
   "metadata": {},
   "outputs": [
    {
     "data": {
      "application/vnd.jupyter.widget-view+json": {
       "model_id": "8530e60fd968449099066d64c884e748",
       "version_major": 2,
       "version_minor": 0
      },
      "text/plain": [
       "  0%|          | 0/20077 [00:00<?, ?it/s]"
      ]
     },
     "metadata": {},
     "output_type": "display_data"
    },
    {
     "name": "stdout",
     "output_type": "stream",
     "text": [
      "Average error: 52.54px over 2008 samples\n"
     ]
    },
    {
     "data": {
      "image/png": "[encoded data removed]",
      "text/plain": [
       "<Figure size 640x480 with 2 Axes>"
      ]
     },
     "metadata": {},
     "output_type": "display_data"
    },
    {
     "data": {
      "image/png": "[encoded data removed]",
      "text/plain": [
       "<Figure size 640x480 with 1 Axes>"
      ]
     },
     "metadata": {},
     "output_type": "display_data"
    }
   ],
   "source": [
    "predict_screen_errors(\n",
    "    \"l_eye\",\n",
    "    \"r_eye\",\n",
    "    path_model  = out_dir/\"eyetracking_model.pt\",\n",
    "    path_config = out_dir/\"eyetracking_config.json\",\n",
    "    path_plot   = out_dir/\"error_heatmap_eyes.png\",\n",
    "    path_errors = out_dir/\"errors.npy\",\n",
    "    steps       = 10,\n",
    ")"
   ]
  }
 ],
 "metadata": {
  "kernelspec": {
   "display_name": ".venv",
   "language": "python",
   "name": "python3"
  },
  "language_info": {
   "codemirror_mode": {
    "name": "ipython",
    "version": 3
   },
   "file_extension": ".py",
   "mimetype": "text/x-python",
   "name": "python",
   "nbconvert_exporter": "python",
   "pygments_lexer": "ipython3",
   "version": "3.12.6"
  }
 },
 "nbformat": 4,
 "nbformat_minor": 2
}
